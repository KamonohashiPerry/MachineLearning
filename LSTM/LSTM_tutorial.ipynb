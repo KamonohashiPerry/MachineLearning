{
 "cells": [
  {
   "cell_type": "code",
   "execution_count": 1,
   "metadata": {},
   "outputs": [],
   "source": [
    "from IPython.display import Image\n",
    "from IPython.core.display import HTML \n",
    "\n",
    "import warnings\n",
    "warnings.filterwarnings('ignore')"
   ]
  },
  {
   "cell_type": "markdown",
   "metadata": {},
   "source": [
    "# LSTMを用いた文書分類について調べてみる"
   ]
  },
  {
   "cell_type": "markdown",
   "metadata": {},
   "source": [
    "## LSTMとは\n",
    "+ モチベーション\n",
    " + 単純なRNNの課題と制限を解決するために提案された手法。\n",
    "   + 単純なRNNに置き換えることで性能が大幅に向上することも珍しくない。\n",
    "    + 勾配消失問題に強い、\n",
    " \n",
    "+ Long Short-Term Memory：長短期記憶 \n",
    "  + 長期依存性を学習できるRNNの亜種。\n",
    "  + 再帰的な層をRNNと同様に用いる。\n",
    " \n",
    "$$\n",
    "i = \\sigma (W_i h_{t-1} + U_i x_t) \\\\\\\n",
    "f = \\sigma (W_f h_{t-1} + U_f x_t) \\\\\\\n",
    "o = \\sigma (W_o h_{t-1} + U_ox_t ) \\\\\\\n",
    "g = \\tanh (W_g h_{t-1} + U_g x_t) \\\\\\\n",
    "c_t = (c_{t-1} \\otimes\tf ) \\otimes\t ( g \\otimes i) \\\\\\\n",
    "h_t = \\tanh (c_t) \\otimes o\n",
    "$$\n",
    "\n",
    "+ i：入力ゲート(input)\n",
    "+ f：忘却ゲート(forget)\n",
    "+ o：出力ゲート(output)\n",
    "+ \\\\(\\sigma\\\\)：シグモイド関数\n",
    "+ g：内部隠れ層状態\n",
    "+ \\\\(c_t\\\\)：時刻tにおけるセル状態\n",
    "+ \\\\(h_t\\\\)：時刻tにおける隠れ状態\n",
    "\n",
    "\n",
    "## 単純なRNNとは\n",
    "+ 特徴\n",
    " + 入力が互いに関係している（多層パーセプトロンの際は置かれていない仮定）\n",
    "   + 最初の文の単語が2つ目、3つ目の単語に影響を与える可能性を考慮。\n",
    " \n",
    " 隠れ層の状態は、一つ前の時刻での隠れ状態の値と現在の時刻での入力値によって決定される。（再帰的な方程式）\n",
    " $$\n",
    " h_t = \\phi (h_{t-1}, x_t ) \n",
    " $$\n",
    " \n",
    " 具体的な関数の形としては、\n",
    " $$ h_t = \\tanh (W h_{t-1} + U x_t)  \\\\\\\n",
    " y_t = softmax(V h_t)\n",
    " $$\n",
    " で与えられたりする。"
   ]
  },
  {
   "cell_type": "markdown",
   "metadata": {},
   "source": [
    "語彙外の単語をUNKで置き換える。  \n",
    "out of vocabulary（OOV）として扱う。"
   ]
  },
  {
   "cell_type": "code",
   "execution_count": null,
   "metadata": {},
   "outputs": [],
   "source": []
  },
  {
   "cell_type": "markdown",
   "metadata": {},
   "source": [
    "## Bidirectional LSTM \n",
    "+ Bidirectional LSTMs are an extension of traditional LSTMs that can improve model performance on sequence classification problems.\n",
    "\n",
    "+ Bidirectional LSTMs train two instead of one LSTMs on the input sequence.\n",
    "\n",
    "+ The first on the input sequence as-is and the second on a reversed copy of the input sequence. This can provide additional context to the network and result in faster and even fuller learning on the problem.\n",
    "\n",
    "+ It involves duplicating the first recurrent layer in the network so that there are now two layers side-by-side, then providing the input sequence as-is as input to the first layer and providing a reversed copy of the input sequence to the second.\n",
    "\n",
    "逆のものを2つの目の層に送る？ということ？\n",
    "\n",
    "従来のRNNの制約を緩和するために、ある特定の時点で過去と将来の利用可能な入力情報を用いて訓練するネットワークとしてBLSTMが考案された。  \n",
    "\n",
    "従来のRNNのニューロンをフォワードなものとバックワードなものとの2つに分ける。\n",
    "\n",
    "1997年とかなり歴史があるものらしい。\n",
    "\n",
    "全体のコンテキストを利用して推定することができるのが良いらしい。\n",
    "\n",
    "人もコンテキストを予想しながら解釈することもある。\n",
    "\n",
    "BLSTMは全てのシークエンスの予測問題において有効ではないが、適切に扱えるドメインで良い結果を残す。"
   ]
  },
  {
   "cell_type": "code",
   "execution_count": 2,
   "metadata": {},
   "outputs": [
    {
     "data": {
      "text/html": [
       "<img src=\"https://www.i2tutorials.com/wp-content/uploads/2019/05/Deep-Dive-into-Bidirectional-LSTM-i2tutorials.jpg\"/>"
      ],
      "text/plain": [
       "<IPython.core.display.Image object>"
      ]
     },
     "execution_count": 2,
     "metadata": {},
     "output_type": "execute_result"
    }
   ],
   "source": [
    "Image(url=\"https://www.i2tutorials.com/wp-content/uploads/2019/05/Deep-Dive-into-Bidirectional-LSTM-i2tutorials.jpg\")"
   ]
  },
  {
   "cell_type": "code",
   "execution_count": null,
   "metadata": {},
   "outputs": [],
   "source": []
  }
 ],
 "metadata": {
  "kernelspec": {
   "display_name": "Python [conda root]",
   "language": "python",
   "name": "conda-root-py"
  },
  "language_info": {
   "codemirror_mode": {
    "name": "ipython",
    "version": 3
   },
   "file_extension": ".py",
   "mimetype": "text/x-python",
   "name": "python",
   "nbconvert_exporter": "python",
   "pygments_lexer": "ipython3",
   "version": "3.5.6"
  },
  "toc": {
   "base_numbering": 1,
   "nav_menu": {},
   "number_sections": true,
   "sideBar": true,
   "skip_h1_title": false,
   "title_cell": "Table of Contents",
   "title_sidebar": "Contents",
   "toc_cell": false,
   "toc_position": {},
   "toc_section_display": true,
   "toc_window_display": false
  }
 },
 "nbformat": 4,
 "nbformat_minor": 2
}
