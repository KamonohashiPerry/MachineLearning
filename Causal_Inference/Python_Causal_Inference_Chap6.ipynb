{
  "nbformat": 4,
  "nbformat_minor": 0,
  "metadata": {
    "colab": {
      "name": "Python_Causal_Inference_Chap6.ipynb",
      "provenance": [],
      "collapsed_sections": [],
      "authorship_tag": "ABX9TyMnPeqcqmSPE2EoYSo7F0Lr",
      "include_colab_link": true
    },
    "kernelspec": {
      "name": "python3",
      "display_name": "Python 3"
    }
  },
  "cells": [
    {
      "cell_type": "markdown",
      "metadata": {
        "id": "view-in-github",
        "colab_type": "text"
      },
      "source": [
        "<a href=\"https://colab.research.google.com/github/KamonohashiPerry/MachineLearning/blob/master/Causal_Inference/Python_Causal_Inference_Chap6.ipynb\" target=\"_parent\"><img src=\"https://colab.research.google.com/assets/colab-badge.svg\" alt=\"Open In Colab\"/></a>"
      ]
    },
    {
      "cell_type": "markdown",
      "metadata": {
        "id": "PxOssJQ_1nMp",
        "colab_type": "text"
      },
      "source": [
        "## LiNGAM(Linear Non-Gaussian Acyclic Model)\n",
        "+ 構造方程式モデルを前提にしている。\n",
        " + 線形な構造方程式\n",
        " + 線形モデルの誤差項がガウス分布に従うノイズではない\n",
        " + DAGを扱うことを前提（循環しないということ）\n",
        "  + 行列でいうところの下三角行列"
      ]
    },
    {
      "cell_type": "markdown",
      "metadata": {
        "id": "nSWC7Pou3joM",
        "colab_type": "text"
      },
      "source": [
        "## 独立成分分析\n",
        "+ 主成分分析の発展形\n",
        "+ 相関が0になったデータをさらに線形変換して、要素間の関係を独立にさせる操作。"
      ]
    },
    {
      "cell_type": "markdown",
      "metadata": {
        "id": "UwYZaCJP9MgD",
        "colab_type": "text"
      },
      "source": [
        "### 擬似データの生成"
      ]
    },
    {
      "cell_type": "code",
      "metadata": {
        "id": "CwxKbhmF1UiY",
        "colab_type": "code",
        "colab": {}
      },
      "source": [
        "# 乱数シードの固定\n",
        "import random\n",
        "import numpy as np\n",
        "import pandas as pd\n",
        "\n",
        "random.seed(1234)\n",
        "np.random.seed(1234)"
      ],
      "execution_count": 3,
      "outputs": []
    },
    {
      "cell_type": "code",
      "metadata": {
        "id": "uIIQwFzx9byO",
        "colab_type": "code",
        "colab": {
          "base_uri": "https://localhost:8080/",
          "height": 204
        },
        "outputId": "d27ab33f-75d4-4392-b12e-8ba349385dff"
      },
      "source": [
        "# データ数\n",
        "num_data = 200\n",
        "\n",
        "# 非ガウスのノイズ\n",
        "ex1 = 2*(np.random.rand(num_data)-0.5)\n",
        "ex2 = 2*(np.random.rand(num_data)-0.5)\n",
        "ex3 = 2*(np.random.rand(num_data)-0.5)\n",
        "\n",
        "# データ生成\n",
        "x2 = ex2\n",
        "x1 = 3*x2 + ex1\n",
        "x3 = 2*x1 + 4*x2 + ex3\n",
        "\n",
        "# 表にまとめる\n",
        "df = pd.DataFrame({'x1':x1,\n",
        "                     'x2':x2,\n",
        "                     'x3':x3})\n",
        "df.head()"
      ],
      "execution_count": 4,
      "outputs": [
        {
          "output_type": "execute_result",
          "data": {
            "text/html": [
              "<div>\n",
              "<style scoped>\n",
              "    .dataframe tbody tr th:only-of-type {\n",
              "        vertical-align: middle;\n",
              "    }\n",
              "\n",
              "    .dataframe tbody tr th {\n",
              "        vertical-align: top;\n",
              "    }\n",
              "\n",
              "    .dataframe thead th {\n",
              "        text-align: right;\n",
              "    }\n",
              "</style>\n",
              "<table border=\"1\" class=\"dataframe\">\n",
              "  <thead>\n",
              "    <tr style=\"text-align: right;\">\n",
              "      <th></th>\n",
              "      <th>x1</th>\n",
              "      <th>x2</th>\n",
              "      <th>x3</th>\n",
              "    </tr>\n",
              "  </thead>\n",
              "  <tbody>\n",
              "    <tr>\n",
              "      <th>0</th>\n",
              "      <td>2.257272</td>\n",
              "      <td>0.958078</td>\n",
              "      <td>8.776842</td>\n",
              "    </tr>\n",
              "    <tr>\n",
              "      <th>1</th>\n",
              "      <td>2.531611</td>\n",
              "      <td>0.762464</td>\n",
              "      <td>8.561263</td>\n",
              "    </tr>\n",
              "    <tr>\n",
              "      <th>2</th>\n",
              "      <td>0.641547</td>\n",
              "      <td>0.255364</td>\n",
              "      <td>1.341902</td>\n",
              "    </tr>\n",
              "    <tr>\n",
              "      <th>3</th>\n",
              "      <td>3.153636</td>\n",
              "      <td>0.860973</td>\n",
              "      <td>9.322791</td>\n",
              "    </tr>\n",
              "    <tr>\n",
              "      <th>4</th>\n",
              "      <td>1.908691</td>\n",
              "      <td>0.449580</td>\n",
              "      <td>5.776675</td>\n",
              "    </tr>\n",
              "  </tbody>\n",
              "</table>\n",
              "</div>"
            ],
            "text/plain": [
              "         x1        x2        x3\n",
              "0  2.257272  0.958078  8.776842\n",
              "1  2.531611  0.762464  8.561263\n",
              "2  0.641547  0.255364  1.341902\n",
              "3  3.153636  0.860973  9.322791\n",
              "4  1.908691  0.449580  5.776675"
            ]
          },
          "metadata": {
            "tags": []
          },
          "execution_count": 4
        }
      ]
    },
    {
      "cell_type": "code",
      "metadata": {
        "id": "ugNf18JG-KZN",
        "colab_type": "code",
        "colab": {
          "base_uri": "https://localhost:8080/",
          "height": 68
        },
        "outputId": "53cd2cfe-4882-4ff0-f47a-a44dcdc52e02"
      },
      "source": [
        "# 独立成分分析\n",
        "from sklearn.decomposition import FastICA\n",
        "\n",
        "ica = FastICA(random_state=1234, max_iter=10000).fit(df)\n",
        "\n",
        "# ICAで求めた行列A\n",
        "A_ica = ica.mixing_\n",
        "\n",
        "# 行列Aの逆行列を求める\n",
        "A_ica_inv = np.linalg.pinv(A_ica)\n",
        "\n",
        "print(A_ica_inv)"
      ],
      "execution_count": 7,
      "outputs": [
        {
          "output_type": "stream",
          "text": [
            "[[-0.23203107 -0.4635971   0.1154553 ]\n",
            " [-0.02158245  0.12961253  0.00557934]\n",
            " [-0.11326384  0.40437635 -0.00563091]]\n"
          ],
          "name": "stdout"
        }
      ]
    },
    {
      "cell_type": "code",
      "metadata": {
        "id": "oMqmp-K9-UMz",
        "colab_type": "code",
        "colab": {
          "base_uri": "https://localhost:8080/",
          "height": 105
        },
        "outputId": "a641d820-d393-4b67-e607-6801d90e60d1"
      },
      "source": [
        "pip install munkres"
      ],
      "execution_count": 8,
      "outputs": [
        {
          "output_type": "stream",
          "text": [
            "Collecting munkres\n",
            "  Downloading https://files.pythonhosted.org/packages/64/97/61ddc63578870e04db6eb1d3bee58ad4e727f682068a7c7405edb8b2cdeb/munkres-1.1.2-py2.py3-none-any.whl\n",
            "Installing collected packages: munkres\n",
            "Successfully installed munkres-1.1.2\n"
          ],
          "name": "stdout"
        }
      ]
    },
    {
      "cell_type": "code",
      "metadata": {
        "id": "ylTSHQE0-yVl",
        "colab_type": "code",
        "colab": {}
      },
      "source": [
        "from munkres import Munkres\n",
        "from copy import deepcopy"
      ],
      "execution_count": 9,
      "outputs": []
    },
    {
      "cell_type": "code",
      "metadata": {
        "id": "-ctbI0EC-5BQ",
        "colab_type": "code",
        "colab": {
          "base_uri": "https://localhost:8080/",
          "height": 119
        },
        "outputId": "19e844ff-f7d3-48c8-eaef-8d0d79892cb9"
      },
      "source": [
        "# 絶対値の逆数にして対角成分の和を最小にする問題に置き換える\n",
        "A_ica_inv_small = 1 / np.abs(A_ica_inv)\n",
        "\n",
        "# 対角成分の和を最小にする行の入れ替え順を求める\n",
        "m = Munkres() # ハンガリアン法\n",
        "ixs = np.vstack(m.compute(deepcopy(A_ica_inv_small)))\n",
        "\n",
        "# 求めた順番で変換\n",
        "ixs = ixs[np.argsort(ixs[:, 0]), :]\n",
        "ixs_perm = ixs[:, 1]\n",
        "A_ica_inv_perm = np.zeros_like(A_ica_inv)\n",
        "A_ica_inv_perm[ixs_perm] = A_ica_inv\n",
        "print(A_ica_inv_perm)\n",
        "\n",
        "# 並び替わった順番\n",
        "print(ixs)"
      ],
      "execution_count": 11,
      "outputs": [
        {
          "output_type": "stream",
          "text": [
            "[[-0.11326384  0.40437635 -0.00563091]\n",
            " [-0.02158245  0.12961253  0.00557934]\n",
            " [-0.23203107 -0.4635971   0.1154553 ]]\n",
            "[[0 2]\n",
            " [1 1]\n",
            " [2 0]]\n"
          ],
          "name": "stdout"
        }
      ]
    },
    {
      "cell_type": "code",
      "metadata": {
        "id": "hnhBHVrnB-_x",
        "colab_type": "code",
        "colab": {
          "base_uri": "https://localhost:8080/",
          "height": 68
        },
        "outputId": "85842d94-0e3d-43f6-ae97-5a6ceac35921"
      },
      "source": [
        "# 行の大きさを調整\n",
        "D = np.diag(A_ica_inv_perm)[:, np.newaxis]\n",
        "A_ica_inv_perm_D = A_ica_inv_perm / D\n",
        "print(A_ica_inv_perm_D)"
      ],
      "execution_count": 12,
      "outputs": [
        {
          "output_type": "stream",
          "text": [
            "[[ 1.         -3.57021564  0.04971498]\n",
            " [-0.16651518  1.          0.0430463 ]\n",
            " [-2.00970483 -4.01538182  1.        ]]\n"
          ],
          "name": "stdout"
        }
      ]
    },
    {
      "cell_type": "code",
      "metadata": {
        "id": "tWi7Rz9XDtIn",
        "colab_type": "code",
        "colab": {
          "base_uri": "https://localhost:8080/",
          "height": 68
        },
        "outputId": "d5d08b17-bee7-4c8b-dd6f-755c066082de"
      },
      "source": [
        "# B = I - A_inv\n",
        "B_est = np.eye(3) - A_ica_inv_perm_D\n",
        "print(B_est)"
      ],
      "execution_count": 13,
      "outputs": [
        {
          "output_type": "stream",
          "text": [
            "[[ 0.          3.57021564 -0.04971498]\n",
            " [ 0.16651518  0.         -0.0430463 ]\n",
            " [ 2.00970483  4.01538182  0.        ]]\n"
          ],
          "name": "stdout"
        }
      ]
    },
    {
      "cell_type": "code",
      "metadata": {
        "id": "-DpiYSRED5uv",
        "colab_type": "code",
        "colab": {
          "base_uri": "https://localhost:8080/",
          "height": 51
        },
        "outputId": "5bf54b69-ffeb-4807-9a33-2c4c46fac0b6"
      },
      "source": [
        "# scikit-learnから線形回帰をimport\n",
        "from sklearn.linear_model import LinearRegression\n",
        "\n",
        "# 説明変数\n",
        "X1 = df[['x2']]\n",
        "X3 = df[['x1', 'x2']]\n",
        "\n",
        "# 回帰の実施\n",
        "reg1 = LinearRegression().fit(X1, df['x1'])\n",
        "reg3 = LinearRegression().fit(X3, df['x3'])\n",
        "\n",
        "# 回帰した結果の係数を出力\n",
        "print('係数：', reg1.coef_)\n",
        "print('係数：', reg3.coef_)"
      ],
      "execution_count": 15,
      "outputs": [
        {
          "output_type": "stream",
          "text": [
            "係数： [3.14642595]\n",
            "係数： [1.96164568 4.11256441]\n"
          ],
          "name": "stdout"
        }
      ]
    },
    {
      "cell_type": "code",
      "metadata": {
        "id": "37tQxU4TFFcU",
        "colab_type": "code",
        "colab": {}
      },
      "source": [
        ""
      ],
      "execution_count": null,
      "outputs": []
    }
  ]
}