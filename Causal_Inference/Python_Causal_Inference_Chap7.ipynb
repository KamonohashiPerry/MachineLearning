{
  "nbformat": 4,
  "nbformat_minor": 0,
  "metadata": {
    "colab": {
      "name": "Python_Causal_Inference_Chap7.ipynb",
      "provenance": [],
      "collapsed_sections": [],
      "authorship_tag": "ABX9TyPh3CUpNFPwKIg6yxwcxSie",
      "include_colab_link": true
    },
    "kernelspec": {
      "name": "python3",
      "display_name": "Python 3"
    }
  },
  "cells": [
    {
      "cell_type": "markdown",
      "metadata": {
        "id": "view-in-github",
        "colab_type": "text"
      },
      "source": [
        "<a href=\"https://colab.research.google.com/github/KamonohashiPerry/MachineLearning/blob/master/Causal_Inference/Python_Causal_Inference_Chap7.ipynb\" target=\"_parent\"><img src=\"https://colab.research.google.com/assets/colab-badge.svg\" alt=\"Open In Colab\"/></a>"
      ]
    },
    {
      "cell_type": "markdown",
      "metadata": {
        "id": "O1H5x6koGIch",
        "colab_type": "text"
      },
      "source": [
        "## ベイジアンネットワーク\n",
        "+ DAGを前提としている\n",
        "+ グラフ表現により変数間の関係性を示すための手法\n",
        "+ 構造方程式は使わないで、条件付き確率表を用いる。\n",
        "\n",
        "### 関連用語\n",
        "+ スケルトン\n",
        " + ノードとノードの繋がりだけを表す（やじるしなし）\n",
        "+ PDAG\n",
        " + 一部は有向で一部が無向のグラフ"
      ]
    },
    {
      "cell_type": "markdown",
      "metadata": {
        "id": "rWkzPvdCJFq7",
        "colab_type": "text"
      },
      "source": [
        "### ネットワークの当てはまりの良さ\n",
        "+ AIC\n",
        "+ BIC\n",
        "+ BDeu\n",
        "+ MDL符号\n",
        "+ BDe\n",
        "+ BDeu\n",
        "+ K2"
      ]
    },
    {
      "cell_type": "code",
      "metadata": {
        "id": "UjYPIvv4F90X",
        "colab_type": "code",
        "colab": {}
      },
      "source": [
        "# 乱数のシードを設定\n",
        "import random\n",
        "import numpy as np\n",
        "\n",
        "np.random.seed(1234)\n",
        "random.seed(1234)\n",
        "\n",
        "from numpy.random import *\n",
        "import pandas as pd"
      ],
      "execution_count": 2,
      "outputs": []
    },
    {
      "cell_type": "markdown",
      "metadata": {
        "id": "MUvVNdr-o25x",
        "colab_type": "text"
      },
      "source": [
        "データの作成"
      ]
    },
    {
      "cell_type": "code",
      "metadata": {
        "id": "wqEVCU6RoqFA",
        "colab_type": "code",
        "colab": {
          "base_uri": "https://localhost:8080/",
          "height": 204
        },
        "outputId": "e60310ac-12cc-4c24-c125-94beb66ee3e3"
      },
      "source": [
        "# データ数\n",
        "num_data = 10\n",
        "\n",
        "# x1:0か1の値をnum_data個生成、0の確率は0.6、1の確率は0.4\n",
        "x1 = np.random.choice([0, 1], num_data, p=[0.6, 0.4])\n",
        "\n",
        "# x2:0か1の値をnum_data個生成、0の確率は0.4、1の確率は0.6\n",
        "x2 = np.random.choice([0, 1], num_data, p=[0.4, 0.6])\n",
        "\n",
        "# 2変数で表にする\n",
        "df = pd.DataFrame({'x1':x1,\n",
        "                    'x2':x2})\n",
        "df.head()"
      ],
      "execution_count": 4,
      "outputs": [
        {
          "output_type": "execute_result",
          "data": {
            "text/html": [
              "<div>\n",
              "<style scoped>\n",
              "    .dataframe tbody tr th:only-of-type {\n",
              "        vertical-align: middle;\n",
              "    }\n",
              "\n",
              "    .dataframe tbody tr th {\n",
              "        vertical-align: top;\n",
              "    }\n",
              "\n",
              "    .dataframe thead th {\n",
              "        text-align: right;\n",
              "    }\n",
              "</style>\n",
              "<table border=\"1\" class=\"dataframe\">\n",
              "  <thead>\n",
              "    <tr style=\"text-align: right;\">\n",
              "      <th></th>\n",
              "      <th>x1</th>\n",
              "      <th>x2</th>\n",
              "    </tr>\n",
              "  </thead>\n",
              "  <tbody>\n",
              "    <tr>\n",
              "      <th>0</th>\n",
              "      <td>0</td>\n",
              "      <td>1</td>\n",
              "    </tr>\n",
              "    <tr>\n",
              "      <th>1</th>\n",
              "      <td>1</td>\n",
              "      <td>1</td>\n",
              "    </tr>\n",
              "    <tr>\n",
              "      <th>2</th>\n",
              "      <td>0</td>\n",
              "      <td>1</td>\n",
              "    </tr>\n",
              "    <tr>\n",
              "      <th>3</th>\n",
              "      <td>0</td>\n",
              "      <td>0</td>\n",
              "    </tr>\n",
              "    <tr>\n",
              "      <th>4</th>\n",
              "      <td>1</td>\n",
              "      <td>1</td>\n",
              "    </tr>\n",
              "  </tbody>\n",
              "</table>\n",
              "</div>"
            ],
            "text/plain": [
              "   x1  x2\n",
              "0   0   1\n",
              "1   1   1\n",
              "2   0   1\n",
              "3   0   0\n",
              "4   1   1"
            ]
          },
          "metadata": {
            "tags": []
          },
          "execution_count": 4
        }
      ]
    },
    {
      "cell_type": "code",
      "metadata": {
        "id": "dL418BEOpVg3",
        "colab_type": "code",
        "colab": {
          "base_uri": "https://localhost:8080/",
          "height": 359
        },
        "outputId": "010a3ffe-65ad-496a-a116-3984396b28f1"
      },
      "source": [
        "# 変数x3:0か1の値をnum_data個生成する\n",
        "# (x1, x2) = (0, 0)のとき、0の確率は0.2\n",
        "# (x1, x2) = (1, 0)のとき、0の確率は0.3\n",
        "# (x1, x2) = (0, 1)のとき、0の確率は0.4\n",
        "# (x1, x2) = (1, 1)のとき、0の確率は0.1\n",
        "\n",
        "x3 = []\n",
        "for i in range(num_data):\n",
        "  if x1[i] == 0 and x2[i] == 0:\n",
        "    x3_value = np.random.choice([0, 1], 1, p=[0.2, 0.8])\n",
        "    x3.append(x3_value[0])\n",
        "  elif x1[i] == 0 and x2[i] == 1:\n",
        "    x3_value = np.random.choice([0, 1], 1, p=[0.3, 0.7])\n",
        "    x3.append(x3_value[0])\n",
        "  elif x1[i] == 1 and x2[i] == 0:\n",
        "    x3_value = np.random.choice([0, 1], 1, p=[0.4, 0.6])\n",
        "    x3.append(x3_value[0])\n",
        "  elif x1[i] == 1 and x2[i] == 1:\n",
        "    x3_value = np.random.choice([0, 1], 1, p=[0.1, 0.9])\n",
        "    x3.append(x3_value[0])\n",
        "\n",
        "df['x3'] = x3\n",
        "\n",
        "df"
      ],
      "execution_count": 7,
      "outputs": [
        {
          "output_type": "execute_result",
          "data": {
            "text/html": [
              "<div>\n",
              "<style scoped>\n",
              "    .dataframe tbody tr th:only-of-type {\n",
              "        vertical-align: middle;\n",
              "    }\n",
              "\n",
              "    .dataframe tbody tr th {\n",
              "        vertical-align: top;\n",
              "    }\n",
              "\n",
              "    .dataframe thead th {\n",
              "        text-align: right;\n",
              "    }\n",
              "</style>\n",
              "<table border=\"1\" class=\"dataframe\">\n",
              "  <thead>\n",
              "    <tr style=\"text-align: right;\">\n",
              "      <th></th>\n",
              "      <th>x1</th>\n",
              "      <th>x2</th>\n",
              "      <th>x3</th>\n",
              "    </tr>\n",
              "  </thead>\n",
              "  <tbody>\n",
              "    <tr>\n",
              "      <th>0</th>\n",
              "      <td>0</td>\n",
              "      <td>1</td>\n",
              "      <td>1</td>\n",
              "    </tr>\n",
              "    <tr>\n",
              "      <th>1</th>\n",
              "      <td>1</td>\n",
              "      <td>1</td>\n",
              "      <td>0</td>\n",
              "    </tr>\n",
              "    <tr>\n",
              "      <th>2</th>\n",
              "      <td>0</td>\n",
              "      <td>1</td>\n",
              "      <td>1</td>\n",
              "    </tr>\n",
              "    <tr>\n",
              "      <th>3</th>\n",
              "      <td>0</td>\n",
              "      <td>0</td>\n",
              "      <td>1</td>\n",
              "    </tr>\n",
              "    <tr>\n",
              "      <th>4</th>\n",
              "      <td>1</td>\n",
              "      <td>1</td>\n",
              "      <td>1</td>\n",
              "    </tr>\n",
              "    <tr>\n",
              "      <th>5</th>\n",
              "      <td>1</td>\n",
              "      <td>1</td>\n",
              "      <td>1</td>\n",
              "    </tr>\n",
              "    <tr>\n",
              "      <th>6</th>\n",
              "      <td>0</td>\n",
              "      <td>0</td>\n",
              "      <td>1</td>\n",
              "    </tr>\n",
              "    <tr>\n",
              "      <th>7</th>\n",
              "      <td>1</td>\n",
              "      <td>1</td>\n",
              "      <td>1</td>\n",
              "    </tr>\n",
              "    <tr>\n",
              "      <th>8</th>\n",
              "      <td>0</td>\n",
              "      <td>1</td>\n",
              "      <td>0</td>\n",
              "    </tr>\n",
              "    <tr>\n",
              "      <th>9</th>\n",
              "      <td>0</td>\n",
              "      <td>1</td>\n",
              "      <td>1</td>\n",
              "    </tr>\n",
              "  </tbody>\n",
              "</table>\n",
              "</div>"
            ],
            "text/plain": [
              "   x1  x2  x3\n",
              "0   0   1   1\n",
              "1   1   1   0\n",
              "2   0   1   1\n",
              "3   0   0   1\n",
              "4   1   1   1\n",
              "5   1   1   1\n",
              "6   0   0   1\n",
              "7   1   1   1\n",
              "8   0   1   0\n",
              "9   0   1   1"
            ]
          },
          "metadata": {
            "tags": []
          },
          "execution_count": 7
        }
      ]
    },
    {
      "cell_type": "code",
      "metadata": {
        "id": "F_7GSo6Dtltz",
        "colab_type": "code",
        "colab": {
          "base_uri": "https://localhost:8080/",
          "height": 122
        },
        "outputId": "ae47547d-8692-49ed-f132-2732591f51db"
      },
      "source": [
        " !pip install pgmpy==0.1.9"
      ],
      "execution_count": 10,
      "outputs": [
        {
          "output_type": "stream",
          "text": [
            "Collecting pgmpy==0.1.9\n",
            "\u001b[?25l  Downloading https://files.pythonhosted.org/packages/5a/b1/18dfdfcb10dcce71fd39f8c6801407e9aebd953939682558a5317e4a021c/pgmpy-0.1.9-py3-none-any.whl (331kB)\n",
            "\r\u001b[K     |█                               | 10kB 19.2MB/s eta 0:00:01\r\u001b[K     |██                              | 20kB 2.2MB/s eta 0:00:01\r\u001b[K     |███                             | 30kB 2.7MB/s eta 0:00:01\r\u001b[K     |████                            | 40kB 3.1MB/s eta 0:00:01\r\u001b[K     |█████                           | 51kB 2.6MB/s eta 0:00:01\r\u001b[K     |██████                          | 61kB 2.8MB/s eta 0:00:01\r\u001b[K     |███████                         | 71kB 3.1MB/s eta 0:00:01\r\u001b[K     |████████                        | 81kB 3.4MB/s eta 0:00:01\r\u001b[K     |█████████                       | 92kB 3.6MB/s eta 0:00:01\r\u001b[K     |█████████▉                      | 102kB 3.4MB/s eta 0:00:01\r\u001b[K     |██████████▉                     | 112kB 3.4MB/s eta 0:00:01\r\u001b[K     |███████████▉                    | 122kB 3.4MB/s eta 0:00:01\r\u001b[K     |████████████▉                   | 133kB 3.4MB/s eta 0:00:01\r\u001b[K     |█████████████▉                  | 143kB 3.4MB/s eta 0:00:01\r\u001b[K     |██████████████▉                 | 153kB 3.4MB/s eta 0:00:01\r\u001b[K     |███████████████▉                | 163kB 3.4MB/s eta 0:00:01\r\u001b[K     |████████████████▉               | 174kB 3.4MB/s eta 0:00:01\r\u001b[K     |█████████████████▉              | 184kB 3.4MB/s eta 0:00:01\r\u001b[K     |██████████████████▊             | 194kB 3.4MB/s eta 0:00:01\r\u001b[K     |███████████████████▊            | 204kB 3.4MB/s eta 0:00:01\r\u001b[K     |████████████████████▊           | 215kB 3.4MB/s eta 0:00:01\r\u001b[K     |█████████████████████▊          | 225kB 3.4MB/s eta 0:00:01\r\u001b[K     |██████████████████████▊         | 235kB 3.4MB/s eta 0:00:01\r\u001b[K     |███████████████████████▊        | 245kB 3.4MB/s eta 0:00:01\r\u001b[K     |████████████████████████▊       | 256kB 3.4MB/s eta 0:00:01\r\u001b[K     |█████████████████████████▊      | 266kB 3.4MB/s eta 0:00:01\r\u001b[K     |██████████████████████████▊     | 276kB 3.4MB/s eta 0:00:01\r\u001b[K     |███████████████████████████▋    | 286kB 3.4MB/s eta 0:00:01\r\u001b[K     |████████████████████████████▋   | 296kB 3.4MB/s eta 0:00:01\r\u001b[K     |█████████████████████████████▋  | 307kB 3.4MB/s eta 0:00:01\r\u001b[K     |██████████████████████████████▋ | 317kB 3.4MB/s eta 0:00:01\r\u001b[K     |███████████████████████████████▋| 327kB 3.4MB/s eta 0:00:01\r\u001b[K     |████████████████████████████████| 337kB 3.4MB/s \n",
            "\u001b[?25hInstalling collected packages: pgmpy\n",
            "Successfully installed pgmpy-0.1.9\n"
          ],
          "name": "stdout"
        }
      ]
    },
    {
      "cell_type": "code",
      "metadata": {
        "id": "YR2gLlzmufQJ",
        "colab_type": "code",
        "colab": {}
      },
      "source": [
        "# 正解のDAGを与える\n",
        "from pgmpy.models import BayesianModel\n",
        "\n",
        "model = BayesianModel([('x1', 'x3'), ('x2', 'x3')])"
      ],
      "execution_count": 11,
      "outputs": []
    },
    {
      "cell_type": "code",
      "metadata": {
        "id": "JkFTp8cGu30O",
        "colab_type": "code",
        "colab": {
          "base_uri": "https://localhost:8080/",
          "height": 255
        },
        "outputId": "682fa97d-728e-4962-8611-30e382c43fd8"
      },
      "source": [
        "# 各データパターンの個数を表示する\n",
        "from pgmpy.estimators import ParameterEstimator\n",
        "pe = ParameterEstimator(model, df)\n",
        "print(\"\\n\", pe.state_counts('x1'))\n",
        "print(\"\\n\", pe.state_counts('x2'))\n",
        "print(\"\\n\", pe.state_counts('x3'))"
      ],
      "execution_count": 12,
      "outputs": [
        {
          "output_type": "stream",
          "text": [
            "\n",
            "    x1\n",
            "0   6\n",
            "1   4\n",
            "\n",
            "    x2\n",
            "0   2\n",
            "1   8\n",
            "\n",
            " x1    0         1     \n",
            "x2    0    1    0    1\n",
            "x3                    \n",
            "0   0.0  1.0  0.0  1.0\n",
            "1   2.0  3.0  0.0  3.0\n"
          ],
          "name": "stdout"
        }
      ]
    },
    {
      "cell_type": "code",
      "metadata": {
        "id": "3rsx6B4KvL-4",
        "colab_type": "code",
        "colab": {
          "base_uri": "https://localhost:8080/",
          "height": 394
        },
        "outputId": "f26653df-f449-41f9-a5e8-da11ed1f32df"
      },
      "source": [
        "# CPT（条件付き確率表）を推定する\n",
        "from pgmpy.estimators import BayesianEstimator\n",
        "\n",
        "estimator = BayesianEstimator(model, df)\n",
        "\n",
        "cpd_x1 = estimator.estimate_cpd('x1', prior_type='dirichlet', pseudo_counts=[[0], [0]])\n",
        "cpd_x2 = estimator.estimate_cpd('x2', prior_type='dirichlet', pseudo_counts=[[0], [0]])\n",
        "cpd_x3 = estimator.estimate_cpd('x3', prior_type='dirichlet', pseudo_counts=[[0,0,0,0], [0,0,0,0]])\n",
        "\n",
        "print(cpd_x1)\n",
        "print(cpd_x2)\n",
        "print(cpd_x3)"
      ],
      "execution_count": 13,
      "outputs": [
        {
          "output_type": "stream",
          "text": [
            "+-------+-----+\n",
            "| x1(0) | 0.6 |\n",
            "+-------+-----+\n",
            "| x1(1) | 0.4 |\n",
            "+-------+-----+\n",
            "+-------+-----+\n",
            "| x2(0) | 0.2 |\n",
            "+-------+-----+\n",
            "| x2(1) | 0.8 |\n",
            "+-------+-----+\n",
            "+-------+-------+-------+-------+-------+\n",
            "| x1    | x1(0) | x1(0) | x1(1) | x1(1) |\n",
            "+-------+-------+-------+-------+-------+\n",
            "| x2    | x2(0) | x2(1) | x2(0) | x2(1) |\n",
            "+-------+-------+-------+-------+-------+\n",
            "| x3(0) | 0.0   | 0.25  | nan   | 0.25  |\n",
            "+-------+-------+-------+-------+-------+\n",
            "| x3(1) | 1.0   | 0.75  | nan   | 0.75  |\n",
            "+-------+-------+-------+-------+-------+\n"
          ],
          "name": "stdout"
        },
        {
          "output_type": "stream",
          "text": [
            "/usr/local/lib/python3.6/dist-packages/pgmpy/factors/discrete/CPD.py:298: RuntimeWarning: invalid value encountered in true_divide\n",
            "  tabular_cpd.values = (cpd / cpd.sum(axis=0)).reshape(tabular_cpd.cardinality)\n"
          ],
          "name": "stderr"
        }
      ]
    },
    {
      "cell_type": "code",
      "metadata": {
        "id": "qSxcT2J9wP6F",
        "colab_type": "code",
        "colab": {
          "base_uri": "https://localhost:8080/",
          "height": 34
        },
        "outputId": "2aed6b01-ed9c-4626-919a-a6edd5a25818"
      },
      "source": [
        "# BICを求める\n",
        "from pgmpy.estimators import BicScore\n",
        "bic = BicScore(df)\n",
        "print(bic.score(model))"
      ],
      "execution_count": 14,
      "outputs": [
        {
          "output_type": "stream",
          "text": [
            "-23.140577341407056\n"
          ],
          "name": "stdout"
        }
      ]
    },
    {
      "cell_type": "code",
      "metadata": {
        "id": "Ma-i3dDzw8t7",
        "colab_type": "code",
        "colab": {
          "base_uri": "https://localhost:8080/",
          "height": 34
        },
        "outputId": "3facb8f4-384c-42fb-c1b6-e4c996810c21"
      },
      "source": [
        "# 正解ではないDAGを与える\n",
        "from pgmpy.models import BayesianModel\n",
        "model = BayesianModel([('x2', 'x1'), ('x2', 'x3')])\n",
        "bic = BicScore(df)\n",
        "print(bic.score(model))"
      ],
      "execution_count": 15,
      "outputs": [
        {
          "output_type": "stream",
          "text": [
            "-20.804345569297023\n"
          ],
          "name": "stdout"
        }
      ]
    },
    {
      "cell_type": "code",
      "metadata": {
        "id": "Fa3sMPYJxbn0",
        "colab_type": "code",
        "colab": {}
      },
      "source": [
        ""
      ],
      "execution_count": null,
      "outputs": []
    }
  ]
}