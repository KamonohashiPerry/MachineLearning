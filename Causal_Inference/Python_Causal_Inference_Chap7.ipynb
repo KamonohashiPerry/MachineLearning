{
  "nbformat": 4,
  "nbformat_minor": 0,
  "metadata": {
    "colab": {
      "name": "Python_Causal_Inference_Chap7.ipynb",
      "provenance": [],
      "collapsed_sections": [],
      "authorship_tag": "ABX9TyP7OWl/XhMVl+rapMD++8wS",
      "include_colab_link": true
    },
    "kernelspec": {
      "name": "python3",
      "display_name": "Python 3"
    }
  },
  "cells": [
    {
      "cell_type": "markdown",
      "metadata": {
        "id": "view-in-github",
        "colab_type": "text"
      },
      "source": [
        "<a href=\"https://colab.research.google.com/github/KamonohashiPerry/MachineLearning/blob/master/Causal_Inference/Python_Causal_Inference_Chap7.ipynb\" target=\"_parent\"><img src=\"https://colab.research.google.com/assets/colab-badge.svg\" alt=\"Open In Colab\"/></a>"
      ]
    },
    {
      "cell_type": "markdown",
      "metadata": {
        "id": "O1H5x6koGIch",
        "colab_type": "text"
      },
      "source": [
        "## ベイジアンネットワーク\n",
        "+ DAGを前提としている\n",
        "+ グラフ表現により変数間の関係性を示すための手法\n",
        "+ 構造方程式は使わないで、条件付き確率表を用いる。\n",
        "\n",
        "### 関連用語\n",
        "+ スケルトン\n",
        " + ノードとノードの繋がりだけを表す（やじるしなし）\n",
        "+ PDAG\n",
        " + 一部は有向で一部が無向のグラフ"
      ]
    },
    {
      "cell_type": "markdown",
      "metadata": {
        "id": "rWkzPvdCJFq7",
        "colab_type": "text"
      },
      "source": [
        "### ネットワークの当てはまりの良さ\n",
        "+ AIC\n",
        "+ BIC\n",
        "+ BDeu\n",
        "+ MDL符号\n",
        "+ BDe\n",
        "+ BDeu\n",
        "+ K2"
      ]
    },
    {
      "cell_type": "code",
      "metadata": {
        "id": "UjYPIvv4F90X",
        "colab_type": "code",
        "colab": {}
      },
      "source": [
        "# 乱数のシードを設定\n",
        "import random\n",
        "import numpy as np\n",
        "\n",
        "np.random.seed(1234)\n",
        "random.seed(1234)\n",
        "\n",
        "from numpy.random import *\n",
        "import pandas as pd"
      ],
      "execution_count": 6,
      "outputs": []
    },
    {
      "cell_type": "markdown",
      "metadata": {
        "id": "MUvVNdr-o25x",
        "colab_type": "text"
      },
      "source": [
        "データの作成"
      ]
    },
    {
      "cell_type": "code",
      "metadata": {
        "id": "wqEVCU6RoqFA",
        "colab_type": "code",
        "colab": {
          "base_uri": "https://localhost:8080/",
          "height": 204
        },
        "outputId": "0ae6b347-b7f3-4fc6-ad28-4c83369b8f8b"
      },
      "source": [
        "# データ数\n",
        "num_data = 10\n",
        "\n",
        "# x1:0か1の値をnum_data個生成、0の確率は0.6、1の確率は0.4\n",
        "x1 = np.random.choice([0, 1], num_data, p=[0.6, 0.4])\n",
        "\n",
        "# x2:0か1の値をnum_data個生成、0の確率は0.4、1の確率は0.6\n",
        "x2 = np.random.choice([0, 1], num_data, p=[0.4, 0.6])\n",
        "\n",
        "# 2変数で表にする\n",
        "df = pd.DataFrame({'x1':x1,\n",
        "                    'x2':x2})\n",
        "df.head()"
      ],
      "execution_count": 7,
      "outputs": [
        {
          "output_type": "execute_result",
          "data": {
            "text/html": [
              "<div>\n",
              "<style scoped>\n",
              "    .dataframe tbody tr th:only-of-type {\n",
              "        vertical-align: middle;\n",
              "    }\n",
              "\n",
              "    .dataframe tbody tr th {\n",
              "        vertical-align: top;\n",
              "    }\n",
              "\n",
              "    .dataframe thead th {\n",
              "        text-align: right;\n",
              "    }\n",
              "</style>\n",
              "<table border=\"1\" class=\"dataframe\">\n",
              "  <thead>\n",
              "    <tr style=\"text-align: right;\">\n",
              "      <th></th>\n",
              "      <th>x1</th>\n",
              "      <th>x2</th>\n",
              "    </tr>\n",
              "  </thead>\n",
              "  <tbody>\n",
              "    <tr>\n",
              "      <th>0</th>\n",
              "      <td>0</td>\n",
              "      <td>0</td>\n",
              "    </tr>\n",
              "    <tr>\n",
              "      <th>1</th>\n",
              "      <td>1</td>\n",
              "      <td>1</td>\n",
              "    </tr>\n",
              "    <tr>\n",
              "      <th>2</th>\n",
              "      <td>0</td>\n",
              "      <td>1</td>\n",
              "    </tr>\n",
              "    <tr>\n",
              "      <th>3</th>\n",
              "      <td>1</td>\n",
              "      <td>1</td>\n",
              "    </tr>\n",
              "    <tr>\n",
              "      <th>4</th>\n",
              "      <td>1</td>\n",
              "      <td>0</td>\n",
              "    </tr>\n",
              "  </tbody>\n",
              "</table>\n",
              "</div>"
            ],
            "text/plain": [
              "   x1  x2\n",
              "0   0   0\n",
              "1   1   1\n",
              "2   0   1\n",
              "3   1   1\n",
              "4   1   0"
            ]
          },
          "metadata": {
            "tags": []
          },
          "execution_count": 7
        }
      ]
    },
    {
      "cell_type": "code",
      "metadata": {
        "id": "dL418BEOpVg3",
        "colab_type": "code",
        "colab": {
          "base_uri": "https://localhost:8080/",
          "height": 359
        },
        "outputId": "1616eed4-3600-4347-fc9a-0b452a8c1831"
      },
      "source": [
        "# 変数x3:0か1の値をnum_data個生成する\n",
        "# (x1, x2) = (0, 0)のとき、0の確率は0.2\n",
        "# (x1, x2) = (1, 0)のとき、0の確率は0.3\n",
        "# (x1, x2) = (0, 1)のとき、0の確率は0.4\n",
        "# (x1, x2) = (1, 1)のとき、0の確率は0.1\n",
        "\n",
        "x3 = []\n",
        "for i in range(num_data):\n",
        "  if x1[i] == 0 and x2[i] == 0:\n",
        "    x3_value = np.random.choice([0, 1], 1, p=[0.2, 0.8])\n",
        "    x3.append(x3_value[0])\n",
        "  elif x1[i] == 0 and x2[i] == 1:\n",
        "    x3_value = np.random.choice([0, 1], 1, p=[0.3, 0.7])\n",
        "    x3.append(x3_value[0])\n",
        "  elif x1[i] == 1 and x2[i] == 0:\n",
        "    x3_value = np.random.choice([0, 1], 1, p=[0.4, 0.6])\n",
        "    x3.append(x3_value[0])\n",
        "  elif x1[i] == 1 and x2[i] == 1:\n",
        "    x3_value = np.random.choice([0, 1], 1, p=[0.1, 0.9])\n",
        "    x3.append(x3_value[0])\n",
        "\n",
        "df['x3'] = x3\n",
        "\n",
        "df"
      ],
      "execution_count": 8,
      "outputs": [
        {
          "output_type": "execute_result",
          "data": {
            "text/html": [
              "<div>\n",
              "<style scoped>\n",
              "    .dataframe tbody tr th:only-of-type {\n",
              "        vertical-align: middle;\n",
              "    }\n",
              "\n",
              "    .dataframe tbody tr th {\n",
              "        vertical-align: top;\n",
              "    }\n",
              "\n",
              "    .dataframe thead th {\n",
              "        text-align: right;\n",
              "    }\n",
              "</style>\n",
              "<table border=\"1\" class=\"dataframe\">\n",
              "  <thead>\n",
              "    <tr style=\"text-align: right;\">\n",
              "      <th></th>\n",
              "      <th>x1</th>\n",
              "      <th>x2</th>\n",
              "      <th>x3</th>\n",
              "    </tr>\n",
              "  </thead>\n",
              "  <tbody>\n",
              "    <tr>\n",
              "      <th>0</th>\n",
              "      <td>0</td>\n",
              "      <td>0</td>\n",
              "      <td>1</td>\n",
              "    </tr>\n",
              "    <tr>\n",
              "      <th>1</th>\n",
              "      <td>1</td>\n",
              "      <td>1</td>\n",
              "      <td>1</td>\n",
              "    </tr>\n",
              "    <tr>\n",
              "      <th>2</th>\n",
              "      <td>0</td>\n",
              "      <td>1</td>\n",
              "      <td>0</td>\n",
              "    </tr>\n",
              "    <tr>\n",
              "      <th>3</th>\n",
              "      <td>1</td>\n",
              "      <td>1</td>\n",
              "      <td>1</td>\n",
              "    </tr>\n",
              "    <tr>\n",
              "      <th>4</th>\n",
              "      <td>1</td>\n",
              "      <td>0</td>\n",
              "      <td>1</td>\n",
              "    </tr>\n",
              "    <tr>\n",
              "      <th>5</th>\n",
              "      <td>0</td>\n",
              "      <td>1</td>\n",
              "      <td>1</td>\n",
              "    </tr>\n",
              "    <tr>\n",
              "      <th>6</th>\n",
              "      <td>0</td>\n",
              "      <td>1</td>\n",
              "      <td>1</td>\n",
              "    </tr>\n",
              "    <tr>\n",
              "      <th>7</th>\n",
              "      <td>1</td>\n",
              "      <td>0</td>\n",
              "      <td>1</td>\n",
              "    </tr>\n",
              "    <tr>\n",
              "      <th>8</th>\n",
              "      <td>1</td>\n",
              "      <td>1</td>\n",
              "      <td>1</td>\n",
              "    </tr>\n",
              "    <tr>\n",
              "      <th>9</th>\n",
              "      <td>1</td>\n",
              "      <td>1</td>\n",
              "      <td>1</td>\n",
              "    </tr>\n",
              "  </tbody>\n",
              "</table>\n",
              "</div>"
            ],
            "text/plain": [
              "   x1  x2  x3\n",
              "0   0   0   1\n",
              "1   1   1   1\n",
              "2   0   1   0\n",
              "3   1   1   1\n",
              "4   1   0   1\n",
              "5   0   1   1\n",
              "6   0   1   1\n",
              "7   1   0   1\n",
              "8   1   1   1\n",
              "9   1   1   1"
            ]
          },
          "metadata": {
            "tags": []
          },
          "execution_count": 8
        }
      ]
    },
    {
      "cell_type": "code",
      "metadata": {
        "id": "F_7GSo6Dtltz",
        "colab_type": "code",
        "colab": {
          "base_uri": "https://localhost:8080/",
          "height": 122
        },
        "outputId": "bbe04eeb-131c-4f4e-db83-ba5102c62811"
      },
      "source": [
        " !pip install pgmpy==0.1.9"
      ],
      "execution_count": 9,
      "outputs": [
        {
          "output_type": "stream",
          "text": [
            "Collecting pgmpy==0.1.9\n",
            "\u001b[?25l  Downloading https://files.pythonhosted.org/packages/5a/b1/18dfdfcb10dcce71fd39f8c6801407e9aebd953939682558a5317e4a021c/pgmpy-0.1.9-py3-none-any.whl (331kB)\n",
            "\u001b[K     |████████████████████████████████| 337kB 2.9MB/s \n",
            "\u001b[?25hInstalling collected packages: pgmpy\n",
            "Successfully installed pgmpy-0.1.9\n"
          ],
          "name": "stdout"
        }
      ]
    },
    {
      "cell_type": "code",
      "metadata": {
        "id": "YR2gLlzmufQJ",
        "colab_type": "code",
        "colab": {}
      },
      "source": [
        "# 正解のDAGを与える\n",
        "from pgmpy.models import BayesianModel\n",
        "\n",
        "model = BayesianModel([('x1', 'x3'), ('x2', 'x3')])"
      ],
      "execution_count": 10,
      "outputs": []
    },
    {
      "cell_type": "code",
      "metadata": {
        "id": "JkFTp8cGu30O",
        "colab_type": "code",
        "colab": {
          "base_uri": "https://localhost:8080/",
          "height": 309
        },
        "outputId": "c9241991-c380-4c12-9b03-7e0016986e8b"
      },
      "source": [
        "# 各データパターンの個数を表示する\n",
        "from pgmpy.estimators import ParameterEstimator\n",
        "pe = ParameterEstimator(model, df)\n",
        "print(\"\\n\", pe.state_counts('x1'))\n",
        "print(\"\\n\", pe.state_counts('x2'))\n",
        "print(\"\\n\", pe.state_counts('x3'))"
      ],
      "execution_count": 11,
      "outputs": [
        {
          "output_type": "stream",
          "text": [
            "/usr/local/lib/python3.6/dist-packages/statsmodels/tools/_testing.py:19: FutureWarning: pandas.util.testing is deprecated. Use the functions in the public API at pandas.testing instead.\n",
            "  import pandas.util.testing as tm\n"
          ],
          "name": "stderr"
        },
        {
          "output_type": "stream",
          "text": [
            "\n",
            "    x1\n",
            "0   4\n",
            "1   6\n",
            "\n",
            "    x2\n",
            "0   3\n",
            "1   7\n",
            "\n",
            " x1    0         1     \n",
            "x2    0    1    0    1\n",
            "x3                    \n",
            "0   0.0  1.0  0.0  0.0\n",
            "1   1.0  2.0  2.0  4.0\n"
          ],
          "name": "stdout"
        }
      ]
    },
    {
      "cell_type": "code",
      "metadata": {
        "id": "3rsx6B4KvL-4",
        "colab_type": "code",
        "colab": {
          "base_uri": "https://localhost:8080/",
          "height": 340
        },
        "outputId": "6c134c3f-e0f5-4bb0-f9e7-7b6eb7e4b8e4"
      },
      "source": [
        "# CPT（条件付き確率表）を推定する\n",
        "from pgmpy.estimators import BayesianEstimator\n",
        "\n",
        "estimator = BayesianEstimator(model, df)\n",
        "\n",
        "cpd_x1 = estimator.estimate_cpd('x1', prior_type='dirichlet', pseudo_counts=[[0], [0]])\n",
        "cpd_x2 = estimator.estimate_cpd('x2', prior_type='dirichlet', pseudo_counts=[[0], [0]])\n",
        "cpd_x3 = estimator.estimate_cpd('x3', prior_type='dirichlet', pseudo_counts=[[0,0,0,0], [0,0,0,0]])\n",
        "\n",
        "print(cpd_x1)\n",
        "print(cpd_x2)\n",
        "print(cpd_x3)"
      ],
      "execution_count": 12,
      "outputs": [
        {
          "output_type": "stream",
          "text": [
            "+-------+-----+\n",
            "| x1(0) | 0.4 |\n",
            "+-------+-----+\n",
            "| x1(1) | 0.6 |\n",
            "+-------+-----+\n",
            "+-------+-----+\n",
            "| x2(0) | 0.3 |\n",
            "+-------+-----+\n",
            "| x2(1) | 0.7 |\n",
            "+-------+-----+\n",
            "+-------+-------+--------------------+-------+-------+\n",
            "| x1    | x1(0) | x1(0)              | x1(1) | x1(1) |\n",
            "+-------+-------+--------------------+-------+-------+\n",
            "| x2    | x2(0) | x2(1)              | x2(0) | x2(1) |\n",
            "+-------+-------+--------------------+-------+-------+\n",
            "| x3(0) | 0.0   | 0.3333333333333333 | 0.0   | 0.0   |\n",
            "+-------+-------+--------------------+-------+-------+\n",
            "| x3(1) | 1.0   | 0.6666666666666666 | 1.0   | 1.0   |\n",
            "+-------+-------+--------------------+-------+-------+\n"
          ],
          "name": "stdout"
        }
      ]
    },
    {
      "cell_type": "code",
      "metadata": {
        "id": "qSxcT2J9wP6F",
        "colab_type": "code",
        "colab": {
          "base_uri": "https://localhost:8080/",
          "height": 34
        },
        "outputId": "99aaa848-ebfe-4eee-9c77-e955beb86243"
      },
      "source": [
        "# BICを求める\n",
        "from pgmpy.estimators import BicScore\n",
        "bic = BicScore(df)\n",
        "print(bic.score(model))"
      ],
      "execution_count": 13,
      "outputs": [
        {
          "output_type": "stream",
          "text": [
            "-21.65605747450808\n"
          ],
          "name": "stdout"
        }
      ]
    },
    {
      "cell_type": "code",
      "metadata": {
        "id": "Ma-i3dDzw8t7",
        "colab_type": "code",
        "colab": {
          "base_uri": "https://localhost:8080/",
          "height": 34
        },
        "outputId": "fb499911-6927-4fea-b6ba-92bfb0fbd73d"
      },
      "source": [
        "# 正解ではないDAGを与える\n",
        "from pgmpy.models import BayesianModel\n",
        "model = BayesianModel([('x2', 'x1'), ('x2', 'x3')])\n",
        "bic = BicScore(df)\n",
        "print(bic.score(model))"
      ],
      "execution_count": 14,
      "outputs": [
        {
          "output_type": "stream",
          "text": [
            "-21.425819218840655\n"
          ],
          "name": "stdout"
        }
      ]
    },
    {
      "cell_type": "markdown",
      "metadata": {
        "id": "5j9834G3C3UR",
        "colab_type": "text"
      },
      "source": [
        "## 変数間の独立性の検定"
      ]
    },
    {
      "cell_type": "code",
      "metadata": {
        "id": "Fa3sMPYJxbn0",
        "colab_type": "code",
        "colab": {}
      },
      "source": [
        "# 乱数のシードを設定\n",
        "import random\n",
        "import numpy as np\n",
        "\n",
        "np.random.seed(1234)\n",
        "random.seed(1234)\n",
        "\n",
        "from numpy.random import *\n",
        "import pandas as pd"
      ],
      "execution_count": 15,
      "outputs": []
    },
    {
      "cell_type": "code",
      "metadata": {
        "id": "TAJKpgOiDRtr",
        "colab_type": "code",
        "colab": {
          "base_uri": "https://localhost:8080/",
          "height": 204
        },
        "outputId": "9b4d892f-1af4-4ff5-9a16-a72bc26ec09a"
      },
      "source": [
        "# データ数\n",
        "num_data = 100\n",
        "\n",
        "# x1:0か1の値をnum_data個生成、0の確率は0.6、1の確率は0.4\n",
        "x1 = np.random.choice([0, 1], num_data, p=[0.6, 0.4])\n",
        "\n",
        "# x2:0か1の値をnum_data個生成、0の確率は0.4、1の確率は0.6\n",
        "x2 = np.random.choice([0, 1], num_data, p=[0.4, 0.6])\n",
        "\n",
        "# x2はx1と因果関係にあるとする\n",
        "x2 = x2*x1\n",
        "\n",
        "# 2変数で表にする\n",
        "df = pd.DataFrame({'x1':x1,\n",
        "                     'x2':x2})\n",
        "\n",
        "df.head()"
      ],
      "execution_count": 23,
      "outputs": [
        {
          "output_type": "execute_result",
          "data": {
            "text/html": [
              "<div>\n",
              "<style scoped>\n",
              "    .dataframe tbody tr th:only-of-type {\n",
              "        vertical-align: middle;\n",
              "    }\n",
              "\n",
              "    .dataframe tbody tr th {\n",
              "        vertical-align: top;\n",
              "    }\n",
              "\n",
              "    .dataframe thead th {\n",
              "        text-align: right;\n",
              "    }\n",
              "</style>\n",
              "<table border=\"1\" class=\"dataframe\">\n",
              "  <thead>\n",
              "    <tr style=\"text-align: right;\">\n",
              "      <th></th>\n",
              "      <th>x1</th>\n",
              "      <th>x2</th>\n",
              "    </tr>\n",
              "  </thead>\n",
              "  <tbody>\n",
              "    <tr>\n",
              "      <th>0</th>\n",
              "      <td>1</td>\n",
              "      <td>1</td>\n",
              "    </tr>\n",
              "    <tr>\n",
              "      <th>1</th>\n",
              "      <td>1</td>\n",
              "      <td>0</td>\n",
              "    </tr>\n",
              "    <tr>\n",
              "      <th>2</th>\n",
              "      <td>0</td>\n",
              "      <td>0</td>\n",
              "    </tr>\n",
              "    <tr>\n",
              "      <th>3</th>\n",
              "      <td>1</td>\n",
              "      <td>1</td>\n",
              "    </tr>\n",
              "    <tr>\n",
              "      <th>4</th>\n",
              "      <td>0</td>\n",
              "      <td>0</td>\n",
              "    </tr>\n",
              "  </tbody>\n",
              "</table>\n",
              "</div>"
            ],
            "text/plain": [
              "   x1  x2\n",
              "0   1   1\n",
              "1   1   0\n",
              "2   0   0\n",
              "3   1   1\n",
              "4   0   0"
            ]
          },
          "metadata": {
            "tags": []
          },
          "execution_count": 23
        }
      ]
    },
    {
      "cell_type": "code",
      "metadata": {
        "id": "KHW9_6RpEZHG",
        "colab_type": "code",
        "colab": {
          "base_uri": "https://localhost:8080/",
          "height": 85
        },
        "outputId": "4d47147f-480c-4186-edb3-7f76f3d66b87"
      },
      "source": [
        "# 各カウント\n",
        "print(((df['x1'] == 0) & (df['x2'] == 0)).sum())\n",
        "print(((df['x1'] == 1) & (df['x2'] == 0)).sum())\n",
        "print(((df['x1'] == 0) & (df['x2'] == 1)).sum())\n",
        "print(((df['x1'] == 1) & (df['x2'] == 1)).sum())"
      ],
      "execution_count": 24,
      "outputs": [
        {
          "output_type": "stream",
          "text": [
            "68\n",
            "10\n",
            "0\n",
            "22\n"
          ],
          "name": "stdout"
        }
      ]
    },
    {
      "cell_type": "markdown",
      "metadata": {
        "id": "gSx-P4EwIByG",
        "colab_type": "text"
      },
      "source": [
        "### 条件付きの独立性のカイ二乗検定"
      ]
    },
    {
      "cell_type": "code",
      "metadata": {
        "id": "YwcwUZCVErAw",
        "colab_type": "code",
        "colab": {
          "base_uri": "https://localhost:8080/",
          "height": 85
        },
        "outputId": "00d13cba-053a-4133-e207-cd8ec254f989"
      },
      "source": [
        "# データ数\n",
        "num_data = 100\n",
        "\n",
        "# x1:0か1の値をnum_data個生成、0の確率は0.6、1の確率は0.4\n",
        "x1 = np.random.choice([0, 1], num_data, p=[0.6, 0.4])\n",
        "\n",
        "# x2:0か1の値をnum_data個生成、0の確率は0.4、1の確率は0.6\n",
        "x2 = np.random.choice([0, 1], num_data, p=[0.4, 0.6])\n",
        "\n",
        "# 2変数で表にする\n",
        "df2 = pd.DataFrame({'x1':x1,\n",
        "                     'x2':x2})\n",
        "\n",
        "# 各カウント\n",
        "print(((df['x1'] == 0) & (df['x2'] == 0)).sum())\n",
        "print(((df['x1'] == 1) & (df['x2'] == 0)).sum())\n",
        "print(((df['x1'] == 0) & (df['x2'] == 1)).sum())\n",
        "print(((df['x1'] == 1) & (df['x2'] == 1)).sum())"
      ],
      "execution_count": 21,
      "outputs": [
        {
          "output_type": "stream",
          "text": [
            "20\n",
            "15\n",
            "35\n",
            "30\n"
          ],
          "name": "stdout"
        }
      ]
    },
    {
      "cell_type": "code",
      "metadata": {
        "id": "Y6FBwklrIX24",
        "colab_type": "code",
        "colab": {
          "base_uri": "https://localhost:8080/",
          "height": 51
        },
        "outputId": "48a09dab-a673-494f-eba5-e1512250ed17"
      },
      "source": [
        "from pgmpy.estimators import ConstraintBasedEstimator\n",
        "\n",
        "est = ConstraintBasedEstimator(df2)\n",
        "print(est.test_conditional_independence('x1', 'x2', method='chi_square', tol=0.05))\n",
        "\n",
        "# 最初の例の場合\n",
        "est = ConstraintBasedEstimator(df)\n",
        "print(est.test_conditional_independence('x1', 'x2', method='chi_square', tol=0.05))"
      ],
      "execution_count": 25,
      "outputs": [
        {
          "output_type": "stream",
          "text": [
            "True\n",
            "False\n"
          ],
          "name": "stdout"
        }
      ]
    },
    {
      "cell_type": "markdown",
      "metadata": {
        "id": "2XLRTV1GOeoF",
        "colab_type": "text"
      },
      "source": [
        "## PCアルゴリズムによるベイジアンネットワーク探索の実装"
      ]
    },
    {
      "cell_type": "code",
      "metadata": {
        "id": "qPlajP6cIyza",
        "colab_type": "code",
        "colab": {}
      },
      "source": [
        "# 乱数のシードの設定\n",
        "import random\n",
        "import numpy as np\n",
        "\n",
        "np.random.seed(1234)\n",
        "random.seed(1234)\n",
        "\n",
        "# 標準正規分布の生成用\n",
        "from numpy.random import *\n",
        "\n",
        "# グラフの描画用\n",
        "import matplotlib.pyplot as plt\n",
        "\n",
        "# SciPy 平均0、分散1に正規化する関数\n",
        "import scipy.stats\n",
        "\n",
        "# シグモイド関数\n",
        "from scipy.special import expit\n",
        "\n",
        "import pandas as pd"
      ],
      "execution_count": 26,
      "outputs": []
    },
    {
      "cell_type": "code",
      "metadata": {
        "id": "YCfUv2YnPyU4",
        "colab_type": "code",
        "colab": {
          "base_uri": "https://localhost:8080/",
          "height": 204
        },
        "outputId": "724826a9-2777-4ddc-cce1-7887b90c8e66"
      },
      "source": [
        "# データ数\n",
        "num_data = 2000\n",
        "\n",
        "# 部下育成への熱心さ\n",
        "x = np.random.uniform(low=-1, high=1, size=num_data)\n",
        "\n",
        "# 上司が研修に参加したかどうか\n",
        "e_z = randn(num_data)\n",
        "z_prob = expit(-0.5*x + 5*e_z)\n",
        "Z = np.array([])\n",
        "\n",
        "for i in range(num_data):\n",
        "  Z_i = np.random.choice(2, size=1, p=[1-z_prob[i], z_prob[i]])[0]\n",
        "  Z = np.append(Z, Z_i)\n",
        "\n",
        "# 介入効果の非線形性\n",
        "t = np.zeros(num_data)\n",
        "for i in range(num_data):\n",
        "  if x[i] < 0:\n",
        "    t[i] = 0.5\n",
        "  elif x[i] >= 0 and x[i] < 0.5:\n",
        "    t[i] = 0.7\n",
        "  elif x[i] >= 0.5:\n",
        "    t[i] = 1.0\n",
        "\n",
        "e_y = randn(num_data)\n",
        "Y = 2.0 + t*Z + 0.3*x + 0.1*e_y\n",
        "\n",
        "# 部下当人のチームメンバーへの満足度\n",
        "Y2 = np.random.choice([1.0, 2.0, 3.0, 4.0, 5.0],\n",
        "                        num_data, p=[0.1, 0.2, 0.3, 0.2, 0.2])\n",
        "\n",
        "# 部下当人の仕事への満足度\n",
        "e_y3 = randn(num_data)\n",
        "Y3 = 3*Y + Y2 + e_y3\n",
        "\n",
        "# 部下当人の仕事のパフォーマンス\n",
        "e_y4 = randn(num_data)\n",
        "Y4 = 3*Y3 + 5 + 2*e_y4\n",
        "\n",
        "df = pd.DataFrame({'x':x,\n",
        "                    'Z':Z,\n",
        "                    't':t,\n",
        "                    'Y':Y,\n",
        "                    'Y2':Y2,\n",
        "                    'Y3':Y3,\n",
        "                    'Y4':Y4})\n",
        "df.head()"
      ],
      "execution_count": 31,
      "outputs": [
        {
          "output_type": "execute_result",
          "data": {
            "text/html": [
              "<div>\n",
              "<style scoped>\n",
              "    .dataframe tbody tr th:only-of-type {\n",
              "        vertical-align: middle;\n",
              "    }\n",
              "\n",
              "    .dataframe tbody tr th {\n",
              "        vertical-align: top;\n",
              "    }\n",
              "\n",
              "    .dataframe thead th {\n",
              "        text-align: right;\n",
              "    }\n",
              "</style>\n",
              "<table border=\"1\" class=\"dataframe\">\n",
              "  <thead>\n",
              "    <tr style=\"text-align: right;\">\n",
              "      <th></th>\n",
              "      <th>x</th>\n",
              "      <th>Z</th>\n",
              "      <th>t</th>\n",
              "      <th>Y</th>\n",
              "      <th>Y2</th>\n",
              "      <th>Y3</th>\n",
              "      <th>Y4</th>\n",
              "    </tr>\n",
              "  </thead>\n",
              "  <tbody>\n",
              "    <tr>\n",
              "      <th>0</th>\n",
              "      <td>-0.252619</td>\n",
              "      <td>1.0</td>\n",
              "      <td>0.5</td>\n",
              "      <td>2.453202</td>\n",
              "      <td>3.0</td>\n",
              "      <td>11.183035</td>\n",
              "      <td>40.654337</td>\n",
              "    </tr>\n",
              "    <tr>\n",
              "      <th>1</th>\n",
              "      <td>-0.953169</td>\n",
              "      <td>1.0</td>\n",
              "      <td>0.5</td>\n",
              "      <td>2.260939</td>\n",
              "      <td>4.0</td>\n",
              "      <td>12.110823</td>\n",
              "      <td>38.764248</td>\n",
              "    </tr>\n",
              "    <tr>\n",
              "      <th>2</th>\n",
              "      <td>0.426431</td>\n",
              "      <td>0.0</td>\n",
              "      <td>0.7</td>\n",
              "      <td>2.150807</td>\n",
              "      <td>4.0</td>\n",
              "      <td>12.437361</td>\n",
              "      <td>40.157346</td>\n",
              "    </tr>\n",
              "    <tr>\n",
              "      <th>3</th>\n",
              "      <td>-0.291934</td>\n",
              "      <td>1.0</td>\n",
              "      <td>0.5</td>\n",
              "      <td>2.454125</td>\n",
              "      <td>3.0</td>\n",
              "      <td>10.438767</td>\n",
              "      <td>34.292139</td>\n",
              "    </tr>\n",
              "    <tr>\n",
              "      <th>4</th>\n",
              "      <td>-0.892862</td>\n",
              "      <td>1.0</td>\n",
              "      <td>0.5</td>\n",
              "      <td>2.271651</td>\n",
              "      <td>3.0</td>\n",
              "      <td>10.057158</td>\n",
              "      <td>37.498715</td>\n",
              "    </tr>\n",
              "  </tbody>\n",
              "</table>\n",
              "</div>"
            ],
            "text/plain": [
              "          x    Z    t         Y   Y2         Y3         Y4\n",
              "0 -0.252619  1.0  0.5  2.453202  3.0  11.183035  40.654337\n",
              "1 -0.953169  1.0  0.5  2.260939  4.0  12.110823  38.764248\n",
              "2  0.426431  0.0  0.7  2.150807  4.0  12.437361  40.157346\n",
              "3 -0.291934  1.0  0.5  2.454125  3.0  10.438767  34.292139\n",
              "4 -0.892862  1.0  0.5  2.271651  3.0  10.057158  37.498715"
            ]
          },
          "metadata": {
            "tags": []
          },
          "execution_count": 31
        }
      ]
    },
    {
      "cell_type": "markdown",
      "metadata": {
        "id": "JgOQZpRaSFYT",
        "colab_type": "text"
      },
      "source": [
        "### データの離散化"
      ]
    },
    {
      "cell_type": "code",
      "metadata": {
        "id": "2bnJto-kQiYY",
        "colab_type": "code",
        "colab": {
          "base_uri": "https://localhost:8080/",
          "height": 204
        },
        "outputId": "d23b7d72-d27d-488b-d466-31c537c2bf91"
      },
      "source": [
        "# データを区切る\n",
        "df_bin = df.copy()\n",
        "del df_bin['t']\n",
        "\n",
        "# 部下育成への熱心さ\n",
        "df_bin['x'], x_bins = pd.cut(df['x'], 5, labels=[1, 2, 3, 4, 5], retbins=True)\n",
        "\n",
        "# 上司が研修に参加したかどうか\n",
        "df_bin['Z'], z_bins = pd.cut(df['Z'], 2, labels=[0,1], retbins=True)\n",
        "\n",
        "# 部下当人の面談の満足度\n",
        "df_bin['Y'], y_bins = pd.cut(df['Y'], 5, labels=[1,2,3,4,5], retbins=True)\n",
        "\n",
        "# 部下当人のチームメンバーへの満足度\n",
        "df_bin['Y2'], y2_bins = pd.cut(df['Y2'], 5, labels=[1,2,3,4,5], retbins=True)\n",
        "\n",
        "# 部下当人の仕事への満足度\n",
        "df_bin['Y3'], y3_bins = pd.cut(df['Y3'], 5, labels=[1,2,3,4,5], retbins=True)\n",
        "\n",
        "# 部下当人の仕事のパフォーマンス\n",
        "df_bin['Y4'], y4_bins = pd.cut(df['Y4'], 5, labels=[1,2,3,4,5], retbins=True)\n",
        "\n",
        "df_bin.head()"
      ],
      "execution_count": 35,
      "outputs": [
        {
          "output_type": "execute_result",
          "data": {
            "text/html": [
              "<div>\n",
              "<style scoped>\n",
              "    .dataframe tbody tr th:only-of-type {\n",
              "        vertical-align: middle;\n",
              "    }\n",
              "\n",
              "    .dataframe tbody tr th {\n",
              "        vertical-align: top;\n",
              "    }\n",
              "\n",
              "    .dataframe thead th {\n",
              "        text-align: right;\n",
              "    }\n",
              "</style>\n",
              "<table border=\"1\" class=\"dataframe\">\n",
              "  <thead>\n",
              "    <tr style=\"text-align: right;\">\n",
              "      <th></th>\n",
              "      <th>x</th>\n",
              "      <th>Z</th>\n",
              "      <th>Y</th>\n",
              "      <th>Y2</th>\n",
              "      <th>Y3</th>\n",
              "      <th>Y4</th>\n",
              "    </tr>\n",
              "  </thead>\n",
              "  <tbody>\n",
              "    <tr>\n",
              "      <th>0</th>\n",
              "      <td>2</td>\n",
              "      <td>1</td>\n",
              "      <td>3</td>\n",
              "      <td>3</td>\n",
              "      <td>3</td>\n",
              "      <td>3</td>\n",
              "    </tr>\n",
              "    <tr>\n",
              "      <th>1</th>\n",
              "      <td>1</td>\n",
              "      <td>1</td>\n",
              "      <td>2</td>\n",
              "      <td>4</td>\n",
              "      <td>4</td>\n",
              "      <td>3</td>\n",
              "    </tr>\n",
              "    <tr>\n",
              "      <th>2</th>\n",
              "      <td>4</td>\n",
              "      <td>0</td>\n",
              "      <td>2</td>\n",
              "      <td>4</td>\n",
              "      <td>4</td>\n",
              "      <td>3</td>\n",
              "    </tr>\n",
              "    <tr>\n",
              "      <th>3</th>\n",
              "      <td>2</td>\n",
              "      <td>1</td>\n",
              "      <td>3</td>\n",
              "      <td>3</td>\n",
              "      <td>3</td>\n",
              "      <td>3</td>\n",
              "    </tr>\n",
              "    <tr>\n",
              "      <th>4</th>\n",
              "      <td>1</td>\n",
              "      <td>1</td>\n",
              "      <td>2</td>\n",
              "      <td>3</td>\n",
              "      <td>3</td>\n",
              "      <td>3</td>\n",
              "    </tr>\n",
              "  </tbody>\n",
              "</table>\n",
              "</div>"
            ],
            "text/plain": [
              "   x  Z  Y Y2 Y3 Y4\n",
              "0  2  1  3  3  3  3\n",
              "1  1  1  2  4  4  3\n",
              "2  4  0  2  4  4  3\n",
              "3  2  1  3  3  3  3\n",
              "4  1  1  2  3  3  3"
            ]
          },
          "metadata": {
            "tags": []
          },
          "execution_count": 35
        }
      ]
    },
    {
      "cell_type": "markdown",
      "metadata": {
        "id": "awZNv4NBUxzZ",
        "colab_type": "text"
      },
      "source": [
        "### PCアルゴリズムによる因果探索：0次の独立性"
      ]
    },
    {
      "cell_type": "code",
      "metadata": {
        "id": "ah0sO3iWSkEB",
        "colab_type": "code",
        "colab": {
          "base_uri": "https://localhost:8080/",
          "height": 357
        },
        "outputId": "20b113bf-7126-4560-e0fb-5bd00dec38c9"
      },
      "source": [
        "from pgmpy.estimators import ConstraintBasedEstimator\n",
        "\n",
        "est = ConstraintBasedEstimator(df_bin)\n",
        "\n",
        "# 0次の独立性の検定\n",
        "print(est.test_conditional_independence('x', 'Z', method='chi_square', tol=0.05))\n",
        "print(est.test_conditional_independence('x', 'Y', method='chi_square', tol=0.05))\n",
        "print(est.test_conditional_independence('x', 'Y2', method='chi_square', tol=0.05))\n",
        "print(est.test_conditional_independence('x', 'Y3', method='chi_square', tol=0.05))\n",
        "print(est.test_conditional_independence('x', 'Y4', method='chi_square', tol=0.05))\n",
        "print('=====')\n",
        "print(est.test_conditional_independence('Z', 'Y', method='chi_square', tol=0.05))\n",
        "print(est.test_conditional_independence('Z', 'Y2', method='chi_square', tol=0.05))\n",
        "print(est.test_conditional_independence('Z', 'Y3', method='chi_square', tol=0.05))\n",
        "print(est.test_conditional_independence('Z', 'Y4', method='chi_square', tol=0.05))\n",
        "print('=====')\n",
        "print(est.test_conditional_independence('Y', 'Y2', method='chi_square', tol=0.05))\n",
        "print(est.test_conditional_independence('Y', 'Y3', method='chi_square', tol=0.05))\n",
        "print(est.test_conditional_independence('Y', 'Y4', method='chi_square', tol=0.05))\n",
        "print('=====')\n",
        "print(est.test_conditional_independence('Y2', 'Y3', method='chi_square', tol=0.05))\n",
        "print(est.test_conditional_independence('Y2', 'Y4', method='chi_square', tol=0.05))\n",
        "print('=====')\n",
        "print(est.test_conditional_independence('Y3', 'Y4', method='chi_square', tol=0.05))\n",
        "print('=====')"
      ],
      "execution_count": 40,
      "outputs": [
        {
          "output_type": "stream",
          "text": [
            "True\n",
            "False\n",
            "True\n",
            "False\n",
            "False\n",
            "=====\n",
            "False\n",
            "True\n",
            "False\n",
            "False\n",
            "=====\n",
            "True\n",
            "False\n",
            "False\n",
            "=====\n",
            "False\n",
            "False\n",
            "=====\n",
            "False\n",
            "=====\n"
          ],
          "name": "stdout"
        }
      ]
    },
    {
      "cell_type": "markdown",
      "metadata": {
        "colab_type": "text",
        "id": "ug1bGq24WHTd"
      },
      "source": [
        "### PCアルゴリズムによる因果探索：1次の独立性"
      ]
    },
    {
      "cell_type": "code",
      "metadata": {
        "colab_type": "code",
        "id": "C5NFXzxQWHTf",
        "colab": {
          "base_uri": "https://localhost:8080/",
          "height": 289
        },
        "outputId": "7b2ad0cf-280b-4a92-cd08-5f24508665ae"
      },
      "source": [
        "from pgmpy.estimators import ConstraintBasedEstimator\n",
        "\n",
        "est = ConstraintBasedEstimator(df_bin)\n",
        "\n",
        "# 0次の独立性の検定\n",
        "print(est.test_conditional_independence('x', 'Z', ['Y'], method='chi_square', tol=0.05))\n",
        "print(est.test_conditional_independence('x', 'Z', ['Y3'], method='chi_square', tol=0.05))\n",
        "print(est.test_conditional_independence('x', 'Z', ['Y4'], method='chi_square', tol=0.05))\n",
        "print('=====')\n",
        "print(est.test_conditional_independence('x', 'Y', ['Z'], method='chi_square', tol=0.05))\n",
        "print(est.test_conditional_independence('x', 'Y', ['Y3'], method='chi_square', tol=0.05))\n",
        "print(est.test_conditional_independence('x', 'Y', ['Y4'], method='chi_square', tol=0.05))\n",
        "print('=====')\n",
        "print(est.test_conditional_independence('x', 'Y3', ['Z'], method='chi_square', tol=0.05))\n",
        "print(est.test_conditional_independence('x', 'Y3', ['Y'], method='chi_square', tol=0.05))\n",
        "print(est.test_conditional_independence('x', 'Y3', ['Y4'], method='chi_square', tol=0.05))\n",
        "print('=====')\n",
        "print(est.test_conditional_independence('x', 'Y4', ['Z'], method='chi_square', tol=0.05))\n",
        "print(est.test_conditional_independence('x', 'Y4', ['Y'], method='chi_square', tol=0.05))\n",
        "print(est.test_conditional_independence('x', 'Y4', ['Y3'], method='chi_square', tol=0.05))\n",
        "print('=====')"
      ],
      "execution_count": 41,
      "outputs": [
        {
          "output_type": "stream",
          "text": [
            "False\n",
            "False\n",
            "False\n",
            "=====\n",
            "False\n",
            "False\n",
            "False\n",
            "=====\n",
            "False\n",
            "True\n",
            "True\n",
            "=====\n",
            "False\n",
            "True\n",
            "True\n",
            "=====\n"
          ],
          "name": "stdout"
        }
      ]
    },
    {
      "cell_type": "code",
      "metadata": {
        "id": "Ik8wTc-MWx-E",
        "colab_type": "code",
        "colab": {
          "base_uri": "https://localhost:8080/",
          "height": 221
        },
        "outputId": "cacc1fa6-15a7-4b08-e378-3332f80c1c92"
      },
      "source": [
        "# 1次の独立性の検定 変数z\n",
        "print(est.test_conditional_independence('Z', 'x', ['Y'], method='chi_square', tol=0.05))\n",
        "print(est.test_conditional_independence('Z', 'x', ['Y3'], method='chi_square', tol=0.05))\n",
        "print(est.test_conditional_independence('Z', 'x', ['Y4'], method='chi_square', tol=0.05))\n",
        "print(est.test_conditional_independence('Z', 'Y', ['x'], method='chi_square', tol=0.05))\n",
        "print(est.test_conditional_independence('Z', 'Y', ['Y3'], method='chi_square', tol=0.05))\n",
        "print(est.test_conditional_independence('Z', 'Y', ['Y4'], method='chi_square', tol=0.05))\n",
        "print(est.test_conditional_independence('Z', 'Y3', ['x'], method='chi_square', tol=0.05))\n",
        "print(est.test_conditional_independence('Z', 'Y3', ['Y'], method='chi_square', tol=0.05))\n",
        "print(est.test_conditional_independence('Z', 'Y3', ['Y4'], method='chi_square', tol=0.05))\n",
        "print(est.test_conditional_independence('Z', 'Y4', ['x'], method='chi_square', tol=0.05))\n",
        "print(est.test_conditional_independence('Z', 'Y4', ['Y'], method='chi_square', tol=0.05))\n",
        "print(est.test_conditional_independence('Z', 'Y4', ['Y3'], method='chi_square', tol=0.05))"
      ],
      "execution_count": 42,
      "outputs": [
        {
          "output_type": "stream",
          "text": [
            "False\n",
            "False\n",
            "False\n",
            "False\n",
            "False\n",
            "False\n",
            "False\n",
            "True\n",
            "False\n",
            "False\n",
            "True\n",
            "True\n"
          ],
          "name": "stdout"
        }
      ]
    },
    {
      "cell_type": "code",
      "metadata": {
        "id": "6dLSG82dXz7O",
        "colab_type": "code",
        "colab": {
          "base_uri": "https://localhost:8080/",
          "height": 221
        },
        "outputId": "a475c227-ed1a-408b-8887-3ca5d176200c"
      },
      "source": [
        "# 1次の独立性の検定 変数Y\n",
        "print(est.test_conditional_independence('Y', 'x', ['Z'], method='chi_square', tol=0.05))\n",
        "print(est.test_conditional_independence('Y', 'x', ['Y3'], method='chi_square', tol=0.05))\n",
        "print(est.test_conditional_independence('Y', 'x', ['Y4'], method='chi_square', tol=0.05))\n",
        "print(est.test_conditional_independence('Y', 'Z', ['x'], method='chi_square', tol=0.05))\n",
        "print(est.test_conditional_independence('Y', 'Z', ['Y3'], method='chi_square', tol=0.05))\n",
        "print(est.test_conditional_independence('Y', 'Z', ['Y4'], method='chi_square', tol=0.05))\n",
        "print(est.test_conditional_independence('Y', 'Y3', ['x'], method='chi_square', tol=0.05))\n",
        "print(est.test_conditional_independence('Y', 'Y3', ['Z'], method='chi_square', tol=0.05))\n",
        "print(est.test_conditional_independence('Y', 'Y3', ['Y4'], method='chi_square', tol=0.05))\n",
        "print(est.test_conditional_independence('Y', 'Y4', ['x'], method='chi_square', tol=0.05))\n",
        "print(est.test_conditional_independence('Y', 'Y4', ['Z'], method='chi_square', tol=0.05))\n",
        "print(est.test_conditional_independence('Y', 'Y4', ['Y3'], method='chi_square', tol=0.05))"
      ],
      "execution_count": 44,
      "outputs": [
        {
          "output_type": "stream",
          "text": [
            "False\n",
            "False\n",
            "False\n",
            "False\n",
            "False\n",
            "False\n",
            "False\n",
            "False\n",
            "False\n",
            "False\n",
            "False\n",
            "True\n"
          ],
          "name": "stdout"
        }
      ]
    },
    {
      "cell_type": "code",
      "metadata": {
        "id": "_4jg-p3nYLzF",
        "colab_type": "code",
        "colab": {
          "base_uri": "https://localhost:8080/",
          "height": 51
        },
        "outputId": "96fd0e3e-5c42-48da-c909-b001e8dfa2f8"
      },
      "source": [
        "# 1次の独立性の検定 変数Y2\n",
        "print(est.test_conditional_independence('Y2', 'Y3', ['Y4'], method='chi_square', tol=0.05))\n",
        "print(est.test_conditional_independence('Y2', 'Y4', ['Y3'], method='chi_square', tol=0.05))"
      ],
      "execution_count": 45,
      "outputs": [
        {
          "output_type": "stream",
          "text": [
            "False\n",
            "False\n"
          ],
          "name": "stdout"
        }
      ]
    },
    {
      "cell_type": "code",
      "metadata": {
        "id": "S1H_RZ6lYtvK",
        "colab_type": "code",
        "colab": {
          "base_uri": "https://localhost:8080/",
          "height": 119
        },
        "outputId": "21258b15-44c7-46f4-a4c7-8f49224dd096"
      },
      "source": [
        "# 1次の独立性の検定 変数Y3\n",
        "print(est.test_conditional_independence('Y3', 'Y', ['Y2'], method='chi_square', tol=0.05))\n",
        "print(est.test_conditional_independence('Y3', 'Y', ['Y4'], method='chi_square', tol=0.05))\n",
        "print(est.test_conditional_independence('Y3', 'Y2', ['Y'], method='chi_square', tol=0.05))\n",
        "print(est.test_conditional_independence('Y3', 'Y2', ['Y4'], method='chi_square', tol=0.05))\n",
        "print(est.test_conditional_independence('Y3', 'Y4', ['Y'], method='chi_square', tol=0.05))\n",
        "print(est.test_conditional_independence('Y3', 'Y4', ['Y2'], method='chi_square', tol=0.05))"
      ],
      "execution_count": 46,
      "outputs": [
        {
          "output_type": "stream",
          "text": [
            "False\n",
            "False\n",
            "False\n",
            "False\n",
            "False\n",
            "False\n"
          ],
          "name": "stdout"
        }
      ]
    },
    {
      "cell_type": "markdown",
      "metadata": {
        "id": "X2XaSy9-ZgpN",
        "colab_type": "text"
      },
      "source": [
        "### オリエンテーションルールによる方向付け"
      ]
    },
    {
      "cell_type": "code",
      "metadata": {
        "id": "JhkYxbUsZFuT",
        "colab_type": "code",
        "colab": {
          "base_uri": "https://localhost:8080/",
          "height": 85
        },
        "outputId": "0c4625b2-bb40-47c3-e31e-6ba8b9c214c3"
      },
      "source": [
        "# オリエンテーションフェーズでの方向付け\n",
        "# x-Y-Y3\n",
        "print(est.test_conditional_independence('x', 'Y3', ['Y'], method='chi_square', tol=0.05))\n",
        "\n",
        "# Z-Y-Y3\n",
        "print(est.test_conditional_independence('Z', 'Y3', ['Y'], method='chi_square', tol=0.05))\n",
        "\n",
        "# Y-Y3-Y2\n",
        "print(est.test_conditional_independence('Y', 'Y2', ['Y3'], method='chi_square', tol=0.05))\n",
        "\n",
        "# Y2-Y3-Y4\n",
        "print(est.test_conditional_independence('Y2', 'Y4', ['Y3'], method='chi_square', tol=0.05))\n",
        "\n"
      ],
      "execution_count": 49,
      "outputs": [
        {
          "output_type": "stream",
          "text": [
            "True\n",
            "True\n",
            "False\n",
            "False\n"
          ],
          "name": "stdout"
        }
      ]
    },
    {
      "cell_type": "markdown",
      "metadata": {
        "id": "azfXGqgBaodl",
        "colab_type": "text"
      },
      "source": [
        "### ベイジアンネットワークでの推論"
      ]
    },
    {
      "cell_type": "code",
      "metadata": {
        "id": "0KYW4pRzaOJs",
        "colab_type": "code",
        "colab": {}
      },
      "source": [
        "from pgmpy.models import BayesianModel\n",
        "from pgmpy.inference import VariableElimination\n",
        "\n",
        "# モデルを構築\n",
        "model = BayesianModel([('x', 'Z'), ('x', 'Y'), ('Z', 'Y'), ('Y', 'Y3'), ('Y2', 'Y3'), ('Y3', 'Y4')])\n",
        "\n",
        "# モデルにデータを与える\n",
        "model.fit(df_bin)"
      ],
      "execution_count": 50,
      "outputs": []
    },
    {
      "cell_type": "code",
      "metadata": {
        "id": "a1jrAPNsbQGE",
        "colab_type": "code",
        "colab": {}
      },
      "source": [
        ""
      ],
      "execution_count": null,
      "outputs": []
    }
  ]
}