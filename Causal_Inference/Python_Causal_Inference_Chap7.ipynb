{
  "nbformat": 4,
  "nbformat_minor": 0,
  "metadata": {
    "colab": {
      "name": "Python_Causal_Inference_Chap7.ipynb",
      "provenance": [],
      "collapsed_sections": [],
      "authorship_tag": "ABX9TyOLgBs1OP2cJH7oIDb88RN7",
      "include_colab_link": true
    },
    "kernelspec": {
      "name": "python3",
      "display_name": "Python 3"
    }
  },
  "cells": [
    {
      "cell_type": "markdown",
      "metadata": {
        "id": "view-in-github",
        "colab_type": "text"
      },
      "source": [
        "<a href=\"https://colab.research.google.com/github/KamonohashiPerry/MachineLearning/blob/master/Causal_Inference/Python_Causal_Inference_Chap7.ipynb\" target=\"_parent\"><img src=\"https://colab.research.google.com/assets/colab-badge.svg\" alt=\"Open In Colab\"/></a>"
      ]
    },
    {
      "cell_type": "markdown",
      "metadata": {
        "id": "O1H5x6koGIch",
        "colab_type": "text"
      },
      "source": [
        "## ベイジアンネットワーク\n",
        "+ DAGを前提としている\n",
        "+ グラフ表現により変数間の関係性を示すための手法\n",
        "+ 構造方程式は使わないで、条件付き確率表を用いる。\n",
        "\n",
        "### 関連用語\n",
        "+ スケルトン\n",
        " + ノードとノードの繋がりだけを表す（やじるしなし）\n",
        "+ PDAG\n",
        " + 一部は有向で一部が無向のグラフ"
      ]
    },
    {
      "cell_type": "markdown",
      "metadata": {
        "id": "rWkzPvdCJFq7",
        "colab_type": "text"
      },
      "source": [
        "### ネットワークの当てはまりの良さ\n",
        "+ AIC\n",
        "+ BIC\n",
        "+ BDeu\n",
        "+ MDL符号\n",
        "+ BDe\n",
        "+ BDeu\n",
        "+ K2"
      ]
    },
    {
      "cell_type": "code",
      "metadata": {
        "id": "UjYPIvv4F90X",
        "colab_type": "code",
        "colab": {}
      },
      "source": [
        "# 乱数のシードを設定\n",
        "import random\n",
        "import numpy as np\n",
        "\n",
        "np.random.seed(1234)\n",
        "random.seed(1234)\n",
        "\n",
        "from numpy.random import *\n",
        "import pandas as pd"
      ],
      "execution_count": 51,
      "outputs": []
    },
    {
      "cell_type": "markdown",
      "metadata": {
        "id": "MUvVNdr-o25x",
        "colab_type": "text"
      },
      "source": [
        "データの作成"
      ]
    },
    {
      "cell_type": "code",
      "metadata": {
        "id": "wqEVCU6RoqFA",
        "colab_type": "code",
        "colab": {
          "base_uri": "https://localhost:8080/",
          "height": 204
        },
        "outputId": "a885ea75-5c57-4a38-8c0b-55ba64769d56"
      },
      "source": [
        "# データ数\n",
        "num_data = 10\n",
        "\n",
        "# x1:0か1の値をnum_data個生成、0の確率は0.6、1の確率は0.4\n",
        "x1 = np.random.choice([0, 1], num_data, p=[0.6, 0.4])\n",
        "\n",
        "# x2:0か1の値をnum_data個生成、0の確率は0.4、1の確率は0.6\n",
        "x2 = np.random.choice([0, 1], num_data, p=[0.4, 0.6])\n",
        "\n",
        "# 2変数で表にする\n",
        "df = pd.DataFrame({'x1':x1,\n",
        "                    'x2':x2})\n",
        "df.head()"
      ],
      "execution_count": 52,
      "outputs": [
        {
          "output_type": "execute_result",
          "data": {
            "text/html": [
              "<div>\n",
              "<style scoped>\n",
              "    .dataframe tbody tr th:only-of-type {\n",
              "        vertical-align: middle;\n",
              "    }\n",
              "\n",
              "    .dataframe tbody tr th {\n",
              "        vertical-align: top;\n",
              "    }\n",
              "\n",
              "    .dataframe thead th {\n",
              "        text-align: right;\n",
              "    }\n",
              "</style>\n",
              "<table border=\"1\" class=\"dataframe\">\n",
              "  <thead>\n",
              "    <tr style=\"text-align: right;\">\n",
              "      <th></th>\n",
              "      <th>x1</th>\n",
              "      <th>x2</th>\n",
              "    </tr>\n",
              "  </thead>\n",
              "  <tbody>\n",
              "    <tr>\n",
              "      <th>0</th>\n",
              "      <td>0</td>\n",
              "      <td>0</td>\n",
              "    </tr>\n",
              "    <tr>\n",
              "      <th>1</th>\n",
              "      <td>1</td>\n",
              "      <td>1</td>\n",
              "    </tr>\n",
              "    <tr>\n",
              "      <th>2</th>\n",
              "      <td>0</td>\n",
              "      <td>1</td>\n",
              "    </tr>\n",
              "    <tr>\n",
              "      <th>3</th>\n",
              "      <td>1</td>\n",
              "      <td>1</td>\n",
              "    </tr>\n",
              "    <tr>\n",
              "      <th>4</th>\n",
              "      <td>1</td>\n",
              "      <td>0</td>\n",
              "    </tr>\n",
              "  </tbody>\n",
              "</table>\n",
              "</div>"
            ],
            "text/plain": [
              "   x1  x2\n",
              "0   0   0\n",
              "1   1   1\n",
              "2   0   1\n",
              "3   1   1\n",
              "4   1   0"
            ]
          },
          "metadata": {
            "tags": []
          },
          "execution_count": 52
        }
      ]
    },
    {
      "cell_type": "code",
      "metadata": {
        "id": "dL418BEOpVg3",
        "colab_type": "code",
        "colab": {
          "base_uri": "https://localhost:8080/",
          "height": 359
        },
        "outputId": "a4a90277-a18b-4d9e-e899-9c07aa6a4dd0"
      },
      "source": [
        "# 変数x3:0か1の値をnum_data個生成する\n",
        "# (x1, x2) = (0, 0)のとき、0の確率は0.2\n",
        "# (x1, x2) = (1, 0)のとき、0の確率は0.3\n",
        "# (x1, x2) = (0, 1)のとき、0の確率は0.4\n",
        "# (x1, x2) = (1, 1)のとき、0の確率は0.1\n",
        "\n",
        "x3 = []\n",
        "for i in range(num_data):\n",
        "  if x1[i] == 0 and x2[i] == 0:\n",
        "    x3_value = np.random.choice([0, 1], 1, p=[0.2, 0.8])\n",
        "    x3.append(x3_value[0])\n",
        "  elif x1[i] == 0 and x2[i] == 1:\n",
        "    x3_value = np.random.choice([0, 1], 1, p=[0.3, 0.7])\n",
        "    x3.append(x3_value[0])\n",
        "  elif x1[i] == 1 and x2[i] == 0:\n",
        "    x3_value = np.random.choice([0, 1], 1, p=[0.4, 0.6])\n",
        "    x3.append(x3_value[0])\n",
        "  elif x1[i] == 1 and x2[i] == 1:\n",
        "    x3_value = np.random.choice([0, 1], 1, p=[0.1, 0.9])\n",
        "    x3.append(x3_value[0])\n",
        "\n",
        "df['x3'] = x3\n",
        "\n",
        "df"
      ],
      "execution_count": 53,
      "outputs": [
        {
          "output_type": "execute_result",
          "data": {
            "text/html": [
              "<div>\n",
              "<style scoped>\n",
              "    .dataframe tbody tr th:only-of-type {\n",
              "        vertical-align: middle;\n",
              "    }\n",
              "\n",
              "    .dataframe tbody tr th {\n",
              "        vertical-align: top;\n",
              "    }\n",
              "\n",
              "    .dataframe thead th {\n",
              "        text-align: right;\n",
              "    }\n",
              "</style>\n",
              "<table border=\"1\" class=\"dataframe\">\n",
              "  <thead>\n",
              "    <tr style=\"text-align: right;\">\n",
              "      <th></th>\n",
              "      <th>x1</th>\n",
              "      <th>x2</th>\n",
              "      <th>x3</th>\n",
              "    </tr>\n",
              "  </thead>\n",
              "  <tbody>\n",
              "    <tr>\n",
              "      <th>0</th>\n",
              "      <td>0</td>\n",
              "      <td>0</td>\n",
              "      <td>1</td>\n",
              "    </tr>\n",
              "    <tr>\n",
              "      <th>1</th>\n",
              "      <td>1</td>\n",
              "      <td>1</td>\n",
              "      <td>1</td>\n",
              "    </tr>\n",
              "    <tr>\n",
              "      <th>2</th>\n",
              "      <td>0</td>\n",
              "      <td>1</td>\n",
              "      <td>0</td>\n",
              "    </tr>\n",
              "    <tr>\n",
              "      <th>3</th>\n",
              "      <td>1</td>\n",
              "      <td>1</td>\n",
              "      <td>1</td>\n",
              "    </tr>\n",
              "    <tr>\n",
              "      <th>4</th>\n",
              "      <td>1</td>\n",
              "      <td>0</td>\n",
              "      <td>1</td>\n",
              "    </tr>\n",
              "    <tr>\n",
              "      <th>5</th>\n",
              "      <td>0</td>\n",
              "      <td>1</td>\n",
              "      <td>1</td>\n",
              "    </tr>\n",
              "    <tr>\n",
              "      <th>6</th>\n",
              "      <td>0</td>\n",
              "      <td>1</td>\n",
              "      <td>1</td>\n",
              "    </tr>\n",
              "    <tr>\n",
              "      <th>7</th>\n",
              "      <td>1</td>\n",
              "      <td>0</td>\n",
              "      <td>1</td>\n",
              "    </tr>\n",
              "    <tr>\n",
              "      <th>8</th>\n",
              "      <td>1</td>\n",
              "      <td>1</td>\n",
              "      <td>1</td>\n",
              "    </tr>\n",
              "    <tr>\n",
              "      <th>9</th>\n",
              "      <td>1</td>\n",
              "      <td>1</td>\n",
              "      <td>1</td>\n",
              "    </tr>\n",
              "  </tbody>\n",
              "</table>\n",
              "</div>"
            ],
            "text/plain": [
              "   x1  x2  x3\n",
              "0   0   0   1\n",
              "1   1   1   1\n",
              "2   0   1   0\n",
              "3   1   1   1\n",
              "4   1   0   1\n",
              "5   0   1   1\n",
              "6   0   1   1\n",
              "7   1   0   1\n",
              "8   1   1   1\n",
              "9   1   1   1"
            ]
          },
          "metadata": {
            "tags": []
          },
          "execution_count": 53
        }
      ]
    },
    {
      "cell_type": "code",
      "metadata": {
        "id": "F_7GSo6Dtltz",
        "colab_type": "code",
        "colab": {
          "base_uri": "https://localhost:8080/",
          "height": 34
        },
        "outputId": "782e5ec1-b302-4317-9a43-baa0d4021931"
      },
      "source": [
        " !pip install pgmpy==0.1.9"
      ],
      "execution_count": 54,
      "outputs": [
        {
          "output_type": "stream",
          "text": [
            "Requirement already satisfied: pgmpy==0.1.9 in /usr/local/lib/python3.6/dist-packages (0.1.9)\n"
          ],
          "name": "stdout"
        }
      ]
    },
    {
      "cell_type": "code",
      "metadata": {
        "id": "YR2gLlzmufQJ",
        "colab_type": "code",
        "colab": {}
      },
      "source": [
        "# 正解のDAGを与える\n",
        "from pgmpy.models import BayesianModel\n",
        "\n",
        "model = BayesianModel([('x1', 'x3'), ('x2', 'x3')])"
      ],
      "execution_count": 55,
      "outputs": []
    },
    {
      "cell_type": "code",
      "metadata": {
        "id": "JkFTp8cGu30O",
        "colab_type": "code",
        "colab": {
          "base_uri": "https://localhost:8080/",
          "height": 255
        },
        "outputId": "6b16b7d4-f427-4fde-ed36-1baf3a9a7bb8"
      },
      "source": [
        "# 各データパターンの個数を表示する\n",
        "from pgmpy.estimators import ParameterEstimator\n",
        "pe = ParameterEstimator(model, df)\n",
        "print(\"\\n\", pe.state_counts('x1'))\n",
        "print(\"\\n\", pe.state_counts('x2'))\n",
        "print(\"\\n\", pe.state_counts('x3'))"
      ],
      "execution_count": 56,
      "outputs": [
        {
          "output_type": "stream",
          "text": [
            "\n",
            "    x1\n",
            "0   4\n",
            "1   6\n",
            "\n",
            "    x2\n",
            "0   3\n",
            "1   7\n",
            "\n",
            " x1    0         1     \n",
            "x2    0    1    0    1\n",
            "x3                    \n",
            "0   0.0  1.0  0.0  0.0\n",
            "1   1.0  2.0  2.0  4.0\n"
          ],
          "name": "stdout"
        }
      ]
    },
    {
      "cell_type": "code",
      "metadata": {
        "id": "3rsx6B4KvL-4",
        "colab_type": "code",
        "colab": {
          "base_uri": "https://localhost:8080/",
          "height": 340
        },
        "outputId": "cf4fb4cb-3fe3-48e8-885a-f73472225a39"
      },
      "source": [
        "# CPT（条件付き確率表）を推定する\n",
        "from pgmpy.estimators import BayesianEstimator\n",
        "\n",
        "estimator = BayesianEstimator(model, df)\n",
        "\n",
        "cpd_x1 = estimator.estimate_cpd('x1', prior_type='dirichlet', pseudo_counts=[[0], [0]])\n",
        "cpd_x2 = estimator.estimate_cpd('x2', prior_type='dirichlet', pseudo_counts=[[0], [0]])\n",
        "cpd_x3 = estimator.estimate_cpd('x3', prior_type='dirichlet', pseudo_counts=[[0,0,0,0], [0,0,0,0]])\n",
        "\n",
        "print(cpd_x1)\n",
        "print(cpd_x2)\n",
        "print(cpd_x3)"
      ],
      "execution_count": 57,
      "outputs": [
        {
          "output_type": "stream",
          "text": [
            "+-------+-----+\n",
            "| x1(0) | 0.4 |\n",
            "+-------+-----+\n",
            "| x1(1) | 0.6 |\n",
            "+-------+-----+\n",
            "+-------+-----+\n",
            "| x2(0) | 0.3 |\n",
            "+-------+-----+\n",
            "| x2(1) | 0.7 |\n",
            "+-------+-----+\n",
            "+-------+-------+--------------------+-------+-------+\n",
            "| x1    | x1(0) | x1(0)              | x1(1) | x1(1) |\n",
            "+-------+-------+--------------------+-------+-------+\n",
            "| x2    | x2(0) | x2(1)              | x2(0) | x2(1) |\n",
            "+-------+-------+--------------------+-------+-------+\n",
            "| x3(0) | 0.0   | 0.3333333333333333 | 0.0   | 0.0   |\n",
            "+-------+-------+--------------------+-------+-------+\n",
            "| x3(1) | 1.0   | 0.6666666666666666 | 1.0   | 1.0   |\n",
            "+-------+-------+--------------------+-------+-------+\n"
          ],
          "name": "stdout"
        }
      ]
    },
    {
      "cell_type": "code",
      "metadata": {
        "id": "qSxcT2J9wP6F",
        "colab_type": "code",
        "colab": {
          "base_uri": "https://localhost:8080/",
          "height": 34
        },
        "outputId": "bc014530-37cc-4615-8174-1e7da20276f2"
      },
      "source": [
        "# BICを求める\n",
        "from pgmpy.estimators import BicScore\n",
        "bic = BicScore(df)\n",
        "print(bic.score(model))"
      ],
      "execution_count": 58,
      "outputs": [
        {
          "output_type": "stream",
          "text": [
            "-21.65605747450808\n"
          ],
          "name": "stdout"
        }
      ]
    },
    {
      "cell_type": "code",
      "metadata": {
        "id": "Ma-i3dDzw8t7",
        "colab_type": "code",
        "colab": {
          "base_uri": "https://localhost:8080/",
          "height": 34
        },
        "outputId": "4541dfcb-66f6-4a0e-ab0b-ddec69685b67"
      },
      "source": [
        "# 正解ではないDAGを与える\n",
        "from pgmpy.models import BayesianModel\n",
        "model = BayesianModel([('x2', 'x1'), ('x2', 'x3')])\n",
        "bic = BicScore(df)\n",
        "print(bic.score(model))"
      ],
      "execution_count": 59,
      "outputs": [
        {
          "output_type": "stream",
          "text": [
            "-21.425819218840655\n"
          ],
          "name": "stdout"
        }
      ]
    },
    {
      "cell_type": "markdown",
      "metadata": {
        "id": "5j9834G3C3UR",
        "colab_type": "text"
      },
      "source": [
        "## 変数間の独立性の検定"
      ]
    },
    {
      "cell_type": "code",
      "metadata": {
        "id": "Fa3sMPYJxbn0",
        "colab_type": "code",
        "colab": {}
      },
      "source": [
        "# 乱数のシードを設定\n",
        "import random\n",
        "import numpy as np\n",
        "\n",
        "np.random.seed(1234)\n",
        "random.seed(1234)\n",
        "\n",
        "from numpy.random import *\n",
        "import pandas as pd"
      ],
      "execution_count": 60,
      "outputs": []
    },
    {
      "cell_type": "code",
      "metadata": {
        "id": "TAJKpgOiDRtr",
        "colab_type": "code",
        "colab": {
          "base_uri": "https://localhost:8080/",
          "height": 204
        },
        "outputId": "acf7928c-ec91-49cd-fc9f-55012ee1e9a5"
      },
      "source": [
        "# データ数\n",
        "num_data = 100\n",
        "\n",
        "# x1:0か1の値をnum_data個生成、0の確率は0.6、1の確率は0.4\n",
        "x1 = np.random.choice([0, 1], num_data, p=[0.6, 0.4])\n",
        "\n",
        "# x2:0か1の値をnum_data個生成、0の確率は0.4、1の確率は0.6\n",
        "x2 = np.random.choice([0, 1], num_data, p=[0.4, 0.6])\n",
        "\n",
        "# x2はx1と因果関係にあるとする\n",
        "x2 = x2*x1\n",
        "\n",
        "# 2変数で表にする\n",
        "df = pd.DataFrame({'x1':x1,\n",
        "                     'x2':x2})\n",
        "\n",
        "df.head()"
      ],
      "execution_count": 61,
      "outputs": [
        {
          "output_type": "execute_result",
          "data": {
            "text/html": [
              "<div>\n",
              "<style scoped>\n",
              "    .dataframe tbody tr th:only-of-type {\n",
              "        vertical-align: middle;\n",
              "    }\n",
              "\n",
              "    .dataframe tbody tr th {\n",
              "        vertical-align: top;\n",
              "    }\n",
              "\n",
              "    .dataframe thead th {\n",
              "        text-align: right;\n",
              "    }\n",
              "</style>\n",
              "<table border=\"1\" class=\"dataframe\">\n",
              "  <thead>\n",
              "    <tr style=\"text-align: right;\">\n",
              "      <th></th>\n",
              "      <th>x1</th>\n",
              "      <th>x2</th>\n",
              "    </tr>\n",
              "  </thead>\n",
              "  <tbody>\n",
              "    <tr>\n",
              "      <th>0</th>\n",
              "      <td>0</td>\n",
              "      <td>0</td>\n",
              "    </tr>\n",
              "    <tr>\n",
              "      <th>1</th>\n",
              "      <td>1</td>\n",
              "      <td>1</td>\n",
              "    </tr>\n",
              "    <tr>\n",
              "      <th>2</th>\n",
              "      <td>0</td>\n",
              "      <td>0</td>\n",
              "    </tr>\n",
              "    <tr>\n",
              "      <th>3</th>\n",
              "      <td>1</td>\n",
              "      <td>1</td>\n",
              "    </tr>\n",
              "    <tr>\n",
              "      <th>4</th>\n",
              "      <td>1</td>\n",
              "      <td>1</td>\n",
              "    </tr>\n",
              "  </tbody>\n",
              "</table>\n",
              "</div>"
            ],
            "text/plain": [
              "   x1  x2\n",
              "0   0   0\n",
              "1   1   1\n",
              "2   0   0\n",
              "3   1   1\n",
              "4   1   1"
            ]
          },
          "metadata": {
            "tags": []
          },
          "execution_count": 61
        }
      ]
    },
    {
      "cell_type": "code",
      "metadata": {
        "id": "KHW9_6RpEZHG",
        "colab_type": "code",
        "colab": {
          "base_uri": "https://localhost:8080/",
          "height": 85
        },
        "outputId": "6b3e8ded-56c1-47af-85f6-94682abd39cc"
      },
      "source": [
        "# 各カウント\n",
        "print(((df['x1'] == 0) & (df['x2'] == 0)).sum())\n",
        "print(((df['x1'] == 1) & (df['x2'] == 0)).sum())\n",
        "print(((df['x1'] == 0) & (df['x2'] == 1)).sum())\n",
        "print(((df['x1'] == 1) & (df['x2'] == 1)).sum())"
      ],
      "execution_count": 62,
      "outputs": [
        {
          "output_type": "stream",
          "text": [
            "58\n",
            "9\n",
            "0\n",
            "33\n"
          ],
          "name": "stdout"
        }
      ]
    },
    {
      "cell_type": "markdown",
      "metadata": {
        "id": "gSx-P4EwIByG",
        "colab_type": "text"
      },
      "source": [
        "### 条件付きの独立性のカイ二乗検定"
      ]
    },
    {
      "cell_type": "code",
      "metadata": {
        "id": "YwcwUZCVErAw",
        "colab_type": "code",
        "colab": {
          "base_uri": "https://localhost:8080/",
          "height": 85
        },
        "outputId": "0af46309-bf63-4ca9-8ba9-155820f1754f"
      },
      "source": [
        "# データ数\n",
        "num_data = 100\n",
        "\n",
        "# x1:0か1の値をnum_data個生成、0の確率は0.6、1の確率は0.4\n",
        "x1 = np.random.choice([0, 1], num_data, p=[0.6, 0.4])\n",
        "\n",
        "# x2:0か1の値をnum_data個生成、0の確率は0.4、1の確率は0.6\n",
        "x2 = np.random.choice([0, 1], num_data, p=[0.4, 0.6])\n",
        "\n",
        "# 2変数で表にする\n",
        "df2 = pd.DataFrame({'x1':x1,\n",
        "                     'x2':x2})\n",
        "\n",
        "# 各カウント\n",
        "print(((df['x1'] == 0) & (df['x2'] == 0)).sum())\n",
        "print(((df['x1'] == 1) & (df['x2'] == 0)).sum())\n",
        "print(((df['x1'] == 0) & (df['x2'] == 1)).sum())\n",
        "print(((df['x1'] == 1) & (df['x2'] == 1)).sum())"
      ],
      "execution_count": 63,
      "outputs": [
        {
          "output_type": "stream",
          "text": [
            "58\n",
            "9\n",
            "0\n",
            "33\n"
          ],
          "name": "stdout"
        }
      ]
    },
    {
      "cell_type": "code",
      "metadata": {
        "id": "Y6FBwklrIX24",
        "colab_type": "code",
        "colab": {
          "base_uri": "https://localhost:8080/",
          "height": 51
        },
        "outputId": "72c6ef15-7a36-4658-fa4e-268550fbb561"
      },
      "source": [
        "from pgmpy.estimators import ConstraintBasedEstimator\n",
        "\n",
        "est = ConstraintBasedEstimator(df2)\n",
        "print(est.test_conditional_independence('x1', 'x2', method='chi_square', tol=0.05))\n",
        "\n",
        "# 最初の例の場合\n",
        "est = ConstraintBasedEstimator(df)\n",
        "print(est.test_conditional_independence('x1', 'x2', method='chi_square', tol=0.05))"
      ],
      "execution_count": 64,
      "outputs": [
        {
          "output_type": "stream",
          "text": [
            "True\n",
            "False\n"
          ],
          "name": "stdout"
        }
      ]
    },
    {
      "cell_type": "markdown",
      "metadata": {
        "id": "2XLRTV1GOeoF",
        "colab_type": "text"
      },
      "source": [
        "## PCアルゴリズムによるベイジアンネットワーク探索の実装"
      ]
    },
    {
      "cell_type": "code",
      "metadata": {
        "id": "qPlajP6cIyza",
        "colab_type": "code",
        "colab": {}
      },
      "source": [
        "# 乱数のシードの設定\n",
        "import random\n",
        "import numpy as np\n",
        "\n",
        "np.random.seed(1234)\n",
        "random.seed(1234)\n",
        "\n",
        "# 標準正規分布の生成用\n",
        "from numpy.random import *\n",
        "\n",
        "# グラフの描画用\n",
        "import matplotlib.pyplot as plt\n",
        "\n",
        "# SciPy 平均0、分散1に正規化する関数\n",
        "import scipy.stats\n",
        "\n",
        "# シグモイド関数\n",
        "from scipy.special import expit\n",
        "\n",
        "import pandas as pd"
      ],
      "execution_count": 65,
      "outputs": []
    },
    {
      "cell_type": "code",
      "metadata": {
        "id": "YCfUv2YnPyU4",
        "colab_type": "code",
        "colab": {
          "base_uri": "https://localhost:8080/",
          "height": 204
        },
        "outputId": "79a0fb12-0ddc-4dd2-8e0b-b87dfcc84007"
      },
      "source": [
        "# データ数\n",
        "num_data = 2000\n",
        "\n",
        "# 部下育成への熱心さ\n",
        "x = np.random.uniform(low=-1, high=1, size=num_data)\n",
        "\n",
        "# 上司が研修に参加したかどうか\n",
        "e_z = randn(num_data)\n",
        "z_prob = expit(-0.5*x + 5*e_z)\n",
        "Z = np.array([])\n",
        "\n",
        "for i in range(num_data):\n",
        "  Z_i = np.random.choice(2, size=1, p=[1-z_prob[i], z_prob[i]])[0]\n",
        "  Z = np.append(Z, Z_i)\n",
        "\n",
        "# 介入効果の非線形性\n",
        "t = np.zeros(num_data)\n",
        "for i in range(num_data):\n",
        "  if x[i] < 0:\n",
        "    t[i] = 0.5\n",
        "  elif x[i] >= 0 and x[i] < 0.5:\n",
        "    t[i] = 0.7\n",
        "  elif x[i] >= 0.5:\n",
        "    t[i] = 1.0\n",
        "\n",
        "e_y = randn(num_data)\n",
        "Y = 2.0 + t*Z + 0.3*x + 0.1*e_y\n",
        "\n",
        "# 部下当人のチームメンバーへの満足度\n",
        "Y2 = np.random.choice([1.0, 2.0, 3.0, 4.0, 5.0],\n",
        "                        num_data, p=[0.1, 0.2, 0.3, 0.2, 0.2])\n",
        "\n",
        "# 部下当人の仕事への満足度\n",
        "e_y3 = randn(num_data)\n",
        "Y3 = 3*Y + Y2 + e_y3\n",
        "\n",
        "# 部下当人の仕事のパフォーマンス\n",
        "e_y4 = randn(num_data)\n",
        "Y4 = 3*Y3 + 5 + 2*e_y4\n",
        "\n",
        "df = pd.DataFrame({'x':x,\n",
        "                    'Z':Z,\n",
        "                    't':t,\n",
        "                    'Y':Y,\n",
        "                    'Y2':Y2,\n",
        "                    'Y3':Y3,\n",
        "                    'Y4':Y4})\n",
        "df.head()"
      ],
      "execution_count": 66,
      "outputs": [
        {
          "output_type": "execute_result",
          "data": {
            "text/html": [
              "<div>\n",
              "<style scoped>\n",
              "    .dataframe tbody tr th:only-of-type {\n",
              "        vertical-align: middle;\n",
              "    }\n",
              "\n",
              "    .dataframe tbody tr th {\n",
              "        vertical-align: top;\n",
              "    }\n",
              "\n",
              "    .dataframe thead th {\n",
              "        text-align: right;\n",
              "    }\n",
              "</style>\n",
              "<table border=\"1\" class=\"dataframe\">\n",
              "  <thead>\n",
              "    <tr style=\"text-align: right;\">\n",
              "      <th></th>\n",
              "      <th>x</th>\n",
              "      <th>Z</th>\n",
              "      <th>t</th>\n",
              "      <th>Y</th>\n",
              "      <th>Y2</th>\n",
              "      <th>Y3</th>\n",
              "      <th>Y4</th>\n",
              "    </tr>\n",
              "  </thead>\n",
              "  <tbody>\n",
              "    <tr>\n",
              "      <th>0</th>\n",
              "      <td>-0.616961</td>\n",
              "      <td>1.0</td>\n",
              "      <td>0.5</td>\n",
              "      <td>2.286924</td>\n",
              "      <td>2.0</td>\n",
              "      <td>8.732544</td>\n",
              "      <td>30.326507</td>\n",
              "    </tr>\n",
              "    <tr>\n",
              "      <th>1</th>\n",
              "      <td>0.244218</td>\n",
              "      <td>1.0</td>\n",
              "      <td>0.7</td>\n",
              "      <td>2.864636</td>\n",
              "      <td>3.0</td>\n",
              "      <td>10.743959</td>\n",
              "      <td>37.149014</td>\n",
              "    </tr>\n",
              "    <tr>\n",
              "      <th>2</th>\n",
              "      <td>-0.124545</td>\n",
              "      <td>0.0</td>\n",
              "      <td>0.5</td>\n",
              "      <td>2.198515</td>\n",
              "      <td>3.0</td>\n",
              "      <td>10.569163</td>\n",
              "      <td>38.481185</td>\n",
              "    </tr>\n",
              "    <tr>\n",
              "      <th>3</th>\n",
              "      <td>0.570717</td>\n",
              "      <td>1.0</td>\n",
              "      <td>1.0</td>\n",
              "      <td>3.230572</td>\n",
              "      <td>3.0</td>\n",
              "      <td>12.312526</td>\n",
              "      <td>43.709229</td>\n",
              "    </tr>\n",
              "    <tr>\n",
              "      <th>4</th>\n",
              "      <td>0.559952</td>\n",
              "      <td>1.0</td>\n",
              "      <td>1.0</td>\n",
              "      <td>3.459267</td>\n",
              "      <td>5.0</td>\n",
              "      <td>15.418739</td>\n",
              "      <td>49.833938</td>\n",
              "    </tr>\n",
              "  </tbody>\n",
              "</table>\n",
              "</div>"
            ],
            "text/plain": [
              "          x    Z    t         Y   Y2         Y3         Y4\n",
              "0 -0.616961  1.0  0.5  2.286924  2.0   8.732544  30.326507\n",
              "1  0.244218  1.0  0.7  2.864636  3.0  10.743959  37.149014\n",
              "2 -0.124545  0.0  0.5  2.198515  3.0  10.569163  38.481185\n",
              "3  0.570717  1.0  1.0  3.230572  3.0  12.312526  43.709229\n",
              "4  0.559952  1.0  1.0  3.459267  5.0  15.418739  49.833938"
            ]
          },
          "metadata": {
            "tags": []
          },
          "execution_count": 66
        }
      ]
    },
    {
      "cell_type": "markdown",
      "metadata": {
        "id": "JgOQZpRaSFYT",
        "colab_type": "text"
      },
      "source": [
        "### データの離散化"
      ]
    },
    {
      "cell_type": "code",
      "metadata": {
        "id": "2bnJto-kQiYY",
        "colab_type": "code",
        "colab": {
          "base_uri": "https://localhost:8080/",
          "height": 204
        },
        "outputId": "51e7cfde-2410-4ce4-889d-3868180df6e5"
      },
      "source": [
        "# データを区切る\n",
        "df_bin = df.copy()\n",
        "del df_bin['t']\n",
        "\n",
        "# 部下育成への熱心さ\n",
        "df_bin['x'], x_bins = pd.cut(df['x'], 5, labels=[1, 2, 3, 4, 5], retbins=True)\n",
        "\n",
        "# 上司が研修に参加したかどうか\n",
        "df_bin['Z'], z_bins = pd.cut(df['Z'], 2, labels=[0,1], retbins=True)\n",
        "\n",
        "# 部下当人の面談の満足度\n",
        "df_bin['Y'], y_bins = pd.cut(df['Y'], 5, labels=[1,2,3,4,5], retbins=True)\n",
        "\n",
        "# 部下当人のチームメンバーへの満足度\n",
        "df_bin['Y2'], y2_bins = pd.cut(df['Y2'], 5, labels=[1,2,3,4,5], retbins=True)\n",
        "\n",
        "# 部下当人の仕事への満足度\n",
        "df_bin['Y3'], y3_bins = pd.cut(df['Y3'], 5, labels=[1,2,3,4,5], retbins=True)\n",
        "\n",
        "# 部下当人の仕事のパフォーマンス\n",
        "df_bin['Y4'], y4_bins = pd.cut(df['Y4'], 5, labels=[1,2,3,4,5], retbins=True)\n",
        "\n",
        "df_bin.head()"
      ],
      "execution_count": 67,
      "outputs": [
        {
          "output_type": "execute_result",
          "data": {
            "text/html": [
              "<div>\n",
              "<style scoped>\n",
              "    .dataframe tbody tr th:only-of-type {\n",
              "        vertical-align: middle;\n",
              "    }\n",
              "\n",
              "    .dataframe tbody tr th {\n",
              "        vertical-align: top;\n",
              "    }\n",
              "\n",
              "    .dataframe thead th {\n",
              "        text-align: right;\n",
              "    }\n",
              "</style>\n",
              "<table border=\"1\" class=\"dataframe\">\n",
              "  <thead>\n",
              "    <tr style=\"text-align: right;\">\n",
              "      <th></th>\n",
              "      <th>x</th>\n",
              "      <th>Z</th>\n",
              "      <th>Y</th>\n",
              "      <th>Y2</th>\n",
              "      <th>Y3</th>\n",
              "      <th>Y4</th>\n",
              "    </tr>\n",
              "  </thead>\n",
              "  <tbody>\n",
              "    <tr>\n",
              "      <th>0</th>\n",
              "      <td>1</td>\n",
              "      <td>1</td>\n",
              "      <td>2</td>\n",
              "      <td>2</td>\n",
              "      <td>2</td>\n",
              "      <td>2</td>\n",
              "    </tr>\n",
              "    <tr>\n",
              "      <th>1</th>\n",
              "      <td>4</td>\n",
              "      <td>1</td>\n",
              "      <td>4</td>\n",
              "      <td>3</td>\n",
              "      <td>3</td>\n",
              "      <td>3</td>\n",
              "    </tr>\n",
              "    <tr>\n",
              "      <th>2</th>\n",
              "      <td>3</td>\n",
              "      <td>0</td>\n",
              "      <td>2</td>\n",
              "      <td>3</td>\n",
              "      <td>3</td>\n",
              "      <td>3</td>\n",
              "    </tr>\n",
              "    <tr>\n",
              "      <th>3</th>\n",
              "      <td>4</td>\n",
              "      <td>1</td>\n",
              "      <td>5</td>\n",
              "      <td>3</td>\n",
              "      <td>4</td>\n",
              "      <td>4</td>\n",
              "    </tr>\n",
              "    <tr>\n",
              "      <th>4</th>\n",
              "      <td>4</td>\n",
              "      <td>1</td>\n",
              "      <td>5</td>\n",
              "      <td>5</td>\n",
              "      <td>5</td>\n",
              "      <td>4</td>\n",
              "    </tr>\n",
              "  </tbody>\n",
              "</table>\n",
              "</div>"
            ],
            "text/plain": [
              "   x  Z  Y Y2 Y3 Y4\n",
              "0  1  1  2  2  2  2\n",
              "1  4  1  4  3  3  3\n",
              "2  3  0  2  3  3  3\n",
              "3  4  1  5  3  4  4\n",
              "4  4  1  5  5  5  4"
            ]
          },
          "metadata": {
            "tags": []
          },
          "execution_count": 67
        }
      ]
    },
    {
      "cell_type": "markdown",
      "metadata": {
        "id": "awZNv4NBUxzZ",
        "colab_type": "text"
      },
      "source": [
        "### PCアルゴリズムによる因果探索：0次の独立性"
      ]
    },
    {
      "cell_type": "code",
      "metadata": {
        "id": "ah0sO3iWSkEB",
        "colab_type": "code",
        "colab": {
          "base_uri": "https://localhost:8080/",
          "height": 357
        },
        "outputId": "b6ccc49e-90e8-48a6-b43b-2c957edcc71f"
      },
      "source": [
        "from pgmpy.estimators import ConstraintBasedEstimator\n",
        "\n",
        "est = ConstraintBasedEstimator(df_bin)\n",
        "\n",
        "# 0次の独立性の検定\n",
        "print(est.test_conditional_independence('x', 'Z', method='chi_square', tol=0.05))\n",
        "print(est.test_conditional_independence('x', 'Y', method='chi_square', tol=0.05))\n",
        "print(est.test_conditional_independence('x', 'Y2', method='chi_square', tol=0.05))\n",
        "print(est.test_conditional_independence('x', 'Y3', method='chi_square', tol=0.05))\n",
        "print(est.test_conditional_independence('x', 'Y4', method='chi_square', tol=0.05))\n",
        "print('=====')\n",
        "print(est.test_conditional_independence('Z', 'Y', method='chi_square', tol=0.05))\n",
        "print(est.test_conditional_independence('Z', 'Y2', method='chi_square', tol=0.05))\n",
        "print(est.test_conditional_independence('Z', 'Y3', method='chi_square', tol=0.05))\n",
        "print(est.test_conditional_independence('Z', 'Y4', method='chi_square', tol=0.05))\n",
        "print('=====')\n",
        "print(est.test_conditional_independence('Y', 'Y2', method='chi_square', tol=0.05))\n",
        "print(est.test_conditional_independence('Y', 'Y3', method='chi_square', tol=0.05))\n",
        "print(est.test_conditional_independence('Y', 'Y4', method='chi_square', tol=0.05))\n",
        "print('=====')\n",
        "print(est.test_conditional_independence('Y2', 'Y3', method='chi_square', tol=0.05))\n",
        "print(est.test_conditional_independence('Y2', 'Y4', method='chi_square', tol=0.05))\n",
        "print('=====')\n",
        "print(est.test_conditional_independence('Y3', 'Y4', method='chi_square', tol=0.05))\n",
        "print('=====')"
      ],
      "execution_count": 68,
      "outputs": [
        {
          "output_type": "stream",
          "text": [
            "True\n",
            "False\n",
            "True\n",
            "False\n",
            "False\n",
            "=====\n",
            "False\n",
            "True\n",
            "False\n",
            "False\n",
            "=====\n",
            "True\n",
            "False\n",
            "False\n",
            "=====\n",
            "False\n",
            "False\n",
            "=====\n",
            "False\n",
            "=====\n"
          ],
          "name": "stdout"
        }
      ]
    },
    {
      "cell_type": "markdown",
      "metadata": {
        "colab_type": "text",
        "id": "ug1bGq24WHTd"
      },
      "source": [
        "### PCアルゴリズムによる因果探索：1次の独立性"
      ]
    },
    {
      "cell_type": "code",
      "metadata": {
        "colab_type": "code",
        "id": "C5NFXzxQWHTf",
        "colab": {
          "base_uri": "https://localhost:8080/",
          "height": 289
        },
        "outputId": "4a0023e4-c9c7-4ef4-e2ed-09c79ef80f57"
      },
      "source": [
        "from pgmpy.estimators import ConstraintBasedEstimator\n",
        "\n",
        "est = ConstraintBasedEstimator(df_bin)\n",
        "\n",
        "# 0次の独立性の検定\n",
        "print(est.test_conditional_independence('x', 'Z', ['Y'], method='chi_square', tol=0.05))\n",
        "print(est.test_conditional_independence('x', 'Z', ['Y3'], method='chi_square', tol=0.05))\n",
        "print(est.test_conditional_independence('x', 'Z', ['Y4'], method='chi_square', tol=0.05))\n",
        "print('=====')\n",
        "print(est.test_conditional_independence('x', 'Y', ['Z'], method='chi_square', tol=0.05))\n",
        "print(est.test_conditional_independence('x', 'Y', ['Y3'], method='chi_square', tol=0.05))\n",
        "print(est.test_conditional_independence('x', 'Y', ['Y4'], method='chi_square', tol=0.05))\n",
        "print('=====')\n",
        "print(est.test_conditional_independence('x', 'Y3', ['Z'], method='chi_square', tol=0.05))\n",
        "print(est.test_conditional_independence('x', 'Y3', ['Y'], method='chi_square', tol=0.05))\n",
        "print(est.test_conditional_independence('x', 'Y3', ['Y4'], method='chi_square', tol=0.05))\n",
        "print('=====')\n",
        "print(est.test_conditional_independence('x', 'Y4', ['Z'], method='chi_square', tol=0.05))\n",
        "print(est.test_conditional_independence('x', 'Y4', ['Y'], method='chi_square', tol=0.05))\n",
        "print(est.test_conditional_independence('x', 'Y4', ['Y3'], method='chi_square', tol=0.05))\n",
        "print('=====')"
      ],
      "execution_count": 69,
      "outputs": [
        {
          "output_type": "stream",
          "text": [
            "False\n",
            "False\n",
            "False\n",
            "=====\n",
            "False\n",
            "False\n",
            "False\n",
            "=====\n",
            "False\n",
            "True\n",
            "False\n",
            "=====\n",
            "False\n",
            "True\n",
            "True\n",
            "=====\n"
          ],
          "name": "stdout"
        }
      ]
    },
    {
      "cell_type": "code",
      "metadata": {
        "id": "Ik8wTc-MWx-E",
        "colab_type": "code",
        "colab": {
          "base_uri": "https://localhost:8080/",
          "height": 221
        },
        "outputId": "f8a76f84-1461-470b-ba1c-14aa20dc0ba0"
      },
      "source": [
        "# 1次の独立性の検定 変数z\n",
        "print(est.test_conditional_independence('Z', 'x', ['Y'], method='chi_square', tol=0.05))\n",
        "print(est.test_conditional_independence('Z', 'x', ['Y3'], method='chi_square', tol=0.05))\n",
        "print(est.test_conditional_independence('Z', 'x', ['Y4'], method='chi_square', tol=0.05))\n",
        "print(est.test_conditional_independence('Z', 'Y', ['x'], method='chi_square', tol=0.05))\n",
        "print(est.test_conditional_independence('Z', 'Y', ['Y3'], method='chi_square', tol=0.05))\n",
        "print(est.test_conditional_independence('Z', 'Y', ['Y4'], method='chi_square', tol=0.05))\n",
        "print(est.test_conditional_independence('Z', 'Y3', ['x'], method='chi_square', tol=0.05))\n",
        "print(est.test_conditional_independence('Z', 'Y3', ['Y'], method='chi_square', tol=0.05))\n",
        "print(est.test_conditional_independence('Z', 'Y3', ['Y4'], method='chi_square', tol=0.05))\n",
        "print(est.test_conditional_independence('Z', 'Y4', ['x'], method='chi_square', tol=0.05))\n",
        "print(est.test_conditional_independence('Z', 'Y4', ['Y'], method='chi_square', tol=0.05))\n",
        "print(est.test_conditional_independence('Z', 'Y4', ['Y3'], method='chi_square', tol=0.05))"
      ],
      "execution_count": 70,
      "outputs": [
        {
          "output_type": "stream",
          "text": [
            "False\n",
            "False\n",
            "False\n",
            "False\n",
            "False\n",
            "False\n",
            "False\n",
            "True\n",
            "False\n",
            "False\n",
            "True\n",
            "True\n"
          ],
          "name": "stdout"
        }
      ]
    },
    {
      "cell_type": "code",
      "metadata": {
        "id": "6dLSG82dXz7O",
        "colab_type": "code",
        "colab": {
          "base_uri": "https://localhost:8080/",
          "height": 221
        },
        "outputId": "49e7e943-e506-40d3-c1cf-7610f805d1f8"
      },
      "source": [
        "# 1次の独立性の検定 変数Y\n",
        "print(est.test_conditional_independence('Y', 'x', ['Z'], method='chi_square', tol=0.05))\n",
        "print(est.test_conditional_independence('Y', 'x', ['Y3'], method='chi_square', tol=0.05))\n",
        "print(est.test_conditional_independence('Y', 'x', ['Y4'], method='chi_square', tol=0.05))\n",
        "print(est.test_conditional_independence('Y', 'Z', ['x'], method='chi_square', tol=0.05))\n",
        "print(est.test_conditional_independence('Y', 'Z', ['Y3'], method='chi_square', tol=0.05))\n",
        "print(est.test_conditional_independence('Y', 'Z', ['Y4'], method='chi_square', tol=0.05))\n",
        "print(est.test_conditional_independence('Y', 'Y3', ['x'], method='chi_square', tol=0.05))\n",
        "print(est.test_conditional_independence('Y', 'Y3', ['Z'], method='chi_square', tol=0.05))\n",
        "print(est.test_conditional_independence('Y', 'Y3', ['Y4'], method='chi_square', tol=0.05))\n",
        "print(est.test_conditional_independence('Y', 'Y4', ['x'], method='chi_square', tol=0.05))\n",
        "print(est.test_conditional_independence('Y', 'Y4', ['Z'], method='chi_square', tol=0.05))\n",
        "print(est.test_conditional_independence('Y', 'Y4', ['Y3'], method='chi_square', tol=0.05))"
      ],
      "execution_count": 71,
      "outputs": [
        {
          "output_type": "stream",
          "text": [
            "False\n",
            "False\n",
            "False\n",
            "False\n",
            "False\n",
            "False\n",
            "False\n",
            "False\n",
            "False\n",
            "False\n",
            "False\n",
            "True\n"
          ],
          "name": "stdout"
        }
      ]
    },
    {
      "cell_type": "code",
      "metadata": {
        "id": "_4jg-p3nYLzF",
        "colab_type": "code",
        "colab": {
          "base_uri": "https://localhost:8080/",
          "height": 51
        },
        "outputId": "e838b432-4ad8-4fdd-eea0-102c66d27cdc"
      },
      "source": [
        "# 1次の独立性の検定 変数Y2\n",
        "print(est.test_conditional_independence('Y2', 'Y3', ['Y4'], method='chi_square', tol=0.05))\n",
        "print(est.test_conditional_independence('Y2', 'Y4', ['Y3'], method='chi_square', tol=0.05))"
      ],
      "execution_count": 72,
      "outputs": [
        {
          "output_type": "stream",
          "text": [
            "False\n",
            "True\n"
          ],
          "name": "stdout"
        }
      ]
    },
    {
      "cell_type": "code",
      "metadata": {
        "id": "S1H_RZ6lYtvK",
        "colab_type": "code",
        "colab": {
          "base_uri": "https://localhost:8080/",
          "height": 119
        },
        "outputId": "97c7a85e-6dc4-4223-f03c-89c19a127dc5"
      },
      "source": [
        "# 1次の独立性の検定 変数Y3\n",
        "print(est.test_conditional_independence('Y3', 'Y', ['Y2'], method='chi_square', tol=0.05))\n",
        "print(est.test_conditional_independence('Y3', 'Y', ['Y4'], method='chi_square', tol=0.05))\n",
        "print(est.test_conditional_independence('Y3', 'Y2', ['Y'], method='chi_square', tol=0.05))\n",
        "print(est.test_conditional_independence('Y3', 'Y2', ['Y4'], method='chi_square', tol=0.05))\n",
        "print(est.test_conditional_independence('Y3', 'Y4', ['Y'], method='chi_square', tol=0.05))\n",
        "print(est.test_conditional_independence('Y3', 'Y4', ['Y2'], method='chi_square', tol=0.05))"
      ],
      "execution_count": 73,
      "outputs": [
        {
          "output_type": "stream",
          "text": [
            "False\n",
            "False\n",
            "False\n",
            "False\n",
            "False\n",
            "False\n"
          ],
          "name": "stdout"
        }
      ]
    },
    {
      "cell_type": "markdown",
      "metadata": {
        "id": "X2XaSy9-ZgpN",
        "colab_type": "text"
      },
      "source": [
        "### オリエンテーションルールによる方向付け"
      ]
    },
    {
      "cell_type": "code",
      "metadata": {
        "id": "JhkYxbUsZFuT",
        "colab_type": "code",
        "colab": {
          "base_uri": "https://localhost:8080/",
          "height": 85
        },
        "outputId": "47592825-1656-4eee-b18a-2db31f5a6cf9"
      },
      "source": [
        "# オリエンテーションフェーズでの方向付け\n",
        "# x-Y-Y3\n",
        "print(est.test_conditional_independence('x', 'Y3', ['Y'], method='chi_square', tol=0.05))\n",
        "\n",
        "# Z-Y-Y3\n",
        "print(est.test_conditional_independence('Z', 'Y3', ['Y'], method='chi_square', tol=0.05))\n",
        "\n",
        "# Y-Y3-Y2\n",
        "print(est.test_conditional_independence('Y', 'Y2', ['Y3'], method='chi_square', tol=0.05))\n",
        "\n",
        "# Y2-Y3-Y4\n",
        "print(est.test_conditional_independence('Y2', 'Y4', ['Y3'], method='chi_square', tol=0.05))\n",
        "\n"
      ],
      "execution_count": 74,
      "outputs": [
        {
          "output_type": "stream",
          "text": [
            "True\n",
            "True\n",
            "False\n",
            "True\n"
          ],
          "name": "stdout"
        }
      ]
    },
    {
      "cell_type": "markdown",
      "metadata": {
        "id": "azfXGqgBaodl",
        "colab_type": "text"
      },
      "source": [
        "### ベイジアンネットワークでの推論"
      ]
    },
    {
      "cell_type": "code",
      "metadata": {
        "id": "0KYW4pRzaOJs",
        "colab_type": "code",
        "colab": {
          "base_uri": "https://localhost:8080/",
          "height": 816
        },
        "outputId": "98f37a0b-72ae-4940-e307-1d59ff566fd8"
      },
      "source": [
        "from pgmpy.models import BayesianModel\n",
        "from pgmpy.inference import VariableElimination\n",
        "\n",
        "# モデルを構築\n",
        "model = BayesianModel([('x', 'Z'), ('x', 'Y'), ('Z', 'Y'), ('Y', 'Y3'), ('Y2', 'Y3'), ('Y3', 'Y4')])\n",
        "\n",
        "# モデルにデータを与える\n",
        "model.fit(df_bin)\n",
        "\n",
        "# 変数消去アルゴリズムで推論\n",
        "infer = VariableElimination(model)\n",
        "obserbed_data = {'Z':0,\n",
        "                   'Y3':3}\n",
        "x_dist = infer.query(['x'], evidence=obserbed_data)\n",
        "print(x_dist)\n",
        "print('=================')\n",
        "obserbed_data = {'Z':1,\n",
        "                   'Y3':3}\n",
        "x_dist = infer.query(['x'], evidence=obserbed_data)\n",
        "print(x_dist)\n",
        "print('=================')\n",
        "obserbed_data = {'Z':1,\n",
        "                   'Y3':5}\n",
        "x_dist = infer.query(['x'], evidence=obserbed_data)\n",
        "print(x_dist)"
      ],
      "execution_count": 78,
      "outputs": [
        {
          "output_type": "stream",
          "text": [
            "Finding Elimination Order: : 100%|██████████| 3/3 [00:00<00:00, 696.65it/s]\n",
            "Eliminating: Y: 100%|██████████| 3/3 [00:00<00:00, 408.51it/s]\n",
            "Finding Elimination Order: : 100%|██████████| 3/3 [00:00<00:00, 1818.60it/s]\n",
            "Eliminating: Y: 100%|██████████| 3/3 [00:00<00:00, 431.56it/s]\n",
            "Finding Elimination Order: : 100%|██████████| 3/3 [00:00<00:00, 2014.56it/s]\n",
            "Eliminating: Y: 100%|██████████| 3/3 [00:00<00:00, 537.94it/s]"
          ],
          "name": "stderr"
        },
        {
          "output_type": "stream",
          "text": [
            "+------+----------+\n",
            "| x    |   phi(x) |\n",
            "+======+==========+\n",
            "| x(1) |   0.1515 |\n",
            "+------+----------+\n",
            "| x(2) |   0.1599 |\n",
            "+------+----------+\n",
            "| x(3) |   0.2154 |\n",
            "+------+----------+\n",
            "| x(4) |   0.2191 |\n",
            "+------+----------+\n",
            "| x(5) |   0.2541 |\n",
            "+------+----------+\n",
            "=================\n",
            "+------+----------+\n",
            "| x    |   phi(x) |\n",
            "+======+==========+\n",
            "| x(1) |   0.2766 |\n",
            "+------+----------+\n",
            "| x(2) |   0.1874 |\n",
            "+------+----------+\n",
            "| x(3) |   0.2434 |\n",
            "+------+----------+\n",
            "| x(4) |   0.1704 |\n",
            "+------+----------+\n",
            "| x(5) |   0.1222 |\n",
            "+------+----------+\n",
            "=================\n",
            "+------+----------+\n",
            "| x    |   phi(x) |\n",
            "+======+==========+\n",
            "| x(1) |   0.0038 |\n",
            "+------+----------+\n",
            "| x(2) |   0.0056 |\n",
            "+------+----------+\n",
            "| x(3) |   0.0524 |\n",
            "+------+----------+\n",
            "| x(4) |   0.2658 |\n",
            "+------+----------+\n",
            "| x(5) |   0.6724 |\n",
            "+------+----------+\n"
          ],
          "name": "stdout"
        },
        {
          "output_type": "stream",
          "text": [
            "\n"
          ],
          "name": "stderr"
        }
      ]
    },
    {
      "cell_type": "code",
      "metadata": {
        "id": "a1jrAPNsbQGE",
        "colab_type": "code",
        "colab": {}
      },
      "source": [
        ""
      ],
      "execution_count": 75,
      "outputs": []
    }
  ]
}