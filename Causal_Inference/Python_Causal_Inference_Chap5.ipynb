{
  "nbformat": 4,
  "nbformat_minor": 0,
  "metadata": {
    "colab": {
      "name": "Python_Causal_Inference_Chap5.ipynb",
      "provenance": [],
      "collapsed_sections": [],
      "authorship_tag": "ABX9TyN/zPK0HCaexY7kXdPixOHR",
      "include_colab_link": true
    },
    "kernelspec": {
      "name": "python3",
      "display_name": "Python 3"
    }
  },
  "cells": [
    {
      "cell_type": "markdown",
      "metadata": {
        "id": "view-in-github",
        "colab_type": "text"
      },
      "source": [
        "<a href=\"https://colab.research.google.com/github/KamonohashiPerry/MachineLearning/blob/master/Causal_Inference/Python_Causal_Inference_Chap5.ipynb\" target=\"_parent\"><img src=\"https://colab.research.google.com/assets/colab-badge.svg\" alt=\"Open In Colab\"/></a>"
      ]
    },
    {
      "cell_type": "code",
      "metadata": {
        "id": "Huk-Mow12Hcd",
        "colab_type": "code",
        "colab": {}
      },
      "source": [
        "# 乱数のシードの固定\n",
        "import random\n",
        "import numpy as np\n",
        "\n",
        "random.seed(1234)\n",
        "np.random.seed(1234)\n",
        "\n",
        "\n",
        "# Scipy 平均0、分散1に正規化（標準化）関数\n",
        "import scipy.stats\n",
        "# 標準正規分布の生成用\n",
        "from numpy.random import *\n",
        "\n",
        "# シグモイド関数\n",
        "from scipy.special import expit\n",
        "\n",
        "# グラフの描画用\n",
        "import matplotlib.pyplot as plt\n",
        "%matplotlib inline\n",
        "\n",
        "import pandas as pd"
      ],
      "execution_count": 34,
      "outputs": []
    },
    {
      "cell_type": "code",
      "metadata": {
        "id": "cUyh50mi9MeD",
        "colab_type": "code",
        "colab": {}
      },
      "source": [
        "# データ数\n",
        "num_data = 200\n",
        "\n",
        "# 年齢\n",
        "x_1 = randint(15, 76, num_data) # 15から75歳の一様乱数\n",
        "\n",
        "# 性別(0を女性、1を男性とする)\n",
        "x_2 = randint(0, 2, num_data) # 0か1の乱数\n"
      ],
      "execution_count": 35,
      "outputs": []
    },
    {
      "cell_type": "markdown",
      "metadata": {
        "id": "kltKsivy7OSa",
        "colab_type": "text"
      },
      "source": [
        "### テレビCMを見たかどうかのデータの作成"
      ]
    },
    {
      "cell_type": "code",
      "metadata": {
        "id": "ovYeZTmd5PIJ",
        "colab_type": "code",
        "colab": {}
      },
      "source": [
        "# ノイズの生成\n",
        "e_z = randn(num_data)\n",
        "\n",
        "# シグモイド関数に入れるデータ\n",
        "z_base = x_1 + (1-x_2)*10 - 40 + 5*e_z\n",
        "\n",
        "# シグモイド関数の計算\n",
        "z_prob = expit(0.1*z_base)\n",
        "\n",
        "# テレビCMを見たかどうかの変数(0は見ていない、1は見た)\n",
        "Z = np.array([])\n",
        "\n",
        "for i in range(num_data):\n",
        "  Z_i = np.random.choice(2, size=1, p=[1-z_prob[i], z_prob[i]])[0]\n",
        "  Z = np.append(Z, Z_i)"
      ],
      "execution_count": 36,
      "outputs": []
    },
    {
      "cell_type": "markdown",
      "metadata": {
        "id": "gnKE2TOl-tl_",
        "colab_type": "text"
      },
      "source": [
        "### 購入量のデータの作成"
      ]
    },
    {
      "cell_type": "code",
      "metadata": {
        "id": "s_t0eyEJ-foD",
        "colab_type": "code",
        "colab": {
          "base_uri": "https://localhost:8080/",
          "height": 204
        },
        "outputId": "d43834ef-6aaf-43ef-9ff2-bdf29e8cf75e"
      },
      "source": [
        "# ノイズの生成\n",
        "e_y = randn(num_data)\n",
        "\n",
        "Y = -x_1 + 30*x_2 + 10*Z + 80 + 10*e_y\n",
        "\n",
        "df = pd.DataFrame({'年齢':x_1,\n",
        "                   '性別':x_2,\n",
        "                   'CMを見た':Z,\n",
        "                   '購入量':Y})\n",
        "df.head()"
      ],
      "execution_count": 37,
      "outputs": [
        {
          "output_type": "execute_result",
          "data": {
            "text/html": [
              "<div>\n",
              "<style scoped>\n",
              "    .dataframe tbody tr th:only-of-type {\n",
              "        vertical-align: middle;\n",
              "    }\n",
              "\n",
              "    .dataframe tbody tr th {\n",
              "        vertical-align: top;\n",
              "    }\n",
              "\n",
              "    .dataframe thead th {\n",
              "        text-align: right;\n",
              "    }\n",
              "</style>\n",
              "<table border=\"1\" class=\"dataframe\">\n",
              "  <thead>\n",
              "    <tr style=\"text-align: right;\">\n",
              "      <th></th>\n",
              "      <th>年齢</th>\n",
              "      <th>性別</th>\n",
              "      <th>CMを見た</th>\n",
              "      <th>購入量</th>\n",
              "    </tr>\n",
              "  </thead>\n",
              "  <tbody>\n",
              "    <tr>\n",
              "      <th>0</th>\n",
              "      <td>62</td>\n",
              "      <td>0</td>\n",
              "      <td>1.0</td>\n",
              "      <td>24.464285</td>\n",
              "    </tr>\n",
              "    <tr>\n",
              "      <th>1</th>\n",
              "      <td>34</td>\n",
              "      <td>0</td>\n",
              "      <td>0.0</td>\n",
              "      <td>45.693411</td>\n",
              "    </tr>\n",
              "    <tr>\n",
              "      <th>2</th>\n",
              "      <td>53</td>\n",
              "      <td>1</td>\n",
              "      <td>1.0</td>\n",
              "      <td>64.998281</td>\n",
              "    </tr>\n",
              "    <tr>\n",
              "      <th>3</th>\n",
              "      <td>68</td>\n",
              "      <td>1</td>\n",
              "      <td>1.0</td>\n",
              "      <td>47.186898</td>\n",
              "    </tr>\n",
              "    <tr>\n",
              "      <th>4</th>\n",
              "      <td>27</td>\n",
              "      <td>1</td>\n",
              "      <td>0.0</td>\n",
              "      <td>100.114260</td>\n",
              "    </tr>\n",
              "  </tbody>\n",
              "</table>\n",
              "</div>"
            ],
            "text/plain": [
              "   年齢  性別  CMを見た         購入量\n",
              "0  62   0    1.0   24.464285\n",
              "1  34   0    0.0   45.693411\n",
              "2  53   1    1.0   64.998281\n",
              "3  68   1    1.0   47.186898\n",
              "4  27   1    0.0  100.114260"
            ]
          },
          "metadata": {
            "tags": []
          },
          "execution_count": 37
        }
      ]
    },
    {
      "cell_type": "code",
      "metadata": {
        "id": "9CWq_bea-jWJ",
        "colab_type": "code",
        "colab": {
          "base_uri": "https://localhost:8080/",
          "height": 204
        },
        "outputId": "553352c7-a663-4c19-c8e5-6b85c83f0d8d"
      },
      "source": [
        "# 平均値の比較\n",
        "print(df[df['CMを見た'] == 1.0].mean())\n",
        "print('---------')\n",
        "print(df[df['CMを見た'] == 0.0].mean())"
      ],
      "execution_count": 38,
      "outputs": [
        {
          "output_type": "stream",
          "text": [
            "年齢       55.836066\n",
            "性別        0.483607\n",
            "CMを見た     1.000000\n",
            "購入量      49.711478\n",
            "dtype: float64\n",
            "---------\n",
            "年齢       32.141026\n",
            "性別        0.692308\n",
            "CMを見た     0.000000\n",
            "購入量      68.827143\n",
            "dtype: float64\n"
          ],
          "name": "stdout"
        }
      ]
    },
    {
      "cell_type": "markdown",
      "metadata": {
        "id": "nHhQO24oN8pa",
        "colab_type": "text"
      },
      "source": [
        "### 決定木による分類"
      ]
    },
    {
      "cell_type": "code",
      "metadata": {
        "id": "4wSOQ6Yk_uNW",
        "colab_type": "code",
        "colab": {
          "base_uri": "https://localhost:8080/",
          "height": 68
        },
        "outputId": "af8688e4-cf5f-4137-99b4-bd0673d302b4"
      },
      "source": [
        "# scikit-learnから決定木をimport\n",
        "from sklearn.tree import  DecisionTreeClassifier\n",
        "from sklearn.model_selection import train_test_split\n",
        "\n",
        "# 説明変数\n",
        "X = df[['年齢', '性別']]\n",
        "\n",
        "# 被説明変数（目的変数）\n",
        "Z = df['CMを見た']\n",
        "\n",
        "# データを訓練データと検証データに分割\n",
        "X_train, X_val, Z_train, Z_val = train_test_split(X, Z, train_size=0.6, random_state=0)\n",
        "\n",
        "# 学習と性能確認\n",
        "clf = DecisionTreeClassifier(max_depth=1, random_state=0)\n",
        "clf.fit(X_train, Z_train)\n",
        "print('深さ1の性能：', clf.score(X_val, Z_val))\n",
        "\n",
        "# 学習と性能確認\n",
        "clf = DecisionTreeClassifier(max_depth=2, random_state=0)\n",
        "clf.fit(X_train, Z_train)\n",
        "print('深さ2の性能：', clf.score(X_val, Z_val))\n",
        "\n",
        "# 学習と性能確認\n",
        "clf = DecisionTreeClassifier(max_depth=3, random_state=0)\n",
        "clf.fit(X_train, Z_train)\n",
        "print('深さ3の性能：', clf.score(X_val, Z_val))"
      ],
      "execution_count": 39,
      "outputs": [
        {
          "output_type": "stream",
          "text": [
            "深さ1の性能： 0.85\n",
            "深さ2の性能： 0.85\n",
            "深さ3の性能： 0.825\n"
          ],
          "name": "stdout"
        }
      ]
    },
    {
      "cell_type": "markdown",
      "metadata": {
        "id": "gsjFaL8IN4Aw",
        "colab_type": "text"
      },
      "source": [
        "### 決定木による回帰"
      ]
    },
    {
      "cell_type": "code",
      "metadata": {
        "id": "OUQh4KihOCHs",
        "colab_type": "code",
        "colab": {
          "base_uri": "https://localhost:8080/",
          "height": 68
        },
        "outputId": "40cbcaaa-0748-41b7-9476-78c9185a37e2"
      },
      "source": [
        "# scikit-learnから決定木の回帰をimport\n",
        "from sklearn.tree import DecisionTreeRegressor\n",
        "from sklearn.model_selection import train_test_split\n",
        "\n",
        "# 説明変数\n",
        "X = df[['年齢', '性別']]\n",
        "\n",
        "# 被説明変数（目的変数）\n",
        "Y = df['購入量']\n",
        "\n",
        "# データを訓練データと検証データに分割\n",
        "X_train, X_val, Y_train, Y_val = train_test_split(X, Y, train_size=0.6, random_state=0)\n",
        "\n",
        "# 学習と性能確認\n",
        "reg = DecisionTreeRegressor(max_depth=2, random_state=0)\n",
        "reg.fit(X_train, Y_train)\n",
        "print('深さ1の性能：', reg.score(X_val, Y_val))\n",
        "\n",
        "# 学習と性能確認\n",
        "reg = DecisionTreeRegressor(max_depth=3, random_state=0)\n",
        "reg.fit(X_train, Y_train)\n",
        "print('深さ2の性能：', reg.score(X_val, Y_val))\n",
        "\n",
        "# 学習と性能確認\n",
        "reg = DecisionTreeRegressor(max_depth=4, random_state=0)\n",
        "reg.fit(X_train, Y_train)\n",
        "print('深さ3の性能：', reg.score(X_val, Y_val))"
      ],
      "execution_count": 40,
      "outputs": [
        {
          "output_type": "stream",
          "text": [
            "深さ1の性能： 0.7257496664596153\n",
            "深さ2の性能： 0.7399348963931736\n",
            "深さ3の性能： 0.7165539691159019\n"
          ],
          "name": "stdout"
        }
      ]
    },
    {
      "cell_type": "markdown",
      "metadata": {
        "id": "0XqJhPdiQKnV",
        "colab_type": "text"
      },
      "source": [
        "### ランダムフォレストで分類"
      ]
    },
    {
      "cell_type": "code",
      "metadata": {
        "id": "LOF0zbIMParl",
        "colab_type": "code",
        "colab": {
          "base_uri": "https://localhost:8080/",
          "height": 68
        },
        "outputId": "cd91823f-1057-453a-a768-77ead3174f48"
      },
      "source": [
        "# scikit-learnから決定木をimport\n",
        "from sklearn.ensemble import RandomForestClassifier\n",
        "from sklearn.model_selection import train_test_split\n",
        "\n",
        "# 説明変数\n",
        "X = df[['年齢', '性別']]\n",
        "\n",
        "# 被説明変数（目的変数）\n",
        "Z = df['CMを見た']\n",
        "\n",
        "# データを訓練データと検証データに分割\n",
        "X_train, X_val, Z_train, Z_val = train_test_split(X, Z, train_size=0.6, random_state=0)\n",
        "\n",
        "# 学習と性能確認\n",
        "clf = RandomForestClassifier(max_depth=1, random_state=0)\n",
        "clf.fit(X_train, Z_train)\n",
        "print('深さ1の性能：', clf.score(X_val, Z_val))\n",
        "\n",
        "# 学習と性能確認\n",
        "clf = RandomForestClassifier(max_depth=2, random_state=0)\n",
        "clf.fit(X_train, Z_train)\n",
        "print('深さ2の性能：', clf.score(X_val, Z_val))\n",
        "\n",
        "# 学習と性能確認\n",
        "clf = RandomForestClassifier(max_depth=3, random_state=0)\n",
        "clf.fit(X_train, Z_train)\n",
        "print('深さ3の性能：', clf.score(X_val, Z_val))"
      ],
      "execution_count": 41,
      "outputs": [
        {
          "output_type": "stream",
          "text": [
            "深さ1の性能： 0.775\n",
            "深さ2の性能： 0.85\n",
            "深さ3の性能： 0.825\n"
          ],
          "name": "stdout"
        }
      ]
    },
    {
      "cell_type": "markdown",
      "metadata": {
        "id": "KYgEH_HBQ02m",
        "colab_type": "text"
      },
      "source": [
        "### ランダムフォレストによる回帰"
      ]
    },
    {
      "cell_type": "code",
      "metadata": {
        "id": "A-MXYL2EQheo",
        "colab_type": "code",
        "colab": {
          "base_uri": "https://localhost:8080/",
          "height": 68
        },
        "outputId": "adffb05d-65c5-4190-ae5c-74eabfda4dcb"
      },
      "source": [
        "# scikit-learnから決定木の回帰をimport\n",
        "from sklearn.ensemble import RandomForestRegressor\n",
        "from sklearn.model_selection import train_test_split\n",
        "\n",
        "# 説明変数\n",
        "X = df[['年齢', '性別']]\n",
        "\n",
        "# 被説明変数（目的変数）\n",
        "Y = df['購入量']\n",
        "\n",
        "# データを訓練データと検証データに分割\n",
        "X_train, X_val, Y_train, Y_val = train_test_split(X, Y, train_size=0.6, random_state=0)\n",
        "\n",
        "# 学習と性能確認\n",
        "reg = RandomForestRegressor(max_depth=2, random_state=0)\n",
        "reg.fit(X_train, Y_train)\n",
        "print('深さ1の性能：', reg.score(X_val, Y_val))\n",
        "\n",
        "# 学習と性能確認\n",
        "reg = RandomForestRegressor(max_depth=3, random_state=0)\n",
        "reg.fit(X_train, Y_train)\n",
        "print('深さ2の性能：', reg.score(X_val, Y_val))\n",
        "\n",
        "# 学習と性能確認\n",
        "reg = RandomForestRegressor(max_depth=4, random_state=0)\n",
        "reg.fit(X_train, Y_train)\n",
        "print('深さ3の性能：', reg.score(X_val, Y_val))"
      ],
      "execution_count": 42,
      "outputs": [
        {
          "output_type": "stream",
          "text": [
            "深さ1の性能： 0.7618786062003249\n",
            "深さ2の性能： 0.7810610687821996\n",
            "深さ3の性能： 0.7655149049335735\n"
          ],
          "name": "stdout"
        }
      ]
    },
    {
      "cell_type": "markdown",
      "metadata": {
        "id": "P8LTA_tHROm5",
        "colab_type": "text"
      },
      "source": [
        "## Meta-Learners\n",
        "+ 非線形な因果関係および処置効果を扱える因果推論手法\n",
        " + T-Learner：2つ（介入を受けた場合のモデル、受けてない場合のモデル）\n",
        " + S-Learner：1つのモデルで説明変数で介入に関するものを扱っているモデル\n",
        " + X-Learner：2つのモデルで処置効果を推定し、傾向スコアを用いて補正したもの"
      ]
    },
    {
      "cell_type": "code",
      "metadata": {
        "id": "rPPBeKS3RBZ3",
        "colab_type": "code",
        "colab": {
          "base_uri": "https://localhost:8080/",
          "height": 265
        },
        "outputId": "782f06c6-e7fa-45bf-99e2-607113d1cdec"
      },
      "source": [
        "# データ数\n",
        "num_data = 500\n",
        "\n",
        "# 部下育成への熱心さ(-1から1の一様乱数)\n",
        "x = np.random.uniform(low=-1, high=1, size=num_data)\n",
        "\n",
        "# 上司が上司向けの研修に参加したかどうか \n",
        "e_z = randn(num_data)\n",
        "z_prob = expit(-0.5*x + 5*e_z)\n",
        "Z = np.array([])\n",
        "\n",
        "for i in range(num_data):\n",
        "  Z_i = np.random.choice(2, size=1, p=[1-z_prob[i], z_prob[i]])[0]\n",
        "  Z = np.append(Z, Z_i)\n",
        "\n",
        "# 介入効果の非線形性\n",
        "t = np.zeros(num_data)\n",
        "for i in range(num_data):\n",
        "  if x[i] < 0:\n",
        "    t[i] = 0.5\n",
        "  elif x[i] >= 0 and x[i] < 0.5:\n",
        "    t[i] = 0.7\n",
        "  elif x[i] >= 0.5:\n",
        "    t[i] = 1.0\n",
        "\n",
        "e_y = randn(num_data)\n",
        "Y = 2.0 + t*Z + 0.3*x + 0.1*e_y\n",
        "\n",
        "# 介入効果を図で確認\n",
        "plt.scatter(x, t, label='treatment-effect');"
      ],
      "execution_count": 43,
      "outputs": [
        {
          "output_type": "display_data",
          "data": {
            "image/png": "[encoded data removed]",
            "text/plain": [
              "<Figure size 432x288 with 1 Axes>"
            ]
          },
          "metadata": {
            "tags": [],
            "needs_background": "light"
          }
        }
      ]
    },
    {
      "cell_type": "code",
      "metadata": {
        "id": "Jmqd_wU-96bj",
        "colab_type": "code",
        "colab": {
          "base_uri": "https://localhost:8080/",
          "height": 265
        },
        "outputId": "9069a0fd-44dc-4e7f-dd1e-be9ec65c52ec"
      },
      "source": [
        "df = pd.DataFrame({'x':x,\n",
        "                     'Z':Z,\n",
        "                     't':t,\n",
        "                     'Y':Y})\n",
        "df.head()\n",
        "plt.scatter(x, Y);"
      ],
      "execution_count": 44,
      "outputs": [
        {
          "output_type": "display_data",
          "data": {
            "image/png": "[encoded data removed]",
            "text/plain": [
              "<Figure size 432x288 with 1 Axes>"
            ]
          },
          "metadata": {
            "tags": [],
            "needs_background": "light"
          }
        }
      ]
    },
    {
      "cell_type": "markdown",
      "metadata": {
        "id": "lRS809XqAMHw",
        "colab_type": "text"
      },
      "source": [
        "### T-Learner"
      ]
    },
    {
      "cell_type": "code",
      "metadata": {
        "id": "ZAlEy1tlAFRy",
        "colab_type": "code",
        "colab": {
          "base_uri": "https://localhost:8080/",
          "height": 122
        },
        "outputId": "c10d939c-b10b-4219-dc08-e0a87fcb301d"
      },
      "source": [
        "# 集団を二つに分ける\n",
        "df_0 = df[df.Z == 0.0]\n",
        "df_1 = df[df.Z == 1.0]\n",
        "\n",
        "# ランダムフォレストモデルを作成\n",
        "from sklearn.ensemble import RandomForestRegressor\n",
        "\n",
        "# 介入を受けていないモデル\n",
        "reg_0 = RandomForestRegressor(max_depth=3)\n",
        "reg_0.fit(df_0[['x']], df_0[['Y']])\n",
        "\n",
        "# 介入を受けたモデル\n",
        "reg_1 = RandomForestRegressor(max_depth=3)\n",
        "reg_1.fit(df_1[['x']], df_1[['Y']])\n",
        "\n",
        "# ATEを求める\n",
        "mu_0 = reg_0.predict(df[['x']])\n",
        "mu_1 = reg_1.predict(df[['x']])\n",
        "\n",
        "ATE = (mu_1 - mu_0).mean()\n",
        "print('ATE：', ATE)"
      ],
      "execution_count": 45,
      "outputs": [
        {
          "output_type": "stream",
          "text": [
            "/usr/local/lib/python3.6/dist-packages/ipykernel_launcher.py:10: DataConversionWarning: A column-vector y was passed when a 1d array was expected. Please change the shape of y to (n_samples,), for example using ravel().\n",
            "  # Remove the CWD from sys.path while we load stuff.\n",
            "/usr/local/lib/python3.6/dist-packages/ipykernel_launcher.py:14: DataConversionWarning: A column-vector y was passed when a 1d array was expected. Please change the shape of y to (n_samples,), for example using ravel().\n",
            "  \n"
          ],
          "name": "stderr"
        },
        {
          "output_type": "stream",
          "text": [
            "ATE： 0.6690778607847381\n"
          ],
          "name": "stdout"
        }
      ]
    },
    {
      "cell_type": "code",
      "metadata": {
        "id": "RgsdY6sMA4tK",
        "colab_type": "code",
        "colab": {
          "base_uri": "https://localhost:8080/",
          "height": 51
        },
        "outputId": "45117755-8988-4042-c45f-3ee1753f0ff9"
      },
      "source": [
        "# 処置群における平均処理効果ATTと対照群における平均処置効果ATU\n",
        "ATT = df_1['Y'] - reg_0.predict(df_1[['x']]) # 介入受けた場合の、受けてない場合のモデルで予測したものの差分\n",
        "ATU = reg_1.predict(df_0[['x']]) - df_0['Y'] # 介入受けてない場合のデータで予測したものの差分\n",
        "\n",
        "print('ATT：', ATT.mean())\n",
        "print('ATU：', ATU.mean())"
      ],
      "execution_count": 46,
      "outputs": [
        {
          "output_type": "stream",
          "text": [
            "ATT： 0.6572957460842328\n",
            "ATU： 0.680305578569483\n"
          ],
          "name": "stdout"
        }
      ]
    },
    {
      "cell_type": "code",
      "metadata": {
        "id": "Etbsy9zXDJGI",
        "colab_type": "code",
        "colab": {
          "base_uri": "https://localhost:8080/",
          "height": 265
        },
        "outputId": "dd1bf45c-115e-41ac-86a8-880bb8c7a799"
      },
      "source": [
        "# 推定された処置効果を各人ごとに求める\n",
        "t_estimated = reg_1.predict(df[['x']]) - reg_0.predict(df[['x']])\n",
        "\n",
        "plt.scatter(df[['x']], t_estimated, label='estimated_treatment-effect');\n",
        "\n",
        "# 正解のグラフを作成\n",
        "x_index = np.arange(-1, 1, 0.01)\n",
        "t_ans = np.zeros(len(x_index))\n",
        "for i in range(len(x_index)):\n",
        "  if x_index[i] < 0:\n",
        "    t_ans[i] = 0.5\n",
        "  elif x_index[i] >= 0 and x_index[i] < 0.5:\n",
        "    t_ans[i] = 0.7\n",
        "  elif x_index[i] >= 0.5:\n",
        "    t_ans[i] = 1.0\n",
        "\n",
        "# 正解を描画\n",
        "plt.plot(x_index, t_ans, color='black', ls='--', label='Baseline');"
      ],
      "execution_count": 47,
      "outputs": [
        {
          "output_type": "display_data",
          "data": {
            "image/png": "[encoded data removed]",
            "text/plain": [
              "<Figure size 432x288 with 1 Axes>"
            ]
          },
          "metadata": {
            "tags": [],
            "needs_background": "light"
          }
        }
      ]
    },
    {
      "cell_type": "markdown",
      "metadata": {
        "id": "qWWl-_KhF0kI",
        "colab_type": "text"
      },
      "source": [
        "### S-Learner"
      ]
    },
    {
      "cell_type": "code",
      "metadata": {
        "id": "KS5gaJ5-FfEX",
        "colab_type": "code",
        "colab": {
          "base_uri": "https://localhost:8080/",
          "height": 190
        },
        "outputId": "c498d36f-8463-48be-b8ee-0161a154927f"
      },
      "source": [
        "# ランダムフォレストモデルを作成\n",
        "from sklearn.ensemble import RandomForestRegressor\n",
        "\n",
        "# モデルを学習\n",
        "reg = RandomForestRegressor(max_depth=4)\n",
        "X = df.loc[:, ['x', 'Z']]\n",
        "reg.fit(X, df[['Y']])"
      ],
      "execution_count": 48,
      "outputs": [
        {
          "output_type": "stream",
          "text": [
            "/usr/local/lib/python3.6/dist-packages/ipykernel_launcher.py:7: DataConversionWarning: A column-vector y was passed when a 1d array was expected. Please change the shape of y to (n_samples,), for example using ravel().\n",
            "  import sys\n"
          ],
          "name": "stderr"
        },
        {
          "output_type": "execute_result",
          "data": {
            "text/plain": [
              "RandomForestRegressor(bootstrap=True, ccp_alpha=0.0, criterion='mse',\n",
              "                      max_depth=4, max_features='auto', max_leaf_nodes=None,\n",
              "                      max_samples=None, min_impurity_decrease=0.0,\n",
              "                      min_impurity_split=None, min_samples_leaf=1,\n",
              "                      min_samples_split=2, min_weight_fraction_leaf=0.0,\n",
              "                      n_estimators=100, n_jobs=None, oob_score=False,\n",
              "                      random_state=None, verbose=0, warm_start=False)"
            ]
          },
          "metadata": {
            "tags": []
          },
          "execution_count": 48
        }
      ]
    },
    {
      "cell_type": "code",
      "metadata": {
        "id": "kJS1q9myGN1I",
        "colab_type": "code",
        "colab": {
          "base_uri": "https://localhost:8080/",
          "height": 34
        },
        "outputId": "2191681a-16ef-40fe-8245-c82d9391fff5"
      },
      "source": [
        "# 処置が0と1の状態を作成する\n",
        "X_0 = X.copy()\n",
        "X_0['Z'] = 0.0\n",
        "\n",
        "X_1 =X.copy()\n",
        "X_1['Z'] = 1.0\n",
        "\n",
        "# ATEの計算\n",
        "ATE = (reg.predict(X_1) - reg.predict(X_0)).mean()\n",
        "print('ATE：', ATE)"
      ],
      "execution_count": 49,
      "outputs": [
        {
          "output_type": "stream",
          "text": [
            "ATE： 0.6697146803338992\n"
          ],
          "name": "stdout"
        }
      ]
    },
    {
      "cell_type": "code",
      "metadata": {
        "id": "QdTAflimGuFU",
        "colab_type": "code",
        "colab": {
          "base_uri": "https://localhost:8080/",
          "height": 286
        },
        "outputId": "c79fc65d-3298-4970-b273-ad1ba9746639"
      },
      "source": [
        "# 推定された処置効果を各人ごとに求める\n",
        "t_estimated = reg.predict(X_1) - reg.predict(X_0)\n",
        "plt.scatter(df[['x']], t_estimated,\n",
        "            label='estimated_treatment-effect')\n",
        "\n",
        "# 正解を描画\n",
        "plt.plot(x_index, t_ans, color='black', ls='--', label='Baseline')"
      ],
      "execution_count": 50,
      "outputs": [
        {
          "output_type": "execute_result",
          "data": {
            "text/plain": [
              "[<matplotlib.lines.Line2D at 0x7f2bb81735c0>]"
            ]
          },
          "metadata": {
            "tags": []
          },
          "execution_count": 50
        },
        {
          "output_type": "display_data",
          "data": {
            "image/png": "[encoded data removed]",
            "text/plain": [
              "<Figure size 432x288 with 1 Axes>"
            ]
          },
          "metadata": {
            "tags": [],
            "needs_background": "light"
          }
        }
      ]
    },
    {
      "cell_type": "markdown",
      "metadata": {
        "id": "VemgVw6dK4Bm",
        "colab_type": "text"
      },
      "source": [
        "### X-Learner"
      ]
    },
    {
      "cell_type": "code",
      "metadata": {
        "id": "J4Hq8zZcHQ1o",
        "colab_type": "code",
        "colab": {
          "base_uri": "https://localhost:8080/",
          "height": 224
        },
        "outputId": "8aaaa23e-f6b9-4f7d-f461-0f652ed64c10"
      },
      "source": [
        "# T-LearnerでM0とM1を求める\n",
        "from sklearn.ensemble import RandomForestRegressor\n",
        "\n",
        "# 集団を二つに分ける\n",
        "df_0 = df[df.Z == 0.0]\n",
        "df_1 = df[df.Z == 1.0]\n",
        "\n",
        "# 介入を受けていないモデル\n",
        "M0 = RandomForestRegressor(max_depth=3)\n",
        "M0.fit(df_0[['x']], df_0[['Y']])\n",
        "\n",
        "# 介入を受けたモデル\n",
        "M1 = RandomForestRegressor(max_depth=3)\n",
        "M1.fit(df_1[['x']], df_1[['Y']])"
      ],
      "execution_count": 51,
      "outputs": [
        {
          "output_type": "stream",
          "text": [
            "/usr/local/lib/python3.6/dist-packages/ipykernel_launcher.py:10: DataConversionWarning: A column-vector y was passed when a 1d array was expected. Please change the shape of y to (n_samples,), for example using ravel().\n",
            "  # Remove the CWD from sys.path while we load stuff.\n",
            "/usr/local/lib/python3.6/dist-packages/ipykernel_launcher.py:14: DataConversionWarning: A column-vector y was passed when a 1d array was expected. Please change the shape of y to (n_samples,), for example using ravel().\n",
            "  \n"
          ],
          "name": "stderr"
        },
        {
          "output_type": "execute_result",
          "data": {
            "text/plain": [
              "RandomForestRegressor(bootstrap=True, ccp_alpha=0.0, criterion='mse',\n",
              "                      max_depth=3, max_features='auto', max_leaf_nodes=None,\n",
              "                      max_samples=None, min_impurity_decrease=0.0,\n",
              "                      min_impurity_split=None, min_samples_leaf=1,\n",
              "                      min_samples_split=2, min_weight_fraction_leaf=0.0,\n",
              "                      n_estimators=100, n_jobs=None, oob_score=False,\n",
              "                      random_state=None, verbose=0, warm_start=False)"
            ]
          },
          "metadata": {
            "tags": []
          },
          "execution_count": 51
        }
      ]
    },
    {
      "cell_type": "code",
      "metadata": {
        "id": "1yZHl4trL5zO",
        "colab_type": "code",
        "colab": {
          "base_uri": "https://localhost:8080/",
          "height": 136
        },
        "outputId": "b5da775c-9938-4aae-91ca-bb1e6cc1fd87"
      },
      "source": [
        "# 推定された処置効果を各人ごとに求める\n",
        "tau_0 = reg_1.predict(df_0[['x']]) - df_0['Y']\n",
        "tau_1 = df_1['Y'] - reg_0.predict(df_1[['x']])\n",
        "\n",
        "# ATTとATUを求めるモデルの作成\n",
        "M2 = RandomForestRegressor(max_depth=3)\n",
        "M2.fit(df_0[['x']], tau_0)\n",
        "\n",
        "M3 = RandomForestRegressor(max_depth=3)\n",
        "M3.fit(df_1[['x']], tau_1)"
      ],
      "execution_count": 52,
      "outputs": [
        {
          "output_type": "execute_result",
          "data": {
            "text/plain": [
              "RandomForestRegressor(bootstrap=True, ccp_alpha=0.0, criterion='mse',\n",
              "                      max_depth=3, max_features='auto', max_leaf_nodes=None,\n",
              "                      max_samples=None, min_impurity_decrease=0.0,\n",
              "                      min_impurity_split=None, min_samples_leaf=1,\n",
              "                      min_samples_split=2, min_weight_fraction_leaf=0.0,\n",
              "                      n_estimators=100, n_jobs=None, oob_score=False,\n",
              "                      random_state=None, verbose=0, warm_start=False)"
            ]
          },
          "metadata": {
            "tags": []
          },
          "execution_count": 52
        }
      ]
    },
    {
      "cell_type": "code",
      "metadata": {
        "id": "0VXUFvTxM6PB",
        "colab_type": "code",
        "colab": {
          "base_uri": "https://localhost:8080/",
          "height": 265
        },
        "outputId": "d74bcd44-c4cd-4078-ad53-75654c4558ac"
      },
      "source": [
        "# 傾向スコアの計算\n",
        "from sklearn.linear_model import LogisticRegression\n",
        "\n",
        "# 説明変数\n",
        "X = df[['x']]\n",
        "\n",
        "# 被説明変数\n",
        "Z = df['Z']\n",
        "\n",
        "# 回帰の実施\n",
        "g_x = LogisticRegression().fit(X, Z)\n",
        "g_x_val = g_x.predict_proba(X)\n",
        "\n",
        "# それぞれのモデルで全データの効果を予測し、傾向スコアで調整\n",
        "tau = g_x_val[:, 1]*M2.predict(df[['x']]) + g_x_val[:, 0]*M3.predict(df[['x']])\n",
        "\n",
        "# 推定された処理効果を各人ごとに求める\n",
        "plt.scatter(df[['x']], tau, label='estimated_treatment-effect');\n",
        "\n",
        "# 正解を描画\n",
        "plt.plot(x_index, t_ans, color='black', ls='--', label='Baseline');"
      ],
      "execution_count": 53,
      "outputs": [
        {
          "output_type": "display_data",
          "data": {
            "image/png": "[encoded data removed]",
            "text/plain": [
              "<Figure size 432x288 with 1 Axes>"
            ]
          },
          "metadata": {
            "tags": [],
            "needs_background": "light"
          }
        }
      ]
    },
    {
      "cell_type": "markdown",
      "metadata": {
        "id": "VtSURCY6Pxl8",
        "colab_type": "text"
      },
      "source": [
        "## Doubly Robust Learning\n",
        "+ 2つのモデルで推定\n",
        "+ モデルとの誤差を計算し、傾向スコアで重み付け\n",
        "+ 重み付けして計算した各人の効果について、回帰する"
      ]
    },
    {
      "cell_type": "code",
      "metadata": {
        "id": "FPw1aKvcNZuz",
        "colab_type": "code",
        "colab": {
          "base_uri": "https://localhost:8080/",
          "height": 224
        },
        "outputId": "9346bf5b-0249-43af-99fd-d45740f37b34"
      },
      "source": [
        "# ランダムフォレストモデルを作成\n",
        "from sklearn.ensemble import RandomForestRegressor\n",
        "\n",
        "# 集団を2つに分ける\n",
        "df_0 = df[df.Z == 0.0]\n",
        "df_1 = df[df.Z == 1.0]\n",
        "\n",
        "# 介入を受けていないモデル\n",
        "M_0 = RandomForestRegressor(max_depth=3)\n",
        "M_0.fit(df_0[['x']], df_0[['Y']])\n",
        "\n",
        "# 介入を受けたモデル\n",
        "M_1 = RandomForestRegressor(max_depth=3)\n",
        "M_1.fit(df_1[['x']], df_1[['Y']])"
      ],
      "execution_count": 55,
      "outputs": [
        {
          "output_type": "stream",
          "text": [
            "/usr/local/lib/python3.6/dist-packages/ipykernel_launcher.py:10: DataConversionWarning: A column-vector y was passed when a 1d array was expected. Please change the shape of y to (n_samples,), for example using ravel().\n",
            "  # Remove the CWD from sys.path while we load stuff.\n",
            "/usr/local/lib/python3.6/dist-packages/ipykernel_launcher.py:14: DataConversionWarning: A column-vector y was passed when a 1d array was expected. Please change the shape of y to (n_samples,), for example using ravel().\n",
            "  \n"
          ],
          "name": "stderr"
        },
        {
          "output_type": "execute_result",
          "data": {
            "text/plain": [
              "RandomForestRegressor(bootstrap=True, ccp_alpha=0.0, criterion='mse',\n",
              "                      max_depth=3, max_features='auto', max_leaf_nodes=None,\n",
              "                      max_samples=None, min_impurity_decrease=0.0,\n",
              "                      min_impurity_split=None, min_samples_leaf=1,\n",
              "                      min_samples_split=2, min_weight_fraction_leaf=0.0,\n",
              "                      n_estimators=100, n_jobs=None, oob_score=False,\n",
              "                      random_state=None, verbose=0, warm_start=False)"
            ]
          },
          "metadata": {
            "tags": []
          },
          "execution_count": 55
        }
      ]
    },
    {
      "cell_type": "code",
      "metadata": {
        "id": "6eCMEWgUoNgv",
        "colab_type": "code",
        "colab": {
          "base_uri": "https://localhost:8080/",
          "height": 411
        },
        "outputId": "e1f669e0-75f3-425d-8ebe-220b22708340"
      },
      "source": [
        "# 傾向スコアを計算する\n",
        "from sklearn.linear_model import LogisticRegression\n",
        "\n",
        "# 説明変数\n",
        "X = df[['x']]\n",
        "\n",
        "# 被説明変数\n",
        "Z = df['Z']\n",
        "\n",
        "# 回帰の実施\n",
        "g_x = LogisticRegression().fit(X, Z)\n",
        "g_x_val = g_x.predict_proba(X)\n",
        "\n",
        "# 処置群\n",
        "Y_1 = M_1.predict(df_1[['x']]) + (df_1['Y'] - M_1.predict(df_1[['x']]))/ g_x.predict_proba(df_1[['x']])[:, 1]\n",
        "df_1['ITE'] = Y_1 - M_0.predict(df_1[['x']])\n",
        "\n",
        "# 非処置群\n",
        "Y_0 = M_0.predict(df_0[['x']]) + (df_0['Y'] - M_0.predict(df_0[['x']]))/ g_x.predict_proba(df_0[['x']])[:, 0]\n",
        "df_0['ITE'] =  M_1.predict(df_0[['x']]) - Y_0\n",
        "\n",
        "# 表を結合する\n",
        "df_DR = pd.concat([df_0, df_1])\n",
        "df_DR.head()"
      ],
      "execution_count": 60,
      "outputs": [
        {
          "output_type": "stream",
          "text": [
            "/usr/local/lib/python3.6/dist-packages/ipykernel_launcher.py:16: SettingWithCopyWarning: \n",
            "A value is trying to be set on a copy of a slice from a DataFrame.\n",
            "Try using .loc[row_indexer,col_indexer] = value instead\n",
            "\n",
            "See the caveats in the documentation: https://pandas.pydata.org/pandas-docs/stable/user_guide/indexing.html#returning-a-view-versus-a-copy\n",
            "  app.launch_new_instance()\n",
            "/usr/local/lib/python3.6/dist-packages/ipykernel_launcher.py:20: SettingWithCopyWarning: \n",
            "A value is trying to be set on a copy of a slice from a DataFrame.\n",
            "Try using .loc[row_indexer,col_indexer] = value instead\n",
            "\n",
            "See the caveats in the documentation: https://pandas.pydata.org/pandas-docs/stable/user_guide/indexing.html#returning-a-view-versus-a-copy\n"
          ],
          "name": "stderr"
        },
        {
          "output_type": "execute_result",
          "data": {
            "text/html": [
              "<div>\n",
              "<style scoped>\n",
              "    .dataframe tbody tr th:only-of-type {\n",
              "        vertical-align: middle;\n",
              "    }\n",
              "\n",
              "    .dataframe tbody tr th {\n",
              "        vertical-align: top;\n",
              "    }\n",
              "\n",
              "    .dataframe thead th {\n",
              "        text-align: right;\n",
              "    }\n",
              "</style>\n",
              "<table border=\"1\" class=\"dataframe\">\n",
              "  <thead>\n",
              "    <tr style=\"text-align: right;\">\n",
              "      <th></th>\n",
              "      <th>x</th>\n",
              "      <th>Z</th>\n",
              "      <th>t</th>\n",
              "      <th>Y</th>\n",
              "      <th>ITE</th>\n",
              "    </tr>\n",
              "  </thead>\n",
              "  <tbody>\n",
              "    <tr>\n",
              "      <th>0</th>\n",
              "      <td>0.557126</td>\n",
              "      <td>0.0</td>\n",
              "      <td>1.0</td>\n",
              "      <td>2.118638</td>\n",
              "      <td>1.080144</td>\n",
              "    </tr>\n",
              "    <tr>\n",
              "      <th>1</th>\n",
              "      <td>0.096866</td>\n",
              "      <td>0.0</td>\n",
              "      <td>0.7</td>\n",
              "      <td>2.020414</td>\n",
              "      <td>0.779141</td>\n",
              "    </tr>\n",
              "    <tr>\n",
              "      <th>2</th>\n",
              "      <td>0.226904</td>\n",
              "      <td>0.0</td>\n",
              "      <td>0.7</td>\n",
              "      <td>2.199642</td>\n",
              "      <td>0.496733</td>\n",
              "    </tr>\n",
              "    <tr>\n",
              "      <th>5</th>\n",
              "      <td>0.550420</td>\n",
              "      <td>0.0</td>\n",
              "      <td>1.0</td>\n",
              "      <td>2.082679</td>\n",
              "      <td>1.146809</td>\n",
              "    </tr>\n",
              "    <tr>\n",
              "      <th>7</th>\n",
              "      <td>0.578411</td>\n",
              "      <td>0.0</td>\n",
              "      <td>1.0</td>\n",
              "      <td>2.160682</td>\n",
              "      <td>1.018021</td>\n",
              "    </tr>\n",
              "  </tbody>\n",
              "</table>\n",
              "</div>"
            ],
            "text/plain": [
              "          x    Z    t         Y       ITE\n",
              "0  0.557126  0.0  1.0  2.118638  1.080144\n",
              "1  0.096866  0.0  0.7  2.020414  0.779141\n",
              "2  0.226904  0.0  0.7  2.199642  0.496733\n",
              "5  0.550420  0.0  1.0  2.082679  1.146809\n",
              "7  0.578411  0.0  1.0  2.160682  1.018021"
            ]
          },
          "metadata": {
            "tags": []
          },
          "execution_count": 60
        }
      ]
    },
    {
      "cell_type": "code",
      "metadata": {
        "id": "wLQ0nInEpO4A",
        "colab_type": "code",
        "colab": {
          "base_uri": "https://localhost:8080/",
          "height": 322
        },
        "outputId": "17bcd519-2f86-41c3-9d77-7bb18b85c5c8"
      },
      "source": [
        "# モデルM_DRを構築し、各人の処置効果をモデルから求める\n",
        "# モデルM_DR\n",
        "M_DR = RandomForestRegressor(max_depth=3)\n",
        "M_DR.fit(df_DR[['x']], df_DR[['ITE']])\n",
        "\n",
        "# 推定された処置効果を各人ごとに計算する\n",
        "t_estimated = M_DR.predict(df_DR[['x']])\n",
        "plt.scatter(df_DR[['x']], t_estimated,\n",
        "            label='estimated_treatment-effect');\n",
        "\n",
        "# 正解のグラフを作成\n",
        "x_index = np.arange(-1, 1, 0.01)\n",
        "t_ans = np.zeros(len(x_index))\n",
        "for i in range(len(x_index)):\n",
        "  if x_index[i] < 0:\n",
        "    t_ans[i] = 0.5\n",
        "  elif x_index[i] >= 0 and x_index[i] < 0.5:\n",
        "    t_ans[i] = 0.7\n",
        "  elif x_index[i] >= 0.5:\n",
        "    t_ans[i] = 1.0\n",
        "\n",
        "# 正解を描画\n",
        "plt.plot(x_index, t_ans, color='black', ls='--', label='Baseline');"
      ],
      "execution_count": 62,
      "outputs": [
        {
          "output_type": "stream",
          "text": [
            "/usr/local/lib/python3.6/dist-packages/ipykernel_launcher.py:4: DataConversionWarning: A column-vector y was passed when a 1d array was expected. Please change the shape of y to (n_samples,), for example using ravel().\n",
            "  after removing the cwd from sys.path.\n"
          ],
          "name": "stderr"
        },
        {
          "output_type": "display_data",
          "data": {
            "image/png": "[encoded data removed]",
            "text/plain": [
              "<Figure size 432x288 with 1 Axes>"
            ]
          },
          "metadata": {
            "tags": [],
            "needs_background": "light"
          }
        }
      ]
    },
    {
      "cell_type": "code",
      "metadata": {
        "id": "nTByd9qFsqn1",
        "colab_type": "code",
        "colab": {}
      },
      "source": [
        ""
      ],
      "execution_count": null,
      "outputs": []
    }
  ]
}