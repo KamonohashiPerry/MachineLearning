{
  "nbformat": 4,
  "nbformat_minor": 0,
  "metadata": {
    "colab": {
      "name": "Python_Causal_Inference_Chap5.ipynb",
      "provenance": [],
      "collapsed_sections": [],
      "authorship_tag": "ABX9TyNS9hmHHlcnAGvuoXofSEuY",
      "include_colab_link": true
    },
    "kernelspec": {
      "name": "python3",
      "display_name": "Python 3"
    }
  },
  "cells": [
    {
      "cell_type": "markdown",
      "metadata": {
        "id": "view-in-github",
        "colab_type": "text"
      },
      "source": [
        "<a href=\"https://colab.research.google.com/github/KamonohashiPerry/MachineLearning/blob/master/Causal_Inference/Python_Causal_Inference_Chap5.ipynb\" target=\"_parent\"><img src=\"https://colab.research.google.com/assets/colab-badge.svg\" alt=\"Open In Colab\"/></a>"
      ]
    },
    {
      "cell_type": "code",
      "metadata": {
        "id": "Huk-Mow12Hcd",
        "colab_type": "code",
        "colab": {}
      },
      "source": [
        "# 乱数のシードの固定\n",
        "import random\n",
        "import numpy as np\n",
        "\n",
        "random.seed(1234)\n",
        "np.random.seed(1234)\n",
        "\n",
        "\n",
        "# Scipy 平均0、分散1に正規化（標準化）関数\n",
        "import scipy.stats\n",
        "# 標準正規分布の生成用\n",
        "from numpy.random import *\n",
        "\n",
        "# シグモイド関数\n",
        "from scipy.special import expit\n",
        "\n",
        "# グラフの描画用\n",
        "import matplotlib.pyplot as plt\n",
        "%matplotlib inline\n",
        "\n",
        "import pandas as pd"
      ],
      "execution_count": 1,
      "outputs": []
    },
    {
      "cell_type": "code",
      "metadata": {
        "id": "cUyh50mi9MeD",
        "colab_type": "code",
        "colab": {}
      },
      "source": [
        "# データ数\n",
        "num_data = 200\n",
        "\n",
        "# 年齢\n",
        "x_1 = randint(15, 76, num_data) # 15から75歳の一様乱数\n",
        "\n",
        "# 性別(0を女性、1を男性とする)\n",
        "x_2 = randint(0, 2, num_data) # 0か1の乱数\n"
      ],
      "execution_count": 2,
      "outputs": []
    },
    {
      "cell_type": "markdown",
      "metadata": {
        "id": "kltKsivy7OSa",
        "colab_type": "text"
      },
      "source": [
        "### テレビCMを見たかどうかのデータの作成"
      ]
    },
    {
      "cell_type": "code",
      "metadata": {
        "id": "ovYeZTmd5PIJ",
        "colab_type": "code",
        "colab": {}
      },
      "source": [
        "# ノイズの生成\n",
        "e_z = randn(num_data)\n",
        "\n",
        "# シグモイド関数に入れるデータ\n",
        "z_base = x_1 + (1-x_2)*10 - 40 + 5*e_z\n",
        "\n",
        "# シグモイド関数の計算\n",
        "z_prob = expit(0.1*z_base)\n",
        "\n",
        "# テレビCMを見たかどうかの変数(0は見ていない、1は見た)\n",
        "Z = np.array([])\n",
        "\n",
        "for i in range(num_data):\n",
        "  Z_i = np.random.choice(2, size=1, p=[1-z_prob[i], z_prob[i]])[0]\n",
        "  Z = np.append(Z, Z_i)"
      ],
      "execution_count": 3,
      "outputs": []
    },
    {
      "cell_type": "markdown",
      "metadata": {
        "id": "gnKE2TOl-tl_",
        "colab_type": "text"
      },
      "source": [
        "### 購入量のデータの作成"
      ]
    },
    {
      "cell_type": "code",
      "metadata": {
        "id": "s_t0eyEJ-foD",
        "colab_type": "code",
        "colab": {
          "base_uri": "https://localhost:8080/",
          "height": 204
        },
        "outputId": "41766bf1-9eac-4d8c-d34f-a4088fe6f0fd"
      },
      "source": [
        "# ノイズの生成\n",
        "e_y = randn(num_data)\n",
        "\n",
        "Y = -x_1 + 30*x_2 + 10*Z + 80 + 10*e_y\n",
        "\n",
        "df = pd.DataFrame({'年齢':x_1,\n",
        "                   '性別':x_2,\n",
        "                   'CMを見た':Z,\n",
        "                   '購入量':Y})\n",
        "df.head()"
      ],
      "execution_count": 4,
      "outputs": [
        {
          "output_type": "execute_result",
          "data": {
            "text/html": [
              "<div>\n",
              "<style scoped>\n",
              "    .dataframe tbody tr th:only-of-type {\n",
              "        vertical-align: middle;\n",
              "    }\n",
              "\n",
              "    .dataframe tbody tr th {\n",
              "        vertical-align: top;\n",
              "    }\n",
              "\n",
              "    .dataframe thead th {\n",
              "        text-align: right;\n",
              "    }\n",
              "</style>\n",
              "<table border=\"1\" class=\"dataframe\">\n",
              "  <thead>\n",
              "    <tr style=\"text-align: right;\">\n",
              "      <th></th>\n",
              "      <th>年齢</th>\n",
              "      <th>性別</th>\n",
              "      <th>CMを見た</th>\n",
              "      <th>購入量</th>\n",
              "    </tr>\n",
              "  </thead>\n",
              "  <tbody>\n",
              "    <tr>\n",
              "      <th>0</th>\n",
              "      <td>62</td>\n",
              "      <td>0</td>\n",
              "      <td>1.0</td>\n",
              "      <td>24.464285</td>\n",
              "    </tr>\n",
              "    <tr>\n",
              "      <th>1</th>\n",
              "      <td>34</td>\n",
              "      <td>0</td>\n",
              "      <td>0.0</td>\n",
              "      <td>45.693411</td>\n",
              "    </tr>\n",
              "    <tr>\n",
              "      <th>2</th>\n",
              "      <td>53</td>\n",
              "      <td>1</td>\n",
              "      <td>1.0</td>\n",
              "      <td>64.998281</td>\n",
              "    </tr>\n",
              "    <tr>\n",
              "      <th>3</th>\n",
              "      <td>68</td>\n",
              "      <td>1</td>\n",
              "      <td>1.0</td>\n",
              "      <td>47.186898</td>\n",
              "    </tr>\n",
              "    <tr>\n",
              "      <th>4</th>\n",
              "      <td>27</td>\n",
              "      <td>1</td>\n",
              "      <td>0.0</td>\n",
              "      <td>100.114260</td>\n",
              "    </tr>\n",
              "  </tbody>\n",
              "</table>\n",
              "</div>"
            ],
            "text/plain": [
              "   年齢  性別  CMを見た         購入量\n",
              "0  62   0    1.0   24.464285\n",
              "1  34   0    0.0   45.693411\n",
              "2  53   1    1.0   64.998281\n",
              "3  68   1    1.0   47.186898\n",
              "4  27   1    0.0  100.114260"
            ]
          },
          "metadata": {
            "tags": []
          },
          "execution_count": 4
        }
      ]
    },
    {
      "cell_type": "code",
      "metadata": {
        "id": "9CWq_bea-jWJ",
        "colab_type": "code",
        "colab": {
          "base_uri": "https://localhost:8080/",
          "height": 204
        },
        "outputId": "00bc5680-830a-4039-fee0-5b1892e17a1b"
      },
      "source": [
        "# 平均値の比較\n",
        "print(df[df['CMを見た'] == 1.0].mean())\n",
        "print('---------')\n",
        "print(df[df['CMを見た'] == 0.0].mean())"
      ],
      "execution_count": 5,
      "outputs": [
        {
          "output_type": "stream",
          "text": [
            "年齢       55.836066\n",
            "性別        0.483607\n",
            "CMを見た     1.000000\n",
            "購入量      49.711478\n",
            "dtype: float64\n",
            "---------\n",
            "年齢       32.141026\n",
            "性別        0.692308\n",
            "CMを見た     0.000000\n",
            "購入量      68.827143\n",
            "dtype: float64\n"
          ],
          "name": "stdout"
        }
      ]
    },
    {
      "cell_type": "markdown",
      "metadata": {
        "id": "nHhQO24oN8pa",
        "colab_type": "text"
      },
      "source": [
        "### 決定木による分類"
      ]
    },
    {
      "cell_type": "code",
      "metadata": {
        "id": "4wSOQ6Yk_uNW",
        "colab_type": "code",
        "colab": {
          "base_uri": "https://localhost:8080/",
          "height": 68
        },
        "outputId": "dec9b2b6-18e3-4033-fff7-c5d46f411efd"
      },
      "source": [
        "# scikit-learnから決定木をimport\n",
        "from sklearn.tree import  DecisionTreeClassifier\n",
        "from sklearn.model_selection import train_test_split\n",
        "\n",
        "# 説明変数\n",
        "X = df[['年齢', '性別']]\n",
        "\n",
        "# 被説明変数（目的変数）\n",
        "Z = df['CMを見た']\n",
        "\n",
        "# データを訓練データと検証データに分割\n",
        "X_train, X_val, Z_train, Z_val = train_test_split(X, Z, train_size=0.6, random_state=0)\n",
        "\n",
        "# 学習と性能確認\n",
        "clf = DecisionTreeClassifier(max_depth=1, random_state=0)\n",
        "clf.fit(X_train, Z_train)\n",
        "print('深さ1の性能：', clf.score(X_val, Z_val))\n",
        "\n",
        "# 学習と性能確認\n",
        "clf = DecisionTreeClassifier(max_depth=2, random_state=0)\n",
        "clf.fit(X_train, Z_train)\n",
        "print('深さ2の性能：', clf.score(X_val, Z_val))\n",
        "\n",
        "# 学習と性能確認\n",
        "clf = DecisionTreeClassifier(max_depth=3, random_state=0)\n",
        "clf.fit(X_train, Z_train)\n",
        "print('深さ3の性能：', clf.score(X_val, Z_val))"
      ],
      "execution_count": 6,
      "outputs": [
        {
          "output_type": "stream",
          "text": [
            "深さ1の性能： 0.85\n",
            "深さ2の性能： 0.85\n",
            "深さ3の性能： 0.825\n"
          ],
          "name": "stdout"
        }
      ]
    },
    {
      "cell_type": "markdown",
      "metadata": {
        "id": "gsjFaL8IN4Aw",
        "colab_type": "text"
      },
      "source": [
        "### 決定木による回帰"
      ]
    },
    {
      "cell_type": "code",
      "metadata": {
        "id": "OUQh4KihOCHs",
        "colab_type": "code",
        "colab": {
          "base_uri": "https://localhost:8080/",
          "height": 68
        },
        "outputId": "53e1754a-e6ee-4539-94e2-d6fdf2667a34"
      },
      "source": [
        "# scikit-learnから決定木の回帰をimport\n",
        "from sklearn.tree import DecisionTreeRegressor\n",
        "from sklearn.model_selection import train_test_split\n",
        "\n",
        "# 説明変数\n",
        "X = df[['年齢', '性別']]\n",
        "\n",
        "# 被説明変数（目的変数）\n",
        "Y = df['購入量']\n",
        "\n",
        "# データを訓練データと検証データに分割\n",
        "X_train, X_val, Y_train, Y_val = train_test_split(X, Y, train_size=0.6, random_state=0)\n",
        "\n",
        "# 学習と性能確認\n",
        "reg = DecisionTreeRegressor(max_depth=2, random_state=0)\n",
        "reg.fit(X_train, Y_train)\n",
        "print('深さ1の性能：', reg.score(X_val, Y_val))\n",
        "\n",
        "# 学習と性能確認\n",
        "reg = DecisionTreeRegressor(max_depth=3, random_state=0)\n",
        "reg.fit(X_train, Y_train)\n",
        "print('深さ2の性能：', reg.score(X_val, Y_val))\n",
        "\n",
        "# 学習と性能確認\n",
        "reg = DecisionTreeRegressor(max_depth=4, random_state=0)\n",
        "reg.fit(X_train, Y_train)\n",
        "print('深さ3の性能：', reg.score(X_val, Y_val))"
      ],
      "execution_count": 7,
      "outputs": [
        {
          "output_type": "stream",
          "text": [
            "深さ1の性能： 0.7257496664596153\n",
            "深さ2の性能： 0.7399348963931736\n",
            "深さ3の性能： 0.7165539691159019\n"
          ],
          "name": "stdout"
        }
      ]
    },
    {
      "cell_type": "markdown",
      "metadata": {
        "id": "0XqJhPdiQKnV",
        "colab_type": "text"
      },
      "source": [
        "### ランダムフォレストで分類"
      ]
    },
    {
      "cell_type": "code",
      "metadata": {
        "id": "LOF0zbIMParl",
        "colab_type": "code",
        "colab": {
          "base_uri": "https://localhost:8080/",
          "height": 68
        },
        "outputId": "2a95145e-275d-49ea-b38c-5ebae5fe2df9"
      },
      "source": [
        "# scikit-learnから決定木をimport\n",
        "from sklearn.ensemble import RandomForestClassifier\n",
        "from sklearn.model_selection import train_test_split\n",
        "\n",
        "# 説明変数\n",
        "X = df[['年齢', '性別']]\n",
        "\n",
        "# 被説明変数（目的変数）\n",
        "Z = df['CMを見た']\n",
        "\n",
        "# データを訓練データと検証データに分割\n",
        "X_train, X_val, Z_train, Z_val = train_test_split(X, Z, train_size=0.6, random_state=0)\n",
        "\n",
        "# 学習と性能確認\n",
        "clf = RandomForestClassifier(max_depth=1, random_state=0)\n",
        "clf.fit(X_train, Z_train)\n",
        "print('深さ1の性能：', clf.score(X_val, Z_val))\n",
        "\n",
        "# 学習と性能確認\n",
        "clf = RandomForestClassifier(max_depth=2, random_state=0)\n",
        "clf.fit(X_train, Z_train)\n",
        "print('深さ2の性能：', clf.score(X_val, Z_val))\n",
        "\n",
        "# 学習と性能確認\n",
        "clf = RandomForestClassifier(max_depth=3, random_state=0)\n",
        "clf.fit(X_train, Z_train)\n",
        "print('深さ3の性能：', clf.score(X_val, Z_val))"
      ],
      "execution_count": 8,
      "outputs": [
        {
          "output_type": "stream",
          "text": [
            "深さ1の性能： 0.775\n",
            "深さ2の性能： 0.85\n",
            "深さ3の性能： 0.825\n"
          ],
          "name": "stdout"
        }
      ]
    },
    {
      "cell_type": "markdown",
      "metadata": {
        "id": "KYgEH_HBQ02m",
        "colab_type": "text"
      },
      "source": [
        "### ランダムフォレストによる回帰"
      ]
    },
    {
      "cell_type": "code",
      "metadata": {
        "id": "A-MXYL2EQheo",
        "colab_type": "code",
        "colab": {
          "base_uri": "https://localhost:8080/",
          "height": 68
        },
        "outputId": "4847d07a-c5fc-473b-a92a-b570004e1ffd"
      },
      "source": [
        "# scikit-learnから決定木の回帰をimport\n",
        "from sklearn.ensemble import RandomForestRegressor\n",
        "from sklearn.model_selection import train_test_split\n",
        "\n",
        "# 説明変数\n",
        "X = df[['年齢', '性別']]\n",
        "\n",
        "# 被説明変数（目的変数）\n",
        "Y = df['購入量']\n",
        "\n",
        "# データを訓練データと検証データに分割\n",
        "X_train, X_val, Y_train, Y_val = train_test_split(X, Y, train_size=0.6, random_state=0)\n",
        "\n",
        "# 学習と性能確認\n",
        "reg = RandomForestRegressor(max_depth=2, random_state=0)\n",
        "reg.fit(X_train, Y_train)\n",
        "print('深さ1の性能：', reg.score(X_val, Y_val))\n",
        "\n",
        "# 学習と性能確認\n",
        "reg = RandomForestRegressor(max_depth=3, random_state=0)\n",
        "reg.fit(X_train, Y_train)\n",
        "print('深さ2の性能：', reg.score(X_val, Y_val))\n",
        "\n",
        "# 学習と性能確認\n",
        "reg = RandomForestRegressor(max_depth=4, random_state=0)\n",
        "reg.fit(X_train, Y_train)\n",
        "print('深さ3の性能：', reg.score(X_val, Y_val))"
      ],
      "execution_count": 9,
      "outputs": [
        {
          "output_type": "stream",
          "text": [
            "深さ1の性能： 0.7618786062003249\n",
            "深さ2の性能： 0.7810610687821996\n",
            "深さ3の性能： 0.7655149049335735\n"
          ],
          "name": "stdout"
        }
      ]
    },
    {
      "cell_type": "markdown",
      "metadata": {
        "id": "P8LTA_tHROm5",
        "colab_type": "text"
      },
      "source": [
        "## Meta-Learners\n",
        "+ 非線形な因果関係および処置効果を扱える因果推論手法\n",
        " + T-Learner：2つ（介入を受けた場合のモデル、受けてない場合のモデル）\n",
        " + S-Learner：1つのモデルで説明変数で介入に関するものを扱っているモデル\n",
        " + X-Learner：2つのモデルで処置効果を推定し、傾向スコアを用いて補正したもの"
      ]
    },
    {
      "cell_type": "code",
      "metadata": {
        "id": "rPPBeKS3RBZ3",
        "colab_type": "code",
        "colab": {
          "base_uri": "https://localhost:8080/",
          "height": 265
        },
        "outputId": "cfdcf726-63ae-4dbd-8964-03bb97cd063a"
      },
      "source": [
        "# データ数\n",
        "num_data = 500\n",
        "\n",
        "# 部下育成への熱心さ(-1から1の一様乱数)\n",
        "x = np.random.uniform(low=-1, high=1, size=num_data)\n",
        "\n",
        "# 上司が上司向けの研修に参加したかどうか \n",
        "e_z = randn(num_data)\n",
        "z_prob = expit(-0.5*x + 5*e_z)\n",
        "Z = np.array([])\n",
        "\n",
        "for i in range(num_data):\n",
        "  Z_i = np.random.choice(2, size=1, p=[1-z_prob[i], z_prob[i]])[0]\n",
        "  Z = np.append(Z, Z_i)\n",
        "\n",
        "# 介入効果の非線形性\n",
        "t = np.zeros(num_data)\n",
        "for i in range(num_data):\n",
        "  if x[i] < 0:\n",
        "    t[i] = 0.5\n",
        "  elif x[i] >= 0 and x[i] < 0.5:\n",
        "    t[i] = 0.7\n",
        "  elif x[i] >= 0.5:\n",
        "    t[i] = 1.0\n",
        "\n",
        "e_y = randn(num_data)\n",
        "Y = 2.0 + t*Z + 0.3*x + 0.1*e_y\n",
        "\n",
        "# 介入効果を図で確認\n",
        "plt.scatter(x, t, label='treatment-effect');"
      ],
      "execution_count": 14,
      "outputs": [
        {
          "output_type": "display_data",
          "data": {
            "image/png": "[encoded data removed]",
            "text/plain": [
              "<Figure size 432x288 with 1 Axes>"
            ]
          },
          "metadata": {
            "tags": [],
            "needs_background": "light"
          }
        }
      ]
    },
    {
      "cell_type": "code",
      "metadata": {
        "id": "Jmqd_wU-96bj",
        "colab_type": "code",
        "colab": {
          "base_uri": "https://localhost:8080/",
          "height": 265
        },
        "outputId": "dfc3e922-9ee8-42fb-c6f5-d08ee7c3edf9"
      },
      "source": [
        "df = pd.DataFrame({'x':x,\n",
        "                     'Z':Z,\n",
        "                     't':t,\n",
        "                     'Y':Y})\n",
        "df.head()\n",
        "plt.scatter(x, Y);"
      ],
      "execution_count": 16,
      "outputs": [
        {
          "output_type": "display_data",
          "data": {
            "image/png": "[encoded data removed]",
            "text/plain": [
              "<Figure size 432x288 with 1 Axes>"
            ]
          },
          "metadata": {
            "tags": [],
            "needs_background": "light"
          }
        }
      ]
    },
    {
      "cell_type": "markdown",
      "metadata": {
        "id": "lRS809XqAMHw",
        "colab_type": "text"
      },
      "source": [
        "### T-Learner"
      ]
    },
    {
      "cell_type": "code",
      "metadata": {
        "id": "ZAlEy1tlAFRy",
        "colab_type": "code",
        "colab": {
          "base_uri": "https://localhost:8080/",
          "height": 122
        },
        "outputId": "1a3d3a67-cd89-49bc-9bf2-51fe04693e2f"
      },
      "source": [
        "# 集団を二つに分ける\n",
        "df_0 = df[df.Z == 0.0]\n",
        "df_1 = df[df.Z == 1.0]\n",
        "\n",
        "# ランダムフォレストモデルを作成\n",
        "from sklearn.ensemble import RandomForestRegressor\n",
        "\n",
        "# 介入を受けていないモデル\n",
        "reg_0 = RandomForestRegressor(max_depth=3)\n",
        "reg_0.fit(df_0[['x']], df_0[['Y']])\n",
        "\n",
        "# 介入を受けたモデル\n",
        "reg_1 = RandomForestRegressor(max_depth=3)\n",
        "reg_1.fit(df_1[['x']], df_1[['Y']])\n",
        "\n",
        "# ATEを求める\n",
        "mu_0 = reg_0.predict(df[['x']])\n",
        "mu_1 = reg_1.predict(df[['x']])\n",
        "\n",
        "ATE = (mu_1 - mu_0).mean()\n",
        "print('ATE：', ATE)"
      ],
      "execution_count": 18,
      "outputs": [
        {
          "output_type": "stream",
          "text": [
            "/usr/local/lib/python3.6/dist-packages/ipykernel_launcher.py:10: DataConversionWarning: A column-vector y was passed when a 1d array was expected. Please change the shape of y to (n_samples,), for example using ravel().\n",
            "  # Remove the CWD from sys.path while we load stuff.\n",
            "/usr/local/lib/python3.6/dist-packages/ipykernel_launcher.py:14: DataConversionWarning: A column-vector y was passed when a 1d array was expected. Please change the shape of y to (n_samples,), for example using ravel().\n",
            "  \n"
          ],
          "name": "stderr"
        },
        {
          "output_type": "stream",
          "text": [
            "ATE： 0.6953166973710061\n"
          ],
          "name": "stdout"
        }
      ]
    },
    {
      "cell_type": "code",
      "metadata": {
        "id": "RgsdY6sMA4tK",
        "colab_type": "code",
        "colab": {
          "base_uri": "https://localhost:8080/",
          "height": 51
        },
        "outputId": "1e3b19fc-a15c-4303-b367-ca39aa9a2425"
      },
      "source": [
        "# 処置群における平均処理効果ATTと対照群における平均処置効果ATU\n",
        "ATT = df_1['Y'] - reg_0.predict(df_1[['x']]) # 介入受けた場合の、受けてない場合のモデルで予測したものの差分\n",
        "ATU = reg_1.predict(df_0[['x']]) - df_0['Y'] # 介入受けてない場合のデータで予測したものの差分\n",
        "\n",
        "print('ATT：', ATT.mean())\n",
        "print('ATU：', ATU.mean())"
      ],
      "execution_count": 20,
      "outputs": [
        {
          "output_type": "stream",
          "text": [
            "ATT： 0.6934147102939229\n",
            "ATU： 0.6984446930174221\n"
          ],
          "name": "stdout"
        }
      ]
    },
    {
      "cell_type": "code",
      "metadata": {
        "id": "Etbsy9zXDJGI",
        "colab_type": "code",
        "colab": {
          "base_uri": "https://localhost:8080/",
          "height": 265
        },
        "outputId": "3998d064-2898-4c84-a086-c50cbb7b5e66"
      },
      "source": [
        "# 推定された処置効果を各人ごとに求める\n",
        "t_estimated = reg_1.predict(df[['x']]) - reg_0.predict(df[['x']])\n",
        "\n",
        "plt.scatter(df[['x']], t_estimated, label='estimated_treatment-effect');\n",
        "\n",
        "# 正解のグラフを作成\n",
        "x_index = np.arange(-1, 1, 0.01)\n",
        "t_ans = np.zeros(len(x_index))\n",
        "for i in range(len(x_index)):\n",
        "  if x_index[i] < 0:\n",
        "    t_ans[i] = 0.5\n",
        "  elif x_index[i] >= 0 and x_index[i] < 0.5:\n",
        "    t_ans[i] = 0.7\n",
        "  elif x_index[i] >= 0.5:\n",
        "    t_ans[i] = 1.0\n",
        "\n",
        "# 正解を描画\n",
        "plt.plot(x_index, t_ans, color='black', ls='--', label='Baseline');"
      ],
      "execution_count": 25,
      "outputs": [
        {
          "output_type": "display_data",
          "data": {
            "image/png": "[encoded data removed]",
            "text/plain": [
              "<Figure size 432x288 with 1 Axes>"
            ]
          },
          "metadata": {
            "tags": [],
            "needs_background": "light"
          }
        }
      ]
    },
    {
      "cell_type": "markdown",
      "metadata": {
        "id": "qWWl-_KhF0kI",
        "colab_type": "text"
      },
      "source": [
        "### S-Learner"
      ]
    },
    {
      "cell_type": "code",
      "metadata": {
        "id": "KS5gaJ5-FfEX",
        "colab_type": "code",
        "colab": {
          "base_uri": "https://localhost:8080/",
          "height": 190
        },
        "outputId": "d3e5feba-de58-42ff-92da-70c3b1aefbf4"
      },
      "source": [
        "# ランダムフォレストモデルを作成\n",
        "from sklearn.ensemble import RandomForestRegressor\n",
        "\n",
        "# モデルを学習\n",
        "reg = RandomForestRegressor(max_depth=4)\n",
        "X = df.loc[:, ['x', 'Z']]\n",
        "reg.fit(X, df[['Y']])"
      ],
      "execution_count": 26,
      "outputs": [
        {
          "output_type": "stream",
          "text": [
            "/usr/local/lib/python3.6/dist-packages/ipykernel_launcher.py:7: DataConversionWarning: A column-vector y was passed when a 1d array was expected. Please change the shape of y to (n_samples,), for example using ravel().\n",
            "  import sys\n"
          ],
          "name": "stderr"
        },
        {
          "output_type": "execute_result",
          "data": {
            "text/plain": [
              "RandomForestRegressor(bootstrap=True, ccp_alpha=0.0, criterion='mse',\n",
              "                      max_depth=4, max_features='auto', max_leaf_nodes=None,\n",
              "                      max_samples=None, min_impurity_decrease=0.0,\n",
              "                      min_impurity_split=None, min_samples_leaf=1,\n",
              "                      min_samples_split=2, min_weight_fraction_leaf=0.0,\n",
              "                      n_estimators=100, n_jobs=None, oob_score=False,\n",
              "                      random_state=None, verbose=0, warm_start=False)"
            ]
          },
          "metadata": {
            "tags": []
          },
          "execution_count": 26
        }
      ]
    },
    {
      "cell_type": "code",
      "metadata": {
        "id": "kJS1q9myGN1I",
        "colab_type": "code",
        "colab": {
          "base_uri": "https://localhost:8080/",
          "height": 34
        },
        "outputId": "f723553c-1331-43be-b500-88dc370c9777"
      },
      "source": [
        "# 処置が0と1の状態を作成する\n",
        "X_0 = X.copy()\n",
        "X_0['Z'] = 0.0\n",
        "\n",
        "X_1 =X.copy()\n",
        "X_1['Z'] = 1.0\n",
        "\n",
        "# ATEの計算\n",
        "ATE = (reg.predict(X_1) - reg.predict(X_0)).mean()\n",
        "print('ATE：', ATE)"
      ],
      "execution_count": 27,
      "outputs": [
        {
          "output_type": "stream",
          "text": [
            "ATE： 0.6959621180216281\n"
          ],
          "name": "stdout"
        }
      ]
    },
    {
      "cell_type": "code",
      "metadata": {
        "id": "QdTAflimGuFU",
        "colab_type": "code",
        "colab": {
          "base_uri": "https://localhost:8080/",
          "height": 282
        },
        "outputId": "2db4c97f-8344-4def-fbf6-147c3ca53dfc"
      },
      "source": [
        "# 推定された処置効果を各人ごとに求める\n",
        "t_estimated = reg.predict(X_1) - reg.predict(X_0)\n",
        "plt.scatter(df[['x']], t_estimated,\n",
        "            label='estimated_treatment-effect')\n",
        "\n",
        "# 正解を描画\n",
        "plt.plot(x_index, t_ans, color='black', ls='--', label='Baseline')"
      ],
      "execution_count": 28,
      "outputs": [
        {
          "output_type": "execute_result",
          "data": {
            "text/plain": [
              "[<matplotlib.lines.Line2D at 0x7f2bc3ce8198>]"
            ]
          },
          "metadata": {
            "tags": []
          },
          "execution_count": 28
        },
        {
          "output_type": "display_data",
          "data": {
            "image/png": "[encoded data removed]",
            "text/plain": [
              "<Figure size 432x288 with 1 Axes>"
            ]
          },
          "metadata": {
            "tags": [],
            "needs_background": "light"
          }
        }
      ]
    },
    {
      "cell_type": "markdown",
      "metadata": {
        "id": "VemgVw6dK4Bm",
        "colab_type": "text"
      },
      "source": [
        "### X-Learner"
      ]
    },
    {
      "cell_type": "code",
      "metadata": {
        "id": "J4Hq8zZcHQ1o",
        "colab_type": "code",
        "colab": {
          "base_uri": "https://localhost:8080/",
          "height": 224
        },
        "outputId": "987b83a2-a05c-4e0d-c596-c12ba3915b90"
      },
      "source": [
        "# T-LearnerでM0とM1を求める\n",
        "from sklearn.ensemble import RandomForestRegressor\n",
        "\n",
        "# 集団を二つに分ける\n",
        "df_0 = df[df.Z == 0.0]\n",
        "df_1 = df[df.Z == 1.0]\n",
        "\n",
        "# 介入を受けていないモデル\n",
        "M0 = RandomForestRegressor(max_depth=3)\n",
        "M0.fit(df_0[['x']], df_0[['Y']])\n",
        "\n",
        "# 介入を受けたモデル\n",
        "M1 = RandomForestRegressor(max_depth=3)\n",
        "M1.fit(df_1[['x']], df_1[['Y']])"
      ],
      "execution_count": 29,
      "outputs": [
        {
          "output_type": "stream",
          "text": [
            "/usr/local/lib/python3.6/dist-packages/ipykernel_launcher.py:10: DataConversionWarning: A column-vector y was passed when a 1d array was expected. Please change the shape of y to (n_samples,), for example using ravel().\n",
            "  # Remove the CWD from sys.path while we load stuff.\n",
            "/usr/local/lib/python3.6/dist-packages/ipykernel_launcher.py:14: DataConversionWarning: A column-vector y was passed when a 1d array was expected. Please change the shape of y to (n_samples,), for example using ravel().\n",
            "  \n"
          ],
          "name": "stderr"
        },
        {
          "output_type": "execute_result",
          "data": {
            "text/plain": [
              "RandomForestRegressor(bootstrap=True, ccp_alpha=0.0, criterion='mse',\n",
              "                      max_depth=3, max_features='auto', max_leaf_nodes=None,\n",
              "                      max_samples=None, min_impurity_decrease=0.0,\n",
              "                      min_impurity_split=None, min_samples_leaf=1,\n",
              "                      min_samples_split=2, min_weight_fraction_leaf=0.0,\n",
              "                      n_estimators=100, n_jobs=None, oob_score=False,\n",
              "                      random_state=None, verbose=0, warm_start=False)"
            ]
          },
          "metadata": {
            "tags": []
          },
          "execution_count": 29
        }
      ]
    },
    {
      "cell_type": "code",
      "metadata": {
        "id": "1yZHl4trL5zO",
        "colab_type": "code",
        "colab": {
          "base_uri": "https://localhost:8080/",
          "height": 136
        },
        "outputId": "45881c25-7a6e-418e-b3d5-43561edd2318"
      },
      "source": [
        "# 推定された処置効果を各人ごとに求める\n",
        "tau_0 = reg_1.predict(df_0[['x']]) - df_0['Y']\n",
        "tau_1 = df_1['Y'] - reg_0.predict(df_1[['x']])\n",
        "\n",
        "# ATTとATUを求めるモデルの作成\n",
        "M2 = RandomForestRegressor(max_depth=3)\n",
        "M2.fit(df_0[['x']], tau_0)\n",
        "\n",
        "M3 = RandomForestRegressor(max_depth=3)\n",
        "M3.fit(df_1[['x']], tau_1)"
      ],
      "execution_count": 30,
      "outputs": [
        {
          "output_type": "execute_result",
          "data": {
            "text/plain": [
              "RandomForestRegressor(bootstrap=True, ccp_alpha=0.0, criterion='mse',\n",
              "                      max_depth=3, max_features='auto', max_leaf_nodes=None,\n",
              "                      max_samples=None, min_impurity_decrease=0.0,\n",
              "                      min_impurity_split=None, min_samples_leaf=1,\n",
              "                      min_samples_split=2, min_weight_fraction_leaf=0.0,\n",
              "                      n_estimators=100, n_jobs=None, oob_score=False,\n",
              "                      random_state=None, verbose=0, warm_start=False)"
            ]
          },
          "metadata": {
            "tags": []
          },
          "execution_count": 30
        }
      ]
    },
    {
      "cell_type": "code",
      "metadata": {
        "id": "0VXUFvTxM6PB",
        "colab_type": "code",
        "colab": {
          "base_uri": "https://localhost:8080/",
          "height": 265
        },
        "outputId": "cf079403-69a0-4e16-b656-f26dc213beb4"
      },
      "source": [
        "# 傾向スコアの計算\n",
        "from sklearn.linear_model import LogisticRegression\n",
        "\n",
        "# 説明変数\n",
        "X = df[['x']]\n",
        "\n",
        "# 被説明変数\n",
        "Z = df['Z']\n",
        "\n",
        "# 回帰の実施\n",
        "g_x = LogisticRegression().fit(X, Z)\n",
        "g_x_val = g_x.predict_proba(X)\n",
        "\n",
        "# それぞれのモデルで全データの効果を予測し、傾向スコアで調整\n",
        "tau = g_x_val[:, 1]*M2.predict(df[['x']]) + g_x_val[:, 0]*M3.predict(df[['x']])\n",
        "\n",
        "# 推定された処理効果を各人ごとに求める\n",
        "plt.scatter(df[['x']], tau, label='estimated_treatment-effect');\n",
        "\n",
        "# 正解を描画\n",
        "plt.plot(x_index, t_ans, color='black', ls='--', label='Baseline');"
      ],
      "execution_count": 33,
      "outputs": [
        {
          "output_type": "display_data",
          "data": {
            "image/png": "[encoded data removed]",
            "text/plain": [
              "<Figure size 432x288 with 1 Axes>"
            ]
          },
          "metadata": {
            "tags": [],
            "needs_background": "light"
          }
        }
      ]
    },
    {
      "cell_type": "code",
      "metadata": {
        "id": "FPw1aKvcNZuz",
        "colab_type": "code",
        "colab": {}
      },
      "source": [
        ""
      ],
      "execution_count": null,
      "outputs": []
    }
  ]
}