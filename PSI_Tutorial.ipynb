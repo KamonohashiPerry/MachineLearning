{
  "nbformat": 4,
  "nbformat_minor": 0,
  "metadata": {
    "colab": {
      "name": "PSI_Tutorial.ipynb",
      "provenance": [],
      "collapsed_sections": [],
      "include_colab_link": true
    },
    "kernelspec": {
      "name": "python3",
      "display_name": "Python 3"
    }
  },
  "cells": [
    {
      "cell_type": "markdown",
      "metadata": {
        "id": "view-in-github",
        "colab_type": "text"
      },
      "source": [
        "<a href=\"https://colab.research.google.com/github/KamonohashiPerry/MachineLearning/blob/master/PSI_Tutorial.ipynb\" target=\"_parent\"><img src=\"https://colab.research.google.com/assets/colab-badge.svg\" alt=\"Open In Colab\"/></a>"
      ]
    },
    {
      "cell_type": "markdown",
      "metadata": {
        "id": "bA2QzR666Ll1",
        "colab_type": "text"
      },
      "source": [
        "## Reference\n",
        "https://github.com/mwburke/population-stability-index/blob/master/walkthrough-example.ipynb"
      ]
    },
    {
      "cell_type": "code",
      "metadata": {
        "id": "ABZ8pCXRr04Y",
        "colab_type": "code",
        "colab": {}
      },
      "source": [
        "import numpy as np\n",
        "\n",
        "def calculate_psi(expected,\n",
        "                  actual,\n",
        "                  buckettype='bins',\n",
        "                  buckets=10,\n",
        "                  axis=0):\n",
        "  '''Calculate the PSI (population stability index) across all variables\n",
        "        Args:\n",
        "        expected: numpy matrix of original values\n",
        "        actual: numpy matrix of new values, same size as expected\n",
        "        buckettype: type of strategy for creating buckets, bins splits into even splits, quantiles splits into quantile buckets\n",
        "        buckets: number of quantiles to use in bucketing variables\n",
        "        axis: axis by which variables are defined, 0 for vertical, 1 for horizontal\n",
        "      Returns:\n",
        "        psi_values: ndarray of psi values for each variable\n",
        "      Author:\n",
        "        Matthew Burke\n",
        "        github.com/mwburke\n",
        "        worksofchart.com\n",
        "  '''\n",
        "  def psi(expected_array,\n",
        "          actual_array,\n",
        "          buckets):\n",
        "    '''Calculate the PSI for a single variable\n",
        "        Args:\n",
        "            expected_array: numpy array of original values\n",
        "            actual_array: numpy array of new values, same size as expected\n",
        "            buckets: number of percentile ranges to bucket the values into\n",
        "        Returns:\n",
        "            psi_value: calculated PSI value\n",
        "    '''\n",
        "\n",
        "    # 最小値、最大値が所与のもとで、inputの最小値でinputを引き、inputの最大値を所与の最小・最大の差で割り、所与の最小値を足す。\n",
        "    def scale_range(input, min, max):\n",
        "      input += -(np.min(input)) # 代入演算子 a = a + b に同じ\n",
        "      input /= np.max(input) / (max - min) # 代入演算子 a = a / b に同じ\n",
        "      input += min \n",
        "      return input\n",
        "\n",
        "    # これはなにをしている？\n",
        "    breakpoints = np.arange(0, buckets + 1) / (buckets) * 100\n",
        "\n",
        "    # 階級値の場合\n",
        "    if buckettype == 'bins':\n",
        "      breakpoints = scale_range(input=breakpoints,\n",
        "                                 min=np.min(expected_array),\n",
        "                                 max=np.max(expected_array))\n",
        "    # 実数の場合\n",
        "    elif buckettype == 'quantities':\n",
        "      breakpoints = np.stack([np.percentile(expected_array, b) for b in breakpoints ])\n",
        "\n",
        "    # \n",
        "    expected_percents = np.histogram(expected_array, breakpoints)[0] / len(expected_array)\n",
        "    actual_percents = np.histogram(actual_array, breakpoints)[0] / len(actual_array)\n",
        "\n",
        "    # 実際の値と期待値が0かどうか考慮した上で、商の対数に差分をかけたものを返す。\n",
        "    def sub_psi(e_perc, a_perc):\n",
        "      '''Calculate the actual PSI value from comparing the values.\n",
        "          Update the actual value to a very small number if equal to zero\n",
        "      '''\n",
        "      # actual\n",
        "      if a_perc == 0:\n",
        "        a_perc = 0.001\n",
        "      # expected\n",
        "      if e_perc == 0:\n",
        "        e_perc == 0.001\n",
        "\n",
        "      value = (e_perc - a_perc) * np.log(e_perc / a_perc)\n",
        "      return value\n",
        "\n",
        "    # \n",
        "    psi_value = sum(sub_psi(expected_percents[i], actual_percents[i]) for i in range(0, len(expected_percents)))\n",
        "\n",
        "    return psi_value\n",
        "\n",
        "  if len(expected.shape) == 1:\n",
        "    psi_values = np.empty(len(expected.shape))\n",
        "\n",
        "  else:\n",
        "    psi_values = np.empty(expected.shape[axis])\n",
        "  \n",
        "  for i in range(0, len(psi_values)):\n",
        "    if len(psi_values) == 1:\n",
        "      psi_values = psi(expected, actual, buckets)\n",
        "    elif axis == 0:\n",
        "      psi_values[i] = psi(expected[:,i], actual[:,i], buckets)\n",
        "    elif axis == 1:\n",
        "      psi_values[i] = psi(expected[i,:], actual[i,:], buckets)\n",
        "\n",
        "  return psi_values\n"
      ],
      "execution_count": 0,
      "outputs": []
    },
    {
      "cell_type": "markdown",
      "metadata": {
        "id": "AA7DE5au1ts_",
        "colab_type": "text"
      },
      "source": [
        "## PSI Walkthrough"
      ]
    },
    {
      "cell_type": "code",
      "metadata": {
        "id": "WQzdI31KsAbP",
        "colab_type": "code",
        "colab": {}
      },
      "source": [
        "import pandas as pd\n",
        "import seaborn as sns\n",
        "import matplotlib.pyplot as plt"
      ],
      "execution_count": 0,
      "outputs": []
    },
    {
      "cell_type": "code",
      "metadata": {
        "id": "gTbRbPN01o3a",
        "colab_type": "code",
        "colab": {}
      },
      "source": [
        "sns.set_style(\"white\")\n",
        "rs = np.random.RandomState(5)\n",
        "\n",
        "initial = rs.normal(size = 100)\n",
        "new = rs.normal(loc = 0.2, size = 120)"
      ],
      "execution_count": 0,
      "outputs": []
    },
    {
      "cell_type": "code",
      "metadata": {
        "id": "BDMXQsBX1s6k",
        "colab_type": "code",
        "outputId": "d1b2ccc1-5019-403f-95b5-4d8c73c54fd7",
        "colab": {
          "base_uri": "https://localhost:8080/",
          "height": 248
        }
      },
      "source": [
        "plot = sns.kdeplot(initial, shade=True)\n",
        "plot = sns.kdeplot(new, shade=True)\n",
        "plot.set(yticklabels=[], xticklabels = [])\n",
        "sns.despine(left=True)"
      ],
      "execution_count": 0,
      "outputs": [
        {
          "output_type": "display_data",
          "data": {
            "image/png": "[encoded data removed]",
            "text/plain": [
              "<Figure size 432x288 with 1 Axes>"
            ]
          },
          "metadata": {
            "tags": []
          }
        }
      ]
    },
    {
      "cell_type": "code",
      "metadata": {
        "id": "F9rYSln20-Ty",
        "colab_type": "code",
        "colab": {}
      },
      "source": [
        "def scale_range (input, min, max):\n",
        "    input += -(np.min(input))\n",
        "    input /= np.max(input) / (max - min)\n",
        "    input += min\n",
        "    return input"
      ],
      "execution_count": 0,
      "outputs": []
    },
    {
      "cell_type": "code",
      "metadata": {
        "id": "CkUMVk401yn1",
        "colab_type": "code",
        "colab": {}
      },
      "source": [
        "buckets = 10\n",
        "raw_breakpoints = np.arange(0, buckets + 1) / (buckets) * 100"
      ],
      "execution_count": 0,
      "outputs": []
    },
    {
      "cell_type": "code",
      "metadata": {
        "id": "Z7qk_1H2z3qJ",
        "colab_type": "code",
        "outputId": "a8f0aeb6-6359-4de4-f6bf-3eeb30f11f59",
        "colab": {
          "base_uri": "https://localhost:8080/",
          "height": 34
        }
      },
      "source": [
        "raw_breakpoints"
      ],
      "execution_count": 0,
      "outputs": [
        {
          "output_type": "execute_result",
          "data": {
            "text/plain": [
              "array([  0.,  10.,  20.,  30.,  40.,  50.,  60.,  70.,  80.,  90., 100.])"
            ]
          },
          "metadata": {
            "tags": []
          },
          "execution_count": 35
        }
      ]
    },
    {
      "cell_type": "code",
      "metadata": {
        "id": "O8lHr4BO0CYK",
        "colab_type": "code",
        "colab": {}
      },
      "source": [
        "breakpoints = scale_range(raw_breakpoints, np.min(initial), np.max(initial))"
      ],
      "execution_count": 0,
      "outputs": []
    },
    {
      "cell_type": "code",
      "metadata": {
        "id": "lovPVkbFzx55",
        "colab_type": "code",
        "colab": {}
      },
      "source": [
        "breakpoints = scale_range(raw_breakpoints, np.min(initial), np.max(initial))"
      ],
      "execution_count": 0,
      "outputs": []
    },
    {
      "cell_type": "code",
      "metadata": {
        "id": "Tzwxej6I1FN1",
        "colab_type": "code",
        "outputId": "8a2f9732-8918-479a-972d-132dbd17b43e",
        "colab": {
          "base_uri": "https://localhost:8080/",
          "height": 68
        }
      },
      "source": [
        "breakpoints"
      ],
      "execution_count": 0,
      "outputs": [
        {
          "output_type": "execute_result",
          "data": {
            "text/plain": [
              "array([-2.85968797, -2.33064205, -1.80159614, -1.27255022, -0.74350431,\n",
              "       -0.21445839,  0.31458753,  0.84363344,  1.37267936,  1.90172527,\n",
              "        2.43077119])"
            ]
          },
          "metadata": {
            "tags": []
          },
          "execution_count": 38
        }
      ]
    },
    {
      "cell_type": "code",
      "metadata": {
        "id": "WkeLiNzE1Ffi",
        "colab_type": "code",
        "colab": {}
      },
      "source": [
        "initial_counts = np.histogram(initial, breakpoints)[0]\n",
        "new_counts = np.histogram(new, breakpoints)[0]"
      ],
      "execution_count": 0,
      "outputs": []
    },
    {
      "cell_type": "code",
      "metadata": {
        "id": "6mbFhesy1IfF",
        "colab_type": "code",
        "outputId": "29b4cfaf-5038-4990-8f85-fa45f3e5ffae",
        "colab": {
          "base_uri": "https://localhost:8080/",
          "height": 34
        }
      },
      "source": [
        "initial_counts"
      ],
      "execution_count": 0,
      "outputs": [
        {
          "output_type": "execute_result",
          "data": {
            "text/plain": [
              "array([ 1,  1,  4,  8, 27, 22, 16, 12,  6,  2])"
            ]
          },
          "metadata": {
            "tags": []
          },
          "execution_count": 40
        }
      ]
    },
    {
      "cell_type": "code",
      "metadata": {
        "id": "LQy0jBXF1Jvy",
        "colab_type": "code",
        "outputId": "795b702c-6578-453b-a34c-b605b6f7356b",
        "colab": {
          "base_uri": "https://localhost:8080/",
          "height": 34
        }
      },
      "source": [
        "new_counts"
      ],
      "execution_count": 0,
      "outputs": [
        {
          "output_type": "execute_result",
          "data": {
            "text/plain": [
              "array([ 0,  3,  6, 15, 18, 23, 26, 14,  9,  3])"
            ]
          },
          "metadata": {
            "tags": []
          },
          "execution_count": 41
        }
      ]
    },
    {
      "cell_type": "code",
      "metadata": {
        "id": "VNY3vZmw1K6y",
        "colab_type": "code",
        "colab": {}
      },
      "source": [
        "df = pd.DataFrame({'Bucket': np.arange(1, 11),\n",
        "                     'Breakpoint Value':breakpoints[1:],\n",
        "                     'Initial Count':initial_counts,\n",
        "                     'New Count':new_counts})\n",
        "\n",
        "df['Initial Percent'] = df['Initial Count'] / len(initial)\n",
        "df['New Percent'] = df['New Count'] / len(new)"
      ],
      "execution_count": 0,
      "outputs": []
    },
    {
      "cell_type": "code",
      "metadata": {
        "id": "gwtQRpHG1itm",
        "colab_type": "code",
        "outputId": "140cc9f4-f242-4bae-b220-cf34681a39dd",
        "colab": {
          "base_uri": "https://localhost:8080/",
          "height": 122
        }
      },
      "source": [
        "df['New Percent'][df['New Percent'] == 0] = 0.001"
      ],
      "execution_count": 0,
      "outputs": [
        {
          "output_type": "stream",
          "text": [
            "/usr/local/lib/python3.6/dist-packages/ipykernel_launcher.py:1: SettingWithCopyWarning: \n",
            "A value is trying to be set on a copy of a slice from a DataFrame\n",
            "\n",
            "See the caveats in the documentation: http://pandas.pydata.org/pandas-docs/stable/user_guide/indexing.html#returning-a-view-versus-a-copy\n",
            "  \"\"\"Entry point for launching an IPython kernel.\n"
          ],
          "name": "stderr"
        }
      ]
    },
    {
      "cell_type": "code",
      "metadata": {
        "id": "PXiH75oi1k5L",
        "colab_type": "code",
        "outputId": "964b2d63-1da3-4440-ab77-62d42cc340e1",
        "colab": {
          "base_uri": "https://localhost:8080/",
          "height": 359
        }
      },
      "source": [
        "df"
      ],
      "execution_count": 0,
      "outputs": [
        {
          "output_type": "execute_result",
          "data": {
            "text/html": [
              "<div>\n",
              "<style scoped>\n",
              "    .dataframe tbody tr th:only-of-type {\n",
              "        vertical-align: middle;\n",
              "    }\n",
              "\n",
              "    .dataframe tbody tr th {\n",
              "        vertical-align: top;\n",
              "    }\n",
              "\n",
              "    .dataframe thead th {\n",
              "        text-align: right;\n",
              "    }\n",
              "</style>\n",
              "<table border=\"1\" class=\"dataframe\">\n",
              "  <thead>\n",
              "    <tr style=\"text-align: right;\">\n",
              "      <th></th>\n",
              "      <th>Bucket</th>\n",
              "      <th>Breakpoint Value</th>\n",
              "      <th>Initial Count</th>\n",
              "      <th>New Count</th>\n",
              "      <th>Initial Percent</th>\n",
              "      <th>New Percent</th>\n",
              "    </tr>\n",
              "  </thead>\n",
              "  <tbody>\n",
              "    <tr>\n",
              "      <th>0</th>\n",
              "      <td>1</td>\n",
              "      <td>-2.330642</td>\n",
              "      <td>1</td>\n",
              "      <td>0</td>\n",
              "      <td>0.01</td>\n",
              "      <td>0.001000</td>\n",
              "    </tr>\n",
              "    <tr>\n",
              "      <th>1</th>\n",
              "      <td>2</td>\n",
              "      <td>-1.801596</td>\n",
              "      <td>1</td>\n",
              "      <td>3</td>\n",
              "      <td>0.01</td>\n",
              "      <td>0.025000</td>\n",
              "    </tr>\n",
              "    <tr>\n",
              "      <th>2</th>\n",
              "      <td>3</td>\n",
              "      <td>-1.272550</td>\n",
              "      <td>4</td>\n",
              "      <td>6</td>\n",
              "      <td>0.04</td>\n",
              "      <td>0.050000</td>\n",
              "    </tr>\n",
              "    <tr>\n",
              "      <th>3</th>\n",
              "      <td>4</td>\n",
              "      <td>-0.743504</td>\n",
              "      <td>8</td>\n",
              "      <td>15</td>\n",
              "      <td>0.08</td>\n",
              "      <td>0.125000</td>\n",
              "    </tr>\n",
              "    <tr>\n",
              "      <th>4</th>\n",
              "      <td>5</td>\n",
              "      <td>-0.214458</td>\n",
              "      <td>27</td>\n",
              "      <td>18</td>\n",
              "      <td>0.27</td>\n",
              "      <td>0.150000</td>\n",
              "    </tr>\n",
              "    <tr>\n",
              "      <th>5</th>\n",
              "      <td>6</td>\n",
              "      <td>0.314588</td>\n",
              "      <td>22</td>\n",
              "      <td>23</td>\n",
              "      <td>0.22</td>\n",
              "      <td>0.191667</td>\n",
              "    </tr>\n",
              "    <tr>\n",
              "      <th>6</th>\n",
              "      <td>7</td>\n",
              "      <td>0.843633</td>\n",
              "      <td>16</td>\n",
              "      <td>26</td>\n",
              "      <td>0.16</td>\n",
              "      <td>0.216667</td>\n",
              "    </tr>\n",
              "    <tr>\n",
              "      <th>7</th>\n",
              "      <td>8</td>\n",
              "      <td>1.372679</td>\n",
              "      <td>12</td>\n",
              "      <td>14</td>\n",
              "      <td>0.12</td>\n",
              "      <td>0.116667</td>\n",
              "    </tr>\n",
              "    <tr>\n",
              "      <th>8</th>\n",
              "      <td>9</td>\n",
              "      <td>1.901725</td>\n",
              "      <td>6</td>\n",
              "      <td>9</td>\n",
              "      <td>0.06</td>\n",
              "      <td>0.075000</td>\n",
              "    </tr>\n",
              "    <tr>\n",
              "      <th>9</th>\n",
              "      <td>10</td>\n",
              "      <td>2.430771</td>\n",
              "      <td>2</td>\n",
              "      <td>3</td>\n",
              "      <td>0.02</td>\n",
              "      <td>0.025000</td>\n",
              "    </tr>\n",
              "  </tbody>\n",
              "</table>\n",
              "</div>"
            ],
            "text/plain": [
              "   Bucket  Breakpoint Value  ...  Initial Percent  New Percent\n",
              "0       1         -2.330642  ...             0.01     0.001000\n",
              "1       2         -1.801596  ...             0.01     0.025000\n",
              "2       3         -1.272550  ...             0.04     0.050000\n",
              "3       4         -0.743504  ...             0.08     0.125000\n",
              "4       5         -0.214458  ...             0.27     0.150000\n",
              "5       6          0.314588  ...             0.22     0.191667\n",
              "6       7          0.843633  ...             0.16     0.216667\n",
              "7       8          1.372679  ...             0.12     0.116667\n",
              "8       9          1.901725  ...             0.06     0.075000\n",
              "9      10          2.430771  ...             0.02     0.025000\n",
              "\n",
              "[10 rows x 6 columns]"
            ]
          },
          "metadata": {
            "tags": []
          },
          "execution_count": 44
        }
      ]
    },
    {
      "cell_type": "code",
      "metadata": {
        "id": "A_5us2FN1myC",
        "colab_type": "code",
        "colab": {}
      },
      "source": [
        "percents = df[['Initial Percent', 'New Percent', 'Bucket']] \\\n",
        "             .melt(id_vars=['Bucket']) \\\n",
        "             .rename(columns={'variable':'Population', 'value':'Percent'})"
      ],
      "execution_count": 0,
      "outputs": []
    },
    {
      "cell_type": "code",
      "metadata": {
        "id": "ic22_hcp2D6V",
        "colab_type": "code",
        "outputId": "46e4f395-4b3b-40ac-9f02-e9344a7ca5d2",
        "colab": {
          "base_uri": "https://localhost:8080/",
          "height": 204
        }
      },
      "source": [
        "percents.head()"
      ],
      "execution_count": 0,
      "outputs": [
        {
          "output_type": "execute_result",
          "data": {
            "text/html": [
              "<div>\n",
              "<style scoped>\n",
              "    .dataframe tbody tr th:only-of-type {\n",
              "        vertical-align: middle;\n",
              "    }\n",
              "\n",
              "    .dataframe tbody tr th {\n",
              "        vertical-align: top;\n",
              "    }\n",
              "\n",
              "    .dataframe thead th {\n",
              "        text-align: right;\n",
              "    }\n",
              "</style>\n",
              "<table border=\"1\" class=\"dataframe\">\n",
              "  <thead>\n",
              "    <tr style=\"text-align: right;\">\n",
              "      <th></th>\n",
              "      <th>Bucket</th>\n",
              "      <th>Population</th>\n",
              "      <th>Percent</th>\n",
              "    </tr>\n",
              "  </thead>\n",
              "  <tbody>\n",
              "    <tr>\n",
              "      <th>0</th>\n",
              "      <td>1</td>\n",
              "      <td>Initial Percent</td>\n",
              "      <td>0.01</td>\n",
              "    </tr>\n",
              "    <tr>\n",
              "      <th>1</th>\n",
              "      <td>2</td>\n",
              "      <td>Initial Percent</td>\n",
              "      <td>0.01</td>\n",
              "    </tr>\n",
              "    <tr>\n",
              "      <th>2</th>\n",
              "      <td>3</td>\n",
              "      <td>Initial Percent</td>\n",
              "      <td>0.04</td>\n",
              "    </tr>\n",
              "    <tr>\n",
              "      <th>3</th>\n",
              "      <td>4</td>\n",
              "      <td>Initial Percent</td>\n",
              "      <td>0.08</td>\n",
              "    </tr>\n",
              "    <tr>\n",
              "      <th>4</th>\n",
              "      <td>5</td>\n",
              "      <td>Initial Percent</td>\n",
              "      <td>0.27</td>\n",
              "    </tr>\n",
              "  </tbody>\n",
              "</table>\n",
              "</div>"
            ],
            "text/plain": [
              "   Bucket       Population  Percent\n",
              "0       1  Initial Percent     0.01\n",
              "1       2  Initial Percent     0.01\n",
              "2       3  Initial Percent     0.04\n",
              "3       4  Initial Percent     0.08\n",
              "4       5  Initial Percent     0.27"
            ]
          },
          "metadata": {
            "tags": []
          },
          "execution_count": 46
        }
      ]
    },
    {
      "cell_type": "code",
      "metadata": {
        "id": "ilM0blWd2Fo9",
        "colab_type": "code",
        "outputId": "c6294800-fab4-40d5-e275-31cd78e8235a",
        "colab": {
          "base_uri": "https://localhost:8080/",
          "height": 279
        }
      },
      "source": [
        "p = sns.barplot(x=\"Bucket\",\n",
        "                y=\"Percent\",\n",
        "                hue=\"Population\",\n",
        "                data=percents)\n",
        "\n",
        "p.set(xlabel='Bucket', ylabel='Population Percent')\n",
        "sns.despine(left=True)"
      ],
      "execution_count": 0,
      "outputs": [
        {
          "output_type": "display_data",
          "data": {
            "image/png": "[encoded data removed]",
            "text/plain": [
              "<Figure size 432x288 with 1 Axes>"
            ]
          },
          "metadata": {
            "tags": []
          }
        }
      ]
    },
    {
      "cell_type": "markdown",
      "metadata": {
        "id": "bIFhFRru2ciy",
        "colab_type": "text"
      },
      "source": [
        "PSIは比較対象の%の差分にその商の対数をかけあわせたものの和"
      ]
    },
    {
      "cell_type": "code",
      "metadata": {
        "id": "C7rXyqJ52N8S",
        "colab_type": "code",
        "colab": {}
      },
      "source": [
        "df['PSI'] = (df['New Percent'] - df['Initial Percent']) * np.log(df['New Percent'] / df['Initial Percent'])"
      ],
      "execution_count": 0,
      "outputs": []
    },
    {
      "cell_type": "code",
      "metadata": {
        "id": "ZlLOTrt72pDz",
        "colab_type": "code",
        "outputId": "9cf4fb18-813c-47dd-a192-1eb5057912d1",
        "colab": {
          "base_uri": "https://localhost:8080/",
          "height": 204
        }
      },
      "source": [
        "df.head()"
      ],
      "execution_count": 0,
      "outputs": [
        {
          "output_type": "execute_result",
          "data": {
            "text/html": [
              "<div>\n",
              "<style scoped>\n",
              "    .dataframe tbody tr th:only-of-type {\n",
              "        vertical-align: middle;\n",
              "    }\n",
              "\n",
              "    .dataframe tbody tr th {\n",
              "        vertical-align: top;\n",
              "    }\n",
              "\n",
              "    .dataframe thead th {\n",
              "        text-align: right;\n",
              "    }\n",
              "</style>\n",
              "<table border=\"1\" class=\"dataframe\">\n",
              "  <thead>\n",
              "    <tr style=\"text-align: right;\">\n",
              "      <th></th>\n",
              "      <th>Bucket</th>\n",
              "      <th>Breakpoint Value</th>\n",
              "      <th>Initial Count</th>\n",
              "      <th>New Count</th>\n",
              "      <th>Initial Percent</th>\n",
              "      <th>New Percent</th>\n",
              "      <th>PSI</th>\n",
              "    </tr>\n",
              "  </thead>\n",
              "  <tbody>\n",
              "    <tr>\n",
              "      <th>0</th>\n",
              "      <td>1</td>\n",
              "      <td>-2.330642</td>\n",
              "      <td>1</td>\n",
              "      <td>0</td>\n",
              "      <td>0.01</td>\n",
              "      <td>0.001</td>\n",
              "      <td>0.020723</td>\n",
              "    </tr>\n",
              "    <tr>\n",
              "      <th>1</th>\n",
              "      <td>2</td>\n",
              "      <td>-1.801596</td>\n",
              "      <td>1</td>\n",
              "      <td>3</td>\n",
              "      <td>0.01</td>\n",
              "      <td>0.025</td>\n",
              "      <td>0.013744</td>\n",
              "    </tr>\n",
              "    <tr>\n",
              "      <th>2</th>\n",
              "      <td>3</td>\n",
              "      <td>-1.272550</td>\n",
              "      <td>4</td>\n",
              "      <td>6</td>\n",
              "      <td>0.04</td>\n",
              "      <td>0.050</td>\n",
              "      <td>0.002231</td>\n",
              "    </tr>\n",
              "    <tr>\n",
              "      <th>3</th>\n",
              "      <td>4</td>\n",
              "      <td>-0.743504</td>\n",
              "      <td>8</td>\n",
              "      <td>15</td>\n",
              "      <td>0.08</td>\n",
              "      <td>0.125</td>\n",
              "      <td>0.020083</td>\n",
              "    </tr>\n",
              "    <tr>\n",
              "      <th>4</th>\n",
              "      <td>5</td>\n",
              "      <td>-0.214458</td>\n",
              "      <td>27</td>\n",
              "      <td>18</td>\n",
              "      <td>0.27</td>\n",
              "      <td>0.150</td>\n",
              "      <td>0.070534</td>\n",
              "    </tr>\n",
              "  </tbody>\n",
              "</table>\n",
              "</div>"
            ],
            "text/plain": [
              "   Bucket  Breakpoint Value  ...  New Percent       PSI\n",
              "0       1         -2.330642  ...        0.001  0.020723\n",
              "1       2         -1.801596  ...        0.025  0.013744\n",
              "2       3         -1.272550  ...        0.050  0.002231\n",
              "3       4         -0.743504  ...        0.125  0.020083\n",
              "4       5         -0.214458  ...        0.150  0.070534\n",
              "\n",
              "[5 rows x 7 columns]"
            ]
          },
          "metadata": {
            "tags": []
          },
          "execution_count": 49
        }
      ]
    },
    {
      "cell_type": "code",
      "metadata": {
        "id": "J9U21Uj72rp2",
        "colab_type": "code",
        "outputId": "1745e201-4c30-4e78-92fe-20a8005ae835",
        "colab": {
          "base_uri": "https://localhost:8080/",
          "height": 34
        }
      },
      "source": [
        "# これがPSI\n",
        "np.sum(df['PSI'])"
      ],
      "execution_count": 0,
      "outputs": [
        {
          "output_type": "execute_result",
          "data": {
            "text/plain": [
              "0.15296002119653457"
            ]
          },
          "metadata": {
            "tags": []
          },
          "execution_count": 50
        }
      ]
    },
    {
      "cell_type": "code",
      "metadata": {
        "id": "CzK4RD5Y3NxC",
        "colab_type": "code",
        "outputId": "5338cf88-0207-4540-d222-19ba2d800da3",
        "colab": {
          "base_uri": "https://localhost:8080/",
          "height": 34
        }
      },
      "source": [
        "np.round(np.sum(df['PSI']), 5)"
      ],
      "execution_count": 65,
      "outputs": [
        {
          "output_type": "execute_result",
          "data": {
            "text/plain": [
              "0.15296"
            ]
          },
          "metadata": {
            "tags": []
          },
          "execution_count": 65
        }
      ]
    },
    {
      "cell_type": "code",
      "metadata": {
        "id": "4uYzi6Qz2utq",
        "colab_type": "code",
        "outputId": "81a8fc33-2572-432b-896b-de73cbfb34be",
        "colab": {
          "base_uri": "https://localhost:8080/",
          "height": 34
        }
      },
      "source": [
        "np.round(calculate_psi(initial, new, buckets=10, axis=1), 3) == np.round(np.sum(df['PSI']), 3)"
      ],
      "execution_count": 63,
      "outputs": [
        {
          "output_type": "execute_result",
          "data": {
            "text/plain": [
              "True"
            ]
          },
          "metadata": {
            "tags": []
          },
          "execution_count": 63
        }
      ]
    },
    {
      "cell_type": "code",
      "metadata": {
        "id": "K7Ru6i8Z21xx",
        "colab_type": "code",
        "outputId": "8c55d515-f966-4366-cef9-d5e04c183cbb",
        "colab": {
          "base_uri": "https://localhost:8080/",
          "height": 34
        }
      },
      "source": [
        "calculate_psi(initial, new, buckets=10, axis=1)"
      ],
      "execution_count": 64,
      "outputs": [
        {
          "output_type": "execute_result",
          "data": {
            "text/plain": [
              "0.15275591122393328"
            ]
          },
          "metadata": {
            "tags": []
          },
          "execution_count": 64
        }
      ]
    },
    {
      "cell_type": "code",
      "metadata": {
        "id": "IcXP2ioT24dZ",
        "colab_type": "code",
        "colab": {}
      },
      "source": [
        "breakpoints = np.stack([np.percentile(initial, b) for b in np.arange(0, buckets + 1) / (buckets) * 100])"
      ],
      "execution_count": 0,
      "outputs": []
    },
    {
      "cell_type": "code",
      "metadata": {
        "id": "lJWeaW9a5z8N",
        "colab_type": "code",
        "colab": {}
      },
      "source": [
        "initial_counts = np.histogram(initial, breakpoints)[0]\n",
        "new_counts = np.histogram(new, breakpoints)[0]"
      ],
      "execution_count": 0,
      "outputs": []
    },
    {
      "cell_type": "code",
      "metadata": {
        "id": "yMhIXPDa51PE",
        "colab_type": "code",
        "colab": {
          "base_uri": "https://localhost:8080/",
          "height": 122
        },
        "outputId": "c0a53efe-cd85-4d99-8110-08daf618ca30"
      },
      "source": [
        "df = pd.DataFrame({'Bucket': np.arange(1, 11), 'Breakpoint Value':breakpoints[1:], 'Initial Count':initial_counts, 'New Count':new_counts})\n",
        "df['Initial Percent'] = df['Initial Count'] / len(initial)\n",
        "df['New Percent'] = df['New Count'] / len(new)\n",
        "df['New Percent'][df['New Percent'] == 0] = 0.001\n",
        "percents = df[['Initial Percent', 'New Percent', 'Bucket']] \\\n",
        "             .melt(id_vars=['Bucket']) \\\n",
        "             .rename(columns={'variable':'Population', 'value':'Percent'})"
      ],
      "execution_count": 75,
      "outputs": [
        {
          "output_type": "stream",
          "text": [
            "/usr/local/lib/python3.6/dist-packages/ipykernel_launcher.py:4: SettingWithCopyWarning: \n",
            "A value is trying to be set on a copy of a slice from a DataFrame\n",
            "\n",
            "See the caveats in the documentation: http://pandas.pydata.org/pandas-docs/stable/user_guide/indexing.html#returning-a-view-versus-a-copy\n",
            "  after removing the cwd from sys.path.\n"
          ],
          "name": "stderr"
        }
      ]
    },
    {
      "cell_type": "code",
      "metadata": {
        "id": "8yXf--u853yX",
        "colab_type": "code",
        "colab": {
          "base_uri": "https://localhost:8080/",
          "height": 279
        },
        "outputId": "3acdad05-6693-4fa5-ca93-2993dbf6043b"
      },
      "source": [
        "p = sns.barplot(x=\"Bucket\", y=\"Percent\", hue=\"Population\", data=percents)\n",
        "p.set(xlabel='Bucket', ylabel='Population Percent')\n",
        "sns.despine(left=True)"
      ],
      "execution_count": 76,
      "outputs": [
        {
          "output_type": "display_data",
          "data": {
            "image/png": "[encoded data removed]",
            "text/plain": [
              "<Figure size 432x288 with 1 Axes>"
            ]
          },
          "metadata": {
            "tags": []
          }
        }
      ]
    },
    {
      "cell_type": "code",
      "metadata": {
        "id": "BSwzGOJg55-b",
        "colab_type": "code",
        "colab": {
          "base_uri": "https://localhost:8080/",
          "height": 51
        },
        "outputId": "e7497419-b8ad-40d4-98f4-bb6fee3c54b1"
      },
      "source": [
        "calculate_psi(initial, new, buckettype='quantiles', buckets=10, axis=1)"
      ],
      "execution_count": 77,
      "outputs": [
        {
          "output_type": "stream",
          "text": [
            "/usr/local/lib/python3.6/dist-packages/ipykernel_launcher.py:69: RuntimeWarning: divide by zero encountered in log\n"
          ],
          "name": "stderr"
        },
        {
          "output_type": "execute_result",
          "data": {
            "text/plain": [
              "inf"
            ]
          },
          "metadata": {
            "tags": []
          },
          "execution_count": 77
        }
      ]
    },
    {
      "cell_type": "code",
      "metadata": {
        "id": "8o8xkbER58CL",
        "colab_type": "code",
        "colab": {}
      },
      "source": [
        ""
      ],
      "execution_count": 0,
      "outputs": []
    }
  ]
}