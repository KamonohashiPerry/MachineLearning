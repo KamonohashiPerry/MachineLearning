{
  "nbformat": 4,
  "nbformat_minor": 0,
  "metadata": {
    "colab": {
      "name": "Chapter5.ipynb",
      "provenance": [],
      "collapsed_sections": [],
      "authorship_tag": "ABX9TyNGl7bg6b1791Pawe+JMmch",
      "include_colab_link": true
    },
    "kernelspec": {
      "name": "python3",
      "display_name": "Python 3"
    },
    "accelerator": "GPU"
  },
  "cells": [
    {
      "cell_type": "markdown",
      "metadata": {
        "id": "view-in-github",
        "colab_type": "text"
      },
      "source": [
        "<a href=\"https://colab.research.google.com/github/KamonohashiPerry/MachineLearning/blob/master/deep-learning-from-scratch-2/Chapter5.ipynb\" target=\"_parent\"><img src=\"https://colab.research.google.com/assets/colab-badge.svg\" alt=\"Open In Colab\"/></a>"
      ]
    },
    {
      "cell_type": "markdown",
      "metadata": {
        "id": "FmnfzB2Khwqd",
        "colab_type": "text"
      },
      "source": [
        "# リカレントニューラルネットワーク（RNN）\n",
        "\n",
        "+ フィードフォワードのネットワーク\n",
        " + 流れが一方向のネットワーク\n",
        "  + 入力信号が次の層へ信号を伝達し、信号を受け取った層はその次の層へ伝達し、そしてまた次の層へといったように一方向だけの信号伝達を行う。\n",
        "   + 単純な構成で仕込みも理解しやすい。\n",
        "   + 時系列データをうまく扱うことができない。"
      ]
    },
    {
      "cell_type": "markdown",
      "metadata": {
        "id": "hlq5k59Mi5_p",
        "colab_type": "text"
      },
      "source": [
        "## 確率と言語モデル"
      ]
    },
    {
      "cell_type": "markdown",
      "metadata": {
        "id": "EOPgEZ8kjF_4",
        "colab_type": "text"
      },
      "source": [
        "### word2vecを確率の視点から眺める\n",
        "\n",
        "+ これまでの表現（左右のウィンドウ）\n",
        "$$P(w_t | w_{t-1}, w_{t+1})$$\n",
        "\n",
        "+ 左のウィンドウだけ\n",
        "$$P(w_t | w_{t-2}, w_{t-1})$$\n",
        "\n",
        "+ 損失関数\n",
        "$$ L = - \\log P(w_t | w_{t-2}, w_{t-1}) $$\n",
        "\n"
      ]
    },
    {
      "cell_type": "markdown",
      "metadata": {
        "id": "SpyBgjEhkQVU",
        "colab_type": "text"
      },
      "source": [
        "### 言語モデル\n",
        "+ 単語の並びに対して確率を与える。\n",
        "\n",
        "以下は乗法定理から導くことができる。\n",
        "$$P(w_1, \\dots , w_m) = P(w_m | w_1, \\dots, w_{m-1})P(w_{m-1} | w_1, \\dots, w_{m-2}) \\dots P(w_3 | w_1, w_2)P(w_2 | w_1)P(w_1) \\\\\n",
        "= \\prod _{t=1}^{m}P(W_t | w_!, \\dots, w_{t-1})$$\n",
        "\n"
      ]
    },
    {
      "cell_type": "markdown",
      "metadata": {
        "id": "uvwP7iI1nG9h",
        "colab_type": "text"
      },
      "source": [
        "### CBOWモデルを言語モデルに\n",
        "+ word2vecのCBOWモデルを無理やり言語モデルに適用するにはどうすればいいか？\n",
        "\n",
        "$$P(w_1, \\dots, w_m) = \\prod_{t=1}^m P(w_t | w_1, \\dots, w_{t-1}) \\approx \\prod_{t=1}^m P(w_t | w_{t-2}, w_{t-1}) $$\n",
        "\n",
        "たった2つ過去の単語しか見れないので、できることに限界がある。"
      ]
    },
    {
      "cell_type": "markdown",
      "metadata": {
        "id": "Y926C_L_pl1Z",
        "colab_type": "text"
      },
      "source": [
        "## RNNとは\n",
        "+ 何度も繰り返される、循環されるニューラルネットワーク"
      ]
    },
    {
      "cell_type": "markdown",
      "metadata": {
        "id": "UmVJh2RQqE2x",
        "colab_type": "text"
      },
      "source": [
        "### 循環するニューラルネットワーク\n",
        "+ 循環するには閉じた経路が必要。\n",
        " + RNNレイヤはループする経路を持つ。"
      ]
    },
    {
      "cell_type": "markdown",
      "metadata": {
        "id": "DxQsZOTorFSt",
        "colab_type": "text"
      },
      "source": [
        "### ループの展開\n",
        "+ 各時点のRNNレイヤは、そのレイヤへの入力と一つ目のRNNレイヤからの出力を受け取る。\n",
        "\n",
        "$$h_t = \\tanh (h_{t-1} W_h + x_t W_x + b)$$\n",
        "\n",
        "過去の状態を持つという観点で、記憶力を持つレイヤとも考えることができる。"
      ]
    },
    {
      "cell_type": "markdown",
      "metadata": {
        "id": "lwBiIC23tpr2",
        "colab_type": "text"
      },
      "source": [
        ""
      ]
    },
    {
      "cell_type": "markdown",
      "metadata": {
        "id": "ZjmE3_6Ytp0H",
        "colab_type": "text"
      },
      "source": [
        "### Backpropagation Through Time(BPTT)\n",
        "+ ループを展開したあとのRNNは誤差逆伝播法を使うことができる。\n",
        " + 最初に順伝播を行い、続いて逆伝播を行うことで、目的とする勾配を求めることができる。\n",
        "\n",
        "+ 時間方向に展開したニューラルネットワークの誤差逆伝播法と呼ぶ。\n",
        "\n",
        "+ 長い時系列になると学習するのに時間がかかる。\n",
        " + 時間サイズが長くなると逆伝播時の勾配が不安定になる。\n",
        " + 当然、メモリもたくさん使うことになる。"
      ]
    },
    {
      "cell_type": "markdown",
      "metadata": {
        "id": "1TkJ1UawxiaB",
        "colab_type": "text"
      },
      "source": [
        "### Truncated BPTT\n",
        "+ 大きな時系列データを扱う時に、ネットワークのつながりを適当な長さで断ち切るというもの。\n",
        "+ 逆伝播のつながりは切断するが、順伝播のつながりは切断しない。\n",
        "+ Truncated BPTTではデータをシーケンシャルに与えて学習を行う。これにより、順伝播のつながりを維持させながら、ブロック単位で誤差逆伝播法を適用できる。"
      ]
    },
    {
      "cell_type": "markdown",
      "metadata": {
        "id": "s2YF-WCo0FP7",
        "colab_type": "text"
      },
      "source": [
        "### Truncated BPTTのミニバッチ学習\n",
        "+ バッチ数に応じて、開始位置に関して処理をズラす必要がある。"
      ]
    },
    {
      "cell_type": "markdown",
      "metadata": {
        "id": "xHJub5Ah0vwP",
        "colab_type": "text"
      },
      "source": [
        "## RNNの実装\n",
        "RNNの順伝播\n",
        "$$h_t = tanh(h_{t-1}W_h + x_t W_x + b)$$"
      ]
    },
    {
      "cell_type": "code",
      "metadata": {
        "id": "-EYgPqxHYiW4",
        "colab_type": "code",
        "colab": {}
      },
      "source": [
        "class RNN:\n",
        "  def __init__(self, Wx, Wh, b):\n",
        "    self.params = [Wx, Wh, b] # 各パラメータ\n",
        "    self.grads = [np.zeros_like(Wx), np.zeros_like(Wh),\n",
        "                  np.zeros_like(b)] # 各パラメータに関する勾配\n",
        "    self.cache = None # 逆伝播の計算時に使用する中間データ\n",
        "\n",
        "  # 下からの入力、左からの入力を受け取る\n",
        "  def forward(self, x, h_prev):\n",
        "    Wx, Wh, b = self.params\n",
        "    t = np.dot(h_prev, Wh) + np.dot(x, Wx) + b\n",
        "    h_next = np.tanh(t)\n",
        "\n",
        "    self.cache = (x, h_prev, h_next)\n",
        "    return h_next\n",
        "\n",
        "  def backward(self, dh_next):\n",
        "    Wx, Wh, b = self.params\n",
        "    x, h_prev, h_next = self.cache\n",
        "\n",
        "    dt = dh_next * (1 - h_next ** 2)\n",
        "    db = np.sum(dt, axis=0)\n",
        "    dWh = np.dot(h_prev.T, dt)\n",
        "    dh_prev = np.dot(dt, Wh.T)\n",
        "    dWx = np.dot(x.T, dt)\n",
        "    dx = np.dot(dt, Wx.T)\n",
        "\n",
        "    self.grads[0][...] = dWx\n",
        "    self.grads[1][...] = dWh\n",
        "    self.grads[2][...] = db\n",
        "\n",
        "    return dx, dh_prev\n",
        "    "
      ],
      "execution_count": 0,
      "outputs": []
    },
    {
      "cell_type": "markdown",
      "metadata": {
        "id": "CF6YJifA7OWW",
        "colab_type": "text"
      },
      "source": [
        "### Time RNNレイヤの実装"
      ]
    },
    {
      "cell_type": "code",
      "metadata": {
        "id": "qGQCHGwS3l1C",
        "colab_type": "code",
        "colab": {}
      },
      "source": [
        "class TimeRNN:\n",
        "  def __init__(self, Wx, Wh, b, stateful=False):\n",
        "    self.params = [Wx, Wh, b]\n",
        "    self.grads = [np.zeros_like(Wx), np.zeros_like(Wh),\n",
        "                  np.zeros_like(b)]\n",
        "    self.layers = None\n",
        "\n",
        "    self.h, self.dh = None, None\n",
        "    self.stateful = stateful\n",
        "\n",
        "  # 隠れ状態を設定する\n",
        "  def set_state(self, h):\n",
        "    self.h = h\n",
        "\n",
        "  # 隠れ状態をリセットする\n",
        "  def reset_state(self):\n",
        "    self.h = None\n",
        "\n",
        "  # 順伝播(下側からxs（T個分の時系列データをひとつにまとめたもの）を受け取る)\n",
        "  def forward(self, xs):\n",
        "    Wx, Wh, b = self.params\n",
        "    N, T, D = xs.shape # Nはバッチサイズ、Dは入力ベクトルの次元数\n",
        "    D, H = Wx.shape\n",
        "\n",
        "    self.layers = []\n",
        "    # 出力用の変数を作成\n",
        "    hs = np.empty((N, T, H), dtype='f')\n",
        "\n",
        "    # 初期条件あるいはリセット\n",
        "    if not self.stateful or self.h is None:\n",
        "      self.h = np.zeros((N, H), dtype='f')\n",
        "\n",
        "    # 時系列の数だけ繰り返し\n",
        "    for t in range(T):\n",
        "      layer = RNN(*self.params)\n",
        "      self.h = layer.forward(xs[:, t, :], self.h)\n",
        "      hs[:, t, :] = self.h\n",
        "      self.layers.append(layer)\n",
        "\n",
        "    return hs\n",
        "\n",
        "  def backward(self, dhs):\n",
        "    Wx, Wh, b = self.params\n",
        "    N, T, H = dhs.shape\n",
        "    D, H = Wx.shape\n",
        "\n",
        "    # 勾配の出力用の変数を作成\n",
        "    dxs = np.empty((N, T, D), dtype='f')\n",
        "    dh = 0\n",
        "    grads = [0, 0, 0]\n",
        "    # 順伝播の逆の順番で時系列で繰り返し。\n",
        "    for t in reversed(range(T)):\n",
        "      layer = self.layers[t]\n",
        "      dx, dh = layer.backward(dhs[:, t, :] + dh) # 合算した勾配\n",
        "      dxs[:, t, :] += grad\n",
        "\n",
        "      for i, grad in enumerate(layer.grads):\n",
        "        grads[i] += grad\n",
        "\n",
        "    for i, grad in enumerate(grads):\n",
        "      self.grads[i][...] = grad\n",
        "\n",
        "    self.dh = dh\n",
        "\n",
        "    return dxs"
      ],
      "execution_count": 0,
      "outputs": []
    },
    {
      "cell_type": "markdown",
      "metadata": {
        "id": "eLQN3MtRCmuX",
        "colab_type": "text"
      },
      "source": [
        "## 時系列データを扱うレイヤの実装\n",
        "RNN Language Model"
      ]
    },
    {
      "cell_type": "markdown",
      "metadata": {
        "id": "ibrKtS7iCu64",
        "colab_type": "text"
      },
      "source": [
        "### RNNLMの全体図\n",
        "+ RNNLMはこれまで入力された単語を記憶し、それをもとに次に出現する単語を予測する。\n",
        "+ RNNレイヤは過去から現在へとデータを継続的に流すことによって、過去の情報をエンコードして記憶することを可能にしている。"
      ]
    },
    {
      "cell_type": "markdown",
      "metadata": {
        "id": "kLYXAL4yD86H",
        "colab_type": "text"
      },
      "source": [
        "### Timeレイヤの実装"
      ]
    },
    {
      "cell_type": "code",
      "metadata": {
        "id": "cqvHUEyD3l5Q",
        "colab_type": "code",
        "colab": {}
      },
      "source": [
        "class TimeAffine:\n",
        "    def __init__(self, W, b):\n",
        "        self.params = [W, b]\n",
        "        self.grads = [np.zeros_like(W), np.zeros_like(b)]\n",
        "        self.x = None\n",
        "\n",
        "    def forward(self, x):\n",
        "        N, T, D = x.shape\n",
        "        W, b = self.params\n",
        "\n",
        "        rx = x.reshape(N*T, -1)\n",
        "        out = np.dot(rx, W) + b\n",
        "        self.x = x\n",
        "        return out.reshape(N, T, -1)\n",
        "\n",
        "    def backward(self, dout):\n",
        "        x = self.x\n",
        "        N, T, D = x.shape\n",
        "        W, b = self.params\n",
        "\n",
        "        dout = dout.reshape(N*T, -1)\n",
        "        rx = x.reshape(N*T, -1)\n",
        "\n",
        "        db = np.sum(dout, axis=0)\n",
        "        dW = np.dot(rx.T, dout)\n",
        "        dx = np.dot(dout, W.T)\n",
        "        dx = dx.reshape(*x.shape)\n",
        "\n",
        "        self.grads[0][...] = dW\n",
        "        self.grads[1][...] = db\n",
        "\n",
        "        return dx\n"
      ],
      "execution_count": 0,
      "outputs": []
    },
    {
      "cell_type": "code",
      "metadata": {
        "id": "cAb7Jga83l8f",
        "colab_type": "code",
        "colab": {}
      },
      "source": [
        "class TimeSoftmaxWithLoss:\n",
        "    def __init__(self):\n",
        "        self.params, self.grads = [], []\n",
        "        self.cache = None\n",
        "        self.ignore_label = -1\n",
        "\n",
        "    def forward(self, xs, ts):\n",
        "        N, T, V = xs.shape\n",
        "\n",
        "        if ts.ndim == 3:  # 教師ラベルがone-hotベクトルの場合\n",
        "            ts = ts.argmax(axis=2)\n",
        "\n",
        "        mask = (ts != self.ignore_label)\n",
        "\n",
        "        # バッチ分と時系列分をまとめる（reshape）\n",
        "        xs = xs.reshape(N * T, V)\n",
        "        ts = ts.reshape(N * T)\n",
        "        mask = mask.reshape(N * T)\n",
        "\n",
        "        ys = softmax(xs)\n",
        "        ls = np.log(ys[np.arange(N * T), ts])\n",
        "        ls *= mask  # ignore_labelに該当するデータは損失を0にする\n",
        "        loss = -np.sum(ls)\n",
        "        loss /= mask.sum()\n",
        "\n",
        "        self.cache = (ts, ys, mask, (N, T, V))\n",
        "        return loss\n",
        "\n",
        "    def backward(self, dout=1):\n",
        "        ts, ys, mask, (N, T, V) = self.cache\n",
        "\n",
        "        dx = ys\n",
        "        dx[np.arange(N * T), ts] -= 1\n",
        "        dx *= dout\n",
        "        dx /= mask.sum()\n",
        "        dx *= mask[:, np.newaxis]  # ignore_labelに該当するデータは勾配を0にする\n",
        "\n",
        "        dx = dx.reshape((N, T, V))\n",
        "\n",
        "        return dx"
      ],
      "execution_count": 0,
      "outputs": []
    },
    {
      "cell_type": "markdown",
      "metadata": {
        "id": "JCKaNGb5Gc_P",
        "colab_type": "text"
      },
      "source": [
        "## RNNLMの学習と評価"
      ]
    },
    {
      "cell_type": "markdown",
      "metadata": {
        "id": "OC4Dps4bGiB4",
        "colab_type": "text"
      },
      "source": [
        "### RNNLMの実装"
      ]
    },
    {
      "cell_type": "code",
      "metadata": {
        "id": "nd6GUZJg3AOz",
        "colab_type": "code",
        "colab": {
          "base_uri": "https://localhost:8080/",
          "height": 136
        },
        "outputId": "e57ebdbf-5d75-47bc-8d13-837de15377fb"
      },
      "source": [
        "!git clone https://github.com/oreilly-japan/deep-learning-from-scratch-2.git"
      ],
      "execution_count": 5,
      "outputs": [
        {
          "output_type": "stream",
          "text": [
            "Cloning into 'deep-learning-from-scratch-2'...\n",
            "remote: Enumerating objects: 5, done.\u001b[K\n",
            "remote: Counting objects:  20% (1/5)\u001b[K\rremote: Counting objects:  40% (2/5)\u001b[K\rremote: Counting objects:  60% (3/5)\u001b[K\rremote: Counting objects:  80% (4/5)\u001b[K\rremote: Counting objects: 100% (5/5)\u001b[K\rremote: Counting objects: 100% (5/5), done.\u001b[K\n",
            "remote: Compressing objects: 100% (5/5), done.\u001b[K\n",
            "remote: Total 378 (delta 0), reused 0 (delta 0), pack-reused 373\u001b[K\n",
            "Receiving objects: 100% (378/378), 7.91 MiB | 12.21 MiB/s, done.\n",
            "Resolving deltas: 100% (210/210), done.\n"
          ],
          "name": "stdout"
        }
      ]
    },
    {
      "cell_type": "code",
      "metadata": {
        "id": "kfgN_uWdG63A",
        "colab_type": "code",
        "colab": {
          "base_uri": "https://localhost:8080/",
          "height": 34
        },
        "outputId": "b043328a-4b45-47af-c8c9-1de015bea309"
      },
      "source": [
        "cd deep-learning-from-scratch-2"
      ],
      "execution_count": 6,
      "outputs": [
        {
          "output_type": "stream",
          "text": [
            "/content/deep-learning-from-scratch-2\n"
          ],
          "name": "stdout"
        }
      ]
    },
    {
      "cell_type": "code",
      "metadata": {
        "id": "hj6X7KLDG95Y",
        "colab_type": "code",
        "colab": {}
      },
      "source": [
        "import sys\n",
        "sys.path.append('..')\n",
        "import numpy as np\n",
        "from common.time_layers import *\n",
        "\n",
        "class SimpleRnnlm:\n",
        "  def __init__(self, vocab_size, wordvec_size, hidden_size):\n",
        "    V, D, H = vocab_size, wordvec_size, hidden_size\n",
        "    rn = np.random.randn\n",
        "\n",
        "    # 重みの初期化\n",
        "    embed_W = (rn(V, D) / 100).astype('f')\n",
        "    rnn_Wx = (rn(D, H) / np.sqrt(D)).astype('f')\n",
        "    rnn_Wh = (rn(H, H) / np.sqrt(H)).astype('f')\n",
        "    rnn_b = np.zeros(H).astype('f')\n",
        "    affine_W = (rn(H, V) / np.sqrt(H)).astype('f')\n",
        "    affine_b = np.zeros(V).astype('f')\n",
        "\n",
        "    # レイヤの生成\n",
        "    self.layers = [\n",
        "                   TimeEmbedding(embed_W),\n",
        "                   TimeRNN(rnn_Wx, rnn_Wh. rnn_b, stateful=True),\n",
        "                   TimeAffine(affine_W, affine_b)\n",
        "    ]\n",
        "    self.loss_layer = TimeSoftmaxWithLoss()\n",
        "    self.rnn_layerr = self.layers[1]\n",
        "\n",
        "    # すべての重みと勾配をリストにまとめる\n",
        "    self.params, self.grads = [], []\n",
        "    for layer in self.layers:\n",
        "      self.params += layer.params\n",
        "      self.grads += layer.grads\n",
        "\n",
        "  def forward(self, xs, ts):\n",
        "    for layer in self.layerrs:\n",
        "      xs = layer.forward(xs)\n",
        "    loss = self.loss_layer.forward(xs, ts)\n",
        "    return loss\n",
        "\n",
        "  def backward(self, dout=1):\n",
        "    dout = self.loss_layer.backward(dout)\n",
        "    for layer in reversed(self.layers):\n",
        "      dout = layer.backward(dout)\n",
        "    return dout\n",
        "\n",
        "  def reset_state(self):\n",
        "    self.rnn_layer.reset_state()\n"
      ],
      "execution_count": 0,
      "outputs": []
    },
    {
      "cell_type": "markdown",
      "metadata": {
        "id": "sr7cvvtXKLWz",
        "colab_type": "text"
      },
      "source": [
        "### 言語モデルの評価\n",
        "+ 言語モデルの予測性能の良さ\n",
        " + パープレキシティ\n",
        "   + 小さいほど良い\n",
        "\n",
        "$$L = - \\frac{1}{N} \\sum_n \\sum_k t_{nk} \\log y_{nk} \\\\\n",
        "perplexity = e^L$$"
      ]
    },
    {
      "cell_type": "code",
      "metadata": {
        "id": "IYXja_zPHCSL",
        "colab_type": "code",
        "colab": {
          "base_uri": "https://localhost:8080/",
          "height": 1000
        },
        "outputId": "5971b35f-3ce3-40ba-96ab-910f1db710f3"
      },
      "source": [
        "import sys\n",
        "sys.path.append('..')\n",
        "import matplotlib.pyplot as plt\n",
        "import numpy as np\n",
        "from common.optimizer import SGD\n",
        "from dataset import ptb\n",
        "from ch05.simple_rnnlm import SimpleRnnlm\n",
        "\n",
        "\n",
        "# ハイパーパラメータの設定\n",
        "batch_size = 10\n",
        "wordvec_size = 100\n",
        "hidden_size = 100\n",
        "time_size = 5  # Truncated BPTTの展開する時間サイズ\n",
        "lr = 0.1\n",
        "max_epoch = 100\n",
        "\n",
        "# 学習データの読み込み（データセットを小さくする）\n",
        "corpus, word_to_id, id_to_word = ptb.load_data('train')\n",
        "corpus_size = 1000\n",
        "corpus = corpus[:corpus_size]\n",
        "vocab_size = int(max(corpus) + 1)\n",
        "\n",
        "xs = corpus[:-1]  # 入力\n",
        "ts = corpus[1:]  # 出力（教師ラベル）\n",
        "data_size = len(xs)\n",
        "print('corpus size: %d, vocabulary size: %d' % (corpus_size, vocab_size))\n",
        "\n",
        "# 学習時に使用する変数\n",
        "max_iters = data_size // (batch_size * time_size)\n",
        "time_idx = 0\n",
        "total_loss = 0\n",
        "loss_count = 0\n",
        "ppl_list = []\n",
        "\n",
        "# モデルの生成\n",
        "model = SimpleRnnlm(vocab_size, wordvec_size, hidden_size)\n",
        "optimizer = SGD(lr)\n",
        "\n",
        "# ミニバッチの各サンプルの読み込み開始位置を計算\n",
        "jump = (corpus_size - 1) // batch_size\n",
        "offsets = [i * jump for i in range(batch_size)]\n",
        "\n",
        "for epoch in range(max_epoch):\n",
        "    for iter in range(max_iters):\n",
        "        # ミニバッチの取得\n",
        "        batch_x = np.empty((batch_size, time_size), dtype='i')\n",
        "        batch_t = np.empty((batch_size, time_size), dtype='i')\n",
        "        for t in range(time_size):\n",
        "            for i, offset in enumerate(offsets):\n",
        "                batch_x[i, t] = xs[(offset + time_idx) % data_size]\n",
        "                batch_t[i, t] = ts[(offset + time_idx) % data_size]\n",
        "            time_idx += 1\n",
        "\n",
        "        # 勾配を求め、パラメータを更新\n",
        "        loss = model.forward(batch_x, batch_t)\n",
        "        model.backward()\n",
        "        optimizer.update(model.params, model.grads)\n",
        "        total_loss += loss\n",
        "        loss_count += 1\n",
        "\n",
        "    # エポックごとにパープレキシティの評価\n",
        "    ppl = np.exp(total_loss / loss_count)\n",
        "    print('| epoch %d | perplexity %.2f'\n",
        "          % (epoch+1, ppl))\n",
        "    ppl_list.append(float(ppl))\n",
        "    total_loss, loss_count = 0, 0\n",
        "\n",
        "# グラフの描画\n",
        "x = np.arange(len(ppl_list))\n",
        "plt.plot(x, ppl_list, label='train')\n",
        "plt.xlabel('epochs')\n",
        "plt.ylabel('perplexity')\n",
        "plt.show()"
      ],
      "execution_count": 8,
      "outputs": [
        {
          "output_type": "stream",
          "text": [
            "Downloading ptb.train.txt ... \n",
            "Done\n",
            "corpus size: 1000, vocabulary size: 418\n",
            "| epoch 1 | perplexity 400.45\n",
            "| epoch 2 | perplexity 279.04\n",
            "| epoch 3 | perplexity 227.18\n",
            "| epoch 4 | perplexity 216.92\n",
            "| epoch 5 | perplexity 206.84\n",
            "| epoch 6 | perplexity 203.97\n",
            "| epoch 7 | perplexity 199.48\n",
            "| epoch 8 | perplexity 197.11\n",
            "| epoch 9 | perplexity 192.63\n",
            "| epoch 10 | perplexity 193.11\n",
            "| epoch 11 | perplexity 189.70\n",
            "| epoch 12 | perplexity 193.42\n",
            "| epoch 13 | perplexity 190.91\n",
            "| epoch 14 | perplexity 191.50\n",
            "| epoch 15 | perplexity 190.71\n",
            "| epoch 16 | perplexity 187.80\n",
            "| epoch 17 | perplexity 185.72\n",
            "| epoch 18 | perplexity 182.44\n",
            "| epoch 19 | perplexity 183.60\n",
            "| epoch 20 | perplexity 185.13\n",
            "| epoch 21 | perplexity 182.51\n",
            "| epoch 22 | perplexity 179.65\n",
            "| epoch 23 | perplexity 176.62\n",
            "| epoch 24 | perplexity 177.85\n",
            "| epoch 25 | perplexity 174.69\n",
            "| epoch 26 | perplexity 174.86\n",
            "| epoch 27 | perplexity 170.00\n",
            "| epoch 28 | perplexity 167.48\n",
            "| epoch 29 | perplexity 164.40\n",
            "| epoch 30 | perplexity 159.20\n",
            "| epoch 31 | perplexity 161.29\n",
            "| epoch 32 | perplexity 154.62\n",
            "| epoch 33 | perplexity 153.88\n",
            "| epoch 34 | perplexity 147.98\n",
            "| epoch 35 | perplexity 147.48\n",
            "| epoch 36 | perplexity 141.80\n",
            "| epoch 37 | perplexity 137.40\n",
            "| epoch 38 | perplexity 133.74\n",
            "| epoch 39 | perplexity 128.57\n",
            "| epoch 40 | perplexity 125.57\n",
            "| epoch 41 | perplexity 124.84\n",
            "| epoch 42 | perplexity 118.42\n",
            "| epoch 43 | perplexity 111.52\n",
            "| epoch 44 | perplexity 107.49\n",
            "| epoch 45 | perplexity 103.87\n",
            "| epoch 46 | perplexity 102.82\n",
            "| epoch 47 | perplexity 97.52\n",
            "| epoch 48 | perplexity 90.64\n",
            "| epoch 49 | perplexity 87.87\n",
            "| epoch 50 | perplexity 84.81\n",
            "| epoch 51 | perplexity 81.92\n",
            "| epoch 52 | perplexity 77.06\n",
            "| epoch 53 | perplexity 72.07\n",
            "| epoch 54 | perplexity 69.76\n",
            "| epoch 55 | perplexity 67.12\n",
            "| epoch 56 | perplexity 63.42\n",
            "| epoch 57 | perplexity 59.37\n",
            "| epoch 58 | perplexity 55.23\n",
            "| epoch 59 | perplexity 53.07\n",
            "| epoch 60 | perplexity 50.51\n",
            "| epoch 61 | perplexity 49.39\n",
            "| epoch 62 | perplexity 46.27\n",
            "| epoch 63 | perplexity 41.19\n",
            "| epoch 64 | perplexity 39.67\n",
            "| epoch 65 | perplexity 38.36\n",
            "| epoch 66 | perplexity 36.14\n",
            "| epoch 67 | perplexity 34.38\n",
            "| epoch 68 | perplexity 31.30\n",
            "| epoch 69 | perplexity 30.98\n",
            "| epoch 70 | perplexity 29.03\n",
            "| epoch 71 | perplexity 27.26\n",
            "| epoch 72 | perplexity 24.60\n",
            "| epoch 73 | perplexity 23.04\n",
            "| epoch 74 | perplexity 21.98\n",
            "| epoch 75 | perplexity 21.51\n",
            "| epoch 76 | perplexity 19.69\n",
            "| epoch 77 | perplexity 19.01\n",
            "| epoch 78 | perplexity 17.51\n",
            "| epoch 79 | perplexity 16.61\n",
            "| epoch 80 | perplexity 15.73\n",
            "| epoch 81 | perplexity 14.91\n",
            "| epoch 82 | perplexity 13.90\n",
            "| epoch 83 | perplexity 13.27\n",
            "| epoch 84 | perplexity 12.61\n",
            "| epoch 85 | perplexity 11.79\n",
            "| epoch 86 | perplexity 11.14\n",
            "| epoch 87 | perplexity 10.73\n",
            "| epoch 88 | perplexity 10.16\n",
            "| epoch 89 | perplexity 9.77\n",
            "| epoch 90 | perplexity 8.93\n",
            "| epoch 91 | perplexity 8.89\n",
            "| epoch 92 | perplexity 8.28\n",
            "| epoch 93 | perplexity 7.96\n",
            "| epoch 94 | perplexity 7.43\n",
            "| epoch 95 | perplexity 7.38\n",
            "| epoch 96 | perplexity 6.83\n",
            "| epoch 97 | perplexity 6.77\n",
            "| epoch 98 | perplexity 6.38\n",
            "| epoch 99 | perplexity 5.85\n",
            "| epoch 100 | perplexity 5.80\n"
          ],
          "name": "stdout"
        },
        {
          "output_type": "display_data",
          "data": {
            "image/png": "[encoded data removed]",
            "text/plain": [
              "<Figure size 432x288 with 1 Axes>"
            ]
          },
          "metadata": {
            "tags": [],
            "needs_background": "light"
          }
        }
      ]
    },
    {
      "cell_type": "code",
      "metadata": {
        "id": "JlLdxKE-XhBL",
        "colab_type": "code",
        "colab": {}
      },
      "source": [
        "class RnnlmTrainer:\n",
        "  def __init__(self, model, optimizer):\n",
        "    self.model = model\n",
        "    self.optimizer = optimizer\n",
        "    self.time_idx = None\n",
        "    self.ppl_list = None # パープレキシティ\n",
        "    self.eval_interval = None\n",
        "    self.current_epoch = 0\n",
        "\n",
        "  # バッチ処理をズラすための関数\n",
        "  def get_batch(self, x, t, batch_size, time_size):\n",
        "    batch_x = np.empty((batch_size, time_size), dtype='i') # 入力\n",
        "    batch_t = np.empty((batch_size, time_size), dtype='i') # 出力\n",
        "\n",
        "    data_size = len(x)\n",
        "    # インデックスを飛ばすため\n",
        "    jump = data_size // batch_size\n",
        "    offsets = [i * jump for i in range(batch_size)] # バッチの各サンプルの読み込み開始位置\n",
        "\n",
        "    for time in range(time_size):\n",
        "      for i, offset in enumerate(offsets):\n",
        "        batch_x[i, time] = x[(offset + self.time_idx) % data_size]\n",
        "        batch_t[i, time] = t[(offset + self.time_idx) % data_size]\n",
        "\n",
        "      self.time_idx += 1\n",
        "    return batch_x, batch_t\n",
        "\n",
        "  def fit(self, xs, ts, max_epoch=10, batch_size=20, time_size=35,\n",
        "          max_grad=None, eval_interval=20):\n",
        "    data_size = len(xs)\n",
        "    max_iters = data_size // (batch_size * time_size)\n",
        "    self.time_idx = 0\n",
        "    self.ppl_list = []\n",
        "    self.eval_interval = eval_interval\n",
        "    model, optimizer = self.model, self.optimizer\n",
        "    total_loss = 0\n",
        "    loss_count = 0\n",
        "\n",
        "    start_time = time.time()\n",
        "    for epoch in range(max_epoch):\n",
        "      for iters in range(max_iters):\n",
        "        batch_x, batch_t = self.get_batch(xs, ts, batch_size, time_size)\n",
        "\n",
        "        # 勾配を求め、パラメータを更新\n",
        "        loss = model.forward(batch_x, batch_t)\n",
        "        model.backward()\n",
        "        params, grads = remove_duplicate(model.params, model.grads) # 共有された重みを1つに集約\n",
        "        if max_grad is not None:\n",
        "          clip_grads(grads, max_grad)\n",
        "        optimizer.update(params, grads)\n",
        "        total_loss += loss\n",
        "        loss_count += 1\n",
        "\n",
        "        # パープレキシティの評価\n",
        "        if (eval_interval is not None) and (iter % eval_interval) == 0:\n",
        "          ppl = np.exp(total_loss / loss_count)\n",
        "          elapsed_time = time.time() - start_time\n",
        "          print('| epoch %d | iter %d / %d | time %d[s] | perplexity %.2f'\n",
        "                % (self.current_epoch + 1, iters + 1, max_iters, elapsed_time, ppl))\n",
        "          self.ppl_list.append(float(ppl))\n",
        "          total_loss, loss_count = 0.0\n",
        "\n",
        "      self.current_epoch += 1\n",
        "\n",
        "  def plot(self, ylim=None):\n",
        "    x = numpy.arange(len(self.ppl_list))\n",
        "    if ylim is not None:\n",
        "      plt.ylim(*ylim)\n",
        "    plt.plot(x, self.ppl_list, label='train')\n",
        "    plt.xlabel('iterations (x' + str(self.eval_interval) + ')' )\n",
        "    plt.ylabel('perplexity')\n",
        "    plt.show()"
      ],
      "execution_count": 0,
      "outputs": []
    },
    {
      "cell_type": "code",
      "metadata": {
        "id": "ORA8xupLL3SH",
        "colab_type": "code",
        "colab": {
          "base_uri": "https://localhost:8080/",
          "height": 1000
        },
        "outputId": "f7482e50-dbcc-4b95-d259-fd758f779a00"
      },
      "source": [
        "import sys\n",
        "sys.path.append('..')\n",
        "from common.optimizer import SGD\n",
        "from common.trainer import RnnlmTrainer\n",
        "from dataset import ptb\n",
        "from ch05.simple_rnnlm import SimpleRnnlm\n",
        "\n",
        "\n",
        "# ハイパーパラメータの設定\n",
        "batch_size = 10\n",
        "wordvec_size = 100\n",
        "hidden_size = 100  # RNNの隠れ状態ベクトルの要素数\n",
        "time_size = 5  # RNNを展開するサイズ\n",
        "lr = 0.1\n",
        "max_epoch = 100\n",
        "\n",
        "# 学習データの読み込み\n",
        "corpus, word_to_id, id_to_word = ptb.load_data('train')\n",
        "corpus_size = 1000  # テスト用にデータセットを小さくする\n",
        "corpus = corpus[:corpus_size]\n",
        "vocab_size = int(max(corpus) + 1)\n",
        "xs = corpus[:-1]  # 入力\n",
        "ts = corpus[1:]  # 出力（教師ラベル）\n",
        "\n",
        "# モデルの生成\n",
        "model = SimpleRnnlm(vocab_size, wordvec_size, hidden_size)\n",
        "optimizer = SGD(lr)\n",
        "trainer = RnnlmTrainer(model, optimizer)\n",
        "\n",
        "trainer.fit(xs, ts, max_epoch, batch_size, time_size)\n",
        "trainer.plot()"
      ],
      "execution_count": 9,
      "outputs": [
        {
          "output_type": "stream",
          "text": [
            "| epoch 1 |  iter 1 / 19 | time 0[s] | perplexity 418.15\n",
            "| epoch 2 |  iter 1 / 19 | time 0[s] | perplexity 404.58\n",
            "| epoch 3 |  iter 1 / 19 | time 0[s] | perplexity 306.41\n",
            "| epoch 4 |  iter 1 / 19 | time 0[s] | perplexity 229.08\n",
            "| epoch 5 |  iter 1 / 19 | time 0[s] | perplexity 213.15\n",
            "| epoch 6 |  iter 1 / 19 | time 0[s] | perplexity 209.82\n",
            "| epoch 7 |  iter 1 / 19 | time 0[s] | perplexity 201.53\n",
            "| epoch 8 |  iter 1 / 19 | time 0[s] | perplexity 201.23\n",
            "| epoch 9 |  iter 1 / 19 | time 0[s] | perplexity 194.96\n",
            "| epoch 10 |  iter 1 / 19 | time 0[s] | perplexity 189.51\n",
            "| epoch 11 |  iter 1 / 19 | time 0[s] | perplexity 192.12\n",
            "| epoch 12 |  iter 1 / 19 | time 0[s] | perplexity 188.55\n",
            "| epoch 13 |  iter 1 / 19 | time 0[s] | perplexity 191.23\n",
            "| epoch 14 |  iter 1 / 19 | time 0[s] | perplexity 186.55\n",
            "| epoch 15 |  iter 1 / 19 | time 1[s] | perplexity 184.70\n",
            "| epoch 16 |  iter 1 / 19 | time 1[s] | perplexity 188.47\n",
            "| epoch 17 |  iter 1 / 19 | time 1[s] | perplexity 187.44\n",
            "| epoch 18 |  iter 1 / 19 | time 1[s] | perplexity 184.13\n",
            "| epoch 19 |  iter 1 / 19 | time 1[s] | perplexity 179.90\n",
            "| epoch 20 |  iter 1 / 19 | time 1[s] | perplexity 181.98\n",
            "| epoch 21 |  iter 1 / 19 | time 1[s] | perplexity 178.97\n",
            "| epoch 22 |  iter 1 / 19 | time 1[s] | perplexity 178.14\n",
            "| epoch 23 |  iter 1 / 19 | time 1[s] | perplexity 177.58\n",
            "| epoch 24 |  iter 1 / 19 | time 1[s] | perplexity 175.52\n",
            "| epoch 25 |  iter 1 / 19 | time 1[s] | perplexity 170.48\n",
            "| epoch 26 |  iter 1 / 19 | time 1[s] | perplexity 169.85\n",
            "| epoch 27 |  iter 1 / 19 | time 1[s] | perplexity 171.19\n",
            "| epoch 28 |  iter 1 / 19 | time 1[s] | perplexity 170.83\n",
            "| epoch 29 |  iter 1 / 19 | time 2[s] | perplexity 165.63\n",
            "| epoch 30 |  iter 1 / 19 | time 2[s] | perplexity 163.30\n",
            "| epoch 31 |  iter 1 / 19 | time 2[s] | perplexity 160.79\n",
            "| epoch 32 |  iter 1 / 19 | time 2[s] | perplexity 155.89\n",
            "| epoch 33 |  iter 1 / 19 | time 2[s] | perplexity 153.56\n",
            "| epoch 34 |  iter 1 / 19 | time 2[s] | perplexity 154.12\n",
            "| epoch 35 |  iter 1 / 19 | time 2[s] | perplexity 145.48\n",
            "| epoch 36 |  iter 1 / 19 | time 2[s] | perplexity 143.28\n",
            "| epoch 37 |  iter 1 / 19 | time 2[s] | perplexity 147.04\n",
            "| epoch 38 |  iter 1 / 19 | time 2[s] | perplexity 136.63\n",
            "| epoch 39 |  iter 1 / 19 | time 2[s] | perplexity 135.17\n",
            "| epoch 40 |  iter 1 / 19 | time 2[s] | perplexity 128.59\n",
            "| epoch 41 |  iter 1 / 19 | time 2[s] | perplexity 125.06\n",
            "| epoch 42 |  iter 1 / 19 | time 2[s] | perplexity 121.64\n",
            "| epoch 43 |  iter 1 / 19 | time 3[s] | perplexity 117.98\n",
            "| epoch 44 |  iter 1 / 19 | time 3[s] | perplexity 114.01\n",
            "| epoch 45 |  iter 1 / 19 | time 3[s] | perplexity 106.10\n",
            "| epoch 46 |  iter 1 / 19 | time 3[s] | perplexity 103.84\n",
            "| epoch 47 |  iter 1 / 19 | time 3[s] | perplexity 103.02\n",
            "| epoch 48 |  iter 1 / 19 | time 3[s] | perplexity 98.33\n",
            "| epoch 49 |  iter 1 / 19 | time 3[s] | perplexity 93.01\n",
            "| epoch 50 |  iter 1 / 19 | time 3[s] | perplexity 87.90\n",
            "| epoch 51 |  iter 1 / 19 | time 3[s] | perplexity 85.36\n",
            "| epoch 52 |  iter 1 / 19 | time 3[s] | perplexity 79.89\n",
            "| epoch 53 |  iter 1 / 19 | time 3[s] | perplexity 80.21\n",
            "| epoch 54 |  iter 1 / 19 | time 3[s] | perplexity 74.32\n",
            "| epoch 55 |  iter 1 / 19 | time 3[s] | perplexity 68.84\n",
            "| epoch 56 |  iter 1 / 19 | time 4[s] | perplexity 65.80\n",
            "| epoch 57 |  iter 1 / 19 | time 4[s] | perplexity 63.89\n",
            "| epoch 58 |  iter 1 / 19 | time 4[s] | perplexity 59.89\n",
            "| epoch 59 |  iter 1 / 19 | time 4[s] | perplexity 57.25\n",
            "| epoch 60 |  iter 1 / 19 | time 4[s] | perplexity 52.35\n",
            "| epoch 61 |  iter 1 / 19 | time 4[s] | perplexity 48.16\n",
            "| epoch 62 |  iter 1 / 19 | time 4[s] | perplexity 46.61\n",
            "| epoch 63 |  iter 1 / 19 | time 4[s] | perplexity 45.96\n",
            "| epoch 64 |  iter 1 / 19 | time 4[s] | perplexity 43.17\n",
            "| epoch 65 |  iter 1 / 19 | time 4[s] | perplexity 38.81\n",
            "| epoch 66 |  iter 1 / 19 | time 4[s] | perplexity 36.25\n",
            "| epoch 67 |  iter 1 / 19 | time 4[s] | perplexity 34.85\n",
            "| epoch 68 |  iter 1 / 19 | time 4[s] | perplexity 33.97\n",
            "| epoch 69 |  iter 1 / 19 | time 4[s] | perplexity 32.03\n",
            "| epoch 70 |  iter 1 / 19 | time 5[s] | perplexity 29.92\n",
            "| epoch 71 |  iter 1 / 19 | time 5[s] | perplexity 28.00\n",
            "| epoch 72 |  iter 1 / 19 | time 5[s] | perplexity 26.37\n",
            "| epoch 73 |  iter 1 / 19 | time 5[s] | perplexity 25.37\n",
            "| epoch 74 |  iter 1 / 19 | time 5[s] | perplexity 24.06\n",
            "| epoch 75 |  iter 1 / 19 | time 5[s] | perplexity 22.62\n",
            "| epoch 76 |  iter 1 / 19 | time 5[s] | perplexity 21.62\n",
            "| epoch 77 |  iter 1 / 19 | time 5[s] | perplexity 20.27\n",
            "| epoch 78 |  iter 1 / 19 | time 5[s] | perplexity 18.83\n",
            "| epoch 79 |  iter 1 / 19 | time 5[s] | perplexity 17.85\n",
            "| epoch 80 |  iter 1 / 19 | time 5[s] | perplexity 16.59\n",
            "| epoch 81 |  iter 1 / 19 | time 5[s] | perplexity 15.51\n",
            "| epoch 82 |  iter 1 / 19 | time 6[s] | perplexity 15.05\n",
            "| epoch 83 |  iter 1 / 19 | time 6[s] | perplexity 14.39\n",
            "| epoch 84 |  iter 1 / 19 | time 6[s] | perplexity 13.68\n",
            "| epoch 85 |  iter 1 / 19 | time 6[s] | perplexity 12.69\n",
            "| epoch 86 |  iter 1 / 19 | time 6[s] | perplexity 12.05\n",
            "| epoch 87 |  iter 1 / 19 | time 6[s] | perplexity 11.62\n",
            "| epoch 88 |  iter 1 / 19 | time 6[s] | perplexity 10.57\n",
            "| epoch 89 |  iter 1 / 19 | time 6[s] | perplexity 11.06\n",
            "| epoch 90 |  iter 1 / 19 | time 6[s] | perplexity 9.49\n",
            "| epoch 91 |  iter 1 / 19 | time 6[s] | perplexity 8.97\n",
            "| epoch 92 |  iter 1 / 19 | time 6[s] | perplexity 8.70\n",
            "| epoch 93 |  iter 1 / 19 | time 6[s] | perplexity 8.48\n",
            "| epoch 94 |  iter 1 / 19 | time 6[s] | perplexity 7.79\n",
            "| epoch 95 |  iter 1 / 19 | time 7[s] | perplexity 7.71\n",
            "| epoch 96 |  iter 1 / 19 | time 7[s] | perplexity 7.02\n",
            "| epoch 97 |  iter 1 / 19 | time 7[s] | perplexity 6.83\n",
            "| epoch 98 |  iter 1 / 19 | time 7[s] | perplexity 6.59\n",
            "| epoch 99 |  iter 1 / 19 | time 7[s] | perplexity 6.15\n",
            "| epoch 100 |  iter 1 / 19 | time 7[s] | perplexity 5.90\n"
          ],
          "name": "stdout"
        },
        {
          "output_type": "display_data",
          "data": {
            "image/png": "[encoded data removed]",
            "text/plain": [
              "<Figure size 432x288 with 1 Axes>"
            ]
          },
          "metadata": {
            "tags": [],
            "needs_background": "light"
          }
        }
      ]
    },
    {
      "cell_type": "code",
      "metadata": {
        "id": "fePKPi9nVQcL",
        "colab_type": "code",
        "colab": {}
      },
      "source": [
        ""
      ],
      "execution_count": 0,
      "outputs": []
    }
  ]
}