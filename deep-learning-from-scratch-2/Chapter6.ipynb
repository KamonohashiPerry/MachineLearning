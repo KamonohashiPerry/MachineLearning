{
  "nbformat": 4,
  "nbformat_minor": 0,
  "metadata": {
    "colab": {
      "name": "Chapter6.ipynb",
      "provenance": [],
      "collapsed_sections": [],
      "toc_visible": true,
      "authorship_tag": "ABX9TyPfiQuqSJaln8OOUNt9UzKg",
      "include_colab_link": true
    },
    "kernelspec": {
      "name": "python3",
      "display_name": "Python 3"
    },
    "accelerator": "GPU"
  },
  "cells": [
    {
      "cell_type": "markdown",
      "metadata": {
        "id": "view-in-github",
        "colab_type": "text"
      },
      "source": [
        "<a href=\"https://colab.research.google.com/github/KamonohashiPerry/MachineLearning/blob/master/deep-learning-from-scratch-2/Chapter6.ipynb\" target=\"_parent\"><img src=\"https://colab.research.google.com/assets/colab-badge.svg\" alt=\"Open In Colab\"/></a>"
      ]
    },
    {
      "cell_type": "markdown",
      "metadata": {
        "id": "rM-kCCbYFzmU",
        "colab_type": "text"
      },
      "source": [
        "# ゲート付きRNN\n",
        "+ 単純なRNNでは時系列データの長期の依存関係をうまく学習することはできない。"
      ]
    },
    {
      "cell_type": "markdown",
      "metadata": {
        "id": "-SJ8QOaGGjup",
        "colab_type": "text"
      },
      "source": [
        "## RNNの問題点\n",
        "+ BPTTにおいて勾配消失もしくは勾配爆発問題が起こることに原因がある。\n",
        " + ようは、長い時点をさかのぼっての、誤差逆伝播法がうまくいかないということ。"
      ]
    },
    {
      "cell_type": "markdown",
      "metadata": {
        "id": "jpHISicxHfPS",
        "colab_type": "text"
      },
      "source": [
        "### RNNの復習\n",
        "+ RNNレイヤは時系列データである\\\\(x_t\\\\)を入力すると\\\\( h_t\\\\)を出力する。この\\\\( h_t\\\\)はRNNレイヤの隠れ状態とも呼ばれ、過去からの情報が記憶される。\n",
        "+ RNNレイヤの順伝播で行う計算は、「行列の積と和、そして活性化関数であるtanh関数による変換」から構成される。"
      ]
    },
    {
      "cell_type": "markdown",
      "metadata": {
        "id": "ZLsCth1dqGq2",
        "colab_type": "text"
      },
      "source": [
        "### 勾配消失もしくは勾配爆発\n",
        "+ RNNレイヤが過去方向に「意味のある勾配」を伝達することによって、時間方向の依存関係を学習することができる。\n",
        " + この勾配が途中で弱まったら、ほとんど何も情報をもたなくなったら、重みのパラメータは更新されなくなる。"
      ]
    },
    {
      "cell_type": "markdown",
      "metadata": {
        "id": "nEcszfPErMWn",
        "colab_type": "text"
      },
      "source": [
        "### 勾配消失もしくは勾配爆発の原因\n",
        "+ 逆伝播において勾配がtanhノードを通るたびに、その値はどんどん小さくなっていく。\n",
        " + tanh関数をT回通過すれば、勾配はT回も繰り返し弱められることになる。\n",
        "   + ReLUを使えば勾配消失を抑えることができる。\n",
        "    + 入力xが0異常であれば、逆伝播では上流の勾配をそのまま下流に流すことになり、勾配の劣化が起こらないから。 "
      ]
    },
    {
      "cell_type": "code",
      "metadata": {
        "id": "irLczolOFbTP",
        "colab_type": "code",
        "colab": {}
      },
      "source": [
        "import numpy as np\n",
        "import matplotlib.pyplot as plt\n",
        "\n",
        "N = 2 # バッチサイズ\n",
        "H = 3 # 隠れ状態ベクトルの次元数\n",
        "T = 20 # 時系列データの長さ\n",
        "\n",
        "dh = np.ones((N, H)) # 初期化\n",
        "np.random.seed(3) # 再現性のため乱数のシードを固定\n",
        "Wh = np.random.randn(H, H)\n",
        "\n",
        "norm_list = []\n",
        "for t in range(T):\n",
        "  dh = np.dot(dh, Wh.T) # 更新\n",
        "  norm = np.sqrt(np.sum(dh**2)) / N\n",
        "  norm_list.append(norm)\n"
      ],
      "execution_count": 0,
      "outputs": []
    },
    {
      "cell_type": "code",
      "metadata": {
        "id": "y39Uznaw9dzn",
        "colab_type": "code",
        "colab": {
          "base_uri": "https://localhost:8080/",
          "height": 357
        },
        "outputId": "5aeb4919-7980-4f03-da9d-012ce3e9713b"
      },
      "source": [
        "norm_list"
      ],
      "execution_count": 2,
      "outputs": [
        {
          "output_type": "execute_result",
          "data": {
            "text/plain": [
              "[2.4684068094579303,\n",
              " 3.335704974161037,\n",
              " 4.783279375373183,\n",
              " 6.2795873320876145,\n",
              " 8.080776465019055,\n",
              " 10.25116303229294,\n",
              " 12.9360635066099,\n",
              " 16.276861327786712,\n",
              " 20.454829618345983,\n",
              " 25.688972842084684,\n",
              " 32.25315718048336,\n",
              " 40.48895641683869,\n",
              " 50.824407307019094,\n",
              " 63.79612654485427,\n",
              " 80.07737014308985,\n",
              " 100.51298922051251,\n",
              " 126.16331847536827,\n",
              " 158.3592064825883,\n",
              " 198.77107967611957,\n",
              " 249.495615421267]"
            ]
          },
          "metadata": {
            "tags": []
          },
          "execution_count": 2
        }
      ]
    },
    {
      "cell_type": "code",
      "metadata": {
        "id": "8zhILJuZ9Lrv",
        "colab_type": "code",
        "colab": {
          "base_uri": "https://localhost:8080/",
          "height": 279
        },
        "outputId": "84feeb8e-320c-410a-9ff8-7326c8a4a82f"
      },
      "source": [
        "# グラフの描画\n",
        "plt.plot(np.arange(len(norm_list)), norm_list)\n",
        "plt.xticks([0, 4, 9, 14, 19], [1, 5, 10, 15, 20])\n",
        "plt.xlabel('time step')\n",
        "plt.ylabel('norm')\n",
        "plt.show()"
      ],
      "execution_count": 3,
      "outputs": [
        {
          "output_type": "display_data",
          "data": {
            "image/png": "[encoded data removed]",
            "text/plain": [
              "<Figure size 432x288 with 1 Axes>"
            ]
          },
          "metadata": {
            "tags": [],
            "needs_background": "light"
          }
        }
      ]
    },
    {
      "cell_type": "markdown",
      "metadata": {
        "id": "9ZhA44a-9mws",
        "colab_type": "text"
      },
      "source": [
        "勾配の大きさは時間とともに指数関数的に増加していく。"
      ]
    },
    {
      "cell_type": "code",
      "metadata": {
        "id": "CkyKL7n79abE",
        "colab_type": "code",
        "colab": {}
      },
      "source": [
        "dh = np.ones((N, H)) # 初期化\n",
        "np.random.seed(3) # 再現性のため乱数のシードを固定\n",
        "Wh = np.random.randn(H, H) * 0.5\n",
        "\n",
        "norm_list = []\n",
        "for t in range(T):\n",
        "  dh = np.dot(dh, Wh.T) # 更新\n",
        "  norm = np.sqrt(np.sum(dh**2)) / N\n",
        "  norm_list.append(norm)\n"
      ],
      "execution_count": 0,
      "outputs": []
    },
    {
      "cell_type": "code",
      "metadata": {
        "id": "gxQfFLSK90us",
        "colab_type": "code",
        "colab": {
          "base_uri": "https://localhost:8080/",
          "height": 279
        },
        "outputId": "8733865c-f55b-4087-d95d-3c004db5cb1b"
      },
      "source": [
        "# グラフの描画\n",
        "plt.plot(np.arange(len(norm_list)), norm_list)\n",
        "plt.xticks([0, 4, 9, 14, 19], [1, 5, 10, 15, 20])\n",
        "plt.xlabel('time step')\n",
        "plt.ylabel('norm')\n",
        "plt.show()"
      ],
      "execution_count": 5,
      "outputs": [
        {
          "output_type": "display_data",
          "data": {
            "image/png": "[encoded data removed]",
            "text/plain": [
              "<Figure size 432x288 with 1 Axes>"
            ]
          },
          "metadata": {
            "tags": [],
            "needs_background": "light"
          }
        }
      ]
    },
    {
      "cell_type": "markdown",
      "metadata": {
        "id": "kdrWifqR95s-",
        "colab_type": "text"
      },
      "source": [
        "今度は勾配が指数的に減少している。"
      ]
    },
    {
      "cell_type": "markdown",
      "metadata": {
        "id": "YWxstlRN-DGS",
        "colab_type": "text"
      },
      "source": [
        "行列\\\\( Wh\\\\)をT回繰り返して乗算しているので、指数的な変化が起きてしまう。"
      ]
    },
    {
      "cell_type": "markdown",
      "metadata": {
        "id": "MIgfw2u5-29C",
        "colab_type": "text"
      },
      "source": [
        "### 勾配爆発への対策\n",
        "+ 勾配クリッピング\n",
        " + 勾配のL2ノルムが閾値を超えた場合に勾配を修正する。\n",
        "\n",
        "$$ if \\ \\| \\hat g \\| \\ \\geq threshold \\\\\n",
        "\\hat g = \\frac{threshold}{\\| \\hat g \\|}\\hat g $$"
      ]
    },
    {
      "cell_type": "code",
      "metadata": {
        "id": "GiME8Y8092k_",
        "colab_type": "code",
        "colab": {}
      },
      "source": [
        "import numpy as np\n",
        "\n",
        "dW1 = np.random.rand(3, 3) * 10\n",
        "dW2 = np.random.rand(3, 3) * 10\n",
        "grads = [dW1, dW2]\n",
        "max_norm = 5.0\n",
        "\n",
        "def clip_grads(grads, max_norm):\n",
        "  total_norm = 0\n",
        "  for grad in grads:\n",
        "    total_norm += np.sum(grad ** 2)\n",
        "  total_norm = np.sqrt(total_norm)\n",
        "\n",
        "  rate = max_norm / (total_norm + 1e-6)\n",
        "  if rate < 1:\n",
        "    for grad in grads:\n",
        "      grad *= rate\n",
        "\n",
        "clip_grads(grads, max_norm)"
      ],
      "execution_count": 0,
      "outputs": []
    },
    {
      "cell_type": "markdown",
      "metadata": {
        "id": "fqNejyJ6CJMj",
        "colab_type": "text"
      },
      "source": [
        "## 勾配消失とLSTM\n",
        "+ RNNの学習の際に問題となる、勾配消失問題を解消したい。"
      ]
    },
    {
      "cell_type": "markdown",
      "metadata": {
        "id": "I5jo1MlwCwL4",
        "colab_type": "text"
      },
      "source": [
        "### LSTMのインタフェース\n",
        "+ LSTMにはRNNにはない、記憶セルというものがある。\n",
        "+ LSTMの出力を受け取る側から見ると、LSTMの出力は隠れ状態ベクトルのhだけになり、記憶セルcの情報は外部には見えない。"
      ]
    },
    {
      "cell_type": "markdown",
      "metadata": {
        "id": "wFSVrdKBEDoe",
        "colab_type": "text"
      },
      "source": [
        "### LSTMレイヤの組み立て\n",
        "+ 現在の記憶セル\\\\( c_t\\\\)は3つの入力（\\\\( c_{t-1}, h_{t-1}, x_{t}\\\\)）から何らかの計算によって求めることができる。\n",
        "+ 更新された\\\\( c_t\\\\)を使って、隠れ状態の\\\\( h_t\\\\)が計算される。\n",
        "+ LSTMで使用するゲートは、開く・閉じるの二択ではなく、どれだけゲートを開くか、そしてそれによって、どのくらいの量の水を次へ流すかということをコントロールする。それに関してもデータから自動的に学ばせる。"
      ]
    },
    {
      "cell_type": "markdown",
      "metadata": {
        "id": "KjinpiR0JPKL",
        "colab_type": "text"
      },
      "source": [
        "### outputゲート\n",
        "+ \\\\(  \\tanh (c_t) \\\\)の各要素に対して、それらが次時刻の隠れ状態としてどれだけ重要かということを調整し、\\\\( h_t \\\\)をコントロールする。\n",
        "+ outputゲートの開き具合は\\\\( x_t\\\\)と前の状態\\\\( h_{t-1}\\\\)から求める。\n",
        "\n",
        "$$ o = \\sigma ( x_t W^{(o)}_x + h_{t-1}W_h^{(o)} + b^{(o)}) $$\n",
        "\n",
        "出力はアダマール積で計算\n",
        "$$ h_t = o \\odot \\tanh (c_t) $$\n"
      ]
    },
    {
      "cell_type": "markdown",
      "metadata": {
        "id": "NN8bnvRZSKwL",
        "colab_type": "text"
      },
      "source": [
        "### forgetゲート\n",
        "+ 記憶セルに対して、何を忘れるかを明示的に指示すること。\n",
        "+ \\\\( c_{t-1}\\\\)の記憶から、不要な記憶を忘れるためのゲートを追加する。\n",
        "\n",
        "$$ f = \\sigma (x_t W_x^{(f)} + h_{t-1}W_{h}^{(f)} + b^{(f)} ) $$\n",
        "\n",
        "\n",
        "出力はアダマール積で計算\n",
        "$$c_t = f \\odot c_{t-1}$$"
      ]
    },
    {
      "cell_type": "markdown",
      "metadata": {
        "id": "TYtLJt1wTQMT",
        "colab_type": "text"
      },
      "source": [
        "### 新しい記憶セル\n",
        "+ 新しく覚えるべき情報を記憶セルに追加する。\n",
        " + tanhノードを新たに追加する。\n",
        "\n",
        "\n",
        "$$g = \\tanh (x_t W_x^{(g)} + h_{t-1}W_h^{(g)} + b^{(g)})$$\n",
        "\n",
        "新しい情報を記憶セルに追加することが目的のため、活性化関数にsigmoidではなく、tanh関数を使う。0-1でなくてもいいということ。\n",
        "\n",
        "gが\\\\( c_{t-1}\\\\)に加算されることで、新しい記憶が生まれる。"
      ]
    },
    {
      "cell_type": "markdown",
      "metadata": {
        "id": "I-P3fAMMU4Ui",
        "colab_type": "text"
      },
      "source": [
        "### inputゲート\n",
        "+ gの各要素が新たに追加する情報として、どれだけの価値があるかを判断する。追加する情報の取捨選択を行う。\n",
        "\n",
        "$$ i = \\sigma ( x_t W_x^{(i)} + h_{t-1} W_h^{(i)} + b^{(i)} ) $$\n",
        "\n",
        "出力はアダマール積で計算\n",
        "$$ g \\odot i $$"
      ]
    },
    {
      "cell_type": "markdown",
      "metadata": {
        "id": "u5M9f5v8V8Am",
        "colab_type": "text"
      },
      "source": [
        "### LSTMの勾配の流れ\n",
        "+ LSTMの逆伝播では、行列の積の計算ではなく、要素ごとの積が計算される。\n",
        " + 毎時刻、異なるゲート値によって要素ごとの積の計算が行われる。その結果、勾配消失が起きない。\n",
        " + 忘れるべきと判断した記憶セルの要素に対しては、その勾配の要素は小さくなる。\n",
        " + 忘れてはいけないと導いた要素に対しては、その勾配の要素は劣化することなく過去方向へ伝わる。 "
      ]
    },
    {
      "cell_type": "markdown",
      "metadata": {
        "id": "y4VUC9fuihxl",
        "colab_type": "text"
      },
      "source": [
        "## LSTMの実装\n",
        "\n",
        "$$ f = \\sigma ( x_t W_x^{(f)} + h_{t-1}W_h^{(f)} + b^{(f)} ) \\\\\n",
        "g = \\tanh(x_tW_x^{(g)} + h_{t-1}W_h^{(g)} +b^{(g)}) \\\\\n",
        "i = \\sigma(x_tW_x^{(i)} + h_{t-1}W_h^{(i)} + b^{(i)}) \\\\\n",
        "o = \\sigma(x_tW_x^{(o)} + h_{t-1}W_h^{(o)} + b^{(o)}) \\\\\n",
        "\\\\\n",
        "c_t = f \\odot c_{t-1}+ g \\odot i \\\\\n",
        "h_t = o \\odot \\tanh(c_t) $$\n",
        "\n",
        "\n",
        "+ ここに出てくる4つの重みに関してまとめて処理する。\n",
        "+ 行列ライブラリは大きな行列としてまとめて計算したほうが多くの場合、計算が高速化される。"
      ]
    },
    {
      "cell_type": "code",
      "metadata": {
        "id": "Zl1pV62qByen",
        "colab_type": "code",
        "colab": {}
      },
      "source": [
        "class LSTM:\n",
        "  def __init__(self, Wx, Wh, b):\n",
        "    self.params = [Wx, Wh, b] # パラメータ\n",
        "    self.grads = [np.zeros_like(Wx), np.zeros_like(Wh), np.zeros_like(b)] # 勾配\n",
        "    self.cache = None # 順伝播での中間結果を保持\n",
        "\n",
        "  def forward(self, x, h_prev, c_prev):\n",
        "    Wx, Wh, b = self.params\n",
        "    N, H = h_prev.shape\n",
        "\n",
        "    # アフィン変換：平行移動を伴う線型写像\n",
        "    A = np.dot(x, Wx) + np.dot(h_prev, Wh) + b\n",
        "\n",
        "    # 4つ分の重みをまとめて保持するので、スライスする必要がある。\n",
        "    # slice\n",
        "    f = A[:, :H]\n",
        "    g = A[:, H:2*H]\n",
        "    i = A[:, 2*H:3*H]\n",
        "    o = A[:, 3*H:]\n",
        "\n",
        "    # シグモイドやらハイパボリックタンジェントをかます\n",
        "    f = sigmoid(f)\n",
        "    g = np.tanh(g)\n",
        "    i = sigmoid(i)\n",
        "    o = sigmoid(o)\n",
        "\n",
        "    # 上の式にある通り\n",
        "    c_next = f*c_prev + g*i\n",
        "    h_next = o*np.tanh(c_next)\n",
        "\n",
        "    self.cache = (x, h_prev, c_prev, i, f, g, o, c_next)\n",
        "    return h_next, c_next\n"
      ],
      "execution_count": 0,
      "outputs": []
    },
    {
      "cell_type": "markdown",
      "metadata": {
        "id": "aP-IANsEwwsy",
        "colab_type": "text"
      },
      "source": [
        "### TimeLSTMの実装\n",
        "+ T個分の時系列データをまとめて処理するレイヤ"
      ]
    },
    {
      "cell_type": "code",
      "metadata": {
        "id": "RHs0Cp1Iq38_",
        "colab_type": "code",
        "colab": {}
      },
      "source": [
        "class TimeLSTM:\n",
        "  def __init__(self, Wx, Wh, b, stateful=False):\n",
        "    self.params = [Wx, Wh, b]\n",
        "    self.grads = [np.zeros_like(Wx), np.zeros_like(Wh), np.zeros_like(b)]\n",
        "    self.layers = None\n",
        "\n",
        "    self.h, self.c = None, None\n",
        "    self.dh = None\n",
        "    self.stateful = stateful # 状態を維持するかどうかを指定\n",
        "\n",
        "  def forward(self, xs):\n",
        "    Wx, Wh, b = self.params\n",
        "    N, T, D = xs.shape\n",
        "    H = Wh.shape[0]\n",
        "\n",
        "    self.layers = []\n",
        "    # 初期化\n",
        "    hs = np.empty((N, T, H), dtype='f')\n",
        "\n",
        "    # 隠れ状態hと記憶セルcの初期化\n",
        "    if not self.stateful or self.h is None:\n",
        "      self.h = np.zeros_like((N, H), dtype='f')\n",
        "    if not self.stateful or self.c is None:\n",
        "      self.c = np.zeros_like((N, H), dtype='f')\n",
        "\n",
        "    # 時点の数だけ繰り返す\n",
        "    for t in range(T):\n",
        "      layer = LSTM(*self.params)\n",
        "      self.h, self.c = layer.forward(xs[:, t, :], self.h, self.c)\n",
        "      hs[:, t, :] = self.h\n",
        "\n",
        "      self.layers.append(layer)\n",
        "\n",
        "    return hs\n",
        "  \n",
        "  def backward(self, dhs):\n",
        "    Wx, Wh, b = self.params\n",
        "    N, T, H = dhs.shape\n",
        "    D = Wx.shape[0]\n",
        "\n",
        "    dxs = np.empty((N, T, D), dtype='f')\n",
        "    dh, dc = 0, 0\n",
        "\n",
        "    grads = [0, 0, 0]\n",
        "    # 逆の時点から繰り返す\n",
        "    for t in reversed(range(T)):\n",
        "      layer = self.layers[t]\n",
        "      dx, dh, dc = layer.backward(dhs[:, t, :] + dh, dc)\n",
        "      dxs[:, t, :] = dx\n",
        "      for i, grad in enumerate(layer.grads):\n",
        "        grads[i] += grad\n",
        "\n",
        "    for i, grad in enumerate(grads):\n",
        "      self.grads[i][...] = grads\n",
        "\n",
        "    self.dh = dh\n",
        "    return dxs\n",
        "\n",
        "  def set_state(self, h, c=None):\n",
        "    self.h, self.c = h, c\n",
        "\n",
        "  def reset_state(self):\n",
        "    self.h, self.c = None, None"
      ],
      "execution_count": 0,
      "outputs": []
    },
    {
      "cell_type": "markdown",
      "metadata": {
        "id": "6er8dQ9l7cEx",
        "colab_type": "text"
      },
      "source": [
        "## LSTMを使った言語モデル"
      ]
    },
    {
      "cell_type": "code",
      "metadata": {
        "id": "FaZVLL3j5IEg",
        "colab_type": "code",
        "colab": {
          "base_uri": "https://localhost:8080/",
          "height": 136
        },
        "outputId": "48afb579-9448-4e61-b19f-430cf3f09290"
      },
      "source": [
        "!git clone https://github.com/oreilly-japan/deep-learning-from-scratch-2.git"
      ],
      "execution_count": 9,
      "outputs": [
        {
          "output_type": "stream",
          "text": [
            "Cloning into 'deep-learning-from-scratch-2'...\n",
            "remote: Enumerating objects: 5, done.\u001b[K\n",
            "remote: Counting objects:  20% (1/5)\u001b[K\rremote: Counting objects:  40% (2/5)\u001b[K\rremote: Counting objects:  60% (3/5)\u001b[K\rremote: Counting objects:  80% (4/5)\u001b[K\rremote: Counting objects: 100% (5/5)\u001b[K\rremote: Counting objects: 100% (5/5), done.\u001b[K\n",
            "remote: Compressing objects: 100% (5/5), done.\u001b[K\n",
            "remote: Total 378 (delta 0), reused 0 (delta 0), pack-reused 373\u001b[K\n",
            "Receiving objects: 100% (378/378), 7.91 MiB | 11.21 MiB/s, done.\n",
            "Resolving deltas: 100% (210/210), done.\n"
          ],
          "name": "stdout"
        }
      ]
    },
    {
      "cell_type": "code",
      "metadata": {
        "id": "rqLqTVK0dRpT",
        "colab_type": "code",
        "colab": {
          "base_uri": "https://localhost:8080/",
          "height": 34
        },
        "outputId": "cb3d7c7a-0bf8-4e21-c5da-c634c4ec4227"
      },
      "source": [
        "cd deep-learning-from-scratch-2"
      ],
      "execution_count": 10,
      "outputs": [
        {
          "output_type": "stream",
          "text": [
            "/content/deep-learning-from-scratch-2\n"
          ],
          "name": "stdout"
        }
      ]
    },
    {
      "cell_type": "code",
      "metadata": {
        "id": "x-h9F91PdUXt",
        "colab_type": "code",
        "colab": {
          "base_uri": "https://localhost:8080/",
          "height": 51
        },
        "outputId": "051122d1-edf5-46a1-fbed-e059872e5694"
      },
      "source": [
        "ls"
      ],
      "execution_count": 11,
      "outputs": [
        {
          "output_type": "stream",
          "text": [
            "\u001b[0m\u001b[01;34mch01\u001b[0m/  \u001b[01;34mch03\u001b[0m/  \u001b[01;34mch05\u001b[0m/  \u001b[01;34mch07\u001b[0m/  \u001b[01;34mcommon\u001b[0m/   LICENSE.md\n",
            "\u001b[01;34mch02\u001b[0m/  \u001b[01;34mch04\u001b[0m/  \u001b[01;34mch06\u001b[0m/  \u001b[01;34mch08\u001b[0m/  \u001b[01;34mdataset\u001b[0m/  README.md\n"
          ],
          "name": "stdout"
        }
      ]
    },
    {
      "cell_type": "code",
      "metadata": {
        "id": "C1cWNfONdWw9",
        "colab_type": "code",
        "colab": {}
      },
      "source": [
        "import sys\n",
        "sys.path.append('..')\n",
        "\n",
        "from common.time_layers import *\n",
        "import pickle\n",
        "\n",
        "class Rnnlm:\n",
        "  def __init__(self, vocab_size=10000, wordvec_size=100,\n",
        "               hidden_size=100):\n",
        "    V, D, H = vocab_size, wordvec_size, hidden_size\n",
        "    rn = np.random.randn\n",
        "\n",
        "    # 重みの初期化\n",
        "    embed_W = (rn(V, D) / 100).astype('f')\n",
        "    lstm_Wx = (rn(D, 4*H) / np.sqrt(D)).astype('f')\n",
        "    lstm_Wh = (rn(H, 4*H) / np.sqrt(H)).astype('f')\n",
        "    lstm_b = np.zeros(4*H).astype('f')\n",
        "    affine_W = (rn(H, V) / np.sqrt(H)).astype('f')\n",
        "    affine_b = np.zeros(V).astype('f')\n",
        "\n",
        "    # レイヤの生成\n",
        "    self.layers = [\n",
        "                   TimeEmbedding(embed_W),\n",
        "                   TimeLSTM(lstm_Wx, lstm_Wh, lstm_b, stateful=True),\n",
        "                   TimeAffine(affine_W, affine_b)\n",
        "    ]\n",
        "    self.loss_layer = TimeSoftmaxWithLoss()\n",
        "    self.lstm_layer = self.layers[1]\n",
        "\n",
        "    # すべての重みと勾配をリストにまとめる\n",
        "    self.params, self.grads = [], []\n",
        "    for layer in self.layers:\n",
        "      self.params += layer.params\n",
        "      self.grads += layer.grads\n",
        "\n",
        "  def predict(self, xs):\n",
        "    for layer in self.layers:\n",
        "      xs = layer.forward(xs)\n",
        "    return xs\n",
        "\n",
        "  def forward(self, xs, ts):\n",
        "    score = self.predict(xs)\n",
        "    loss = self.loss_layer.forward(score, ts)\n",
        "    return loss\n",
        "\n",
        "  def backward(self, dout=1):\n",
        "    dout = self.loss_layer.backward(dout)\n",
        "    for layer in reversed(self.layers):\n",
        "      dout = layer.backward(dout)\n",
        "    return dout\n",
        "\n",
        "  def reset_state(self):\n",
        "    self.lstm_layer.reset_state()\n",
        "\n",
        "  # パラメータの書き込み\n",
        "  def save_params(self, file_name='Rnnlm.pkl'):\n",
        "    with open(file_name, 'wb') as f:\n",
        "      pickle.dump(self.params, f)\n",
        "\n",
        "  # パラメータの読み込み\n",
        "  def load_params(self, file_name='Rnnlm.pkl'):\n",
        "    with open(file_name, 'rb') as f:\n",
        "      self.params = pickle.load(f)"
      ],
      "execution_count": 0,
      "outputs": []
    },
    {
      "cell_type": "code",
      "metadata": {
        "id": "IzNc7B7sspnX",
        "colab_type": "code",
        "colab": {
          "base_uri": "https://localhost:8080/",
          "height": 1000
        },
        "outputId": "b9d9e3e6-1ae9-44dd-a8c4-f27fb4e2c37b"
      },
      "source": [
        "import sys\n",
        "sys.path.append('..')\n",
        "\n",
        "from common.optimizer import SGD\n",
        "from common.trainer import RnnlmTrainer\n",
        "from common.util import eval_perplexity\n",
        "from dataset import ptb\n",
        "from ch06.rnnlm import Rnnlm\n",
        "\n",
        "# ハイパーパラメータの設定\n",
        "batch_size = 20\n",
        "wordvec_size = 100\n",
        "hidden_size = 100 # RNNの隠れ状態ベクトルの要素数\n",
        "time_size = 35 # RNNを展開するサイズ\n",
        "lr = 20.0\n",
        "max_epoch = 4\n",
        "max_grad = 0.25\n",
        "\n",
        "# 学習データの読み込み\n",
        "corpus, word_to_id, id_to_word = ptb.load_data('train')\n",
        "corpus_test, _, _ = ptb.load_data('test')\n",
        "vocab_size = len(word_to_id)\n",
        "xs = corpus[:-1]\n",
        "ts = corpus[1:]\n",
        "\n",
        "# モデルの生成\n",
        "model = Rnnlm(vocab_size, wordvec_size, hidden_size)\n",
        "optimizer = SGD(lr)\n",
        "trainer = RnnlmTrainer(model, optimizer)\n",
        "\n",
        "# STEP1:勾配クリッピングを適用して学習\n",
        "# モデルの勾配を求め、モデルのパラメータを更新する\n",
        "# max_gradで勾配の爆発を防ぐ\n",
        "# eval_intervalでパープレキシティを計算するイタレーションの単位を決める\n",
        "trainer.fit(xs, ts, max_epoch, batch_size, time_size, max_grad, eval_interval=20)\n",
        "# パープレキシティに関して可視化\n",
        "trainer.plot(ylim=(0, 500))\n",
        "\n",
        "# STEP2:テストデータで評価\n",
        "# モデルの状態をリセットしてからテストデータでのパープレキシティを評価する\n",
        "model.reset_state()\n",
        "ppl_test = eval_perplexity(model, corpus_test)\n",
        "print('test perplexity: ', ppl_test)\n",
        "\n",
        "# STEP3:パラメータの保存\n",
        "model.save_params()"
      ],
      "execution_count": 14,
      "outputs": [
        {
          "output_type": "stream",
          "text": [
            "Downloading ptb.train.txt ... \n",
            "Done\n",
            "Downloading ptb.test.txt ... \n",
            "Done\n",
            "| epoch 1 |  iter 1 / 1327 | time 0[s] | perplexity 9999.69\n",
            "| epoch 1 |  iter 21 / 1327 | time 7[s] | perplexity 2965.95\n",
            "| epoch 1 |  iter 41 / 1327 | time 13[s] | perplexity 1247.29\n",
            "| epoch 1 |  iter 61 / 1327 | time 20[s] | perplexity 969.02\n",
            "| epoch 1 |  iter 81 / 1327 | time 27[s] | perplexity 783.35\n",
            "| epoch 1 |  iter 101 / 1327 | time 34[s] | perplexity 653.61\n",
            "| epoch 1 |  iter 121 / 1327 | time 41[s] | perplexity 641.88\n",
            "| epoch 1 |  iter 141 / 1327 | time 47[s] | perplexity 600.89\n",
            "| epoch 1 |  iter 161 / 1327 | time 54[s] | perplexity 579.60\n",
            "| epoch 1 |  iter 181 / 1327 | time 61[s] | perplexity 579.73\n",
            "| epoch 1 |  iter 201 / 1327 | time 68[s] | perplexity 502.86\n",
            "| epoch 1 |  iter 221 / 1327 | time 75[s] | perplexity 502.25\n",
            "| epoch 1 |  iter 241 / 1327 | time 82[s] | perplexity 456.13\n",
            "| epoch 1 |  iter 261 / 1327 | time 88[s] | perplexity 470.11\n",
            "| epoch 1 |  iter 281 / 1327 | time 95[s] | perplexity 461.30\n",
            "| epoch 1 |  iter 301 / 1327 | time 102[s] | perplexity 392.89\n",
            "| epoch 1 |  iter 321 / 1327 | time 109[s] | perplexity 353.23\n",
            "| epoch 1 |  iter 341 / 1327 | time 115[s] | perplexity 406.85\n",
            "| epoch 1 |  iter 361 / 1327 | time 122[s] | perplexity 408.12\n",
            "| epoch 1 |  iter 381 / 1327 | time 129[s] | perplexity 341.20\n",
            "| epoch 1 |  iter 401 / 1327 | time 136[s] | perplexity 354.57\n",
            "| epoch 1 |  iter 421 / 1327 | time 142[s] | perplexity 346.78\n",
            "| epoch 1 |  iter 441 / 1327 | time 149[s] | perplexity 334.04\n",
            "| epoch 1 |  iter 461 / 1327 | time 156[s] | perplexity 329.74\n",
            "| epoch 1 |  iter 481 / 1327 | time 163[s] | perplexity 312.58\n",
            "| epoch 1 |  iter 501 / 1327 | time 170[s] | perplexity 318.75\n",
            "| epoch 1 |  iter 521 / 1327 | time 176[s] | perplexity 307.64\n",
            "| epoch 1 |  iter 541 / 1327 | time 183[s] | perplexity 316.11\n",
            "| epoch 1 |  iter 561 / 1327 | time 190[s] | perplexity 290.63\n",
            "| epoch 1 |  iter 581 / 1327 | time 197[s] | perplexity 261.26\n",
            "| epoch 1 |  iter 601 / 1327 | time 203[s] | perplexity 337.97\n",
            "| epoch 1 |  iter 621 / 1327 | time 210[s] | perplexity 316.26\n",
            "| epoch 1 |  iter 641 / 1327 | time 217[s] | perplexity 285.25\n",
            "| epoch 1 |  iter 661 / 1327 | time 224[s] | perplexity 269.89\n",
            "| epoch 1 |  iter 681 / 1327 | time 230[s] | perplexity 230.71\n",
            "| epoch 1 |  iter 701 / 1327 | time 237[s] | perplexity 251.52\n",
            "| epoch 1 |  iter 721 / 1327 | time 244[s] | perplexity 260.55\n",
            "| epoch 1 |  iter 741 / 1327 | time 251[s] | perplexity 226.57\n",
            "| epoch 1 |  iter 761 / 1327 | time 257[s] | perplexity 236.64\n",
            "| epoch 1 |  iter 781 / 1327 | time 264[s] | perplexity 221.09\n",
            "| epoch 1 |  iter 801 / 1327 | time 271[s] | perplexity 242.54\n",
            "| epoch 1 |  iter 821 / 1327 | time 278[s] | perplexity 225.87\n",
            "| epoch 1 |  iter 841 / 1327 | time 284[s] | perplexity 230.38\n",
            "| epoch 1 |  iter 861 / 1327 | time 291[s] | perplexity 221.34\n",
            "| epoch 1 |  iter 881 / 1327 | time 298[s] | perplexity 208.32\n",
            "| epoch 1 |  iter 901 / 1327 | time 305[s] | perplexity 254.01\n",
            "| epoch 1 |  iter 921 / 1327 | time 312[s] | perplexity 228.83\n",
            "| epoch 1 |  iter 941 / 1327 | time 318[s] | perplexity 233.14\n",
            "| epoch 1 |  iter 961 / 1327 | time 325[s] | perplexity 246.95\n",
            "| epoch 1 |  iter 981 / 1327 | time 332[s] | perplexity 230.45\n",
            "| epoch 1 |  iter 1001 / 1327 | time 338[s] | perplexity 193.83\n",
            "| epoch 1 |  iter 1021 / 1327 | time 345[s] | perplexity 227.11\n",
            "| epoch 1 |  iter 1041 / 1327 | time 352[s] | perplexity 207.71\n",
            "| epoch 1 |  iter 1061 / 1327 | time 359[s] | perplexity 197.78\n",
            "| epoch 1 |  iter 1081 / 1327 | time 366[s] | perplexity 168.72\n",
            "| epoch 1 |  iter 1101 / 1327 | time 372[s] | perplexity 190.25\n",
            "| epoch 1 |  iter 1121 / 1327 | time 379[s] | perplexity 231.29\n",
            "| epoch 1 |  iter 1141 / 1327 | time 386[s] | perplexity 207.01\n",
            "| epoch 1 |  iter 1161 / 1327 | time 393[s] | perplexity 197.89\n",
            "| epoch 1 |  iter 1181 / 1327 | time 399[s] | perplexity 190.10\n",
            "| epoch 1 |  iter 1201 / 1327 | time 406[s] | perplexity 162.75\n",
            "| epoch 1 |  iter 1221 / 1327 | time 413[s] | perplexity 159.61\n",
            "| epoch 1 |  iter 1241 / 1327 | time 420[s] | perplexity 187.34\n",
            "| epoch 1 |  iter 1261 / 1327 | time 427[s] | perplexity 172.18\n",
            "| epoch 1 |  iter 1281 / 1327 | time 433[s] | perplexity 177.31\n",
            "| epoch 1 |  iter 1301 / 1327 | time 440[s] | perplexity 221.74\n",
            "| epoch 1 |  iter 1321 / 1327 | time 447[s] | perplexity 210.67\n",
            "| epoch 2 |  iter 1 / 1327 | time 449[s] | perplexity 221.61\n",
            "| epoch 2 |  iter 21 / 1327 | time 456[s] | perplexity 203.92\n",
            "| epoch 2 |  iter 41 / 1327 | time 463[s] | perplexity 190.31\n",
            "| epoch 2 |  iter 61 / 1327 | time 469[s] | perplexity 174.52\n",
            "| epoch 2 |  iter 81 / 1327 | time 476[s] | perplexity 160.39\n",
            "| epoch 2 |  iter 101 / 1327 | time 483[s] | perplexity 152.21\n",
            "| epoch 2 |  iter 121 / 1327 | time 490[s] | perplexity 160.57\n",
            "| epoch 2 |  iter 141 / 1327 | time 496[s] | perplexity 176.48\n",
            "| epoch 2 |  iter 161 / 1327 | time 503[s] | perplexity 192.49\n",
            "| epoch 2 |  iter 181 / 1327 | time 510[s] | perplexity 201.71\n",
            "| epoch 2 |  iter 201 / 1327 | time 517[s] | perplexity 183.98\n",
            "| epoch 2 |  iter 221 / 1327 | time 523[s] | perplexity 182.75\n",
            "| epoch 2 |  iter 241 / 1327 | time 530[s] | perplexity 175.95\n",
            "| epoch 2 |  iter 261 / 1327 | time 537[s] | perplexity 185.77\n",
            "| epoch 2 |  iter 281 / 1327 | time 543[s] | perplexity 185.44\n",
            "| epoch 2 |  iter 301 / 1327 | time 550[s] | perplexity 166.49\n",
            "| epoch 2 |  iter 321 / 1327 | time 557[s] | perplexity 137.85\n",
            "| epoch 2 |  iter 341 / 1327 | time 564[s] | perplexity 173.88\n",
            "| epoch 2 |  iter 361 / 1327 | time 570[s] | perplexity 198.30\n",
            "| epoch 2 |  iter 381 / 1327 | time 577[s] | perplexity 152.56\n",
            "| epoch 2 |  iter 401 / 1327 | time 583[s] | perplexity 167.91\n",
            "| epoch 2 |  iter 421 / 1327 | time 590[s] | perplexity 153.61\n",
            "| epoch 2 |  iter 441 / 1327 | time 596[s] | perplexity 161.94\n",
            "| epoch 2 |  iter 461 / 1327 | time 603[s] | perplexity 156.75\n",
            "| epoch 2 |  iter 481 / 1327 | time 610[s] | perplexity 155.28\n",
            "| epoch 2 |  iter 501 / 1327 | time 616[s] | perplexity 167.96\n",
            "| epoch 2 |  iter 521 / 1327 | time 623[s] | perplexity 174.11\n",
            "| epoch 2 |  iter 541 / 1327 | time 629[s] | perplexity 174.39\n",
            "| epoch 2 |  iter 561 / 1327 | time 636[s] | perplexity 157.06\n",
            "| epoch 2 |  iter 581 / 1327 | time 642[s] | perplexity 137.20\n",
            "| epoch 2 |  iter 601 / 1327 | time 649[s] | perplexity 189.19\n",
            "| epoch 2 |  iter 621 / 1327 | time 655[s] | perplexity 180.55\n",
            "| epoch 2 |  iter 641 / 1327 | time 662[s] | perplexity 163.91\n",
            "| epoch 2 |  iter 661 / 1327 | time 668[s] | perplexity 152.87\n",
            "| epoch 2 |  iter 681 / 1327 | time 675[s] | perplexity 129.35\n",
            "| epoch 2 |  iter 701 / 1327 | time 681[s] | perplexity 149.61\n",
            "| epoch 2 |  iter 721 / 1327 | time 688[s] | perplexity 159.12\n",
            "| epoch 2 |  iter 741 / 1327 | time 694[s] | perplexity 132.99\n",
            "| epoch 2 |  iter 761 / 1327 | time 701[s] | perplexity 131.96\n",
            "| epoch 2 |  iter 781 / 1327 | time 708[s] | perplexity 135.11\n",
            "| epoch 2 |  iter 801 / 1327 | time 714[s] | perplexity 146.53\n",
            "| epoch 2 |  iter 821 / 1327 | time 721[s] | perplexity 144.01\n",
            "| epoch 2 |  iter 841 / 1327 | time 727[s] | perplexity 143.50\n",
            "| epoch 2 |  iter 861 / 1327 | time 734[s] | perplexity 143.19\n",
            "| epoch 2 |  iter 881 / 1327 | time 740[s] | perplexity 128.88\n",
            "| epoch 2 |  iter 901 / 1327 | time 747[s] | perplexity 166.09\n",
            "| epoch 2 |  iter 921 / 1327 | time 754[s] | perplexity 147.54\n",
            "| epoch 2 |  iter 941 / 1327 | time 760[s] | perplexity 153.85\n",
            "| epoch 2 |  iter 961 / 1327 | time 767[s] | perplexity 162.79\n",
            "| epoch 2 |  iter 981 / 1327 | time 773[s] | perplexity 154.21\n",
            "| epoch 2 |  iter 1001 / 1327 | time 779[s] | perplexity 130.56\n",
            "| epoch 2 |  iter 1021 / 1327 | time 786[s] | perplexity 154.65\n",
            "| epoch 2 |  iter 1041 / 1327 | time 792[s] | perplexity 142.38\n",
            "| epoch 2 |  iter 1061 / 1327 | time 799[s] | perplexity 128.39\n",
            "| epoch 2 |  iter 1081 / 1327 | time 805[s] | perplexity 110.49\n",
            "| epoch 2 |  iter 1101 / 1327 | time 812[s] | perplexity 119.01\n",
            "| epoch 2 |  iter 1121 / 1327 | time 818[s] | perplexity 153.64\n",
            "| epoch 2 |  iter 1141 / 1327 | time 824[s] | perplexity 139.99\n",
            "| epoch 2 |  iter 1161 / 1327 | time 831[s] | perplexity 131.39\n",
            "| epoch 2 |  iter 1181 / 1327 | time 837[s] | perplexity 133.41\n",
            "| epoch 2 |  iter 1201 / 1327 | time 844[s] | perplexity 111.38\n",
            "| epoch 2 |  iter 1221 / 1327 | time 850[s] | perplexity 108.85\n",
            "| epoch 2 |  iter 1241 / 1327 | time 857[s] | perplexity 130.06\n",
            "| epoch 2 |  iter 1261 / 1327 | time 863[s] | perplexity 124.02\n",
            "| epoch 2 |  iter 1281 / 1327 | time 870[s] | perplexity 121.79\n",
            "| epoch 2 |  iter 1301 / 1327 | time 876[s] | perplexity 156.72\n",
            "| epoch 2 |  iter 1321 / 1327 | time 883[s] | perplexity 152.07\n",
            "| epoch 3 |  iter 1 / 1327 | time 885[s] | perplexity 160.76\n",
            "| epoch 3 |  iter 21 / 1327 | time 891[s] | perplexity 143.65\n",
            "| epoch 3 |  iter 41 / 1327 | time 898[s] | perplexity 135.01\n",
            "| epoch 3 |  iter 61 / 1327 | time 904[s] | perplexity 126.05\n",
            "| epoch 3 |  iter 81 / 1327 | time 911[s] | perplexity 117.07\n",
            "| epoch 3 |  iter 101 / 1327 | time 918[s] | perplexity 105.47\n",
            "| epoch 3 |  iter 121 / 1327 | time 924[s] | perplexity 115.72\n",
            "| epoch 3 |  iter 141 / 1327 | time 931[s] | perplexity 125.05\n",
            "| epoch 3 |  iter 161 / 1327 | time 937[s] | perplexity 140.44\n",
            "| epoch 3 |  iter 181 / 1327 | time 944[s] | perplexity 151.33\n",
            "| epoch 3 |  iter 201 / 1327 | time 951[s] | perplexity 139.94\n",
            "| epoch 3 |  iter 221 / 1327 | time 957[s] | perplexity 140.18\n",
            "| epoch 3 |  iter 241 / 1327 | time 964[s] | perplexity 133.89\n",
            "| epoch 3 |  iter 261 / 1327 | time 970[s] | perplexity 137.32\n",
            "| epoch 3 |  iter 281 / 1327 | time 977[s] | perplexity 141.08\n",
            "| epoch 3 |  iter 301 / 1327 | time 983[s] | perplexity 123.11\n",
            "| epoch 3 |  iter 321 / 1327 | time 990[s] | perplexity 101.99\n",
            "| epoch 3 |  iter 341 / 1327 | time 996[s] | perplexity 123.54\n",
            "| epoch 3 |  iter 361 / 1327 | time 1002[s] | perplexity 151.46\n",
            "| epoch 3 |  iter 381 / 1327 | time 1009[s] | perplexity 114.10\n",
            "| epoch 3 |  iter 401 / 1327 | time 1015[s] | perplexity 129.01\n",
            "| epoch 3 |  iter 421 / 1327 | time 1021[s] | perplexity 112.40\n",
            "| epoch 3 |  iter 441 / 1327 | time 1028[s] | perplexity 122.51\n",
            "| epoch 3 |  iter 461 / 1327 | time 1034[s] | perplexity 118.08\n",
            "| epoch 3 |  iter 481 / 1327 | time 1041[s] | perplexity 118.51\n",
            "| epoch 3 |  iter 501 / 1327 | time 1047[s] | perplexity 127.14\n",
            "| epoch 3 |  iter 521 / 1327 | time 1054[s] | perplexity 136.70\n",
            "| epoch 3 |  iter 541 / 1327 | time 1060[s] | perplexity 135.20\n",
            "| epoch 3 |  iter 561 / 1327 | time 1066[s] | perplexity 117.93\n",
            "| epoch 3 |  iter 581 / 1327 | time 1073[s] | perplexity 104.90\n",
            "| epoch 3 |  iter 601 / 1327 | time 1079[s] | perplexity 147.60\n",
            "| epoch 3 |  iter 621 / 1327 | time 1086[s] | perplexity 142.45\n",
            "| epoch 3 |  iter 641 / 1327 | time 1092[s] | perplexity 128.45\n",
            "| epoch 3 |  iter 661 / 1327 | time 1099[s] | perplexity 120.33\n",
            "| epoch 3 |  iter 681 / 1327 | time 1105[s] | perplexity 100.04\n",
            "| epoch 3 |  iter 701 / 1327 | time 1111[s] | perplexity 117.85\n",
            "| epoch 3 |  iter 721 / 1327 | time 1118[s] | perplexity 124.77\n",
            "| epoch 3 |  iter 741 / 1327 | time 1124[s] | perplexity 107.46\n",
            "| epoch 3 |  iter 761 / 1327 | time 1131[s] | perplexity 102.22\n",
            "| epoch 3 |  iter 781 / 1327 | time 1137[s] | perplexity 103.64\n",
            "| epoch 3 |  iter 801 / 1327 | time 1144[s] | perplexity 114.93\n",
            "| epoch 3 |  iter 821 / 1327 | time 1150[s] | perplexity 116.68\n",
            "| epoch 3 |  iter 841 / 1327 | time 1157[s] | perplexity 113.20\n",
            "| epoch 3 |  iter 861 / 1327 | time 1163[s] | perplexity 117.12\n",
            "| epoch 3 |  iter 881 / 1327 | time 1170[s] | perplexity 104.76\n",
            "| epoch 3 |  iter 901 / 1327 | time 1176[s] | perplexity 131.93\n",
            "| epoch 3 |  iter 921 / 1327 | time 1183[s] | perplexity 118.45\n",
            "| epoch 3 |  iter 941 / 1327 | time 1189[s] | perplexity 128.37\n",
            "| epoch 3 |  iter 961 / 1327 | time 1196[s] | perplexity 129.89\n",
            "| epoch 3 |  iter 981 / 1327 | time 1202[s] | perplexity 124.05\n",
            "| epoch 3 |  iter 1001 / 1327 | time 1209[s] | perplexity 108.89\n",
            "| epoch 3 |  iter 1021 / 1327 | time 1216[s] | perplexity 127.23\n",
            "| epoch 3 |  iter 1041 / 1327 | time 1222[s] | perplexity 118.18\n",
            "| epoch 3 |  iter 1061 / 1327 | time 1229[s] | perplexity 102.50\n",
            "| epoch 3 |  iter 1081 / 1327 | time 1235[s] | perplexity 88.48\n",
            "| epoch 3 |  iter 1101 / 1327 | time 1242[s] | perplexity 94.26\n",
            "| epoch 3 |  iter 1121 / 1327 | time 1248[s] | perplexity 120.96\n",
            "| epoch 3 |  iter 1141 / 1327 | time 1255[s] | perplexity 113.23\n",
            "| epoch 3 |  iter 1161 / 1327 | time 1261[s] | perplexity 105.09\n",
            "| epoch 3 |  iter 1181 / 1327 | time 1268[s] | perplexity 110.26\n",
            "| epoch 3 |  iter 1201 / 1327 | time 1275[s] | perplexity 92.93\n",
            "| epoch 3 |  iter 1221 / 1327 | time 1281[s] | perplexity 88.08\n",
            "| epoch 3 |  iter 1241 / 1327 | time 1288[s] | perplexity 105.37\n",
            "| epoch 3 |  iter 1261 / 1327 | time 1294[s] | perplexity 104.46\n",
            "| epoch 3 |  iter 1281 / 1327 | time 1301[s] | perplexity 99.53\n",
            "| epoch 3 |  iter 1301 / 1327 | time 1308[s] | perplexity 128.02\n",
            "| epoch 3 |  iter 1321 / 1327 | time 1314[s] | perplexity 126.13\n",
            "| epoch 4 |  iter 1 / 1327 | time 1316[s] | perplexity 132.68\n",
            "| epoch 4 |  iter 21 / 1327 | time 1323[s] | perplexity 120.54\n",
            "| epoch 4 |  iter 41 / 1327 | time 1330[s] | perplexity 105.61\n",
            "| epoch 4 |  iter 61 / 1327 | time 1336[s] | perplexity 106.77\n",
            "| epoch 4 |  iter 81 / 1327 | time 1343[s] | perplexity 95.98\n",
            "| epoch 4 |  iter 101 / 1327 | time 1350[s] | perplexity 85.96\n",
            "| epoch 4 |  iter 121 / 1327 | time 1356[s] | perplexity 94.65\n",
            "| epoch 4 |  iter 141 / 1327 | time 1363[s] | perplexity 102.17\n",
            "| epoch 4 |  iter 161 / 1327 | time 1369[s] | perplexity 117.16\n",
            "| epoch 4 |  iter 181 / 1327 | time 1376[s] | perplexity 128.60\n",
            "| epoch 4 |  iter 201 / 1327 | time 1383[s] | perplexity 120.20\n",
            "| epoch 4 |  iter 221 / 1327 | time 1389[s] | perplexity 120.74\n",
            "| epoch 4 |  iter 241 / 1327 | time 1396[s] | perplexity 114.97\n",
            "| epoch 4 |  iter 261 / 1327 | time 1403[s] | perplexity 112.29\n",
            "| epoch 4 |  iter 281 / 1327 | time 1409[s] | perplexity 120.28\n",
            "| epoch 4 |  iter 301 / 1327 | time 1416[s] | perplexity 102.37\n",
            "| epoch 4 |  iter 321 / 1327 | time 1422[s] | perplexity 84.98\n",
            "| epoch 4 |  iter 341 / 1327 | time 1429[s] | perplexity 99.24\n",
            "| epoch 4 |  iter 361 / 1327 | time 1435[s] | perplexity 126.59\n",
            "| epoch 4 |  iter 381 / 1327 | time 1442[s] | perplexity 97.03\n",
            "| epoch 4 |  iter 401 / 1327 | time 1449[s] | perplexity 109.28\n",
            "| epoch 4 |  iter 421 / 1327 | time 1455[s] | perplexity 92.61\n",
            "| epoch 4 |  iter 441 / 1327 | time 1462[s] | perplexity 102.93\n",
            "| epoch 4 |  iter 461 / 1327 | time 1469[s] | perplexity 99.40\n",
            "| epoch 4 |  iter 481 / 1327 | time 1475[s] | perplexity 101.19\n",
            "| epoch 4 |  iter 501 / 1327 | time 1482[s] | perplexity 106.86\n",
            "| epoch 4 |  iter 521 / 1327 | time 1488[s] | perplexity 115.64\n",
            "| epoch 4 |  iter 541 / 1327 | time 1495[s] | perplexity 112.40\n",
            "| epoch 4 |  iter 561 / 1327 | time 1502[s] | perplexity 102.16\n",
            "| epoch 4 |  iter 581 / 1327 | time 1508[s] | perplexity 88.28\n",
            "| epoch 4 |  iter 601 / 1327 | time 1515[s] | perplexity 125.87\n",
            "| epoch 4 |  iter 621 / 1327 | time 1521[s] | perplexity 121.01\n",
            "| epoch 4 |  iter 641 / 1327 | time 1528[s] | perplexity 110.07\n",
            "| epoch 4 |  iter 661 / 1327 | time 1535[s] | perplexity 102.55\n",
            "| epoch 4 |  iter 681 / 1327 | time 1541[s] | perplexity 84.25\n",
            "| epoch 4 |  iter 701 / 1327 | time 1548[s] | perplexity 101.39\n",
            "| epoch 4 |  iter 721 / 1327 | time 1554[s] | perplexity 107.01\n",
            "| epoch 4 |  iter 741 / 1327 | time 1561[s] | perplexity 94.58\n",
            "| epoch 4 |  iter 761 / 1327 | time 1567[s] | perplexity 87.67\n",
            "| epoch 4 |  iter 781 / 1327 | time 1574[s] | perplexity 87.76\n",
            "| epoch 4 |  iter 801 / 1327 | time 1581[s] | perplexity 97.50\n",
            "| epoch 4 |  iter 821 / 1327 | time 1587[s] | perplexity 102.34\n",
            "| epoch 4 |  iter 841 / 1327 | time 1594[s] | perplexity 97.73\n",
            "| epoch 4 |  iter 861 / 1327 | time 1600[s] | perplexity 101.46\n",
            "| epoch 4 |  iter 881 / 1327 | time 1607[s] | perplexity 90.40\n",
            "| epoch 4 |  iter 901 / 1327 | time 1613[s] | perplexity 114.70\n",
            "| epoch 4 |  iter 921 / 1327 | time 1620[s] | perplexity 102.73\n",
            "| epoch 4 |  iter 941 / 1327 | time 1627[s] | perplexity 113.72\n",
            "| epoch 4 |  iter 961 / 1327 | time 1633[s] | perplexity 109.96\n",
            "| epoch 4 |  iter 981 / 1327 | time 1640[s] | perplexity 107.19\n",
            "| epoch 4 |  iter 1001 / 1327 | time 1646[s] | perplexity 96.33\n",
            "| epoch 4 |  iter 1021 / 1327 | time 1653[s] | perplexity 111.14\n",
            "| epoch 4 |  iter 1041 / 1327 | time 1659[s] | perplexity 102.29\n",
            "| epoch 4 |  iter 1061 / 1327 | time 1666[s] | perplexity 88.92\n",
            "| epoch 4 |  iter 1081 / 1327 | time 1672[s] | perplexity 78.23\n",
            "| epoch 4 |  iter 1101 / 1327 | time 1679[s] | perplexity 79.64\n",
            "| epoch 4 |  iter 1121 / 1327 | time 1685[s] | perplexity 102.86\n",
            "| epoch 4 |  iter 1141 / 1327 | time 1692[s] | perplexity 99.06\n",
            "| epoch 4 |  iter 1161 / 1327 | time 1698[s] | perplexity 89.63\n",
            "| epoch 4 |  iter 1181 / 1327 | time 1705[s] | perplexity 96.29\n",
            "| epoch 4 |  iter 1201 / 1327 | time 1711[s] | perplexity 82.00\n",
            "| epoch 4 |  iter 1221 / 1327 | time 1717[s] | perplexity 75.19\n",
            "| epoch 4 |  iter 1241 / 1327 | time 1724[s] | perplexity 91.16\n",
            "| epoch 4 |  iter 1261 / 1327 | time 1730[s] | perplexity 93.55\n",
            "| epoch 4 |  iter 1281 / 1327 | time 1737[s] | perplexity 88.44\n",
            "| epoch 4 |  iter 1301 / 1327 | time 1743[s] | perplexity 111.15\n",
            "| epoch 4 |  iter 1321 / 1327 | time 1750[s] | perplexity 110.06\n"
          ],
          "name": "stdout"
        },
        {
          "output_type": "display_data",
          "data": {
            "image/png": "[encoded data removed]",
            "text/plain": [
              "<Figure size 432x288 with 1 Axes>"
            ]
          },
          "metadata": {
            "tags": [],
            "needs_background": "light"
          }
        },
        {
          "output_type": "stream",
          "text": [
            "evaluating perplexity ...\n",
            "234 / 235\n",
            "test perplexity:  136.3136962392949\n"
          ],
          "name": "stdout"
        }
      ]
    },
    {
      "cell_type": "markdown",
      "metadata": {
        "id": "MEabVEIbjnub",
        "colab_type": "text"
      },
      "source": [
        "最新の研究ではパープレキシティは60を下回っているらしい。"
      ]
    },
    {
      "cell_type": "markdown",
      "metadata": {
        "id": "Sp_LwN80jvyg",
        "colab_type": "text"
      },
      "source": [
        "## RNNLMのさらなる改善\n",
        "+ LSTMレイヤの多層化\n",
        "+ Dropoutによる過学習の抑制\n",
        "+ 重み共有"
      ]
    },
    {
      "cell_type": "markdown",
      "metadata": {
        "id": "1NlZTZ7zmOVH",
        "colab_type": "text"
      },
      "source": [
        "### LSTMレイヤの多層化\n",
        "+ LSTMレイヤを何層も重ねることで、より複雑なパターンを学習できるようにする。\n",
        "+ 重なる層の数は、それがハイパーパラメータとなる。データやタスクによって適宜決める必要がある。"
      ]
    },
    {
      "cell_type": "markdown",
      "metadata": {
        "id": "M_2Lg-8CnyEN",
        "colab_type": "text"
      },
      "source": [
        "### Dropoutによる過学習の抑制\n",
        "+ RNNはフィードフォワード型のネットワークよりも簡単に過学習をしてしまう。\n",
        "  + RNNにおいて過学習対策は研究が活発になされているらしい。\n",
        "\n",
        "+ 過学習を避けるための方法\n",
        " + 訓練データを増やす\n",
        " + モデルの複雑さを減らす\n",
        " + 正則化を行う\n",
        " + Dropoutのように訓練時にレイヤ内のニューロンのいくつかをランダムに無視して学習を行う \n",
        "\n",
        "\n",
        "+ Dropoutをどこに挟むべきか？\n",
        " + LSTMレイヤの時系列方向？変分Dropoutという手法があり、それならば有効だが、そのまま入れてもうまくいかない。\n",
        " + LSTMレイヤ自体の深さに関してDropoutを挟むのは有効。"
      ]
    },
    {
      "cell_type": "markdown",
      "metadata": {
        "id": "6_RZPhFdvGi_",
        "colab_type": "text"
      },
      "source": [
        "### 重み共有\n",
        "+ 例えば、Embeddingレイヤの重みとAffineレイヤの重みを結びつけるテクニック\n",
        " + 2つのレイヤで重みを共有することで、学習するパラメータを大きく減らすことができる。"
      ]
    },
    {
      "cell_type": "markdown",
      "metadata": {
        "id": "qPs62aTONWE8",
        "colab_type": "text"
      },
      "source": [
        "### より良いRNNLMの実装"
      ]
    },
    {
      "cell_type": "code",
      "metadata": {
        "id": "kRvUTZWyxg1Q",
        "colab_type": "code",
        "colab": {}
      },
      "source": [
        "import sys\n",
        "sys.path.append('..')\n",
        "from common.time_layers import *\n",
        "from common.np import *\n",
        "from common.base_model import BaseModel\n",
        "\n",
        "class BetterRnnlm(BaseModel):\n",
        "  def __init__(self, vocab_size=10000, wordvec_size=650,\n",
        "               hidden_size=650, dropout_ratio=0.5):\n",
        "    V, D, H = vocab_size, wordvec_size, hidden_size\n",
        "    rn = np.random.randn\n",
        "\n",
        "    embed_W = (rn(V, D) / 100).astype('f')\n",
        "    lstm_Wx1 = (rn(D, 4*H) / np.sqrt(D)).astype('f')\n",
        "    lstm_Wh1 = (rn(H, 4*H) / np.aqrt(H)).astype('f')\n",
        "    lstm_b1 = np.zeros(4*H).astype('f')\n",
        "    lstm_Wx2 = (rn(H, 4*H) / np.sqrt(H)).astype('f')\n",
        "    lstm_Wh2 = (rn(H, 4*H) / np.aqrt(H)).astype('f')\n",
        "    lstm_b2 = np.zeros(4*H).astype('f')\n",
        "    affine_b = np.zeros(V).astype('f')\n",
        "\n",
        "    # 3つの改善！\n",
        "    self.layers = [\n",
        "                   TimeEmbedding(embed_W),\n",
        "                   TimeDropout(dropout_ratio), # Dropout層を縦に追加している！\n",
        "                   TimeLSTM(lstm_Wx1, lstm_Wh1, lstm_b1, stateful=True),\n",
        "                   TimeDropout(dropout_ratio),\n",
        "                   TimeLSTM(lstm_Wx2, lstm_Wh2, lstm_b2, stateful=True), # LSTMレイヤを重ねている！\n",
        "                   TimeDropout(dropout_ratio),\n",
        "                   TimeAffine(embed_W.T, affine_b) # 重み共有！\n",
        "    ]\n",
        "\n",
        "    self.loss_layer = TimeSoftmaxWithLoss()\n",
        "    self.lstm_layers = [self.layers[2], self.layers[4]]\n",
        "    self.drop_layers = [self.layers[1], self.layers[3], self.layers[5]]\n",
        "    self.params, self.grads = [], []\n",
        "\n",
        "    for layer in self.layers:\n",
        "      self.params += layer.params\n",
        "      self.grads += layer.grads\n",
        "\n",
        "  def predict(self, xs, train_flg=False):\n",
        "    for layer in self.drop_layers:\n",
        "      layer.train_flg = train_flg\n",
        "\n",
        "    for layer in self.layers:\n",
        "      xs = layer.forward(xs)\n",
        "    return loss\n",
        "\n",
        "  def forward(self, xs, ts, train_flg=True):\n",
        "    score = self.predict(xs, train_flg)\n",
        "    loss = self.loss_layer.forward(score, ts)\n",
        "    return loss\n",
        "\n",
        "  def backward(self, dout=1):\n",
        "    dout = self.loss_layer.backward(dout)\n",
        "    for layer in reversed(self.layers):\n",
        "      dout = layer.backward(dout)\n",
        "    return dout\n",
        "\n",
        "  def reset_state(self):\n",
        "    for layer in self.lstm_layers:\n",
        "      layer.reset_state()\n"
      ],
      "execution_count": 0,
      "outputs": []
    },
    {
      "cell_type": "code",
      "metadata": {
        "id": "YRDnFDDrR78y",
        "colab_type": "code",
        "colab": {
          "base_uri": "https://localhost:8080/",
          "height": 187
        },
        "outputId": "e30d0b18-0322-440d-ca72-c2d5407c8fed"
      },
      "source": [
        "import sys\n",
        "sys.path.append('..')\n",
        "from common import config\n",
        "config.GPU = True\n",
        "\n",
        "from common.optimizer import SGD\n",
        "from common.trainer import RnnlmTrainer\n",
        "from common.util import eval_perplexity\n",
        "from dataset import ptb\n",
        "from ch06.better_rnnlm import BetterRnnlm\n",
        "\n",
        "# ハイパーパラメータの設定\n",
        "batch_size = 20\n",
        "wordvec_size = 650\n",
        "hidden_size = 650\n",
        "time_size = 35\n",
        "lr = 20.0\n",
        "max_epoch = 40\n",
        "max_grad = 0.25\n",
        "dropout = 0.5\n",
        "\n",
        "# 学習データの読み込み\n",
        "corpus, word_to_id, id_to_word = ptb.load_data('train')\n",
        "corpus_val, _, _ = ptb.load_data('val')\n",
        "corpus_test, _, _ = ptb.load_data('test')\n",
        "\n",
        "vocab_size = len(word_to_id)\n",
        "xs = corpus[:-1]\n",
        "ts = corpus[1:]\n",
        "\n",
        "model = BetterRnnlm(vocab_size, wordvec_size, hidden_size, dropout)\n",
        "optimizer = SGD(lr)\n",
        "trainer = RnnlmTrainer(model, optimizer)\n",
        "\n",
        "best_ppl = float('inf')\n",
        "for epoch in range(max_epoch):\n",
        "  trainer.fit(xs, ts, max_epoch=1, batch_size=batch_size,\n",
        "              time_size=time_size, max_grad=max_grad)\n",
        "  model.reset_state()\n",
        "  ppl = eval_perplexity(model, corpus_val)\n",
        "  print('valid perplexity: ', ppl)\n",
        "\n",
        "  if best_ppl > ppl:\n",
        "    best_ppl = ppl\n",
        "    model.save_params()\n",
        "\n",
        "  else:\n",
        "    lr /= 4.0\n",
        "    optimizer.lr = lr \n",
        "\n",
        "  model.reset_state()\n",
        "  print('-'*50)"
      ],
      "execution_count": 0,
      "outputs": [
        {
          "output_type": "stream",
          "text": [
            "Downloading ptb.train.txt ... \n",
            "Done\n",
            "Downloading ptb.valid.txt ... \n",
            "Done\n",
            "Downloading ptb.test.txt ... \n",
            "Done\n",
            "| epoch 1 |  iter 1 / 1327 | time 3[s] | perplexity 9999.99\n",
            "| epoch 1 |  iter 21 / 1327 | time 63[s] | perplexity 3443.83\n",
            "| epoch 1 |  iter 41 / 1327 | time 125[s] | perplexity 1709.85\n",
            "| epoch 1 |  iter 61 / 1327 | time 185[s] | perplexity 1288.33\n"
          ],
          "name": "stdout"
        }
      ]
    },
    {
      "cell_type": "markdown",
      "metadata": {
        "id": "3wzVy-vYVyf-",
        "colab_type": "text"
      },
      "source": [
        "GPUでも学習に5時間かかるらしい。"
      ]
    },
    {
      "cell_type": "code",
      "metadata": {
        "id": "-YnFrTpDVjXM",
        "colab_type": "code",
        "colab": {}
      },
      "source": [
        ""
      ],
      "execution_count": 0,
      "outputs": []
    }
  ]
}