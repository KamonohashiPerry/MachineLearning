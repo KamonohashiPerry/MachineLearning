{
  "nbformat": 4,
  "nbformat_minor": 0,
  "metadata": {
    "colab": {
      "name": "Chapter6.ipynb",
      "provenance": [],
      "collapsed_sections": [],
      "authorship_tag": "ABX9TyP2HuLYlUR7JReRj2GxEcFy",
      "include_colab_link": true
    },
    "kernelspec": {
      "name": "python3",
      "display_name": "Python 3"
    },
    "accelerator": "GPU"
  },
  "cells": [
    {
      "cell_type": "markdown",
      "metadata": {
        "id": "view-in-github",
        "colab_type": "text"
      },
      "source": [
        "<a href=\"https://colab.research.google.com/github/KamonohashiPerry/MachineLearning/blob/master/deep-learning-from-scratch-2/Chapter6.ipynb\" target=\"_parent\"><img src=\"https://colab.research.google.com/assets/colab-badge.svg\" alt=\"Open In Colab\"/></a>"
      ]
    },
    {
      "cell_type": "markdown",
      "metadata": {
        "id": "rM-kCCbYFzmU",
        "colab_type": "text"
      },
      "source": [
        "# ゲート付きRNN\n",
        "+ 単純なRNNでは時系列データの長期の依存関係をうまく学習することはできない。"
      ]
    },
    {
      "cell_type": "markdown",
      "metadata": {
        "id": "-SJ8QOaGGjup",
        "colab_type": "text"
      },
      "source": [
        "## RNNの問題点\n",
        "+ BPTTにおいて勾配消失もしくは勾配爆発問題が起こることに原因がある。\n",
        " + ようは、長い時点をさかのぼっての、誤差逆伝播法がうまくいかないということ。"
      ]
    },
    {
      "cell_type": "markdown",
      "metadata": {
        "id": "jpHISicxHfPS",
        "colab_type": "text"
      },
      "source": [
        "### RNNの復習\n",
        "+ RNNレイヤは時系列データである\\\\(x_t\\\\)を入力すると\\\\( h_t\\\\)を出力する。この\\\\( h_t\\\\)はRNNレイヤの隠れ状態とも呼ばれ、過去からの情報が記憶される。\n",
        "+ RNNレイヤの順伝播で行う計算は、「行列の積と和、そして活性化関数であるtanh関数による変換」から構成される。"
      ]
    },
    {
      "cell_type": "markdown",
      "metadata": {
        "id": "ZLsCth1dqGq2",
        "colab_type": "text"
      },
      "source": [
        "### 勾配消失もしくは勾配爆発\n",
        "+ RNNレイヤが過去方向に「意味のある勾配」を伝達することによって、時間方向の依存関係を学習することができる。\n",
        " + この勾配が途中で弱まったら、ほとんど何も情報をもたなくなったら、重みのパラメータは更新されなくなる。"
      ]
    },
    {
      "cell_type": "markdown",
      "metadata": {
        "id": "nEcszfPErMWn",
        "colab_type": "text"
      },
      "source": [
        "### 勾配消失もしくは勾配爆発の原因\n",
        "+ 逆伝播において勾配がtanhノードを通るたびに、その値はどんどん小さくなっていく。\n",
        " + tanh関数をT回通過すれば、勾配はT回も繰り返し弱められることになる。\n",
        "   + ReLUを使えば勾配消失を抑えることができる。\n",
        "    + 入力xが0異常であれば、逆伝播では上流の勾配をそのまま下流に流すことになり、勾配の劣化が起こらないから。 "
      ]
    },
    {
      "cell_type": "code",
      "metadata": {
        "id": "irLczolOFbTP",
        "colab_type": "code",
        "colab": {}
      },
      "source": [
        "import numpy as np\n",
        "import matplotlib.pyplot as plt\n",
        "\n",
        "N = 2 # バッチサイズ\n",
        "H = 3 # 隠れ状態ベクトルの次元数\n",
        "T = 20 # 時系列データの長さ\n",
        "\n",
        "dh = np.ones((N, H)) # 初期化\n",
        "np.random.seed(3) # 再現性のため乱数のシードを固定\n",
        "Wh = np.random.randn(H, H)\n",
        "\n",
        "norm_list = []\n",
        "for t in range(T):\n",
        "  dh = np.dot(dh, Wh.T) # 更新\n",
        "  norm = np.sqrt(np.sum(dh**2)) / N\n",
        "  norm_list.append(norm)\n"
      ],
      "execution_count": 0,
      "outputs": []
    },
    {
      "cell_type": "code",
      "metadata": {
        "id": "y39Uznaw9dzn",
        "colab_type": "code",
        "colab": {
          "base_uri": "https://localhost:8080/",
          "height": 357
        },
        "outputId": "312519fb-e833-45f0-db35-1c7d8bd6636f"
      },
      "source": [
        "norm_list"
      ],
      "execution_count": 3,
      "outputs": [
        {
          "output_type": "execute_result",
          "data": {
            "text/plain": [
              "[2.4684068094579303,\n",
              " 3.335704974161037,\n",
              " 4.783279375373183,\n",
              " 6.2795873320876145,\n",
              " 8.080776465019055,\n",
              " 10.25116303229294,\n",
              " 12.9360635066099,\n",
              " 16.276861327786712,\n",
              " 20.454829618345983,\n",
              " 25.688972842084684,\n",
              " 32.25315718048336,\n",
              " 40.48895641683869,\n",
              " 50.824407307019094,\n",
              " 63.79612654485427,\n",
              " 80.07737014308985,\n",
              " 100.51298922051251,\n",
              " 126.16331847536827,\n",
              " 158.3592064825883,\n",
              " 198.77107967611957,\n",
              " 249.495615421267]"
            ]
          },
          "metadata": {
            "tags": []
          },
          "execution_count": 3
        }
      ]
    },
    {
      "cell_type": "code",
      "metadata": {
        "id": "8zhILJuZ9Lrv",
        "colab_type": "code",
        "colab": {
          "base_uri": "https://localhost:8080/",
          "height": 279
        },
        "outputId": "c0194757-c026-4bc4-cf07-c1240887c107"
      },
      "source": [
        "# グラフの描画\n",
        "plt.plot(np.arange(len(norm_list)), norm_list)\n",
        "plt.xticks([0, 4, 9, 14, 19], [1, 5, 10, 15, 20])\n",
        "plt.xlabel('time step')\n",
        "plt.ylabel('norm')\n",
        "plt.show()"
      ],
      "execution_count": 2,
      "outputs": [
        {
          "output_type": "display_data",
          "data": {
            "image/png": "[encoded data removed]",
            "text/plain": [
              "<Figure size 432x288 with 1 Axes>"
            ]
          },
          "metadata": {
            "tags": [],
            "needs_background": "light"
          }
        }
      ]
    },
    {
      "cell_type": "markdown",
      "metadata": {
        "id": "9ZhA44a-9mws",
        "colab_type": "text"
      },
      "source": [
        "勾配の大きさは時間とともに指数関数的に増加していく。"
      ]
    },
    {
      "cell_type": "code",
      "metadata": {
        "id": "CkyKL7n79abE",
        "colab_type": "code",
        "colab": {}
      },
      "source": [
        "dh = np.ones((N, H)) # 初期化\n",
        "np.random.seed(3) # 再現性のため乱数のシードを固定\n",
        "Wh = np.random.randn(H, H) * 0.5\n",
        "\n",
        "norm_list = []\n",
        "for t in range(T):\n",
        "  dh = np.dot(dh, Wh.T) # 更新\n",
        "  norm = np.sqrt(np.sum(dh**2)) / N\n",
        "  norm_list.append(norm)\n"
      ],
      "execution_count": 0,
      "outputs": []
    },
    {
      "cell_type": "code",
      "metadata": {
        "id": "gxQfFLSK90us",
        "colab_type": "code",
        "colab": {
          "base_uri": "https://localhost:8080/",
          "height": 279
        },
        "outputId": "aafae28c-dfff-47d9-e789-c416064752d1"
      },
      "source": [
        "# グラフの描画\n",
        "plt.plot(np.arange(len(norm_list)), norm_list)\n",
        "plt.xticks([0, 4, 9, 14, 19], [1, 5, 10, 15, 20])\n",
        "plt.xlabel('time step')\n",
        "plt.ylabel('norm')\n",
        "plt.show()"
      ],
      "execution_count": 5,
      "outputs": [
        {
          "output_type": "display_data",
          "data": {
            "image/png": "[encoded data removed]",
            "text/plain": [
              "<Figure size 432x288 with 1 Axes>"
            ]
          },
          "metadata": {
            "tags": [],
            "needs_background": "light"
          }
        }
      ]
    },
    {
      "cell_type": "markdown",
      "metadata": {
        "id": "kdrWifqR95s-",
        "colab_type": "text"
      },
      "source": [
        "今度は勾配が指数的に減少している。"
      ]
    },
    {
      "cell_type": "markdown",
      "metadata": {
        "id": "YWxstlRN-DGS",
        "colab_type": "text"
      },
      "source": [
        "行列\\\\( Wh\\\\)をT回繰り返して乗算しているので、指数的な変化が起きてしまう。"
      ]
    },
    {
      "cell_type": "markdown",
      "metadata": {
        "id": "MIgfw2u5-29C",
        "colab_type": "text"
      },
      "source": [
        "### 勾配爆発への対策\n",
        "+ 勾配クリッピング\n",
        " + 勾配のL2ノルムが閾値を超えた場合に勾配を修正する。\n",
        "\n",
        "$$ if \\ \\| \\hat g \\| \\ \\geq threshold \\\\\n",
        "\\hat g = \\frac{threshold}{\\| \\hat g \\|}\\hat g $$"
      ]
    },
    {
      "cell_type": "code",
      "metadata": {
        "id": "GiME8Y8092k_",
        "colab_type": "code",
        "colab": {}
      },
      "source": [
        "import numpy as np\n",
        "\n",
        "dW1 = np.random.rand(3, 3) * 10\n",
        "dW2 = np.random.rand(3, 3) * 10\n",
        "grads = [dW1, dW2]\n",
        "max_norm = 5.0\n",
        "\n",
        "def clip_grads(grads, max_norm):\n",
        "  total_norm = 0\n",
        "  for grad in grads:\n",
        "    total_norm += np.sum(grad ** 2)\n",
        "  total_norm = np.sqrt(total_norm)\n",
        "\n",
        "  rate = max_norm / (total_norm + 1e-6)\n",
        "  if rate < 1:\n",
        "    for grad in grads:\n",
        "      grad *= rate\n",
        "\n",
        "clip_grads(grads, max_norm)"
      ],
      "execution_count": 0,
      "outputs": []
    },
    {
      "cell_type": "markdown",
      "metadata": {
        "id": "fqNejyJ6CJMj",
        "colab_type": "text"
      },
      "source": [
        "## 勾配消失とLSTM\n",
        "+ RNNの学習の際に問題となる、勾配消失問題を解消したい。"
      ]
    },
    {
      "cell_type": "markdown",
      "metadata": {
        "id": "I5jo1MlwCwL4",
        "colab_type": "text"
      },
      "source": [
        "### LSTMのインタフェース\n",
        "+ LSTMにはRNNにはない、記憶セルというものがある。\n",
        "+ LSTMの出力を受け取る側から見ると、LSTMの出力は隠れ状態ベクトルのhだけになり、記憶セルcの情報は外部には見えない。"
      ]
    },
    {
      "cell_type": "markdown",
      "metadata": {
        "id": "wFSVrdKBEDoe",
        "colab_type": "text"
      },
      "source": [
        "### LSTMレイヤの組み立て\n",
        "+ 現在の記憶セル\\\\( c_t\\\\)は3つの入力（\\\\( c_{t-1}, h_{t-1}, x_{t}\\\\)）から何らかの計算によって求めることができる。\n",
        "+ 更新された\\\\( c_t\\\\)を使って、隠れ状態の\\\\( h_t\\\\)が計算される。\n",
        "+ LSTMで使用するゲートは、開く・閉じるの二択ではなく、どれだけゲートを開くか、そしてそれによって、どのくらいの量の水を次へ流すかということをコントロールする。それに関してもデータから自動的に学ばせる。"
      ]
    },
    {
      "cell_type": "markdown",
      "metadata": {
        "id": "KjinpiR0JPKL",
        "colab_type": "text"
      },
      "source": [
        "### outputゲート\n",
        "+ \\\\(  \\tanh (c_t) \\\\)の各要素に対して、それらが次時刻の隠れ状態としてどれだけ重要かということを調整し、\\\\( h_t \\\\)をコントロールする。\n",
        "+ outputゲートの開き具合は\\\\( x_t\\\\)と前の状態\\\\( h_{t-1}\\\\)から求める。\n",
        "\n",
        "$$ o = \\sigma ( x_t W^{(o)}_x + h_{t-1}W_h^{(o)} + b^{(o)}) $$\n",
        "\n",
        "出力はアダマール積で計算\n",
        "$$ h_t = o \\odot \\tanh (c_t) $$\n"
      ]
    },
    {
      "cell_type": "markdown",
      "metadata": {
        "id": "NN8bnvRZSKwL",
        "colab_type": "text"
      },
      "source": [
        "### forgetゲート\n",
        "+ 記憶セルに対して、何を忘れるかを明示的に指示すること。\n",
        "+ \\\\( c_{t-1}\\\\)の記憶から、不要な記憶を忘れるためのゲートを追加する。\n",
        "\n",
        "$$ f = \\sigma (x_t W_x^{(f)} + h_{t-1}W_{h}^{(f)} + b^{(f)} ) $$\n",
        "\n",
        "\n",
        "出力はアダマール積で計算\n",
        "$$c_t = f \\odot c_{t-1}$$"
      ]
    },
    {
      "cell_type": "markdown",
      "metadata": {
        "id": "TYtLJt1wTQMT",
        "colab_type": "text"
      },
      "source": [
        "### 新しい記憶セル\n",
        "+ 新しく覚えるべき情報を記憶セルに追加する。\n",
        " + tanhノードを新たに追加する。\n",
        "\n",
        "\n",
        "$$g = \\tanh (x_t W_x^{(g)} + h_{t-1}W_h^{(g)} + b^{(g)})$$\n",
        "\n",
        "新しい情報を記憶セルに追加することが目的のため、活性化関数にsigmoidではなく、tanh関数を使う。0-1でなくてもいいということ。\n",
        "\n",
        "gが\\\\( c_{t-1}\\\\)に加算されることで、新しい記憶が生まれる。"
      ]
    },
    {
      "cell_type": "markdown",
      "metadata": {
        "id": "I-P3fAMMU4Ui",
        "colab_type": "text"
      },
      "source": [
        "### inputゲート\n",
        "+ gの各要素が新たに追加する情報として、どれだけの価値があるかを判断する。追加する情報の取捨選択を行う。\n",
        "\n",
        "$$ i = \\sigma ( x_t W_x^{(i)} + h_{t-1} W_h^{(i)} + b^{(i)} ) $$\n",
        "\n",
        "出力はアダマール積で計算\n",
        "$$ g \\odot i $$"
      ]
    },
    {
      "cell_type": "markdown",
      "metadata": {
        "id": "u5M9f5v8V8Am",
        "colab_type": "text"
      },
      "source": [
        "### LSTMの勾配の流れ\n",
        "+ LSTMの逆伝播では、行列の積の計算ではなく、要素ごとの積が計算される。\n",
        " + 毎時刻、異なるゲート値によって要素ごとの積の計算が行われる。その結果、勾配消失が起きない。\n",
        " + 忘れるべきと判断した記憶セルの要素に対しては、その勾配の要素は小さくなる。\n",
        " + 忘れてはいけないと導いた要素に対しては、その勾配の要素は劣化することなく過去方向へ伝わる。 "
      ]
    },
    {
      "cell_type": "code",
      "metadata": {
        "id": "Zl1pV62qByen",
        "colab_type": "code",
        "colab": {}
      },
      "source": [
        ""
      ],
      "execution_count": 0,
      "outputs": []
    }
  ]
}