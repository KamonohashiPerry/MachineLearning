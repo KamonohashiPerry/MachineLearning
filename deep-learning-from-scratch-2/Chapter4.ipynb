{
  "nbformat": 4,
  "nbformat_minor": 0,
  "metadata": {
    "colab": {
      "name": "Chapter4",
      "provenance": [],
      "collapsed_sections": [],
      "toc_visible": true,
      "authorship_tag": "ABX9TyPpYRQKc7PdzdkY8Z6BS+hb",
      "include_colab_link": true
    },
    "kernelspec": {
      "name": "python3",
      "display_name": "Python 3"
    },
    "accelerator": "GPU"
  },
  "cells": [
    {
      "cell_type": "markdown",
      "metadata": {
        "id": "view-in-github",
        "colab_type": "text"
      },
      "source": [
        "<a href=\"https://colab.research.google.com/github/KamonohashiPerry/MachineLearning/blob/master/deep-learning-from-scratch-2/Chapter4.ipynb\" target=\"_parent\"><img src=\"https://colab.research.google.com/assets/colab-badge.svg\" alt=\"Open In Colab\"/></a>"
      ]
    },
    {
      "cell_type": "markdown",
      "metadata": {
        "id": "CwR5hvdB2mLc",
        "colab_type": "text"
      },
      "source": [
        "# word2vecの高速化"
      ]
    },
    {
      "cell_type": "markdown",
      "metadata": {
        "id": "yM2gcryw78KO",
        "colab_type": "text"
      },
      "source": [
        "## word2vecの改良1\n",
        "+ 入力層のone-hot表現と重み行列\\\\( W_{in}\\\\)の積による計算\n",
        "+ 中間層と重み行列\\\\( W_{out} \\\\)の積およびSoftmaxレイヤの計算"
      ]
    },
    {
      "cell_type": "markdown",
      "metadata": {
        "id": "HFTfQ2Io-34M",
        "colab_type": "text"
      },
      "source": [
        "### Embeddingレイヤ\n",
        "単語IDに該当する行を抜き出すためのレイヤのこと"
      ]
    },
    {
      "cell_type": "code",
      "metadata": {
        "id": "5_8E6rOw1ox4",
        "colab_type": "code",
        "outputId": "386ed343-c2a9-43d3-baa5-335240ecab1a",
        "colab": {
          "base_uri": "https://localhost:8080/",
          "height": 85
        }
      },
      "source": [
        "GPU = True\n",
        "\n",
        "if GPU:\n",
        "    import cupy as np\n",
        "    np.cuda.set_allocator(np.cuda.MemoryPool().malloc)\n",
        "\n",
        "    print('\\033[92m' + '-' * 60 + '\\033[0m')\n",
        "    print(' ' * 23 + '\\033[92mGPU Mode (cupy)\\033[0m')\n",
        "    print('\\033[92m' + '-' * 60 + '\\033[0m\\n')\n",
        "else:\n",
        "    import numpy as np"
      ],
      "execution_count": 0,
      "outputs": [
        {
          "output_type": "stream",
          "text": [
            "\u001b[92m------------------------------------------------------------\u001b[0m\n",
            "                       \u001b[92mGPU Mode (cupy)\u001b[0m\n",
            "\u001b[92m------------------------------------------------------------\u001b[0m\n",
            "\n"
          ],
          "name": "stdout"
        }
      ]
    },
    {
      "cell_type": "markdown",
      "metadata": {
        "id": "AJmnJZxEEE-d",
        "colab_type": "text"
      },
      "source": [
        "### Embeddingレイヤの実装"
      ]
    },
    {
      "cell_type": "code",
      "metadata": {
        "id": "BIzjIyGREHr5",
        "colab_type": "code",
        "outputId": "33e841e7-b83b-4df1-eed8-99f9a33f7fa6",
        "colab": {
          "base_uri": "https://localhost:8080/",
          "height": 136
        }
      },
      "source": [
        "# import numpy as np\n",
        "W = np.arange(21).reshape(7, 3)\n",
        "W"
      ],
      "execution_count": 0,
      "outputs": [
        {
          "output_type": "execute_result",
          "data": {
            "text/plain": [
              "array([[ 0,  1,  2],\n",
              "       [ 3,  4,  5],\n",
              "       [ 6,  7,  8],\n",
              "       [ 9, 10, 11],\n",
              "       [12, 13, 14],\n",
              "       [15, 16, 17],\n",
              "       [18, 19, 20]])"
            ]
          },
          "metadata": {
            "tags": []
          },
          "execution_count": 110
        }
      ]
    },
    {
      "cell_type": "code",
      "metadata": {
        "id": "RgQRTzP6ET1c",
        "colab_type": "code",
        "outputId": "8d9b4504-4ee9-4270-dbad-b5c7b9559269",
        "colab": {
          "base_uri": "https://localhost:8080/",
          "height": 34
        }
      },
      "source": [
        "W[2]"
      ],
      "execution_count": 0,
      "outputs": [
        {
          "output_type": "execute_result",
          "data": {
            "text/plain": [
              "array([6, 7, 8])"
            ]
          },
          "metadata": {
            "tags": []
          },
          "execution_count": 111
        }
      ]
    },
    {
      "cell_type": "code",
      "metadata": {
        "id": "uQJh1VMaEXqV",
        "colab_type": "code",
        "outputId": "10256a66-5567-4be7-d8d2-afe7f7435a0d",
        "colab": {
          "base_uri": "https://localhost:8080/",
          "height": 34
        }
      },
      "source": [
        "W[5]"
      ],
      "execution_count": 0,
      "outputs": [
        {
          "output_type": "execute_result",
          "data": {
            "text/plain": [
              "array([15, 16, 17])"
            ]
          },
          "metadata": {
            "tags": []
          },
          "execution_count": 112
        }
      ]
    },
    {
      "cell_type": "code",
      "metadata": {
        "id": "is9jQgH2EYi8",
        "colab_type": "code",
        "outputId": "f73c832c-3830-46f5-d23a-2aa6c74ec85d",
        "colab": {
          "base_uri": "https://localhost:8080/",
          "height": 85
        }
      },
      "source": [
        "idx = np.array([1, 0, 3, 0])\n",
        "W[idx]"
      ],
      "execution_count": 0,
      "outputs": [
        {
          "output_type": "execute_result",
          "data": {
            "text/plain": [
              "array([[ 3,  4,  5],\n",
              "       [ 0,  1,  2],\n",
              "       [ 9, 10, 11],\n",
              "       [ 0,  1,  2]])"
            ]
          },
          "metadata": {
            "tags": []
          },
          "execution_count": 113
        }
      ]
    },
    {
      "cell_type": "code",
      "metadata": {
        "id": "Y54sYS9VEsdQ",
        "colab_type": "code",
        "colab": {}
      },
      "source": [
        "class Embedding:\n",
        "    def __init__(self, W):\n",
        "        self.params = [W]\n",
        "        self.grads = [np.zeros_like(W)]\n",
        "        self.idx = None\n",
        "\n",
        "    def forward(self, idx):\n",
        "        W, = self.params\n",
        "        self.idx = idx\n",
        "        out = W[idx]\n",
        "        return out\n",
        "\n",
        "    def backward(self, dout):\n",
        "        dW, = self.grads\n",
        "        dW[...] = 0\n",
        "        if GPU:\n",
        "            np.scatter_add(dW, self.idx, dout)\n",
        "        else:\n",
        "            np.add.at(dW, self.idx, dout)\n",
        "        return None"
      ],
      "execution_count": 0,
      "outputs": []
    },
    {
      "cell_type": "markdown",
      "metadata": {
        "id": "8boRdVZFH6X2",
        "colab_type": "text"
      },
      "source": [
        "## word2vecの改良2\n",
        "Negative Sampling"
      ]
    },
    {
      "cell_type": "markdown",
      "metadata": {
        "id": "MZYMNh79IRUs",
        "colab_type": "text"
      },
      "source": [
        "### 中間層以降の計算の問題点\n",
        "+ 中間層のニューロンと重み行列\\\\( W_{out} \\\\)の積\n",
        " + 巨大な行列の積は計算に多くの時間を要する。\n",
        "  + 逆伝播の際も行列の積の計算をするので軽くしたほうがいい。\n",
        "+ Softmaxレイヤの計算\n",
        " + 語彙数が増えるに従い、Softmaxも計算量が増加する。\n",
        "\n",
        "$$ y_k = \\frac{e^{s_k}}{\\sum^{1000000}_{i=1}e^{s_i}} $$"
      ]
    },
    {
      "cell_type": "markdown",
      "metadata": {
        "id": "N_0FWAyLVLrq",
        "colab_type": "text"
      },
      "source": [
        "### 多値分類から二値分類へ\n",
        "+ 多値分類を二値分類で近似するというアイデア。\n",
        "+ これまでの出力層では、すべての単語を対象に計算を行った。Negative Samplingでは一つの単語だけに着目し、そのスコアだけを計算する。そのスコアを確率に変換するために、シグモイド関数を適用する。"
      ]
    },
    {
      "cell_type": "markdown",
      "metadata": {
        "id": "9EE7lVKKYGLJ",
        "colab_type": "text"
      },
      "source": [
        "### シグモイド関数と交差エントロピー誤差\n",
        "+ 二値分類の問題をニューラルネットワークで解くには\n",
        " + スコアにシグモイド関数を適用して確率を得る\n",
        " + 損失関数として交差エントロピー誤差を使用\n",
        "\n",
        "+ 多値分類の問題をニューラルネットワークで解くには\n",
        " + スコアにソフトマックス関数を適用して確率を得る\n",
        " + 損失関数として交差エントロピー誤差を使用\n",
        "\n",
        "\n",
        "シグモイド関数\n",
        "$$y = \\frac{1}{1+e^{-x}}$$\n",
        "\n",
        "\n",
        "交差エントロピー誤差\n",
        "$$ L = - (t \\log y + (1-t) \\log (1-y) ) $$\n"
      ]
    },
    {
      "cell_type": "markdown",
      "metadata": {
        "id": "4P_Q7j7wbwgo",
        "colab_type": "text"
      },
      "source": [
        "### 多値分類から二値分類へ（実装編）\n",
        "+ 中間層のニューロンをhとして、出力側の重み\\\\( W_{out} \\\\)の単語に対応する単語ベクトルの内積を計算\n",
        "+ その出力をSigmoid with Lossレイヤに入れることで、最終的な損失を得る"
      ]
    },
    {
      "cell_type": "code",
      "metadata": {
        "id": "IeIY4uhfFeYd",
        "colab_type": "code",
        "colab": {}
      },
      "source": [
        "class EmbeddingDot:\n",
        "  def __init__(self, W):\n",
        "    # 4つのメンバ変数\n",
        "    self.embed = Embedding(W)\n",
        "    self.params = self.embed.params\n",
        "    self.grads = self.embed.grads\n",
        "    self.cache = None # 順伝播の計算結果を一時的に保持\n",
        "\n",
        "  def forward(self, h, idx):\n",
        "    target_W = self.embed.forward(idx) # ミニバッチ処理を想定\n",
        "    out = np.sum(target_W * h, axis=1)\n",
        "\n",
        "    self.cache = (h, target_W)\n",
        "    return out\n",
        "\n",
        "  def backward(self, dout):\n",
        "    h, target_W = self.cache\n",
        "    dout = dout.reshape(dout.shape[0], 1)\n",
        "\n",
        "    dtarget_W = dout * h\n",
        "    self.embed.backward(dtarget_W)\n",
        "    dh = dout * target_W\n",
        "    return dh"
      ],
      "execution_count": 0,
      "outputs": []
    },
    {
      "cell_type": "markdown",
      "metadata": {
        "id": "mEjyJ43KhOiW",
        "colab_type": "text"
      },
      "source": [
        "### Negative Sampling\n",
        "+ 正例だけで学習しても意味がないので、負例も必要。ただし、負例を全部含めると数が膨大になる。そこで近似解として負例をいくつかピックアップする。ネガティヴな例（負例）を少数サンプリングして用いる。\n",
        "+ 正例をターゲットにした場合、損失をもとめ、負例をいくつかサンプリングし、負例に対しても損失をもとめる。それぞれの損失を足し合わせ、その結果を最終的な損失とする。"
      ]
    },
    {
      "cell_type": "markdown",
      "metadata": {
        "id": "MZ1T9ujbjGtw",
        "colab_type": "text"
      },
      "source": [
        "### Negative Samplingのサンプリング手法\n",
        "+ コーパスの統計データにもとづいてサンプリングを行う。\n",
        " + コーパス中での単語の使用頻度に基づいてサンプリングするには、コーパスから各単語の出現した回数をもとめ、これを確率分布で表す。その確率分布から単語をサンプリングする。\n",
        "  + レアな単語は出現しにくくなる。その方が精度上望ましい。"
      ]
    },
    {
      "cell_type": "code",
      "metadata": {
        "id": "GzmwAYowegjm",
        "colab_type": "code",
        "colab": {}
      },
      "source": [
        "# import numpy as np"
      ],
      "execution_count": 0,
      "outputs": []
    },
    {
      "cell_type": "code",
      "metadata": {
        "id": "QoDZzN6_k2Hp",
        "colab_type": "code",
        "colab": {}
      },
      "source": [
        "# 0から9の数字の中から一つの数字をランダムにサンプリング\n",
        "# np.random.choice(10)"
      ],
      "execution_count": 0,
      "outputs": []
    },
    {
      "cell_type": "code",
      "metadata": {
        "id": "pacOMEprlBQG",
        "colab_type": "code",
        "colab": {}
      },
      "source": [
        "# np.random.choice(10)"
      ],
      "execution_count": 0,
      "outputs": []
    },
    {
      "cell_type": "code",
      "metadata": {
        "id": "xMTAORPglDlR",
        "colab_type": "code",
        "colab": {}
      },
      "source": [
        "# wordsから一つだけランダムにサンプリング\n",
        "words = ['you', 'say', 'goodbye', 'I', 'hello', '.']\n",
        "# np.random.choice(words)"
      ],
      "execution_count": 0,
      "outputs": []
    },
    {
      "cell_type": "code",
      "metadata": {
        "id": "KAW4J7VClUoM",
        "colab_type": "code",
        "colab": {}
      },
      "source": [
        "# 5つだけランダムサンプリング（重複あり）\n",
        "# np.random.choice(words, size=5)"
      ],
      "execution_count": 0,
      "outputs": []
    },
    {
      "cell_type": "code",
      "metadata": {
        "id": "P1aYYTopliB5",
        "colab_type": "code",
        "colab": {}
      },
      "source": [
        "# 5つだけランダムサンプリング（重複なし）\n",
        "# np.random.choice(words, size=5, replace=False)"
      ],
      "execution_count": 0,
      "outputs": []
    },
    {
      "cell_type": "code",
      "metadata": {
        "id": "TQS506AklpZx",
        "colab_type": "code",
        "colab": {}
      },
      "source": [
        "# 確率分布に従ってサンプリング\n",
        "p = [0.5, 0.1, 0.05, 0.2, 0.05, 0.1]\n",
        "# np.random.choice(words, p=p)"
      ],
      "execution_count": 0,
      "outputs": []
    },
    {
      "cell_type": "markdown",
      "metadata": {
        "id": "rxHLM3KVmVB1",
        "colab_type": "text"
      },
      "source": [
        "word2vecのNegative Sampling\n",
        "$$ P'(W_i) = \\frac{P(w_i)^{0.75}}{\\sum_j^n P(w_j)^{0.75}} $$\n",
        "\n",
        "出現確率の低い単語を見捨てないようにするため。0.75に理論的な意味付けはない。"
      ]
    },
    {
      "cell_type": "code",
      "metadata": {
        "id": "n3G-u35fl261",
        "colab_type": "code",
        "colab": {}
      },
      "source": [
        "# p = [0.7, 0.29, 0.01]\n",
        "# new_p = np.power(p, 0.75)\n",
        "# new_p /= np.sum(new_p)\n",
        "# print(new_p)"
      ],
      "execution_count": 0,
      "outputs": []
    },
    {
      "cell_type": "code",
      "metadata": {
        "id": "ziGaNxkSnAAa",
        "colab_type": "code",
        "colab": {}
      },
      "source": [
        "# UnigramSampler\n",
        "\n",
        "import collections\n",
        "\n",
        "class UnigramSampler:\n",
        "  def __init__(self, corpus, power, sample_size):\n",
        "    self.sample_size = sample_size\n",
        "    self.vocab_size = None\n",
        "    self.word_p = None\n",
        "\n",
        "    counts = collections.Counter()\n",
        "    for word_id in corpus:\n",
        "      counts[word_id] += 1\n",
        "\n",
        "    vocab_size = len(counts)\n",
        "    self.vocab_size = vocab_size\n",
        "\n",
        "    self.word_p = np.zeros(vocab_size)\n",
        "    for i in range(vocab_size):\n",
        "      self.word_p[i] = counts[i]\n",
        "\n",
        "    self.word_p = np.power(self.word_p, power)\n",
        "    self.word_p /= np.sum(self.word_p)\n",
        "\n",
        "  def get_negative_sample(self, target):\n",
        "    batch_size = target.shape[0]\n",
        "\n",
        "    if not GPU:\n",
        "      negative_sample = np.zeros((batch_size, self.sample_size), dtype=np.int32)\n",
        "\n",
        "      for i in range(batch_size):\n",
        "        p = self.word_p.copy()\n",
        "        target_idx = target[i]\n",
        "        p[target_idx] = 0\n",
        "        p /= p.sum()\n",
        "        negative_sample[i, :] = np.random.choice((self.vocab_size, self.sample_size),replace=False, p=p)\n",
        "    else:\n",
        "      # GPU(cupy)で計算するときは、速度を優先\n",
        "      # 負例にターゲットが含まれるケースがある\n",
        "      negative_sample = np.random.choice(self.vocab_size, size=(batch_size, self.sample_size),replace=True, p=self.word_p)\n",
        "\n",
        "    return negative_sample"
      ],
      "execution_count": 0,
      "outputs": []
    },
    {
      "cell_type": "code",
      "metadata": {
        "id": "icNFoBfQrNkN",
        "colab_type": "code",
        "colab": {}
      },
      "source": [
        "# # GPU = False\n",
        "\n",
        "# corpus = np.array([0, 1, 2, 3, 4, 1, 2, 3])\n",
        "# power = 0.75\n",
        "# sample_size = 2\n",
        "\n",
        "# sampler = UnigramSampler(corpus, power, sample_size)\n",
        "# target = np.array([1, 3, 0])\n",
        "# negative_sample = sampler.get_negative_sample(target)\n",
        "# print(negative_sample)"
      ],
      "execution_count": 0,
      "outputs": []
    },
    {
      "cell_type": "markdown",
      "metadata": {
        "id": "2SszCTJitcss",
        "colab_type": "text"
      },
      "source": [
        "### Negative Samplingの実装"
      ]
    },
    {
      "cell_type": "code",
      "metadata": {
        "id": "i7hdCoquvBes",
        "colab_type": "code",
        "colab": {}
      },
      "source": [
        "class Sigmoid:\n",
        "    def __init__(self):\n",
        "        self.params, self.grads = [], []\n",
        "        self.out = None\n",
        "\n",
        "    def forward(self, x):\n",
        "        out = 1 / (1 + np.exp(-x))\n",
        "        self.out = out\n",
        "        return out\n",
        "\n",
        "    def backward(self, dout):\n",
        "        dx = dout * (1.0 - self.out) * self.out\n",
        "        return dx\n",
        "\n",
        "\n",
        "def cross_entropy_error(y, t):\n",
        "  if y.ndim == 1:\n",
        "    t = t.reshape(1, t.size)\n",
        "    y = y.reshape(1, y.size)\n",
        "\n",
        "  # 教師データがone-hot-vectorの場合、正解ラベルのインデックスに変換\n",
        "  if t.size == y.size:\n",
        "    t = t.argmax(axis=1)\n",
        "\n",
        "  batch_size = y.shape[0]\n",
        "\n",
        "  return -np.sum(np.log(y[np.arange(batch_size), t] + 1e-7)) / batch_size\n",
        "\n",
        "\n",
        "class SigmoidWithLoss:\n",
        "    def __init__(self):\n",
        "        self.params, self.grads = [], []\n",
        "        self.loss = None\n",
        "        self.y = None  # sigmoidの出力\n",
        "        self.t = None  # 教師データ\n",
        "\n",
        "    def forward(self, x, t):\n",
        "        self.t = t\n",
        "        self.y = 1 / (1 + np.exp(-x))\n",
        "\n",
        "        self.loss = cross_entropy_error(np.c_[1 - self.y, self.y], self.t)\n",
        "\n",
        "        return self.loss\n",
        "\n",
        "    def backward(self, dout=1):\n",
        "        batch_size = self.t.shape[0]\n",
        "\n",
        "        dx = (self.y - self.t) * dout / batch_size\n",
        "        return dx"
      ],
      "execution_count": 0,
      "outputs": []
    },
    {
      "cell_type": "code",
      "metadata": {
        "id": "l4ysA25Mr7nr",
        "colab_type": "code",
        "colab": {}
      },
      "source": [
        "class NegativeSamplingLoss:\n",
        "  def __init__(self, W, corpus, power=0.75, sample_size=5):\n",
        "    import numpy as nump\n",
        "    self.sample_size = sample_size\n",
        "    self.sampler = UnigramSampler(corpus, power, sample_size)\n",
        "    # 正例用のレイヤをひとつ、負例用のレイヤをsample_size個だけ生成する\n",
        "    self.loss_layers = [SigmoidWithLoss() for _ in range(sample_size + 1) ]\n",
        "    self.embed_dot_layers = [EmbeddingDot(W) for _ in range(sample_size + 1)]\n",
        "    self.params, self.grads = [], []\n",
        "    for layer in self.embed_dot_layers:\n",
        "      self.params += layer.params\n",
        "      self.grads += layer.grads\n",
        "\n",
        "  # 中間層のニューロンhと正例のターゲットを受け取る\n",
        "  def forward(self, h, target):\n",
        "    import numpy as nump\n",
        "    batch_size = target.shape[0]\n",
        "    negative_sample = self.sampler.get_negative_sample(target)\n",
        "\n",
        "    # 正例のフォワード\n",
        "    score = self.embed_dot_layers[0].forward(h, target)\n",
        "    correct_label = nump.ones(batch_size, dtype=nump.int32)\n",
        "\n",
        "    # 損失をもとめる\n",
        "    loss = self.loss_layers[0].forward(score, correct_label)\n",
        "\n",
        "    # 負例のフォワード\n",
        "    negative_label = nump.zeros(batch_size, dtype=nump.int32)\n",
        "    for i in range(self.sample_size):\n",
        "      negative_target = negative_sample[:, i]\n",
        "      score = self.embed_dot_layers[1 + i].forward(h, negative_target)\n",
        "      # 損失をもとめる\n",
        "      loss += self.loss_layers[1 + i].forward(score, negative_label)\n",
        "\n",
        "    return loss\n",
        "\n",
        "  # 逆伝播\n",
        "  def backward(self, dout=1):\n",
        "    dh = 0\n",
        "    for l0, l1 in zip(self.loss_layers, self.embed_dot_layers):\n",
        "      dscore = l0.backward(dout)\n",
        "      dh += l1.backward(dscore)\n",
        "    return dh"
      ],
      "execution_count": 0,
      "outputs": []
    },
    {
      "cell_type": "markdown",
      "metadata": {
        "id": "dMBdKXozWCrq",
        "colab_type": "text"
      },
      "source": [
        "## 改良版word2vecの学習"
      ]
    },
    {
      "cell_type": "markdown",
      "metadata": {
        "id": "WjPrwNfUWIQa",
        "colab_type": "text"
      },
      "source": [
        "### CBOWモデルの実装"
      ]
    },
    {
      "cell_type": "code",
      "metadata": {
        "id": "ApLTt2d3xipP",
        "colab_type": "code",
        "colab": {}
      },
      "source": [
        "class CBOW:\n",
        "  def __init__(self, vocab_size, hidden_size, window_size, corpus):\n",
        "    V, H = vocab_size, hidden_size\n",
        "\n",
        "    # 重みの初期化\n",
        "    W_in = 0.01 * np.random.randn(V, H).astype('f')\n",
        "    W_out = 0.01 * np.random.randn(V, H).astype('f')\n",
        "\n",
        "    # レイヤの生成\n",
        "    self.in_layers = []\n",
        "    for i in range(2 * window_size):\n",
        "      layer = Embedding(W_in) # Embeddingレイヤを使用\n",
        "      self.in_layers.append(layer)\n",
        "    self.ns_loss = NegativeSamplingLoss(W_out, corpus, power=0.75, sample_size=5)\n",
        "\n",
        "    # すべての重みと勾配を配列にまとめる\n",
        "    layers = self.in_layers + [self.ns_loss]\n",
        "    self.params, self.grads = [], []\n",
        "    for layer in layers:\n",
        "      self.params += layer.params\n",
        "      self.grads += layer.grads\n",
        "\n",
        "    # メンバ変数に単語の分散表現を設定\n",
        "    self.word_vecs = W_in\n",
        "\n",
        "  def forward(self, contexts, target):\n",
        "    h = 0\n",
        "    for i, layer in enumerate(self.in_layers):\n",
        "      h += layer.forward(contexts[:, i])\n",
        "    h *= 1 / len(self.in_layers)\n",
        "    loss = self.ns_loss.forward(h, target)\n",
        "    return loss\n",
        "\n",
        "  def backward(self, dout=1):\n",
        "    dout = self.ns_loss.backward(dout)\n",
        "    dout *= 1 / len(self.in_layers)\n",
        "    for layer in self.in_layers:\n",
        "      layer.backward(dout)\n",
        "    return None"
      ],
      "execution_count": 0,
      "outputs": []
    },
    {
      "cell_type": "markdown",
      "metadata": {
        "id": "ud3bUUlDaanb",
        "colab_type": "text"
      },
      "source": [
        "### CBOWモデルの学習コード"
      ]
    },
    {
      "cell_type": "code",
      "metadata": {
        "id": "CZqAYY8Mw1NL",
        "colab_type": "code",
        "colab": {}
      },
      "source": [
        "import pickle\n",
        "import time\n",
        "\n",
        "def create_contexts_target(corpus, window_size=1):\n",
        "  target = corpus[window_size:-window_size]\n",
        "  contexts = []\n",
        "\n",
        "  for idx in range(window_size, len(corpus) - window_size):\n",
        "    cs = []\n",
        "    for t in range(-window_size, window_size + 1):\n",
        "      if t == 0:\n",
        "        continue\n",
        "      cs.append(corpus[idx + t])\n",
        "    contexts.append(cs)\n",
        "\n",
        "  return np.array(contexts), np.array(target)\n",
        "\n",
        "def remove_duplicate(params, grads):\n",
        "    '''\n",
        "    パラメータ配列中の重複する重みをひとつに集約し、\n",
        "    その重みに対応する勾配を加算する\n",
        "    '''\n",
        "    params, grads = params[:], grads[:]\n",
        "\n",
        "    while True:\n",
        "      find_flg = False\n",
        "      L = len(params)\n",
        "\n",
        "      for i in range(0, L - 1):\n",
        "        for j in range(i + 1, L):\n",
        "          # 重みを共有する場合\n",
        "          if params[i] is params[j]:\n",
        "            grads[i] += grads[j] # 勾配の加算\n",
        "            find_flg = True\n",
        "            params.pop(j)\n",
        "            grads.pop(j)\n",
        "          # 転置行列として重みを共有する場合\n",
        "          elif params[i].ndim == 2 and params[j].ndim == 2 \\\n",
        "              and params[i].T.shape == params[j].shape \\\n",
        "              and np.all(params[i].T == params[j]):\n",
        "            grads[i] += grads[j].T\n",
        "            find_flg = True\n",
        "            params.pop(j)\n",
        "            grads.pop(j)\n",
        "\n",
        "          if find_flg:\n",
        "            break\n",
        "\n",
        "        if find_flg:\n",
        "          break\n",
        "\n",
        "      if not find_flg:\n",
        "        break\n",
        "\n",
        "    return params, grads\n",
        "\n",
        "\n",
        "def clip_grads(grads, max_norm):\n",
        "    total_norm = 0\n",
        "    for grad in grads:\n",
        "        total_norm += np.sum(grad ** 2)\n",
        "    total_norm = np.sqrt(total_norm)\n",
        "\n",
        "    rate = max_norm / (total_norm + 1e-6)\n",
        "    if rate < 1:\n",
        "        for grad in grads:\n",
        "            grad *= rate\n",
        "\n",
        "\n",
        "def to_cpu(x):\n",
        "    import numpy\n",
        "    if type(x) == numpy.ndarray:\n",
        "        return x\n",
        "    return np.asnumpy(x)\n",
        "\n",
        "\n",
        "def to_gpu(x):\n",
        "    import cupy\n",
        "    if type(x) == cupy.ndarray:\n",
        "        return x\n",
        "    return cupy.asarray(x)\n",
        "\n",
        "\n",
        "class Trainer:\n",
        "  def __init__(self, model, optimizer):\n",
        "    self.model = model\n",
        "    self.optimizer = optimizer\n",
        "    self.loss_list = []\n",
        "    self.eval_interval = None\n",
        "    self.current_epoch = 0\n",
        "\n",
        "  def fit(self, x, t, max_epoch=10, batch_size=32, max_grad=None,eval_interval=20):\n",
        "    data_size = len(x)\n",
        "    max_iters = data_size // batch_size\n",
        "    self.eval_interval = eval_interval\n",
        "    model, optimizer = self.model, self.optimizer\n",
        "    total_loss = 0\n",
        "    loss_count = 0\n",
        "\n",
        "    start_time = time.time()\n",
        "    for epoch in range(max_epoch):\n",
        "      # シャッフル\n",
        "      idx = np.random.permutation(np.arange(data_size))\n",
        "      x = x[idx]\n",
        "      t = t[idx]\n",
        "\n",
        "      for iters in range(max_iters):\n",
        "        batch_x = x[iters*batch_size:(iters+1)*batch_size]\n",
        "        batch_t = t[iters*batch_size:(iters+1)*batch_size]\n",
        "\n",
        "        # 勾配を求め、パラメータを更新\n",
        "        loss = model.forward(batch_x, batch_t)\n",
        "        model.backward()\n",
        "        params, grads = remove_duplicate(model.params, model.grads) # 共有された重みを1つに集約\n",
        "\n",
        "        if max_grad is not None:\n",
        "          clip_grads(grads, max_grad)\n",
        "        optimizer.update(params, grads)\n",
        "        total_loss += loss\n",
        "        loss_count += 1\n",
        "\n",
        "        # 評価\n",
        "        if (eval_interval is not None) and (iters % eval_interval) == 0:\n",
        "          avg_loss = total_loss / loss_count\n",
        "          elapsed_time = time.time() - start_time\n",
        "          print('| epoch %d | iter %d / %d | time %d[s] | loss %.2f' % (self.current_epoch + 1, iters + 1, max_iters, elapsed_time, avg_loss))\n",
        "          self.loss_list.append(float(avg_loss))\n",
        "          total_loss, loss_count = 0, 0\n",
        "\n",
        "      self.current_epoch += 1\n",
        "\n",
        "  def plot(self, ylim=None):\n",
        "      x = np.arange(len(self.loss_list))\n",
        "      if ylim is not None:\n",
        "        plt.ylim(*ylim)\n",
        "      plt.plot(x, self.loss_list, label='train')\n",
        "      plt.xlabel('iterations (x' + str(self.eval_interval) + ')')\n",
        "      plt.ylabel('loss')\n",
        "      plt.show()\n",
        "\n",
        "\n",
        "class Adam:\n",
        "    '''\n",
        "    Adam (http://arxiv.org/abs/1412.6980v8)\n",
        "    '''\n",
        "    def __init__(self, lr=0.001, beta1=0.9, beta2=0.999):\n",
        "      self.lr = lr\n",
        "      self.beta1 = beta1\n",
        "      self.beta2 = beta2\n",
        "      self.iter = 0\n",
        "      self.m = None\n",
        "      self.v = None\n",
        "\n",
        "    def update(self, params, grads):\n",
        "      if self.m is None:\n",
        "        self.m, self.v = [], []\n",
        "        for param in params:\n",
        "          self.m.append(np.zeros_like(param))\n",
        "          self.v.append(np.zeros_like(param))\n",
        "\n",
        "      self.iter += 1\n",
        "      lr_t = self.lr * np.sqrt(1.0 - self.beta2**self.iter) / (1.0 - self.beta1**self.iter)\n",
        "\n",
        "      for i in range(len(params)):\n",
        "        self.m[i] += (1 - self.beta1)*(grads[i] - self.m[i])\n",
        "        self.v[i] += (1 - self.beta2)*(grads[i]**2 - self.v[i])\n",
        "\n",
        "        params[i] -= lr_t * self.m[i] / (np.sqrt(self.v[i]) + 1e-7 )"
      ],
      "execution_count": 0,
      "outputs": []
    },
    {
      "cell_type": "code",
      "metadata": {
        "id": "wBv9A8Fciucd",
        "colab_type": "code",
        "colab": {}
      },
      "source": [
        "class EmbeddingDot:\n",
        "    def __init__(self, W):\n",
        "        self.embed = Embedding(W)\n",
        "        self.params = self.embed.params\n",
        "        self.grads = self.embed.grads\n",
        "        self.cache = None\n",
        "\n",
        "    def forward(self, h, idx):\n",
        "        target_W = self.embed.forward(idx)\n",
        "        out = np.sum(target_W * h, axis=1)\n",
        "\n",
        "        self.cache = (h, target_W)\n",
        "        return out\n",
        "\n",
        "    def backward(self, dout):\n",
        "        h, target_W = self.cache\n",
        "        dout = dout.reshape(dout.shape[0], 1)\n",
        "\n",
        "        dtarget_W = dout * h\n",
        "        self.embed.backward(dtarget_W)\n",
        "        dh = dout * target_W\n",
        "        return dh"
      ],
      "execution_count": 0,
      "outputs": []
    },
    {
      "cell_type": "code",
      "metadata": {
        "id": "HLE1Vt3HfnD4",
        "colab_type": "code",
        "colab": {}
      },
      "source": [
        "import sys\n",
        "import os\n",
        "sys.path.append('..')\n",
        "try:\n",
        "    import urllib.request\n",
        "except ImportError:\n",
        "    raise ImportError('Use Python3!')\n",
        "import pickle\n",
        "# import numpy as np\n",
        "\n",
        "\n",
        "url_base = 'https://raw.githubusercontent.com/tomsercu/lstm/master/data/'\n",
        "key_file = {\n",
        "    'train':'ptb.train.txt',\n",
        "    'test':'ptb.test.txt',\n",
        "    'valid':'ptb.valid.txt'\n",
        "}\n",
        "save_file = {\n",
        "    'train':'ptb.train.npy',\n",
        "    'test':'ptb.test.npy',\n",
        "    'valid':'ptb.valid.npy'\n",
        "}\n",
        "vocab_file = 'ptb.vocab.pkl'\n",
        "\n",
        "dataset_dir = os.path.dirname(os.path.abspath('/content'))\n",
        "\n",
        "def _download(file_name):\n",
        "    file_path = dataset_dir + '/' + file_name\n",
        "    if os.path.exists(file_path):\n",
        "        return\n",
        "\n",
        "    print('Downloading ' + file_name + ' ... ')\n",
        "\n",
        "    try:\n",
        "        urllib.request.urlretrieve(url_base + file_name, file_path)\n",
        "    except urllib.error.URLError:\n",
        "        import ssl\n",
        "        ssl._create_default_https_context = ssl._create_unverified_context\n",
        "        urllib.request.urlretrieve(url_base + file_name, file_path)\n",
        "\n",
        "    print('Done')\n",
        "\n",
        "def load_vocab():\n",
        "    vocab_path = dataset_dir + '/' + vocab_file\n",
        "\n",
        "    if os.path.exists(vocab_path):\n",
        "        with open(vocab_path, 'rb') as f:\n",
        "            word_to_id, id_to_word = pickle.load(f)\n",
        "        return word_to_id, id_to_word\n",
        "\n",
        "    word_to_id = {}\n",
        "    id_to_word = {}\n",
        "    data_type = 'train'\n",
        "    file_name = key_file[data_type]\n",
        "    file_path = dataset_dir + '/' + file_name\n",
        "\n",
        "    _download(file_name)\n",
        "\n",
        "    words = open(file_path).read().replace('\\n', '<eos>').strip().split()\n",
        "\n",
        "    for i, word in enumerate(words):\n",
        "        if word not in word_to_id:\n",
        "            tmp_id = len(word_to_id)\n",
        "            word_to_id[word] = tmp_id\n",
        "            id_to_word[tmp_id] = word\n",
        "\n",
        "    with open(vocab_path, 'wb') as f:\n",
        "        pickle.dump((word_to_id, id_to_word), f)\n",
        "\n",
        "    return word_to_id, id_to_word\n",
        "\n",
        "\n",
        "\n",
        "def load_data(data_type='train'):\n",
        "    '''\n",
        "        :param data_type: データの種類：'train' or 'test' or 'valid (val)'\n",
        "        :return:\n",
        "    '''\n",
        "    if data_type == 'val': data_type = 'valid'\n",
        "    save_path = dataset_dir + '/' + save_file[data_type]\n",
        "\n",
        "    word_to_id, id_to_word = load_vocab()\n",
        "\n",
        "    if os.path.exists(save_path):\n",
        "        corpus = np.load(save_path)\n",
        "        return corpus, word_to_id, id_to_word\n",
        "\n",
        "    file_name = key_file[data_type]\n",
        "    file_path = dataset_dir + '/' + file_name\n",
        "    _download(file_name)\n",
        "\n",
        "    words = open(file_path).read().replace('\\n', '<eos>').strip().split()\n",
        "    corpus = np.array([word_to_id[w] for w in words])\n",
        "\n",
        "    np.save(save_path, corpus)\n",
        "    return corpus, word_to_id, id_to_word"
      ],
      "execution_count": 0,
      "outputs": []
    },
    {
      "cell_type": "code",
      "metadata": {
        "id": "OTuO_HWigJOX",
        "colab_type": "code",
        "colab": {}
      },
      "source": [
        "# ハイパーパラメータの設定\n",
        "window_size = 5\n",
        "hidden_size = 100\n",
        "batch_size = 100\n",
        "max_epoch = 10\n",
        "\n",
        "# データの読み込み\n",
        "corpus, word_to_id, id_to_word = load_data('train')\n",
        "vocab_size = len(word_to_id)"
      ],
      "execution_count": 0,
      "outputs": []
    },
    {
      "cell_type": "code",
      "metadata": {
        "id": "QBcsYXQrwJMa",
        "colab_type": "code",
        "colab": {}
      },
      "source": [
        "import numpy as np"
      ],
      "execution_count": 0,
      "outputs": []
    },
    {
      "cell_type": "code",
      "metadata": {
        "id": "eaCiq7bjuz8S",
        "colab_type": "code",
        "colab": {}
      },
      "source": [
        "contexts, target = create_contexts_target(corpus, window_size)"
      ],
      "execution_count": 0,
      "outputs": []
    },
    {
      "cell_type": "code",
      "metadata": {
        "id": "V7d7xXa1wktT",
        "colab_type": "code",
        "colab": {}
      },
      "source": [
        "import cupy as np"
      ],
      "execution_count": 0,
      "outputs": []
    },
    {
      "cell_type": "code",
      "metadata": {
        "id": "xLjay_Qku47M",
        "colab_type": "code",
        "colab": {}
      },
      "source": [
        "if GPU:\n",
        "  contexts, target = to_gpu(contexts), to_gpu(target)\n",
        "\n",
        "# モデルなどの生成\n",
        "model = CBOW(vocab_size, hidden_size, window_size, corpus)\n",
        "optimizer = Adam()\n",
        "trainer = Trainer(model, optimizer)"
      ],
      "execution_count": 0,
      "outputs": []
    },
    {
      "cell_type": "code",
      "metadata": {
        "id": "d1E6NDDbuUGD",
        "colab_type": "code",
        "outputId": "8950b412-223b-4387-be41-6e32b5cafb69",
        "colab": {
          "base_uri": "https://localhost:8080/",
          "height": 464
        }
      },
      "source": [
        "# 学習開始\n",
        "trainer.fit(contexts, target, max_epoch, batch_size)\n",
        "trainer.plot()\n",
        "\n",
        "# 後ほど利用できるように、必要なデータを保存\n",
        "word_vecs = model.word_vecs\n",
        "\n",
        "if GPU:\n",
        "  word_vecs = to_cpu(word_vecs)\n",
        "\n",
        "params = {}\n",
        "params['word_vecs'] = word_vecs.astype(np.float16)\n",
        "params['word_to_id'] = word_to_id\n",
        "params['id_to_word'] = id_to_word\n",
        "\n",
        "pkl_file = 'cbow_params.pkl'\n",
        "with open(pkl_file, 'wb') as f:\n",
        "  pickle.dump(params, f, -1)"
      ],
      "execution_count": 0,
      "outputs": [
        {
          "output_type": "error",
          "ename": "TypeError",
          "evalue": "ignored",
          "traceback": [
            "\u001b[0;31m---------------------------------------------------------------------------\u001b[0m",
            "\u001b[0;31mTypeError\u001b[0m                                 Traceback (most recent call last)",
            "\u001b[0;32m<ipython-input-209-62940f34cef4>\u001b[0m in \u001b[0;36m<module>\u001b[0;34m()\u001b[0m\n\u001b[0;32m----> 1\u001b[0;31m \u001b[0mtrainer\u001b[0m\u001b[0;34m.\u001b[0m\u001b[0mfit\u001b[0m\u001b[0;34m(\u001b[0m\u001b[0mcontexts\u001b[0m\u001b[0;34m,\u001b[0m \u001b[0mtarget\u001b[0m\u001b[0;34m,\u001b[0m \u001b[0mmax_epoch\u001b[0m\u001b[0;34m,\u001b[0m \u001b[0mbatch_size\u001b[0m\u001b[0;34m)\u001b[0m\u001b[0;34m\u001b[0m\u001b[0;34m\u001b[0m\u001b[0m\n\u001b[0m\u001b[1;32m      2\u001b[0m \u001b[0mtrainer\u001b[0m\u001b[0;34m.\u001b[0m\u001b[0mplot\u001b[0m\u001b[0;34m(\u001b[0m\u001b[0;34m)\u001b[0m\u001b[0;34m\u001b[0m\u001b[0;34m\u001b[0m\u001b[0m\n\u001b[1;32m      3\u001b[0m \u001b[0;34m\u001b[0m\u001b[0m\n\u001b[1;32m      4\u001b[0m \u001b[0;31m# 後ほど利用できるように、必要なデータを保存\u001b[0m\u001b[0;34m\u001b[0m\u001b[0;34m\u001b[0m\u001b[0;34m\u001b[0m\u001b[0m\n\u001b[1;32m      5\u001b[0m \u001b[0mword_vecs\u001b[0m \u001b[0;34m=\u001b[0m \u001b[0mmodel\u001b[0m\u001b[0;34m.\u001b[0m\u001b[0mword_vecs\u001b[0m\u001b[0;34m\u001b[0m\u001b[0;34m\u001b[0m\u001b[0m\n",
            "\u001b[0;32m<ipython-input-159-cd35578c4275>\u001b[0m in \u001b[0;36mfit\u001b[0;34m(self, x, t, max_epoch, batch_size, max_grad, eval_interval)\u001b[0m\n\u001b[1;32m    109\u001b[0m         \u001b[0;31m# 勾配を求め、パラメータを更新\u001b[0m\u001b[0;34m\u001b[0m\u001b[0;34m\u001b[0m\u001b[0;34m\u001b[0m\u001b[0m\n\u001b[1;32m    110\u001b[0m         \u001b[0mloss\u001b[0m \u001b[0;34m=\u001b[0m \u001b[0mmodel\u001b[0m\u001b[0;34m.\u001b[0m\u001b[0mforward\u001b[0m\u001b[0;34m(\u001b[0m\u001b[0mbatch_x\u001b[0m\u001b[0;34m,\u001b[0m \u001b[0mbatch_t\u001b[0m\u001b[0;34m)\u001b[0m\u001b[0;34m\u001b[0m\u001b[0;34m\u001b[0m\u001b[0m\n\u001b[0;32m--> 111\u001b[0;31m         \u001b[0mmodel\u001b[0m\u001b[0;34m.\u001b[0m\u001b[0mbackward\u001b[0m\u001b[0;34m(\u001b[0m\u001b[0;34m)\u001b[0m\u001b[0;34m\u001b[0m\u001b[0;34m\u001b[0m\u001b[0m\n\u001b[0m\u001b[1;32m    112\u001b[0m         \u001b[0mparams\u001b[0m\u001b[0;34m,\u001b[0m \u001b[0mgrads\u001b[0m \u001b[0;34m=\u001b[0m \u001b[0mremove_duplicate\u001b[0m\u001b[0;34m(\u001b[0m\u001b[0mmodel\u001b[0m\u001b[0;34m.\u001b[0m\u001b[0mparams\u001b[0m\u001b[0;34m,\u001b[0m \u001b[0mmodel\u001b[0m\u001b[0;34m.\u001b[0m\u001b[0mgrads\u001b[0m\u001b[0;34m)\u001b[0m \u001b[0;31m# 共有された重みを1つに集約\u001b[0m\u001b[0;34m\u001b[0m\u001b[0;34m\u001b[0m\u001b[0m\n\u001b[1;32m    113\u001b[0m \u001b[0;34m\u001b[0m\u001b[0m\n",
            "\u001b[0;32m<ipython-input-155-873cb8f6cc0f>\u001b[0m in \u001b[0;36mbackward\u001b[0;34m(self, dout)\u001b[0m\n\u001b[1;32m     33\u001b[0m \u001b[0;34m\u001b[0m\u001b[0m\n\u001b[1;32m     34\u001b[0m   \u001b[0;32mdef\u001b[0m \u001b[0mbackward\u001b[0m\u001b[0;34m(\u001b[0m\u001b[0mself\u001b[0m\u001b[0;34m,\u001b[0m \u001b[0mdout\u001b[0m\u001b[0;34m=\u001b[0m\u001b[0;36m1\u001b[0m\u001b[0;34m)\u001b[0m\u001b[0;34m:\u001b[0m\u001b[0;34m\u001b[0m\u001b[0;34m\u001b[0m\u001b[0m\n\u001b[0;32m---> 35\u001b[0;31m     \u001b[0mdout\u001b[0m \u001b[0;34m=\u001b[0m \u001b[0mself\u001b[0m\u001b[0;34m.\u001b[0m\u001b[0mns_loss\u001b[0m\u001b[0;34m.\u001b[0m\u001b[0mbackward\u001b[0m\u001b[0;34m(\u001b[0m\u001b[0mdout\u001b[0m\u001b[0;34m)\u001b[0m\u001b[0;34m\u001b[0m\u001b[0;34m\u001b[0m\u001b[0m\n\u001b[0m\u001b[1;32m     36\u001b[0m     \u001b[0mdout\u001b[0m \u001b[0;34m*=\u001b[0m \u001b[0;36m1\u001b[0m \u001b[0;34m/\u001b[0m \u001b[0mlen\u001b[0m\u001b[0;34m(\u001b[0m\u001b[0mself\u001b[0m\u001b[0;34m.\u001b[0m\u001b[0min_layers\u001b[0m\u001b[0;34m)\u001b[0m\u001b[0;34m\u001b[0m\u001b[0;34m\u001b[0m\u001b[0m\n\u001b[1;32m     37\u001b[0m     \u001b[0;32mfor\u001b[0m \u001b[0mlayer\u001b[0m \u001b[0;32min\u001b[0m \u001b[0mself\u001b[0m\u001b[0;34m.\u001b[0m\u001b[0min_layers\u001b[0m\u001b[0;34m:\u001b[0m\u001b[0;34m\u001b[0m\u001b[0;34m\u001b[0m\u001b[0m\n",
            "\u001b[0;32m<ipython-input-178-77087180c331>\u001b[0m in \u001b[0;36mbackward\u001b[0;34m(self, dout)\u001b[0m\n\u001b[1;32m     39\u001b[0m     \u001b[0mdh\u001b[0m \u001b[0;34m=\u001b[0m \u001b[0;36m0\u001b[0m\u001b[0;34m\u001b[0m\u001b[0;34m\u001b[0m\u001b[0m\n\u001b[1;32m     40\u001b[0m     \u001b[0;32mfor\u001b[0m \u001b[0ml0\u001b[0m\u001b[0;34m,\u001b[0m \u001b[0ml1\u001b[0m \u001b[0;32min\u001b[0m \u001b[0mzip\u001b[0m\u001b[0;34m(\u001b[0m\u001b[0mself\u001b[0m\u001b[0;34m.\u001b[0m\u001b[0mloss_layers\u001b[0m\u001b[0;34m,\u001b[0m \u001b[0mself\u001b[0m\u001b[0;34m.\u001b[0m\u001b[0membed_dot_layers\u001b[0m\u001b[0;34m)\u001b[0m\u001b[0;34m:\u001b[0m\u001b[0;34m\u001b[0m\u001b[0;34m\u001b[0m\u001b[0m\n\u001b[0;32m---> 41\u001b[0;31m       \u001b[0mdscore\u001b[0m \u001b[0;34m=\u001b[0m \u001b[0ml0\u001b[0m\u001b[0;34m.\u001b[0m\u001b[0mbackward\u001b[0m\u001b[0;34m(\u001b[0m\u001b[0mdout\u001b[0m\u001b[0;34m)\u001b[0m\u001b[0;34m\u001b[0m\u001b[0;34m\u001b[0m\u001b[0m\n\u001b[0m\u001b[1;32m     42\u001b[0m       \u001b[0mdh\u001b[0m \u001b[0;34m+=\u001b[0m \u001b[0ml1\u001b[0m\u001b[0;34m.\u001b[0m\u001b[0mbackward\u001b[0m\u001b[0;34m(\u001b[0m\u001b[0mdscore\u001b[0m\u001b[0;34m)\u001b[0m\u001b[0;34m\u001b[0m\u001b[0;34m\u001b[0m\u001b[0m\n\u001b[1;32m     43\u001b[0m     \u001b[0;32mreturn\u001b[0m \u001b[0mdh\u001b[0m\u001b[0;34m\u001b[0m\u001b[0;34m\u001b[0m\u001b[0m\n",
            "\u001b[0;32m<ipython-input-190-a528a44aad05>\u001b[0m in \u001b[0;36mbackward\u001b[0;34m(self, dout)\u001b[0m\n\u001b[1;32m     46\u001b[0m         \u001b[0mbatch_size\u001b[0m \u001b[0;34m=\u001b[0m \u001b[0mself\u001b[0m\u001b[0;34m.\u001b[0m\u001b[0mt\u001b[0m\u001b[0;34m.\u001b[0m\u001b[0mshape\u001b[0m\u001b[0;34m[\u001b[0m\u001b[0;36m0\u001b[0m\u001b[0;34m]\u001b[0m\u001b[0;34m\u001b[0m\u001b[0;34m\u001b[0m\u001b[0m\n\u001b[1;32m     47\u001b[0m \u001b[0;34m\u001b[0m\u001b[0m\n\u001b[0;32m---> 48\u001b[0;31m         \u001b[0mdx\u001b[0m \u001b[0;34m=\u001b[0m \u001b[0;34m(\u001b[0m\u001b[0mself\u001b[0m\u001b[0;34m.\u001b[0m\u001b[0my\u001b[0m \u001b[0;34m-\u001b[0m \u001b[0mself\u001b[0m\u001b[0;34m.\u001b[0m\u001b[0mt\u001b[0m\u001b[0;34m)\u001b[0m \u001b[0;34m*\u001b[0m \u001b[0mdout\u001b[0m \u001b[0;34m/\u001b[0m \u001b[0mbatch_size\u001b[0m\u001b[0;34m\u001b[0m\u001b[0;34m\u001b[0m\u001b[0m\n\u001b[0m\u001b[1;32m     49\u001b[0m         \u001b[0;32mreturn\u001b[0m \u001b[0mdx\u001b[0m\u001b[0;34m\u001b[0m\u001b[0;34m\u001b[0m\u001b[0m\n",
            "\u001b[0;32mcupy/core/core.pyx\u001b[0m in \u001b[0;36mcupy.core.core.ndarray.__sub__\u001b[0;34m()\u001b[0m\n",
            "\u001b[0;32mcupy/core/_kernel.pyx\u001b[0m in \u001b[0;36mcupy.core._kernel.ufunc.__call__\u001b[0;34m()\u001b[0m\n",
            "\u001b[0;32mcupy/core/_kernel.pyx\u001b[0m in \u001b[0;36mcupy.core._kernel._preprocess_args\u001b[0;34m()\u001b[0m\n",
            "\u001b[0;31mTypeError\u001b[0m: Unsupported type <class 'numpy.ndarray'>"
          ]
        }
      ]
    },
    {
      "cell_type": "markdown",
      "metadata": {
        "id": "WjTFI-Z1o9VX",
        "colab_type": "text"
      },
      "source": [
        "GPU使わないと半日くらいかかるらしい。"
      ]
    },
    {
      "cell_type": "code",
      "metadata": {
        "id": "9_i_PINXh2CM",
        "colab_type": "code",
        "colab": {}
      },
      "source": [
        "def most_similar(query, word_to_id, id_to_word, word_matrix, top=5):\n",
        "  # STEP1 クエリを取り出す\n",
        "  if query not in word_to_id:\n",
        "    print('%s is not found' % query)\n",
        "    return\n",
        "\n",
        "  print('\\n[query] ' + query)\n",
        "  query_id = word_to_id[query]\n",
        "  query_vec = word_matrix[query_id]\n",
        "\n",
        "  # STEP2 コサイン類似度の算出\n",
        "  vocab_size = len(id_to_word)\n",
        "  similarity = np.zeros(vocab_size)\n",
        "  for i in range(vocab_size):\n",
        "    similarity[i] = cos_similarity(word_matrix[i], query_vec)\n",
        "\n",
        "  # STEP3 コサイン類似度の結果から、その値を高い順に出力\n",
        "  count = 0\n",
        "  for i in (-1 * similarity).argsort():\n",
        "    if id_to_word[i] == query:\n",
        "      continue\n",
        "    print(' %s: %s' % (id_to_word[i], similarity[i]))\n",
        "\n",
        "    count += 1\n",
        "    if count >= top:\n",
        "      return"
      ],
      "execution_count": 0,
      "outputs": []
    },
    {
      "cell_type": "code",
      "metadata": {
        "id": "54-_VikImyMD",
        "colab_type": "code",
        "colab": {}
      },
      "source": [
        "pkl_file = 'cbow_params.pkl'\n",
        "\n",
        "with open(pkl_file, 'rb') as f:\n",
        "  params = pickle.load(f)\n",
        "  word_vecs = params['word_vecs']\n",
        "  word_to_id = params['word_to_id']\n",
        "  id_to_word = params['id_to_word']\n",
        "\n",
        "querys = ['you', 'year', 'car', 'toyota']\n",
        "for query in querys:\n",
        "  most_similar(query, word_to_id, id_to_word, word_vecs, top=5)"
      ],
      "execution_count": 0,
      "outputs": []
    }
  ]
}