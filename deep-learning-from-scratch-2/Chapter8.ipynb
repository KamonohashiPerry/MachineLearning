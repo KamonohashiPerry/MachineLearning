{
  "nbformat": 4,
  "nbformat_minor": 0,
  "metadata": {
    "colab": {
      "name": "Chapter8.ipynb",
      "provenance": [],
      "collapsed_sections": [],
      "toc_visible": true,
      "authorship_tag": "ABX9TyN3xpAwFPlyLa86aQTWlBwt",
      "include_colab_link": true
    },
    "kernelspec": {
      "name": "python3",
      "display_name": "Python 3"
    },
    "accelerator": "GPU"
  },
  "cells": [
    {
      "cell_type": "markdown",
      "metadata": {
        "id": "view-in-github",
        "colab_type": "text"
      },
      "source": [
        "<a href=\"https://colab.research.google.com/github/KamonohashiPerry/MachineLearning/blob/master/deep-learning-from-scratch-2/Chapter8.ipynb\" target=\"_parent\"><img src=\"https://colab.research.google.com/assets/colab-badge.svg\" alt=\"Open In Colab\"/></a>"
      ]
    },
    {
      "cell_type": "markdown",
      "metadata": {
        "id": "6cFmfdrBEzxf",
        "colab_type": "text"
      },
      "source": [
        "# Attention\n",
        "+ 近年の深層学習の重要テクニックの一つ"
      ]
    },
    {
      "cell_type": "markdown",
      "metadata": {
        "id": "8JlDgycxFZ0h",
        "colab_type": "text"
      },
      "source": [
        "## Attentionの仕組み\n",
        "+ 注意機構(Attention Mechanism)\n",
        " + 必要な情報だけに注意を向けさせることができる。"
      ]
    },
    {
      "cell_type": "markdown",
      "metadata": {
        "id": "hYWVE_lUGKCX",
        "colab_type": "text"
      },
      "source": [
        "### seq2seqの問題点\n",
        "+ Encoderを使って固定長に変換しなければならないところ。\n",
        " + 固定長だと限界が低い。"
      ]
    },
    {
      "cell_type": "markdown",
      "metadata": {
        "id": "Ympohyx9HA6h",
        "colab_type": "text"
      },
      "source": [
        "### Encoderの改良\n",
        "+ Encoderの出力は、入力される文章の長さに応じて、その長さを変えるべき。\n",
        "+ 各時刻のLSTMレイヤの隠れ状態ベクトルを全て利用する。"
      ]
    },
    {
      "cell_type": "markdown",
      "metadata": {
        "id": "2IqDfpurbPsI",
        "colab_type": "text"
      },
      "source": [
        "### Decoderの改良1\n",
        "+ Encoderは各単語に対応するLSTMレイヤの隠れ状態ベクトルをhsとして出力\n",
        " + このhsがDecoderに渡されて時系列変換が行われる\n",
        "   + これまでのDecoderはEncoderのLSTMレイヤの最後にある隠れ状態だけを利用していた。\n",
        "\n",
        "+ 入力と出力でどの単語が関連しているのかという対応関係をseq2seqに学習させることはできないか。\n",
        " + 必要な情報にだけ注意を向けさせ、その情報から時系列変換を行うことを目指す。\n",
        "   + この点においてもPeekyとは違う。\n",
        "\n",
        "+ 新たに何らかの計算を行うレイヤを追加する\n",
        " + 何らかの計算\n",
        "   + 各時刻においてLSTMレイヤの隠れ状態とEncoderからのhsを受け取る\n",
        "     + 必要な情報だけを選び出す\n",
        "       + それをその先のAffineレイヤへと出力\n",
        "\n",
        "\n",
        "+ 単語のアラインメント抽出\n",
        " + 各時刻においてDecoderへの入力単語と対応関係にある単語のベクトルをhsから選び出す\n",
        "   + ただし、選び出すという操作に関して微分ができない\n",
        "     + ひとつを選ぶのではなく、全てを選ぶというアプローチ\n",
        "       + 各単語の重要度を表す重みを別途計算する"
      ]
    },
    {
      "cell_type": "code",
      "metadata": {
        "id": "OMQKpYrFETXA",
        "colab_type": "code",
        "colab": {
          "base_uri": "https://localhost:8080/",
          "height": 136
        },
        "outputId": "70dedde1-f782-4465-d5e5-7e84f94f1eb6"
      },
      "source": [
        "!git clone https://github.com/oreilly-japan/deep-learning-from-scratch-2.git"
      ],
      "execution_count": 1,
      "outputs": [
        {
          "output_type": "stream",
          "text": [
            "Cloning into 'deep-learning-from-scratch-2'...\n",
            "remote: Enumerating objects: 13, done.\u001b[K\n",
            "remote: Counting objects:   7% (1/13)\u001b[K\rremote: Counting objects:  15% (2/13)\u001b[K\rremote: Counting objects:  23% (3/13)\u001b[K\rremote: Counting objects:  30% (4/13)\u001b[K\rremote: Counting objects:  38% (5/13)\u001b[K\rremote: Counting objects:  46% (6/13)\u001b[K\rremote: Counting objects:  53% (7/13)\u001b[K\rremote: Counting objects:  61% (8/13)\u001b[K\rremote: Counting objects:  69% (9/13)\u001b[K\rremote: Counting objects:  76% (10/13)\u001b[K\rremote: Counting objects:  84% (11/13)\u001b[K\rremote: Counting objects:  92% (12/13)\u001b[K\rremote: Counting objects: 100% (13/13)\u001b[K\rremote: Counting objects: 100% (13/13), done.\u001b[K\n",
            "remote: Compressing objects: 100% (8/8), done.\u001b[K\n",
            "remote: Total 386 (delta 5), reused 10 (delta 5), pack-reused 373\u001b[K\n",
            "Receiving objects: 100% (386/386), 7.91 MiB | 5.40 MiB/s, done.\n",
            "Resolving deltas: 100% (215/215), done.\n"
          ],
          "name": "stdout"
        }
      ]
    },
    {
      "cell_type": "code",
      "metadata": {
        "id": "dDQqP0AohpVF",
        "colab_type": "code",
        "colab": {
          "base_uri": "https://localhost:8080/",
          "height": 34
        },
        "outputId": "d29b3dc8-7e42-448a-d4ba-39653d54f135"
      },
      "source": [
        "cd deep-learning-from-scratch-2"
      ],
      "execution_count": 2,
      "outputs": [
        {
          "output_type": "stream",
          "text": [
            "/content/deep-learning-from-scratch-2\n"
          ],
          "name": "stdout"
        }
      ]
    },
    {
      "cell_type": "code",
      "metadata": {
        "id": "0iswkSARhsX5",
        "colab_type": "code",
        "colab": {
          "base_uri": "https://localhost:8080/",
          "height": 51
        },
        "outputId": "9e58f886-800d-43be-ae8f-22c1b92e1489"
      },
      "source": [
        "ls"
      ],
      "execution_count": 3,
      "outputs": [
        {
          "output_type": "stream",
          "text": [
            "\u001b[0m\u001b[01;34mch01\u001b[0m/  \u001b[01;34mch03\u001b[0m/  \u001b[01;34mch05\u001b[0m/  \u001b[01;34mch07\u001b[0m/  \u001b[01;34mcommon\u001b[0m/   LICENSE.md\n",
            "\u001b[01;34mch02\u001b[0m/  \u001b[01;34mch04\u001b[0m/  \u001b[01;34mch06\u001b[0m/  \u001b[01;34mch08\u001b[0m/  \u001b[01;34mdataset\u001b[0m/  README.md\n"
          ],
          "name": "stdout"
        }
      ]
    },
    {
      "cell_type": "code",
      "metadata": {
        "id": "DC7uS6G1hstA",
        "colab_type": "code",
        "colab": {
          "base_uri": "https://localhost:8080/",
          "height": 51
        },
        "outputId": "6fc26d12-935f-43b8-e5fe-e78024b68aa3"
      },
      "source": [
        "import numpy as np\n",
        "import matplotlib.pyplot as plt\n",
        "\n",
        "# 時系列の長さ、隠れ状態ベクトルの要素数\n",
        "T, H = 5, 4\n",
        "hs = np.random.randn(T, H)\n",
        "a = np.array([0.8, 0.1, 0.03, 0.05, 0.02])\n",
        "\n",
        "# repeatで多次元配列を生成\n",
        "ar = a.reshape(5, 1).repeat(4, axis=1)\n",
        "\n",
        "print(hs.shape)\n",
        "print(ar.shape)"
      ],
      "execution_count": 4,
      "outputs": [
        {
          "output_type": "stream",
          "text": [
            "(5, 4)\n",
            "(5, 4)\n"
          ],
          "name": "stdout"
        }
      ]
    },
    {
      "cell_type": "code",
      "metadata": {
        "id": "tMH8wwn1iA43",
        "colab_type": "code",
        "colab": {
          "base_uri": "https://localhost:8080/",
          "height": 102
        },
        "outputId": "20fd74ba-15a3-414a-accf-a672e6c69607"
      },
      "source": [
        "hs"
      ],
      "execution_count": 5,
      "outputs": [
        {
          "output_type": "execute_result",
          "data": {
            "text/plain": [
              "array([[ 1.71939546, -0.26841311, -0.68475433,  0.23784718],\n",
              "       [-0.08209138,  0.96028409,  0.44949597, -0.00673877],\n",
              "       [-0.612235  ,  0.76835103,  1.1587083 ,  0.72200734],\n",
              "       [ 2.0682823 ,  0.39065541,  0.40748505, -1.48837174],\n",
              "       [-0.8212756 ,  0.85063449, -1.2713689 ,  3.18008492]])"
            ]
          },
          "metadata": {
            "tags": []
          },
          "execution_count": 5
        }
      ]
    },
    {
      "cell_type": "code",
      "metadata": {
        "id": "WHg-7GWZiMs5",
        "colab_type": "code",
        "colab": {
          "base_uri": "https://localhost:8080/",
          "height": 102
        },
        "outputId": "ffcd7333-6e1c-4458-9483-f2322fc5287a"
      },
      "source": [
        "ar"
      ],
      "execution_count": 6,
      "outputs": [
        {
          "output_type": "execute_result",
          "data": {
            "text/plain": [
              "array([[0.8 , 0.8 , 0.8 , 0.8 ],\n",
              "       [0.1 , 0.1 , 0.1 , 0.1 ],\n",
              "       [0.03, 0.03, 0.03, 0.03],\n",
              "       [0.05, 0.05, 0.05, 0.05],\n",
              "       [0.02, 0.02, 0.02, 0.02]])"
            ]
          },
          "metadata": {
            "tags": []
          },
          "execution_count": 6
        }
      ]
    },
    {
      "cell_type": "code",
      "metadata": {
        "id": "RV9N5UwMiNHs",
        "colab_type": "code",
        "colab": {}
      },
      "source": [
        "# 重み付け\n",
        "t = hs * ar"
      ],
      "execution_count": 0,
      "outputs": []
    },
    {
      "cell_type": "code",
      "metadata": {
        "id": "rrGoXcgWiV_1",
        "colab_type": "code",
        "colab": {
          "base_uri": "https://localhost:8080/",
          "height": 34
        },
        "outputId": "abe18f9d-0288-4215-bda5-9c88382bba83"
      },
      "source": [
        "print(t.shape)"
      ],
      "execution_count": 8,
      "outputs": [
        {
          "output_type": "stream",
          "text": [
            "(5, 4)\n"
          ],
          "name": "stdout"
        }
      ]
    },
    {
      "cell_type": "code",
      "metadata": {
        "id": "tLmmNG3YiY2q",
        "colab_type": "code",
        "colab": {
          "base_uri": "https://localhost:8080/",
          "height": 34
        },
        "outputId": "d981a3e0-8be7-48fe-fc4b-c7f50637d1e9"
      },
      "source": [
        "# その重み付けしたものの和\n",
        "c = np.sum(t, axis=0)\n",
        "print(c.shape)"
      ],
      "execution_count": 9,
      "outputs": [
        {
          "output_type": "stream",
          "text": [
            "(4,)\n"
          ],
          "name": "stdout"
        }
      ]
    },
    {
      "cell_type": "code",
      "metadata": {
        "id": "BWb4K0qfidd7",
        "colab_type": "code",
        "colab": {
          "base_uri": "https://localhost:8080/",
          "height": 34
        },
        "outputId": "51fe2831-93f7-48bf-bd8f-80c115318a87"
      },
      "source": [
        "c"
      ],
      "execution_count": 10,
      "outputs": [
        {
          "output_type": "execute_result",
          "data": {
            "text/plain": [
              "array([ 1.43592879, -0.05910609, -0.47314574,  0.2004472 ])"
            ]
          },
          "metadata": {
            "tags": []
          },
          "execution_count": 10
        }
      ]
    },
    {
      "cell_type": "code",
      "metadata": {
        "id": "n-Wk0ZHkie6g",
        "colab_type": "code",
        "colab": {
          "base_uri": "https://localhost:8080/",
          "height": 51
        },
        "outputId": "e6e07afd-c0c1-411f-a433-004773d98de0"
      },
      "source": [
        "# バッチ処理版の重み付き和の実装\n",
        "\n",
        "# バッチの数、時系列の長さ、隠れ状態ベクトルの要素数\n",
        "N, T, H = 10, 5, 4\n",
        "hs = np.random.randn(N, T, H)\n",
        "a = np.random.randn(N, T)\n",
        "ar = a.reshape(N, T, 1).repeat(H, axis=2)\n",
        "\n",
        "t = hs * ar\n",
        "print(t.shape)\n",
        "\n",
        "# バッチごとの隠れ状態のベクトルの要素数ごとの重み付けの合計値\n",
        "c = np.sum(t, axis=1)\n",
        "print(c.shape)"
      ],
      "execution_count": 11,
      "outputs": [
        {
          "output_type": "stream",
          "text": [
            "(10, 5, 4)\n",
            "(10, 4)\n"
          ],
          "name": "stdout"
        }
      ]
    },
    {
      "cell_type": "code",
      "metadata": {
        "id": "-r32FxJOn6PJ",
        "colab_type": "code",
        "colab": {}
      },
      "source": [
        "# コンテキストベクトルをもとめるWeightSumレイヤ\n",
        "class WeightSum:\n",
        "  def __init__(self):\n",
        "    self.params, self.grads = [], []\n",
        "    self.cache = None\n",
        "\n",
        "  def forward(self, hs, a):\n",
        "    N, T, H = hs.shape\n",
        "\n",
        "    ar = a.reshape(N, T, 1).repeat(H, axis=2)\n",
        "    t = hs*ar\n",
        "    c = np.sum(t, axis=1)\n",
        "\n",
        "    self.cache = (hs, ar)\n",
        "    return c\n",
        "\n",
        "  def backward(self, dc):\n",
        "    hs, ar = self.cache\n",
        "    N, T, H = hs.shape\n",
        "\n",
        "    dt = dc.reshape(N, 1, H).repeat(T, axis=1) # sumの逆伝播\n",
        "    dar = dt*hs\n",
        "    dhs = dt*ar\n",
        "    da = np.sum(dar, axis=2) # repeatの逆伝播\n",
        "\n",
        "    return dhs, da"
      ],
      "execution_count": 0,
      "outputs": []
    },
    {
      "cell_type": "markdown",
      "metadata": {
        "id": "wzQK5enrpqnz",
        "colab_type": "text"
      },
      "source": [
        "### Decoderの改良2\n",
        "+ 各単語の重要度を表す重みaを計算したい。それをもとにコンテキストベクトルを計算できる。\n",
        " + DecoderのLSTMレイヤの隠れ状態ベクトルhが、Encoderの出力であるhsの各単語ベクトルとどれだけ似ているかを数値で表すこと。\n",
        "   + 最も簡単なのはベクトルの内積を利用するもの。\n",
        "\n",
        "$$a \\cdot\tb = a_1b_1 + a_2b_2 + \\dots + a_nb_n $$\n",
        "\n",
        "\n",
        "+ 類似度はsoftmax関数で正規化する"
      ]
    },
    {
      "cell_type": "code",
      "metadata": {
        "id": "r6xnniAfpebJ",
        "colab_type": "code",
        "colab": {
          "base_uri": "https://localhost:8080/",
          "height": 68
        },
        "outputId": "c1fe5095-2f55-4c04-b102-8a9d9213dce4"
      },
      "source": [
        "import sys\n",
        "sys.path.append('..')\n",
        "from common.layers import Softmax\n",
        "import numpy as np\n",
        "\n",
        "N, T, H = 10, 5, 4\n",
        "hs = np.random.randn(N, T, H)\n",
        "h = np.random.randn(N, H)\n",
        "hr = h.reshape(N, 1, H).repeat(T, axis=1)\n",
        "\n",
        "t = hs*hr\n",
        "print(t.shape)\n",
        "\n",
        "s = np.sum(t, axis=2)\n",
        "print(s.shape)\n",
        "\n",
        "softmax = Softmax()\n",
        "a = softmax.forward(s)\n",
        "print(a.shape)"
      ],
      "execution_count": 13,
      "outputs": [
        {
          "output_type": "stream",
          "text": [
            "(10, 5, 4)\n",
            "(10, 5)\n",
            "(10, 5)\n"
          ],
          "name": "stdout"
        }
      ]
    },
    {
      "cell_type": "code",
      "metadata": {
        "id": "wHqiOztlW2Z6",
        "colab_type": "code",
        "colab": {}
      },
      "source": [
        "import sys\n",
        "sys.path.append('..')\n",
        "from common.np import *\n",
        "from common.layers import Softmax\n",
        "\n",
        "class AttentionWeight:\n",
        "  def __init__(self):\n",
        "    self.params, self.grads = [], []\n",
        "    self.softmax = Softmax()\n",
        "    self.cache = None\n",
        "\n",
        "  def forward(self, hs, h):\n",
        "    N, T, H = hs.shape\n",
        "\n",
        "    hr = h.reshape(N, 1, H).repeat(T, axis=1)\n",
        "    t = hs*hr\n",
        "    s = np.sum(t, axis=2)\n",
        "    a = self.softmax.forward(s)\n",
        "\n",
        "    self.cache = (hs, hr)\n",
        "    return a\n",
        "\n",
        "  def backward(self, da):\n",
        "    hs, hr = self.cache\n",
        "    N, T, H = hs.shape\n",
        "\n",
        "    ds = self.softmax.backward(da)\n",
        "    dhs = dt*hr\n",
        "    dhr = dt*hs\n",
        "    dh = np.sum(dhr, axis=1)\n",
        "\n",
        "    return dhs, dh"
      ],
      "execution_count": 0,
      "outputs": []
    },
    {
      "cell_type": "markdown",
      "metadata": {
        "id": "JR504nb2adIc",
        "colab_type": "text"
      },
      "source": [
        "### Decoderの改良3\n",
        "+ Attention WeightレイヤとWeight Sumレイヤを組み合わせることでコンテキストベクトルを求めれるようになる。\n",
        " + Attention WeightレイヤがEncoderが出力する各単語のベクトルhsに対して注意をはらい、各単語の重みaを計算する。\n",
        "  + Weight Sumレイヤがaとhsの重み付き和を求めて、コンテキストベクトルcとして出力する。"
      ]
    },
    {
      "cell_type": "code",
      "metadata": {
        "id": "Mqy_YRYOYhvE",
        "colab_type": "code",
        "colab": {}
      },
      "source": [
        "class Attention:\n",
        "  def __init__(self):\n",
        "    self.params, self.grads = [], []\n",
        "    self.attention_weight_layer = AttentionWeight()\n",
        "    self.weight_sum_layer = WeightSum()\n",
        "    self.attention_weight = None\n",
        "\n",
        "  def forward(self, hs, h):\n",
        "    a = self.attention_weight_layer.forward(hs, h)\n",
        "    out = self.weight_sum_layer.forward(hs, a)\n",
        "    self.attention_weight = a\n",
        "    return out\n",
        "\n",
        "  def backward(self, dout):\n",
        "    dhs0, da = self.weight_sum_layer.backward(dout)\n",
        "    dhs1, dh = self.attention_weight_layer.backward(da)\n",
        "    dhs = dhs0 + dhs1\n",
        "    return dhs, dh"
      ],
      "execution_count": 0,
      "outputs": []
    },
    {
      "cell_type": "code",
      "metadata": {
        "id": "yDUD6M-TezI1",
        "colab_type": "code",
        "colab": {}
      },
      "source": [
        "class TimeAttention:\n",
        "  def __init__(self):\n",
        "    self.params, self.grads = [], []\n",
        "    self.layers = None\n",
        "    self.attention_weights = None # 各Attentionレイヤの各単語への重み\n",
        "\n",
        "  # 順伝播\n",
        "  def forward(self, hs_enc, hs_dec):\n",
        "    # T個分のAttentionレイヤを作成する\n",
        "    N, T, H = hs_dec.shape\n",
        "    out = np.empty_like(hs_dec)\n",
        "    self.layers = []\n",
        "    self.attention_weights = []\n",
        "\n",
        "    for t in range(T):\n",
        "      layer = Attention()\n",
        "      out[:, t, :] = layer.forward(hs_enc, hs_dec[:, t, :])\n",
        "      self.layers.append(layer)\n",
        "      self.attention_weights.append(layer.attention_weight)\n",
        "\n",
        "    return out\n",
        "\n",
        "  # 逆伝播\n",
        "  def backward(self, dout):\n",
        "    # T個分のAttentionレイヤを作成する\n",
        "    N, T, H = dout.shape\n",
        "    dhs_enc = 0\n",
        "    dhs_dec = np.empty_like(dout)\n",
        "\n",
        "    for t in range(T):\n",
        "      layer = self.layers[t]\n",
        "      dhs, dh = layer.backward(dout[:, t, :])\n",
        "      dhs_enc += dhs\n",
        "      dhs_dec[:, t, :] = dh\n",
        "\n",
        "    return dhs_enc, dhs_dec\n"
      ],
      "execution_count": 0,
      "outputs": []
    },
    {
      "cell_type": "markdown",
      "metadata": {
        "id": "fIVdolZji85u",
        "colab_type": "text"
      },
      "source": [
        "## Attention付きのseq2seqの実装"
      ]
    },
    {
      "cell_type": "markdown",
      "metadata": {
        "id": "KaVCKpCCjajp",
        "colab_type": "text"
      },
      "source": [
        "### Encoderの実装"
      ]
    },
    {
      "cell_type": "code",
      "metadata": {
        "id": "v-YsVNn6g_dr",
        "colab_type": "code",
        "colab": {}
      },
      "source": [
        "import sys\n",
        "sys.path.append('..')\n",
        "from common.time_layers import *\n",
        "from ch07.seq2seq import Encoder, Seq2seq\n",
        "from ch08.attention_layer import TimeAttention\n",
        "\n",
        "class AttentionEncoder(Encoder):\n",
        "  def forward(self, xs):\n",
        "    xs = self.embed.forward(xs)\n",
        "    hs = self.lstm.forward(xs)\n",
        "    return hs\n",
        "\n",
        "  def backward(self, dhs):\n",
        "    dout = self.lstm.backward(dhs)\n",
        "    dout = self.embed.backward(dout)\n",
        "    return dout"
      ],
      "execution_count": 0,
      "outputs": []
    },
    {
      "cell_type": "markdown",
      "metadata": {
        "id": "qxpWYr7-kk47",
        "colab_type": "text"
      },
      "source": [
        "### Decoderの実装"
      ]
    },
    {
      "cell_type": "code",
      "metadata": {
        "id": "Sqmq-vw-kTzN",
        "colab_type": "code",
        "colab": {}
      },
      "source": [
        "class AttentionDecoder:\n",
        "  def __init__(self, vocab_size, wordvec_size, hidden_size):\n",
        "    V, D, H = vocab_size, wordvec_size, hidden_size\n",
        "    rn = np.random.randn\n",
        "\n",
        "    embed_W = (rn(V, D) / 100).astype('f')\n",
        "    lstm_Wx = (rn(D, 4*H) / np.sqrt(D) ).astype('f')\n",
        "    lstm_Wh = (rn(H, 4*H) / np.sqrt(H) ).astype('f')\n",
        "    lstm_b = np.zeros(4*H).astype('f')\n",
        "    affine_W = (rn(2*H, V) / np.sqrt(2*H)).astype('f')\n",
        "    affine_b = np.zeros(V).astype('f')\n",
        "\n",
        "    self.embed = TimeEmbedding(embed_W)\n",
        "    self.lstm = TimeLSTM(lstm_Wx, lstm_Wh, lstm_b, stateful=True)\n",
        "    self.attention = TimeAttention()\n",
        "    self.affine = TimeAffine(affine_W, affine_b)\n",
        "    layers = [self.embed, self.lstm, self.attention, self.affine]\n",
        "\n",
        "    self.params, self.grads = [], []\n",
        "    for layer in layers:\n",
        "      self.params += layer.params\n",
        "      self.grads += layer.grads\n",
        "\n",
        "  def forward(self, xs, enc_hs):\n",
        "    h = enc_hs[:, -1]\n",
        "    self.lstm.set_state(h)\n",
        "\n",
        "    out = self.embed.forward(out)\n",
        "    # LSTMレイヤ\n",
        "    dec_hs = self.lstm.forward(out)\n",
        "    # TimeAttentionレイヤ\n",
        "    c = self.attention.forward(enc_hs, dec_hs)\n",
        "\n",
        "    # TimeAttentionレイヤとLSTMレイヤの出力を結合\n",
        "    out = np.concatenate((c, dec_hs), axis=2)\n",
        "    score = self.affine.forward(out)\n",
        "\n",
        "    return score\n",
        "\n",
        "  def backward(self, dscore):\n",
        "    dout = self.affine.backward(dscore)\n",
        "    N, T, H2 = dout.shape\n",
        "    H = H2 // 2\n",
        "\n",
        "    dc, ddec_hs0 = dout[:, :, :H], dout[:, :, H:]\n",
        "    denc_hs, ddec_hs1 = self.attention.backward(dc)\n",
        "    ddec_hs = ddec_hs0 + ddec_hs1\n",
        "    dout = self.lstm.dh\n",
        "    denc_hs[:, -1] += dh\n",
        "    self.embed.backward(dout)\n",
        "\n",
        "    return denc_hs\n",
        "\n",
        "  def generate(self, emc_hs, start_id, sample_size):\n",
        "    sampled = []\n",
        "    sample_id = start_id\n",
        "    h = enc_hs[:, -1]\n",
        "    self.lstm.set_state(h)\n",
        "\n",
        "    for _ in range(sample_size):\n",
        "      x = np.array([sample_id]).reshape((1, 1))\n",
        "\n",
        "      out = self.embed.forward(x)\n",
        "      dec_hs = self.lstm.forward(out)\n",
        "      c = self.attention.forward(enc_hs, dec_hs)\n",
        "      out = np.concatenate((c, dec_hs), axis=2)\n",
        "      score = sel.affine.forward(out)\n",
        "\n",
        "      sample_id = np.argmax(score.flatten())\n",
        "      sampled.append(sample_id)\n",
        "    return sampled\n"
      ],
      "execution_count": 0,
      "outputs": []
    },
    {
      "cell_type": "markdown",
      "metadata": {
        "id": "DJefVyshrZJZ",
        "colab_type": "text"
      },
      "source": [
        "### seq2seqの実装"
      ]
    },
    {
      "cell_type": "code",
      "metadata": {
        "id": "1lIXdqjVqHA5",
        "colab_type": "code",
        "colab": {}
      },
      "source": [
        "from ch07.seq2seq import Encoder, Seq2seq\n",
        "\n",
        "class AttentionSeq2seq(Seq2seq):\n",
        "  def __init__(self, vocab_size, wordvec_size, hidden_size):\n",
        "    args = vocab_size, wordvec_size ,hidden_size\n",
        "    self.encoder = AttentionEncoder(*args)\n",
        "    self.decoder = AttentionDecoder(*args)\n",
        "    self.softmax = TimeSoftmaxWithLoss()\n",
        "\n",
        "    self.params = self.encoder.params + self.decoder.params\n",
        "    self.grads = self.encoder.grads + self.decoder.grads"
      ],
      "execution_count": 0,
      "outputs": []
    },
    {
      "cell_type": "markdown",
      "metadata": {
        "id": "wvOpA3CLsumP",
        "colab_type": "text"
      },
      "source": [
        "## Attentionの評価\n",
        "+ 日付フォーマットを変換する問題を扱う"
      ]
    },
    {
      "cell_type": "markdown",
      "metadata": {
        "id": "Suky7DY9tBiC",
        "colab_type": "text"
      },
      "source": [
        "### 日付フォーマットの変換問題"
      ]
    },
    {
      "cell_type": "markdown",
      "metadata": {
        "id": "jqqW8IgWtj_z",
        "colab_type": "text"
      },
      "source": [
        "### Attention付きseq2seqの学習"
      ]
    },
    {
      "cell_type": "code",
      "metadata": {
        "id": "5UG7PbMqx5yd",
        "colab_type": "code",
        "colab": {}
      },
      "source": [
        "import sys\n",
        "sys.path.append('..')\n",
        "from common.time_layers import *\n",
        "from ch07.seq2seq import Seq2seq, Encoder\n",
        "\n",
        "\n",
        "class PeekyDecoder:\n",
        "    def __init__(self, vocab_size, wordvec_size, hidden_size):\n",
        "        V, D, H = vocab_size, wordvec_size, hidden_size\n",
        "        rn = np.random.randn\n",
        "\n",
        "        embed_W = (rn(V, D) / 100).astype('f')\n",
        "        lstm_Wx = (rn(H + D, 4 * H) / np.sqrt(H + D)).astype('f')\n",
        "        lstm_Wh = (rn(H, 4 * H) / np.sqrt(H)).astype('f')\n",
        "        lstm_b = np.zeros(4 * H).astype('f')\n",
        "        affine_W = (rn(H + H, V) / np.sqrt(H + H)).astype('f')\n",
        "        affine_b = np.zeros(V).astype('f')\n",
        "\n",
        "        self.embed = TimeEmbedding(embed_W)\n",
        "        self.lstm = TimeLSTM(lstm_Wx, lstm_Wh, lstm_b, stateful=True)\n",
        "        self.affine = TimeAffine(affine_W, affine_b)\n",
        "\n",
        "        self.params, self.grads = [], []\n",
        "        for layer in (self.embed, self.lstm, self.affine):\n",
        "            self.params += layer.params\n",
        "            self.grads += layer.grads\n",
        "        self.cache = None\n",
        "\n",
        "    def forward(self, xs, h):\n",
        "        N, T = xs.shape\n",
        "        N, H = h.shape\n",
        "\n",
        "        self.lstm.set_state(h)\n",
        "\n",
        "        out = self.embed.forward(xs)\n",
        "        hs = np.repeat(h, T, axis=0).reshape(N, T, H)\n",
        "        out = np.concatenate((hs, out), axis=2)\n",
        "\n",
        "        out = self.lstm.forward(out)\n",
        "        out = np.concatenate((hs, out), axis=2)\n",
        "\n",
        "        score = self.affine.forward(out)\n",
        "        self.cache = H\n",
        "        return score\n",
        "\n",
        "    def backward(self, dscore):\n",
        "        H = self.cache\n",
        "\n",
        "        dout = self.affine.backward(dscore)\n",
        "        dout, dhs0 = dout[:, :, H:], dout[:, :, :H]\n",
        "        dout = self.lstm.backward(dout)\n",
        "        dembed, dhs1 = dout[:, :, H:], dout[:, :, :H]\n",
        "        self.embed.backward(dembed)\n",
        "\n",
        "        dhs = dhs0 + dhs1\n",
        "        dh = self.lstm.dh + np.sum(dhs, axis=1)\n",
        "        return dh\n",
        "\n",
        "    def generate(self, h, start_id, sample_size):\n",
        "        sampled = []\n",
        "        char_id = start_id\n",
        "        self.lstm.set_state(h)\n",
        "\n",
        "        H = h.shape[1]\n",
        "        peeky_h = h.reshape(1, 1, H)\n",
        "        for _ in range(sample_size):\n",
        "            x = np.array([char_id]).reshape((1, 1))\n",
        "            out = self.embed.forward(x)\n",
        "\n",
        "            out = np.concatenate((peeky_h, out), axis=2)\n",
        "            out = self.lstm.forward(out)\n",
        "            out = np.concatenate((peeky_h, out), axis=2)\n",
        "            score = self.affine.forward(out)\n",
        "\n",
        "            char_id = np.argmax(score.flatten())\n",
        "            sampled.append(char_id)\n",
        "\n",
        "        return sampled\n",
        "\n",
        "\n",
        "class PeekySeq2seq(Seq2seq):\n",
        "    def __init__(self, vocab_size, wordvec_size, hidden_size):\n",
        "        V, D, H = vocab_size, wordvec_size, hidden_size\n",
        "        self.encoder = Encoder(V, D, H)\n",
        "        self.decoder = PeekyDecoder(V, D, H)\n",
        "        self.softmax = TimeSoftmaxWithLoss()\n",
        "\n",
        "        self.params = self.encoder.params + self.decoder.params\n",
        "        self.grads = self.encoder.grads + self.decoder.grads"
      ],
      "execution_count": 0,
      "outputs": []
    },
    {
      "cell_type": "code",
      "metadata": {
        "id": "Sb5MYr7RsoPx",
        "colab_type": "code",
        "colab": {
          "base_uri": "https://localhost:8080/",
          "height": 1000
        },
        "outputId": "19c540b9-c9f0-4eab-9ee8-066fa1a6ed64"
      },
      "source": [
        "import sys\n",
        "sys.path.append('..')\n",
        "import numpy as np\n",
        "from dataset import sequence\n",
        "from common.optimizer import Adam\n",
        "from common.trainer import Trainer\n",
        "from common.util import eval_seq2seq\n",
        "from ch08.attention_seq2seq import AttentionSeq2seq\n",
        "# from ch07.seq2seq import Seq2seq\n",
        "# from ch07.peeky_seq2seq import PeekySeq2seq\n",
        "\n",
        "# データの読み込み\n",
        "(x_train, t_train), (x_test, t_test) = sequence.load_data('date.txt')\n",
        "char_to_id, id_to_char = sequence.get_vocab()\n",
        "\n",
        "# 入力文を反転\n",
        "x_train, x_test = x_train[:, ::-1], x_test[:, ::-1]\n",
        "\n",
        "# ハイパーパラメータの設定\n",
        "vocab_size = len(char_to_id)\n",
        "wordvec_size = 16\n",
        "hidden_size = 256\n",
        "batch_size = 128\n",
        "max_epoch = 10\n",
        "max_grad = 5.0\n",
        "\n",
        "model = AttentionSeq2seq(vocab_size, wordvec_size, hidden_size)\n",
        "optimizer = Adam()\n",
        "trainer = Trainer(model, optimizer)\n",
        "\n",
        "acc_list = []\n",
        "for epoch in range(max_epoch):\n",
        "  trainer.fit(x_train, t_train, max_epoch=1,\n",
        "              batch_size=batch_size, max_grad=max_grad)\n",
        "  \n",
        "  correct_num = 0\n",
        "  for i in range(len(x_test)):\n",
        "    question, correct = x_test[[i]], t_test[[i]]\n",
        "    verbose = i < 10\n",
        "    correct_num += eval_seq2seq(model, question, correct,\n",
        "                                    id_to_char, verbose, is_reverse=True)\n",
        "  \n",
        "  acc = float(correct_num) / len(x_test)\n",
        "  acc_list.append(acc)\n",
        "  print('val acc %.3f%%' % (acc * 100))\n",
        "\n",
        "model.save_params()"
      ],
      "execution_count": 23,
      "outputs": [
        {
          "output_type": "stream",
          "text": [
            "| epoch 1 |  iter 1 / 351 | time 0[s] | loss 4.08\n",
            "| epoch 1 |  iter 21 / 351 | time 13[s] | loss 3.09\n",
            "| epoch 1 |  iter 41 / 351 | time 27[s] | loss 1.90\n",
            "| epoch 1 |  iter 61 / 351 | time 40[s] | loss 1.72\n",
            "| epoch 1 |  iter 81 / 351 | time 53[s] | loss 1.46\n",
            "| epoch 1 |  iter 101 / 351 | time 67[s] | loss 1.19\n",
            "| epoch 1 |  iter 121 / 351 | time 80[s] | loss 1.14\n",
            "| epoch 1 |  iter 141 / 351 | time 93[s] | loss 1.09\n",
            "| epoch 1 |  iter 161 / 351 | time 106[s] | loss 1.06\n",
            "| epoch 1 |  iter 181 / 351 | time 119[s] | loss 1.04\n",
            "| epoch 1 |  iter 201 / 351 | time 132[s] | loss 1.03\n",
            "| epoch 1 |  iter 221 / 351 | time 146[s] | loss 1.02\n",
            "| epoch 1 |  iter 241 / 351 | time 159[s] | loss 1.02\n",
            "| epoch 1 |  iter 261 / 351 | time 172[s] | loss 1.01\n",
            "| epoch 1 |  iter 281 / 351 | time 185[s] | loss 1.00\n",
            "| epoch 1 |  iter 301 / 351 | time 198[s] | loss 1.00\n",
            "| epoch 1 |  iter 321 / 351 | time 211[s] | loss 1.00\n",
            "| epoch 1 |  iter 341 / 351 | time 224[s] | loss 1.00\n",
            "Q 10/15/94                     \n",
            "T 1994-10-15\n",
            "\u001b[91m☒\u001b[0m 1978-08-11\n",
            "---\n",
            "Q thursday, november 13, 2008  \n",
            "T 2008-11-13\n",
            "\u001b[91m☒\u001b[0m 1978-08-11\n",
            "---\n",
            "Q Mar 25, 2003                 \n",
            "T 2003-03-25\n",
            "\u001b[91m☒\u001b[0m 1978-08-11\n",
            "---\n",
            "Q Tuesday, November 22, 2016   \n",
            "T 2016-11-22\n",
            "\u001b[91m☒\u001b[0m 1978-08-11\n",
            "---\n",
            "Q Saturday, July 18, 1970      \n",
            "T 1970-07-18\n",
            "\u001b[91m☒\u001b[0m 1978-08-11\n",
            "---\n",
            "Q october 6, 1992              \n",
            "T 1992-10-06\n",
            "\u001b[91m☒\u001b[0m 1978-08-11\n",
            "---\n",
            "Q 8/23/08                      \n",
            "T 2008-08-23\n",
            "\u001b[91m☒\u001b[0m 1978-08-11\n",
            "---\n",
            "Q 8/30/07                      \n",
            "T 2007-08-30\n",
            "\u001b[91m☒\u001b[0m 1978-08-11\n",
            "---\n",
            "Q 10/28/13                     \n",
            "T 2013-10-28\n",
            "\u001b[91m☒\u001b[0m 1978-08-11\n",
            "---\n",
            "Q sunday, november 6, 2016     \n",
            "T 2016-11-06\n",
            "\u001b[91m☒\u001b[0m 1978-08-11\n",
            "---\n",
            "val acc 0.000%\n",
            "| epoch 2 |  iter 1 / 351 | time 0[s] | loss 1.00\n",
            "| epoch 2 |  iter 21 / 351 | time 13[s] | loss 1.00\n",
            "| epoch 2 |  iter 41 / 351 | time 26[s] | loss 0.99\n",
            "| epoch 2 |  iter 61 / 351 | time 39[s] | loss 0.99\n",
            "| epoch 2 |  iter 81 / 351 | time 52[s] | loss 0.99\n",
            "| epoch 2 |  iter 101 / 351 | time 65[s] | loss 0.99\n",
            "| epoch 2 |  iter 121 / 351 | time 78[s] | loss 0.99\n",
            "| epoch 2 |  iter 141 / 351 | time 90[s] | loss 0.98\n",
            "| epoch 2 |  iter 161 / 351 | time 103[s] | loss 0.98\n",
            "| epoch 2 |  iter 181 / 351 | time 116[s] | loss 0.97\n",
            "| epoch 2 |  iter 201 / 351 | time 129[s] | loss 0.95\n",
            "| epoch 2 |  iter 221 / 351 | time 142[s] | loss 0.94\n",
            "| epoch 2 |  iter 241 / 351 | time 155[s] | loss 0.90\n",
            "| epoch 2 |  iter 261 / 351 | time 168[s] | loss 0.83\n",
            "| epoch 2 |  iter 281 / 351 | time 181[s] | loss 0.74\n",
            "| epoch 2 |  iter 301 / 351 | time 194[s] | loss 0.66\n",
            "| epoch 2 |  iter 321 / 351 | time 207[s] | loss 0.58\n",
            "| epoch 2 |  iter 341 / 351 | time 220[s] | loss 0.46\n",
            "Q 10/15/94                     \n",
            "T 1994-10-15\n",
            "\u001b[92m☑\u001b[0m 1994-10-15\n",
            "---\n",
            "Q thursday, november 13, 2008  \n",
            "T 2008-11-13\n",
            "\u001b[91m☒\u001b[0m 2006-11-13\n",
            "---\n",
            "Q Mar 25, 2003                 \n",
            "T 2003-03-25\n",
            "\u001b[92m☑\u001b[0m 2003-03-25\n",
            "---\n",
            "Q Tuesday, November 22, 2016   \n",
            "T 2016-11-22\n",
            "\u001b[92m☑\u001b[0m 2016-11-22\n",
            "---\n",
            "Q Saturday, July 18, 1970      \n",
            "T 1970-07-18\n",
            "\u001b[92m☑\u001b[0m 1970-07-18\n",
            "---\n",
            "Q october 6, 1992              \n",
            "T 1992-10-06\n",
            "\u001b[92m☑\u001b[0m 1992-10-06\n",
            "---\n",
            "Q 8/23/08                      \n",
            "T 2008-08-23\n",
            "\u001b[92m☑\u001b[0m 2008-08-23\n",
            "---\n",
            "Q 8/30/07                      \n",
            "T 2007-08-30\n",
            "\u001b[91m☒\u001b[0m 2007-08-09\n",
            "---\n",
            "Q 10/28/13                     \n",
            "T 2013-10-28\n",
            "\u001b[91m☒\u001b[0m 1983-10-28\n",
            "---\n",
            "Q sunday, november 6, 2016     \n",
            "T 2016-11-06\n",
            "\u001b[91m☒\u001b[0m 2016-11-08\n",
            "---\n",
            "val acc 51.680%\n",
            "| epoch 3 |  iter 1 / 351 | time 0[s] | loss 0.35\n",
            "| epoch 3 |  iter 21 / 351 | time 13[s] | loss 0.30\n",
            "| epoch 3 |  iter 41 / 351 | time 26[s] | loss 0.21\n",
            "| epoch 3 |  iter 61 / 351 | time 39[s] | loss 0.14\n",
            "| epoch 3 |  iter 81 / 351 | time 52[s] | loss 0.09\n",
            "| epoch 3 |  iter 101 / 351 | time 65[s] | loss 0.07\n",
            "| epoch 3 |  iter 121 / 351 | time 78[s] | loss 0.05\n",
            "| epoch 3 |  iter 141 / 351 | time 91[s] | loss 0.04\n",
            "| epoch 3 |  iter 161 / 351 | time 104[s] | loss 0.03\n",
            "| epoch 3 |  iter 181 / 351 | time 116[s] | loss 0.03\n",
            "| epoch 3 |  iter 201 / 351 | time 129[s] | loss 0.02\n",
            "| epoch 3 |  iter 221 / 351 | time 142[s] | loss 0.02\n",
            "| epoch 3 |  iter 241 / 351 | time 155[s] | loss 0.02\n",
            "| epoch 3 |  iter 261 / 351 | time 168[s] | loss 0.01\n",
            "| epoch 3 |  iter 281 / 351 | time 181[s] | loss 0.01\n",
            "| epoch 3 |  iter 301 / 351 | time 194[s] | loss 0.01\n",
            "| epoch 3 |  iter 321 / 351 | time 207[s] | loss 0.01\n",
            "| epoch 3 |  iter 341 / 351 | time 219[s] | loss 0.01\n",
            "Q 10/15/94                     \n",
            "T 1994-10-15\n",
            "\u001b[92m☑\u001b[0m 1994-10-15\n",
            "---\n",
            "Q thursday, november 13, 2008  \n",
            "T 2008-11-13\n",
            "\u001b[92m☑\u001b[0m 2008-11-13\n",
            "---\n",
            "Q Mar 25, 2003                 \n",
            "T 2003-03-25\n",
            "\u001b[92m☑\u001b[0m 2003-03-25\n",
            "---\n",
            "Q Tuesday, November 22, 2016   \n",
            "T 2016-11-22\n",
            "\u001b[92m☑\u001b[0m 2016-11-22\n",
            "---\n",
            "Q Saturday, July 18, 1970      \n",
            "T 1970-07-18\n",
            "\u001b[92m☑\u001b[0m 1970-07-18\n",
            "---\n",
            "Q october 6, 1992              \n",
            "T 1992-10-06\n",
            "\u001b[92m☑\u001b[0m 1992-10-06\n",
            "---\n",
            "Q 8/23/08                      \n",
            "T 2008-08-23\n",
            "\u001b[92m☑\u001b[0m 2008-08-23\n",
            "---\n",
            "Q 8/30/07                      \n",
            "T 2007-08-30\n",
            "\u001b[92m☑\u001b[0m 2007-08-30\n",
            "---\n",
            "Q 10/28/13                     \n",
            "T 2013-10-28\n",
            "\u001b[92m☑\u001b[0m 2013-10-28\n",
            "---\n",
            "Q sunday, november 6, 2016     \n",
            "T 2016-11-06\n",
            "\u001b[92m☑\u001b[0m 2016-11-06\n",
            "---\n",
            "val acc 99.900%\n",
            "| epoch 4 |  iter 1 / 351 | time 0[s] | loss 0.01\n",
            "| epoch 4 |  iter 21 / 351 | time 13[s] | loss 0.01\n",
            "| epoch 4 |  iter 41 / 351 | time 26[s] | loss 0.01\n",
            "| epoch 4 |  iter 61 / 351 | time 39[s] | loss 0.01\n",
            "| epoch 4 |  iter 81 / 351 | time 52[s] | loss 0.01\n",
            "| epoch 4 |  iter 101 / 351 | time 65[s] | loss 0.01\n",
            "| epoch 4 |  iter 121 / 351 | time 78[s] | loss 0.00\n",
            "| epoch 4 |  iter 141 / 351 | time 91[s] | loss 0.01\n",
            "| epoch 4 |  iter 161 / 351 | time 104[s] | loss 0.00\n",
            "| epoch 4 |  iter 181 / 351 | time 116[s] | loss 0.00\n",
            "| epoch 4 |  iter 201 / 351 | time 129[s] | loss 0.00\n",
            "| epoch 4 |  iter 221 / 351 | time 142[s] | loss 0.00\n",
            "| epoch 4 |  iter 241 / 351 | time 155[s] | loss 0.00\n",
            "| epoch 4 |  iter 261 / 351 | time 168[s] | loss 0.00\n",
            "| epoch 4 |  iter 281 / 351 | time 180[s] | loss 0.00\n",
            "| epoch 4 |  iter 301 / 351 | time 193[s] | loss 0.00\n",
            "| epoch 4 |  iter 321 / 351 | time 206[s] | loss 0.00\n",
            "| epoch 4 |  iter 341 / 351 | time 219[s] | loss 0.00\n",
            "Q 10/15/94                     \n",
            "T 1994-10-15\n",
            "\u001b[92m☑\u001b[0m 1994-10-15\n",
            "---\n",
            "Q thursday, november 13, 2008  \n",
            "T 2008-11-13\n",
            "\u001b[92m☑\u001b[0m 2008-11-13\n",
            "---\n",
            "Q Mar 25, 2003                 \n",
            "T 2003-03-25\n",
            "\u001b[92m☑\u001b[0m 2003-03-25\n",
            "---\n",
            "Q Tuesday, November 22, 2016   \n",
            "T 2016-11-22\n",
            "\u001b[92m☑\u001b[0m 2016-11-22\n",
            "---\n",
            "Q Saturday, July 18, 1970      \n",
            "T 1970-07-18\n",
            "\u001b[92m☑\u001b[0m 1970-07-18\n",
            "---\n",
            "Q october 6, 1992              \n",
            "T 1992-10-06\n",
            "\u001b[92m☑\u001b[0m 1992-10-06\n",
            "---\n",
            "Q 8/23/08                      \n",
            "T 2008-08-23\n",
            "\u001b[92m☑\u001b[0m 2008-08-23\n",
            "---\n",
            "Q 8/30/07                      \n",
            "T 2007-08-30\n",
            "\u001b[92m☑\u001b[0m 2007-08-30\n",
            "---\n",
            "Q 10/28/13                     \n",
            "T 2013-10-28\n",
            "\u001b[92m☑\u001b[0m 2013-10-28\n",
            "---\n",
            "Q sunday, november 6, 2016     \n",
            "T 2016-11-06\n",
            "\u001b[92m☑\u001b[0m 2016-11-06\n",
            "---\n",
            "val acc 99.900%\n",
            "| epoch 5 |  iter 1 / 351 | time 0[s] | loss 0.00\n",
            "| epoch 5 |  iter 21 / 351 | time 13[s] | loss 0.00\n",
            "| epoch 5 |  iter 41 / 351 | time 26[s] | loss 0.00\n",
            "| epoch 5 |  iter 61 / 351 | time 39[s] | loss 0.00\n",
            "| epoch 5 |  iter 81 / 351 | time 52[s] | loss 0.00\n",
            "| epoch 5 |  iter 101 / 351 | time 65[s] | loss 0.00\n",
            "| epoch 5 |  iter 121 / 351 | time 78[s] | loss 0.00\n",
            "| epoch 5 |  iter 141 / 351 | time 90[s] | loss 0.00\n",
            "| epoch 5 |  iter 161 / 351 | time 103[s] | loss 0.00\n",
            "| epoch 5 |  iter 181 / 351 | time 116[s] | loss 0.00\n",
            "| epoch 5 |  iter 201 / 351 | time 129[s] | loss 0.00\n",
            "| epoch 5 |  iter 221 / 351 | time 142[s] | loss 0.00\n",
            "| epoch 5 |  iter 241 / 351 | time 154[s] | loss 0.00\n",
            "| epoch 5 |  iter 261 / 351 | time 167[s] | loss 0.00\n",
            "| epoch 5 |  iter 281 / 351 | time 180[s] | loss 0.00\n",
            "| epoch 5 |  iter 301 / 351 | time 193[s] | loss 0.00\n",
            "| epoch 5 |  iter 321 / 351 | time 206[s] | loss 0.00\n",
            "| epoch 5 |  iter 341 / 351 | time 219[s] | loss 0.00\n",
            "Q 10/15/94                     \n",
            "T 1994-10-15\n",
            "\u001b[92m☑\u001b[0m 1994-10-15\n",
            "---\n",
            "Q thursday, november 13, 2008  \n",
            "T 2008-11-13\n",
            "\u001b[92m☑\u001b[0m 2008-11-13\n",
            "---\n",
            "Q Mar 25, 2003                 \n",
            "T 2003-03-25\n",
            "\u001b[92m☑\u001b[0m 2003-03-25\n",
            "---\n",
            "Q Tuesday, November 22, 2016   \n",
            "T 2016-11-22\n",
            "\u001b[92m☑\u001b[0m 2016-11-22\n",
            "---\n",
            "Q Saturday, July 18, 1970      \n",
            "T 1970-07-18\n",
            "\u001b[92m☑\u001b[0m 1970-07-18\n",
            "---\n",
            "Q october 6, 1992              \n",
            "T 1992-10-06\n",
            "\u001b[92m☑\u001b[0m 1992-10-06\n",
            "---\n",
            "Q 8/23/08                      \n",
            "T 2008-08-23\n",
            "\u001b[92m☑\u001b[0m 2008-08-23\n",
            "---\n",
            "Q 8/30/07                      \n",
            "T 2007-08-30\n",
            "\u001b[92m☑\u001b[0m 2007-08-30\n",
            "---\n",
            "Q 10/28/13                     \n",
            "T 2013-10-28\n",
            "\u001b[92m☑\u001b[0m 2013-10-28\n",
            "---\n",
            "Q sunday, november 6, 2016     \n",
            "T 2016-11-06\n",
            "\u001b[92m☑\u001b[0m 2016-11-06\n",
            "---\n",
            "val acc 99.920%\n",
            "| epoch 6 |  iter 1 / 351 | time 0[s] | loss 0.00\n",
            "| epoch 6 |  iter 21 / 351 | time 13[s] | loss 0.00\n",
            "| epoch 6 |  iter 41 / 351 | time 26[s] | loss 0.00\n",
            "| epoch 6 |  iter 61 / 351 | time 39[s] | loss 0.00\n",
            "| epoch 6 |  iter 81 / 351 | time 52[s] | loss 0.00\n",
            "| epoch 6 |  iter 101 / 351 | time 65[s] | loss 0.00\n",
            "| epoch 6 |  iter 121 / 351 | time 77[s] | loss 0.00\n",
            "| epoch 6 |  iter 141 / 351 | time 90[s] | loss 0.00\n",
            "| epoch 6 |  iter 161 / 351 | time 103[s] | loss 0.00\n",
            "| epoch 6 |  iter 181 / 351 | time 116[s] | loss 0.00\n",
            "| epoch 6 |  iter 201 / 351 | time 129[s] | loss 0.00\n",
            "| epoch 6 |  iter 221 / 351 | time 142[s] | loss 0.00\n",
            "| epoch 6 |  iter 241 / 351 | time 155[s] | loss 0.00\n",
            "| epoch 6 |  iter 261 / 351 | time 167[s] | loss 0.00\n",
            "| epoch 6 |  iter 281 / 351 | time 180[s] | loss 0.00\n",
            "| epoch 6 |  iter 301 / 351 | time 193[s] | loss 0.00\n",
            "| epoch 6 |  iter 321 / 351 | time 206[s] | loss 0.00\n",
            "| epoch 6 |  iter 341 / 351 | time 219[s] | loss 0.00\n",
            "Q 10/15/94                     \n",
            "T 1994-10-15\n",
            "\u001b[91m☒\u001b[0m 1994-05-15\n",
            "---\n",
            "Q thursday, november 13, 2008  \n",
            "T 2008-11-13\n",
            "\u001b[92m☑\u001b[0m 2008-11-13\n",
            "---\n",
            "Q Mar 25, 2003                 \n",
            "T 2003-03-25\n",
            "\u001b[92m☑\u001b[0m 2003-03-25\n",
            "---\n",
            "Q Tuesday, November 22, 2016   \n",
            "T 2016-11-22\n",
            "\u001b[92m☑\u001b[0m 2016-11-22\n",
            "---\n",
            "Q Saturday, July 18, 1970      \n",
            "T 1970-07-18\n",
            "\u001b[92m☑\u001b[0m 1970-07-18\n",
            "---\n",
            "Q october 6, 1992              \n",
            "T 1992-10-06\n",
            "\u001b[92m☑\u001b[0m 1992-10-06\n",
            "---\n",
            "Q 8/23/08                      \n",
            "T 2008-08-23\n",
            "\u001b[92m☑\u001b[0m 2008-08-23\n",
            "---\n",
            "Q 8/30/07                      \n",
            "T 2007-08-30\n",
            "\u001b[92m☑\u001b[0m 2007-08-30\n",
            "---\n",
            "Q 10/28/13                     \n",
            "T 2013-10-28\n",
            "\u001b[91m☒\u001b[0m 2013-08-22\n",
            "---\n",
            "Q sunday, november 6, 2016     \n",
            "T 2016-11-06\n",
            "\u001b[91m☒\u001b[0m 2016-01-06\n",
            "---\n",
            "val acc 81.040%\n",
            "| epoch 7 |  iter 1 / 351 | time 0[s] | loss 0.11\n",
            "| epoch 7 |  iter 21 / 351 | time 13[s] | loss 0.03\n",
            "| epoch 7 |  iter 41 / 351 | time 26[s] | loss 0.01\n",
            "| epoch 7 |  iter 61 / 351 | time 38[s] | loss 0.00\n",
            "| epoch 7 |  iter 81 / 351 | time 51[s] | loss 0.00\n",
            "| epoch 7 |  iter 101 / 351 | time 64[s] | loss 0.00\n",
            "| epoch 7 |  iter 121 / 351 | time 77[s] | loss 0.00\n",
            "| epoch 7 |  iter 141 / 351 | time 90[s] | loss 0.00\n",
            "| epoch 7 |  iter 161 / 351 | time 103[s] | loss 0.00\n",
            "| epoch 7 |  iter 181 / 351 | time 115[s] | loss 0.00\n",
            "| epoch 7 |  iter 201 / 351 | time 128[s] | loss 0.00\n",
            "| epoch 7 |  iter 221 / 351 | time 141[s] | loss 0.00\n",
            "| epoch 7 |  iter 241 / 351 | time 153[s] | loss 0.00\n",
            "| epoch 7 |  iter 261 / 351 | time 166[s] | loss 0.00\n",
            "| epoch 7 |  iter 281 / 351 | time 179[s] | loss 0.00\n",
            "| epoch 7 |  iter 301 / 351 | time 192[s] | loss 0.00\n",
            "| epoch 7 |  iter 321 / 351 | time 204[s] | loss 0.00\n",
            "| epoch 7 |  iter 341 / 351 | time 217[s] | loss 0.00\n",
            "Q 10/15/94                     \n",
            "T 1994-10-15\n",
            "\u001b[92m☑\u001b[0m 1994-10-15\n",
            "---\n",
            "Q thursday, november 13, 2008  \n",
            "T 2008-11-13\n",
            "\u001b[92m☑\u001b[0m 2008-11-13\n",
            "---\n",
            "Q Mar 25, 2003                 \n",
            "T 2003-03-25\n",
            "\u001b[92m☑\u001b[0m 2003-03-25\n",
            "---\n",
            "Q Tuesday, November 22, 2016   \n",
            "T 2016-11-22\n",
            "\u001b[92m☑\u001b[0m 2016-11-22\n",
            "---\n",
            "Q Saturday, July 18, 1970      \n",
            "T 1970-07-18\n",
            "\u001b[92m☑\u001b[0m 1970-07-18\n",
            "---\n",
            "Q october 6, 1992              \n",
            "T 1992-10-06\n",
            "\u001b[92m☑\u001b[0m 1992-10-06\n",
            "---\n",
            "Q 8/23/08                      \n",
            "T 2008-08-23\n",
            "\u001b[92m☑\u001b[0m 2008-08-23\n",
            "---\n",
            "Q 8/30/07                      \n",
            "T 2007-08-30\n",
            "\u001b[92m☑\u001b[0m 2007-08-30\n",
            "---\n",
            "Q 10/28/13                     \n",
            "T 2013-10-28\n",
            "\u001b[92m☑\u001b[0m 2013-10-28\n",
            "---\n",
            "Q sunday, november 6, 2016     \n",
            "T 2016-11-06\n",
            "\u001b[92m☑\u001b[0m 2016-11-06\n",
            "---\n",
            "val acc 100.000%\n",
            "| epoch 8 |  iter 1 / 351 | time 0[s] | loss 0.00\n",
            "| epoch 8 |  iter 21 / 351 | time 14[s] | loss 0.00\n",
            "| epoch 8 |  iter 41 / 351 | time 27[s] | loss 0.00\n",
            "| epoch 8 |  iter 61 / 351 | time 41[s] | loss 0.00\n",
            "| epoch 8 |  iter 81 / 351 | time 54[s] | loss 0.00\n",
            "| epoch 8 |  iter 101 / 351 | time 67[s] | loss 0.00\n",
            "| epoch 8 |  iter 121 / 351 | time 81[s] | loss 0.00\n",
            "| epoch 8 |  iter 141 / 351 | time 94[s] | loss 0.00\n",
            "| epoch 8 |  iter 161 / 351 | time 108[s] | loss 0.00\n",
            "| epoch 8 |  iter 181 / 351 | time 121[s] | loss 0.00\n",
            "| epoch 8 |  iter 201 / 351 | time 135[s] | loss 0.00\n",
            "| epoch 8 |  iter 221 / 351 | time 148[s] | loss 0.00\n",
            "| epoch 8 |  iter 241 / 351 | time 162[s] | loss 0.00\n",
            "| epoch 8 |  iter 261 / 351 | time 176[s] | loss 0.00\n",
            "| epoch 8 |  iter 281 / 351 | time 189[s] | loss 0.00\n",
            "| epoch 8 |  iter 301 / 351 | time 203[s] | loss 0.00\n",
            "| epoch 8 |  iter 321 / 351 | time 216[s] | loss 0.00\n",
            "| epoch 8 |  iter 341 / 351 | time 230[s] | loss 0.00\n",
            "Q 10/15/94                     \n",
            "T 1994-10-15\n",
            "\u001b[92m☑\u001b[0m 1994-10-15\n",
            "---\n",
            "Q thursday, november 13, 2008  \n",
            "T 2008-11-13\n",
            "\u001b[92m☑\u001b[0m 2008-11-13\n",
            "---\n",
            "Q Mar 25, 2003                 \n",
            "T 2003-03-25\n",
            "\u001b[92m☑\u001b[0m 2003-03-25\n",
            "---\n",
            "Q Tuesday, November 22, 2016   \n",
            "T 2016-11-22\n",
            "\u001b[92m☑\u001b[0m 2016-11-22\n",
            "---\n",
            "Q Saturday, July 18, 1970      \n",
            "T 1970-07-18\n",
            "\u001b[92m☑\u001b[0m 1970-07-18\n",
            "---\n",
            "Q october 6, 1992              \n",
            "T 1992-10-06\n",
            "\u001b[92m☑\u001b[0m 1992-10-06\n",
            "---\n",
            "Q 8/23/08                      \n",
            "T 2008-08-23\n",
            "\u001b[92m☑\u001b[0m 2008-08-23\n",
            "---\n",
            "Q 8/30/07                      \n",
            "T 2007-08-30\n",
            "\u001b[92m☑\u001b[0m 2007-08-30\n",
            "---\n",
            "Q 10/28/13                     \n",
            "T 2013-10-28\n",
            "\u001b[92m☑\u001b[0m 2013-10-28\n",
            "---\n",
            "Q sunday, november 6, 2016     \n",
            "T 2016-11-06\n",
            "\u001b[92m☑\u001b[0m 2016-11-06\n",
            "---\n",
            "val acc 100.000%\n",
            "| epoch 9 |  iter 1 / 351 | time 0[s] | loss 0.00\n",
            "| epoch 9 |  iter 21 / 351 | time 14[s] | loss 0.00\n",
            "| epoch 9 |  iter 41 / 351 | time 28[s] | loss 0.00\n",
            "| epoch 9 |  iter 61 / 351 | time 41[s] | loss 0.00\n",
            "| epoch 9 |  iter 81 / 351 | time 55[s] | loss 0.00\n",
            "| epoch 9 |  iter 101 / 351 | time 68[s] | loss 0.00\n",
            "| epoch 9 |  iter 121 / 351 | time 82[s] | loss 0.00\n",
            "| epoch 9 |  iter 141 / 351 | time 95[s] | loss 0.00\n",
            "| epoch 9 |  iter 161 / 351 | time 108[s] | loss 0.00\n",
            "| epoch 9 |  iter 181 / 351 | time 122[s] | loss 0.00\n",
            "| epoch 9 |  iter 201 / 351 | time 135[s] | loss 0.00\n",
            "| epoch 9 |  iter 221 / 351 | time 148[s] | loss 0.00\n",
            "| epoch 9 |  iter 241 / 351 | time 161[s] | loss 0.00\n",
            "| epoch 9 |  iter 261 / 351 | time 175[s] | loss 0.00\n",
            "| epoch 9 |  iter 281 / 351 | time 189[s] | loss 0.00\n",
            "| epoch 9 |  iter 301 / 351 | time 202[s] | loss 0.00\n",
            "| epoch 9 |  iter 321 / 351 | time 216[s] | loss 0.00\n",
            "| epoch 9 |  iter 341 / 351 | time 230[s] | loss 0.00\n",
            "Q 10/15/94                     \n",
            "T 1994-10-15\n",
            "\u001b[92m☑\u001b[0m 1994-10-15\n",
            "---\n",
            "Q thursday, november 13, 2008  \n",
            "T 2008-11-13\n",
            "\u001b[92m☑\u001b[0m 2008-11-13\n",
            "---\n",
            "Q Mar 25, 2003                 \n",
            "T 2003-03-25\n",
            "\u001b[92m☑\u001b[0m 2003-03-25\n",
            "---\n",
            "Q Tuesday, November 22, 2016   \n",
            "T 2016-11-22\n",
            "\u001b[92m☑\u001b[0m 2016-11-22\n",
            "---\n",
            "Q Saturday, July 18, 1970      \n",
            "T 1970-07-18\n",
            "\u001b[92m☑\u001b[0m 1970-07-18\n",
            "---\n",
            "Q october 6, 1992              \n",
            "T 1992-10-06\n",
            "\u001b[92m☑\u001b[0m 1992-10-06\n",
            "---\n",
            "Q 8/23/08                      \n",
            "T 2008-08-23\n",
            "\u001b[92m☑\u001b[0m 2008-08-23\n",
            "---\n",
            "Q 8/30/07                      \n",
            "T 2007-08-30\n",
            "\u001b[92m☑\u001b[0m 2007-08-30\n",
            "---\n",
            "Q 10/28/13                     \n",
            "T 2013-10-28\n",
            "\u001b[92m☑\u001b[0m 2013-10-28\n",
            "---\n",
            "Q sunday, november 6, 2016     \n",
            "T 2016-11-06\n",
            "\u001b[92m☑\u001b[0m 2016-11-06\n",
            "---\n",
            "val acc 100.000%\n",
            "| epoch 10 |  iter 1 / 351 | time 0[s] | loss 0.00\n",
            "| epoch 10 |  iter 21 / 351 | time 14[s] | loss 0.00\n",
            "| epoch 10 |  iter 41 / 351 | time 28[s] | loss 0.00\n",
            "| epoch 10 |  iter 61 / 351 | time 41[s] | loss 0.00\n",
            "| epoch 10 |  iter 81 / 351 | time 54[s] | loss 0.00\n",
            "| epoch 10 |  iter 101 / 351 | time 67[s] | loss 0.00\n",
            "| epoch 10 |  iter 121 / 351 | time 81[s] | loss 0.00\n",
            "| epoch 10 |  iter 141 / 351 | time 94[s] | loss 0.00\n",
            "| epoch 10 |  iter 161 / 351 | time 107[s] | loss 0.00\n",
            "| epoch 10 |  iter 181 / 351 | time 120[s] | loss 0.00\n",
            "| epoch 10 |  iter 201 / 351 | time 133[s] | loss 0.00\n",
            "| epoch 10 |  iter 221 / 351 | time 146[s] | loss 0.00\n",
            "| epoch 10 |  iter 241 / 351 | time 159[s] | loss 0.00\n",
            "| epoch 10 |  iter 261 / 351 | time 172[s] | loss 0.00\n",
            "| epoch 10 |  iter 281 / 351 | time 185[s] | loss 0.00\n",
            "| epoch 10 |  iter 301 / 351 | time 198[s] | loss 0.00\n",
            "| epoch 10 |  iter 321 / 351 | time 211[s] | loss 0.00\n",
            "| epoch 10 |  iter 341 / 351 | time 224[s] | loss 0.00\n",
            "Q 10/15/94                     \n",
            "T 1994-10-15\n",
            "\u001b[92m☑\u001b[0m 1994-10-15\n",
            "---\n",
            "Q thursday, november 13, 2008  \n",
            "T 2008-11-13\n",
            "\u001b[92m☑\u001b[0m 2008-11-13\n",
            "---\n",
            "Q Mar 25, 2003                 \n",
            "T 2003-03-25\n",
            "\u001b[92m☑\u001b[0m 2003-03-25\n",
            "---\n",
            "Q Tuesday, November 22, 2016   \n",
            "T 2016-11-22\n",
            "\u001b[92m☑\u001b[0m 2016-11-22\n",
            "---\n",
            "Q Saturday, July 18, 1970      \n",
            "T 1970-07-18\n",
            "\u001b[92m☑\u001b[0m 1970-07-18\n",
            "---\n",
            "Q october 6, 1992              \n",
            "T 1992-10-06\n",
            "\u001b[92m☑\u001b[0m 1992-10-06\n",
            "---\n",
            "Q 8/23/08                      \n",
            "T 2008-08-23\n",
            "\u001b[92m☑\u001b[0m 2008-08-23\n",
            "---\n",
            "Q 8/30/07                      \n",
            "T 2007-08-30\n",
            "\u001b[92m☑\u001b[0m 2007-08-30\n",
            "---\n",
            "Q 10/28/13                     \n",
            "T 2013-10-28\n",
            "\u001b[92m☑\u001b[0m 2013-10-28\n",
            "---\n",
            "Q sunday, november 6, 2016     \n",
            "T 2016-11-06\n",
            "\u001b[92m☑\u001b[0m 2016-11-06\n",
            "---\n",
            "val acc 100.000%\n"
          ],
          "name": "stdout"
        }
      ]
    },
    {
      "cell_type": "code",
      "metadata": {
        "id": "-fks3_l5xXLV",
        "colab_type": "code",
        "colab": {
          "base_uri": "https://localhost:8080/",
          "height": 279
        },
        "outputId": "de13ba29-0d08-4d2b-b242-2bfcc92f2181"
      },
      "source": [
        "# グラフの描画\n",
        "x = np.arange(len(acc_list))\n",
        "plt.plot(x, acc_list, marker='o')\n",
        "plt.xlabel('epochs')\n",
        "plt.ylabel('accuracy')\n",
        "plt.ylim(-0.05, 1.05)\n",
        "plt.show()"
      ],
      "execution_count": 24,
      "outputs": [
        {
          "output_type": "display_data",
          "data": {
            "image/png": "[encoded data removed]",
            "text/plain": [
              "<Figure size 432x288 with 1 Axes>"
            ]
          },
          "metadata": {
            "tags": [],
            "needs_background": "light"
          }
        }
      ]
    },
    {
      "cell_type": "code",
      "metadata": {
        "id": "68LKx-7gyAgq",
        "colab_type": "code",
        "colab": {}
      },
      "source": [
        ""
      ],
      "execution_count": 0,
      "outputs": []
    },
    {
      "cell_type": "markdown",
      "metadata": {
        "id": "3rwsWmUP5Fu0",
        "colab_type": "text"
      },
      "source": [
        "### Attentionの可視化"
      ]
    },
    {
      "cell_type": "code",
      "metadata": {
        "id": "l0hRlJhaAwXM",
        "colab_type": "code",
        "colab": {
          "base_uri": "https://localhost:8080/",
          "height": 1000
        },
        "outputId": "6894131f-114d-45ad-b222-f77e74b91060"
      },
      "source": [
        "import sys\n",
        "sys.path.append('..')\n",
        "import numpy as np\n",
        "from dataset import sequence\n",
        "import matplotlib.pyplot as plt\n",
        "from ch08.attention_seq2seq import AttentionSeq2seq\n",
        "\n",
        "(x_train, t_train), (x_test, t_test) = sequence.load_data('date.txt')\n",
        "char_to_id, id_to_char = sequence.get_vocab()\n",
        "\n",
        "# Reverse input\n",
        "x_train, x_test = x_train[:, ::-1], x_test[:, ::-1]\n",
        "\n",
        "vocab_size = len(char_to_id)\n",
        "wordvec_size = 16\n",
        "hidden_size = 256\n",
        "\n",
        "model = AttentionSeq2seq(vocab_size, wordvec_size, hidden_size)\n",
        "model.load_params()\n",
        "\n",
        "_idx = 0\n",
        "\n",
        "def visualize(attention_map, row_labels, column_labels):\n",
        "  fig, ax = plt.subplots()\n",
        "  ax.pcolor(attention_map, cmap=plt.cm.Greys_r, vmin=0.0, vmax=1.0)\n",
        "\n",
        "  ax.patch.set_facecolor('black')\n",
        "  ax.set_yticks(np.arange(attention_map.shape[0])+0.5, minor=False)\n",
        "  ax.set_xticks(np.arange(attention_map.shape[1])+0.5, minor=False)\n",
        "  ax.invert_yaxis()\n",
        "  ax.set_xticklabels(row_labels, minor=False)\n",
        "  ax.set_yticklabels(column_labels, minor=False)\n",
        "\n",
        "  global _idx\n",
        "  _idx += 1\n",
        "  plt.show()\n",
        "\n",
        "np.random.seed(1984)\n",
        "\n",
        "for _ in range(5):\n",
        "  idx = [np.random.randint(0, len(x_test))]\n",
        "  x = x_test[idx]\n",
        "  t = t_test[idx]\n",
        "\n",
        "  model.forward(x, t)\n",
        "  d = model.decoder.attention.attention_weights\n",
        "  d = np.array(d)\n",
        "  attention_map = d.reshape(d.shape[0], d.shape[2])\n",
        "\n",
        "  # reverse for print\n",
        "  attention_map = attention_map[:, ::-1]\n",
        "  x = x[:, ::-1]\n",
        "\n",
        "  row_labels = [id_to_char[i] for i in x[0]]\n",
        "  column_labels = [id_to_char[i] for i in t[0]]\n",
        "  column_labels = column_labels[1:]\n",
        "\n",
        "  visualize(attention_map, row_labels, column_labels)"
      ],
      "execution_count": 26,
      "outputs": [
        {
          "output_type": "display_data",
          "data": {
            "image/png": "[encoded data removed]",
            "text/plain": [
              "<Figure size 432x288 with 1 Axes>"
            ]
          },
          "metadata": {
            "tags": [],
            "needs_background": "light"
          }
        },
        {
          "output_type": "display_data",
          "data": {
            "image/png": "[encoded data removed]",
            "text/plain": [
              "<Figure size 432x288 with 1 Axes>"
            ]
          },
          "metadata": {
            "tags": [],
            "needs_background": "light"
          }
        },
        {
          "output_type": "display_data",
          "data": {
            "image/png": "[encoded data removed]",
            "text/plain": [
              "<Figure size 432x288 with 1 Axes>"
            ]
          },
          "metadata": {
            "tags": [],
            "needs_background": "light"
          }
        },
        {
          "output_type": "display_data",
          "data": {
            "image/png": "[encoded data removed]",
            "text/plain": [
              "<Figure size 432x288 with 1 Axes>"
            ]
          },
          "metadata": {
            "tags": [],
            "needs_background": "light"
          }
        },
        {
          "output_type": "display_data",
          "data": {
            "image/png": "[encoded data removed]",
            "text/plain": [
              "<Figure size 432x288 with 1 Axes>"
            ]
          },
          "metadata": {
            "tags": [],
            "needs_background": "light"
          }
        }
      ]
    },
    {
      "cell_type": "markdown",
      "metadata": {
        "id": "AAW8yb-UF-Ia",
        "colab_type": "text"
      },
      "source": [
        "## Attentionに関する残りのテーマ"
      ]
    },
    {
      "cell_type": "markdown",
      "metadata": {
        "id": "07Ubo9I2GDy9",
        "colab_type": "text"
      },
      "source": [
        "### 双方向RNN\n",
        "+ 文章を左から右に読むだけでなく、右から左に読むなどもしたい。\n",
        "\n",
        "+ 双方向LSTMはこれまでのLSTMレイヤに加えて、逆方向に処理するLSTMレイヤも追加する\n",
        "  + 各時刻において2つのLSTMレイヤの隠れ状態を連結し、それを最終的な隠れ状態ベクトルとする\n",
        "  + 双方向から処理することで、各単語に対応する隠れ状態ベクトルは左と右の両方向から情報を集約することができる。\n",
        "\n",
        "+ 実装方法\n",
        " + 一つのLSTMレイヤはこれまで通りの入力文を与える（左から右方向）\n",
        " + もう一つのLSTMレイヤには入力文を右から左方向に並べ替えたものを与える。\n",
        " + これら二つのLSTMレイヤの出力を連結すれば双方向LSTMレイヤができる。"
      ]
    },
    {
      "cell_type": "markdown",
      "metadata": {
        "id": "mZVZL3-3ILQ3",
        "colab_type": "text"
      },
      "source": [
        "### Attentionレイヤの使用方法\n",
        "+ Attentionレイヤをどこに置くかで精度が変わるが、やってみないとわからない。\n",
        " + AttentionレイヤをLSTMレイヤとAffineレイヤの間に入れるケース\n",
        " + 次時刻のLSTMレイヤとの間に入れるケース"
      ]
    },
    {
      "cell_type": "markdown",
      "metadata": {
        "id": "I4dJWKNuJQ8J",
        "colab_type": "text"
      },
      "source": [
        "### seq2seqの深層化とskipコネクション\n",
        "+ 深層化\n",
        " + 層を重ねることで、表現力の高いモデルを作ることができる。\n",
        "   + 層を重ねた場合、複数のレイヤにAttentionレイヤによるコンテキストベクトルを渡していく。\n",
        "+ skipコネクション\n",
        " + 層をまたいで線を繋ぐ（加算）というシンプルなテクニック\n",
        "   + 逆伝播時には勾配をそのまま流すだけになる。勾配が消失あるいは爆発しない。"
      ]
    },
    {
      "cell_type": "markdown",
      "metadata": {
        "id": "3wQBSlPPLIzR",
        "colab_type": "text"
      },
      "source": [
        "## Attentionの応用"
      ]
    },
    {
      "cell_type": "markdown",
      "metadata": {
        "id": "GDFr1dQVLO8j",
        "colab_type": "text"
      },
      "source": [
        "### Google Neural Machine Translation(GNMT)\n",
        "+ LSTMレイヤの多層化\n",
        "+ skipコネクション\n",
        "+ 複数GPUでの分散学習"
      ]
    },
    {
      "cell_type": "markdown",
      "metadata": {
        "id": "TkB5uSNGL96W",
        "colab_type": "text"
      },
      "source": [
        "### Transformer\n",
        "+ RNNの欠点は並列化処理\n",
        " + 前の時間に計算した結果を使って逐次的に計算するため、時間方向で並列化することはできない。\n",
        " + RNNを使わないようにする研究があるらしい。\n",
        "  + 代わりにCNNを使ったり、Attentionを使ったり\n",
        "\n",
        "\n",
        "+ TransformerはAttentionによって構成される。\n",
        " + Self-Attention（自分自身に対してのAttention）\n",
        "  + ひとつの時系列データ内において各要素が他の要素に対してどのような関連性があるのかを見ていこうというもの。\n",
        " + 計算量を抑え、GPUによる並列計算の恩恵をより多くうけることができる。"
      ]
    },
    {
      "cell_type": "code",
      "metadata": {
        "id": "YPi3hO_eFeF8",
        "colab_type": "code",
        "colab": {}
      },
      "source": [
        ""
      ],
      "execution_count": 0,
      "outputs": []
    }
  ]
}