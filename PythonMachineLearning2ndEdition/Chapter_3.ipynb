{
 "cells": [
  {
   "cell_type": "code",
   "execution_count": 112,
   "metadata": {
    "slideshow": {
     "slide_type": "skip"
    }
   },
   "outputs": [],
   "source": [
    "from IPython.display import Image\n",
    "from IPython.core.display import HTML \n",
    "\n",
    "import warnings\n",
    "warnings.filterwarnings('ignore')"
   ]
  },
  {
   "cell_type": "markdown",
   "metadata": {
    "slideshow": {
     "slide_type": "slide"
    }
   },
   "source": [
    "## [DSO] Machine Learning Seminar Vol.2\n",
    "2020-02-xx  \n",
    "SKUE"
   ]
  },
  {
   "cell_type": "markdown",
   "metadata": {
    "slideshow": {
     "slide_type": "slide"
    }
   },
   "source": [
    "## Chapter3：分類問題-機械学習ライブラリscikit-learnの活用\n",
    "+ a\n",
    "+ b\n",
    "+ c"
   ]
  },
  {
   "cell_type": "markdown",
   "metadata": {
    "slideshow": {
     "slide_type": "subslide"
    }
   },
   "source": [
    "### 分類アルゴリズムの選択\n",
    "+ 1.特徴量を選択し、トレーニングサンプルを収集する\n",
    "+ 2.性能評価\n",
    "+ 3.分類器と最適化アルゴリズムを選択する\n",
    "+ 4.モデルの性能を評価する\n",
    "+ 5.アルゴリズムを調整する"
   ]
  },
  {
   "cell_type": "markdown",
   "metadata": {
    "slideshow": {
     "slide_type": "subslide"
    }
   },
   "source": [
    "### パーセプトロン"
   ]
  },
  {
   "cell_type": "markdown",
   "metadata": {
    "slideshow": {
     "slide_type": "-"
    }
   },
   "source": [
    "#### パーセプトロンのトレーニング"
   ]
  },
  {
   "cell_type": "code",
   "execution_count": 23,
   "metadata": {
    "slideshow": {
     "slide_type": "skip"
    }
   },
   "outputs": [
    {
     "name": "stdout",
     "output_type": "stream",
     "text": [
      "Class labels: [0 1 2]\n"
     ]
    }
   ],
   "source": [
    "# パーセプトロンのトレーニング\n",
    "from sklearn import datasets\n",
    "import numpy as np\n",
    "\n",
    "iris = datasets.load_iris()\n",
    "X = iris.data[:, [2, 3]]\n",
    "y = iris.target\n",
    "print('Class labels:', np.unique(y))"
   ]
  },
  {
   "cell_type": "markdown",
   "metadata": {
    "slideshow": {
     "slide_type": "skip"
    }
   },
   "source": [
    "クラスラベルを整数として符号化するのが慣例"
   ]
  },
  {
   "cell_type": "code",
   "execution_count": 13,
   "metadata": {
    "slideshow": {
     "slide_type": "skip"
    }
   },
   "outputs": [
    {
     "name": "stdout",
     "output_type": "stream",
     "text": [
      "(105, 2)\n",
      "(45, 2)\n",
      "(105,)\n",
      "(45,)\n"
     ]
    }
   ],
   "source": [
    "from sklearn.model_selection import train_test_split\n",
    "\n",
    "X_train, X_test, y_train, y_test = train_test_split(X,\n",
    "                                                                                        y,\n",
    "                                                                                        test_size=0.3, # テスト用データの割合\n",
    "                                                                                        random_state=1, # 乱数seedの固定\n",
    "                                                                                        stratify=y # If not None, data is split in a stratified fashion, using this as the class labels.\n",
    "                                                                                                          # 引数stratifyに均等に分割させたいデータ（多くの場合は正解ラベル）を指定すると、\n",
    "                                                                                                          # そのデータの値の比率が一致するように分割される。\n",
    "                                                                                       )\n",
    "print(X_train.shape)\n",
    "print(X_test.shape)\n",
    "print(y_train.shape)\n",
    "print(y_test.shape)"
   ]
  },
  {
   "cell_type": "code",
   "execution_count": 16,
   "metadata": {
    "slideshow": {
     "slide_type": "skip"
    }
   },
   "outputs": [
    {
     "name": "stdout",
     "output_type": "stream",
     "text": [
      "Labels counts in y: [50 50 50]\n",
      "Labels counts in y_train: [35 35 35]\n",
      "Labels counts in y_test: [15 15 15]\n"
     ]
    }
   ],
   "source": [
    "# Count number of occurrences of each value in array of non-negative ints.\n",
    "print('Labels counts in y:', np.bincount(y))\n",
    "\n",
    "print('Labels counts in y_train:', np.bincount(y_train))\n",
    "print('Labels counts in y_test:', np.bincount(y_test))"
   ]
  },
  {
   "cell_type": "code",
   "execution_count": 18,
   "metadata": {
    "slideshow": {
     "slide_type": "skip"
    }
   },
   "outputs": [],
   "source": [
    "from sklearn.preprocessing import StandardScaler\n",
    "\n",
    "# Standardize features by removing the mean and scaling to unit variance\n",
    "# The standard score of a sample x is calculated as:\n",
    "# z = (x - u) / s\n",
    "sc = StandardScaler()\n",
    "\n",
    "sc.fit(X_train)\n",
    "X_train_std = sc.transform(X_train)\n",
    "X_test_std = sc.transform(X_test)"
   ]
  },
  {
   "cell_type": "code",
   "execution_count": 19,
   "metadata": {
    "slideshow": {
     "slide_type": "skip"
    }
   },
   "outputs": [
    {
     "name": "stderr",
     "output_type": "stream",
     "text": [
      "/Users/Sakaue/anaconda/lib/python3.5/site-packages/sklearn/linear_model/stochastic_gradient.py:130: DeprecationWarning: n_iter parameter is deprecated in 0.19 and will be removed in 0.21. Use max_iter and tol instead.\n",
      "  DeprecationWarning)\n"
     ]
    },
    {
     "data": {
      "text/plain": [
       "Perceptron(alpha=0.0001, class_weight=None, early_stopping=False, eta0=0.1,\n",
       "      fit_intercept=True, max_iter=None, n_iter=40, n_iter_no_change=5,\n",
       "      n_jobs=None, penalty=None, random_state=1, shuffle=True, tol=None,\n",
       "      validation_fraction=0.1, verbose=0, warm_start=False)"
      ]
     },
     "execution_count": 19,
     "metadata": {},
     "output_type": "execute_result"
    }
   ],
   "source": [
    "from sklearn.linear_model import Perceptron\n",
    "\n",
    "ppn = Perceptron(n_iter=40, eta0=0.1, random_state=1)\n",
    "ppn.fit(X_train_std, y_train)"
   ]
  },
  {
   "cell_type": "code",
   "execution_count": 22,
   "metadata": {
    "slideshow": {
     "slide_type": "skip"
    }
   },
   "outputs": [
    {
     "name": "stdout",
     "output_type": "stream",
     "text": [
      "Misclassified samples: 9\n"
     ]
    }
   ],
   "source": [
    "y_pred = ppn.predict(X_test_std)\n",
    "print('Misclassified samples: %d' % (y_test != y_pred).sum())"
   ]
  },
  {
   "cell_type": "code",
   "execution_count": 26,
   "metadata": {
    "slideshow": {
     "slide_type": "skip"
    }
   },
   "outputs": [
    {
     "name": "stdout",
     "output_type": "stream",
     "text": [
      "Accuracy: 0.80\n",
      "Accuracy: 0.80\n"
     ]
    }
   ],
   "source": [
    "from sklearn.metrics import accuracy_score\n",
    "\n",
    "print('Accuracy: %.2f' % accuracy_score(y_test, y_pred))\n",
    "print('Accuracy: %.2f' % ppn.score(X_test_std, y_test)) # scoreメソッドでも同じことができる。"
   ]
  },
  {
   "cell_type": "code",
   "execution_count": 39,
   "metadata": {
    "slideshow": {
     "slide_type": "skip"
    }
   },
   "outputs": [],
   "source": [
    "from matplotlib.colors import ListedColormap\n",
    "import matplotlib.pyplot as plt\n",
    "\n",
    "def plot_decision_regions(X, y, classifier, test_idx, resolution=0.02):\n",
    "    markers = ('s', 'x', 'o', '^', 'v') # マーカー\n",
    "    colors = ('red', 'blue', 'lightgreen', 'gray', 'cyan') # 色\n",
    "    cmap = ListedColormap(colors[:len(np.unique(y))]) # Colormap object generated from a list of colors.\n",
    "    \n",
    "    x1_min, x1_max = X[:, 0].min() - 1, X[:, 0].max() + 1 # 領域を描くに際して最大値、最小値の情報を取得\n",
    "    x2_min, x2_max = X[:, 1].min() - 1, X[:, 1].max() + 1\n",
    "    \n",
    "    xx1, xx2 = np.meshgrid(np.arange(x1_min, x1_max, resolution), # Return coordinate matrices from coordinate vectors.\n",
    "                                              np.arange(x2_min, x2_max, resolution)) # resolutionはgridの1単位に該当する\n",
    "    \n",
    "    Z = classifier.predict(np.array([xx1.ravel(), xx2.ravel()]).T) # ravelで1次元のベクトルにして転置して予測\n",
    "    Z = Z.reshape(xx1.shape)  # Zはただのベクトルなのでxx1と同じデータ構造に変換する\n",
    "    plt.contourf(xx1, xx2, Z, alpha=0.3, cmap=cmap) # 等高線を描く\n",
    "    plt.xlim(xx1.min(), xx1.max())\n",
    "    plt.ylim(xx2.min(), xx2.max())\n",
    "    \n",
    "    for idx, cl in enumerate(np.unique(y)): # enumerateは引数にリストなどのイテラブルオブジェクトを指定すると、インデックス番号(idx)と要素(cl)が取得できる。\n",
    "        plt.scatter(x = X[y == cl, 0],\n",
    "                            y = X[y == cl, 1],\n",
    "                            alpha = 0.8,\n",
    "                            c = colors[idx],\n",
    "                            marker=markers[idx],\n",
    "                            label=cl,\n",
    "                            edgecolor='black'\n",
    "                            )\n",
    "        \n",
    "        # テストサンプルを目立たせる\n",
    "        if test_idx:\n",
    "            # すべてのサンプルをプロット\n",
    "            X_test, y_test = X[test_idx, :], y[test_idx]\n",
    "            plt.scatter(X_test[:, 0], X_test[:, 1],\n",
    "                               c='',\n",
    "                               edgecolor='black',\n",
    "                               alpha=1.0,\n",
    "                               linewidth=1,\n",
    "                               marker='o',\n",
    "                               s=100,\n",
    "                               label='test set')"
   ]
  },
  {
   "cell_type": "code",
   "execution_count": 43,
   "metadata": {
    "slideshow": {
     "slide_type": "subslide"
    }
   },
   "outputs": [
    {
     "data": {
      "image/png": "[encoded data removed]",
      "text/plain": [
       "<Figure size 432x288 with 1 Axes>"
      ]
     },
     "metadata": {
      "needs_background": "light"
     },
     "output_type": "display_data"
    }
   ],
   "source": [
    "# トレーニングとテストデータの特徴量を行方向に結合\n",
    "X_combined_std = np.vstack((X_train_std, X_test_std))\n",
    "# トレーニングデータとテストデータのクラスラベルを結合\n",
    "y_combined = np.hstack((y_train, y_test))\n",
    "# 決定境界のプロット\n",
    "plot_decision_regions(X=X_combined_std,\n",
    "                                        y=y_combined,\n",
    "                                        classifier=ppn,\n",
    "                                        test_idx=range(105, 150)\n",
    "                                        )\n",
    "# 軸ラベルの設定\n",
    "plt.xlabel('petal length [standardized]')\n",
    "plt.ylabel('petal width [standardized]')\n",
    "# 凡例の設定（左上に配置）\n",
    "plt.legend(loc='upper left');\n",
    "plt.tight_layout();\n",
    "plt.show();"
   ]
  },
  {
   "cell_type": "markdown",
   "metadata": {
    "slideshow": {
     "slide_type": "subslide"
    }
   },
   "source": [
    "#### scikit-learnの線形モデル（40個くらいある）\n",
    "+ linear_model.LogisticRegression([penalty, …]):Logistic Regression (aka logit, MaxEnt) classifier.\n",
    "+ linear_model.LogisticRegressionCV([Cs, …]):Logistic Regression CV (aka logit, MaxEnt) classifier.\n",
    "+ linear_model.PassiveAggressiveClassifier([…]):Passive Aggressive Classifier\n",
    "+ linear_model.Perceptron([penalty, alpha, …]):Read more in the User Guide.\n",
    "+ linear_model.RidgeClassifier([alpha, …]):Classifier using Ridge regression.\n",
    "+ linear_model.RidgeClassifierCV([alphas, …]):Ridge classifier with built-in cross-validation.\n",
    "+ linear_model.SGDClassifier([loss, penalty, …]):Linear classifiers (SVM, logistic regression, a.o.) with SGD training.\n",
    "\n",
    "\n",
    "+ linear_model.LinearRegression([…]):Ordinary least squares Linear Regression.\n",
    "+ linear_model.Ridge([alpha, fit_intercept, …]):Linear least squares with l2 regularization.\n",
    "+ linear_model.RidgeCV([alphas, …]):Ridge regression with built-in cross-validation.\n",
    "+ linear_model.SGDRegressor([loss, penalty, …]):Linear model fitted by minimizing a regularized empirical loss with SGD"
   ]
  },
  {
   "cell_type": "markdown",
   "metadata": {
    "slideshow": {
     "slide_type": "subslide"
    }
   },
   "source": [
    "+ linear_model.ElasticNet([alpha, l1_ratio, …]):Linear regression with combined L1 and L2 priors as regularizer.\n",
    "+ linear_model.ElasticNetCV([l1_ratio, eps, …]):Elastic Net model with iterative fitting along a regularization path.\n",
    "+ linear_model.Lars([fit_intercept, verbose, …]):Least Angle Regression model a.k.a.\n",
    "+ linear_model.LarsCV([fit_intercept, …]):Cross-validated Least Angle Regression model.\n",
    "+ linear_model.Lasso([alpha, fit_intercept, …]):Linear Model trained with L1 prior as regularizer (aka the Lasso)\n",
    "+ linear_model.LassoCV([eps, n_alphas, …]):Lasso linear model with iterative fitting along a regularization path.\n",
    "+ linear_model.LassoLars([alpha, …]):Lasso model fit with Least Angle Regression a.k.a.\n",
    "+ linear_model.LassoLarsCV([fit_intercept, …]):Cross-validated Lasso, using the LARS algorithm.\n",
    "+ linear_model.LassoLarsIC([criterion, …]):Lasso model fit with Lars using BIC or AIC for model selection\n",
    "+ linear_model.OrthogonalMatchingPursuit([…]):Orthogonal Matching Pursuit model (OMP)\n",
    "+ linear_model.OrthogonalMatchingPursuitCV([…]):Cross-validated Orthogonal Matching Pursuit model (OMP)."
   ]
  },
  {
   "cell_type": "markdown",
   "metadata": {
    "slideshow": {
     "slide_type": "subslide"
    }
   },
   "source": [
    "+ linear_model.ARDRegression([n_iter, tol, …]):Bayesian ARD regression.\n",
    "+ linear_model.BayesianRidge([n_iter, tol, …]):Bayesian ridge regression.\n",
    "\n",
    "+ linear_model.MultiTaskElasticNet([alpha, …]):Multi-task ElasticNet model trained with L1/L2 mixed-norm as regularizer\n",
    "+ linear_model.MultiTaskElasticNetCV([…]):Multi-task L1/L2 ElasticNet with built-in cross-validation.\n",
    "+ linear_model.MultiTaskLasso([alpha, …]):Multi-task Lasso model trained with L1/L2 mixed-norm as regularizer.\n",
    "+ linear_model.MultiTaskLassoCV([eps, …]):Multi-task Lasso model trained with L1/L2 mixed-norm as regularizer."
   ]
  },
  {
   "cell_type": "markdown",
   "metadata": {
    "slideshow": {
     "slide_type": "subslide"
    }
   },
   "source": [
    "+ linear_model.HuberRegressor([epsilon, …]):Linear regression model that is robust to outliers.\n",
    "+ linear_model.RANSACRegressor([…]):RANSAC (RANdom SAmple Consensus) algorithm.\n",
    "+ linear_model.TheilSenRegressor([…]):Theil-Sen Estimator: robust multivariate regression model.\n",
    "\n",
    "+ linear_model.PassiveAggressiveRegressor([C, …]):Passive Aggressive Regressor\n",
    "+ linear_model.enet_path(X, y[, l1_ratio, …]):Compute elastic net path with coordinate descent.\n",
    "+ linear_model.lars_path(X, y[, Xy, Gram, …]):Compute Least Angle Regression or Lasso path using LARS algorithm [1]\n",
    "+ linear_model.lars_path_gram(Xy, Gram, n_samples):lars_path in the sufficient stats mode [1]\n",
    "+ linear_model.lasso_path(X, y[, eps, …]):Compute Lasso path with coordinate descent\n",
    "+ linear_model.orthogonal_mp(X, y[, …]):Orthogonal Matching Pursuit (OMP)\n",
    "+ linear_model.orthogonal_mp_gram(Gram, Xy[, …]):Gram Orthogonal Matching Pursuit (OMP)\n",
    "+ linear_model.ridge_regression(X, y, alpha[, …]):Solve the ridge equation by the method of normal equations."
   ]
  },
  {
   "cell_type": "markdown",
   "metadata": {
    "slideshow": {
     "slide_type": "slide"
    }
   },
   "source": [
    "### ロジスティック回帰\n",
    "+ 分類モデル（多クラス問題も扱える）\n",
    "+ 線形モデル"
   ]
  },
  {
   "cell_type": "markdown",
   "metadata": {
    "slideshow": {
     "slide_type": "subslide"
    }
   },
   "source": [
    "ロジット関数\n",
    "$$\n",
    "logit(p) = log \\frac{p}{(1-p)}\n",
    "$$\n",
    "はオッズ比\n",
    "$$\n",
    "\\frac{p}{(1-p)}\n",
    "$$\n",
    "の自然対数となる。\n",
    "ロジット関数は特徴量の値と対数オッズとの間の線形関係を表すことができる。\n",
    "$$\n",
    "logit(p(y=1 | x)) = w_0 x_0 + w_1 x_1 + \\dots + w_1 x_m = \\sum _{i=0}^{m} w_i x_i = w^{T}x\n",
    "$$\n",
    "よって、  \n",
    "$$\n",
    "log \\frac{p}{(1-p)} =  w^{T}x\n",
    "$$\n",
    "変形すると、\n",
    "$$\n",
    "p = \\frac{e^{w^{T}x}}{1+e^{w^{T}x}} = \\frac{1}{1+e^{-w^{T}x}}\n",
    "$$\n",
    "となる。この関数は値域が0から1の間に収まるため、割合などの予測に適している。また、この関数は以下のようにも表現できる。  \n",
    "$$\n",
    "\\phi (z ) = \\frac{1}{1+e^{-z}} \\\\\n",
    "z = w^{T}x=w_0 x_0 + w_1 x_1 + \\dots + w_m x_m\n",
    "$$\n",
    "なお、ここでのw_0はバイアスユニットを表し、x_0は１に設定される。"
   ]
  },
  {
   "cell_type": "code",
   "execution_count": 66,
   "metadata": {
    "slideshow": {
     "slide_type": "subslide"
    }
   },
   "outputs": [
    {
     "data": {
      "text/html": [
       "<img src=\"https://sebastianraschka.com/images/faq/logisticregr-neuralnet/schematic.png\"/>"
      ],
      "text/plain": [
       "<IPython.core.display.Image object>"
      ]
     },
     "execution_count": 66,
     "metadata": {},
     "output_type": "execute_result"
    }
   ],
   "source": [
    "Image(url=\"https://sebastianraschka.com/images/faq/logisticregr-neuralnet/schematic.png\")"
   ]
  },
  {
   "cell_type": "markdown",
   "metadata": {
    "slideshow": {
     "slide_type": "subslide"
    }
   },
   "source": [
    "#### シグモイド関数をプロットしてみる"
   ]
  },
  {
   "cell_type": "code",
   "execution_count": 64,
   "metadata": {
    "slideshow": {
     "slide_type": "-"
    }
   },
   "outputs": [],
   "source": [
    "import matplotlib.pyplot as plt\n",
    "import numpy as np\n",
    "\n",
    "# シグモイド関数を定義\n",
    "def sigmoid(z):\n",
    "    return 1.0/ (1.0 + np.exp(-z))\n",
    "\n",
    "z = np.arange(-7, 7, 0.1)\n",
    "phi_z = sigmoid(z)"
   ]
  },
  {
   "cell_type": "code",
   "execution_count": 65,
   "metadata": {
    "slideshow": {
     "slide_type": "subslide"
    }
   },
   "outputs": [
    {
     "data": {
      "image/png": "[encoded data removed]",
      "text/plain": [
       "<Figure size 432x288 with 1 Axes>"
      ]
     },
     "metadata": {
      "needs_background": "light"
     },
     "output_type": "display_data"
    }
   ],
   "source": [
    "plt.plot(z, phi_z);\n",
    "plt.axvline(0.0, color='k');\n",
    "plt.ylim(-0.1, 1.1);\n",
    "plt.xlabel('z');\n",
    "plt.ylabel('$\\phi (z)$');\n",
    "plt.yticks([0.0, 0.5, 1.0]);\n",
    "ax = plt.gca();\n",
    "ax.yaxis.grid(True);\n",
    "figure = plt.tight_layout()"
   ]
  },
  {
   "cell_type": "markdown",
   "metadata": {
    "slideshow": {
     "slide_type": "subslide"
    }
   },
   "source": [
    "このシグモイド関数の出力は、インスタンスがクラス1に属している確率  \n",
    "$$\n",
    "\\phi (z) = P(y=1 | x;w)\n",
    "$$\n",
    "として表すことができる。  クラスが2つしかない場合、  以下のように、もう片方のクラスの確率を簡単に計算できる。\n",
    "$$\n",
    "\\phi (z) = P(y=1 | x;w) = 0.8 \\\\\n",
    "1 - \\phi (z) =  P(y=0 | x;w) = 0.2 \n",
    "$$\n",
    "\n",
    "二値分類の際は、確率に対して閾値関数を使用することで変換すればよい。\n",
    "$$\n",
    "    \\hat y =\n",
    "        \\begin{cases}\n",
    "            1 \\quad \\phi (z) \\geqq 0.5 \\\\\n",
    "            0 \\quad \\phi (z) < 0.5 \\\\\n",
    "        \\end{cases}\n",
    "$$\n",
    "なお、z=0のときφ(0)=0.5であるから、先程の図から明らかなように、この前後でzが負値から正値に切り替わることがわかる。そのため、\n",
    "$$\n",
    "    \\hat y =\n",
    "        \\begin{cases}\n",
    "            1 \\quad z \\geqq 0.0 \\\\\n",
    "            0 \\quad z < 0.0 \\\\\n",
    "        \\end{cases}\n",
    "$$\n",
    "と書き換えることができる。  \n",
    "scikit-learnのソースコードを実際に見てみると前述の式と同様に、zが正か負かによってラベルを割り当てているのがわかる。"
   ]
  },
  {
   "cell_type": "markdown",
   "metadata": {
    "slideshow": {
     "slide_type": "subslide"
    }
   },
   "source": [
    "#### scikit-learnのソースコード"
   ]
  },
  {
   "cell_type": "code",
   "execution_count": 73,
   "metadata": {
    "slideshow": {
     "slide_type": "-"
    }
   },
   "outputs": [],
   "source": [
    "# scikit-learnのソースコードを実際に見てみると前述の式と同様に、zが正か負かによってラベルを割り当てているのがわかる。\n",
    "# https://github.com/scikit-learn/scikit-learn/blob/b194674c4/sklearn/linear_model/_base.py#L279\n",
    "# def predict(self, X):\n",
    "#     \"\"\"\n",
    "#     Predict class labels for samples in X.\n",
    "#     Parameters\n",
    "#     ----------\n",
    "#     X : array_like or sparse matrix, shape (n_samples, n_features)\n",
    "#         Samples.\n",
    "#     Returns\n",
    "#     -------\n",
    "#     C : array, shape [n_samples]\n",
    "#         Predicted class label per sample.\n",
    "#     \"\"\"\n",
    "#     scores = self.decision_function(X)\n",
    "#     if len(scores.shape) == 1:\n",
    "#         indices = (scores > 0).astype(np.int)\n",
    "#     else:\n",
    "#         indices = scores.argmax(axis=1)\n",
    "#     return self.classes_[indices]"
   ]
  },
  {
   "cell_type": "code",
   "execution_count": 75,
   "metadata": {
    "slideshow": {
     "slide_type": "subslide"
    }
   },
   "outputs": [],
   "source": [
    "# decision_functionでは内積の計算をしている。\n",
    "# def decision_function(self, X):\n",
    "#         \"\"\"\n",
    "#         Predict confidence scores for samples.\n",
    "#         The confidence score for a sample is the signed distance of that\n",
    "#         sample to the hyperplane.\n",
    "#         Parameters\n",
    "#         ----------\n",
    "#         X : array_like or sparse matrix, shape (n_samples, n_features)\n",
    "#             Samples.\n",
    "#         Returns\n",
    "#         -------\n",
    "#         array, shape=(n_samples,) if n_classes == 2 else (n_samples, n_classes)\n",
    "#             Confidence scores per (sample, class) combination. In the binary\n",
    "#             case, confidence score for self.classes_[1] where >0 means this\n",
    "#             class would be predicted.\n",
    "#         \"\"\"\n",
    "#         check_is_fitted(self)\n",
    "\n",
    "#         X = check_array(X, accept_sparse='csr')\n",
    "\n",
    "#         n_features = self.coef_.shape[1]\n",
    "#         if X.shape[1] != n_features:\n",
    "#             raise ValueError(\"X has %d features per sample; expecting %d\"\n",
    "#                              % (X.shape[1], n_features))\n",
    "\n",
    "#         scores = safe_sparse_dot(X, self.coef_.T,\n",
    "#                                  dense_output=True) + self.intercept_\n",
    "#         return scores.ravel() if scores.shape[1] == 1 else scores"
   ]
  },
  {
   "cell_type": "markdown",
   "metadata": {
    "slideshow": {
     "slide_type": "subslide"
    }
   },
   "source": [
    "#### 重みの学習\n",
    "前章（2章）では誤差平方和をコスト関数としてそれを最小にするパラメータを勾配降下法・確率的勾配降下法により求めていった。ロジスティック回帰モデルの場合は尤度関数を目的関数として、それの最大化を行う。  \n",
    "尤度とはパラメータが与えられたもとでの、データの出現しやすさを表している。  \n",
    "今、自分の目の前にデータがあるが、そのデータは特定の分布から発生して、実際に観測されるものは発生しやすいものだろうとする考え方に従っている。（頻度主義）  \n",
    "\n",
    "+ 考え方\n",
    "  + データがある\n",
    "    + 発生しやすいからこそ観測されたと考える  \n",
    "      + 特定の分布を仮定する  \n",
    "       + 発生しやすさ（尤度）が最も高くなるようパラメータを決める（尤度関数の最適化）  \n",
    "\n",
    "尤度関数は以下のように表される。\n",
    "$$\n",
    "L(w) = P(y | x;w) = \\prod_{i=1}^{n} P(y^{(i)} | x^{(i)};w) =  \\prod_{i=1}^{n}( \\phi ( z^{(i)} ) )^{y^{(i)}} (1 - \\phi ( z^{(i)} ) )^{1-y^{(i)}}\n",
    "$$\n",
    "計算のしやすさから、これの対数をとった対数尤度の最大化を行っていく。\n",
    "$$\n",
    "l(w) = \\log L(w) = \\sum _{i=1}^{n} [ y^{(i)} \\log ( \\phi (z^{(i)}) ) + (1-y^{(i)}) \\log (1-\\phi(z^{(i)})) ]\n",
    "$$"
   ]
  },
  {
   "cell_type": "code",
   "execution_count": 77,
   "metadata": {
    "slideshow": {
     "slide_type": "subslide"
    }
   },
   "outputs": [
    {
     "data": {
      "text/html": [
       "<img src=\"https://images.slideplayer.com/25/7690722/slides/slide_9.jpg\"/>"
      ],
      "text/plain": [
       "<IPython.core.display.Image object>"
      ]
     },
     "execution_count": 77,
     "metadata": {},
     "output_type": "execute_result"
    }
   ],
   "source": [
    "Image(url=\"https://images.slideplayer.com/25/7690722/slides/slide_9.jpg\")"
   ]
  },
  {
   "cell_type": "markdown",
   "metadata": {
    "slideshow": {
     "slide_type": "subslide"
    }
   },
   "source": [
    "#### 勾配降下法などで最小化するためのコスト関数として対数尤度を書き換える\n",
    "最大化の関数に-1をかければ最小化の問題に置き換えることができる。\n",
    "$$\n",
    "J(w) = \\sum _{i=1} ^{n}[- y^{(i)} \\log ( \\phi (z^{(i)}) ) - (1-y^{(i)}) \\log(1- \\phi (z^{(i)}) ) ]\n",
    "$$\n",
    "理解がしやすいようにインスタンスが一つのケースを見てみると\n",
    "$$\n",
    "J( \\phi (z) , y ; w) = - y \\log (\\phi (z)) - (1-y) \\log(1-\\phi ( z))\n",
    "$$\n",
    "ラベルであるyが1ないし0のときは以下のように場合分けができる。\n",
    "\n",
    "$$\n",
    "     J( \\phi (z) , y ; w) =\n",
    "        \\begin{cases}\n",
    "            (-1) \\log ( \\phi (z)) \\quad y = 1 \\\\\n",
    "            (-1) \\log (1- \\phi (z)) \\quad y =  0 \\\\\n",
    "        \\end{cases}\n",
    "$$"
   ]
  },
  {
   "cell_type": "code",
   "execution_count": 89,
   "metadata": {
    "slideshow": {
     "slide_type": "subslide"
    }
   },
   "outputs": [],
   "source": [
    "def cost_1(z):\n",
    "    return -np.log(sigmoid(z))\n",
    "def cost_0(z):\n",
    "    return -np.log( 1- sigmoid(z))\n",
    "z = np.arange(-10, 10, 0.1)\n",
    "phi_z = sigmoid(z)\n",
    "c1 = [cost_1(x) for x in z]\n",
    "c0 = [cost_0(x) for x in z]"
   ]
  },
  {
   "cell_type": "markdown",
   "metadata": {
    "slideshow": {
     "slide_type": "subslide"
    }
   },
   "source": [
    "クラスに属する確率φ(z)の様々な値に応じた分類コスト関数の値域。なお、zの定義域は[-10, 10]としている。  \n",
    "クラスが1のときに、クラスが1である確率が高ければ、分類コスト関数は小さくなることがわかる。    \n",
    "逆に、クラスが1のときにクラスが1である確率が低ければ、分類コストは高くなる。  \n",
    "その場合は、分類コストを下げるためにクラスが1である確率を上げるためにパラメータを調整していく必要がある。"
   ]
  },
  {
   "cell_type": "code",
   "execution_count": 90,
   "metadata": {},
   "outputs": [
    {
     "data": {
      "image/png": "[encoded data removed]",
      "text/plain": [
       "<Figure size 432x288 with 1 Axes>"
      ]
     },
     "metadata": {
      "needs_background": "light"
     },
     "output_type": "display_data"
    }
   ],
   "source": [
    "plt.plot(phi_z, c1, label='J(w) if y=1');\n",
    "plt.plot(phi_z, c0, linestyle='--', label='J(w) if y=0');\n",
    "plt.ylim(0.0, 5.1); plt.xlim([0, 1]);\n",
    "plt.xlabel('$\\phi$(z)'); plt.ylabel('J(w)');\n",
    "plt.legend(loc='upper center'); plt.tight_layout();\n",
    "plt.show()"
   ]
  },
  {
   "cell_type": "markdown",
   "metadata": {
    "slideshow": {
     "slide_type": "subslide"
    }
   },
   "source": [
    "#### ADALINE実装をロジスティック回帰のアルゴリズムに変換する\n",
    "ロジスティック回帰を独自に実装する場合は2章で行ったADALINE実装のコスト関数Jを新しいコスト関数に置き換えるだけでよい。\n",
    "\n",
    "$$\n",
    "J(w) = - \\sum _{i} \\left [ y^{(i)} \\log ( \\phi (z^{(i)}) ) + (1 - y^{(i)} ) \\log (1 - \\phi (z^{(i)})) \\right ]\n",
    "$$\n",
    "\n",
    "+ 2章（ADALINE(単層ニューラルネットワーク)）より追加で行うこと\n",
    "  + コスト関数を書き換える\n",
    "  + 線形活性化関数をシグモイド活性化関数に置き換える\n",
    "  + しきい値関数を書き換えて-1と1の代わりにクラスラベル0と1を返すようにする"
   ]
  },
  {
   "cell_type": "markdown",
   "metadata": {
    "slideshow": {
     "slide_type": "subslide"
    }
   },
   "source": [
    "#### ロジスティック回帰での勾配降下法に基づく学習アルゴリズム\n",
    "まずロジスティック回帰における対数尤度\n",
    "$$\n",
    "l(w) = \\log L(w) = \\sum _{i=1}^{n} [ y^{(i)} \\log ( \\phi (z^{(i)}) ) + (1-y^{(i)}) \\log (1-\\phi(z^{(i)})) ]\n",
    "$$\n",
    "を最小化する際に対数尤度を各パラメータで偏微分すると、\n",
    "$$\n",
    "\\frac{ \\partial l(w) }{ \\partial w_j } = \\frac{ \\partial l(w) }{ \\partial \\phi (z) } \\frac{ \\partial \\phi (z) }{ \\partial w_j }  = \\left ( y \\frac{1}{ \\phi (z) }  - (1-y) \\frac{1}{1- \\phi (z) }  \\right) \\frac{ \\partial \\phi (z) }{ \\partial w_j}\n",
    "$$\n",
    "シグモイド関数φ(z)の偏導関数は以下のように書き換えることができる。\n",
    "$$\n",
    "\\frac{ \\partial \\phi (z) }{ \\partial z } = \\frac{ \\partial (1+ e^{-z})^{-1} }{ \\partial z } = \\frac{ \\partial (1+ e^{-z})^{-1} }{ \\partial (1+ e^{-z}) } \\frac{ \\partial (1+ e^{-z}) }{ \\partial z } = \\frac{1}{1+e^{-z}} \\left ( 1 - \\frac{1}{1+e^{-1}} \\right ) \\\\\n",
    "= \\phi (z) ( 1 - \\phi (z) )\n",
    "$$\n"
   ]
  },
  {
   "cell_type": "markdown",
   "metadata": {
    "slideshow": {
     "slide_type": "subslide"
    }
   },
   "source": [
    "$$\n",
    "\\frac{ \\partial l(w) }{ \\partial w_j } = \\left ( y \\frac{1}{ \\phi (z) }  - (1-y) \\frac{1}{1- \\phi (z) }  \\right) \\frac{ \\partial \\phi (z) }{ \\partial z} \\frac{ \\partial z }{ \\partial w_j} = \\left ( y \\frac{1}{ \\phi (z) }  - (1-y) \\frac{1}{1- \\phi (z) }  \\right) \\phi (z) ( 1 - \\phi (z) ) \\frac{ \\partial z }{ \\partial w_j} \\\\\n",
    "= \\left ( y ( 1- \\phi (z) )  - (1-y) \\phi (z) \\right)  x_j \\\\\n",
    "= ( y - \\phi (z) )x_j\n",
    "$$\n",
    "対数尤度のを最大化する重みの更新式は  \n",
    "$$\n",
    "w_j := w_j + \\eta \\sum _{i=1}^{n} \\left ( y^{(i)} - \\phi ( z^{(i)})  \\right ) x_j^{(i)}\n",
    "$$\n",
    "あるいは\n",
    "$$\n",
    "w := w + \\eta \\nabla l(w)\n",
    "$$\n",
    "と表される。コスト関数を最小化したものと導関数が同じであるため、この重みの更新式は以下のようにも表すことができる。\n",
    "$$\n",
    "\\Delta w_j = -\\eta \\frac{\\partial J}{ \\partial w_j }　= \\eta \\sum _{i=1}^{n} \\left ( y^{(i)} - \\phi ( z^{(i)})  \\right ) x_j^{(i)}\n",
    "$$\n",
    "これは2章のADALINEの勾配降下法と同じ更新式となっている。"
   ]
  },
  {
   "cell_type": "code",
   "execution_count": 144,
   "metadata": {
    "slideshow": {
     "slide_type": "skip"
    }
   },
   "outputs": [],
   "source": [
    "class LogisticRegressionGD(object):\n",
    "    def __init__(self, eta=0.05, n_iter=100, random_state=1):\n",
    "        self.eta = eta\n",
    "        self.n_iter = n_iter\n",
    "        self.random_state = random_state\n",
    "        \n",
    "    def fit(self, X, y):\n",
    "        rgen = np.random.RandomState(self.random_state)\n",
    "        self.w_ = rgen.normal(loc=0.0, scale=0.01, size=1+X.shape[1])\n",
    "        self.cost_ = []\n",
    "        \n",
    "        for i in range(self.n_iter):\n",
    "            net_input = self.net_input(X)\n",
    "            output = self.activation(net_input)\n",
    "            errors  = (y - output)\n",
    "            self.w_[1:] += self.eta * X.T.dot(errors)\n",
    "            self.w_[0] += self.eta * errors.sum()\n",
    "            \n",
    "            cost = - y.dot(np.log(output)) - (  (1-y).dot(np.log(1 - output)))\n",
    "            self.cost_.append(cost)\n",
    "            \n",
    "        return self\n",
    "    \n",
    "    def net_input(self, X):\n",
    "        return np.dot(X, self.w_[1:]) + self.w_[0]\n",
    "    \n",
    "    def activation(self, z):\n",
    "        return 1. / (1. + np.exp(-np.clip(z, -250, 250)))\n",
    "    \n",
    "    def predict(self, X):\n",
    "        return np.where(self.net_input(X) >= 0.0, 1, 0)\n",
    "    "
   ]
  },
  {
   "cell_type": "code",
   "execution_count": 145,
   "metadata": {
    "slideshow": {
     "slide_type": "subslide"
    }
   },
   "outputs": [],
   "source": [
    "# class LogisticRegressionGD(object):\n",
    "#     def __init__(self, eta=0.05, n_iter=100, random_state=1):\n",
    "#         self.eta = eta\n",
    "#         self.n_iter = n_iter\n",
    "#         self.random_state = random_state"
   ]
  },
  {
   "cell_type": "code",
   "execution_count": 146,
   "metadata": {
    "slideshow": {
     "slide_type": "subslide"
    }
   },
   "outputs": [],
   "source": [
    "# class LogisticRegressionGD(object):\n",
    "#\n",
    "#  (omission)\n",
    "#\n",
    "#     def fit(self, X, y):\n",
    "#         rgen = np.random.RandomState(self.random_state)\n",
    "#         self.w_ = rgen.normal(loc=0.0, scale=0.01, size=1+X.shape[1])\n",
    "#         self.cost_ = []\n",
    "#         for i in range(self.n_iter):\n",
    "#             net_input = self.net_input(X)\n",
    "#             output = self.activation(net_input)\n",
    "#             errors  = (y - output)\n",
    "#             self.w_[1:] += self.eta * X.T.dot(errors)\n",
    "#             self.w_[0] += self.eta * errors.sum()\n",
    "#             cost = - y.dot(np.log(output)) - (  (1-y).dot(np.log(1 - output)))\n",
    "#             self.cost_.append(cost)\n",
    "#         return self"
   ]
  },
  {
   "cell_type": "code",
   "execution_count": 147,
   "metadata": {
    "slideshow": {
     "slide_type": "skip"
    }
   },
   "outputs": [],
   "source": [
    "from matplotlib.colors import ListedColormap\n",
    "\n",
    "def plot_decision_regions(X, y, classifier, resolution=0.02):\n",
    "    markers = ('s', 'x', 'o', '^', 'v') # マーカー\n",
    "    colors = ('red', 'blue', 'lightgreen', 'gray', 'cyan') # 色\n",
    "    cmap = ListedColormap(colors[:len(np.unique(y))]) # Colormap object generated from a list of colors.\n",
    "    \n",
    "    x1_min, x1_max = X[:, 0].min() - 1, X[:, 0].max() + 1 # 領域を描くに際して最大値、最小値の情報を取得\n",
    "    x2_min, x2_max = X[:, 1].min() - 1, X[:, 1].max() + 1\n",
    "    \n",
    "    xx1, xx2 = np.meshgrid(np.arange(x1_min, x1_max, resolution), # Return coordinate matrices from coordinate vectors.\n",
    "                                              np.arange(x2_min, x2_max, resolution)) # resolutionはgridの1単位に該当する\n",
    "    \n",
    "    Z = classifier.predict(np.array([xx1.ravel(), xx2.ravel()]).T) # ravelで1次元のベクトルにして転置して予測\n",
    "    Z = Z.reshape(xx1.shape)  # Zはただのベクトルなのでxx1と同じデータ構造に変換する\n",
    "    plt.contourf(xx1, xx2, Z, alpha=0.3, cmap=cmap) # 等高線を描く\n",
    "    plt.xlim(xx1.min(), xx1.max())\n",
    "    plt.ylim(xx2.min(), xx2.max())\n",
    "    \n",
    "    for idx, cl in enumerate(np.unique(y)): # enumerateは引数にリストなどのイテラブルオブジェクトを指定すると、インデックス番号(idx)と要素(cl)が取得できる。\n",
    "        plt.scatter(x = X[y == cl, 0],\n",
    "                            y = X[y == cl, 1],\n",
    "                            alpha = 0.8,\n",
    "                            c = colors[idx],\n",
    "                            marker=markers[idx],\n",
    "                            label=cl,\n",
    "                            edgecolor='black'\n",
    "                            )        "
   ]
  },
  {
   "cell_type": "code",
   "execution_count": 165,
   "metadata": {
    "slideshow": {
     "slide_type": "subslide"
    }
   },
   "outputs": [
    {
     "data": {
      "image/png": "[encoded data removed]",
      "text/plain": [
       "<Figure size 432x288 with 1 Axes>"
      ]
     },
     "metadata": {
      "needs_background": "light"
     },
     "output_type": "display_data"
    }
   ],
   "source": [
    "X_train_01_subset = X_train[(y_train == 0) | (y_train == 1)]\n",
    "y_train_01_subset = y_train[(y_train == 0) | (y_train == 1)]\n",
    "\n",
    "lrgd = LogisticRegressionGD(n_iter=100, eta=0.01, random_state=1)\n",
    "lrgd.fit(X_train_01_subset, y_train_01_subset)\n",
    "\n",
    "plot_decision_regions(X = X_train_01_subset,\n",
    "                                        y = y_train_01_subset,\n",
    "                                        classifier=lrgd\n",
    "                     )\n",
    "plt.xlabel('petal length [standardized]');\n",
    "plt.ylabel('petal width [standardized]');\n",
    "plt.legend(loc='upper left');\n",
    "plt.show()"
   ]
  },
  {
   "cell_type": "code",
   "execution_count": 166,
   "metadata": {
    "slideshow": {
     "slide_type": "subslide"
    }
   },
   "outputs": [
    {
     "data": {
      "image/png": "[encoded data removed]",
      "text/plain": [
       "<Figure size 432x288 with 1 Axes>"
      ]
     },
     "metadata": {
      "needs_background": "light"
     },
     "output_type": "display_data"
    }
   ],
   "source": [
    "plt.plot(range(1, len(lrgd.cost_) + 1), [ cost/100 for cost  in lrgd.cost_ ], marker='o');\n",
    "plt.xlabel('Epochs');\n",
    "plt.ylabel('Average Cost');\n",
    "plt.show()"
   ]
  },
  {
   "cell_type": "markdown",
   "metadata": {
    "slideshow": {
     "slide_type": "subslide"
    }
   },
   "source": [
    "#### scikit-learnでのロジスティック回帰"
   ]
  },
  {
   "cell_type": "code",
   "execution_count": 185,
   "metadata": {
    "slideshow": {
     "slide_type": "skip"
    }
   },
   "outputs": [],
   "source": [
    "from matplotlib.colors import ListedColormap\n",
    "import matplotlib.pyplot as plt\n",
    "\n",
    "def plot_decision_regions(X, y, classifier, test_idx, resolution=0.02):\n",
    "    markers = ('s', 'x', 'o', '^', 'v') # マーカー\n",
    "    colors = ('red', 'blue', 'lightgreen', 'gray', 'cyan') # 色\n",
    "    cmap = ListedColormap(colors[:len(np.unique(y))]) # Colormap object generated from a list of colors.\n",
    "    \n",
    "    x1_min, x1_max = X[:, 0].min() - 1, X[:, 0].max() + 1 # 領域を描くに際して最大値、最小値の情報を取得\n",
    "    x2_min, x2_max = X[:, 1].min() - 1, X[:, 1].max() + 1\n",
    "    \n",
    "    xx1, xx2 = np.meshgrid(np.arange(x1_min, x1_max, resolution), # Return coordinate matrices from coordinate vectors.\n",
    "                                              np.arange(x2_min, x2_max, resolution)) # resolutionはgridの1単位に該当する\n",
    "    \n",
    "    Z = classifier.predict(np.array([xx1.ravel(), xx2.ravel()]).T) # ravelで1次元のベクトルにして転置して予測\n",
    "    Z = Z.reshape(xx1.shape)  # Zはただのベクトルなのでxx1と同じデータ構造に変換する\n",
    "    plt.contourf(xx1, xx2, Z, alpha=0.3, cmap=cmap) # 等高線を描く\n",
    "    plt.xlim(xx1.min(), xx1.max())\n",
    "    plt.ylim(xx2.min(), xx2.max())\n",
    "    \n",
    "    for idx, cl in enumerate(np.unique(y)): # enumerateは引数にリストなどのイテラブルオブジェクトを指定すると、インデックス番号(idx)と要素(cl)が取得できる。\n",
    "        plt.scatter(x = X[y == cl, 0],\n",
    "                            y = X[y == cl, 1],\n",
    "                            alpha = 0.8,\n",
    "                            c = colors[idx],\n",
    "                            marker=markers[idx],\n",
    "                            label=cl,\n",
    "                            edgecolor='black'\n",
    "                            )\n",
    "        \n",
    "        # テストサンプルを目立たせる\n",
    "        if test_idx:\n",
    "            # すべてのサンプルをプロット\n",
    "            X_test, y_test = X[test_idx, :], y[test_idx]\n",
    "            plt.scatter(X_test[:, 0], X_test[:, 1],\n",
    "                               c='',\n",
    "                               edgecolor='black',\n",
    "                               alpha=1.0,\n",
    "                               linewidth=1,\n",
    "                               marker='o',\n",
    "                               s=100,\n",
    "                               label='test set')"
   ]
  },
  {
   "cell_type": "code",
   "execution_count": 113,
   "metadata": {
    "slideshow": {
     "slide_type": "subslide"
    }
   },
   "outputs": [
    {
     "data": {
      "image/png": "[encoded data removed]",
      "text/plain": [
       "<Figure size 432x288 with 1 Axes>"
      ]
     },
     "metadata": {
      "needs_background": "light"
     },
     "output_type": "display_data"
    }
   ],
   "source": [
    "from sklearn.linear_model import LogisticRegression\n",
    "\n",
    "lr = LogisticRegression(C=100.0,\n",
    "                                        random_state=1)\n",
    "lr.fit(X_train_std, y_train)\n",
    "plot_decision_regions(X_combined_std, y_combined, classifier=lr,test_idx=range(105, 150))\n",
    "plt.xlabel('petal length [standardized]')\n",
    "plt.ylabel('petal width [standardized]')\n",
    "plt.tight_layout()\n",
    "plt.show()"
   ]
  },
  {
   "cell_type": "code",
   "execution_count": 114,
   "metadata": {
    "slideshow": {
     "slide_type": "skip"
    }
   },
   "outputs": [
    {
     "data": {
      "text/plain": [
       "array([[3.17983737e-08, 1.44886616e-01, 8.55113353e-01],\n",
       "       [8.33962295e-01, 1.66037705e-01, 4.55557009e-12],\n",
       "       [8.48762934e-01, 1.51237066e-01, 4.63166788e-13]])"
      ]
     },
     "execution_count": 114,
     "metadata": {},
     "output_type": "execute_result"
    }
   ],
   "source": [
    "lr.predict_proba(X_test_std[:3, :])"
   ]
  },
  {
   "cell_type": "code",
   "execution_count": 115,
   "metadata": {
    "slideshow": {
     "slide_type": "skip"
    }
   },
   "outputs": [
    {
     "data": {
      "text/plain": [
       "array([2, 0, 0])"
      ]
     },
     "execution_count": 115,
     "metadata": {},
     "output_type": "execute_result"
    }
   ],
   "source": [
    "lr.predict_proba(X_test_std[:3, :]).argmax(axis=1)"
   ]
  },
  {
   "cell_type": "code",
   "execution_count": 117,
   "metadata": {
    "slideshow": {
     "slide_type": "skip"
    }
   },
   "outputs": [
    {
     "data": {
      "text/plain": [
       "array([2, 0, 0])"
      ]
     },
     "execution_count": 117,
     "metadata": {},
     "output_type": "execute_result"
    }
   ],
   "source": [
    "lr.predict(X_test_std[:3, :])"
   ]
  },
  {
   "cell_type": "code",
   "execution_count": 118,
   "metadata": {
    "slideshow": {
     "slide_type": "skip"
    }
   },
   "outputs": [
    {
     "data": {
      "text/plain": [
       "array([2])"
      ]
     },
     "execution_count": 118,
     "metadata": {},
     "output_type": "execute_result"
    }
   ],
   "source": [
    "lr.predict(X_test_std[0, :].reshape(1, -1))"
   ]
  },
  {
   "cell_type": "markdown",
   "metadata": {
    "slideshow": {
     "slide_type": "subslide"
    }
   },
   "source": [
    "#### ロジスティック回帰の確率的勾配降下法の実装\n",
    "教科書には書かれていないが、練習問題的にやってみる。やったことは先程と同様に以下の3つを、2章で学んだ確率的勾配降下法に対して適用しただけ。\n",
    "+ コスト関数を書き換える\n",
    "+ 線形活性化関数からシグモイド活性化関数に書き換える\n",
    "+ しきい値関数を書き換えて-1と1の代わりにクラスラベル0と1を返すようにする"
   ]
  },
  {
   "cell_type": "code",
   "execution_count": 137,
   "metadata": {
    "slideshow": {
     "slide_type": "skip"
    }
   },
   "outputs": [],
   "source": [
    "from numpy.random import seed\n",
    "\n",
    "class LogisticRegressionSGD(object):\n",
    "    def __init__(self, eta=0.05, n_iter=100, shuffle=True, random_state=None):\n",
    "        self.eta = eta\n",
    "        self.n_iter = n_iter\n",
    "        self.w_initialized = False\n",
    "        self.shuffle = shuffle\n",
    "        self.random_state = random_state\n",
    "        \n",
    "    def fit(self, X, y):\n",
    "        self._initialize_weights(X.shape[1]) # 重みの初期化\n",
    "        self.cost_ = [] # コストの空箱1\n",
    "        for i in range(self.n_iter):\n",
    "            if self.shuffle: # shuffleに関するBoolean。\n",
    "                X, y = self._shuffle(X, y) # インスタンスをシャッフルしたもの\n",
    "            cost = [] # コストの空箱2\n",
    "            for xi, target in zip(X, y):\n",
    "                cost.append(self._update_weights(xi,target)) # 一つずつ更新式に従って更新した際のコストの値を返す\n",
    "            avg_cost = sum(cost)/len(y) # 平均コストを計算する\n",
    "            self.cost_.append(avg_cost) # 平均コストをappendする\n",
    "        return self\n",
    "    \n",
    "    def partial_fit(self, X, y):\n",
    "        if not self.w_initialized:\n",
    "            self._initialize_weights(X.shape[1]) # 重みの初期化\n",
    "        if y.ravel().shape[0] > 1: # yの数が1よりも大きい場合\n",
    "            for xi, target  in zip(X, y):\n",
    "                self._update_weights(xi,target) # 繰り返して重みベクトルを更新\n",
    "        else:\n",
    "            self._update_weights(X, y) # yが1個しかない場合は1回だけ重みベクトルを更新\n",
    "        return self\n",
    "    \n",
    "    def _shuffle(self, X, y):\n",
    "        r = self.rgen.permutation(len(y)) # 並び替えられたインスタンスのインデックス\n",
    "        return X[r], y[r]\n",
    "    \n",
    "    def _initialize_weights(self, m): # 重みの初期化\n",
    "        self.rgen = np.random.RandomState(self.random_state)\n",
    "        self.w_ = self.rgen.normal(loc=0.0, scale=0.01, size=1 + m)\n",
    "        self.w_initialized = True\n",
    "        \n",
    "    def _update_weights(self, xi, target):\n",
    "        output = self.activation(self.net_input(xi)) # 活性化関数\n",
    "        error = (target - output) # 誤差\n",
    "        self.w_[1:] += self.eta * xi.dot(error) # 更新式に従って重みベクトルの更新\n",
    "        self.w_[0] += self.eta*error # バイアスユニットだけ別で更新\n",
    "        cost = - target*np.log(output) -   (1-target)*np.log(1 - output)\n",
    "        return cost\n",
    "    \n",
    "    def net_input(self, X):\n",
    "        return np.dot(X, self.w_[1:]) + self.w_[0]\n",
    "    \n",
    "    def activation(self, z):\n",
    "        return 1. / ( 1. + np.exp(-np.clip(z, -250, 250)) )\n",
    "    \n",
    "    def predict(self, X):\n",
    "        return np.where(self.net_input(X) >= 0.0, 1, 0)"
   ]
  },
  {
   "cell_type": "code",
   "execution_count": 167,
   "metadata": {
    "slideshow": {
     "slide_type": "subslide"
    }
   },
   "outputs": [
    {
     "data": {
      "image/png": "[encoded data removed]",
      "text/plain": [
       "<Figure size 432x288 with 1 Axes>"
      ]
     },
     "metadata": {
      "needs_background": "light"
     },
     "output_type": "display_data"
    }
   ],
   "source": [
    "lr_sgd = LogisticRegressionSGD(n_iter=100, eta=0.01, random_state=1)\n",
    "lr_sgd.fit(X_train_01_subset, y_train_01_subset)\n",
    "plot_decision_regions(X_train_01_subset, y_train_01_subset, classifier=lr_sgd)\n",
    "plt.title('LogisticRegression - Stochstic Gradient Descent');\n",
    "plt.xlabel('sepal length [standardized]');\n",
    "plt.ylabel('petal length [standardized]');\n",
    "plt.legend(loc='upper left');\n",
    "plt.tight_layout();\n",
    "plt.show()"
   ]
  },
  {
   "cell_type": "code",
   "execution_count": 168,
   "metadata": {
    "slideshow": {
     "slide_type": "subslide"
    }
   },
   "outputs": [
    {
     "data": {
      "image/png": "[encoded data removed]",
      "text/plain": [
       "<Figure size 432x288 with 1 Axes>"
      ]
     },
     "metadata": {
      "needs_background": "light"
     },
     "output_type": "display_data"
    }
   ],
   "source": [
    "plt.plot(range(1, len(lr_sgd.cost_) + 1), lr_sgd.cost_, marker='o');\n",
    "plt.xlabel('Epochs');\n",
    "plt.ylabel('Average Cost');\n",
    "plt.show()"
   ]
  },
  {
   "cell_type": "markdown",
   "metadata": {
    "slideshow": {
     "slide_type": "slide"
    }
   },
   "source": [
    "### 正則化\n",
    "+ 過学習\n",
    " + トレーニングデータセットではうまく機能するモデルが未知のデータではうまく汎化されないという問題のこと。\n",
    "  + 原因\n",
    "    + パラメータの数が多すぎ、データに対してモデルが複雑である（バリアンスが高い）\n",
    "+ 学習不足\n",
    "    + 学習が足りず、未知のデータに対する予測性能が低いという問題のこと。\n",
    "    + 原因\n",
    "        + トレーニングデータセットのパターンを把握できるようなモデルの複雑さがない（バイアスが高い）"
   ]
  },
  {
   "cell_type": "code",
   "execution_count": 119,
   "metadata": {
    "slideshow": {
     "slide_type": "subslide"
    }
   },
   "outputs": [
    {
     "data": {
      "text/html": [
       "<img src=\"https://media.geeksforgeeks.org/wp-content/cdn-uploads/20190523171258/overfitting_2.png\"/>"
      ],
      "text/plain": [
       "<IPython.core.display.Image object>"
      ]
     },
     "execution_count": 119,
     "metadata": {},
     "output_type": "execute_result"
    }
   ],
   "source": [
    "Image(url=\"https://media.geeksforgeeks.org/wp-content/cdn-uploads/20190523171258/overfitting_2.png\")"
   ]
  },
  {
   "cell_type": "markdown",
   "metadata": {
    "slideshow": {
     "slide_type": "subslide"
    }
   },
   "source": [
    "#### バイアスとバリアンス\n",
    "+ バイアス\n",
    " + モデルを異なるトレーニングデータセットで何度か構築した場合に、予測が正しい値からどの程度外れているかを計測するもの。\n",
    "   + バイアスが高いということは正しい値から外れまくっているということ。\n",
    "+ バリアンス\n",
    " + モデルの予測の一貫性を計測するもの\n",
    "   + バリアンスが高いということは所与のデータセットに対して当てはめすぎているということ。\n",
    "   \n",
    "+ モデルの汎化誤差\n",
    "$$\n",
    "モデルの汎化誤差 = (バイアス)^2 + バリアンス + ノイズ\n",
    "$$\n",
    "\n",
    "バイアスもバリアンスも小さくなるようにモデルを構築することが望ましい。"
   ]
  },
  {
   "cell_type": "code",
   "execution_count": 120,
   "metadata": {
    "slideshow": {
     "slide_type": "subslide"
    }
   },
   "outputs": [
    {
     "data": {
      "text/html": [
       "<img src=\"https://www.learnopencv.com/wp-content/uploads/2017/02/Bias-Variance-Tradeoff-In-Machine-Learning-1.png\"/>"
      ],
      "text/plain": [
       "<IPython.core.display.Image object>"
      ]
     },
     "execution_count": 120,
     "metadata": {},
     "output_type": "execute_result"
    }
   ],
   "source": [
    "Image(url=\"https://www.learnopencv.com/wp-content/uploads/2017/02/Bias-Variance-Tradeoff-In-Machine-Learning-1.png\")"
   ]
  },
  {
   "cell_type": "markdown",
   "metadata": {
    "slideshow": {
     "slide_type": "subslide"
    }
   },
   "source": [
    "#### 正則化\n",
    "+ 極端なパラメータの重みにペナルティを科すための追加情報（バイアス）を導入すること。\n",
    "  + つまり、正しい情報からある程度はずさせる方向への処理。\n",
    "+ 共線性(特徴間の相関の高さ)を処理するのに便利な手法\n",
    "\n",
    "+ 種類\n",
    " + L2正則化(Ridge)：Ridgeは尾根と訳せるので、山をイメージすれば2次関数のイメージが湧く。\n",
    "   + L2縮小推定や荷重減衰とも呼ばれる。\n",
    " + L1正則化（LASSO）：Least Absolute Shrinkage and Selection Operatorの略。\n",
    " \n",
    " \n",
    " + L2の正則化項について\n",
    " $$\n",
    " \\frac{\\lambda}{2} \\| w\\| ^2 = \\frac{\\lambda}{2} \\sum _{j=1}^{m}w^2_j\n",
    " $$\n",
    " λは正則化パラメータ。このパラメータを使うことで重みを小さく保ちながらトレーニングデータセットをどの程度適合させるかを制御できる。λを大きくすれば正則化の度合いを強めることができる。"
   ]
  },
  {
   "cell_type": "markdown",
   "metadata": {
    "slideshow": {
     "slide_type": "subslide"
    }
   },
   "source": [
    "+ 正則化の適用\n",
    " + ロジスティック回帰のコスト関数に正則化の項を追加すれば良い。\n",
    "\n",
    "$$\n",
    "J(w) = - \\sum _{i} \\left [ y^{(i)} \\log ( \\phi (z^{(i)}) ) + (1 - y^{(i)} ) \\log (1 - \\phi (z^{(i)})) \\right ] +  \\frac{\\lambda}{2} \\| w\\| ^2\n",
    "$$\n",
    "scikit-learnのパラメータCはここでいう、\n",
    "$$\n",
    "C = \\frac{1}{\\lambda}\n",
    "$$\n",
    "に該当する。なお、デフォルトの設定ではl2正則化となっており、Cのデフォルト値が1となっている。つまりλが1のケースとなる。\n",
    "この関係を元のコスト関数に代入して、両辺にCを掛けるとコスト関数は以下のようになる。\n",
    "$$\n",
    "J(w) = - C \\sum _{i} \\left [ y^{(i)} \\log ( \\phi (z^{(i)}) ) + (1 - y^{(i)} ) \\log (1 - \\phi (z^{(i)})) \\right ] +  \\frac{1}{2} \\| w\\| ^2\n",
    "$$\n",
    "この式から、Cの値を小さくすると正則化の強さを高めることがわかる。"
   ]
  },
  {
   "cell_type": "code",
   "execution_count": 124,
   "metadata": {
    "slideshow": {
     "slide_type": "subslide"
    }
   },
   "outputs": [],
   "source": [
    "#  scikit-learnのロジスティック回帰モデルの該当箇所\n",
    "#  https://github.com/scikit-learn/scikit-learn/blob/b194674c4/sklearn/linear_model/_logistic.py#L1191\n",
    "#     C : float, default=1.0\n",
    "#         Inverse of regularization strength; must be a positive float.\n",
    "#         Like in support vector machines, smaller values specify stronger\n",
    "#         regularization.\n",
    "#        \n",
    "#        (omission)\n",
    "#\n",
    "#         if self.penalty == 'none':\n",
    "#             if self.C != 1.0:  # default values\n",
    "#                 warnings.warn(\n",
    "#                     \"Setting penalty='none' will ignore the C and l1_ratio \"\n",
    "#                     \"parameters\"\n",
    "#                 )\n",
    "#                 # Note that check for l1_ratio is done right above\n",
    "#             C_ = np.inf\n",
    "#             penalty = 'l2'\n",
    "#         else:\n",
    "#             C_ = self.C\n",
    "#             penalty = self.penalty"
   ]
  },
  {
   "cell_type": "code",
   "execution_count": 123,
   "metadata": {
    "slideshow": {
     "slide_type": "subslide"
    }
   },
   "outputs": [
    {
     "data": {
      "image/png": "[encoded data removed]",
      "text/plain": [
       "<Figure size 432x288 with 1 Axes>"
      ]
     },
     "metadata": {
      "needs_background": "light"
     },
     "output_type": "display_data"
    }
   ],
   "source": [
    "weights, params = [], []\n",
    "\n",
    "for c in np.arange(-5, 5):\n",
    "    lr = LogisticRegression(C=10.**c, random_state=1)\n",
    "    lr.fit(X_train_std, y_train)\n",
    "    weights.append(lr.coef_[1])\n",
    "    params.append(10.0**c)\n",
    "    \n",
    "weights = np.array(weights)\n",
    "plt.plot(params, weights[:, 0], label='petal length')\n",
    "plt.plot(params, weights[:, 1], linestyle='--', label='petal width')\n",
    "plt.ylabel('weight coefficient')\n",
    "plt.xlabel('C')\n",
    "plt.legend(loc='upper left')\n",
    "plt.xscale('log')\n",
    "plt.show()"
   ]
  },
  {
   "cell_type": "markdown",
   "metadata": {
    "slideshow": {
     "slide_type": "slide"
    }
   },
   "source": [
    "### サポートベクトルマシン\n",
    "+ マージンを最大化させることで誤分類率を最小化することを目指した手法。\n",
    "  + マージンとは超平面（決定境界）と超平面に最も近いトレーニングサンプルとの間の距離として定義される。\n",
    "  + 超平面に最も近いトレーニングサンプルのことをサポートベクトルと呼ぶ。\n",
    "+ パーセプトロンの拡張とみなすことができる。"
   ]
  },
  {
   "cell_type": "code",
   "execution_count": 169,
   "metadata": {
    "slideshow": {
     "slide_type": "subslide"
    }
   },
   "outputs": [
    {
     "data": {
      "text/html": [
       "<img src=\"https://static.packt-cdn.com/products/9781787125933/graphics/B07030_03_09.jpg\"/>"
      ],
      "text/plain": [
       "<IPython.core.display.Image object>"
      ]
     },
     "execution_count": 169,
     "metadata": {},
     "output_type": "execute_result"
    }
   ],
   "source": [
    "Image(url=\"https://static.packt-cdn.com/products/9781787125933/graphics/B07030_03_09.jpg\")"
   ]
  },
  {
   "cell_type": "markdown",
   "metadata": {
    "slideshow": {
     "slide_type": "subslide"
    }
   },
   "source": [
    "#### 最大マージンの直感的理解\n",
    "+ 決定境界のマージンを大きくする理論的根拠\n",
    " + 汎化誤差が小さくなる傾向がある。\n",
    " + マージンが小さいとモデルは過学習に陥りがち。\n",
    "\n",
    "超平面は以下の方程式で表すことができる。（1つ目は正の超平面、2つ目は負の超平面）\n",
    "$$\n",
    "w_0 + w^T x_{pos} = 1 \\\\\n",
    "w_0 + w^T x_{neg} = -1\n",
    "$$\n",
    "これらを引き算すると、\n",
    "$$\n",
    "w^T ( x_{pos} - x_{neg} ) = 2\n",
    "$$\n",
    "となる。ここで正と負の超平面の距離は高校数学で学ぶ「点と平面の距離」から、\n",
    "$$\n",
    "\\frac{w^T ( x_{pos} - x_{neg} ) }{  \\| w\\|  } = \\frac{ 2 }{  \\| w\\|  }\n",
    "$$\n",
    "この距離をサポートベクトルマシンは最大化する。"
   ]
  },
  {
   "cell_type": "markdown",
   "metadata": {
    "slideshow": {
     "slide_type": "subslide"
    }
   },
   "source": [
    "#### 線形分離可能なケース\n",
    "サポートベクトルマシンは\n",
    "$$\n",
    "\\frac{ 2 }{  \\| w\\|  }\n",
    "$$\n",
    "の最大化を以下の制約のもとで行う。\n",
    "$$\n",
    "        \\begin{cases}\n",
    "           w_0 + w^Tx^{(i)} \\geqq 1 \\quad y^{(i)} =  1 \\\\\n",
    "           w_0 + w^Tx^{(i)} \\leq -1 \\quad y^{(i)} = -1 \\\\\n",
    "        \\end{cases} \\\\\n",
    "         i = 1, \\dots , N\n",
    "$$\n",
    "これらの制約式は以下のように表すこともできる。\n",
    "$$\n",
    "y^{(i)}(w_0 + w^T x^{(i)}) \\geqq 1 \\quad  \\forall _i\n",
    "$$\n",
    "ただ、このような関数の最大化よりも逆数をとって2乗した\n",
    "$$\n",
    "\\frac{ 1 }{ 2 }  \\| w\\|^2\n",
    "$$\n",
    "を最小化するほうが簡単であり、KKT（Karush-Kuhn-Tucker）条件を使って解くことができる。このように置き換えた問題を双対問題と呼ぶ。"
   ]
  },
  {
   "cell_type": "markdown",
   "metadata": {
    "slideshow": {
     "slide_type": "subslide"
    }
   },
   "source": [
    "#### スラック変数を使った線形分離不可能なケースへの対応\n",
    "+ 先程のアプローチは線形分離が可能なデータを前提としていた。（パーセプトロンに近いと感じられる）\n",
    "+ スラック変数を導入することで適切なコストペナルティを課した上で、誤分類が存在する状態のまま最適化問題を収束させることができる。\n",
    "\n",
    "$$\n",
    "        \\begin{cases}\n",
    "           w_0 + w^Tx^{(i)} \\geqq 1 - \\xi ^{(i)} \\quad y^{(i)} =  1 \\\\\n",
    "           w_0 + w^Tx^{(i)} \\leq -1 + \\xi ^{(i)} \\quad y^{(i)} = -1 \\\\\n",
    "        \\end{cases} \\\\\n",
    "         i = 1, \\dots , N\n",
    "$$\n",
    "スラック変数を使った場合、最小化の目的関数は以下のようになる。\n",
    "$$\n",
    "\\frac{1}{2} \\| w \\| ^2 + C \\left (  \\sum _i \\xi ^{(i)} \\right )\n",
    "$$\n",
    "変数Cを使うことで誤分類のペナルティを制御することができる。Cの値が大きい場合は誤分類のペナルティが大きく、小さい場合は寛大である。"
   ]
  },
  {
   "cell_type": "code",
   "execution_count": 170,
   "metadata": {
    "slideshow": {
     "slide_type": "subslide"
    }
   },
   "outputs": [
    {
     "data": {
      "text/html": [
       "<img src=\"https://cdn-ak.f.st-hatena.com/images/fotolife/r/robonchu/20171007/20171007164718.png\"/>"
      ],
      "text/plain": [
       "<IPython.core.display.Image object>"
      ]
     },
     "execution_count": 170,
     "metadata": {},
     "output_type": "execute_result"
    }
   ],
   "source": [
    "Image(url=\"https://cdn-ak.f.st-hatena.com/images/fotolife/r/robonchu/20171007/20171007164718.png\")"
   ]
  },
  {
   "cell_type": "code",
   "execution_count": 174,
   "metadata": {
    "slideshow": {
     "slide_type": "subslide"
    }
   },
   "outputs": [
    {
     "data": {
      "image/png": "[encoded data removed]",
      "text/plain": [
       "<Figure size 432x288 with 1 Axes>"
      ]
     },
     "metadata": {
      "needs_background": "light"
     },
     "output_type": "display_data"
    }
   ],
   "source": [
    "from sklearn.svm import SVC\n",
    "svm = SVC(kernel='linear', C=1.0, random_state=1)\n",
    "svm.fit(X_train_std, y_train)\n",
    "plot_decision_regions(X_combined_std, y_combined, classifier=svm,\n",
    "                                         test_idx=range(105,150))\n",
    "plt.xlabel('petal length [standardized]')\n",
    "plt.ylabel('petal width [standardized]')\n",
    "plt.tight_layout()\n",
    "plt.show()"
   ]
  },
  {
   "cell_type": "markdown",
   "metadata": {
    "slideshow": {
     "slide_type": "subslide"
    }
   },
   "source": [
    "#### ロジスティック回帰とSVM\n",
    "+ SVMの利点\n",
    " + 外れ値の影響を受けにくい。\n",
    "+ SVMの欠点\n",
    " + 実装がしにくい。\n",
    " + 更新を簡単にできない。ストリーミングデータなどは苦手。"
   ]
  },
  {
   "cell_type": "code",
   "execution_count": 175,
   "metadata": {
    "slideshow": {
     "slide_type": "skip"
    }
   },
   "outputs": [],
   "source": [
    "from sklearn.linear_model import SGDClassifier\n",
    "ppn = SGDClassifier(loss='perceptron')\n",
    "lr = SGDClassifier(loss='log')\n",
    "svm = SGDClassifier(loss='hinge')"
   ]
  },
  {
   "cell_type": "markdown",
   "metadata": {
    "slideshow": {
     "slide_type": "slide"
    }
   },
   "source": [
    "### カーネルSVM\n",
    "+ 非線形分類の問題を解くことに適した手法"
   ]
  },
  {
   "cell_type": "code",
   "execution_count": 179,
   "metadata": {
    "slideshow": {
     "slide_type": "subslide"
    }
   },
   "outputs": [
    {
     "data": {
      "image/png": "[encoded data removed]",
      "text/plain": [
       "<Figure size 432x288 with 1 Axes>"
      ]
     },
     "metadata": {
      "needs_background": "light"
     },
     "output_type": "display_data"
    }
   ],
   "source": [
    "# 線形分離不可能なデータを作る\n",
    "import matplotlib.pyplot as plt\n",
    "import numpy as np\n",
    "\n",
    "X_xor = np.random.randn(200, 2)\n",
    "y_xor = np.logical_xor(X_xor[:, 0] > 0, X_xor[:, 1] > 0)\n",
    "y_xor =np.where(y_xor, 1, -1)\n",
    "\n",
    "plt.scatter(X_xor[y_xor==1, 0], X_xor[y_xor==1, 1],\n",
    "                    c='b', marker='x', label='1')\n",
    "plt.scatter(X_xor[y_xor==-1, 0], X_xor[y_xor==-1, 1],\n",
    "                    c='r', marker='s', label='-1')\n",
    "plt.xlim([-3, 3])\n",
    "plt.ylim([-3, 3])\n",
    "plt.legend(loc='best')\n",
    "plt.tight_layout()\n",
    "plt.show()"
   ]
  },
  {
   "cell_type": "markdown",
   "metadata": {},
   "source": [
    "線形ロジスティック回帰や線形SVMでは線形超平面を描いて分類をするだけなので、このような線形分離不可能なデータに対してはうまくいかない。"
   ]
  },
  {
   "cell_type": "markdown",
   "metadata": {
    "slideshow": {
     "slide_type": "subslide"
    }
   },
   "source": [
    "#### カーネルトリック\n",
    "+ カーネルトリックの発想\n",
    " + 射影関数φを使って、トレーニングデータセットを高次元空間に変換し、線形分離可能にすること。\n",
    "  + 高次元にする過程で新しいデータ（未知のデータ）が作られることになる。\n",
    "   \n",
    " $$\n",
    " \\phi (x_1, x_2 ) = ( z_1, z_2, z_3 ) = (x_1, x_2 , x^2_1 + x^2_2 )\n",
    " $$\n",
    "\n",
    "+ カーネルとは2つのインスタンス間の類似性を表す関数と解釈される。"
   ]
  },
  {
   "cell_type": "code",
   "execution_count": 180,
   "metadata": {
    "slideshow": {
     "slide_type": "subslide"
    }
   },
   "outputs": [
    {
     "data": {
      "text/html": [
       "<img src=\"https://cdn-ak.f.st-hatena.com/images/fotolife/e/enakai00/20171013/20171013103327.png\"/>"
      ],
      "text/plain": [
       "<IPython.core.display.Image object>"
      ]
     },
     "execution_count": 180,
     "metadata": {},
     "output_type": "execute_result"
    }
   ],
   "source": [
    "Image(url=\"https://cdn-ak.f.st-hatena.com/images/fotolife/e/enakai00/20171013/20171013103327.png\")"
   ]
  },
  {
   "cell_type": "markdown",
   "metadata": {
    "slideshow": {
     "slide_type": "subslide"
    }
   },
   "source": [
    " + SVMをトレーニングする際に、ベクトルのドット積の計算が必要だが、この計算のコストは高いとされている。\n",
    "   + カーネル関数はこのドット積を代替するものとして導入される。\n",
    "\n",
    "$$\n",
    "\\varkappa \\left ( x^{}(i) , x^{(j)} \\right ) = \\phi \\left ( x^{(i)} \\right ) ^T   \\phi \\left ( x^{(j)} \\right )\n",
    "$$\n",
    "最も用いられるカーネルが動径基底関数カーネル(RBFカーネル、ガウスカーネルとも呼ばれる。)\n",
    "$$\n",
    "\\varkappa \\left ( x^{}(i) , x^{(j)} \\right ) = \\exp \\left (  - \\frac{\\|  x^{(i)} - x^{(j)} \\| ^2}{2 \\sigma^2}  \\right )\n",
    "$$\n",
    "これは以下のように簡略化される。\n",
    "$$\n",
    "\\varkappa \\left ( x^{}(i) , x^{(j)} \\right ) = \\exp \\left (  - \\gamma \\|  x^{(i)} - x^{(j)} \\| ^2 \\right )\n",
    "$$\n",
    "ここで、\n",
    "$$\n",
    "\\gamma = \\frac{1}{2\\sigma^2}\n",
    "$$\n",
    "は最適化されるハイパーパラメータとして扱われる。  \n",
    "式から明らかなように、このカーネルは0から1の範囲に収まることがわかる。また、ベクトルの差のノルムの2乗とすることで、ドット積の計算を回避していることがわかる。"
   ]
  },
  {
   "cell_type": "code",
   "execution_count": 182,
   "metadata": {
    "slideshow": {
     "slide_type": "skip"
    }
   },
   "outputs": [],
   "source": [
    "from matplotlib.colors import ListedColormap\n",
    "\n",
    "def plot_decision_regions(X, y, classifier, resolution=0.02):\n",
    "    markers = ('s', 'x', 'o', '^', 'v') # マーカー\n",
    "    colors = ('red', 'blue', 'lightgreen', 'gray', 'cyan') # 色\n",
    "    cmap = ListedColormap(colors[:len(np.unique(y))]) # Colormap object generated from a list of colors.\n",
    "    \n",
    "    x1_min, x1_max = X[:, 0].min() - 1, X[:, 0].max() + 1 # 領域を描くに際して最大値、最小値の情報を取得\n",
    "    x2_min, x2_max = X[:, 1].min() - 1, X[:, 1].max() + 1\n",
    "    \n",
    "    xx1, xx2 = np.meshgrid(np.arange(x1_min, x1_max, resolution), # Return coordinate matrices from coordinate vectors.\n",
    "                                              np.arange(x2_min, x2_max, resolution)) # resolutionはgridの1単位に該当する\n",
    "    \n",
    "    Z = classifier.predict(np.array([xx1.ravel(), xx2.ravel()]).T) # ravelで1次元のベクトルにして転置して予測\n",
    "    Z = Z.reshape(xx1.shape)  # Zはただのベクトルなのでxx1と同じデータ構造に変換する\n",
    "    plt.contourf(xx1, xx2, Z, alpha=0.3, cmap=cmap) # 等高線を描く\n",
    "    plt.xlim(xx1.min(), xx1.max())\n",
    "    plt.ylim(xx2.min(), xx2.max())\n",
    "    \n",
    "    for idx, cl in enumerate(np.unique(y)): # enumerateは引数にリストなどのイテラブルオブジェクトを指定すると、インデックス番号(idx)と要素(cl)が取得できる。\n",
    "        plt.scatter(x = X[y == cl, 0],\n",
    "                            y = X[y == cl, 1],\n",
    "                            alpha = 0.8,\n",
    "                            c = colors[idx],\n",
    "                            marker=markers[idx],\n",
    "                            label=cl,\n",
    "                            edgecolor='black'\n",
    "                            )        "
   ]
  },
  {
   "cell_type": "code",
   "execution_count": 184,
   "metadata": {
    "slideshow": {
     "slide_type": "subslide"
    }
   },
   "outputs": [
    {
     "data": {
      "image/png": "[encoded data removed]",
      "text/plain": [
       "<Figure size 432x288 with 1 Axes>"
      ]
     },
     "metadata": {
      "needs_background": "light"
     },
     "output_type": "display_data"
    }
   ],
   "source": [
    "svm = SVC(kernel='rbf', random_state=1, gamma=0.10, C=10.0)\n",
    "svm.fit(X_xor, y_xor)\n",
    "plot_decision_regions(X_xor, y_xor, classifier=svm)\n",
    "plt.legend(loc='upper left')\n",
    "plt.tight_layout()\n",
    "plt.show()"
   ]
  },
  {
   "cell_type": "code",
   "execution_count": 187,
   "metadata": {
    "slideshow": {
     "slide_type": "subslide"
    }
   },
   "outputs": [
    {
     "data": {
      "image/png": "[encoded data removed]",
      "text/plain": [
       "<Figure size 432x288 with 1 Axes>"
      ]
     },
     "metadata": {
      "needs_background": "light"
     },
     "output_type": "display_data"
    }
   ],
   "source": [
    "svm = SVC(kernel='rbf', random_state=1, gamma=0.2, C=1.0)\n",
    "svm.fit(X_train_std, y_train)\n",
    "plot_decision_regions(X_combined_std, y_combined, classifier=svm,\n",
    "                                         test_idx=range(105, 150))\n",
    "plt.xlabel('sepal length [standardized]');\n",
    "plt.ylabel('petal length [standardized]');\n",
    "plt.legend(loc='upper left');\n",
    "plt.tight_layout();\n",
    "plt.show()"
   ]
  },
  {
   "cell_type": "code",
   "execution_count": 188,
   "metadata": {
    "slideshow": {
     "slide_type": "subslide"
    }
   },
   "outputs": [
    {
     "data": {
      "image/png": "[encoded data removed]",
      "text/plain": [
       "<Figure size 432x288 with 1 Axes>"
      ]
     },
     "metadata": {
      "needs_background": "light"
     },
     "output_type": "display_data"
    }
   ],
   "source": [
    "svm = SVC(kernel='rbf', random_state=1, gamma=100.0, C=1.0)\n",
    "svm.fit(X_train_std, y_train)\n",
    "plot_decision_regions(X_combined_std, y_combined, classifier=svm,\n",
    "                                         test_idx=range(105, 150))\n",
    "plt.xlabel('sepal length [standardized]');\n",
    "plt.ylabel('petal length [standardized]');\n",
    "plt.legend(loc='upper left');\n",
    "plt.tight_layout();\n",
    "plt.show()"
   ]
  },
  {
   "cell_type": "markdown",
   "metadata": {
    "slideshow": {
     "slide_type": "slide"
    }
   },
   "source": [
    "### 決定木学習\n",
    "+ 一連の質問に基づいて決断を下すという方法によりデータを分類するモデル。\n",
    " + 意味解釈可能性を配慮する場合に魅力的なモデル。\n",
    " + カテゴリデータでも数量データでも扱うことができる。\n",
    " + 決定木の根（ルート）から始めて、情報利得が最大となる特徴量でデータを分割する。"
   ]
  },
  {
   "cell_type": "code",
   "execution_count": 189,
   "metadata": {
    "slideshow": {
     "slide_type": "subslide"
    }
   },
   "outputs": [
    {
     "data": {
      "text/html": [
       "<img src=\"https://static.commonlounge.com/fp/original/3gaQtwvzuLaAtx1HpaCG5Qgnl1520487539_kc\"/>"
      ],
      "text/plain": [
       "<IPython.core.display.Image object>"
      ]
     },
     "execution_count": 189,
     "metadata": {},
     "output_type": "execute_result"
    }
   ],
   "source": [
    "Image(url=\"https://static.commonlounge.com/fp/original/3gaQtwvzuLaAtx1HpaCG5Qgnl1520487539_kc\")"
   ]
  },
  {
   "cell_type": "markdown",
   "metadata": {},
   "source": []
  },
  {
   "cell_type": "markdown",
   "metadata": {
    "slideshow": {
     "slide_type": "subslide"
    }
   },
   "source": [
    "#### 情報利得の最大化\n",
    "決定木学習アルゴリズムにおいて最適化を行う目的関数は以下の情報利得を定義する。\n",
    "$$\n",
    "IG(D_p , f) = I(D_p) - \\sum _{j=1}^{m} \\frac{N_j}{N_p} I(D_j)\n",
    "$$\n",
    "f：分割を行う特徴量  \n",
    "D_p：親のデータセット  \n",
    "D_j：j番目の子ノードのデータセット  \n",
    "I：不純度を数値化したもの  \n",
    "N_p：親ノードのサンプルの総数  \n",
    "N_j：j番目の子ノードのサンプルの個数\n",
    "\n",
    "情報利得は「親ノードの不純度」と「子ノードの不純度の合計」との差によって測られる。子ノードの不純度が低いほど、目的関数の情報利得は大きくなる。"
   ]
  },
  {
   "cell_type": "markdown",
   "metadata": {
    "slideshow": {
     "slide_type": "subslide"
    }
   },
   "source": [
    "+ 二分決定木：組み合わせ探索空間をへらすために全ての親ノードを考慮せず、2つの親ノードだけを考慮している。\n",
    "\n",
    "$$\n",
    "IG(D_p, f) = I(D_p) - \\frac{N_{left}}{N_p} I(D_{left}) - \\frac{N_{right}}{N_p} I(D_{right})\n",
    "$$\n",
    "\n",
    "\n",
    "+ 不純度の指標、分割条件\n",
    " + ジニ不純度\n",
    " + エントロピー\n",
    " + 分類誤差"
   ]
  },
  {
   "cell_type": "markdown",
   "metadata": {
    "slideshow": {
     "slide_type": "subslide"
    }
   },
   "source": [
    "+ エントロピー：全ての空ではないクラスi（ p( i | t ) ≠ 0 ）を対象としている。\n",
    "  + あるできごと（事象）が起きた際、それがどれほど起こりにくいかを表す尺度とされる。\n",
    "$$\n",
    "I_H(t) = - \\sum_{i=1}^{c} p(i | t) \\log_2 p(i|t)\n",
    "$$\n",
    " p( i | t )は特定のノードtにおいてクラスiに属するサンプルの割合を表す。あるノードtにおいて、全てのクラスがiであったり、全てがiでなかったりする場合はエントロピーは0になる。\n",
    " \n",
    "   +  p( i = 1 | t ) =1の場合\n",
    "     + 対数の箇所において0となり、エントロピーは0に\n",
    "   +  p( i = 0 | t ) =0の場合\n",
    "     + 0となる箇所があるので、エントロピーは0に\n",
    "   \n",
    "エントロピーが最大になるのは各クラスが一様に分布している場合\n",
    " +  p( i = 1 | t ) =0.5の場合\n",
    "   + 対数の箇所において-1となり、エントロピーは1に\n",
    " +  p( i = 0 | t ) =0.5の場合\n",
    "   + 対数の箇所において-1となり、エントロピーは1に\n",
    "   \n",
    "相互情報量とは、「一方を知った後にも残る、もう一方の不確かさの量」を表すので、エントロピーが大きくなるとき、相互情報量が大きくなることがわかる。つまり、 p( i = 1 | t ) =1の場合、それを知った時点でもう一方の不確かさは全くなくなることがわかる。"
   ]
  },
  {
   "cell_type": "markdown",
   "metadata": {
    "slideshow": {
     "slide_type": "subslide"
    }
   },
   "source": [
    "+ ジニ不純度\n",
    " + 誤分類の確率を最小化する条件。\n",
    "   + エントロピーと同様にジニ不純度が最大になるのは、クラスが完全に混合されている場合。\n",
    "$$\n",
    "I_G(t) = - \\sum_{i=1}^{c} p(i | t) (1- p(i | t)) = 1 - \\sum_{i=1}^{c} p(i|t)^2\n",
    "$$\n",
    "\n",
    "   + 二値分類の際にクラスが完全に混合されているケース \n",
    "$$\n",
    "I_G(t) = 1 - \\sum_{i=1}^{c} 0.5^2 = 0.5\n",
    "$$"
   ]
  },
  {
   "cell_type": "markdown",
   "metadata": {
    "slideshow": {
     "slide_type": "subslide"
    }
   },
   "source": [
    "+ 分類誤差\n",
    " + ノードのクラス確率の変化にあまり敏感ではないため、決定木を成長させるのに適していない。\n",
    " \n",
    " $$\n",
    " I_E(t) = 1 - max \\{  p (i | t) \\}\n",
    " $$\n",
    " \n",
    " + A\n",
    "   + (40, 40)\n",
    "     + (30, 10)\n",
    "     + (10, 30)\n",
    " + B\n",
    "   + (40, 40)\n",
    "     + (20, 40)\n",
    "     + (20, 0)"
   ]
  },
  {
   "cell_type": "markdown",
   "metadata": {
    "slideshow": {
     "slide_type": "subslide"
    }
   },
   "source": [
    "+ 分類誤差の場合\n",
    "$$\n",
    "I_E(D_p) = 1 - 0.5 = 0.5 \\\\\n",
    "\\\\\n",
    "I_E(D_{left}) = 1 - \\frac{30}{30+10} = 0.25 \\\\\n",
    "I_E(D_{right}) = 1 - \\frac{30}{10+30} = 0.25 \\\\\n",
    "IG_E = 0.5 - \\frac{30+10}{40+40} \\times I_E(D_{left})  -   \\frac{10+30}{40+40}  \\times I_E(D_{right}) = 0.25  \\quad (scenario \\ A) \\\\\n",
    "\\\\\n",
    "I_E(D_{left}) = 1 - \\frac{40}{20 + 40} = \\frac{1}{3} \\\\\n",
    "I_E(D_{right}) = 1 - \\frac{20}{20} = 0 \\\\\n",
    "IG_E = 0.5 - \\frac{20 + 40}{40+40} \\times I_E(D_{left})  -   \\frac{20+0}{40+40}  \\times I_E(D_{right}) = 0.25  \\quad (scenario \\ B) \\\\\n",
    "$$"
   ]
  },
  {
   "cell_type": "markdown",
   "metadata": {
    "slideshow": {
     "slide_type": "subslide"
    }
   },
   "source": [
    "+ ジニ不純度の場合\n",
    "$$\n",
    "I_G(D_p) = 1 - (0.5^2 + 0.5^2) = 0.5 \\\\\n",
    "\\\\\n",
    "I_G(D_{left}) = 1 - \\left ( \\left ( \\frac{30}{30+10}  \\right )^2   + \\left ( \\frac{10}{30 + 10}  \\right )^2   \\right ) = 0.375 \\\\\n",
    "I_G(D_{right}) = 1 -\\left ( \\left ( \\frac{10}{10+30}  \\right )^2   + \\left ( \\frac{30}{10 + 30}  \\right )^2   \\right ) = 0.375 \\\\\n",
    "IG_G = 0.5 - \\frac{30+10}{40+40} \\times I_G(D_{left})  -   \\frac{10+30}{40+40}  \\times I_G(D_{right}) = 0.125  \\quad (scenario \\ A) \\\\\n",
    "\\\\\n",
    "I_G(D_{left}) = 1 - \\left ( \\left ( \\frac{20}{20+40}  \\right )^2   + \\left ( \\frac{40}{20 + 40}  \\right )^2   \\right ) = 0.4 \\\\\n",
    "I_G(D_{right}) = 1 -\\left ( \\left ( \\frac{20}{20+0}  \\right )^2   + \\left ( \\frac{0}{20 + 0}  \\right )^2   \\right ) = 0 \\\\\n",
    "IG_G = 0.5 - \\frac{30+10}{40+40} \\times I_G(D_{left})  -   \\frac{10+30}{40+40}  \\times I_G(D_{right}) = 0.16  \\quad (scenario \\ B) \\\\\n",
    "$$"
   ]
  },
  {
   "cell_type": "markdown",
   "metadata": {
    "slideshow": {
     "slide_type": "subslide"
    }
   },
   "source": [
    "+ エントロピーの場合\n",
    "$$\n",
    "I_H(D_p) = - \\left ( \\frac{40}{40+40} \\log \\left (  \\frac{40}{40+40} \\right ) + \\frac{40}{40+40} \\log \\left (  \\frac{40}{40+40} \\right ) \\right ) = 1 \\\\\n",
    "\\\\\n",
    "I_H(D_{left}) = a = 0.375 \\\\\n",
    "I_H(D_{right}) = a  = 0.375 \\\\\n",
    "IG_H = 0.5 - \\frac{30+10}{40+40} \\times I_H(D_{left})  -   \\frac{10+30}{40+40}  \\times I_H(D_{right}) =   \\quad (scenario \\ A) \\\\\n",
    "\\\\\n",
    "I_H(D_{left}) = a = 0.4 \\\\\n",
    "I_H(D_{right}) = a = 0 \\\\\n",
    "IG_H = 0.5 - \\frac{30+10}{40+40} \\times I_H(D_{left})  -   \\frac{10+30}{40+40}  \\times I_H(D_{right}) = 0.16  \\quad (scenario \\ B) \\\\\n",
    "$$"
   ]
  },
  {
   "cell_type": "markdown",
   "metadata": {
    "slideshow": {
     "slide_type": "slide"
    }
   },
   "source": [
    "### k近傍法：怠惰学習アルゴリズム"
   ]
  },
  {
   "cell_type": "code",
   "execution_count": null,
   "metadata": {},
   "outputs": [],
   "source": []
  },
  {
   "cell_type": "code",
   "execution_count": null,
   "metadata": {},
   "outputs": [],
   "source": []
  }
 ],
 "metadata": {
  "celltoolbar": "Slideshow",
  "kernelspec": {
   "display_name": "Python [conda root]",
   "language": "python",
   "name": "conda-root-py"
  },
  "language_info": {
   "codemirror_mode": {
    "name": "ipython",
    "version": 3
   },
   "file_extension": ".py",
   "mimetype": "text/x-python",
   "name": "python",
   "nbconvert_exporter": "python",
   "pygments_lexer": "ipython3",
   "version": "3.5.6"
  },
  "toc": {
   "base_numbering": 1,
   "nav_menu": {},
   "number_sections": true,
   "sideBar": true,
   "skip_h1_title": false,
   "title_cell": "Table of Contents",
   "title_sidebar": "Contents",
   "toc_cell": false,
   "toc_position": {},
   "toc_section_display": true,
   "toc_window_display": true
  }
 },
 "nbformat": 4,
 "nbformat_minor": 2
}
