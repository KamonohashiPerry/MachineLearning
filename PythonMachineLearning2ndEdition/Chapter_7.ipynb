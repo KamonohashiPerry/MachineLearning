{
 "cells": [
  {
   "cell_type": "code",
   "execution_count": 1,
   "metadata": {},
   "outputs": [],
   "source": [
    "from IPython.display import Image\n",
    "from IPython.core.display import HTML \n",
    "\n",
    "import warnings\n",
    "warnings.filterwarnings('ignore')"
   ]
  },
  {
   "cell_type": "markdown",
   "metadata": {
    "slideshow": {
     "slide_type": "slide"
    }
   },
   "source": [
    "## [DSO] Machine Learning Seminar Vol.6\n",
    "2020-06-xx  \n",
    "SKUE"
   ]
  },
  {
   "cell_type": "code",
   "execution_count": 2,
   "metadata": {
    "slideshow": {
     "slide_type": "slide"
    }
   },
   "outputs": [
    {
     "data": {
      "text/html": [
       "<img src=\"https://image.yodobashi.com/product/100/000/009/002/935/105/100000009002935105_10204.jpg\"/>"
      ],
      "text/plain": [
       "<IPython.core.display.Image object>"
      ]
     },
     "execution_count": 2,
     "metadata": {},
     "output_type": "execute_result"
    }
   ],
   "source": [
    "Image(url=\"https://image.yodobashi.com/product/100/000/009/002/935/105/100000009002935105_10204.jpg\")"
   ]
  },
  {
   "cell_type": "markdown",
   "metadata": {},
   "source": [
    "# アンサンブル学習~異なるモデルの組み合わせ\n",
    "+ 多数決に基づく予測\n",
    "+ バギング\n",
    "+ ブースティング"
   ]
  },
  {
   "cell_type": "markdown",
   "metadata": {},
   "source": [
    "## アンサンブルによる学習\n",
    "+ 様々な分類器を1つのメタ分類器として組み合わせる\n",
    "+ 多数決の原理\n",
    " + 分類器の過半数によって予測されているクラスが選択される。\n",
    "  + 多クラスの分類問題に一般化するには相対多数決となる。"
   ]
  },
  {
   "cell_type": "code",
   "execution_count": 3,
   "metadata": {},
   "outputs": [
    {
     "data": {
      "text/html": [
       "<img src=\"https://www.karlsims.com/scv-abcde.gif\"/>"
      ],
      "text/plain": [
       "<IPython.core.display.Image object>"
      ]
     },
     "execution_count": 3,
     "metadata": {},
     "output_type": "execute_result"
    }
   ],
   "source": [
    "Image(url='https://www.karlsims.com/scv-abcde.gif')"
   ]
  },
  {
   "cell_type": "code",
   "execution_count": 4,
   "metadata": {},
   "outputs": [
    {
     "data": {
      "text/html": [
       "<img src=\"https://miro.medium.com/max/1700/0*PBGJw23ud8Sp7qO4.\"/>"
      ],
      "text/plain": [
       "<IPython.core.display.Image object>"
      ]
     },
     "execution_count": 4,
     "metadata": {},
     "output_type": "execute_result"
    }
   ],
   "source": [
    "Image(url='https://miro.medium.com/max/1700/0*PBGJw23ud8Sp7qO4.')"
   ]
  },
  {
   "cell_type": "markdown",
   "metadata": {},
   "source": [
    "\\\\( C_j \\\\)は予測されたクラスラベルを表す。\n",
    "\n",
    "最頻値\n",
    "$$ \\hat y = mode \\left \\{ C_1(x), C_2(x), C, \\dots , C_m(x) \\right \\} $$\n",
    "\n",
    "二値分類タスクでの多数決予測\n",
    "$$C(x) = sign \\left [ \\sum_j^m C_j(x)  \\right] = \\begin{cases}\n",
    "    1 \\  \\left ( \\sum_j^m C_j(x) \\geq 0 \\right)  \\\\\n",
    "    -1 \\  \\left ( \\sum_j^m C_j(x) < 0 \\right)\n",
    "  \\end{cases}$$"
   ]
  },
  {
   "cell_type": "markdown",
   "metadata": {},
   "source": [
    "+ アンサンブル法の有用性を示す例\n",
    " + 二値分類を考える\n",
    " + 二値分類のn個の分類器それぞれの誤分類率（ \\\\( \\epsilon \\\\) ）が全て等しいとする。\n",
    " + それぞれの分類器が独立しており、誤分類率に相関がないものとする。\n",
    " \n",
    "アンサンブルの誤分類率を二項分布の確率質量変数として表すと、\n",
    "$$P( y \\geq k ) = \\sum_k^n {}_n C _k \\epsilon^k (1-0.25)^{n-k} = \\epsilon_{ensemble} $$\n",
    "誤分類率が0.25の分類器の数が11個で、そのうち6個の分類器を選ぶ場合、\n",
    "$$P( y \\geq k ) = \\sum_{k=6}^{11} {}_{11} C _k 0.25^k (1-0.25)^{11-k} = 0.034 $$"
   ]
  },
  {
   "cell_type": "code",
   "execution_count": 5,
   "metadata": {},
   "outputs": [
    {
     "data": {
      "text/plain": [
       "0.03432750701904297"
      ]
     },
     "execution_count": 5,
     "metadata": {},
     "output_type": "execute_result"
    }
   ],
   "source": [
    "from scipy.special import comb # miscからspecialに変わっている。\n",
    "import math\n",
    "\n",
    "# アンサンブルによる誤差を計算するための関数\n",
    "def ensemble_error(n_classifier, error):\n",
    "    k_start = int(math.ceil(n_classifier / 2.))\n",
    "    # 数式と同じ処理を内包表記で書いている。\n",
    "    probs = [comb(n_classifier, k) * error**k * (1-error)**(n_classifier - k) for k in range(k_start, n_classifier + 1)]\n",
    "    return sum(probs)\n",
    "\n",
    "ensemble_error(n_classifier=11, error=0.25)"
   ]
  },
  {
   "cell_type": "code",
   "execution_count": 6,
   "metadata": {},
   "outputs": [
    {
     "data": {
      "image/png": "[encoded data removed]",
      "text/plain": [
       "<Figure size 432x288 with 1 Axes>"
      ]
     },
     "metadata": {
      "needs_background": "light"
     },
     "output_type": "display_data"
    }
   ],
   "source": [
    "import numpy as np\n",
    "import matplotlib.pyplot as plt\n",
    "\n",
    "error_range = np.arange(0.0, 1.01, 0.01)\n",
    "ens_errors = [ensemble_error(n_classifier=11, error=error) for error in error_range]\n",
    "\n",
    "plt.plot(error_range, ens_errors,\n",
    "                label='Ensemble error', linewidth=2)\n",
    "plt.plot(error_range, error_range,\n",
    "                linestyle='--', label='Base error', linewidth=2)\n",
    "plt.xlabel('Base error')\n",
    "plt.ylabel('Base/Ensemble error')\n",
    "plt.legend(loc='upper left')\n",
    "plt.grid(alpha=0.5)\n",
    "plt.show()"
   ]
  },
  {
   "cell_type": "markdown",
   "metadata": {},
   "source": [
    "## 多数決による分類器の結合"
   ]
  },
  {
   "cell_type": "markdown",
   "metadata": {},
   "source": [
    "### 単純な多数決分類器を実装する\n",
    "\n",
    "\\\\( C_j \\\\)は予測されたクラスラベルを表す。  \n",
    "\\\\( \\chi_A \\\\)は特性関数を表す。\n",
    "\n",
    "最大値を与える引数についての式で予測を行う。\n",
    "$$ \\hat y = \\arg \\max_i \\sum_{j=1}^m w_j \\chi_A \\left ( C_j(x) = i \\right ) $$\n",
    "それぞれの分類器の重みが等しい場合、以下のようになる。\n",
    "$$ \\hat y = mode \\left \\{ C_1(x), C_2(x), C, \\dots , C_m(x) \\right \\} $$\n",
    "\n",
    "+ 例\n",
    " + 3つのベース分類器からなるアンサンブルを考える。\n",
    " $$C_1(x) \\rightarrow 0, C_2(x) \\rightarrow 0, C_3(x) \\rightarrow 1 $$\n",
    " \n",
    " $$\\hat y = mode \\left \\{ 0, 0, 1 \\right \\} = 0 $$\n",
    " \n",
    " ここで、\\\\( C_3 \\\\)の重み係数を0.6、\\\\( C_1 \\\\)と\\\\( C_2 \\\\)の重み係数を0.2にしてみよう。\n",
    "$$ \\hat y = \\arg \\max_i \\sum_{j=1}^3 w_j \\chi_A \\left ( C_j(x) = i \\right ) \\\\\n",
    "= \\arg \\max_i \\left [ 0.2 \\times \\chi_A \\left ( C_1(x) = i \\right ) + 0.2 \\times \\chi_A \\left ( C_2(x) = i \\right ) + 0.6 \\times \\chi_A \\left ( C_3(x) = i \\right )  \\right ] = 1\n",
    "$$\n",
    "行われていることは以下と同じである。\n",
    " $$\\hat y = mode \\left \\{ 0, 0, 1, 1, 1 \\right \\} = 1 $$"
   ]
  },
  {
   "cell_type": "code",
   "execution_count": 7,
   "metadata": {},
   "outputs": [
    {
     "data": {
      "text/plain": [
       "1"
      ]
     },
     "execution_count": 7,
     "metadata": {},
     "output_type": "execute_result"
    }
   ],
   "source": [
    "import numpy as np\n",
    "\n",
    "np.argmax(np.bincount([0, 0, 1], weights=[0.2, 0.2, 0.6]))"
   ]
  },
  {
   "cell_type": "markdown",
   "metadata": {},
   "source": [
    "+ クラスラベルの確率から予測するように多数決を修正する\n",
    " + \\\\( p_{ij} \\\\)はクラスラベルiに対してj番目の分類器が予測した確率を表す。\n",
    "\n",
    "$$\\hat y = \\arg \\max_i \\sum_{j=1}^m w_jp_{ij}$$\n",
    "\n",
    "$$ C_1(x) \\rightarrow [0.9, 0.1], C_2(x) \\rightarrow [0.8, 0.2], C_3(x) \\rightarrow [0.4, 0.6] $$\n",
    "\n",
    "$$p( i = 0 | x) = 0.2 \\times 0.9 + 0.2 \\times 0.8 + 0.6\\times 0.4 = 0.58 \\\\\n",
    "p( i = 1 | x) = 0.2 \\times0.1 + 0.2 \\times 0.2 + 0.6\\times 0.6 = 0.42\n",
    "$$ \n",
    "\n",
    "$$ \\hat y = \\arg max_i [p( i = 0 | x) , p( i = 1 | x)] = 0 $$"
   ]
  },
  {
   "cell_type": "code",
   "execution_count": 8,
   "metadata": {},
   "outputs": [
    {
     "data": {
      "text/plain": [
       "array([0.58, 0.42])"
      ]
     },
     "metadata": {},
     "output_type": "display_data"
    },
    {
     "data": {
      "text/plain": [
       "0"
      ]
     },
     "metadata": {},
     "output_type": "display_data"
    }
   ],
   "source": [
    "ex = np.array([[0.9, 0.1],\n",
    "                          [0.8, 0.2],\n",
    "                          [0.4, 0.6]])\n",
    "\n",
    "p = np.average(ex, axis=0, weights=[0.2, 0.2, 0.6])\n",
    "\n",
    "display(p)\n",
    "display(np.argmax(p))"
   ]
  },
  {
   "cell_type": "code",
   "execution_count": 50,
   "metadata": {},
   "outputs": [],
   "source": [
    "# 多数決投票分類器のクラスの作成\n",
    "\n",
    "from sklearn.base import BaseEstimator\n",
    "from sklearn.base import ClassifierMixin\n",
    "from sklearn.preprocessing import LabelEncoder\n",
    "\n",
    "# module間で干渉があるので、以下の処理を挟む\n",
    "import six\n",
    "import sys\n",
    "sys.modules['sklearn.externals.six'] = six\n",
    "import mlrose\n",
    "\n",
    "from sklearn.base import clone\n",
    "from sklearn.pipeline import _name_estimators\n",
    "import numpy as np\n",
    "import operator\n",
    "\n",
    "class MajorityVoteClassifier(BaseEstimator, ClassifierMixin):\n",
    "    def __init__(self, classifiers, vote='classlabel', weights=None):\n",
    "        self.classifiers = classifiers\n",
    "        # dict形式でkey-valueのデータを保持する\n",
    "        self.named_classifiers = {key: value for key, value in _name_estimators(classifiers)}\n",
    "        self.vote = vote\n",
    "        self.weights = weights\n",
    "        \n",
    "    def fit(self, X, y):\n",
    "        # LabelEncoderを使ってクラスラベルが0から始まるようにエンコードする\n",
    "        # self.predictのnp.argmax呼び出しで重要となる\n",
    "        self.lablenc_ = LabelEncoder() # sklearnを01になおす関数\n",
    "        self.lablenc_.fit(y) # sklearnのfit\n",
    "        self.classes_  = self.lablenc_.classes_ # selfにエンコードした結果をクラスとして持たせる\n",
    "        self.classifiers_ = []\n",
    "        for clf in self.classifiers:\n",
    "            # ラベルを変換して学習している\n",
    "            # cloneは同じパラメータを使って学習する際に使う。\n",
    "            # Constructs a new estimator with the same parameters.\n",
    "            fitted_clf = clone(clf).fit(X, self.lablenc_.transform(y))\n",
    "            # 学習した分類器をappendで格納する\n",
    "            self.classifiers_.append(fitted_clf)\n",
    "        return self\n",
    "    \n",
    "    def predict(self, X):\n",
    "        # 確率になっている場合\n",
    "        if self.vote == 'probability':\n",
    "            # arg maxで確率が最大になるXを選ぶ\n",
    "            maj_vote = np.argmax(self.predict_proba(X), axis=1)\n",
    "            \n",
    "        # classlabelでの多数決\n",
    "        else:\n",
    "            # clf.predict呼び出しの結果をarray形式で蓄積する\n",
    "            # np.asarray: Convert the input to an array.\n",
    "            predictions = np.asarray([clf.predict(X) for clf in self.classifiers_]).T\n",
    "            \n",
    "            # np.apply_along_axis : Apply a function to 1-D slices along the given axis.\n",
    "            maj_vote = np.apply_along_axis(\n",
    "                                                                      lambda x:\n",
    "                                                                            # Count number of occurrences of each value in array of non-negative ints.\n",
    "                                                                            np.argmax(np.bincount(x, weights=self.weights)),\n",
    "                                                                            axis=1, # Axis along which arr is sliced.\n",
    "                                                                            arr=predictions # Input array\n",
    "                                                                    )\n",
    "            \n",
    "        # 各サンプルに確率の最大値を与えるクラスラベルを抽出\n",
    "        # inverse_transform : Transform labels back to original encoding.\n",
    "        maj_vote = self.lablenc_.inverse_transform(maj_vote)\n",
    "        return maj_vote\n",
    "    \n",
    "    def predict_proba(self, X):\n",
    "        # 分類器ごとにsklearnの予測結果をarray形式で蓄積\n",
    "        probas = np.asarray([clf.predict_proba(X) for clf in self.classifiers_ ])\n",
    "        # 加重平均をとる\n",
    "        # np.average : Compute the weighted average along the specified axis.\n",
    "        # axis : Axis or axes along which to average a. \n",
    "        # weights : An array of weights associated with the values in a. Each value in a contributes to the average according to its associated weight.\n",
    "        avg_proba = np.average(probas, axis=0, weights=self.weights)\n",
    "        return avg_proba\n",
    "    \n",
    "    def get_params(self, deep=True):\n",
    "        \"\"\"GridSearchの実行時に分類器のパラメータ名を取得\"\"\"\n",
    "        if not deep:\n",
    "            # 単継承のクラス階層構造で super は名前を明示することなく親クラスを参照するのに使え、それゆえコードをメンテナンスしやすくなります。\n",
    "            return super(MajorityVoteClassifier, self).get_params(deep=False)\n",
    "        else:\n",
    "            out = self.named_classifiers.copy()\n",
    "            # six.iteritems : Returns an iterator over dictionary’s items. \n",
    "            for name, step in six.iteritems(self.named_classifiers):\n",
    "                for key, value in six.iteritems(step.get_params(deep=True)):\n",
    "                    out['%s__%s' % (name, key)] = value\n",
    "                return out"
   ]
  },
  {
   "cell_type": "markdown",
   "metadata": {},
   "source": [
    "### 多数決の原理に基づいて予測を行う"
   ]
  },
  {
   "cell_type": "code",
   "execution_count": 51,
   "metadata": {},
   "outputs": [],
   "source": [
    "from sklearn import datasets\n",
    "from sklearn.model_selection import train_test_split\n",
    "from sklearn.preprocessing import StandardScaler\n",
    "from sklearn.preprocessing import LabelEncoder\n",
    "iris = datasets.load_iris()\n",
    "X, y = iris.data[50:, [1, 2]], iris.target[50:]\n",
    "le = LabelEncoder()\n",
    "y = le.fit_transform(y)\n",
    "\n",
    "X_train, X_test, y_train, y_test = train_test_split(X, y, test_size=0.5, random_state=1, stratify=y)"
   ]
  },
  {
   "cell_type": "code",
   "execution_count": 52,
   "metadata": {},
   "outputs": [
    {
     "name": "stdout",
     "output_type": "stream",
     "text": [
      "10-fold cross validation:\n",
      "\n",
      "ROC AUC: 0.92 (+/- 0.15) [Logistic regression] \n",
      "ROC AUC: 0.87 (+/- 0.18) [Decision tree] \n",
      "ROC AUC: 0.85 (+/- 0.13) [KNN] \n"
     ]
    }
   ],
   "source": [
    "from sklearn.model_selection import cross_val_score\n",
    "from sklearn.linear_model import LogisticRegression\n",
    "from sklearn.tree import DecisionTreeClassifier\n",
    "from sklearn.neighbors import KNeighborsClassifier\n",
    "from sklearn.pipeline import Pipeline\n",
    "import numpy as np\n",
    "\n",
    "clf1 = LogisticRegression(penalty='l2',\n",
    "                                             C=0.001,\n",
    "                                             random_state=1)\n",
    "\n",
    "clf2 = DecisionTreeClassifier(max_depth=1,\n",
    "                                             criterion='entropy',\n",
    "                                             random_state=0)\n",
    "\n",
    "clf3 = KNeighborsClassifier(n_neighbors=1,\n",
    "                                                p=2,\n",
    "                                                metric='minkowski')\n",
    "\n",
    "pipe1 = Pipeline([['sc', StandardScaler()], ['clf', clf1]])\n",
    "pipe3 = Pipeline([['sc', StandardScaler()], ['clf', clf3]])\n",
    "\n",
    "clf_labels = ['Logistic regression', 'Decision tree', 'KNN']\n",
    "print('10-fold cross validation:\\n')\n",
    "\n",
    "for clf, label in zip([pipe1, clf2, pipe3], clf_labels):\n",
    "    scores = cross_val_score(estimator=clf,\n",
    "                                                  X=X_train,\n",
    "                                                  y=y_train,\n",
    "                                                  cv=10,\n",
    "                                                  scoring='roc_auc')\n",
    "    print(\"ROC AUC: %0.2f (+/- %0.2f) [%s] \" % (scores.mean(), scores.std(), label))"
   ]
  },
  {
   "cell_type": "code",
   "execution_count": 53,
   "metadata": {},
   "outputs": [
    {
     "name": "stdout",
     "output_type": "stream",
     "text": [
      "ROC AUC: 0.92 (+/-) 0.15) [Logistic regression] \n",
      "ROC AUC: 0.87 (+/-) 0.18) [Decision tree] \n",
      "ROC AUC: 0.85 (+/-) 0.13) [KNN] \n",
      "ROC AUC: 0.98 (+/-) 0.05) [Majority voting] \n"
     ]
    }
   ],
   "source": [
    "mv_clf = MajorityVoteClassifier(classifiers=[pipe1, clf2, pipe3])\n",
    "clf_labels += ['Majority voting']\n",
    "all_clf = [pipe1, clf2, pipe3, mv_clf]\n",
    "\n",
    "for clf, label in zip(all_clf, clf_labels):\n",
    "    scores = cross_val_score(estimator=clf,\n",
    "                                                 X=X_train,\n",
    "                                                 y=y_train,\n",
    "                                                 cv=10,\n",
    "                                                 scoring='roc_auc')\n",
    "    print(\"ROC AUC: %0.2f (+/-) %0.2f) [%s] \" % (scores.mean(), scores.std(), label) )"
   ]
  },
  {
   "cell_type": "markdown",
   "metadata": {},
   "source": [
    "## アンサンブル分類器の評価とチューニング"
   ]
  },
  {
   "cell_type": "code",
   "execution_count": 54,
   "metadata": {},
   "outputs": [
    {
     "data": {
      "image/png": "[encoded data removed]",
      "text/plain": [
       "<Figure size 432x288 with 1 Axes>"
      ]
     },
     "metadata": {
      "needs_background": "light"
     },
     "output_type": "display_data"
    }
   ],
   "source": [
    "from sklearn.metrics import roc_curve\n",
    "from sklearn.metrics import auc\n",
    "colors = ['black', 'orange', 'blue', 'green']\n",
    "linestyles = [':', '--', '-.', '-']\n",
    "\n",
    "for clf, label, clr, ls in zip(all_clf, clf_labels, colors, linestyles):\n",
    "    # 陽性クラスのラベルは1であることが前提\n",
    "    y_pred = clf.fit(X_train, y_train).predict_proba(X_test)[:, 1]\n",
    "    fpr, tpr, thresholds = roc_curve(y_true=y_test, y_score=y_pred)\n",
    "    roc_auc = auc(x=fpr, y=tpr)\n",
    "    plt.plot(fpr, tpr,\n",
    "                    color=clr,\n",
    "                    linestyle=ls,\n",
    "                    label='%s (auc = %0.2f)' % (label, roc_auc) )\n",
    "    \n",
    "plt.legend(loc='lower right')\n",
    "plt.plot([0, 1], [0, 1],\n",
    "                linestyle='--',\n",
    "                color='gray',\n",
    "                 linewidth=2)\n",
    "plt.xlim([-0.1, 1.1])\n",
    "plt.ylim([-0.1, 1.1])\n",
    "plt.grid(alpha=0.5)\n",
    "plt.xlabel('False positive rate (FPR)')\n",
    "plt.ylabel('True positive rate (TPR)')\n",
    "plt.show()"
   ]
  },
  {
   "cell_type": "code",
   "execution_count": 55,
   "metadata": {},
   "outputs": [
    {
     "data": {
      "image/png": "[encoded data removed]",
      "text/plain": [
       "<Figure size 504x360 with 4 Axes>"
      ]
     },
     "metadata": {
      "needs_background": "light"
     },
     "output_type": "display_data"
    }
   ],
   "source": [
    "sc = StandardScaler()\n",
    "X_train_std = sc.fit_transform(X_train)\n",
    "from itertools import product\n",
    "\n",
    "# 決定領域を描画する最小値、最大値を生成\n",
    "x_min = X_train_std[:, 0].min() - 1\n",
    "x_max = X_train_std[:, 0].max() + 1\n",
    "y_min = X_train_std[:, 1].min() - 1\n",
    "y_max = X_train_std[:, 1].max() + 1\n",
    "\n",
    "# グリッドポイントを作成\n",
    "xx, yy = np.meshgrid(np.arange(x_min, x_max, 0.1),\n",
    "                                     np.arange(y_min, y_max, 0.1))\n",
    "\n",
    "# 描画領域を2行2列に分割\n",
    "f, axarr = plt.subplots(nrows=2, ncols=2,\n",
    "                                       sharex='col',\n",
    "                                       sharey='row',\n",
    "                                       figsize=(7, 5))\n",
    "\n",
    "# 決定領域のプロット、青谷赤の散布図作成などを実行\n",
    "# 変数idxは各分類器を描画する行と列の位置を表すタプル\n",
    "for idx, clf, tt in zip(product([0, 1], [0, 1]), all_clf, clf_labels):\n",
    "    clf.fit(X_train_std, y_train)\n",
    "    #  np.c_ : Translates slice objects to concatenation along the second axis.\n",
    "    Z = clf.predict(np.c_[xx.ravel(), yy.ravel()])\n",
    "    Z = Z.reshape(xx.shape)\n",
    "    \n",
    "    axarr[idx[0], idx[1]].contourf(xx, yy, Z, alpha=0.3)\n",
    "    axarr[idx[0], idx[1]].scatter(X_train_std[y_train==0, 0],\n",
    "                                                      X_train_std[y_train==0, 1],\n",
    "                                                      c='blue',\n",
    "                                                      marker='^',\n",
    "                                                      s=50)\n",
    "    axarr[idx[0], idx[1]].scatter(X_train_std[y_train==0, 0],\n",
    "                                                      X_train_std[y_train==1, 1],\n",
    "                                                      c='green',\n",
    "                                                      marker='o',\n",
    "                                                      s=50)\n",
    "    axarr[idx[0], idx[1]].set_title(tt)\n",
    "    \n",
    "plt.text(-3.5, -5.,\n",
    "                s='Sepal width [standardized]',\n",
    "                ha='center', va='center', fontsize=12)\n",
    "\n",
    "plt.text( -12.5, 4.5,\n",
    "                s='Petal length [standardized]',\n",
    "                ha='center', va='center', fontsize=12, rotation=90)\n",
    "plt.show()"
   ]
  },
  {
   "cell_type": "code",
   "execution_count": 56,
   "metadata": {},
   "outputs": [
    {
     "data": {
      "text/plain": [
       "{'pipeline-1': Pipeline(steps=[('sc', StandardScaler()),\n",
       "                 ['clf', LogisticRegression(C=0.001, random_state=1)]]),\n",
       " 'decisiontreeclassifier': DecisionTreeClassifier(criterion='entropy', max_depth=1, random_state=0),\n",
       " 'pipeline-2': Pipeline(steps=[('sc', StandardScaler()),\n",
       "                 ['clf', KNeighborsClassifier(n_neighbors=1)]]),\n",
       " 'pipeline-1__memory': None,\n",
       " 'pipeline-1__steps': [('sc', StandardScaler()),\n",
       "  ['clf', LogisticRegression(C=0.001, random_state=1)]],\n",
       " 'pipeline-1__verbose': False,\n",
       " 'pipeline-1__sc': StandardScaler(),\n",
       " 'pipeline-1__clf': LogisticRegression(C=0.001, random_state=1),\n",
       " 'pipeline-1__sc__copy': True,\n",
       " 'pipeline-1__sc__with_mean': True,\n",
       " 'pipeline-1__sc__with_std': True,\n",
       " 'pipeline-1__clf__C': 0.001,\n",
       " 'pipeline-1__clf__class_weight': None,\n",
       " 'pipeline-1__clf__dual': False,\n",
       " 'pipeline-1__clf__fit_intercept': True,\n",
       " 'pipeline-1__clf__intercept_scaling': 1,\n",
       " 'pipeline-1__clf__l1_ratio': None,\n",
       " 'pipeline-1__clf__max_iter': 100,\n",
       " 'pipeline-1__clf__multi_class': 'auto',\n",
       " 'pipeline-1__clf__n_jobs': None,\n",
       " 'pipeline-1__clf__penalty': 'l2',\n",
       " 'pipeline-1__clf__random_state': 1,\n",
       " 'pipeline-1__clf__solver': 'lbfgs',\n",
       " 'pipeline-1__clf__tol': 0.0001,\n",
       " 'pipeline-1__clf__verbose': 0,\n",
       " 'pipeline-1__clf__warm_start': False}"
      ]
     },
     "execution_count": 56,
     "metadata": {},
     "output_type": "execute_result"
    }
   ],
   "source": [
    "mv_clf.get_params()"
   ]
  },
  {
   "cell_type": "code",
   "execution_count": 58,
   "metadata": {},
   "outputs": [
    {
     "data": {
      "text/plain": [
       "GridSearchCV(cv=10,\n",
       "             estimator=MajorityVoteClassifier(classifiers=[Pipeline(steps=[('sc',\n",
       "                                                                            StandardScaler()),\n",
       "                                                                           ['clf',\n",
       "                                                                            LogisticRegression(C=0.001,\n",
       "                                                                                               random_state=1)]]),\n",
       "                                                           DecisionTreeClassifier(criterion='entropy',\n",
       "                                                                                  max_depth=1,\n",
       "                                                                                  random_state=0),\n",
       "                                                           Pipeline(steps=[('sc',\n",
       "                                                                            StandardScaler()),\n",
       "                                                                           ['clf',\n",
       "                                                                            KNeighborsClassifier(n_neighbors=1)]])]),\n",
       "             param_grid={'decisiontreeclassifier__max_depth': [1, 2],\n",
       "                         'pipeline-1__clf__C': [0.001, 0.1, 100.0]},\n",
       "             scoring='roc_auc')"
      ]
     },
     "execution_count": 58,
     "metadata": {},
     "output_type": "execute_result"
    }
   ],
   "source": [
    "# ロジスティック回帰の逆正則化パラメータCと決定木の深さをチューニング\n",
    "\n",
    "from sklearn.model_selection import GridSearchCV\n",
    "\n",
    "params = {'decisiontreeclassifier__max_depth': [1, 2],\n",
    "                 'pipeline-1__clf__C': [0.001, 0.1, 100.0]}\n",
    "grid = GridSearchCV(estimator=mv_clf,\n",
    "                                    param_grid=params,\n",
    "                                    cv=10,\n",
    "                                    scoring='roc_auc')\n",
    "grid.fit(X_train, y_train)"
   ]
  },
  {
   "cell_type": "code",
   "execution_count": 59,
   "metadata": {},
   "outputs": [
    {
     "name": "stdout",
     "output_type": "stream",
     "text": [
      "0.983 +/- 0.02 {'decisiontreeclassifier__max_depth': 1, 'pipeline-1__clf__C': 0.001}\n",
      "0.983 +/- 0.02 {'decisiontreeclassifier__max_depth': 1, 'pipeline-1__clf__C': 0.1}\n",
      "0.967 +/- 0.05 {'decisiontreeclassifier__max_depth': 1, 'pipeline-1__clf__C': 100.0}\n",
      "0.983 +/- 0.02 {'decisiontreeclassifier__max_depth': 2, 'pipeline-1__clf__C': 0.001}\n",
      "0.983 +/- 0.02 {'decisiontreeclassifier__max_depth': 2, 'pipeline-1__clf__C': 0.1}\n",
      "0.967 +/- 0.05 {'decisiontreeclassifier__max_depth': 2, 'pipeline-1__clf__C': 100.0}\n"
     ]
    }
   ],
   "source": [
    "for r, _ in enumerate(grid.cv_results_['mean_test_score']):\n",
    "    print(\"%0.3f +/- %0.2f %r\"\n",
    "             % (grid.cv_results_['mean_test_score'][r],\n",
    "                    grid.cv_results_['std_test_score'][r] / 2.0,\n",
    "                    grid.cv_results_['params'][r]))"
   ]
  },
  {
   "cell_type": "code",
   "execution_count": 60,
   "metadata": {},
   "outputs": [
    {
     "name": "stdout",
     "output_type": "stream",
     "text": [
      "Best parameters: {'decisiontreeclassifier__max_depth': 1, 'pipeline-1__clf__C': 0.001}\n"
     ]
    }
   ],
   "source": [
    "print('Best parameters: %s' % grid.best_params_)"
   ]
  },
  {
   "cell_type": "code",
   "execution_count": 62,
   "metadata": {},
   "outputs": [
    {
     "name": "stdout",
     "output_type": "stream",
     "text": [
      "Accuracy: 0.98\n"
     ]
    }
   ],
   "source": [
    "print('Accuracy: %.2f' % grid.best_score_)"
   ]
  },
  {
   "cell_type": "markdown",
   "metadata": {},
   "source": [
    "## バギング：ブートストラップ標本を使った分類器アンサンブルの構築\n",
    "+ バギング\n",
    " + アンサンブル学習法の1つ。\n",
    "  + アンサンブルを構成する個々の分類器の学習に同じトレーニングデータセットを使うのではなく、最初のトレーニングデータセットからブートストラップ標本を抽出する。バギングはブートストラップ集約とも呼ばれる。"
   ]
  },
  {
   "cell_type": "code",
   "execution_count": 63,
   "metadata": {},
   "outputs": [
    {
     "data": {
      "text/html": [
       "<img src=\"https://miro.medium.com/max/1920/1*DFHUbdz6EyOuMYP4pDnFlw.jpeg\"/>"
      ],
      "text/plain": [
       "<IPython.core.display.Image object>"
      ]
     },
     "execution_count": 63,
     "metadata": {},
     "output_type": "execute_result"
    }
   ],
   "source": [
    "Image(url=\"https://miro.medium.com/max/1920/1*DFHUbdz6EyOuMYP4pDnFlw.jpeg\")"
   ]
  },
  {
   "cell_type": "markdown",
   "metadata": {},
   "source": [
    "### バギングの概要\n",
    "+ トレーニングサンプルからバギングのたびにランダムに復元抽出する。\n",
    "+ 各ブートストラップ標本が分類器の学習に使用される。\n",
    "　+ 分類器は剪定されていない決定木が使われることが多い。\n",
    " + 復元抽出ゆえに各サブセットには重複が生じうる。\n",
    "+ 学習したあとは、予測結果を多数決で決める。\n",
    "\n",
    "※ランダムフォレストはバギングの一形態で、個々の決定木の学習において特徴量をランダムに抽出している。"
   ]
  },
  {
   "cell_type": "markdown",
   "metadata": {},
   "source": [
    "### バギングを使ってWineデータセットのサンプルを分類する"
   ]
  },
  {
   "cell_type": "code",
   "execution_count": 67,
   "metadata": {},
   "outputs": [],
   "source": [
    "import pandas as pd\n",
    "df_wine = pd.read_csv('https://archive.ics.uci.edu/ml/machine-learning-databases/wine/wine.data', header=None)"
   ]
  },
  {
   "cell_type": "code",
   "execution_count": 71,
   "metadata": {},
   "outputs": [],
   "source": [
    "df_wine.columns = ['Class label', 'Alcohol', 'Malic acid', 'Ash', 'Alcalinity of ash',\n",
    "                                   'Magnesium', 'Total phenols', 'Flavanoids','Nonflavanoid phenols', 'Proanthocyanins', 'Color intensity',\n",
    "                                   'Hue', 'OD280/OD315 of diluted wines','Proline']"
   ]
  },
  {
   "cell_type": "code",
   "execution_count": 74,
   "metadata": {},
   "outputs": [],
   "source": [
    "df_wine = df_wine[df_wine['Class label'] != 1 ]\n",
    "y = df_wine['Class label'].values\n",
    "X = df_wine[['Alcohol', 'OD280/OD315 of diluted wines']].values"
   ]
  },
  {
   "cell_type": "code",
   "execution_count": 76,
   "metadata": {},
   "outputs": [
    {
     "data": {
      "text/plain": [
       "(95, 2)"
      ]
     },
     "metadata": {},
     "output_type": "display_data"
    },
    {
     "data": {
      "text/plain": [
       "(24, 2)"
      ]
     },
     "metadata": {},
     "output_type": "display_data"
    },
    {
     "data": {
      "text/plain": [
       "(95,)"
      ]
     },
     "metadata": {},
     "output_type": "display_data"
    },
    {
     "data": {
      "text/plain": [
       "(24,)"
      ]
     },
     "metadata": {},
     "output_type": "display_data"
    }
   ],
   "source": [
    "from sklearn.preprocessing import LabelEncoder\n",
    "from sklearn.model_selection import train_test_split\n",
    "le = LabelEncoder()\n",
    "y = le.fit_transform(y)\n",
    "X_train, X_test, y_train, y_test = train_test_split(X, y, test_size=0.2, random_state=1, stratify=y)\n",
    "\n",
    "display(X_train.shape)\n",
    "display(X_test.shape)\n",
    "display(y_train.shape)\n",
    "display(y_test.shape)"
   ]
  },
  {
   "cell_type": "code",
   "execution_count": 77,
   "metadata": {},
   "outputs": [],
   "source": [
    "from sklearn.ensemble import BaggingClassifier\n",
    "tree = DecisionTreeClassifier(criterion='entropy',\n",
    "                                                    max_depth=None,\n",
    "                                                     random_state=1)\n",
    "\n",
    "bag = BaggingClassifier(base_estimator=tree,\n",
    "                                           n_estimators=500,\n",
    "                                           max_samples=1.0,\n",
    "                                           max_features=1.0,\n",
    "                                           bootstrap=True,\n",
    "                                           bootstrap_features=False,\n",
    "                                           n_jobs=1,\n",
    "                                           random_state=1)"
   ]
  },
  {
   "cell_type": "code",
   "execution_count": 78,
   "metadata": {},
   "outputs": [],
   "source": [
    "from sklearn.metrics import accuracy_score\n",
    "tree = tree.fit(X_train, y_train)\n",
    "\n",
    "y_train_pred = tree.predict(X_train)\n",
    "y_test_pred = tree.predict(X_test)\n",
    "\n",
    "tree_train = accuracy_score(y_train, y_train_pred)\n",
    "tree_test = accuracy_score(y_test, y_test_pred)"
   ]
  },
  {
   "cell_type": "code",
   "execution_count": 79,
   "metadata": {},
   "outputs": [
    {
     "name": "stdout",
     "output_type": "stream",
     "text": [
      "Decision tree train/test accuracies 1.000/0.833\n"
     ]
    }
   ],
   "source": [
    "print('Decision tree train/test accuracies %.3f/%.3f' % (tree_train, tree_test) )"
   ]
  },
  {
   "cell_type": "code",
   "execution_count": 80,
   "metadata": {},
   "outputs": [
    {
     "name": "stdout",
     "output_type": "stream",
     "text": [
      "Bagging train/test accuracies 1.000/0.917\n"
     ]
    }
   ],
   "source": [
    "bag = bag.fit(X_train, y_train)\n",
    "y_train_pred = bag.predict(X_train)\n",
    "y_test_pred = bag.predict(X_test)\n",
    "bag_train = accuracy_score(y_train, y_train_pred)\n",
    "bag_test = accuracy_score(y_test, y_test_pred)\n",
    "print('Bagging train/test accuracies %.3f/%.3f' % (bag_train, bag_test) )"
   ]
  },
  {
   "cell_type": "code",
   "execution_count": 81,
   "metadata": {},
   "outputs": [
    {
     "data": {
      "image/png": "[encoded data removed]",
      "text/plain": [
       "<Figure size 576x216 with 2 Axes>"
      ]
     },
     "metadata": {
      "needs_background": "light"
     },
     "output_type": "display_data"
    }
   ],
   "source": [
    "x_min = X_train[:, 0].min() - 1\n",
    "x_max = X_train[:, 0].max() + 1\n",
    "y_min = X_train[:, 1].min() - 1\n",
    "y_max = X_train[:, 1].max() + 1\n",
    "xx, yy = np.meshgrid(np.arange(x_min, x_max, 0.1),\n",
    "                                     np.arange(y_min, y_max, 0.1))\n",
    "f, axarr = plt.subplots(nrows=1, ncols=2,\n",
    "                                       sharex='col',\n",
    "                                       sharey='row', figsize=(8, 3))\n",
    "\n",
    "for idx, clf, tt in zip([0, 1], [tree, bag], ['Decision tree', 'Bagging']):\n",
    "    clf.fit(X_train, y_train)\n",
    "    Z = clf.predict(np.c_[xx.ravel(), yy.ravel()])\n",
    "    Z = Z.reshape(xx.shape)\n",
    "    axarr[idx].contourf(xx, yy, Z, alpha=0.3)\n",
    "    axarr[idx].scatter(X_train[y_train==0, 0],\n",
    "                                    X_train[y_train==0, 1], c='blue', marker='^')\n",
    "    axarr[idx].scatter(X_train[y_train==1, 0],\n",
    "                                    X_train[y_train==1, 1], c='green', marker='o')\n",
    "    axarr[idx].set_title(tt)\n",
    "    \n",
    "axarr[0].set_ylabel('Alcohol', fontsize=12)\n",
    "plt.text(10.2, -0.5,\n",
    "                s='OD280/OD315 of diluted wines',\n",
    "                ha='center', va='center', fontsize=12)\n",
    "plt.tight_layout()\n",
    "plt.show()"
   ]
  },
  {
   "cell_type": "markdown",
   "metadata": {},
   "source": [
    "バギングはモデルのバリアンスの抑制には効果的であるが、バイアスの抑制には効果が期待できない。データの傾向を把握するには単純すぎる。"
   ]
  },
  {
   "cell_type": "markdown",
   "metadata": {},
   "source": [
    "## アダブーストによる弱学習器の活用\n",
    "+ ブースティング\n",
    " + アンサンブルを非常に単純な分類器で構成する。\n",
    "  + 弱学習器は当て推量をわずかに上回る程度。\n",
    "  + 分類の難しいトレーニングサンプルに焦点を合わせている。\n",
    "   + 誤分類されたトレーニングサンプルをあとから弱学習器に学習させることで、アンサンブル性能を向上させる。"
   ]
  },
  {
   "cell_type": "markdown",
   "metadata": {},
   "source": [
    "### ブースティングの仕組み\n",
    "+ トレーニングデータセットからランダムに非復元抽出されたトレーニングサンプルのサブセットを使用。\n",
    "+ STEP1.トレーニングデータセットからトレーニングサンプルのランダムなサブセットを非復元抽出し、弱学習器をトレーニングする。\n",
    "+ STEP2.2つ目のランダムなトレーニングサブセットをトレーニングデータセットから非復元抽出し、以前に誤分類されたサンプルの50%を追加して、2つ目の弱学習器をトレーニングする。\n",
    "+ STEP3.トレーニングデータセットから、これまでに作った2つの学習器の結果が異なるトレーニングサンプルを洗い出し、3つ目の弱学習器をトレーニングする。\n",
    "+ STEP4.これまでにトレーニングした3つの弱学習器を多数決により組み合わせる。\n",
    "\n",
    "※ブースティングではバギングと比べてバイアスとバリアンスが低くなることがあるが、実際にはバリアンスが高い、つまり過学習する傾向がある。"
   ]
  },
  {
   "cell_type": "code",
   "execution_count": 82,
   "metadata": {},
   "outputs": [
    {
     "data": {
      "text/html": [
       "<img src=\"http://kamonohashiperry.com/wordpress/wp-content/uploads/2016/04/%E3%82%B9%E3%82%AF%E3%83%AA%E3%83%BC%E3%83%B3%E3%82%B7%E3%83%A7%E3%83%83%E3%83%88-2016-04-24-18.40.38.png\"/>"
      ],
      "text/plain": [
       "<IPython.core.display.Image object>"
      ]
     },
     "execution_count": 82,
     "metadata": {},
     "output_type": "execute_result"
    }
   ],
   "source": [
    "Image(url=\"http://kamonohashiperry.com/wordpress/wp-content/uploads/2016/04/%E3%82%B9%E3%82%AF%E3%83%AA%E3%83%BC%E3%83%B3%E3%82%B7%E3%83%A7%E3%83%83%E3%83%88-2016-04-24-18.40.38.png\")"
   ]
  },
  {
   "cell_type": "markdown",
   "metadata": {},
   "source": [
    "+ 学習の手順\n",
    "\n",
    "+ STEP1.トレーニングサンプルの重みベクトル\\\\(w\\\\)を設定し、次の条件が満たされるように全てのサンプルの重みを等しく設定する。Nはサンプルの数。\n",
    "$$\\sum_i^N w_i = 1$$\n",
    "+ STEP2.全体でm回実行するブースティングのうちj回目のステップで以下の手順を繰り返す。\n",
    " + a.重み付けされた弱学習器\\\\(C_j\\\\)をトレーニングする。データの1行1行に対して重みが振られている。  \n",
    " 10個のトレーニングデータなら0.1ずつの重みとなる。\n",
    " $$C_j=train(X, y, w)$$\n",
    " + b.クラスラベル\\\\(\\hat y\\\\)を予測する。\n",
    " $$\\hat y = predict(C_j, X)$$\n",
    " + c.重み付けされた誤分類率\\\\(\\epsilon \\\\)を計算する\n",
    " $$\\epsilon = w \\cdot (\\hat y \\neq y)$$\n",
    " + d.重みの更新に用いる係数\\\\(\\alpha_j\\\\)を計算する。\n",
    " $$\\alpha_j = 0.5 \\log \\frac{1-\\epsilon}{\\epsilon}$$\n",
    " + e.重みを更新する。\n",
    " $$w := w \\times e^{-\\alpha_j \\times \\hat y \\times y} $$\n",
    " + f.重みを正規化して合計が1になるようにする。\n",
    " $$w := \\frac{w}{\\sum_i w_i }$$\n",
    "+ STEP3.入力された特徴行列Xに対する最終予測\\\\(\\hat y\\\\)を計算する。  \n",
    "加重平均が０よりも大きければ1、0以下であれば-1をとる。\n",
    " $$\\hat y = \\left (  \\sum_{j=1}^m \\left ( \\alpha_j \\times predict(C_j, X) \\right ) > 0 \\right )$$\n",
    " \n",
    " ※行単位で合わせにいくから過学習しそうな印象はある。"
   ]
  },
  {
   "cell_type": "markdown",
   "metadata": {},
   "source": [
    "###  scikit-learnを使ってアダブーストを適用する"
   ]
  },
  {
   "cell_type": "code",
   "execution_count": 85,
   "metadata": {},
   "outputs": [
    {
     "name": "stdout",
     "output_type": "stream",
     "text": [
      "Decision tree train/test accuracies 0.916/0.875\n"
     ]
    }
   ],
   "source": [
    "from sklearn.ensemble import AdaBoostClassifier\n",
    "tree = DecisionTreeClassifier(criterion='entropy',\n",
    "                                                    max_depth=1,\n",
    "                                                     random_state=1)\n",
    "\n",
    "ada = AdaBoostClassifier(base_estimator=tree,\n",
    "                                             n_estimators=500,\n",
    "                                             learning_rate=0.1,\n",
    "                                             random_state=1)\n",
    "\n",
    "tree = tree.fit(X_train, y_train)\n",
    "y_train_pred = tree.predict(X_train)\n",
    "y_test_pred = tree.predict(X_test)\n",
    "tree_train = accuracy_score(y_train, y_train_pred)\n",
    "tree_test = accuracy_score(y_test, y_test_pred)\n",
    "\n",
    "print('Decision tree train/test accuracies %.3f/%.3f' % (tree_train, tree_test))"
   ]
  },
  {
   "cell_type": "code",
   "execution_count": 86,
   "metadata": {},
   "outputs": [
    {
     "name": "stdout",
     "output_type": "stream",
     "text": [
      "AdaBoost train/test accuracies 1.000/0.917\n"
     ]
    }
   ],
   "source": [
    "ada = ada.fit(X_train, y_train)\n",
    "y_train_pred = ada.predict(X_train)\n",
    "y_test_pred = ada.predict(X_test)\n",
    "ada_train = accuracy_score(y_train, y_train_pred)\n",
    "ada_test = accuracy_score(y_test, y_test_pred)\n",
    "\n",
    "print('AdaBoost train/test accuracies %.3f/%.3f' % (ada_train, ada_test))"
   ]
  },
  {
   "cell_type": "code",
   "execution_count": 87,
   "metadata": {},
   "outputs": [
    {
     "data": {
      "image/png": "[encoded data removed]",
      "text/plain": [
       "<Figure size 576x216 with 2 Axes>"
      ]
     },
     "metadata": {
      "needs_background": "light"
     },
     "output_type": "display_data"
    }
   ],
   "source": [
    "x_min = X_train[:, 0].min() - 1\n",
    "x_max = X_train[:, 0].max() + 1\n",
    "y_min = X_train[:, 1].min() - 1\n",
    "y_max = X_train[:, 1].max() + 1\n",
    "xx, yy = np.meshgrid(np.arange(x_min, x_max, 0.1),\n",
    "                                     np.arange(y_min, y_max, 0.1))\n",
    "f, axarr = plt.subplots(nrows=1, ncols=2,\n",
    "                                       sharex='col',\n",
    "                                       sharey='row', figsize=(8, 3))\n",
    "\n",
    "for idx, clf, tt in zip([0, 1], [tree, ada], ['Decision tree', 'AdaBoost']):\n",
    "    clf.fit(X_train, y_train)\n",
    "    Z = clf.predict(np.c_[xx.ravel(), yy.ravel()])\n",
    "    Z = Z.reshape(xx.shape)\n",
    "    axarr[idx].contourf(xx, yy, Z, alpha=0.3)\n",
    "    axarr[idx].scatter(X_train[y_train==0, 0],\n",
    "                                    X_train[y_train==0, 1], c='blue', marker='^')\n",
    "    axarr[idx].scatter(X_train[y_train==1, 0],\n",
    "                                    X_train[y_train==1, 1], c='green', marker='o')\n",
    "    axarr[idx].set_title(tt)\n",
    "    \n",
    "axarr[0].set_ylabel('Alcohol', fontsize=12)\n",
    "plt.text(10.2, -0.5,\n",
    "                s='OD280/OD315 of diluted wines',\n",
    "                ha='center', va='center', fontsize=12)\n",
    "plt.tight_layout()\n",
    "plt.show()"
   ]
  },
  {
   "cell_type": "markdown",
   "metadata": {},
   "source": [
    "アダブーストの決定境界は決定株よりもかなり複雑となる。"
   ]
  }
 ],
 "metadata": {
  "kernelspec": {
   "display_name": "Python 3",
   "language": "python",
   "name": "python3"
  },
  "language_info": {
   "codemirror_mode": {
    "name": "ipython",
    "version": 3
   },
   "file_extension": ".py",
   "mimetype": "text/x-python",
   "name": "python",
   "nbconvert_exporter": "python",
   "pygments_lexer": "ipython3",
   "version": "3.7.3"
  }
 },
 "nbformat": 4,
 "nbformat_minor": 4
}
