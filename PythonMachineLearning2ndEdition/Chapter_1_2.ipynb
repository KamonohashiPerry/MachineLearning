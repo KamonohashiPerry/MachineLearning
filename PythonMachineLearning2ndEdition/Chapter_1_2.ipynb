{
 "cells": [
  {
   "cell_type": "code",
   "execution_count": 1,
   "metadata": {
    "slideshow": {
     "slide_type": "skip"
    }
   },
   "outputs": [],
   "source": [
    "from IPython.display import Image\n",
    "from IPython.core.display import HTML "
   ]
  },
  {
   "cell_type": "markdown",
   "metadata": {
    "slideshow": {
     "slide_type": "slide"
    }
   },
   "source": [
    "## [DSO] Machine Learning Seminar Vol.1\n",
    "2020-02-13  \n",
    "データ戦略室 室長  \n",
    "阪上晃幸"
   ]
  },
  {
   "cell_type": "markdown",
   "metadata": {
    "slideshow": {
     "slide_type": "slide"
    }
   },
   "source": [
    "## Chapter1：「データから学習する能力」をコンピュータに与える\n",
    "+ 機械学習の一般概念\n",
    "+ 3種類の学習と基本用語\n",
    "+ 機械学習システムをうまく設計するための構成要素\n",
    "+ データ解析と機械学習のためのPythonのインストールとセットアップ"
   ]
  },
  {
   "cell_type": "markdown",
   "metadata": {
    "slideshow": {
     "slide_type": "slide"
    }
   },
   "source": [
    "### 機械学習の一般概念\n",
    "+ 機械学習はデータの意味を理解するアルゴリズムの応用と科学とされている。蓄積されたデータから意味を見出し知識に変えることができる。\n",
    "+ 機械学習は人工知能の一分野として発展し、データを分析してルールを導き出すなどを人手を介さずに行えるようにした。"
   ]
  },
  {
   "cell_type": "markdown",
   "metadata": {
    "slideshow": {
     "slide_type": "slide"
    }
   },
   "source": [
    "### 3種類の学習と基本用語\n",
    "機械学習は大きく分けて3種類ある\n",
    "+ 教師あり学習\n",
    "+ 教師なし学習\n",
    "+ 強化学習"
   ]
  },
  {
   "cell_type": "markdown",
   "metadata": {
    "slideshow": {
     "slide_type": "subslide"
    }
   },
   "source": [
    "#### 教師あり学習\n",
    "ラベル付けされたトレーニングデータからモデルを学習し、未知のデータを予測できるようにすることを目標とした機械学習。目的関数として真のラベルとの誤差２乗和などを取り、それらの最適化を行う。\n",
    "\n",
    "+ 分類（バイナリ、マルチクラス）：離散値が教師データ。\n",
    "+ 回帰：連続値が教師データ。"
   ]
  },
  {
   "cell_type": "code",
   "execution_count": 2,
   "metadata": {
    "slideshow": {
     "slide_type": "subslide"
    }
   },
   "outputs": [
    {
     "data": {
      "text/html": [
       "<img src=\"https://miro.medium.com/max/977/1*DjUEt5--t6lCjYG_MuZlLg.png\"/>"
      ],
      "text/plain": [
       "<IPython.core.display.Image object>"
      ]
     },
     "execution_count": 2,
     "metadata": {},
     "output_type": "execute_result"
    }
   ],
   "source": [
    "Image(url= \"https://miro.medium.com/max/977/1*DjUEt5--t6lCjYG_MuZlLg.png\")"
   ]
  },
  {
   "cell_type": "code",
   "execution_count": 3,
   "metadata": {
    "slideshow": {
     "slide_type": "subslide"
    }
   },
   "outputs": [
    {
     "data": {
      "text/html": [
       "<img src=\"https://www.simplilearn.com/ice9/free_resources_article_thumb/iris-flower-dataset-graph.JPG\"/>"
      ],
      "text/plain": [
       "<IPython.core.display.Image object>"
      ]
     },
     "execution_count": 3,
     "metadata": {},
     "output_type": "execute_result"
    }
   ],
   "source": [
    "Image(url= \"https://www.simplilearn.com/ice9/free_resources_article_thumb/iris-flower-dataset-graph.JPG\")"
   ]
  },
  {
   "cell_type": "code",
   "execution_count": 7,
   "metadata": {
    "slideshow": {
     "slide_type": "subslide"
    }
   },
   "outputs": [
    {
     "data": {
      "text/html": [
       "<img src=\"https://chanakya.ca/wp-content/uploads/2018/05/EstimateMultipleLinearRegressionCoefficientsExample_01.png\"/>"
      ],
      "text/plain": [
       "<IPython.core.display.Image object>"
      ]
     },
     "execution_count": 7,
     "metadata": {},
     "output_type": "execute_result"
    }
   ],
   "source": [
    "Image(url= \"https://chanakya.ca/wp-content/uploads/2018/05/EstimateMultipleLinearRegressionCoefficientsExample_01.png\")"
   ]
  },
  {
   "cell_type": "markdown",
   "metadata": {
    "slideshow": {
     "slide_type": "subslide"
    }
   },
   "source": [
    "#### 教師なし学習\n",
    "ラベル付けされていないデータをもとにデータの構造を抽出するための機械学習。\n",
    "+ クラスタリング：階層クラスタリング、非階層クラスタリング（k-means）\n",
    "+ 次元圧縮：PCA"
   ]
  },
  {
   "cell_type": "code",
   "execution_count": 9,
   "metadata": {
    "slideshow": {
     "slide_type": "subslide"
    }
   },
   "outputs": [
    {
     "data": {
      "text/html": [
       "<img src=\"https://miro.medium.com/max/977/1*5f8VujKLQKhQZRafA2t9hw.png\"/>"
      ],
      "text/plain": [
       "<IPython.core.display.Image object>"
      ]
     },
     "execution_count": 9,
     "metadata": {},
     "output_type": "execute_result"
    }
   ],
   "source": [
    "Image(url=\"https://miro.medium.com/max/977/1*5f8VujKLQKhQZRafA2t9hw.png\")"
   ]
  },
  {
   "cell_type": "code",
   "execution_count": 10,
   "metadata": {
    "slideshow": {
     "slide_type": "subslide"
    }
   },
   "outputs": [
    {
     "data": {
      "text/html": [
       "<img src=\"https://i.stack.imgur.com/cIDB3.png\"/>"
      ],
      "text/plain": [
       "<IPython.core.display.Image object>"
      ]
     },
     "execution_count": 10,
     "metadata": {},
     "output_type": "execute_result"
    }
   ],
   "source": [
    "Image(url=\"https://i.stack.imgur.com/cIDB3.png\")"
   ]
  },
  {
   "cell_type": "code",
   "execution_count": 11,
   "metadata": {
    "slideshow": {
     "slide_type": "subslide"
    }
   },
   "outputs": [
    {
     "data": {
      "text/html": [
       "<img src=\"https://media-exp1.licdn.com/dms/image/C5112AQH8fVr68cq-bg/article-cover_image-shrink_600_2000/0?e=1586390400&v=beta&t=1UOWDxRamUEQGGxE6z-z4w_ukZWZyzVk0lqhS3b-cVI\"/>"
      ],
      "text/plain": [
       "<IPython.core.display.Image object>"
      ]
     },
     "execution_count": 11,
     "metadata": {},
     "output_type": "execute_result"
    }
   ],
   "source": [
    "Image(url=\"https://media-exp1.licdn.com/dms/image/C5112AQH8fVr68cq-bg/article-cover_image-shrink_600_2000/0?e=1586390400&v=beta&t=1UOWDxRamUEQGGxE6z-z4w_ukZWZyzVk0lqhS3b-cVI\")"
   ]
  },
  {
   "cell_type": "markdown",
   "metadata": {
    "slideshow": {
     "slide_type": "subslide"
    }
   },
   "source": [
    "#### 強化学習\n",
    "+ エージェントが環境とのやり取りを通じて報酬の最大化をする学習方法。\n",
    "+ 教師あり学習は正例や負例を当てることを目的関数として学習していたが、強化学習では報酬という目的関数をおいてそれの最適化を行う。\n",
    " + ゲームにおける報酬は「勝ち負け」\n",
    " + Webサービスにおける報酬は「コンバージョン」\n",
    " + 自動運転における報酬は「安心走行（非定量的）」"
   ]
  },
  {
   "cell_type": "code",
   "execution_count": 8,
   "metadata": {
    "slideshow": {
     "slide_type": "subslide"
    }
   },
   "outputs": [
    {
     "data": {
      "text/html": [
       "<img src=\"https://xaltius.tech/wp-content/uploads/2019/07/Machine-Learning-Explained3.png\"/>"
      ],
      "text/plain": [
       "<IPython.core.display.Image object>"
      ]
     },
     "execution_count": 8,
     "metadata": {},
     "output_type": "execute_result"
    }
   ],
   "source": [
    "Image(url= \"https://xaltius.tech/wp-content/uploads/2019/07/Machine-Learning-Explained3.png\")"
   ]
  },
  {
   "cell_type": "markdown",
   "metadata": {
    "slideshow": {
     "slide_type": "subslide"
    }
   },
   "source": [
    "#### 基本用語\n",
    "+ 特徴量：分析対象のデータセットからラベルを除いたもの。（属性、計測値など）\n",
    "  + 線形代数（特徴量全体は行列、各々の特徴量はベクトル）\n",
    "+ サンプル：機械学習で扱うデータセットのこと。インスタンスとも観測とも呼ぶ。\n",
    "+ ラベル：教師データのこと。ターゲットとも呼ぶ。"
   ]
  },
  {
   "cell_type": "markdown",
   "metadata": {
    "slideshow": {
     "slide_type": "slide"
    }
   },
   "source": [
    "### 機械学習システムを構築するためのロードマップ\n",
    "+ 1.前処理：トレーニングデータセットとテストデータセットを作る工程。\n",
    " + 特徴抽出やスケーリング\n",
    " + 特徴選択\n",
    " + 次元削減\n",
    " + サンプリング\n",
    "+ 2.学習：アルゴリズムの工程。\n",
    " + 機械学習のモデル選択：モデルは数え切れないほどある。\n",
    " + 交差検証（クロスバリデーション）：交差検証のやり方も様々ある。\n",
    " + 性能指標：指標も様々。\n",
    " + ハイパーパラメータ最適化：最適化の方法も様々。\n",
    "+ 3.評価\n",
    " + テストデータセットを使った最終モデルの評価（二度漬け禁止）\n",
    "   + kaggleで言うとPrivate Score用のデータセットに該当。\n",
    "+ 4.予測\n",
    " + 新しいデータにモデルを適用して予測する。それを任意のアプリケーションで用いる。"
   ]
  },
  {
   "cell_type": "markdown",
   "metadata": {
    "slideshow": {
     "slide_type": "slide"
    }
   },
   "source": [
    "### データ解析と機械学習のためのPythonのインストールとセットアップ\n",
    "+ 教科書ではAnacondaがおすすめされているが、Google Colabで良いと思われる。\n",
    "+ データサイエンス系のパッケージ\n",
    " + NumPy\n",
    " + pandas\n",
    " + matplotlib\n",
    " + SciPy\n",
    " + scikit-learn"
   ]
  },
  {
   "cell_type": "markdown",
   "metadata": {
    "slideshow": {
     "slide_type": "slide"
    }
   },
   "source": [
    "## Chapter2"
   ]
  },
  {
   "cell_type": "code",
   "execution_count": null,
   "metadata": {},
   "outputs": [],
   "source": []
  },
  {
   "cell_type": "code",
   "execution_count": null,
   "metadata": {},
   "outputs": [],
   "source": []
  },
  {
   "cell_type": "code",
   "execution_count": null,
   "metadata": {},
   "outputs": [],
   "source": []
  },
  {
   "cell_type": "code",
   "execution_count": null,
   "metadata": {},
   "outputs": [],
   "source": []
  }
 ],
 "metadata": {
  "celltoolbar": "Slideshow",
  "kernelspec": {
   "display_name": "Python [conda root]",
   "language": "python",
   "name": "conda-root-py"
  },
  "language_info": {
   "codemirror_mode": {
    "name": "ipython",
    "version": 3
   },
   "file_extension": ".py",
   "mimetype": "text/x-python",
   "name": "python",
   "nbconvert_exporter": "python",
   "pygments_lexer": "ipython3",
   "version": "3.5.6"
  },
  "toc": {
   "base_numbering": 1,
   "nav_menu": {},
   "number_sections": true,
   "sideBar": true,
   "skip_h1_title": false,
   "title_cell": "Table of Contents",
   "title_sidebar": "Contents",
   "toc_cell": false,
   "toc_position": {},
   "toc_section_display": true,
   "toc_window_display": true
  }
 },
 "nbformat": 4,
 "nbformat_minor": 2
}
