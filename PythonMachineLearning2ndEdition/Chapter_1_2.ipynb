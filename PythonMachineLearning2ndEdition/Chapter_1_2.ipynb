{
 "cells": [
  {
   "cell_type": "code",
   "execution_count": 1,
   "metadata": {
    "slideshow": {
     "slide_type": "skip"
    }
   },
   "outputs": [],
   "source": [
    "from IPython.display import Image\n",
    "from IPython.core.display import HTML "
   ]
  },
  {
   "cell_type": "markdown",
   "metadata": {
    "slideshow": {
     "slide_type": "slide"
    }
   },
   "source": [
    "## [DSO] Machine Learning Seminar Vol.1\n",
    "2020-02-13  \n",
    "SKUE"
   ]
  },
  {
   "cell_type": "code",
   "execution_count": 164,
   "metadata": {
    "slideshow": {
     "slide_type": "subslide"
    }
   },
   "outputs": [
    {
     "data": {
      "text/html": [
       "<img src=\"https://image.yodobashi.com/product/100/000/009/002/935/105/100000009002935105_10204.jpg\"/>"
      ],
      "text/plain": [
       "<IPython.core.display.Image object>"
      ]
     },
     "execution_count": 164,
     "metadata": {},
     "output_type": "execute_result"
    }
   ],
   "source": [
    "Image(url=\"https://image.yodobashi.com/product/100/000/009/002/935/105/100000009002935105_10204.jpg\")"
   ]
  },
  {
   "cell_type": "markdown",
   "metadata": {
    "slideshow": {
     "slide_type": "slide"
    }
   },
   "source": [
    "## Chapter1：「データから学習する能力」をコンピュータに与える\n",
    "+ 機械学習の一般概念\n",
    "+ 3種類の学習と基本用語\n",
    "+ 機械学習システムをうまく設計するための構成要素\n",
    "+ データ解析と機械学習のためのPythonのインストールとセットアップ"
   ]
  },
  {
   "cell_type": "markdown",
   "metadata": {
    "slideshow": {
     "slide_type": "slide"
    }
   },
   "source": [
    "### 機械学習の一般概念\n",
    "+ 機械学習はデータの意味を理解するアルゴリズムの応用と科学とされている。蓄積されたデータから意味を見出し知識に変えることができる。\n",
    "+ 機械学習は人工知能の一分野として発展し、データを分析してルールを導き出すなどを人手を介さずに行えるようにした。"
   ]
  },
  {
   "cell_type": "markdown",
   "metadata": {
    "slideshow": {
     "slide_type": "slide"
    }
   },
   "source": [
    "### 3種類の学習と基本用語\n",
    "機械学習は大きく分けて3種類ある\n",
    "+ 教師あり学習\n",
    "+ 教師なし学習\n",
    "+ 強化学習"
   ]
  },
  {
   "cell_type": "markdown",
   "metadata": {
    "slideshow": {
     "slide_type": "subslide"
    }
   },
   "source": [
    "#### 教師あり学習\n",
    "ラベル付けされたトレーニングデータからモデルを学習し、未知のデータを予測できるようにすることを目標とした機械学習。目的関数として真のラベルとの誤差二乗和などを取り、それらの最適化を行う。\n",
    "\n",
    "+ 分類（バイナリ、マルチクラス）：離散値が教師データ。\n",
    "+ 回帰：連続値が教師データ。"
   ]
  },
  {
   "cell_type": "code",
   "execution_count": 2,
   "metadata": {
    "slideshow": {
     "slide_type": "subslide"
    }
   },
   "outputs": [
    {
     "data": {
      "text/html": [
       "<img src=\"https://miro.medium.com/max/977/1*DjUEt5--t6lCjYG_MuZlLg.png\"/>"
      ],
      "text/plain": [
       "<IPython.core.display.Image object>"
      ]
     },
     "execution_count": 2,
     "metadata": {},
     "output_type": "execute_result"
    }
   ],
   "source": [
    "Image(url= \"https://miro.medium.com/max/977/1*DjUEt5--t6lCjYG_MuZlLg.png\")"
   ]
  },
  {
   "cell_type": "code",
   "execution_count": 3,
   "metadata": {
    "slideshow": {
     "slide_type": "subslide"
    }
   },
   "outputs": [
    {
     "data": {
      "text/html": [
       "<img src=\"https://www.simplilearn.com/ice9/free_resources_article_thumb/iris-flower-dataset-graph.JPG\"/>"
      ],
      "text/plain": [
       "<IPython.core.display.Image object>"
      ]
     },
     "execution_count": 3,
     "metadata": {},
     "output_type": "execute_result"
    }
   ],
   "source": [
    "Image(url= \"https://www.simplilearn.com/ice9/free_resources_article_thumb/iris-flower-dataset-graph.JPG\")"
   ]
  },
  {
   "cell_type": "code",
   "execution_count": 7,
   "metadata": {
    "slideshow": {
     "slide_type": "subslide"
    }
   },
   "outputs": [
    {
     "data": {
      "text/html": [
       "<img src=\"https://chanakya.ca/wp-content/uploads/2018/05/EstimateMultipleLinearRegressionCoefficientsExample_01.png\"/>"
      ],
      "text/plain": [
       "<IPython.core.display.Image object>"
      ]
     },
     "execution_count": 7,
     "metadata": {},
     "output_type": "execute_result"
    }
   ],
   "source": [
    "Image(url= \"https://chanakya.ca/wp-content/uploads/2018/05/EstimateMultipleLinearRegressionCoefficientsExample_01.png\")"
   ]
  },
  {
   "cell_type": "markdown",
   "metadata": {
    "slideshow": {
     "slide_type": "subslide"
    }
   },
   "source": [
    "#### 教師なし学習\n",
    "ラベル付けされていないデータをもとにデータの構造を抽出するための機械学習。\n",
    "+ クラスタリング：階層クラスタリング、非階層クラスタリング（k-means）\n",
    "+ 次元圧縮：PCA"
   ]
  },
  {
   "cell_type": "code",
   "execution_count": 9,
   "metadata": {
    "slideshow": {
     "slide_type": "subslide"
    }
   },
   "outputs": [
    {
     "data": {
      "text/html": [
       "<img src=\"https://miro.medium.com/max/977/1*5f8VujKLQKhQZRafA2t9hw.png\"/>"
      ],
      "text/plain": [
       "<IPython.core.display.Image object>"
      ]
     },
     "execution_count": 9,
     "metadata": {},
     "output_type": "execute_result"
    }
   ],
   "source": [
    "Image(url=\"https://miro.medium.com/max/977/1*5f8VujKLQKhQZRafA2t9hw.png\")"
   ]
  },
  {
   "cell_type": "code",
   "execution_count": 10,
   "metadata": {
    "slideshow": {
     "slide_type": "subslide"
    }
   },
   "outputs": [
    {
     "data": {
      "text/html": [
       "<img src=\"https://i.stack.imgur.com/cIDB3.png\"/>"
      ],
      "text/plain": [
       "<IPython.core.display.Image object>"
      ]
     },
     "execution_count": 10,
     "metadata": {},
     "output_type": "execute_result"
    }
   ],
   "source": [
    "Image(url=\"https://i.stack.imgur.com/cIDB3.png\")"
   ]
  },
  {
   "cell_type": "code",
   "execution_count": 11,
   "metadata": {
    "slideshow": {
     "slide_type": "subslide"
    }
   },
   "outputs": [
    {
     "data": {
      "text/html": [
       "<img src=\"https://media-exp1.licdn.com/dms/image/C5112AQH8fVr68cq-bg/article-cover_image-shrink_600_2000/0?e=1586390400&v=beta&t=1UOWDxRamUEQGGxE6z-z4w_ukZWZyzVk0lqhS3b-cVI\"/>"
      ],
      "text/plain": [
       "<IPython.core.display.Image object>"
      ]
     },
     "execution_count": 11,
     "metadata": {},
     "output_type": "execute_result"
    }
   ],
   "source": [
    "Image(url=\"https://media-exp1.licdn.com/dms/image/C5112AQH8fVr68cq-bg/article-cover_image-shrink_600_2000/0?e=1586390400&v=beta&t=1UOWDxRamUEQGGxE6z-z4w_ukZWZyzVk0lqhS3b-cVI\")"
   ]
  },
  {
   "cell_type": "markdown",
   "metadata": {
    "slideshow": {
     "slide_type": "subslide"
    }
   },
   "source": [
    "#### 強化学習\n",
    "+ エージェントが環境とのやり取りを通じて報酬の最大化をする学習方法。\n",
    "+ 教師あり学習は正例や負例を当てることを目的関数として学習していたが、強化学習では報酬という目的関数をおいてそれの最適化を行う。\n",
    " + ゲームにおける報酬は「勝ち負け」\n",
    " + Webサービスにおける報酬は「コンバージョン」\n",
    " + 自動運転における報酬は「安心走行（非定量的）」"
   ]
  },
  {
   "cell_type": "code",
   "execution_count": 8,
   "metadata": {
    "slideshow": {
     "slide_type": "subslide"
    }
   },
   "outputs": [
    {
     "data": {
      "text/html": [
       "<img src=\"https://xaltius.tech/wp-content/uploads/2019/07/Machine-Learning-Explained3.png\"/>"
      ],
      "text/plain": [
       "<IPython.core.display.Image object>"
      ]
     },
     "execution_count": 8,
     "metadata": {},
     "output_type": "execute_result"
    }
   ],
   "source": [
    "Image(url= \"https://xaltius.tech/wp-content/uploads/2019/07/Machine-Learning-Explained3.png\")"
   ]
  },
  {
   "cell_type": "markdown",
   "metadata": {
    "slideshow": {
     "slide_type": "subslide"
    }
   },
   "source": [
    "#### 基本用語\n",
    "+ 特徴量：分析対象のデータセットからラベルを除いたもの。（属性、計測値など）\n",
    "  + 線形代数（特徴量全体は行列、各々の特徴量はベクトル）\n",
    "+ サンプル：機械学習で扱うデータセットのこと。インスタンスとも観測とも呼ぶ。\n",
    "+ ラベル：教師データのこと。ターゲットとも呼ぶ。"
   ]
  },
  {
   "cell_type": "markdown",
   "metadata": {
    "slideshow": {
     "slide_type": "slide"
    }
   },
   "source": [
    "### 機械学習システムを構築するためのロードマップ\n",
    "+ 1.前処理：トレーニングデータセットとテストデータセットを作る工程。\n",
    " + 特徴抽出やスケーリング\n",
    " + 特徴選択\n",
    " + 次元削減\n",
    " + サンプリング\n",
    "+ 2.学習：アルゴリズムの工程。\n",
    " + 機械学習のモデル選択：モデルは数え切れないほどある。\n",
    " + 交差検証（クロスバリデーション）：交差検証のやり方も様々ある。\n",
    " + 性能指標：指標も様々。\n",
    " + ハイパーパラメータ最適化：最適化の方法も様々。\n",
    "+ 3.評価\n",
    " + テストデータセットを使った最終モデルの評価（二度漬け禁止）\n",
    "   + kaggleで言うとPrivate Score用のデータセットに該当。\n",
    "+ 4.予測\n",
    " + 新しいデータにモデルを適用して予測する。それを任意のアプリケーションで用いる。"
   ]
  },
  {
   "cell_type": "markdown",
   "metadata": {
    "slideshow": {
     "slide_type": "slide"
    }
   },
   "source": [
    "### データ解析と機械学習のためのPythonのインストールとセットアップ\n",
    "+ 教科書ではAnacondaがおすすめされているが、Google Colabで良いと思われる。\n",
    "+ データサイエンス系のパッケージ\n",
    " + NumPy\n",
    " + pandas\n",
    " + matplotlib\n",
    " + SciPy\n",
    " + scikit-learn"
   ]
  },
  {
   "cell_type": "markdown",
   "metadata": {
    "slideshow": {
     "slide_type": "slide"
    }
   },
   "source": [
    "## Chapter2：分類問題 - 単純な機械学習アルゴリズムのトレーニング\n",
    "+ パーセプトロン\n",
    "+ ADALINE\n",
    "+ 勾配降下法\n",
    "+ 勾配降下法とスケーリング\n",
    "+ 確率的勾配降下法"
   ]
  },
  {
   "cell_type": "markdown",
   "metadata": {
    "slideshow": {
     "slide_type": "slide"
    }
   },
   "source": [
    "### パーセプトロン\n",
    "+ 人工ニューロン\n",
    "+ パーセプトロンの学習規則\n",
    "+ Pythonでの実装"
   ]
  },
  {
   "cell_type": "markdown",
   "metadata": {
    "slideshow": {
     "slide_type": "subslide"
    }
   },
   "source": [
    "#### 人工ニューロン\n",
    "zを総入力、xを入力値、wを重みベクトルとする。\n",
    "$$\n",
    "    z = w^T  x = w_1 x_1 + \\dots + w_m x_m\n",
    "$$\n",
    "以下の単位ステップ関数を定義する。\n",
    "$$\n",
    "    \\phi(z) =\n",
    "        \\begin{cases}\n",
    "            1 \\quad z \\geqq \\theta \\\\\n",
    "            -1 \\quad z < \\theta \\\\\n",
    "        \\end{cases}\n",
    "$$\n",
    "\n",
    "$$なお、\\theta　は閾値となっている。$$\n",
    "\n",
    "これを決定関数と呼ぶ。  \n",
    "まら、閾値を左辺に移動し、インデックス0の重みを\n",
    "$$w_0 = - \\theta \\\\\n",
    "x_0 = 1\n",
    "$$\n",
    "として改めてパーセプトロンを定義すると。  \n",
    "\n",
    "$$\n",
    "    z = w^T  x =w_0 x_0+  w_1 x_1 + \\dots + w_m x_m \\\\\n",
    "    \\phi(z) =\n",
    "        \\begin{cases}\n",
    "            1 \\quad z \\geqq 0 \\\\\n",
    "            -1 \\quad z < 0 \\\\\n",
    "        \\end{cases}\n",
    "$$\n",
    "で表すことができる。この負の閾値、\n",
    "$$w_0 = -\\theta$$\n",
    "のことをバイアスユニットと呼ぶ。"
   ]
  },
  {
   "cell_type": "markdown",
   "metadata": {
    "slideshow": {
     "slide_type": "subslide"
    }
   },
   "source": [
    "#### パーセプトロンの学習規則\n",
    "+ 1.重みを0または値の小さい乱数で初期化する。\n",
    "+ 2.トレーニングサンプルごとに以下の手順を実行する。\n",
    " + 2-1.出力値を計算する（単位ステップ関数による予測）\n",
    " + 2-2.重みを更新する\n",
    " \n",
    "$$\n",
    "    z = w^T  x = w_1 x_1 + \\dots + w_m x_m\n",
    "$$\n",
    "における重みの更新は\n",
    "$$\n",
    "w_j := w_j + \\Delta w_j \\\\\n",
    "\\Delta w_j = \\eta ( y^{(i)} - \\hat y ^{(i)} ) x^{(i)}_j\n",
    "$$\n",
    "に従って行われる。ηは学習率で0.0〜1.0以下の定数がおかれる。 \n",
    "yの真の値と予測値との間で差異があれば重みを更新するという仕組みになっている。  \n",
    "これらはベクトルなので、各々の要素がこの更新式によって同時に更新されることとなる。"
   ]
  },
  {
   "cell_type": "markdown",
   "metadata": {
    "slideshow": {
     "slide_type": "subslide"
    }
   },
   "source": [
    "#### パーセプトロンの学習規則の思考実験\n",
    "+ 正しくラベルを予測した場合\n",
    "$$\n",
    "\\Delta w_j = \\eta (-1 - (-1)) x^{(i)}_j = 0 \\\\\n",
    "\\Delta w_j = \\eta (1 - 1)) x^{(i)}_j = 0\n",
    "$$\n",
    "\n",
    "+ 予測が間違っていた場合（その1）：xが小さいケース（η=1）\n",
    "$$\n",
    "\\Delta w_j = \\eta (1 - (-1)) x^{(i)}_j = \\eta 2 x^{(i)}_j = 1 \\times 2 \\times 0.5 = 1\\\\\n",
    "\\Delta w_j = \\eta (-1 - 1)) x^{(i)}_j = - \\eta 2 x^{(i)}_j = - 1 \\times 2 \\times 0.5 = -1\n",
    "$$\n",
    "\n",
    "+ 予測が間違っていた場合（その2）：xが大きいケース（η=1）\n",
    "$$\n",
    "\\Delta w_j = \\eta (1 - (-1)) x^{(i)}_j = \\eta 2 x^{(i)}_j = 1 \\times 2 \\times 2 = 4\\\\\n",
    "\\Delta w_j = \\eta (-1 - 1)) x^{(i)}_j = - \\eta 2 x^{(i)}_j = - 1 \\times 2 \\times 2 = -4\n",
    "$$\n",
    "\n",
    "このように誤分類したとして、xの値や学習率によって大きく重みの更新がなされることになる。なお、パーセプトロンが収束するケースは、2つのクラスが線形分離可能で学習率が十分に小さいときに限られる。  \n",
    "線形分離が不能な場合は、トレーニングの最大回数（エポック）や誤分類の最大数を設定することで重み付けの更新を終了させる。"
   ]
  },
  {
   "cell_type": "code",
   "execution_count": 13,
   "metadata": {
    "slideshow": {
     "slide_type": "subslide"
    }
   },
   "outputs": [
    {
     "data": {
      "text/html": [
       "<img src=\"https://raw.githubusercontent.com/qingkaikong/blog/master/40_ANN_part3_step_by_step_MLP/figures/figure1_Perceptron_limitation.jpg\"/>"
      ],
      "text/plain": [
       "<IPython.core.display.Image object>"
      ]
     },
     "execution_count": 13,
     "metadata": {},
     "output_type": "execute_result"
    }
   ],
   "source": [
    "Image(url=\"https://raw.githubusercontent.com/qingkaikong/blog/master/40_ANN_part3_step_by_step_MLP/figures/figure1_Perceptron_limitation.jpg\")"
   ]
  },
  {
   "cell_type": "markdown",
   "metadata": {
    "slideshow": {
     "slide_type": "subslide"
    }
   },
   "source": [
    "#### Pythonでの実装"
   ]
  },
  {
   "cell_type": "code",
   "execution_count": 14,
   "metadata": {
    "slideshow": {
     "slide_type": "subslide"
    }
   },
   "outputs": [
    {
     "data": {
      "text/html": [
       "<img src=\"https://www.simplilearn.com/ice9/free_resources_article_thumb/symbolic-representation-of-perceptron-learning-rule.jpg\"/>"
      ],
      "text/plain": [
       "<IPython.core.display.Image object>"
      ]
     },
     "execution_count": 14,
     "metadata": {},
     "output_type": "execute_result"
    }
   ],
   "source": [
    "Image(url=\"https://www.simplilearn.com/ice9/free_resources_article_thumb/symbolic-representation-of-perceptron-learning-rule.jpg\")"
   ]
  },
  {
   "cell_type": "code",
   "execution_count": 23,
   "metadata": {
    "slideshow": {
     "slide_type": "skip"
    }
   },
   "outputs": [],
   "source": [
    "import numpy as np\n",
    "class Perceptron(object): # クラスの定義    \n",
    "    # クラスからインスタンスを生成した際に、自動的に呼び出されるメソッドのこと\n",
    "    def __init__(self,  # selfは関数として再利用する際に必要な指定。以下を見ていけばselfに様々な値を持たせて関数間で利用しているのがわかる。\n",
    "                             eta=0.01, # 学習率\n",
    "                             n_iter=50, # 反復回数\n",
    "                             random_state=1 # 乱数シード\n",
    "                          ):\n",
    "        self.eta = eta\n",
    "        self.n_iter = n_iter\n",
    "        self.random_state = random_state\n",
    "        \n",
    "    def fit(self, X, y):\n",
    "        rgen = np.random.RandomState(self.random_state) # 乱数の生成\n",
    "        self.w_ = rgen.normal(loc=0.0, # 分布の中心（平均）\n",
    "                                               scale=0.01, # 分布の標準偏差\n",
    "                                               size=1 + X.shape[1] # 出力する際のサイズ。最初の1はバイアスユニットを意味する。（X.shape[1] で変数の数が返される。）\n",
    "                                             )\n",
    "        self.errors_ = [] # 誤差の空箱\n",
    "        \n",
    "        for _ in range(self.n_iter): # 反復回数だけ繰り返す。この場合、_に意味はない。\n",
    "            errors = 0\n",
    "            for xi, target in zip(X, y): # zipは繰り返し処理できるような形に変換してくれる関数。インスタンスの数だけ繰り返される。\n",
    "                update = self.eta * (target - self.predict(xi)) # 前述の更新式そのまま\n",
    "                self.w_[1:] += update * xi # 重みの更新\n",
    "                self.w_[0] += update # バイアスユニットはxiが1の設定なので別で更新\n",
    "                errors += int(update != 0.0)  # 誤差が0でなければ整数にして足す。\n",
    "            self.errors_.append(errors) # 反復するごとに誤差をappendする。\n",
    "        return self # 誤差や重みが伴った値を返す\n",
    "    \n",
    "    def net_input(self, X):\n",
    "        return np.dot(X, self.w_[1:]) + self.w_[0] # 内積の計算\n",
    "    \n",
    "    def predict(self, X):\n",
    "        return np.where(self.net_input(X) >= 0.0, 1, -1) # 単位ステップ関数"
   ]
  },
  {
   "cell_type": "code",
   "execution_count": 84,
   "metadata": {
    "slideshow": {
     "slide_type": "subslide"
    }
   },
   "outputs": [],
   "source": [
    "'''\n",
    "import numpy as np\n",
    "class Perceptron(object): # クラスの定義    \n",
    "    # クラスからインスタンスを生成した際に、自動的に呼び出されるメソッドのこと\n",
    "    def __init__(self,  # selfは関数として再利用する際に必要な指定。以下を見ていけばselfに様々な値を持たせて関数間で利用しているのがわかる。\n",
    "                             eta=0.01, # 学習率\n",
    "                             n_iter=50, # 反復回数\n",
    "                             random_state=1 # 乱数シード\n",
    "                          ):\n",
    "        self.eta = eta\n",
    "        self.n_iter = n_iter\n",
    "        self.random_state = random_state''';"
   ]
  },
  {
   "cell_type": "code",
   "execution_count": 86,
   "metadata": {
    "slideshow": {
     "slide_type": "subslide"
    }
   },
   "outputs": [],
   "source": [
    "'''\n",
    "    def fit(self, X, y):\n",
    "        rgen = np.random.RandomState(self.random_state) # 乱数の生成\n",
    "        self.w_ = rgen.normal(loc=0.0, # 分布の中心（平均）\n",
    "                                               scale=0.01, # 分布の標準偏差\n",
    "                                               size=1 + X.shape[1] # 出力する際のサイズ。最初の1はバイアスユニットを意味する。（X.shape[1] で変数の数が返される。）\n",
    "                                             )\n",
    "        self.errors_ = [] # 誤差の空箱\n",
    "        \n",
    "        for _ in range(self.n_iter): # 反復回数だけ繰り返す。この場合、_に意味はない。\n",
    "            errors = 0\n",
    "            for xi, target in zip(X, y): # zipは繰り返し処理できるような形に変換してくれる関数。インスタンスの数だけ繰り返される。\n",
    "                update = self.eta * (target - self.predict(xi)) # 前述の更新式そのまま\n",
    "                self.w_[1:] += update * xi # 重みの更新\n",
    "                self.w_[0] += update # バイアスユニットはxiが1の設定なので別で更新\n",
    "                errors += int(update != 0.0)  # 誤差が0でなければ整数にして足す。\n",
    "            self.errors_.append(errors) # 反復するごとに誤差をappendする。\n",
    "        return self # 誤差や重みが伴った値を返す\n",
    "    \n",
    "    def net_input(self, X):\n",
    "        return np.dot(X, self.w_[1:]) + self.w_[0] # 内積の計算\n",
    "    \n",
    "    def predict(self, X):\n",
    "        return np.where(self.net_input(X) >= 0.0, 1, -1) # 単位ステップ関数\n",
    "''';"
   ]
  },
  {
   "cell_type": "markdown",
   "metadata": {
    "slideshow": {
     "slide_type": "subslide"
    }
   },
   "source": [
    "#### パーセプトロンモデルのトレーニング"
   ]
  },
  {
   "cell_type": "code",
   "execution_count": 27,
   "metadata": {
    "slideshow": {
     "slide_type": "subslide"
    }
   },
   "outputs": [
    {
     "data": {
      "text/html": [
       "<div>\n",
       "<style scoped>\n",
       "    .dataframe tbody tr th:only-of-type {\n",
       "        vertical-align: middle;\n",
       "    }\n",
       "\n",
       "    .dataframe tbody tr th {\n",
       "        vertical-align: top;\n",
       "    }\n",
       "\n",
       "    .dataframe thead th {\n",
       "        text-align: right;\n",
       "    }\n",
       "</style>\n",
       "<table border=\"1\" class=\"dataframe\">\n",
       "  <thead>\n",
       "    <tr style=\"text-align: right;\">\n",
       "      <th></th>\n",
       "      <th>0</th>\n",
       "      <th>1</th>\n",
       "      <th>2</th>\n",
       "      <th>3</th>\n",
       "      <th>4</th>\n",
       "    </tr>\n",
       "  </thead>\n",
       "  <tbody>\n",
       "    <tr>\n",
       "      <th>145</th>\n",
       "      <td>6.7</td>\n",
       "      <td>3.0</td>\n",
       "      <td>5.2</td>\n",
       "      <td>2.3</td>\n",
       "      <td>Iris-virginica</td>\n",
       "    </tr>\n",
       "    <tr>\n",
       "      <th>146</th>\n",
       "      <td>6.3</td>\n",
       "      <td>2.5</td>\n",
       "      <td>5.0</td>\n",
       "      <td>1.9</td>\n",
       "      <td>Iris-virginica</td>\n",
       "    </tr>\n",
       "    <tr>\n",
       "      <th>147</th>\n",
       "      <td>6.5</td>\n",
       "      <td>3.0</td>\n",
       "      <td>5.2</td>\n",
       "      <td>2.0</td>\n",
       "      <td>Iris-virginica</td>\n",
       "    </tr>\n",
       "    <tr>\n",
       "      <th>148</th>\n",
       "      <td>6.2</td>\n",
       "      <td>3.4</td>\n",
       "      <td>5.4</td>\n",
       "      <td>2.3</td>\n",
       "      <td>Iris-virginica</td>\n",
       "    </tr>\n",
       "    <tr>\n",
       "      <th>149</th>\n",
       "      <td>5.9</td>\n",
       "      <td>3.0</td>\n",
       "      <td>5.1</td>\n",
       "      <td>1.8</td>\n",
       "      <td>Iris-virginica</td>\n",
       "    </tr>\n",
       "  </tbody>\n",
       "</table>\n",
       "</div>"
      ],
      "text/plain": [
       "       0    1    2    3               4\n",
       "145  6.7  3.0  5.2  2.3  Iris-virginica\n",
       "146  6.3  2.5  5.0  1.9  Iris-virginica\n",
       "147  6.5  3.0  5.2  2.0  Iris-virginica\n",
       "148  6.2  3.4  5.4  2.3  Iris-virginica\n",
       "149  5.9  3.0  5.1  1.8  Iris-virginica"
      ]
     },
     "execution_count": 27,
     "metadata": {},
     "output_type": "execute_result"
    }
   ],
   "source": [
    "import pandas as pd\n",
    "df = pd.read_csv(\"https://archive.ics.uci.edu/ml/machine-learning-databases/iris/iris.data\", header=None)\n",
    "df.tail()"
   ]
  },
  {
   "cell_type": "code",
   "execution_count": 40,
   "metadata": {
    "slideshow": {
     "slide_type": "subslide"
    }
   },
   "outputs": [
    {
     "data": {
      "image/png": "[encoded data removed]",
      "text/plain": [
       "<Figure size 432x288 with 1 Axes>"
      ]
     },
     "metadata": {
      "needs_background": "light"
     },
     "output_type": "display_data"
    }
   ],
   "source": [
    "import matplotlib.pyplot as plt\n",
    "import numpy as np\n",
    "\n",
    "y = df.iloc[0:100, 4].values # 目的変数の抽出\n",
    "y = np.where(y == 'Iris-setosa', -1, 1) # 正例と負例の指定\n",
    "X = df.iloc[0:100, [0, 2]].values # 1-100行目の1,3列目の抽出\n",
    "plt.scatter(X[:50, 0], X[:50, 1], color='red', marker='o', label='setosa');\n",
    "plt.scatter(X[50:100, 0], X[50:100, 1], color='blue', marker='x', label='versicolor');\n",
    "plt.xlabel('sepal length [cm] ');\n",
    "plt.ylabel('petal length [cm] ');\n",
    "plt.legend(loc='upper left');\n",
    "plt.show()"
   ]
  },
  {
   "cell_type": "code",
   "execution_count": 45,
   "metadata": {
    "slideshow": {
     "slide_type": "subslide"
    }
   },
   "outputs": [
    {
     "data": {
      "image/png": "[encoded data removed]",
      "text/plain": [
       "<Figure size 432x288 with 1 Axes>"
      ]
     },
     "metadata": {
      "needs_background": "light"
     },
     "output_type": "display_data"
    }
   ],
   "source": [
    "ppn = Perceptron(eta=0.1, n_iter=10) # defaultの値はeta=0.01, n_iter=50\n",
    "ppn.fit(X, y)\n",
    "plt.plot(range(1, len(ppn.errors_) + 1), ppn.errors_, marker='o');\n",
    "plt.xlabel('Epochs');\n",
    "plt.ylabel('Number of update');\n",
    "plt.show()"
   ]
  },
  {
   "cell_type": "code",
   "execution_count": 60,
   "metadata": {
    "slideshow": {
     "slide_type": "skip"
    }
   },
   "outputs": [],
   "source": [
    "from matplotlib.colors import ListedColormap\n",
    "\n",
    "def plot_decision_regions(X, y, classifier, resolution=0.02):\n",
    "    markers = ('s', 'x', 'o', '^', 'v') # マーカー\n",
    "    colors = ('red', 'blue', 'lightgreen', 'gray', 'cyan') # 色\n",
    "    cmap = ListedColormap(colors[:len(np.unique(y))]) # Colormap object generated from a list of colors.\n",
    "    \n",
    "    x1_min, x1_max = X[:, 0].min() - 1, X[:, 0].max() + 1 # 領域を描くに際して最大値、最小値の情報を取得\n",
    "    x2_min, x2_max = X[:, 1].min() - 1, X[:, 1].max() + 1\n",
    "    \n",
    "    xx1, xx2 = np.meshgrid(np.arange(x1_min, x1_max, resolution), # Return coordinate matrices from coordinate vectors.\n",
    "                                              np.arange(x2_min, x2_max, resolution)) # resolutionはgridの1単位に該当する\n",
    "    \n",
    "    Z = classifier.predict(np.array([xx1.ravel(), xx2.ravel()]).T) # ravelで1次元のベクトルにして転置して予測\n",
    "    Z = Z.reshape(xx1.shape)  # Zはただのベクトルなのでxx1と同じデータ構造に変換する\n",
    "    plt.contourf(xx1, xx2, Z, alpha=0.3, cmap=cmap) # 等高線を描く\n",
    "    plt.xlim(xx1.min(), xx1.max())\n",
    "    plt.ylim(xx2.min(), xx2.max())\n",
    "    \n",
    "    for idx, cl in enumerate(np.unique(y)): # enumerateは引数にリストなどのイテラブルオブジェクトを指定すると、インデックス番号(idx)と要素(cl)が取得できる。\n",
    "        plt.scatter(x = X[y == cl, 0],\n",
    "                            y = X[y == cl, 1],\n",
    "                            alpha = 0.8,\n",
    "                            c = colors[idx],\n",
    "                            marker=markers[idx],\n",
    "                            label=cl,\n",
    "                            edgecolor='black'\n",
    "                            )        "
   ]
  },
  {
   "cell_type": "code",
   "execution_count": 61,
   "metadata": {
    "slideshow": {
     "slide_type": "subslide"
    }
   },
   "outputs": [
    {
     "data": {
      "image/png": "[encoded data removed]",
      "text/plain": [
       "<Figure size 432x288 with 1 Axes>"
      ]
     },
     "metadata": {
      "needs_background": "light"
     },
     "output_type": "display_data"
    }
   ],
   "source": [
    "plot_decision_regions(X, y, classifier=ppn) # 決定領域のプロット\n",
    "plt.xlabel('sepal length [cm]')\n",
    "plt.ylabel('petal length [cm]')\n",
    "plt.legend(loc='upper left')\n",
    "plt.show()"
   ]
  },
  {
   "cell_type": "markdown",
   "metadata": {
    "slideshow": {
     "slide_type": "slide"
    }
   },
   "source": [
    "### ADALINE\n",
    "+ 単層ニューラルネットワーク。\n",
    "+ パーセプトロンの改良版。重みの更新方法がパーセプトロンと異なり、線形活性化関数に基づいてなされる。\n",
    "+ ただし最終的な予測にはパーセプトロンと同様に閾値関数を用いている。\n",
    "+ パーセプトロンとの違いとして誤差の計算が線形活性化関数の出力値と真のラベルとなっている点があげられる。\n",
    "+ ADALINEの学習規則はWidrow-Hoff則と呼ばれる。\n",
    " + 二乗損失の最小化を最急降下法で解くことを指す。"
   ]
  },
  {
   "cell_type": "code",
   "execution_count": 62,
   "metadata": {
    "slideshow": {
     "slide_type": "subslide"
    }
   },
   "outputs": [
    {
     "data": {
      "text/html": [
       "<img src=\"https://sebastianraschka.com/images/faq/diff-perceptron-adaline-neuralnet/4.png\"/>"
      ],
      "text/plain": [
       "<IPython.core.display.Image object>"
      ]
     },
     "execution_count": 62,
     "metadata": {},
     "output_type": "execute_result"
    }
   ],
   "source": [
    "Image(url=\"https://sebastianraschka.com/images/faq/diff-perceptron-adaline-neuralnet/4.png\")"
   ]
  },
  {
   "cell_type": "markdown",
   "metadata": {
    "slideshow": {
     "slide_type": "subslide"
    }
   },
   "source": [
    "#### 勾配降下法\n",
    "機械学習の学習過程において目的関数を最適化するための手法の一つ。  \n",
    "今回のADALINEの場合は重みの学習に以下のコスト関数（誤差平方和）を用いる。\n",
    "$$\n",
    "J(W) = \\frac{1}{2} \\sum _i (y^{(i)} - \\phi (z^{(i)}))^2\n",
    "$$\n",
    "この関数は凸関数であり、微分可能であることから、勾配降下法を用いて最小化することができる。  \n",
    "この目的関数における重みの更新は\n",
    "$$\n",
    "w := w + \\Delta w \\\\\n",
    "\\Delta w = - \\eta \\nabla J (w)\n",
    "$$\n",
    "で行われる。勾配の負値、つまり反対向きにパラメータを更新することに注目されたい。∇ J(w)の各要素については  \n",
    "$$\n",
    "\\frac{\\partial J}{\\partial w_j} = - \\sum_i (y^{(i)} - \\phi (z^{(i)}) )x^{(i)}_j\n",
    "$$\n",
    "よって、更新式は以下のように表される。  \n",
    "$$\n",
    "\\Delta w_j = - \\eta \\frac{\\partial J}{\\partial w_j} = \\eta  \\sum_i (y^{(i)} - \\phi (z^{(i)}) )x^{(i)}_j\n",
    "$$\n",
    "summationから、重みの更新のために他のインスタンスを同時につかっていることがわかる。これ故に、バッチ勾配降下法と呼ばれている。  \n",
    "また、活性化関数の出力が整数ではなく、実数であることもパーセプトロンとの違いである。"
   ]
  },
  {
   "cell_type": "markdown",
   "metadata": {
    "slideshow": {
     "slide_type": "subslide"
    }
   },
   "source": [
    "#### Pythonでの実装"
   ]
  },
  {
   "cell_type": "code",
   "execution_count": 135,
   "metadata": {
    "slideshow": {
     "slide_type": "skip"
    }
   },
   "outputs": [],
   "source": [
    "class AdalineGD(object):\n",
    "    def __init__(self, eta=0.01, n_iter=50,random_state=1):\n",
    "        self.eta = eta\n",
    "        self.n_iter = n_iter\n",
    "        self.random_state = random_state\n",
    "        \n",
    "    def fit(self, X, y):\n",
    "        rgen = np.random.RandomState(self.random_state)\n",
    "        self.w_ = rgen.normal(loc=0.0,\n",
    "                                               scale=0.01,\n",
    "                                               size=1+X.shape[1]\n",
    "                                               )\n",
    "        self.cost_ = []\n",
    "        \n",
    "        for i in range(self.n_iter):\n",
    "            net_input = self.net_input(X)\n",
    "            output = self.activation(net_input) # 活性化関数\n",
    "            errors = (y - output) # 誤差\n",
    "            self.w_[1:] += self.eta * X.T.dot(errors) # 重みの更新（更新式に従っている）\n",
    "            self.w_[0] += self.eta * errors.sum() # バイアスユニットだけ別で重みの更新\n",
    "            cost = (errors**2).sum() / 2.0 # 誤差二乗和を2で割ったもの（アルゴリズムが収束したかどうかの判断に使う。）\n",
    "            self.cost_.append(cost)\n",
    "        return self\n",
    "    \n",
    "    def net_input(self, X):\n",
    "        return np.dot(X, self.w_[1:]) + self.w_[0] # 内積の計算\n",
    "    \n",
    "    def activation(self, X): \n",
    "        return X # 線形活性化関数（今回は何も意味を持たない。次章以降でロジスティック回帰モデルの説明でこことの比較がなされる。）\n",
    "    \n",
    "    def predict(self, X):\n",
    "        return np.where(self.activation(self.net_input(X)) >= 0.0, 1, -1) # 単位ステップ関数"
   ]
  },
  {
   "cell_type": "code",
   "execution_count": 136,
   "metadata": {
    "slideshow": {
     "slide_type": "subslide"
    }
   },
   "outputs": [],
   "source": [
    "'''class AdalineGD(object):\n",
    "    def __init__(self, eta=0.01, n_iter=50,random_state=1):\n",
    "        self.eta = eta\n",
    "        self.n_iter = n_iter\n",
    "        self.random_state = random_state\n",
    "        ''';"
   ]
  },
  {
   "cell_type": "code",
   "execution_count": 137,
   "metadata": {
    "slideshow": {
     "slide_type": "subslide"
    }
   },
   "outputs": [],
   "source": [
    "'''\n",
    "    def fit(self, X, y):\n",
    "        rgen = np.random.RandomState(self.random_state)\n",
    "        self.w_ = rgen.normal(loc=0.0,\n",
    "                                               scale=0.01,\n",
    "                                               size=1+X.shape[1]\n",
    "                                               )\n",
    "        self.cost_ = []\n",
    "        \n",
    "        for i in range(self.n_iter):\n",
    "            net_input = self.net_input(X)\n",
    "            output = self.activation(net_input) # 活性化関数\n",
    "            errors = (y - output) # 誤差\n",
    "            self.w_[1:] += self.eta * X.T.dot(errors) # 重みの更新（更新式に従っている）\n",
    "            self.w_[0] += self.eta * errors.sum() # バイアスユニットだけ別で重みの更新\n",
    "            cost = (errors**2).sum() / 2.0 # 誤差二乗和を2で割ったもの（アルゴリズムが収束したかどうかの判断に使う。）\n",
    "            self.cost_.append(cost)\n",
    "        return self\n",
    "    \n",
    "    def net_input(self, X):\n",
    "        return np.dot(X, self.w_[1:]) + self.w_[0] # 内積の計算\n",
    "    \n",
    "    def activation(self, X): \n",
    "        return X # 線形活性化関数（今回は何も意味を持たない。次章以降でロジスティック回帰モデルの説明でこことの比較がなされる。）\n",
    "    \n",
    "    def predict(self, X):\n",
    "        return np.where(self.activation(self.net_input(X)) >= 0.0, 1, -1) # 単位ステップ関数\n",
    "''';"
   ]
  },
  {
   "cell_type": "code",
   "execution_count": 138,
   "metadata": {
    "slideshow": {
     "slide_type": "subslide"
    }
   },
   "outputs": [
    {
     "data": {
      "image/png": "[encoded data removed]",
      "text/plain": [
       "<Figure size 720x288 with 2 Axes>"
      ]
     },
     "metadata": {
      "needs_background": "light"
     },
     "output_type": "display_data"
    }
   ],
   "source": [
    "fig, ax = plt.subplots(nrows=1, ncols=2, figsize=(10, 4))\n",
    "ada1 = AdalineGD(n_iter=10, eta=0.01).fit(X, y)\n",
    "ax[0].plot(range(1, len(ada1.cost_)+1), np.log10(ada1.cost_), marker='o');\n",
    "ax[0].set_xlabel('Epochs');\n",
    "ax[0].set_ylabel('log(Sum-squared-error)');\n",
    "ax[0].set_title('Adaline - Learning rate 0.01');\n",
    "\n",
    "ada2 = AdalineGD(n_iter=10, eta=0.0001).fit(X, y)\n",
    "ax[1].plot(range(1, len(ada2.cost_)+1), np.log10(ada2.cost_), marker='o');\n",
    "ax[1].set_xlabel('Epochs');\n",
    "ax[1].set_ylabel('log(Sum-squared-error)');\n",
    "ax[1].set_title('Adaline - Learning rate 0.0001');\n",
    "plt.show()"
   ]
  },
  {
   "cell_type": "code",
   "execution_count": 139,
   "metadata": {
    "slideshow": {
     "slide_type": "subslide"
    }
   },
   "outputs": [
    {
     "data": {
      "text/html": [
       "<img src=\"https://algorithmia.com/blog/wp-content/uploads/2018/05/word-image-2.png\"/>"
      ],
      "text/plain": [
       "<IPython.core.display.Image object>"
      ]
     },
     "execution_count": 139,
     "metadata": {},
     "output_type": "execute_result"
    }
   ],
   "source": [
    "Image(url=\"https://algorithmia.com/blog/wp-content/uploads/2018/05/word-image-2.png\")"
   ]
  },
  {
   "cell_type": "markdown",
   "metadata": {
    "slideshow": {
     "slide_type": "subslide"
    }
   },
   "source": [
    "#### スケーリング\n",
    "+ 標準化\n",
    " + 各特徴量の平均をずらして中心が0になるようにして、各特徴量の標準偏差を1にする。\n",
    " \n",
    " $$\n",
    " x^{'}_j = \\frac{x_j - \\mu _j}{\\sigma _j}\n",
    " $$\n",
    " μ_jはサンプルの平均で、それをすべてのトレーニングサンプルから引き、  \n",
    " サンプルの標準偏差σ_jで割ることで標準化を行うことができる。  \n",
    " \n",
    "   \n",
    "   \n",
    "+ 標準化が勾配降下法による学習に役立つ理由\n",
    " + 探索空間が限られ、大局的最小値を見つけ出すためのステップ数が少なくて済むため。"
   ]
  },
  {
   "cell_type": "code",
   "execution_count": 140,
   "metadata": {
    "slideshow": {
     "slide_type": "subslide"
    }
   },
   "outputs": [
    {
     "data": {
      "image/png": "[encoded data removed]",
      "text/plain": [
       "<Figure size 432x288 with 1 Axes>"
      ]
     },
     "metadata": {
      "needs_background": "light"
     },
     "output_type": "display_data"
    }
   ],
   "source": [
    "X_std = np.copy(X)\n",
    "X_std[:, 0] = (X[:, 0] - X[:, 0].mean()) / X[:, 0].std()\n",
    "X_std[:, 1] = (X[:, 1] - X[:, 1].mean()) / X[:, 1].std()\n",
    "\n",
    "ada = AdalineGD(n_iter=15, eta=0.01)\n",
    "ada.fit(X_std, y)\n",
    "plot_decision_regions(X_std, y, classifier=ada)\n",
    "plt.title('Adaline - Gradient Descent');\n",
    "plt.xlabel('sepal length [standardized]');\n",
    "plt.ylabel('petal length [standardized]');\n",
    "plt.legend(loc='upper left');\n",
    "plt.tight_layout();\n",
    "plt.show()"
   ]
  },
  {
   "cell_type": "code",
   "execution_count": 152,
   "metadata": {
    "slideshow": {
     "slide_type": "subslide"
    }
   },
   "outputs": [
    {
     "data": {
      "image/png": "[encoded data removed]",
      "text/plain": [
       "<Figure size 432x288 with 1 Axes>"
      ]
     },
     "metadata": {
      "needs_background": "light"
     },
     "output_type": "display_data"
    }
   ],
   "source": [
    "plt.plot(range(1, len(ada.cost_) + 1), ada.cost_, marker='o')\n",
    "plt.xlabel('Epochs');\n",
    "plt.ylabel('Sum-squared-error');\n",
    "plt.tight_layout();\n",
    "plt.show()"
   ]
  },
  {
   "cell_type": "markdown",
   "metadata": {},
   "source": [
    "標準化すれば、η = 0.01でトレーニングしても収束していくことがわかる。  \n",
    "ただし、全て分類できても誤差平方和は0にはなっていない。"
   ]
  },
  {
   "cell_type": "markdown",
   "metadata": {
    "slideshow": {
     "slide_type": "subslide"
    }
   },
   "source": [
    "#### 確率的勾配降下法\n",
    "+ 勾配降下法の問題点\n",
    " + バッチ勾配降下法においては数百万のトレーニングサンプルがあったとして、そのすべてを同時に扱って重みの更新を行うため計算コストが高くついてしまう可能性がある。\n",
    "\n",
    "勾配降下法を再掲する。\n",
    "$$\n",
    "\\Delta w_j = - \\eta \\frac{\\partial J}{\\partial w_j} = \\eta  \\sum_i (y^{(i)} - \\phi (z^{(i)}) )x^{(i)}_j\n",
    "$$\n",
    "このsummationが問題となる。  \n",
    "そこで、確率的勾配降下法ではトレーニングサンプルごとに段階的に重みを更新する。\n",
    "$$\n",
    "\\eta (y^{(i)} - \\phi (z^{(i)}) )x^{(i)}\n",
    "$$\n",
    "トレーニングサンプルごとに重み更新するに際して、トレーニングサンプルをランダムな順序に並べ替えることが重要となる。偏りがある場合、段階的にやったとしても重みベクトルが更新前と更新後で同じ値になる可能性がある。"
   ]
  },
  {
   "cell_type": "markdown",
   "metadata": {
    "slideshow": {
     "slide_type": "subslide"
    }
   },
   "source": [
    "#### Pythonでの実装"
   ]
  },
  {
   "cell_type": "code",
   "execution_count": 116,
   "metadata": {
    "slideshow": {
     "slide_type": "skip"
    }
   },
   "outputs": [],
   "source": [
    "from numpy.random import seed\n",
    "\n",
    "class AdalineSGD(object):\n",
    "    def __init__(self, eta=0.01, n_iter=10, shuffle=True, random_state=None):\n",
    "        self.eta = eta\n",
    "        self.n_iter = n_iter\n",
    "        self.w_initialized = False\n",
    "        self.shuffle = shuffle\n",
    "        self.random_state = random_state\n",
    "        \n",
    "    def fit(self, X, y):\n",
    "        self._initialize_weights(X.shape[1]) # 重みの初期化\n",
    "        self.cost_ = [] # コストの空箱1\n",
    "        for i in range(self.n_iter):\n",
    "            if self.shuffle: # shuffleに関するBoolean。\n",
    "                X, y = self._shuffle(X, y) # インスタンスをシャッフルしたもの\n",
    "            cost = [] # コストの空箱2\n",
    "            for xi, target in zip(X, y):\n",
    "                cost.append(self._update_weights(xi,target)) # 一つずつ更新式に従って更新した際のコストの値を返す\n",
    "            avg_cost = sum(cost)/len(y) # 平均コストを計算する\n",
    "            self.cost_.append(avg_cost) # 平均コストをappendする\n",
    "        return self\n",
    "    \n",
    "    def partial_fit(self, X, y):\n",
    "        if not self.w_initialized:\n",
    "            self._initialize_weights(X.shape[1]) # 重みの初期化\n",
    "        if y.ravel().shape[0] > 1: # yの数が1よりも大きい場合\n",
    "            for xi, target  in zip(X, y):\n",
    "                self._update_weights(xi,target) # 繰り返して重みベクトルを更新\n",
    "        else:\n",
    "            self._update_weights(X, y) # yが1個しかない場合は1回だけ重みベクトルを更新\n",
    "        return self\n",
    "    \n",
    "    def _shuffle(self, X, y):\n",
    "        r = self.rgen.permutation(len(y)) # 並び替えられたインスタンスのインデックス\n",
    "        return X[r], y[r]\n",
    "    \n",
    "    def _initialize_weights(self, m): # 重みの初期化\n",
    "        self.rgen = np.random.RandomState(self.random_state)\n",
    "        self.w_ = self.rgen.normal(loc=0.0, scale=0.01, size=1 + m)\n",
    "        self.w_initialized = True\n",
    "        \n",
    "    def _update_weights(self, xi, target):\n",
    "        output = self.activation(self.net_input(xi)) # 活性化関数\n",
    "        error = (target - output) # 誤差\n",
    "        self.w_[1:] += self.eta * xi.dot(error) # 更新式に従って重みベクトルの更新\n",
    "        self.w_[0] += self.eta*error # バイアスユニットだけ別で更新\n",
    "        cost = 0.5 * error**2 # 誤差二乗和を計算し2で割る。\n",
    "        return cost\n",
    "    \n",
    "    def net_input(self, X):\n",
    "        return np.dot(X, self.w_[1:]) + self.w_[0]\n",
    "    \n",
    "    def activation(self, X):\n",
    "        return X\n",
    "    \n",
    "    def predict(self, X):\n",
    "        return np.where(self.activation(self.net_input(X)) >= 0.0, 1, -1)"
   ]
  },
  {
   "cell_type": "code",
   "execution_count": 161,
   "metadata": {
    "slideshow": {
     "slide_type": "subslide"
    }
   },
   "outputs": [],
   "source": [
    "'''\n",
    "from numpy.random import seed\n",
    "\n",
    "class AdalineSGD(object):\n",
    "    def __init__(self, eta=0.01, n_iter=10, shuffle=True, random_state=None):\n",
    "        self.eta = eta\n",
    "        self.n_iter = n_iter\n",
    "        self.w_initialized = False\n",
    "        self.shuffle = shuffle\n",
    "        self.random_state = random_state\n",
    "        \n",
    "    def fit(self, X, y):\n",
    "        self._initialize_weights(X.shape[1]) # 重みの初期化\n",
    "        self.cost_ = [] # コストの空箱1\n",
    "        for i in range(self.n_iter):\n",
    "            if self.shuffle: # shuffleに関するBoolean。\n",
    "                X, y = self._shuffle(X, y) # インスタンスをシャッフルしたもの\n",
    "            cost = [] # コストの空箱2\n",
    "            for xi, target in zip(X, y):\n",
    "                cost.append(self._update_weights(xi,target)) # 一つずつ更新式に従って更新した際のコストの値を返す\n",
    "            avg_cost = sum(cost)/len(y) # 平均コストを計算する\n",
    "            self.cost_.append(avg_cost) # 平均コストをappendする\n",
    "        return self\n",
    "''';"
   ]
  },
  {
   "cell_type": "code",
   "execution_count": 162,
   "metadata": {
    "slideshow": {
     "slide_type": "subslide"
    }
   },
   "outputs": [],
   "source": [
    "'''\n",
    "    def partial_fit(self, X, y):\n",
    "        if not self.w_initialized:\n",
    "            self._initialize_weights(X.shape[1]) # 重みの初期化\n",
    "        if y.ravel().shape[0] > 1: # yの数が1よりも大きい場合\n",
    "            for xi, target  in zip(X, y):\n",
    "                self._update_weights(xi,target) # 繰り返して重みベクトルを更新\n",
    "        else:\n",
    "            self._update_weights(X, y) # yが1個しかない場合は1回だけ重みベクトルを更新\n",
    "        return self\n",
    "    \n",
    "    def _shuffle(self, X, y):\n",
    "        r = self.rgen.permutation(len(y)) # 並び替えられたインスタンスのインデックス\n",
    "        return X[r], y[r]\n",
    "    \n",
    "    def _initialize_weights(self, m): # 重みの初期化\n",
    "        self.rgen = np.random.RandomState(self.random_state)\n",
    "        self.w_ = self.rgen.normal(loc=0.0, scale=0.01, size=1 + m)\n",
    "        self.w_initialized = True\n",
    "''';"
   ]
  },
  {
   "cell_type": "code",
   "execution_count": 163,
   "metadata": {
    "slideshow": {
     "slide_type": "subslide"
    }
   },
   "outputs": [],
   "source": [
    "'''\n",
    "    def _update_weights(self, xi, target):\n",
    "        output = self.activation(self.net_input(xi)) # 活性化関数\n",
    "        error = (target - output) # 誤差\n",
    "        self.w_[1:] += self.eta * xi.dot(error) # 更新式に従って重みベクトルの更新\n",
    "        self.w_[0] += self.eta*error # バイアスユニットだけ別で更新\n",
    "        cost = 0.5 * error**2 # 誤差二乗和を計算し2で割る。\n",
    "        return cost\n",
    "    \n",
    "    def net_input(self, X):\n",
    "        return np.dot(X, self.w_[1:]) + self.w_[0]\n",
    "    \n",
    "    def activation(self, X):\n",
    "        return X\n",
    "    \n",
    "    def predict(self, X):\n",
    "        return np.where(self.activation(self.net_input(X)) >= 0.0, 1, -1)\n",
    "''';"
   ]
  },
  {
   "cell_type": "code",
   "execution_count": 129,
   "metadata": {
    "slideshow": {
     "slide_type": "subslide"
    }
   },
   "outputs": [
    {
     "data": {
      "image/png": "[encoded data removed]",
      "text/plain": [
       "<Figure size 432x288 with 1 Axes>"
      ]
     },
     "metadata": {
      "needs_background": "light"
     },
     "output_type": "display_data"
    }
   ],
   "source": [
    "ada_sgd = AdalineSGD(n_iter=15, eta=0.01, random_state=1)\n",
    "ada_sgd.fit(X_std, y)\n",
    "plot_decision_regions(X_std, y, classifier=ada_sgd)\n",
    "plt.title('Adaline - Stochstic Gradient Descent');\n",
    "plt.xlabel('sepal length [standardized]');\n",
    "plt.ylabel('petal length [standardized]');\n",
    "plt.legend(loc='upper left');\n",
    "plt.tight_layout();\n",
    "plt.show()"
   ]
  },
  {
   "cell_type": "code",
   "execution_count": 125,
   "metadata": {
    "slideshow": {
     "slide_type": "subslide"
    }
   },
   "outputs": [
    {
     "data": {
      "image/png": "[encoded data removed]",
      "text/plain": [
       "<Figure size 432x288 with 1 Axes>"
      ]
     },
     "metadata": {
      "needs_background": "light"
     },
     "output_type": "display_data"
    }
   ],
   "source": [
    "plt.plot(range(1, len(ada_sgd.cost_) + 1), ada_sgd.cost_, marker='o');\n",
    "plt.xlabel('Epochs');\n",
    "plt.ylabel('Average Cost');\n",
    "plt.show()"
   ]
  },
  {
   "cell_type": "markdown",
   "metadata": {},
   "source": [
    "SGDを使うことで、少ないエポック数でコストを低減させることができている。  \n",
    "15エポックを過ぎると勾配降下法と同じ水準になる。　　\n",
    "\n",
    "少ないエポック数で済むことから、オンライン機械学習など計算リソースが限られた環境においてSGDを使う便益がある。"
   ]
  },
  {
   "cell_type": "code",
   "execution_count": 155,
   "metadata": {
    "slideshow": {
     "slide_type": "subslide"
    }
   },
   "outputs": [
    {
     "data": {
      "image/png": "[encoded data removed]",
      "text/plain": [
       "<Figure size 432x288 with 1 Axes>"
      ]
     },
     "metadata": {
      "needs_background": "light"
     },
     "output_type": "display_data"
    }
   ],
   "source": [
    "plt.plot(range(1, len(ada.cost_) + 1), [ cost/100 for cost  in ada.cost_ ], marker='o')\n",
    "plt.xlabel('Epochs');\n",
    "plt.ylabel('Sum-squared-error');\n",
    "plt.title('Gradient Descent');\n",
    "plt.tight_layout();\n",
    "plt.show()"
   ]
  },
  {
   "cell_type": "markdown",
   "metadata": {
    "slideshow": {
     "slide_type": "subslide"
    }
   },
   "source": [
    "オンライン機械学習においてストリーミングデータを使って更新したい場合は以下のように記述する。"
   ]
  },
  {
   "cell_type": "code",
   "execution_count": 158,
   "metadata": {},
   "outputs": [
    {
     "data": {
      "text/plain": [
       "array([ 4.41172074e-04, -1.38669086e-01,  1.07241511e+00])"
      ]
     },
     "execution_count": 158,
     "metadata": {},
     "output_type": "execute_result"
    }
   ],
   "source": [
    "ada_sgd.partial_fit(X_std[0, :], y[0]).w_"
   ]
  },
  {
   "cell_type": "code",
   "execution_count": 159,
   "metadata": {},
   "outputs": [
    {
     "data": {
      "text/plain": [
       "array([ 7.47750008e-05, -1.38341414e-01,  1.07278677e+00])"
      ]
     },
     "execution_count": 159,
     "metadata": {},
     "output_type": "execute_result"
    }
   ],
   "source": [
    "ada_sgd.partial_fit(X_std[1, :], y[1]).w_"
   ]
  },
  {
   "cell_type": "code",
   "execution_count": 160,
   "metadata": {},
   "outputs": [
    {
     "data": {
      "text/plain": [
       "array([ 2.97143635e-05, -1.38287001e-01,  1.07283560e+00])"
      ]
     },
     "execution_count": 160,
     "metadata": {},
     "output_type": "execute_result"
    }
   ],
   "source": [
    "ada_sgd.partial_fit(X_std[2, :], y[2]).w_"
   ]
  },
  {
   "cell_type": "markdown",
   "metadata": {
    "slideshow": {
     "slide_type": "slide"
    }
   },
   "source": [
    "## 参考情報\n",
    "+ http://ibisforest.org/index.php?Widrow-Hoff%E3%81%AE%E5%AD%A6%E7%BF%92%E8%A6%8F%E5%89%87\n",
    "+ https://speakerdeck.com/kirikisinya/xin-zhe-renaiprmlmian-qiang-hui-at-ban-zang-men-number-3"
   ]
  }
 ],
 "metadata": {
  "celltoolbar": "Slideshow",
  "kernelspec": {
   "display_name": "Python [conda root]",
   "language": "python",
   "name": "conda-root-py"
  },
  "language_info": {
   "codemirror_mode": {
    "name": "ipython",
    "version": 3
   },
   "file_extension": ".py",
   "mimetype": "text/x-python",
   "name": "python",
   "nbconvert_exporter": "python",
   "pygments_lexer": "ipython3",
   "version": "3.5.6"
  },
  "toc": {
   "base_numbering": 1,
   "nav_menu": {},
   "number_sections": true,
   "sideBar": true,
   "skip_h1_title": false,
   "title_cell": "Table of Contents",
   "title_sidebar": "Contents",
   "toc_cell": false,
   "toc_position": {},
   "toc_section_display": true,
   "toc_window_display": true
  }
 },
 "nbformat": 4,
 "nbformat_minor": 2
}
