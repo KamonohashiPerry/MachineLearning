{
 "cells": [
  {
   "cell_type": "code",
   "execution_count": 58,
   "metadata": {
    "slideshow": {
     "slide_type": "skip"
    }
   },
   "outputs": [],
   "source": [
    "from IPython.display import Image\n",
    "from IPython.core.display import HTML \n",
    "\n",
    "import warnings\n",
    "warnings.filterwarnings('ignore')"
   ]
  },
  {
   "cell_type": "markdown",
   "metadata": {
    "slideshow": {
     "slide_type": "skip"
    }
   },
   "source": [
    "+ flaskのコードの意味などを詳細に"
   ]
  },
  {
   "cell_type": "markdown",
   "metadata": {
    "slideshow": {
     "slide_type": "slide"
    }
   },
   "source": [
    "## [DSO] Machine Learning Seminar Vol.8\n",
    "2020-09-29  \n",
    "SKUE"
   ]
  },
  {
   "cell_type": "code",
   "execution_count": 59,
   "metadata": {
    "slideshow": {
     "slide_type": "slide"
    }
   },
   "outputs": [
    {
     "data": {
      "text/html": [
       "<img src=\"https://image.yodobashi.com/product/100/000/009/002/935/105/100000009002935105_10204.jpg\"/>"
      ],
      "text/plain": [
       "<IPython.core.display.Image object>"
      ]
     },
     "execution_count": 59,
     "metadata": {},
     "output_type": "execute_result"
    }
   ],
   "source": [
    "Image(url=\"https://image.yodobashi.com/product/100/000/009/002/935/105/100000009002935105_10204.jpg\")"
   ]
  },
  {
   "cell_type": "markdown",
   "metadata": {
    "slideshow": {
     "slide_type": "slide"
    }
   },
   "source": [
    "# 機械学習の適用2 - Webアプリケーション\n",
    "この章で行うこと\n",
    "+ 訓練済みの機械学習モデルの保存\n",
    "+ SQLiteの活用\n",
    "+ Flaskを用いたWebアプリケーションの開発\n",
    "+ モデルのデプロイ"
   ]
  },
  {
   "cell_type": "markdown",
   "metadata": {
    "slideshow": {
     "slide_type": "subslide"
    }
   },
   "source": [
    "## 学習済みのscikit-learnの推定器をシリアライズする"
   ]
  },
  {
   "cell_type": "markdown",
   "metadata": {},
   "source": [
    "第8章で扱ったアウトオブコア学習の結果をpickleで保存しておく。"
   ]
  },
  {
   "cell_type": "code",
   "execution_count": 1,
   "metadata": {
    "slideshow": {
     "slide_type": "subslide"
    }
   },
   "outputs": [],
   "source": [
    "# import pickle\n",
    "# import os\n",
    "# dest = os.path.join('movieclassfier', 'pkl_objects')\n",
    "\n",
    "# if not os.path.exists(dest):\n",
    "#     os.makedirs(dest)\n",
    "    \n",
    "# pickle.dump(stop,\n",
    "#                        open(os.path.join(dest, 'stopwords.pkl'), 'wb'),\n",
    "#                        protocol=4)\n",
    "\n",
    "# pickle.dump(clf,\n",
    "#                        open(os.path.join(dest, 'classifier.pkl'), 'wb'),\n",
    "#                        protocol=4)"
   ]
  },
  {
   "cell_type": "markdown",
   "metadata": {
    "slideshow": {
     "slide_type": "subslide"
    }
   },
   "source": [
    "## Tips\n",
    "%%file  \n",
    "を使えばjupyter notebookで.pyファイルを生成できる。"
   ]
  },
  {
   "cell_type": "markdown",
   "metadata": {
    "slideshow": {
     "slide_type": "slide"
    }
   },
   "source": [
    "aaa"
   ]
  },
  {
   "cell_type": "code",
   "execution_count": 2,
   "metadata": {
    "slideshow": {
     "slide_type": "subslide"
    }
   },
   "outputs": [
    {
     "name": "stdout",
     "output_type": "stream",
     "text": [
      "Writing movieclassfier/vectorizer.py\n"
     ]
    }
   ],
   "source": [
    "%%file movieclassfier/vectorizer.py\n",
    "\n",
    "from sklearn.feature_extraction.text import HashingVectorizer\n",
    "import re\n",
    "import os\n",
    "import pickle\n",
    "\n",
    "cur_dir = os.path.dirname(__file__)\n",
    "stop = pickle.load(open(os.path.join(cur_dir,\n",
    "                                            'pkl_objects',\n",
    "                                            'stopwords.pkl'), 'rb'))\n",
    "\n",
    "def tokenizer(text):\n",
    "    text = re.sub('<[^>]*>', '', text)\n",
    "    emoticons = re.findall('(?::|;|=)(?:-)?(?:\\)|\\(|D|P)', text.lower())\n",
    "    text = re.sub('[\\W]+', ' ', text.lower()) + '  '.join(emoticons).replace('-', '')\n",
    "    tokenized = [w for w in text.split() if w not in stop ]\n",
    "    return tokenized\n",
    "\n",
    "vect = HashingVectorizer(decode_error='ignore',\n",
    "                                            n_features=2**21,\n",
    "                                            preprocessor=None,\n",
    "                                            tokenizer=tokenizer)"
   ]
  },
  {
   "cell_type": "markdown",
   "metadata": {
    "slideshow": {
     "slide_type": "slide"
    }
   },
   "source": [
    "以下はmovieclassfierのディレクトリ下でpythonを立ち上げて実行"
   ]
  },
  {
   "cell_type": "code",
   "execution_count": 3,
   "metadata": {
    "slideshow": {
     "slide_type": "subslide"
    }
   },
   "outputs": [],
   "source": [
    "# import pickle\n",
    "# import re\n",
    "# import os\n",
    "# from vectorizer import vect\n",
    "# clf = pickle.load(open(os.path.join('pkl_objects', 'classifier.pkl'), 'rb'))\n",
    "\n",
    "\n",
    "# import numpy as np\n",
    "# label = {0:'negative',\n",
    "#               1:'positive'}\n",
    "\n",
    "# example = ['I love this movie']\n",
    "# X = vect.transform(example)\n",
    "# print('Prediction: %s\\nProbability: %.2f%%' \\\n",
    "#       %(label[clf.predict(X)[0]],np.max(clf.predict_proba(X))*100))"
   ]
  },
  {
   "cell_type": "markdown",
   "metadata": {
    "slideshow": {
     "slide_type": "slide"
    }
   },
   "source": [
    "## データストレージとしてSQLiteデータベースを設定する\n",
    "+ SQLiteとは\n",
    " + OSSのSQLデータベース\n",
    " + サーバは用意しなくてもいい。\n",
    " + 全てが1つのファイルに含まれたデータベースと考えることができる。"
   ]
  },
  {
   "cell_type": "markdown",
   "metadata": {
    "slideshow": {
     "slide_type": "subslide"
    }
   },
   "source": [
    "テーブルを生成して、レコードを2件追加する。"
   ]
  },
  {
   "cell_type": "code",
   "execution_count": 7,
   "metadata": {
    "slideshow": {
     "slide_type": "subslide"
    }
   },
   "outputs": [],
   "source": [
    "import sqlite3\n",
    "import os\n",
    "\n",
    "if os.path.exists('reviews.sqlite'):\n",
    "    os.remove('reviews.sqlite')\n",
    "    \n",
    "conn = sqlite3.connect('reviews.sqlite')\n",
    "c = conn.cursor()\n",
    "c.execute('CREATE TABLE review_db (review TEXT, sentiment INTEGER, date TEXT) ')\n",
    "example1 = 'I love this movie'\n",
    "c.execute(\"INSERT INTO review_db (review, sentiment, date) VALUES\"\\\n",
    "                     \"(?, ?, DATETIME('now'))\", (example1, 1))\n",
    "\n",
    "example2 = 'I disliked this movie'\n",
    "c.execute(\"INSERT INTO review_db (review, sentiment, date) VALUES\"\\\n",
    "                     \"(?, ?, DATETIME('now'))\", (example2, 0))\n",
    "conn.commit()\n",
    "conn.close()"
   ]
  },
  {
   "cell_type": "markdown",
   "metadata": {
    "slideshow": {
     "slide_type": "subslide"
    }
   },
   "source": [
    "SQLiteに保存したデータを読み込む"
   ]
  },
  {
   "cell_type": "code",
   "execution_count": 8,
   "metadata": {
    "slideshow": {
     "slide_type": "subslide"
    }
   },
   "outputs": [
    {
     "name": "stdout",
     "output_type": "stream",
     "text": [
      "[('I love this movie', 1, '2020-09-19 08:27:24'), ('I disliked this movie', 0, '2020-09-19 08:27:24')]\n"
     ]
    }
   ],
   "source": [
    "conn = sqlite3.connect('reviews.sqlite')\n",
    "c = conn.cursor()\n",
    "c.execute(\"SELECT * FROM review_db WHERE date\"\\\n",
    "                   \" BETWEEN '2017-01-01 00:00:00' AND DATETIME('now') \")\n",
    "results = c.fetchall()\n",
    "conn.close()\n",
    "print(results)"
   ]
  },
  {
   "cell_type": "markdown",
   "metadata": {
    "slideshow": {
     "slide_type": "slide"
    }
   },
   "source": [
    "## Flaskを使ってWebアプリケーションを開発する\n",
    "+ Flaskとは\n",
    " + 軽量なWebアプリケーションのフレームワーク"
   ]
  },
  {
   "cell_type": "code",
   "execution_count": 10,
   "metadata": {
    "slideshow": {
     "slide_type": "subslide"
    }
   },
   "outputs": [],
   "source": [
    "# !pip install flask"
   ]
  },
  {
   "cell_type": "code",
   "execution_count": 12,
   "metadata": {},
   "outputs": [],
   "source": [
    "# !mkdir 1st_flask_app_1"
   ]
  },
  {
   "cell_type": "code",
   "execution_count": 14,
   "metadata": {},
   "outputs": [],
   "source": [
    "# !mkdir 1st_flask_app_1/templates"
   ]
  },
  {
   "cell_type": "code",
   "execution_count": 15,
   "metadata": {
    "slideshow": {
     "slide_type": "subslide"
    }
   },
   "outputs": [
    {
     "name": "stdout",
     "output_type": "stream",
     "text": [
      "Writing 1st_flask_app_1/app.py\n"
     ]
    }
   ],
   "source": [
    "%%file 1st_flask_app_1/app.py\n",
    "\n",
    "from flask import Flask, render_template\n",
    "\n",
    "app = Flask(__name__) # 初期化して、テンプレが同じディレクトリ内で見つかるようにしている。\n",
    "@app.route('/') # インデックス関数が実行すべきURLを指定している。\n",
    "\n",
    "def index():\n",
    "    return render_template('first_app.html') # レンダリング\n",
    "\n",
    "if __name__ == '__main__':\n",
    "    app.run() # サーバ上のアプリケーションを実行"
   ]
  },
  {
   "cell_type": "code",
   "execution_count": 17,
   "metadata": {
    "slideshow": {
     "slide_type": "subslide"
    }
   },
   "outputs": [
    {
     "name": "stdout",
     "output_type": "stream",
     "text": [
      "Overwriting 1st_flask_app_1/templates/first_app.html\n"
     ]
    }
   ],
   "source": [
    "%%file 1st_flask_app_1/templates/first_app.html\n",
    "<!doctype html>\n",
    "<html>\n",
    "    <head>\n",
    "        <title>First app</title>\n",
    "    </head>\n",
    "        <div>Hi, this is my first Flaskweb app!</div>\n",
    "    </body>\n",
    "</html>"
   ]
  },
  {
   "cell_type": "code",
   "execution_count": 20,
   "metadata": {
    "slideshow": {
     "slide_type": "subslide"
    }
   },
   "outputs": [],
   "source": [
    "# !pip install wtforms"
   ]
  },
  {
   "cell_type": "code",
   "execution_count": 21,
   "metadata": {},
   "outputs": [],
   "source": [
    "# !mkdir 1st_flask_app_2"
   ]
  },
  {
   "cell_type": "code",
   "execution_count": 23,
   "metadata": {},
   "outputs": [],
   "source": [
    "# !mkdir 1st_flask_app_2/static"
   ]
  },
  {
   "cell_type": "code",
   "execution_count": 24,
   "metadata": {},
   "outputs": [],
   "source": [
    "# !mkdir 1st_flask_app_2/templates"
   ]
  },
  {
   "cell_type": "code",
   "execution_count": 30,
   "metadata": {
    "slideshow": {
     "slide_type": "subslide"
    }
   },
   "outputs": [
    {
     "name": "stdout",
     "output_type": "stream",
     "text": [
      "Overwriting 1st_flask_app_2/app.py\n"
     ]
    }
   ],
   "source": [
    "%%file 1st_flask_app_2/app.py\n",
    "\n",
    "from flask import Flask, render_template, request\n",
    "from wtforms import Form, TextAreaField, validators\n",
    "\n",
    "app = Flask(__name__)\n",
    "\n",
    "class HelloForm(Form):\n",
    "    sayhello = TextAreaField(' ', [validators.DataRequired()]) # テキストフィールドの拡張\n",
    "    \n",
    "@app.route('/')\n",
    "def index():\n",
    "    form = HelloForm(request.form)\n",
    "    return render_template('first_app.html', form=form)\n",
    "\n",
    "@app.route('/hello', methods=['POST'])\n",
    "def hello():\n",
    "    form = HelloForm(request.form)\n",
    "    if request.method == 'POST' and form.validate(): # POSTメソッドを使ってフォームのデータをサーバに送信する。\n",
    "        name = request.form['sayhello']\n",
    "        return render_template('hello.html', name=name)\n",
    "    \n",
    "    return render_template('first_app.html', form=form)\n",
    "\n",
    "if __name__ == '__main__':\n",
    "    app.run(debug=True)"
   ]
  },
  {
   "cell_type": "code",
   "execution_count": 35,
   "metadata": {
    "slideshow": {
     "slide_type": "subslide"
    }
   },
   "outputs": [
    {
     "name": "stdout",
     "output_type": "stream",
     "text": [
      "Writing 1st_flask_app_2/templates/_formhelpers.html\n"
     ]
    }
   ],
   "source": [
    "%%file 1st_flask_app_2/templates/_formhelpers.html\n",
    "\n",
    "{% macro render_field(field) %}\n",
    "    <dt>{{ field.label  }}\n",
    "    <dd>{{ field(**kwargs) | safe }}\n",
    "    {% if field.errors %}\n",
    "        <ul class=errors>\n",
    "        {% for error in field.errors %}\n",
    "            <li>{{  error  }}</li>\n",
    "        {% endfor %}\n",
    "        </ul>\n",
    "    {% endif %}\n",
    "    </dd>\n",
    "    </dt>\n",
    "{% endmacro %}"
   ]
  },
  {
   "cell_type": "code",
   "execution_count": 36,
   "metadata": {
    "slideshow": {
     "slide_type": "subslide"
    }
   },
   "outputs": [
    {
     "name": "stdout",
     "output_type": "stream",
     "text": [
      "Overwriting 1st_flask_app_2/static/style.css\n"
     ]
    }
   ],
   "source": [
    "%%file 1st_flask_app_2/static/style.css\n",
    "\n",
    "body{\n",
    "    font-size: 2em;\n",
    "}"
   ]
  },
  {
   "cell_type": "code",
   "execution_count": 37,
   "metadata": {
    "slideshow": {
     "slide_type": "subslide"
    }
   },
   "outputs": [
    {
     "name": "stdout",
     "output_type": "stream",
     "text": [
      "Overwriting 1st_flask_app_2/templates/first_app.html\n"
     ]
    }
   ],
   "source": [
    "%%file 1st_flask_app_2/templates/first_app.html\n",
    "<!doctype html>\n",
    "<html>\n",
    "    <head>\n",
    "        <titile>First app</title>\n",
    "        <link rel=\"stylesheet\"\n",
    "                    href=\"{{ url_for('static', filename='style.css')}}\">\n",
    "    </head>\n",
    "    <body>\n",
    "    {% from \"_formhelpers.html\" import render_field %}\n",
    "    \n",
    "    <div>Whats your name?</div>\n",
    "    <form method=post action=\"/hello\">\n",
    "        <dl>\n",
    "            {{ render_field(form.sayhello) }}\n",
    "        </dl>\n",
    "        <input type=submit value='Say Hello' name='submit_btn'>\n",
    "    </form>\n",
    "    </body>\n",
    "</html>"
   ]
  },
  {
   "cell_type": "code",
   "execution_count": 38,
   "metadata": {
    "slideshow": {
     "slide_type": "subslide"
    }
   },
   "outputs": [
    {
     "name": "stdout",
     "output_type": "stream",
     "text": [
      "Overwriting 1st_flask_app_2/templates/hello.html\n"
     ]
    }
   ],
   "source": [
    "%%file 1st_flask_app_2/templates/hello.html\n",
    "<!doctype html>\n",
    "<html>\n",
    "    <head>\n",
    "        <titile>First app</title>\n",
    "        <link rel=\"stylesheet\"\n",
    "                    href=\"{{ url_for('static', filename='style.css')}}\">\n",
    "    </head>\n",
    "    <body>\n",
    "        <div>Hello {{ name }}</div>\n",
    "    </body>\n",
    "</html>"
   ]
  },
  {
   "cell_type": "code",
   "execution_count": 57,
   "metadata": {
    "slideshow": {
     "slide_type": "subslide"
    }
   },
   "outputs": [
    {
     "name": "stdout",
     "output_type": "stream",
     "text": [
      "Overwriting movieclassfier/app.py\n"
     ]
    }
   ],
   "source": [
    "%%file movieclassfier/app.py\n",
    "\n",
    "from flask import Flask, render_template, request\n",
    "from wtforms import Form, TextAreaField, validators\n",
    "import pickle\n",
    "import sqlite3\n",
    "import os\n",
    "import numpy as np\n",
    "\n",
    "# ローカルディレクトリからHashingVectorizerをインポート\n",
    "from vectorizer import vect\n",
    "\n",
    "# ローカルディレクトリからupdate関数をインポート\n",
    "from update import update_model\n",
    "\n",
    "app = Flask(__name__)\n",
    "\n",
    "####### 分類器の準備\n",
    "cur_dir = os.path.dirname(__file__)\n",
    "clf = pickle.load(open(os.path.join(cur_dir, 'pkl_objects', 'classifier.pkl'), 'rb'))\n",
    "db = os.path.join(cur_dir, 'reviews.sqlite')\n",
    "\n",
    "def classify(document):\n",
    "    label = {0: 'negative',\n",
    "                  1: 'positive'}\n",
    "    X = vect.transform([document])\n",
    "    y = clf.predict(X)[0]\n",
    "    proba = clf.predict_proba(X).max()\n",
    "    return label[y], proba\n",
    "\n",
    "def train(document, y):\n",
    "    X = vect.transform([document])\n",
    "    clf.partial_fit(X, [y])\n",
    "    \n",
    "def sqlite_entry(path, document, y):\n",
    "    conn = sqlite3.connect(path)\n",
    "    c = conn.cursor()\n",
    "    c.execute(\"INSERT INTO review_db (review, sentiment, date)\"\\\n",
    "                        \" VALUES (?, ?, DATETIME('now'))\", (document, y))\n",
    "    conn.commit()\n",
    "    conn.close()\n",
    "    \n",
    "    \n",
    "###### Flask\n",
    "class ReviewForm(Form):\n",
    "    moviereview = TextAreaField(' ',\n",
    "                                                           [validators.DataRequired(),\n",
    "                                                               validators.length(min=15)]) # レビューは15文字以内\n",
    "    \n",
    "@app.route('/')\n",
    "def index():\n",
    "    form = ReviewForm(request.form)\n",
    "    return render_template('reviewform.html', form=form)\n",
    "\n",
    "@app.route('/requests', methods=['POST'])\n",
    "def results():\n",
    "    form = ReviewForm(request.form)\n",
    "    if request.method == 'POST' and form.validate():\n",
    "        review = request.form['moviereview']\n",
    "        y, proba = classify(review)\n",
    "        return render_template('results.html',\n",
    "                                                  contents=review,\n",
    "                                                  prediction=y,\n",
    "                                                  probability=round(proba*100, 2))\n",
    "    return render_template('reviewform.html', form=form)\n",
    "\n",
    "@app.route('/thanks', methods=['POST'])\n",
    "def feedback():\n",
    "    feedback = request.form['feedback_button']\n",
    "    review = request.form['review']\n",
    "    prediction = request.form['prediction']\n",
    "    \n",
    "    inv_label = {'negative':0,\n",
    "                          'positive':1}\n",
    "    y = inv_label[prediction]\n",
    "    if feedback == 'Incorrect':\n",
    "        y = int(not(y))\n",
    "    train(review, y)\n",
    "    sqlite_entry(db, review, y)\n",
    "    return render_template('thanks.html')\n",
    "\n",
    "if __name__ == '__main__':\n",
    "    clf = update_model(db_path=db, model=clf, batch_size=10000)\n",
    "    app.run(debug=True)"
   ]
  },
  {
   "cell_type": "code",
   "execution_count": 43,
   "metadata": {
    "slideshow": {
     "slide_type": "subslide"
    }
   },
   "outputs": [],
   "source": [
    "# !mkdir movieclassfier/templates"
   ]
  },
  {
   "cell_type": "code",
   "execution_count": 50,
   "metadata": {
    "slideshow": {
     "slide_type": "subslide"
    }
   },
   "outputs": [
    {
     "name": "stdout",
     "output_type": "stream",
     "text": [
      "Overwriting movieclassfier/templates/reviewform.html\n"
     ]
    }
   ],
   "source": [
    "%%file movieclassfier/templates/reviewform.html\n",
    "<!doctype html>\n",
    "<html>\n",
    "    <head>\n",
    "        <link rel=\"stylesheet\"\n",
    "                    href=\"{{ url_for('static', filename='style.css')}}\">\n",
    "    </head>\n",
    "    <body>\n",
    "        <h2>Please enter your movie review:</h2>\n",
    "        \n",
    "        {% from \"_formhelpers.html\" import render_field %}\n",
    "        \n",
    "        <form method=post action=\"/requests\">\n",
    "            <dl>\n",
    "                {{  render_field(form.moviereview, cols='30', rows='10') }}\n",
    "            </dl>\n",
    "            <div>\n",
    "                <input type=submit value='Submit review' name='submit_btn'>\n",
    "            </div>\n",
    "        </form>\n",
    "    </body>\n",
    "</html>"
   ]
  },
  {
   "cell_type": "code",
   "execution_count": 49,
   "metadata": {
    "slideshow": {
     "slide_type": "subslide"
    }
   },
   "outputs": [
    {
     "name": "stdout",
     "output_type": "stream",
     "text": [
      "Overwriting movieclassfier/templates/results.html\n"
     ]
    }
   ],
   "source": [
    "%%file movieclassfier/templates/results.html\n",
    "<!doctype html>\n",
    "<html>\n",
    "    <head>\n",
    "        <titile>Movie Classification</title>\n",
    "        <link rel=\"stylesheet\"\n",
    "                    href=\"{{ url_for('static', filename='style.css')}}\">\n",
    "    </head>\n",
    "    <body>\n",
    "        <h3>Your movie review:</h3>\n",
    "            <div>{{ content }}</div>\n",
    "            \n",
    "        <h3>Prediction</h3>\n",
    "            <div>This movie review is <strong>{{ prediction }}</strong>\n",
    "                (probability: {{ probability }}%).</div>\n",
    "                \n",
    "            <div id='button'>\n",
    "                <form action=\"/thanks\" method=\"post\">\n",
    "                    <input type=submit value='Correct' name='feedback_button'>\n",
    "                    <input type=submit value='Incorrect' name='feedback_button'>\n",
    "                    <input type=hidden value='{{ prediction }}' name='prediction'>\n",
    "                    <input type=hidden value='{{ content }}' name='review'>\n",
    "                </form>\n",
    "            </div>\n",
    "            \n",
    "            <div id='button'>\n",
    "                <form action=\"/\">\n",
    "                    <input type=submit value='Submit another review'>\n",
    "                </form>\n",
    "            </div>\n",
    "    </body>\n",
    "</html>"
   ]
  },
  {
   "cell_type": "code",
   "execution_count": 47,
   "metadata": {
    "slideshow": {
     "slide_type": "subslide"
    }
   },
   "outputs": [],
   "source": [
    "# !mkdir movieclassfier/static"
   ]
  },
  {
   "cell_type": "code",
   "execution_count": 48,
   "metadata": {
    "slideshow": {
     "slide_type": "subslide"
    }
   },
   "outputs": [
    {
     "name": "stdout",
     "output_type": "stream",
     "text": [
      "Writing movieclassfier/static/style.css\n"
     ]
    }
   ],
   "source": [
    "%%file movieclassfier/static/style.css\n",
    "\n",
    "body{\n",
    "    width:600px;\n",
    "}\n",
    ".button{\n",
    "    padding-top: 20px;\n",
    "}"
   ]
  },
  {
   "cell_type": "code",
   "execution_count": 51,
   "metadata": {
    "slideshow": {
     "slide_type": "subslide"
    }
   },
   "outputs": [
    {
     "name": "stdout",
     "output_type": "stream",
     "text": [
      "Writing movieclassfier/templates/thanks.html\n"
     ]
    }
   ],
   "source": [
    "%%file movieclassfier/templates/thanks.html\n",
    "<!doctype html>\n",
    "<html>\n",
    "    <head>\n",
    "        <titile>Movie Classification</title>\n",
    "        <link rel=\"stylesheet\"\n",
    "                    href=\"{{ url_for('static', filename='style.css')}}\">\n",
    "    </head>\n",
    "    <body>\n",
    "        <h3>Thank you for your feedbacks!</h3>\n",
    "            <div id='button'>\n",
    "                <form action=\"/\">\n",
    "                    <input type=submit value='Submit another review'>\n",
    "                </form>\n",
    "            </div>\n",
    "    </body>\n",
    "</html>"
   ]
  },
  {
   "cell_type": "code",
   "execution_count": 52,
   "metadata": {
    "slideshow": {
     "slide_type": "subslide"
    }
   },
   "outputs": [
    {
     "name": "stdout",
     "output_type": "stream",
     "text": [
      "Writing movieclassfier/templates/_formhelpers.html\n"
     ]
    }
   ],
   "source": [
    "%%file movieclassfier/templates/_formhelpers.html\n",
    "\n",
    "{% macro render_field(field) %}\n",
    "    <dt>{{ field.label  }}\n",
    "    <dd>{{ field(**kwargs) | safe }}\n",
    "    {% if field.errors %}\n",
    "        <ul class=errors>\n",
    "        {% for error in field.errors %}\n",
    "            <li>{{  error  }}</li>\n",
    "        {% endfor %}\n",
    "        </ul>\n",
    "    {% endif %}\n",
    "    </dd>\n",
    "    </dt>\n",
    "{% endmacro %}"
   ]
  },
  {
   "cell_type": "markdown",
   "metadata": {
    "slideshow": {
     "slide_type": "slide"
    }
   },
   "source": [
    "## PythonAnywhereでのサーバ上でのアプリケーション実行"
   ]
  },
  {
   "cell_type": "markdown",
   "metadata": {
    "slideshow": {
     "slide_type": "subslide"
    }
   },
   "source": [
    "/home/kamonohashiperio/movieclassifier/app.py  \n",
    "\n",
    "virtualenvでsklearnを入れないと動かない。\n",
    "\n",
    "mkvirtualenv periove --python=/usr/bin/python3.8\n",
    "\n",
    "https://www.pythonanywhere.com/forums/topic/14032/"
   ]
  },
  {
   "cell_type": "markdown",
   "metadata": {
    "slideshow": {
     "slide_type": "subslide"
    }
   },
   "source": [
    "### PythonAnywhereでの手順\n",
    "+ 1.\n",
    "+ 2.\n",
    "+ 3."
   ]
  },
  {
   "cell_type": "code",
   "execution_count": 56,
   "metadata": {
    "slideshow": {
     "slide_type": "subslide"
    }
   },
   "outputs": [
    {
     "name": "stdout",
     "output_type": "stream",
     "text": [
      "Overwriting movieclassfier/update.py\n"
     ]
    }
   ],
   "source": [
    "%%file movieclassfier/update.py\n",
    "\n",
    "import pickle\n",
    "import sqlite3\n",
    "import numpy as np\n",
    "import os\n",
    "\n",
    "# ローカルディレクトリからHashingVectorizerをインポート\n",
    "from vectorizer import vect\n",
    "\n",
    "def update_model(db_path, model, batch_size=10000):\n",
    "    conn = sqlite3.connect(db_path)\n",
    "    c = conn.cursor()\n",
    "    c.execute('SELECT * from review_db')\n",
    "    \n",
    "    results = c.fetchmany(batch_size)\n",
    "    while results:\n",
    "        data = np.array(results)\n",
    "        X = data[:, 0]\n",
    "        y = data[:, 1].astype(int)\n",
    "        classes = np.array([0, 1])\n",
    "        X_train = vect.transform(X)\n",
    "        model.partial_fit(X_train, y, classes=classes)\n",
    "        results = c.fetchmany(batch_size)\n",
    "        \n",
    "    conn.close()\n",
    "    return model\n",
    "\n",
    "cur_dir = os.path.dirname(__file__)\n",
    "clf = pickle.load(open(os.path.join(cur_dir, 'pkl_objects', 'classifier.pkl'), 'rb'))\n",
    "db = os.path.join(cur_dir, 'reviews.sqlite')\n",
    "\n",
    "clf = update_model(db_path=db, model=clf, batch_size=10000)\n",
    "\n",
    "# classifier.pklのファイルを永続的に更新したい場合は以下のコードのコメントを解除\n",
    "# pickle.dump(clf, open(os.path.join(cur_dir, 'pkl_objects', 'classifier.pkl'), 'wb'), protocol=4)"
   ]
  },
  {
   "cell_type": "code",
   "execution_count": null,
   "metadata": {},
   "outputs": [],
   "source": []
  },
  {
   "cell_type": "code",
   "execution_count": null,
   "metadata": {},
   "outputs": [],
   "source": []
  },
  {
   "cell_type": "code",
   "execution_count": null,
   "metadata": {},
   "outputs": [],
   "source": []
  }
 ],
 "metadata": {
  "celltoolbar": "Slideshow",
  "kernelspec": {
   "display_name": "Python 3",
   "language": "python",
   "name": "python3"
  },
  "language_info": {
   "codemirror_mode": {
    "name": "ipython",
    "version": 3
   },
   "file_extension": ".py",
   "mimetype": "text/x-python",
   "name": "python",
   "nbconvert_exporter": "python",
   "pygments_lexer": "ipython3",
   "version": "3.7.3"
  }
 },
 "nbformat": 4,
 "nbformat_minor": 4
}
