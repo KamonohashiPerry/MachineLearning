{
 "cells": [
  {
   "cell_type": "code",
   "execution_count": 58,
   "metadata": {
    "slideshow": {
     "slide_type": "skip"
    }
   },
   "outputs": [],
   "source": [
    "from IPython.display import Image\n",
    "from IPython.core.display import HTML \n",
    "\n",
    "import warnings\n",
    "warnings.filterwarnings('ignore')"
   ]
  },
  {
   "cell_type": "markdown",
   "metadata": {
    "slideshow": {
     "slide_type": "slide"
    }
   },
   "source": [
    "## [DSO] Machine Learning Seminar Vol.8\n",
    "2020-09-xx  \n",
    "SKUE"
   ]
  },
  {
   "cell_type": "code",
   "execution_count": 59,
   "metadata": {},
   "outputs": [
    {
     "data": {
      "text/html": [
       "<img src=\"https://image.yodobashi.com/product/100/000/009/002/935/105/100000009002935105_10204.jpg\"/>"
      ],
      "text/plain": [
       "<IPython.core.display.Image object>"
      ]
     },
     "execution_count": 59,
     "metadata": {},
     "output_type": "execute_result"
    }
   ],
   "source": [
    "Image(url=\"https://image.yodobashi.com/product/100/000/009/002/935/105/100000009002935105_10204.jpg\")"
   ]
  },
  {
   "cell_type": "markdown",
   "metadata": {},
   "source": [
    "# 機械学習の適用2 - Webアプリケーション\n",
    "+ 訓練済みの機械学習モデルの保存\n",
    "+ SQLiteの活用\n",
    "+ Flaskを用いたWebアプリケーションの開発\n",
    "+ デプロイ"
   ]
  },
  {
   "cell_type": "markdown",
   "metadata": {},
   "source": [
    "## 学習済みのscikit-learnの推定器をシリアライズする"
   ]
  },
  {
   "cell_type": "markdown",
   "metadata": {},
   "source": [
    "第8章で扱ったアウトオブコア学習の結果をpickleで保存しておく。"
   ]
  },
  {
   "cell_type": "code",
   "execution_count": 1,
   "metadata": {},
   "outputs": [],
   "source": [
    "# import pickle\n",
    "# import os\n",
    "# dest = os.path.join('movieclassfier', 'pkl_objects')\n",
    "\n",
    "# if not os.path.exists(dest):\n",
    "#     os.makedirs(dest)\n",
    "    \n",
    "# pickle.dump(stop,\n",
    "#                        open(os.path.join(dest, 'stopwords.pkl'), 'wb'),\n",
    "#                        protocol=4)\n",
    "\n",
    "# pickle.dump(clf,\n",
    "#                        open(os.path.join(dest, 'classifier.pkl'), 'wb'),\n",
    "#                        protocol=4)"
   ]
  },
  {
   "cell_type": "markdown",
   "metadata": {},
   "source": [
    "%%file  \n",
    "を使えばjupyter notebookで.pyファイルを生成できる。"
   ]
  },
  {
   "cell_type": "code",
   "execution_count": 2,
   "metadata": {},
   "outputs": [
    {
     "name": "stdout",
     "output_type": "stream",
     "text": [
      "Writing movieclassfier/vectorizer.py\n"
     ]
    }
   ],
   "source": [
    "%%file movieclassfier/vectorizer.py\n",
    "\n",
    "from sklearn.feature_extraction.text import HashingVectorizer\n",
    "import re\n",
    "import os\n",
    "import pickle\n",
    "\n",
    "cur_dir = os.path.dirname(__file__)\n",
    "stop = pickle.load(open(os.path.join(cur_dir,\n",
    "                                            'pkl_objects',\n",
    "                                            'stopwords.pkl'), 'rb'))\n",
    "\n",
    "def tokenizer(text):\n",
    "    text = re.sub('<[^>]*>', '', text)\n",
    "    emoticons = re.findall('(?::|;|=)(?:-)?(?:\\)|\\(|D|P)', text.lower())\n",
    "    text = re.sub('[\\W]+', ' ', text.lower()) + '  '.join(emoticons).replace('-', '')\n",
    "    tokenized = [w for w in text.split() if w not in stop ]\n",
    "    return tokenized\n",
    "\n",
    "vect = HashingVectorizer(decode_error='ignore',\n",
    "                                            n_features=2**21,\n",
    "                                            preprocessor=None,\n",
    "                                            tokenizer=tokenizer)"
   ]
  },
  {
   "cell_type": "markdown",
   "metadata": {},
   "source": [
    "以下はmovieclassfierのディレクトリ下でpythonを立ち上げて実行"
   ]
  },
  {
   "cell_type": "code",
   "execution_count": 3,
   "metadata": {},
   "outputs": [],
   "source": [
    "# import pickle\n",
    "# import re\n",
    "# import os\n",
    "# from vectorizer import vect\n",
    "# clf = pickle.load(open(os.path.join('pkl_objects', 'classifier.pkl'), 'rb'))\n",
    "\n",
    "\n",
    "# import numpy as np\n",
    "# label = {0:'negative',\n",
    "#               1:'positive'}\n",
    "\n",
    "# example = ['I love this movie']\n",
    "# X = vect.transform(example)\n",
    "# print('Prediction: %s\\nProbability: %.2f%%' \\\n",
    "#       %(label[clf.predict(X)[0]],np.max(clf.predict_proba(X))*100))"
   ]
  },
  {
   "cell_type": "markdown",
   "metadata": {},
   "source": [
    "## データストレージとしてSQLiteデータベースを設定する\n",
    "+ SQLiteとは\n",
    " + OSSのSQLデータベース\n",
    " + サーバは用意しなくてもいい。\n",
    " + 全てが1つのファイルに含まれたデータベースと考えることができる。"
   ]
  },
  {
   "cell_type": "markdown",
   "metadata": {},
   "source": [
    "テーブルを生成して、レコードを2件追加する。"
   ]
  },
  {
   "cell_type": "code",
   "execution_count": 7,
   "metadata": {},
   "outputs": [],
   "source": [
    "import sqlite3\n",
    "import os\n",
    "\n",
    "if os.path.exists('reviews.sqlite'):\n",
    "    os.remove('reviews.sqlite')\n",
    "    \n",
    "conn = sqlite3.connect('reviews.sqlite')\n",
    "c = conn.cursor()\n",
    "c.execute('CREATE TABLE review_db (review TEXT, sentiment INTEGER, date TEXT) ')\n",
    "example1 = 'I love this movie'\n",
    "c.execute(\"INSERT INTO review_db (review, sentiment, date) VALUES\"\\\n",
    "                     \"(?, ?, DATETIME('now'))\", (example1, 1))\n",
    "\n",
    "example2 = 'I disliked this movie'\n",
    "c.execute(\"INSERT INTO review_db (review, sentiment, date) VALUES\"\\\n",
    "                     \"(?, ?, DATETIME('now'))\", (example2, 0))\n",
    "conn.commit()\n",
    "conn.close()"
   ]
  },
  {
   "cell_type": "markdown",
   "metadata": {},
   "source": [
    "SQLiteに保存したデータを読み込む"
   ]
  },
  {
   "cell_type": "code",
   "execution_count": 8,
   "metadata": {},
   "outputs": [
    {
     "name": "stdout",
     "output_type": "stream",
     "text": [
      "[('I love this movie', 1, '2020-09-19 08:27:24'), ('I disliked this movie', 0, '2020-09-19 08:27:24')]\n"
     ]
    }
   ],
   "source": [
    "conn = sqlite3.connect('reviews.sqlite')\n",
    "c = conn.cursor()\n",
    "c.execute(\"SELECT * FROM review_db WHERE date\"\\\n",
    "                   \" BETWEEN '2017-01-01 00:00:00' AND DATETIME('now') \")\n",
    "results = c.fetchall()\n",
    "conn.close()\n",
    "print(results)"
   ]
  },
  {
   "cell_type": "markdown",
   "metadata": {},
   "source": [
    "## Flaskを使ってWebアプリケーションを開発する\n",
    "+ Flaskとは\n",
    " + 軽量なWebアプリケーションのフレームワーク"
   ]
  },
  {
   "cell_type": "code",
   "execution_count": 10,
   "metadata": {},
   "outputs": [],
   "source": [
    "# !pip install flask"
   ]
  },
  {
   "cell_type": "code",
   "execution_count": 12,
   "metadata": {},
   "outputs": [],
   "source": [
    "# !mkdir 1st_flask_app_1"
   ]
  },
  {
   "cell_type": "code",
   "execution_count": 14,
   "metadata": {},
   "outputs": [],
   "source": [
    "# !mkdir 1st_flask_app_1/templates"
   ]
  },
  {
   "cell_type": "code",
   "execution_count": 15,
   "metadata": {},
   "outputs": [
    {
     "name": "stdout",
     "output_type": "stream",
     "text": [
      "Writing 1st_flask_app_1/app.py\n"
     ]
    }
   ],
   "source": [
    "%%file 1st_flask_app_1/app.py\n",
    "\n",
    "from flask import Flask, render_template\n",
    "\n",
    "app = Flask(__name__) # 初期化して、テンプレが同じディレクトリ内で見つかるようにしている。\n",
    "@app.route('/') # インデックス関数が実行すべきURLを指定している。\n",
    "\n",
    "def index():\n",
    "    return render_template('first_app.html') # レンダリング\n",
    "\n",
    "if __name__ == '__main__':\n",
    "    app.run() # サーバ上のアプリケーションを実行"
   ]
  },
  {
   "cell_type": "code",
   "execution_count": 17,
   "metadata": {},
   "outputs": [
    {
     "name": "stdout",
     "output_type": "stream",
     "text": [
      "Overwriting 1st_flask_app_1/templates/first_app.html\n"
     ]
    }
   ],
   "source": [
    "%%file 1st_flask_app_1/templates/first_app.html\n",
    "<!doctype html>\n",
    "<html>\n",
    "    <head>\n",
    "        <title>First app</title>\n",
    "    </head>\n",
    "        <div>Hi, this is my first Flaskweb app!</div>\n",
    "    </body>\n",
    "</html>"
   ]
  },
  {
   "cell_type": "code",
   "execution_count": 18,
   "metadata": {},
   "outputs": [],
   "source": [
    "# %%file 1st_flask_app_1/templates/first_app.html\n",
    "# <!doctype html>\n",
    "# <html>\n",
    "#     <head>\n",
    "#         <title>First app</title>\n",
    "#     </head>\n",
    "#         A4用紙1枚にまとめるイメージでメモを残そうという取り組み。\n",
    "\n",
    "# 今回は機械学習でとりわけ、回帰の問題を扱うことが仕事であった際に参照できるメモの一つとして残したい。\n",
    "# 先日、<a target=\"_blank\" href=\"https://github.com/catboost/catboost/releases/tag/v0.24.1\" rel=\"noopener noreferrer\">Catboostのドキュメント</a>に参考文献として<a target=\"_blank\" href=\"https://arxiv.org/pdf/2006.10562.pdf\" rel=\"noopener noreferrer\">Uncertainty in Gradient Boosting via Ensembles</a>の存在を知った。業務において、価格の予測とか、期間の予測とかマーケティングのデータでも良く扱うものなので、分類だけでなく回帰についてもバランス良く知見を貯めたいところ。\n",
    "# <h2>目次</h2>\n",
    "# <a href=\"#anchor1\">Abstract</a>\n",
    "# <a href=\"#anchor2\">Introduction</a>\n",
    "# <a href=\"#anchor3\">Background and related work</a>\n",
    "# <a href=\"#anchor4\">Generating ensembles of GDBT models</a>\n",
    "# <a href=\"#anchor5\">Experiments on Synthetic Data</a>\n",
    "# <a href=\"#anchor6\">Experiments on classfication and regression datasets</a>\n",
    "# <a href=\"#anchor7\">Conclusion</a>\n",
    "# <a href=\"#anchor8\">Broader Impact</a>\n",
    "# <h2><a id=\"anchor1\">Abstract</a></h2>\n",
    "# 機械学習のモデルは予測において点推定しかしないが、実務上は不確実性を定量化したいニーズがある。この研究では、予測の不確実性推定値を導出するためのアンサンブルベースの枠組みが紹介されている。予測における不確実性は「データに起因する複雑さとノイズの不確実性」「特徴空間において、情報がないことに起因する不確実性」に分解される。\n",
    "# 手法としては確率的勾配ブースティングと確率的勾配ランジュバンブースティング(SGLB)が扱われている。SGLBは一つの勾配ブースティングモデルからのアンサンブルを可能にし、モデルの複雑さを減らすことができる。また、予測性能の向上について様々なデータセットを使って示されている。\n",
    "# <h2><a id=\"anchor2\">Introduction</a></h2>\n",
    "# 一般的な勾配ブースティングについて、回帰の際に点推定しか返さないことを挙げている。NGBoostについても言及している。NGBoostなら、勾配ブースト決定木(GBDT)を訓練して平均値を返せるとのこと。ただし、データの不確実性に起因する不確実性しか捕捉できないという問題がある。モデルに関する知識の欠落によって生じる不確実性に関して扱うことはできない。近年ではニューラルネットワークを用いて知識を起因とする不確実性の研究がなされているらしい。今回扱う、アンサンブルアプローチは全体の不確実性を「データの不確実性」と「知識の不確実性」に分解する。扱うモデルは確率的勾配ブースティングと、確率的勾配ランジュバンブースティング(SGLB)となっており、SGLBの利点として、漸近的に真のベイジアン事後分布からサンプリングことが挙げられている。また、SGLBによって1つの勾配ブースティングのみをモデルを使ってアンサンブルをすることができるとされている。これにより計算の複雑さを減らすことができる。結果として、予測性能が高まり、誤りやドメインの外側のデータの入力の検知ができるようになったとされている。\n",
    "# <h2><a id=\"anchor3\">Background and related work</a></h2>\n",
    "# <ul>\n",
    "#  \t<li>ベイジアンのアプローチ\n",
    "# ベイズ統計学を使っている。予測の多様性について考察することで、知識の不確実性の推定を行うことができるとしている。さらに、確率モデルのアンサンブルを行なっている。アンサンブルモデルの不一致さ、広がりの程度が知識の不確実性につながるとしている。事後分布の近似のための研究が色々となされ、ニューラルネットワークのモデルなども使われた。モデルの事後分布をもとに、予測の事後分布を手に入れる。予測の事後分布のエントロピーが、予測の不確実性を推定する。知識の不確実性は、全ての不確実性からデータの不確実性の期待値を差し引いた相互情報量で表される。確率的な回帰モデルのアンサンブルを考える時、予測事後分布のエントロピーと相互情報量を推定することができない。代わりに総変動の法則に従ってなら推定することができるが、1~2次のモーメントに基づいているだけなので、高次元での不確実性に関する見落としが起きうる。</li>\n",
    "#  \t<li>勾配ブースティング\n",
    "# 弱学習器は浅い決定木によって形成される。ただ、勾配ブースティングの回帰モデルは点での予測しかしない。予測の不確実性に関する研究はほとんどされていない。近年、NGBoost (Natural Gradient Boosting)が登場し、予測の不確かさを推定することができるようになった。NGBoostは入力変数xが与えられたもとでの、出力変数の条件付き事後分布の推定を行ってくれる。</li>\n",
    "# </ul>\n",
    "# <h2><a id=\"anchor4\">Generating ensembles of GDBT models</a></h2>\n",
    "# NGBoostはデータの不確実性を捉えることができるものの、知識の不確実性については捉えることができない。\n",
    "# 知識の不確実性を捉えるための方法としては、事後分布からサンプリングされた予測モデル(GBDT)のアンサンブルが挙げられる。\n",
    "# そもそもGBDT自身が木のアンサンブルであるが、そのGBDTのアンサンブルを考える。\n",
    "\n",
    "# アンサンブルをする方法としては、確率的勾配ブースティングのアプローチで生成された独立なモデルを扱うことがあげられている。\n",
    "# もとのモデルにノイズを注入して、出力をぶれさせることで予測の分布を得ようとしている。ただ、これは事後分布の推定を保証しないらしい。\n",
    "\n",
    "# ただし、確率的勾配ランジュバンブースティング(SGLB)アルゴリズムを用いることで真の事後分布からGBDTモデルをサンプリングすることができるらしい。\n",
    "# 非凸の損失関数においての最適化の収束のために、確率的勾配ランジュバン力学が用いられているとのこと。ランジュバン力学ってなんだろうか。\n",
    "\n",
    "# 確率的勾配ブースティングとの違いは2つある。\n",
    "# <ul>\n",
    "#  \t<li>1.ガウシアンノイズが勾配に明示的に加えられている。\n",
    "# <ul>\n",
    "#  \t<li>正規分布の平均は0で分散に逆拡散温度というものがある。ノイズをコントロールするものであることに間違いはない。確かに物理っぽい。STANのリープフロッグとかを思い出した。このノイズが最適値を見つけるのに役立つらしい。</li>\n",
    "# </ul>\n",
    "# </li>\n",
    "#  \t<li>2.ブースティングモデルの更新式に正則化パラメータを設けている。\n",
    "# <ul>\n",
    "#  \t<li>定常分布に弱く収束していくマルコフ連鎖にパラメータが従うらしい。</li>\n",
    "# </ul>\n",
    "# </li>\n",
    "# </ul>\n",
    "# 対数尤度に正則化項が残るものの、比例するらしく、真の事後分布に従うと見なせるらしい。\n",
    "\n",
    "# 確率的勾配ブースティングや確率的勾配ランジュバンブースティングは計算する上で重大なオーバーヘッドが生じるらしくイタレーションを減らすなど質を下げたり複雑さを増したりする必要があるとのこと。それを避けるために、仮想SGLBアンサンブルというものが提案されている。\n",
    "\n",
    "# SGLBアルゴリズムのイタレーションごとのパラメータは弱く定常に収束するマルコフ連鎖に従うことから、それらをモデルのアンサンブルと見なす。\n",
    "# しかしながらモデル同士が強く相関してしまうので、アンサンブルの質が下がる。ただし、各々のパラメータのK番目の集合のみを使うことで克服できるとある。\n",
    "# K番目のパラメータ集合のみのモデルで構築したアンサンブルを仮想アンサンブルと呼んでいる。\n",
    "# <h2><a id=\"anchor5\">Experiments on Synthetic Data</a></h2>\n",
    "# ここではGBDTモデルのアンサンブルアルゴリズムを合成データを用いて実験している。\n",
    "# 合成データとしては、以下の2つの1次元データセットが扱われている。\n",
    "# <ul>\n",
    "#  \t<li>合成データセット\n",
    "# <ul>\n",
    "#  \t<li>分散が増加していく絶対値x</li>\n",
    "#  \t<li>分散が減少していく絶対値x</li>\n",
    "# </ul>\n",
    "# </li>\n",
    "# </ul>\n",
    "# <ul>\n",
    "#  \t<li>比較するモデル\n",
    "# <ul>\n",
    "#  \t<li>SGLB</li>\n",
    "#  \t<li>SGB</li>\n",
    "#  \t<li>vSGLB（仮想SGLB）：SGLBから生成</li>\n",
    "# </ul>\n",
    "# </li>\n",
    "# </ul>\n",
    "# <ul>\n",
    "#  \t<li>結果\n",
    "# <ul>\n",
    "#  \t<li>分散が減少していく絶対値xのケースだと、データの不確実性に関して、SGBではサンプルの領域外で過剰に不確実性が増してしまう。</li>\n",
    "#  \t<li>分散が増加していく絶対値xのケースだと、知識の不確実性に関して、SGBではサンプルの領域外で不確実性が増してしまう。</li>\n",
    "# </ul>\n",
    "# </li>\n",
    "# </ul>\n",
    "# サンプルの領域外のほうが、領域内よりも不確実性が大きいはずだが、実験データではそうではないらしい。\n",
    "# <h2><a id=\"anchor6\">Experiments on classfication and regression datasets</a></h2>\n",
    "# GBDTモデルのアンサンブルアルゴリズムを色々なデータのいろいろなタスク（回帰、分類）で予測性能をみている。\n",
    "# <ul>\n",
    "#  \t<li>タスク\n",
    "# <ul>\n",
    "#  \t<li>回帰タスク</li>\n",
    "#  \t<li>分類タスク</li>\n",
    "# </ul>\n",
    "# </li>\n",
    "# </ul>\n",
    "# <ul>\n",
    "#  \t<li>データセット\n",
    "# <ul>\n",
    "#  \t<li>18種類くらいある。（Wineとか、解約のデータとかAmazonのデータとかいろいろ）</li>\n",
    "# </ul>\n",
    "# </li>\n",
    "# </ul>\n",
    "# <ul>\n",
    "#  \t<li>比較するモデル\n",
    "# <ul>\n",
    "#  \t<li>SGB：このアンサンブルは10個の独立したモデルで、それぞれ1K本の木を持つ。</li>\n",
    "#  \t<li>SGLB：このアンサンブルは10個の独立したモデルで、それぞれ1K本の木を持つ。</li>\n",
    "#  \t<li>vSGLB（仮想SGLB）：[500, 1000]の区間から50番目のモデルをアンサンブルに追加していっている。</li>\n",
    "# </ul>\n",
    "# </li>\n",
    "# </ul>\n",
    "# <ul>\n",
    "#  \t<li>どう実装しているか\n",
    "# <ul>\n",
    "#  \t<li>CatBoostライブラリをベース</li>\n",
    "#  \t<li>分類では二値分類のクラスの確率分布を生成</li>\n",
    "#  \t<li>回帰では正規分布の平均と分散を生成</li>\n",
    "#  \t<li>負の対数尤度を最適化している</li>\n",
    "#  \t<li>ハイパーパラメータはランダムサーチ</li>\n",
    "# </ul>\n",
    "# </li>\n",
    "# </ul>\n",
    "# <ul>\n",
    "#  \t<li>何の指標を見ているか\n",
    "# <ul>\n",
    "#  \t<li>負の対数尤度</li>\n",
    "#  \t<li>誤分類率</li>\n",
    "#  \t<li>RMSE</li>\n",
    "#  \t<li>不確実性の合計、知識の不確実性：Prediction-Rejection Ratio(PPR)というもので測る。どれくらい不確実性が誤差と順番と相関するかを測るらしい。100が最大で、ランダムだと0になる。</li>\n",
    "#  \t<li>AUC：領域外のデータに関する評価に用いる。領域外データは合成して生成した。</li>\n",
    "# </ul>\n",
    "# </li>\n",
    "# </ul>\n",
    "# <ul>\n",
    "# <ul>\n",
    "#  \t<li>分類：負の対数尤度（NLL）\n",
    "# <ul>\n",
    "#  \t<li>アンサンブル手法に軍配が上がるが、違いは軽微である。</li>\n",
    "#  \t<li>仮想アンサンブルが勝るときがある。</li>\n",
    "# </ul>\n",
    "# </li>\n",
    "#  \t<li>分類：誤分類率\n",
    "# <ul>\n",
    "#  \t<li>アンサンブル手法に軍配が上がるが、違いは軽微である。</li>\n",
    "# </ul>\n",
    "# </li>\n",
    "#  \t<li>回帰：RMSE\n",
    "# <ul>\n",
    "#  \t<li>アンサンブル手法に軍配が上がるが、違いは軽微である。</li>\n",
    "# </ul>\n",
    "# </li>\n",
    "# </ul>\n",
    "# <ul>\n",
    "#  \t<li>SGBやSGLBはパフォーマンスが良い。\n",
    "# <ul></ul>\n",
    "# </li>\n",
    "#  \t<li>vSGLBはわずかにパフォーマンスが悪い。自己相関があるなかでアンサンブルしているためパフォーマンス悪化が生じていると考えられる。\n",
    "# <ul>\n",
    "#  \t<li>ただ単一モデルのものよりかは良い。</li>\n",
    "#  \t<li>コストをかけずに精度を上げたいという観点ではvSGLBはよい選択肢となる。</li>\n",
    "# </ul>\n",
    "# </li>\n",
    "# </ul>\n",
    "# </ul>\n",
    "# <h2><a id=\"anchor7\">Conclusion</a></h2>\n",
    "# この論文では、GBDTを用いたアンサンブルベースの不確実性推定モデルが扱われた。SGB、SGLB、仮想SGLBについて合成データや、分類や回帰のタスクにおいて比較した結果、アンサンブル手法が精度面で秀でているわけではないことが示された。\n",
    "# しかし、知識の不確実性（モデルで十分に想定できていない不確実性）を扱う際にアンサンブル手法が役立つことがわかった。\n",
    "# 知識の不確実性を扱う場合に、計算コストの少ない手法として仮想のSGLBが提案され、精度において十分ではないが、低コストで知識の不確実性を扱う観点において有用であることが示された。\n",
    "# <h2><a id=\"anchor8\">Broader Impact</a></h2>\n",
    "# <ul>\n",
    "#  \t<li>不確実性の推定は、機械学習モデルをより安全に、より信頼できるものにするという観点で重要。</li>\n",
    "#  \t<li>GBDT系の手法はニューラルネットワーク系の手法よりも計算コストが低くて良い。</li>\n",
    "#  \t<li>不確実性の推定が貧弱なものとならないように引き続き研究が求められる。</li>\n",
    "# </ul>\n",
    "# <h2>追記</h2>\n",
    "# 不確実性について扱われた、ソースコードの載っている記事を集める。\n",
    "# <ul>\n",
    "#  \t<li><a target=\"_blank\" href=\"https://brendanhasz.github.io/2018/12/15/quantile-regression\" rel=\"noopener noreferrer\">Prediction Intervals for Taxi Fares using Quantile Loss</a></li>\n",
    "# </ul>\n",
    "#     </body>\n",
    "# </html>"
   ]
  },
  {
   "cell_type": "code",
   "execution_count": 20,
   "metadata": {},
   "outputs": [],
   "source": [
    "# !pip install wtforms"
   ]
  },
  {
   "cell_type": "code",
   "execution_count": 21,
   "metadata": {},
   "outputs": [],
   "source": [
    "# !mkdir 1st_flask_app_2"
   ]
  },
  {
   "cell_type": "code",
   "execution_count": 23,
   "metadata": {},
   "outputs": [],
   "source": [
    "# !mkdir 1st_flask_app_2/static"
   ]
  },
  {
   "cell_type": "code",
   "execution_count": 24,
   "metadata": {},
   "outputs": [],
   "source": [
    "# !mkdir 1st_flask_app_2/templates"
   ]
  },
  {
   "cell_type": "code",
   "execution_count": 30,
   "metadata": {},
   "outputs": [
    {
     "name": "stdout",
     "output_type": "stream",
     "text": [
      "Overwriting 1st_flask_app_2/app.py\n"
     ]
    }
   ],
   "source": [
    "%%file 1st_flask_app_2/app.py\n",
    "\n",
    "from flask import Flask, render_template, request\n",
    "from wtforms import Form, TextAreaField, validators\n",
    "\n",
    "app = Flask(__name__)\n",
    "\n",
    "class HelloForm(Form):\n",
    "    sayhello = TextAreaField(' ', [validators.DataRequired()]) # テキストフィールドの拡張\n",
    "    \n",
    "@app.route('/')\n",
    "def index():\n",
    "    form = HelloForm(request.form)\n",
    "    return render_template('first_app.html', form=form)\n",
    "\n",
    "@app.route('/hello', methods=['POST'])\n",
    "def hello():\n",
    "    form = HelloForm(request.form)\n",
    "    if request.method == 'POST' and form.validate(): # POSTメソッドを使ってフォームのデータをサーバに送信する。\n",
    "        name = request.form['sayhello']\n",
    "        return render_template('hello.html', name=name)\n",
    "    \n",
    "    return render_template('first_app.html', form=form)\n",
    "\n",
    "if __name__ == '__main__':\n",
    "    app.run(debug=True)"
   ]
  },
  {
   "cell_type": "code",
   "execution_count": 35,
   "metadata": {},
   "outputs": [
    {
     "name": "stdout",
     "output_type": "stream",
     "text": [
      "Writing 1st_flask_app_2/templates/_formhelpers.html\n"
     ]
    }
   ],
   "source": [
    "%%file 1st_flask_app_2/templates/_formhelpers.html\n",
    "\n",
    "{% macro render_field(field) %}\n",
    "    <dt>{{ field.label  }}\n",
    "    <dd>{{ field(**kwargs) | safe }}\n",
    "    {% if field.errors %}\n",
    "        <ul class=errors>\n",
    "        {% for error in field.errors %}\n",
    "            <li>{{  error  }}</li>\n",
    "        {% endfor %}\n",
    "        </ul>\n",
    "    {% endif %}\n",
    "    </dd>\n",
    "    </dt>\n",
    "{% endmacro %}"
   ]
  },
  {
   "cell_type": "code",
   "execution_count": 36,
   "metadata": {},
   "outputs": [
    {
     "name": "stdout",
     "output_type": "stream",
     "text": [
      "Overwriting 1st_flask_app_2/static/style.css\n"
     ]
    }
   ],
   "source": [
    "%%file 1st_flask_app_2/static/style.css\n",
    "\n",
    "body{\n",
    "    font-size: 2em;\n",
    "}"
   ]
  },
  {
   "cell_type": "code",
   "execution_count": 37,
   "metadata": {},
   "outputs": [
    {
     "name": "stdout",
     "output_type": "stream",
     "text": [
      "Overwriting 1st_flask_app_2/templates/first_app.html\n"
     ]
    }
   ],
   "source": [
    "%%file 1st_flask_app_2/templates/first_app.html\n",
    "<!doctype html>\n",
    "<html>\n",
    "    <head>\n",
    "        <titile>First app</title>\n",
    "        <link rel=\"stylesheet\"\n",
    "                    href=\"{{ url_for('static', filename='style.css')}}\">\n",
    "    </head>\n",
    "    <body>\n",
    "    {% from \"_formhelpers.html\" import render_field %}\n",
    "    \n",
    "    <div>Whats your name?</div>\n",
    "    <form method=post action=\"/hello\">\n",
    "        <dl>\n",
    "            {{ render_field(form.sayhello) }}\n",
    "        </dl>\n",
    "        <input type=submit value='Say Hello' name='submit_btn'>\n",
    "    </form>\n",
    "    </body>\n",
    "</html>"
   ]
  },
  {
   "cell_type": "code",
   "execution_count": 38,
   "metadata": {},
   "outputs": [
    {
     "name": "stdout",
     "output_type": "stream",
     "text": [
      "Overwriting 1st_flask_app_2/templates/hello.html\n"
     ]
    }
   ],
   "source": [
    "%%file 1st_flask_app_2/templates/hello.html\n",
    "<!doctype html>\n",
    "<html>\n",
    "    <head>\n",
    "        <titile>First app</title>\n",
    "        <link rel=\"stylesheet\"\n",
    "                    href=\"{{ url_for('static', filename='style.css')}}\">\n",
    "    </head>\n",
    "    <body>\n",
    "        <div>Hello {{ name }}</div>\n",
    "    </body>\n",
    "</html>"
   ]
  },
  {
   "cell_type": "code",
   "execution_count": 57,
   "metadata": {},
   "outputs": [
    {
     "name": "stdout",
     "output_type": "stream",
     "text": [
      "Overwriting movieclassfier/app.py\n"
     ]
    }
   ],
   "source": [
    "%%file movieclassfier/app.py\n",
    "\n",
    "from flask import Flask, render_template, request\n",
    "from wtforms import Form, TextAreaField, validators\n",
    "import pickle\n",
    "import sqlite3\n",
    "import os\n",
    "import numpy as np\n",
    "\n",
    "# ローカルディレクトリからHashingVectorizerをインポート\n",
    "from vectorizer import vect\n",
    "\n",
    "# ローカルディレクトリからupdate関数をインポート\n",
    "from update import update_model\n",
    "\n",
    "app = Flask(__name__)\n",
    "\n",
    "####### 分類器の準備\n",
    "cur_dir = os.path.dirname(__file__)\n",
    "clf = pickle.load(open(os.path.join(cur_dir, 'pkl_objects', 'classifier.pkl'), 'rb'))\n",
    "db = os.path.join(cur_dir, 'reviews.sqlite')\n",
    "\n",
    "def classify(document):\n",
    "    label = {0: 'negative',\n",
    "                  1: 'positive'}\n",
    "    X = vect.transform([document])\n",
    "    y = clf.predict(X)[0]\n",
    "    proba = clf.predict_proba(X).max()\n",
    "    return label[y], proba\n",
    "\n",
    "def train(document, y):\n",
    "    X = vect.transform([document])\n",
    "    clf.partial_fit(X, [y])\n",
    "    \n",
    "def sqlite_entry(path, document, y):\n",
    "    conn = sqlite3.connect(path)\n",
    "    c = conn.cursor()\n",
    "    c.execute(\"INSERT INTO review_db (review, sentiment, date)\"\\\n",
    "                        \" VALUES (?, ?, DATETIME('now'))\", (document, y))\n",
    "    conn.commit()\n",
    "    conn.close()\n",
    "    \n",
    "    \n",
    "###### Flask\n",
    "class ReviewForm(Form):\n",
    "    moviereview = TextAreaField(' ',\n",
    "                                                           [validators.DataRequired(),\n",
    "                                                               validators.length(min=15)]) # レビューは15文字以内\n",
    "    \n",
    "@app.route('/')\n",
    "def index():\n",
    "    form = ReviewForm(request.form)\n",
    "    return render_template('reviewform.html', form=form)\n",
    "\n",
    "@app.route('/requests', methods=['POST'])\n",
    "def results():\n",
    "    form = ReviewForm(request.form)\n",
    "    if request.method == 'POST' and form.validate():\n",
    "        review = request.form['moviereview']\n",
    "        y, proba = classify(review)\n",
    "        return render_template('results.html',\n",
    "                                                  contents=review,\n",
    "                                                  prediction=y,\n",
    "                                                  probability=round(proba*100, 2))\n",
    "    return render_template('reviewform.html', form=form)\n",
    "\n",
    "@app.route('/thanks', methods=['POST'])\n",
    "def feedback():\n",
    "    feedback = request.form['feedback_button']\n",
    "    review = request.form['review']\n",
    "    prediction = request.form['prediction']\n",
    "    \n",
    "    inv_label = {'negative':0,\n",
    "                          'positive':1}\n",
    "    y = inv_label[prediction]\n",
    "    if feedback == 'Incorrect':\n",
    "        y = int(not(y))\n",
    "    train(review, y)\n",
    "    sqlite_entry(db, review, y)\n",
    "    return render_template('thanks.html')\n",
    "\n",
    "if __name__ == '__main__':\n",
    "    clf = update_model(db_path=db, model=clf, batch_size=10000)\n",
    "    app.run(debug=True)"
   ]
  },
  {
   "cell_type": "code",
   "execution_count": 43,
   "metadata": {},
   "outputs": [],
   "source": [
    "# !mkdir movieclassfier/templates"
   ]
  },
  {
   "cell_type": "code",
   "execution_count": 50,
   "metadata": {},
   "outputs": [
    {
     "name": "stdout",
     "output_type": "stream",
     "text": [
      "Overwriting movieclassfier/templates/reviewform.html\n"
     ]
    }
   ],
   "source": [
    "%%file movieclassfier/templates/reviewform.html\n",
    "<!doctype html>\n",
    "<html>\n",
    "    <head>\n",
    "        <link rel=\"stylesheet\"\n",
    "                    href=\"{{ url_for('static', filename='style.css')}}\">\n",
    "    </head>\n",
    "    <body>\n",
    "        <h2>Please enter your movie review:</h2>\n",
    "        \n",
    "        {% from \"_formhelpers.html\" import render_field %}\n",
    "        \n",
    "        <form method=post action=\"/requests\">\n",
    "            <dl>\n",
    "                {{  render_field(form.moviereview, cols='30', rows='10') }}\n",
    "            </dl>\n",
    "            <div>\n",
    "                <input type=submit value='Submit review' name='submit_btn'>\n",
    "            </div>\n",
    "        </form>\n",
    "    </body>\n",
    "</html>"
   ]
  },
  {
   "cell_type": "code",
   "execution_count": 49,
   "metadata": {},
   "outputs": [
    {
     "name": "stdout",
     "output_type": "stream",
     "text": [
      "Overwriting movieclassfier/templates/results.html\n"
     ]
    }
   ],
   "source": [
    "%%file movieclassfier/templates/results.html\n",
    "<!doctype html>\n",
    "<html>\n",
    "    <head>\n",
    "        <titile>Movie Classification</title>\n",
    "        <link rel=\"stylesheet\"\n",
    "                    href=\"{{ url_for('static', filename='style.css')}}\">\n",
    "    </head>\n",
    "    <body>\n",
    "        <h3>Your movie review:</h3>\n",
    "            <div>{{ content }}</div>\n",
    "            \n",
    "        <h3>Prediction</h3>\n",
    "            <div>This movie review is <strong>{{ prediction }}</strong>\n",
    "                (probability: {{ probability }}%).</div>\n",
    "                \n",
    "            <div id='button'>\n",
    "                <form action=\"/thanks\" method=\"post\">\n",
    "                    <input type=submit value='Correct' name='feedback_button'>\n",
    "                    <input type=submit value='Incorrect' name='feedback_button'>\n",
    "                    <input type=hidden value='{{ prediction }}' name='prediction'>\n",
    "                    <input type=hidden value='{{ content }}' name='review'>\n",
    "                </form>\n",
    "            </div>\n",
    "            \n",
    "            <div id='button'>\n",
    "                <form action=\"/\">\n",
    "                    <input type=submit value='Submit another review'>\n",
    "                </form>\n",
    "            </div>\n",
    "    </body>\n",
    "</html>"
   ]
  },
  {
   "cell_type": "code",
   "execution_count": 47,
   "metadata": {},
   "outputs": [],
   "source": [
    "# !mkdir movieclassfier/static"
   ]
  },
  {
   "cell_type": "code",
   "execution_count": 48,
   "metadata": {},
   "outputs": [
    {
     "name": "stdout",
     "output_type": "stream",
     "text": [
      "Writing movieclassfier/static/style.css\n"
     ]
    }
   ],
   "source": [
    "%%file movieclassfier/static/style.css\n",
    "\n",
    "body{\n",
    "    width:600px;\n",
    "}\n",
    ".button{\n",
    "    padding-top: 20px;\n",
    "}"
   ]
  },
  {
   "cell_type": "code",
   "execution_count": 51,
   "metadata": {},
   "outputs": [
    {
     "name": "stdout",
     "output_type": "stream",
     "text": [
      "Writing movieclassfier/templates/thanks.html\n"
     ]
    }
   ],
   "source": [
    "%%file movieclassfier/templates/thanks.html\n",
    "<!doctype html>\n",
    "<html>\n",
    "    <head>\n",
    "        <titile>Movie Classification</title>\n",
    "        <link rel=\"stylesheet\"\n",
    "                    href=\"{{ url_for('static', filename='style.css')}}\">\n",
    "    </head>\n",
    "    <body>\n",
    "        <h3>Thank you for your feedbacks!</h3>\n",
    "            <div id='button'>\n",
    "                <form action=\"/\">\n",
    "                    <input type=submit value='Submit another review'>\n",
    "                </form>\n",
    "            </div>\n",
    "    </body>\n",
    "</html>"
   ]
  },
  {
   "cell_type": "code",
   "execution_count": 52,
   "metadata": {},
   "outputs": [
    {
     "name": "stdout",
     "output_type": "stream",
     "text": [
      "Writing movieclassfier/templates/_formhelpers.html\n"
     ]
    }
   ],
   "source": [
    "%%file movieclassfier/templates/_formhelpers.html\n",
    "\n",
    "{% macro render_field(field) %}\n",
    "    <dt>{{ field.label  }}\n",
    "    <dd>{{ field(**kwargs) | safe }}\n",
    "    {% if field.errors %}\n",
    "        <ul class=errors>\n",
    "        {% for error in field.errors %}\n",
    "            <li>{{  error  }}</li>\n",
    "        {% endfor %}\n",
    "        </ul>\n",
    "    {% endif %}\n",
    "    </dd>\n",
    "    </dt>\n",
    "{% endmacro %}"
   ]
  },
  {
   "cell_type": "markdown",
   "metadata": {},
   "source": [
    "/home/kamonohashiperio/movieclassifier/app.py  \n",
    "\n",
    "virtualenvでsklearnを入れないと動かない。\n",
    "\n",
    "mkvirtualenv periove --python=/usr/bin/python3.8\n",
    "\n",
    "https://www.pythonanywhere.com/forums/topic/14032/"
   ]
  },
  {
   "cell_type": "code",
   "execution_count": 56,
   "metadata": {},
   "outputs": [
    {
     "name": "stdout",
     "output_type": "stream",
     "text": [
      "Overwriting movieclassfier/update.py\n"
     ]
    }
   ],
   "source": [
    "%%file movieclassfier/update.py\n",
    "\n",
    "import pickle\n",
    "import sqlite3\n",
    "import numpy as np\n",
    "import os\n",
    "\n",
    "# ローカルディレクトリからHashingVectorizerをインポート\n",
    "from vectorizer import vect\n",
    "\n",
    "def update_model(db_path, model, batch_size=10000):\n",
    "    conn = sqlite3.connect(db_path)\n",
    "    c = conn.cursor()\n",
    "    c.execute('SELECT * from review_db')\n",
    "    \n",
    "    results = c.fetchmany(batch_size)\n",
    "    while results:\n",
    "        data = np.array(results)\n",
    "        X = data[:, 0]\n",
    "        y = data[:, 1].astype(int)\n",
    "        classes = np.array([0, 1])\n",
    "        X_train = vect.transform(X)\n",
    "        model.partial_fit(X_train, y, classes=classes)\n",
    "        results = c.fetchmany(batch_size)\n",
    "        \n",
    "    conn.close()\n",
    "    return model\n",
    "\n",
    "cur_dir = os.path.dirname(__file__)\n",
    "clf = pickle.load(open(os.path.join(cur_dir, 'pkl_objects', 'classifier.pkl'), 'rb'))\n",
    "db = os.path.join(cur_dir, 'reviews.sqlite')\n",
    "\n",
    "clf = update_model(db_path=db, model=clf, batch_size=10000)\n",
    "\n",
    "# classifier.pklのファイルを永続的に更新したい場合は以下のコードのコメントを解除\n",
    "# pickle.dump(clf, open(os.path.join(cur_dir, 'pkl_objects', 'classifier.pkl'), 'wb'), protocol=4)"
   ]
  },
  {
   "cell_type": "code",
   "execution_count": null,
   "metadata": {},
   "outputs": [],
   "source": []
  },
  {
   "cell_type": "code",
   "execution_count": null,
   "metadata": {},
   "outputs": [],
   "source": []
  },
  {
   "cell_type": "code",
   "execution_count": null,
   "metadata": {},
   "outputs": [],
   "source": []
  }
 ],
 "metadata": {
  "celltoolbar": "Slideshow",
  "kernelspec": {
   "display_name": "Python 3",
   "language": "python",
   "name": "python3"
  },
  "language_info": {
   "codemirror_mode": {
    "name": "ipython",
    "version": 3
   },
   "file_extension": ".py",
   "mimetype": "text/x-python",
   "name": "python",
   "nbconvert_exporter": "python",
   "pygments_lexer": "ipython3",
   "version": "3.7.3"
  }
 },
 "nbformat": 4,
 "nbformat_minor": 4
}
