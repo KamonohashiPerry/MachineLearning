{
  "nbformat": 4,
  "nbformat_minor": 0,
  "metadata": {
    "colab": {
      "name": "NGBoost_Tutorial.ipynb",
      "provenance": [],
      "collapsed_sections": [],
      "include_colab_link": true
    },
    "kernelspec": {
      "name": "python3",
      "display_name": "Python 3"
    }
  },
  "cells": [
    {
      "cell_type": "markdown",
      "metadata": {
        "id": "view-in-github",
        "colab_type": "text"
      },
      "source": [
        "<a href=\"https://colab.research.google.com/github/KamonohashiPerry/MachineLearning/blob/master/NGBoost_Tutorial.ipynb\" target=\"_parent\"><img src=\"https://colab.research.google.com/assets/colab-badge.svg\" alt=\"Open In Colab\"/></a>"
      ]
    },
    {
      "cell_type": "markdown",
      "metadata": {
        "id": "Ifvj6FCntDHh",
        "colab_type": "text"
      },
      "source": [
        "## Reference\n",
        "+ NGBoost Explained Comparison to LightGBM and XGBoost  \n",
        "https://towardsdatascience.com/ngboost-explained-comparison-to-lightgbm-and-xgboost-fda510903e53\n",
        "\n",
        "+ kyosek/NGBoost-experiments  \n",
        "https://github.com/kyosek/NGBoost-experiments/tree/master/src/scripts\n",
        "\n",
        "+ House Prices: Advanced Regression Techniques  \n",
        "https://www.kaggle.com/c/house-prices-advanced-regression-techniques/data#_=_"
      ]
    },
    {
      "cell_type": "markdown",
      "metadata": {
        "id": "TSt9dlhDrQXF",
        "colab_type": "text"
      },
      "source": [
        "## Install"
      ]
    },
    {
      "cell_type": "code",
      "metadata": {
        "id": "Fcz5c4eVrE1w",
        "colab_type": "code",
        "colab": {}
      },
      "source": [
        "pip install --upgrade git+https://github.com/stanfordmlgroup/ngboost.git"
      ],
      "execution_count": 0,
      "outputs": []
    },
    {
      "cell_type": "code",
      "metadata": {
        "id": "vuEO9hZVrjsE",
        "colab_type": "code",
        "colab": {}
      },
      "source": [
        "!git clone --recursive https://github.com/Microsoft/LightGBM\n",
        "%cd /content/LightGBM/\n",
        "!mkdir build\n",
        "!cmake -DUSE_GPU=1 #avoid ..\n",
        "!make -j$(nproc)\n",
        "!sudo apt-get -y install python-pip\n",
        "!sudo -H pip install setuptools pandas numpy scipy scikit-learn -U\n",
        "%cd /content/LightGBM/python-package\n",
        "!sudo python setup.py install --precompile"
      ],
      "execution_count": 0,
      "outputs": []
    },
    {
      "cell_type": "code",
      "metadata": {
        "id": "QjLrlh4mrQBN",
        "colab_type": "code",
        "colab": {}
      },
      "source": [
        "!apt-get install -y -qq software-properties-common python-software-properties module-init-tools\n",
        "!add-apt-repository -y ppa:alessandro-strada/ppa 2>&1 > /dev/null\n",
        "!apt-get update -qq 2>&1 > /dev/null\n",
        "!apt-get -y install -qq google-drive-ocamlfuse fuse\n",
        "from google.colab import auth\n",
        "auth.authenticate_user()\n",
        "from oauth2client.client import GoogleCredentials\n",
        "creds = GoogleCredentials.get_application_default()\n",
        "import getpass\n",
        "!google-drive-ocamlfuse -headless -id={creds.client_id} -secret={creds.client_secret} < /dev/null 2>&1 | grep URL\n",
        "vcode = getpass.getpass()\n",
        "!echo {vcode} | google-drive-ocamlfuse -headless -id={creds.client_id} -secret={creds.client_secret}"
      ],
      "execution_count": 0,
      "outputs": []
    },
    {
      "cell_type": "code",
      "metadata": {
        "id": "qtZE5uJ6rO43",
        "colab_type": "code",
        "colab": {
          "base_uri": "https://localhost:8080/",
          "height": 68
        },
        "outputId": "4a815ae8-79c3-4e37-fa7b-690f667921b2"
      },
      "source": [
        "# drive mean root directory of  google drive\n",
        "!mkdir -p drive\n",
        "!google-drive-ocamlfuse drive\n",
        "!ls drive/\"Colab Notebooks\"/NGBoost"
      ],
      "execution_count": 13,
      "outputs": [
        {
          "output_type": "stream",
          "text": [
            "fuse: mountpoint is not empty\n",
            "fuse: if you are sure this is safe, use the 'nonempty' mount option\n",
            "NGBoost_Tutorial.ipynb\ttest.csv  train.csv\n"
          ],
          "name": "stdout"
        }
      ]
    },
    {
      "cell_type": "code",
      "metadata": {
        "id": "qxFKdH3CrWC1",
        "colab_type": "code",
        "colab": {}
      },
      "source": [
        "# import packages\n",
        "from math import sqrt\n",
        "\n",
        "import numpy as np\n",
        "from scipy.stats import skew\n",
        "from scipy.special import boxcox1p\n",
        "from scipy.stats import boxcox_normmax\n",
        "import pandas as pd\n",
        "import matplotlib.pyplot as plt\n",
        "\n",
        "from ngboost.ngboost import NGBoost\n",
        "from ngboost.learners import default_tree_learner\n",
        "from ngboost.distns import Normal\n",
        "from ngboost.scores import MLE\n",
        "\n",
        "import lightgbm as lgb\n",
        "import xgboost as xgb\n",
        "from sklearn.model_selection import train_test_split\n",
        "from sklearn.metrics import log_loss,mean_squared_error\n",
        "from sklearn.model_selection import KFold\n",
        "\n",
        "# for display\n",
        "pd.set_option('display.max_columns', None)\n",
        "pd.set_option('display.max_rows', None)"
      ],
      "execution_count": 0,
      "outputs": []
    },
    {
      "cell_type": "code",
      "metadata": {
        "id": "o8tgvj3Xr9-s",
        "colab_type": "code",
        "colab": {}
      },
      "source": [
        "# read the dataset\n",
        "train = pd.read_csv('drive/Colab Notebooks/NGBoost/train.csv')\n",
        "test = pd.read_csv('drive/Colab Notebooks/NGBoost/test.csv')\n",
        "\n",
        "train = train.dropna(subset=['GarageCond','BsmtFinType2','MasVnrArea'])\n",
        "test = test.dropna(subset=['GarageCond','BsmtFinType2','MasVnrArea'])\n",
        "\n",
        "columns = ['MSSubClass','LotArea','OverallQual','OverallCond','YearBuilt','YearRemodAdd',\n",
        "            'MasVnrArea','BsmtFinSF1','BsmtFinSF2','BsmtUnfSF','TotalBsmtSF','1stFlrSF',\n",
        "            '2ndFlrSF','LowQualFinSF','GrLivArea','BsmtFullBath','BsmtHalfBath','FullBath',\n",
        "            'BedroomAbvGr','KitchenAbvGr','Fireplaces','GarageYrBlt','GarageCars',\n",
        "            'GarageArea','YrSold']"
      ],
      "execution_count": 0,
      "outputs": []
    },
    {
      "cell_type": "code",
      "metadata": {
        "id": "MfpMThppuNat",
        "colab_type": "code",
        "colab": {
          "base_uri": "https://localhost:8080/",
          "height": 85
        },
        "outputId": "3fe1bcdd-4474-421e-fd02-e1b1d0550d4f"
      },
      "source": [
        "train, test = train.drop(['Id'],1), test.drop(['Id'],1)\n",
        "train = train[train['GrLivArea']<4500]\n",
        "train['SalePrice'] = np.log1p(train['SalePrice'])\n",
        "y = train['SalePrice']\n",
        "\n",
        "train_features = train.drop(['SalePrice'],1)\n",
        "test_features = test\n",
        "\n",
        "features = pd.concat([train_features, test_features]).reset_index(drop=True)\n",
        "\n",
        "objects = []\n",
        "for i in features.columns:\n",
        "    if features[i].dtype == object:\n",
        "        objects.append(i)\n",
        "features.update(features[objects].fillna('None'))\n",
        "\n",
        "features['LotFrontage'] = features.groupby('Neighborhood')['LotFrontage'].transform(lambda x: x.fillna(x.median()))\n",
        "\n",
        "numeric_dtypes = ['int16', 'int32', 'int64', 'float16', 'float32', 'float64']\n",
        "numerics = []\n",
        "for i in features.columns:\n",
        "    if features[i].dtype in numeric_dtypes:\n",
        "        numerics.append(i)\n",
        "features.update(features[numerics].fillna(0))\n",
        "\n",
        "numeric_dtypes = ['int16', 'int32', 'int64', 'float16', 'float32', 'float64']\n",
        "numerics2 = []\n",
        "for i in features.columns:\n",
        "    if features[i].dtype in numeric_dtypes:\n",
        "        numerics2.append(i)\n",
        "skew_features = features[numerics2].apply(lambda x: skew(x)).sort_values(ascending=False)\n",
        "\n",
        "high_skew = skew_features[skew_features > 0.5]\n",
        "skew_index = high_skew.index\n",
        "\n",
        "for i in skew_index:\n",
        "    features[i] = boxcox1p(features[i], boxcox_normmax(features[i] + 1))\n",
        "\n",
        "features = features.drop(['Utilities', 'Street', 'PoolQC',], axis=1)\n",
        "\n",
        "features['YrBltAndRemod']=features['YearBuilt']+features['YearRemodAdd']\n",
        "features['TotalSF']=features['TotalBsmtSF'] + features['1stFlrSF'] + features['2ndFlrSF']\n",
        "\n",
        "features['Total_sqr_footage'] = (features['BsmtFinSF1'] + features['BsmtFinSF2'] +\n",
        "                                 features['1stFlrSF'] + features['2ndFlrSF'])\n",
        "\n",
        "features['Total_Bathrooms'] = (features['FullBath'] + (0.5 * features['HalfBath']) +\n",
        "                               features['BsmtFullBath'] + (0.5 * features['BsmtHalfBath']))\n",
        "\n",
        "features['Total_porch_sf'] = (features['OpenPorchSF'] + features['3SsnPorch'] +\n",
        "                              features['EnclosedPorch'] + features['ScreenPorch'] +\n",
        "                              features['WoodDeckSF'])\n",
        "\n",
        "\n",
        "features['haspool'] = features['PoolArea'].apply(lambda x: 1 if x > 0 else 0)\n",
        "features['has2ndfloor'] = features['2ndFlrSF'].apply(lambda x: 1 if x > 0 else 0)\n",
        "features['hasgarage'] = features['GarageArea'].apply(lambda x: 1 if x > 0 else 0)\n",
        "features['hasbsmt'] = features['TotalBsmtSF'].apply(lambda x: 1 if x > 0 else 0)\n",
        "features['hasfireplace'] = features['Fireplaces'].apply(lambda x: 1 if x > 0 else 0)\n",
        "\n",
        "final_features = pd.get_dummies(features).reset_index(drop=True)\n",
        "\n",
        "X = final_features.iloc[:len(y), :]\n",
        "X_sub = final_features.iloc[len(y):, :]\n",
        "\n",
        "outliers = [30, 88, 462, 631, 1322]\n",
        "X = X.drop(X.index[outliers])\n",
        "y = y.drop(y.index[outliers])\n",
        "\n",
        "overfit = []\n",
        "for i in X.columns:\n",
        "    counts = X[i].value_counts()\n",
        "    zeros = counts.iloc[0]\n",
        "    if zeros / len(X) * 100 > 99.94:\n",
        "        overfit.append(i)\n",
        "\n",
        "overfit = list(overfit)\n",
        "X = X.drop(overfit, axis=1)\n",
        "X_sub = X_sub.drop(overfit, axis=1)\n",
        "\n",
        "kfolds = KFold(n_splits=10, shuffle=True, random_state=42)\n",
        "\n",
        "def rmsle(y, y_pred):\n",
        "    return np.sqrt(mean_squared_error(y, y_pred))\n",
        "\n",
        "def cv_rmse(model, X=X):\n",
        "    rmse = np.sqrt(-cross_val_score(model, X, y, scoring=\"neg_mean_squared_error\", cv=kfolds))\n",
        "    return (rmse)\n",
        "\n",
        "\n",
        "alphas_alt = [14.5, 14.6, 14.7, 14.8, 14.9, 15, 15.1, 15.2, 15.3, 15.4, 15.5]\n",
        "alphas2 = [5e-05, 0.0001, 0.0002, 0.0003, 0.0004, 0.0005, 0.0006, 0.0007, 0.0008]\n",
        "e_alphas = [0.0001, 0.0002, 0.0003, 0.0004, 0.0005, 0.0006, 0.0007]\n",
        "e_l1ratio = [0.8, 0.85, 0.9, 0.95, 0.99, 1]\n",
        "\n",
        "X['SalePrice'] = y\n",
        "X = X.dropna()\n",
        "X_tr, X_val = train_test_split(X,test_size=.2,random_state=42)"
      ],
      "execution_count": 30,
      "outputs": [
        {
          "output_type": "stream",
          "text": [
            "/usr/local/lib/python3.6/dist-packages/scipy/stats/stats.py:3399: PearsonRConstantInputWarning: An input array is constant; the correlation coefficent is not defined.\n",
            "  warnings.warn(PearsonRConstantInputWarning())\n",
            "/usr/local/lib/python3.6/dist-packages/scipy/stats/stats.py:3429: PearsonRNearConstantInputWarning: An input array is nearly constant; the computed correlation coefficent may be inaccurate.\n",
            "  warnings.warn(PearsonRNearConstantInputWarning())\n"
          ],
          "name": "stderr"
        }
      ]
    },
    {
      "cell_type": "code",
      "metadata": {
        "id": "9FGwceFFv0bo",
        "colab_type": "code",
        "colab": {
          "base_uri": "https://localhost:8080/",
          "height": 34
        },
        "outputId": "f74f1508-97cd-446d-8cc3-eb06860dd49f"
      },
      "source": [
        "# NGBoost\n",
        "ngb = NGBoost(Base=default_tree_learner, Dist=Normal, Score=MLE(), natural_gradient=True,verbose=False)\n",
        "ngboost = ngb.fit(np.asarray(X_tr.drop(['SalePrice'],1)), np.asarray(X_tr.SalePrice))\n",
        "y_pred = ngb.predict(X_val.drop(['SalePrice'],1))\n",
        "sqrt(mean_squared_error(X_val.SalePrice,y_pred)) # 0.003389"
      ],
      "execution_count": 88,
      "outputs": [
        {
          "output_type": "execute_result",
          "data": {
            "text/plain": [
              "0.395872621771948"
            ]
          },
          "metadata": {
            "tags": []
          },
          "execution_count": 88
        }
      ]
    },
    {
      "cell_type": "code",
      "metadata": {
        "id": "z9zl8bQ054F0",
        "colab_type": "code",
        "colab": {
          "base_uri": "https://localhost:8080/",
          "height": 289
        },
        "outputId": "f598bf18-5ed3-42dc-cd78-f3b8a6485c03"
      },
      "source": [
        "# LightGBM\n",
        "ltr = lgb.Dataset(X_tr.drop(['SalePrice'],1),label=X_tr.SalePrice)\n",
        "param = {\n",
        "        'bagging_freq': 5,\n",
        "        'bagging_fraction': 0.6,\n",
        "        'bagging_seed': 123,\n",
        "        'boost_from_average':'false',\n",
        "        'boost': 'gbdt',\n",
        "        'feature_fraction': 0.3,\n",
        "        'learning_rate': .01,\n",
        "        'max_depth': 3,\n",
        "        'metric':'rmse',\n",
        "        'min_data_in_leaf': 128,\n",
        "        'min_sum_hessian_in_leaf': 8,\n",
        "        'num_leaves': 128,\n",
        "        'num_threads': 8,\n",
        "        'tree_learner': 'serial',\n",
        "        'objective': 'regression',\n",
        "        'verbosity': -1,\n",
        "        'random_state':123,\n",
        "        'max_bin': 8,\n",
        "        'early_stopping_round':100\n",
        "}\n",
        "lgbm = lgb.train(param,ltr,num_boost_round=10000,valid_sets=[(ltr)],verbose_eval=1000)\n",
        "y_pred = lgbm.predict(X_val.drop(['SalePrice'],1))\n",
        "sqrt(mean_squared_error(X_val.SalePrice,y_pred)) # 0.00494"
      ],
      "execution_count": 95,
      "outputs": [
        {
          "output_type": "stream",
          "text": [
            "/content/LightGBM/python-package/lightgbm/engine.py:153: UserWarning: Found `early_stopping_round` in params. Will use it instead of argument\n",
            "  warnings.warn(\"Found `{}` in params. Will use it instead of argument\".format(alias))\n"
          ],
          "name": "stderr"
        },
        {
          "output_type": "stream",
          "text": [
            "Training until validation scores don't improve for 100 rounds\n",
            "[1000]\ttraining's rmse: 0.352956\n",
            "[2000]\ttraining's rmse: 0.345128\n",
            "[3000]\ttraining's rmse: 0.338816\n",
            "[4000]\ttraining's rmse: 0.333786\n",
            "[5000]\ttraining's rmse: 0.329087\n",
            "[6000]\ttraining's rmse: 0.325016\n",
            "[7000]\ttraining's rmse: 0.321329\n",
            "[8000]\ttraining's rmse: 0.317733\n",
            "[9000]\ttraining's rmse: 0.314489\n",
            "[10000]\ttraining's rmse: 0.311643\n",
            "Did not meet early stopping. Best iteration is:\n",
            "[10000]\ttraining's rmse: 0.311643\n"
          ],
          "name": "stdout"
        },
        {
          "output_type": "execute_result",
          "data": {
            "text/plain": [
              "0.41519343081427257"
            ]
          },
          "metadata": {
            "tags": []
          },
          "execution_count": 95
        }
      ]
    },
    {
      "cell_type": "code",
      "metadata": {
        "id": "knCLxx9q6VhI",
        "colab_type": "code",
        "colab": {
          "base_uri": "https://localhost:8080/",
          "height": 102
        },
        "outputId": "b0d3c720-293f-417f-bfc6-15d61ad16b35"
      },
      "source": [
        "# XGBoost\n",
        "params = {'max_depth': 4, 'eta': 0.01, 'objective':'reg:squarederror', 'eval_metric':['rmse'],'booster':'gbtree', 'verbosity':0,'sample_type':'weighted','max_delta_step':4, 'subsample':.5, 'min_child_weight':100,'early_stopping_round':50}\n",
        "dtr, dte = xgb.DMatrix(X_tr.drop(['SalePrice'],1),label=X_tr.SalePrice), xgb.DMatrix(X_val.drop(['SalePrice'],1),label=X_val.SalePrice)\n",
        "num_round = 5000\n",
        "xgbst = xgb.train(params,dtr,num_round,verbose_eval=500)\n",
        "y_pred = xgbst.predict(dte)\n",
        "sqrt(mean_squared_error(X_val.SalePrice,y_pred)) # 0.00361"
      ],
      "execution_count": 96,
      "outputs": [
        {
          "output_type": "stream",
          "text": [
            "/usr/local/lib/python3.6/dist-packages/xgboost/core.py:587: FutureWarning: Series.base is deprecated and will be removed in a future version\n",
            "  if getattr(data, 'base', None) is not None and \\\n",
            "/usr/local/lib/python3.6/dist-packages/xgboost/core.py:588: FutureWarning: Series.base is deprecated and will be removed in a future version\n",
            "  data.base is not None and isinstance(data, np.ndarray) \\\n"
          ],
          "name": "stderr"
        },
        {
          "output_type": "execute_result",
          "data": {
            "text/plain": [
              "0.4191556992208141"
            ]
          },
          "metadata": {
            "tags": []
          },
          "execution_count": 96
        }
      ]
    },
    {
      "cell_type": "markdown",
      "metadata": {
        "id": "1XVoz_u17R87",
        "colab_type": "text"
      },
      "source": [
        "## 各インスタンスごとの不確実性の伴ったプロット"
      ]
    },
    {
      "cell_type": "code",
      "metadata": {
        "id": "399eVAgfzCvl",
        "colab_type": "code",
        "colab": {
          "base_uri": "https://localhost:8080/",
          "height": 297
        },
        "outputId": "966865db-11a5-4d5d-d9a5-e0d6b2905d7d"
      },
      "source": [
        "# see the probability distributions by visualising\n",
        "Y_dists = ngb.pred_dist( X_val.drop(['SalePrice'],1).iloc[1:2,:] )\n",
        "y_range = np.linspace(min(X_val.SalePrice), max(X_val.SalePrice), 200)\n",
        "dist_values = Y_dists.pdf(y_range).transpose()\n",
        "\n",
        "plt.plot(y_range,dist_values)\n",
        "plt.tight_layout()\n",
        "plt.show()"
      ],
      "execution_count": 85,
      "outputs": [
        {
          "output_type": "display_data",
          "data": {
            "image/png": "[encoded data removed]",
            "text/plain": [
              "<Figure size 432x288 with 1 Axes>"
            ]
          },
          "metadata": {
            "tags": []
          }
        }
      ]
    },
    {
      "cell_type": "code",
      "metadata": {
        "id": "RhfXT8hq5YqT",
        "colab_type": "code",
        "colab": {
          "base_uri": "https://localhost:8080/",
          "height": 297
        },
        "outputId": "14bd7367-7a85-4d45-9fff-bb12c7c04f3a"
      },
      "source": [
        "# see the probability distributions by visualising\n",
        "Y_dists = ngb.pred_dist( X_val.drop(['SalePrice'],1).iloc[150:151,:] )\n",
        "y_range = np.linspace(min(X_val.SalePrice), max(X_val.SalePrice), 200)\n",
        "dist_values = Y_dists.pdf(y_range).transpose()\n",
        "\n",
        "plt.plot(y_range,dist_values)\n",
        "plt.tight_layout()\n",
        "plt.show()"
      ],
      "execution_count": 86,
      "outputs": [
        {
          "output_type": "display_data",
          "data": {
            "image/png": "[encoded data removed]",
            "text/plain": [
              "<Figure size 432x288 with 1 Axes>"
            ]
          },
          "metadata": {
            "tags": []
          }
        }
      ]
    },
    {
      "cell_type": "code",
      "metadata": {
        "id": "fcVLdEM90k1f",
        "colab_type": "code",
        "colab": {}
      },
      "source": [
        ""
      ],
      "execution_count": 0,
      "outputs": []
    }
  ]
}