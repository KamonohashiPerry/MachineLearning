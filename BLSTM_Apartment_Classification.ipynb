{
  "nbformat": 4,
  "nbformat_minor": 0,
  "metadata": {
    "colab": {
      "name": "BLSTM_Apartment_Classification.ipynb",
      "provenance": [],
      "collapsed_sections": [],
      "authorship_tag": "ABX9TyMnxTbu9OKpIAwNAu5z56tx",
      "include_colab_link": true
    },
    "kernelspec": {
      "name": "python3",
      "display_name": "Python 3"
    },
    "accelerator": "GPU"
  },
  "cells": [
    {
      "cell_type": "markdown",
      "metadata": {
        "id": "view-in-github",
        "colab_type": "text"
      },
      "source": [
        "<a href=\"https://colab.research.google.com/github/KamonohashiPerry/MachineLearning/blob/master/BLSTM_Apartment_Classification.ipynb\" target=\"_parent\"><img src=\"https://colab.research.google.com/assets/colab-badge.svg\" alt=\"Open In Colab\"/></a>"
      ]
    },
    {
      "cell_type": "markdown",
      "metadata": {
        "id": "QuF-5kSOgAoU",
        "colab_type": "text"
      },
      "source": [
        "# LSTMでデザイナーズマンションの分類"
      ]
    },
    {
      "cell_type": "code",
      "metadata": {
        "id": "yf9WchAAgAIX",
        "colab_type": "code",
        "outputId": "14024bc6-229a-4057-d5c3-6d98cac988b4",
        "colab": {
          "base_uri": "https://localhost:8080/",
          "height": 224
        }
      },
      "source": [
        "!apt-get install -y -qq software-properties-common python-software-properties module-init-tools\n",
        "!add-apt-repository -y ppa:alessandro-strada/ppa 2>&1 > /dev/null\n",
        "!apt-get update -qq 2>&1 > /dev/null\n",
        "!apt-get -y install -qq google-drive-ocamlfuse fuse\n",
        "from google.colab import auth\n",
        "auth.authenticate_user()\n",
        "from oauth2client.client import GoogleCredentials\n",
        "creds = GoogleCredentials.get_application_default()\n",
        "import getpass\n",
        "!google-drive-ocamlfuse -headless -id={creds.client_id} -secret={creds.client_secret} < /dev/null 2>&1 | grep URL\n",
        "vcode = getpass.getpass()\n",
        "!echo {vcode} | google-drive-ocamlfuse -headless -id={creds.client_id} -secret={creds.client_secret}"
      ],
      "execution_count": 1,
      "outputs": [
        {
          "output_type": "stream",
          "text": [
            "E: Package 'python-software-properties' has no installation candidate\n",
            "Selecting previously unselected package google-drive-ocamlfuse.\n",
            "(Reading database ... 144542 files and directories currently installed.)\n",
            "Preparing to unpack .../google-drive-ocamlfuse_0.7.18-0ubuntu1~ubuntu18.04.1_amd64.deb ...\n",
            "Unpacking google-drive-ocamlfuse (0.7.18-0ubuntu1~ubuntu18.04.1) ...\n",
            "Setting up google-drive-ocamlfuse (0.7.18-0ubuntu1~ubuntu18.04.1) ...\n",
            "Processing triggers for man-db (2.8.3-2ubuntu0.1) ...\n",
            "Please, open the following URL in a web browser: https://accounts.google.com/o/oauth2/auth?client_id=32555940559.apps.googleusercontent.com&redirect_uri=urn%3Aietf%3Awg%3Aoauth%3A2.0%3Aoob&scope=https%3A%2F%2Fwww.googleapis.com%2Fauth%2Fdrive&response_type=code&access_type=offline&approval_prompt=force\n",
            "··········\n",
            "Please, open the following URL in a web browser: https://accounts.google.com/o/oauth2/auth?client_id=32555940559.apps.googleusercontent.com&redirect_uri=urn%3Aietf%3Awg%3Aoauth%3A2.0%3Aoob&scope=https%3A%2F%2Fwww.googleapis.com%2Fauth%2Fdrive&response_type=code&access_type=offline&approval_prompt=force\n",
            "Please enter the verification code: Access token retrieved correctly.\n"
          ],
          "name": "stdout"
        }
      ]
    },
    {
      "cell_type": "code",
      "metadata": {
        "id": "pLi4ciqcgD7G",
        "colab_type": "code",
        "outputId": "173bd219-040e-42e0-fab2-ccd508d4bb8a",
        "colab": {
          "base_uri": "https://localhost:8080/",
          "height": 34
        }
      },
      "source": [
        "# drive mean root directory of  google drive\n",
        "!mkdir -p drive\n",
        "!google-drive-ocamlfuse drive\n",
        "!ls drive/\"Colab Notebooks\"/NLP"
      ],
      "execution_count": 2,
      "outputs": [
        {
          "output_type": "stream",
          "text": [
            "alice_in_wonderland.txt  logs  RNN_Text_Generator.ipynb  si650winter11\n"
          ],
          "name": "stdout"
        }
      ]
    },
    {
      "cell_type": "code",
      "metadata": {
        "id": "V9PRiiAWhZ6f",
        "colab_type": "code",
        "outputId": "3843a764-22eb-4e60-b320-d87b6a52211b",
        "colab": {
          "base_uri": "https://localhost:8080/",
          "height": 80
        }
      },
      "source": [
        "# from keras.callbacks import TensorBoard\n",
        "from keras.layers import Activation, Dense, Dropout, Embedding, LSTM, Bidirectional\n",
        "from keras.models import Sequential\n",
        "from keras.preprocessing import sequence\n",
        "from sklearn.model_selection import train_test_split\n",
        "import collections\n",
        "# import nltk\n",
        "import numpy as np\n",
        "# import os\n",
        "# import codecs"
      ],
      "execution_count": 1,
      "outputs": [
        {
          "output_type": "stream",
          "text": [
            "Using TensorFlow backend.\n"
          ],
          "name": "stderr"
        },
        {
          "output_type": "display_data",
          "data": {
            "text/html": [
              "<p style=\"color: red;\">\n",
              "The default version of TensorFlow in Colab will soon switch to TensorFlow 2.x.<br>\n",
              "We recommend you <a href=\"https://www.tensorflow.org/guide/migrate\" target=\"_blank\">upgrade</a> now \n",
              "or ensure your notebook will continue to use TensorFlow 1.x via the <code>%tensorflow_version 1.x</code> magic:\n",
              "<a href=\"https://colab.research.google.com/notebooks/tensorflow_version.ipynb\" target=\"_blank\">more info</a>.</p>\n"
            ],
            "text/plain": [
              "<IPython.core.display.HTML object>"
            ]
          },
          "metadata": {
            "tags": []
          }
        }
      ]
    },
    {
      "cell_type": "code",
      "metadata": {
        "id": "zlExcoMqYNfP",
        "colab_type": "code",
        "colab": {}
      },
      "source": [
        "import pandas as pd"
      ],
      "execution_count": 0,
      "outputs": []
    },
    {
      "cell_type": "code",
      "metadata": {
        "id": "pqoiBHBFYQXh",
        "colab_type": "code",
        "colab": {}
      },
      "source": [
        "raw_data = pd.read_csv(\"https://github.com/KamonohashiPerry/kamonohashiperry.com/blob/master/designers_apartment/designers_apartment.csv?raw=true\")\n",
        "raw_data[\"text\"] = raw_data[\"text\"].str.replace(\"デザイナーズ\", \"\") \n"
      ],
      "execution_count": 0,
      "outputs": []
    },
    {
      "cell_type": "code",
      "metadata": {
        "id": "mSItg9xuiwHo",
        "colab_type": "code",
        "colab": {}
      },
      "source": [
        "LOG_DIR = \"drive/Colab Notebooks/NLP/logs\""
      ],
      "execution_count": 0,
      "outputs": []
    },
    {
      "cell_type": "markdown",
      "metadata": {
        "id": "Jy6W9H5ImAli",
        "colab_type": "text"
      },
      "source": [
        "## 形態素解析のための準備"
      ]
    },
    {
      "cell_type": "code",
      "metadata": {
        "id": "lUSaa4kZlLQG",
        "colab_type": "code",
        "colab": {}
      },
      "source": [
        "!apt-get -q -y install sudo file mecab libmecab-dev mecab-ipadic-utf8 git curl python-mecab"
      ],
      "execution_count": 0,
      "outputs": []
    },
    {
      "cell_type": "code",
      "metadata": {
        "id": "3jflStTFl_uM",
        "colab_type": "code",
        "colab": {
          "base_uri": "https://localhost:8080/",
          "height": 221
        },
        "outputId": "bb2a70a5-4ecf-4ac0-ad41-540a56d79c2e"
      },
      "source": [
        "%%bash\n",
        "mecab \n",
        "俺のイタリアンにいつ行くか、今でしょう"
      ],
      "execution_count": 9,
      "outputs": [
        {
          "output_type": "stream",
          "text": [
            "俺\t名詞,代名詞,一般,*,*,*,俺,オレ,オレ\n",
            "の\t助詞,連体化,*,*,*,*,の,ノ,ノ\n",
            "イタリアン\t名詞,一般,*,*,*,*,イタリアン,イタリアン,イタリアン\n",
            "に\t助詞,格助詞,一般,*,*,*,に,ニ,ニ\n",
            "いつ\t名詞,代名詞,一般,*,*,*,いつ,イツ,イツ\n",
            "行く\t動詞,自立,*,*,五段・カ行促音便,基本形,行く,イク,イク\n",
            "か\t助詞,副助詞／並立助詞／終助詞,*,*,*,*,か,カ,カ\n",
            "、\t記号,読点,*,*,*,*,、,、,、\n",
            "今\t名詞,副詞可能,*,*,*,*,今,イマ,イマ\n",
            "でしょ\t助動詞,*,*,*,特殊・デス,未然形,です,デショ,デショ\n",
            "う\t助動詞,*,*,*,不変化型,基本形,う,ウ,ウ\n",
            "EOS\n"
          ],
          "name": "stdout"
        }
      ]
    },
    {
      "cell_type": "code",
      "metadata": {
        "id": "-gW4iS1Sl_5T",
        "colab_type": "code",
        "colab": {
          "base_uri": "https://localhost:8080/",
          "height": 1000
        },
        "outputId": "979ee527-6e9e-46a4-dbe7-425f75690596"
      },
      "source": [
        "!git clone --depth 1 https://github.com/neologd/mecab-ipadic-neologd.git\n",
        "!echo yes | mecab-ipadic-neologd/bin/install-mecab-ipadic-neologd -n"
      ],
      "execution_count": 5,
      "outputs": [
        {
          "output_type": "stream",
          "text": [
            "Cloning into 'mecab-ipadic-neologd'...\n",
            "remote: Enumerating objects: 75, done.\u001b[K\n",
            "remote: Counting objects: 100% (75/75), done.\u001b[K\n",
            "remote: Compressing objects: 100% (74/74), done.\u001b[K\n",
            "remote: Total 75 (delta 5), reused 54 (delta 0), pack-reused 0\u001b[K\n",
            "Unpacking objects: 100% (75/75), done.\n",
            "[install-mecab-ipadic-NEologd] : Start..\n",
            "[install-mecab-ipadic-NEologd] : Check the existance of libraries\n",
            "[install-mecab-ipadic-NEologd] :     find => ok\n",
            "[install-mecab-ipadic-NEologd] :     sort => ok\n",
            "[install-mecab-ipadic-NEologd] :     head => ok\n",
            "[install-mecab-ipadic-NEologd] :     cut => ok\n",
            "[install-mecab-ipadic-NEologd] :     egrep => ok\n",
            "[install-mecab-ipadic-NEologd] :     mecab => ok\n",
            "[install-mecab-ipadic-NEologd] :     mecab-config => ok\n",
            "[install-mecab-ipadic-NEologd] :     make => ok\n",
            "[install-mecab-ipadic-NEologd] :     curl => ok\n",
            "[install-mecab-ipadic-NEologd] :     sed => ok\n",
            "[install-mecab-ipadic-NEologd] :     cat => ok\n",
            "[install-mecab-ipadic-NEologd] :     diff => ok\n",
            "[install-mecab-ipadic-NEologd] :     tar => ok\n",
            "[install-mecab-ipadic-NEologd] :     unxz => ok\n",
            "[install-mecab-ipadic-NEologd] :     xargs => ok\n",
            "[install-mecab-ipadic-NEologd] :     grep => ok\n",
            "[install-mecab-ipadic-NEologd] :     iconv => ok\n",
            "[install-mecab-ipadic-NEologd] :     patch => ok\n",
            "[install-mecab-ipadic-NEologd] :     which => ok\n",
            "[install-mecab-ipadic-NEologd] :     file => ok\n",
            "[install-mecab-ipadic-NEologd] :     openssl => ok\n",
            "[install-mecab-ipadic-NEologd] :     awk => ok\n",
            "\n",
            "[install-mecab-ipadic-NEologd] : mecab-ipadic-NEologd is already up-to-date\n",
            "\n",
            "[install-mecab-ipadic-NEologd] : mecab-ipadic-NEologd will be install to /usr/lib/x86_64-linux-gnu/mecab/dic/mecab-ipadic-neologd\n",
            "\n",
            "[install-mecab-ipadic-NEologd] : Make mecab-ipadic-NEologd\n",
            "[make-mecab-ipadic-NEologd] : Start..\n",
            "[make-mecab-ipadic-NEologd] : Check local seed directory\n",
            "[make-mecab-ipadic-NEologd] : Check local seed file\n",
            "[make-mecab-ipadic-NEologd] : Check local build directory\n",
            "[make-mecab-ipadic-NEologd] : create /content/mecab-ipadic-neologd/libexec/../build\n",
            "[make-mecab-ipadic-NEologd] : Download original mecab-ipadic file\n",
            "[make-mecab-ipadic-NEologd] : Try to access to https://ja.osdn.net\n",
            "[make-mecab-ipadic-NEologd] : Try to download from https://ja.osdn.net/frs/g_redir.php?m=kent&f=mecab%2Fmecab-ipadic%2F2.7.0-20070801%2Fmecab-ipadic-2.7.0-20070801.tar.gz\n",
            "  % Total    % Received % Xferd  Average Speed   Time    Time     Time  Current\n",
            "                                 Dload  Upload   Total   Spent    Left  Speed\n",
            "  0     0    0     0    0     0      0      0 --:--:--  0:00:01 --:--:--     0\n",
            "100 11.6M  100 11.6M    0     0   981k      0  0:00:12  0:00:12 --:--:-- 2262k\n",
            "Hash value of /content/mecab-ipadic-neologd/libexec/../build/mecab-ipadic-2.7.0-20070801.tar.gz matched\n",
            "[make-mecab-ipadic-NEologd] : Decompress original mecab-ipadic file\n",
            "mecab-ipadic-2.7.0-20070801/\n",
            "mecab-ipadic-2.7.0-20070801/README\n",
            "mecab-ipadic-2.7.0-20070801/AUTHORS\n",
            "mecab-ipadic-2.7.0-20070801/COPYING\n",
            "mecab-ipadic-2.7.0-20070801/ChangeLog\n",
            "mecab-ipadic-2.7.0-20070801/INSTALL\n",
            "mecab-ipadic-2.7.0-20070801/Makefile.am\n",
            "mecab-ipadic-2.7.0-20070801/Makefile.in\n",
            "mecab-ipadic-2.7.0-20070801/NEWS\n",
            "mecab-ipadic-2.7.0-20070801/aclocal.m4\n",
            "mecab-ipadic-2.7.0-20070801/config.guess\n",
            "mecab-ipadic-2.7.0-20070801/config.sub\n",
            "mecab-ipadic-2.7.0-20070801/configure\n",
            "mecab-ipadic-2.7.0-20070801/configure.in\n",
            "mecab-ipadic-2.7.0-20070801/install-sh\n",
            "mecab-ipadic-2.7.0-20070801/missing\n",
            "mecab-ipadic-2.7.0-20070801/mkinstalldirs\n",
            "mecab-ipadic-2.7.0-20070801/Adj.csv\n",
            "mecab-ipadic-2.7.0-20070801/Adnominal.csv\n",
            "mecab-ipadic-2.7.0-20070801/Adverb.csv\n",
            "mecab-ipadic-2.7.0-20070801/Auxil.csv\n",
            "mecab-ipadic-2.7.0-20070801/Conjunction.csv\n",
            "mecab-ipadic-2.7.0-20070801/Filler.csv\n",
            "mecab-ipadic-2.7.0-20070801/Interjection.csv\n",
            "mecab-ipadic-2.7.0-20070801/Noun.adjv.csv\n",
            "mecab-ipadic-2.7.0-20070801/Noun.adverbal.csv\n",
            "mecab-ipadic-2.7.0-20070801/Noun.csv\n",
            "mecab-ipadic-2.7.0-20070801/Noun.demonst.csv\n",
            "mecab-ipadic-2.7.0-20070801/Noun.nai.csv\n",
            "mecab-ipadic-2.7.0-20070801/Noun.name.csv\n",
            "mecab-ipadic-2.7.0-20070801/Noun.number.csv\n",
            "mecab-ipadic-2.7.0-20070801/Noun.org.csv\n",
            "mecab-ipadic-2.7.0-20070801/Noun.others.csv\n",
            "mecab-ipadic-2.7.0-20070801/Noun.place.csv\n",
            "mecab-ipadic-2.7.0-20070801/Noun.proper.csv\n",
            "mecab-ipadic-2.7.0-20070801/Noun.verbal.csv\n",
            "mecab-ipadic-2.7.0-20070801/Others.csv\n",
            "mecab-ipadic-2.7.0-20070801/Postp-col.csv\n",
            "mecab-ipadic-2.7.0-20070801/Postp.csv\n",
            "mecab-ipadic-2.7.0-20070801/Prefix.csv\n",
            "mecab-ipadic-2.7.0-20070801/Suffix.csv\n",
            "mecab-ipadic-2.7.0-20070801/Symbol.csv\n",
            "mecab-ipadic-2.7.0-20070801/Verb.csv\n",
            "mecab-ipadic-2.7.0-20070801/char.def\n",
            "mecab-ipadic-2.7.0-20070801/feature.def\n",
            "mecab-ipadic-2.7.0-20070801/left-id.def\n",
            "mecab-ipadic-2.7.0-20070801/matrix.def\n",
            "mecab-ipadic-2.7.0-20070801/pos-id.def\n",
            "mecab-ipadic-2.7.0-20070801/rewrite.def\n",
            "mecab-ipadic-2.7.0-20070801/right-id.def\n",
            "mecab-ipadic-2.7.0-20070801/unk.def\n",
            "mecab-ipadic-2.7.0-20070801/dicrc\n",
            "mecab-ipadic-2.7.0-20070801/RESULT\n",
            "[make-mecab-ipadic-NEologd] : Configure custom system dictionary on /content/mecab-ipadic-neologd/libexec/../build/mecab-ipadic-2.7.0-20070801-neologd-20200315\n",
            "checking for a BSD-compatible install... /usr/bin/install -c\n",
            "checking whether build environment is sane... yes\n",
            "checking whether make sets $(MAKE)... yes\n",
            "checking for working aclocal-1.4... missing\n",
            "checking for working autoconf... missing\n",
            "checking for working automake-1.4... missing\n",
            "checking for working autoheader... missing\n",
            "checking for working makeinfo... missing\n",
            "checking for a BSD-compatible install... /usr/bin/install -c\n",
            "checking for mecab-config... /usr/bin/mecab-config\n",
            "configure: creating ./config.status\n",
            "config.status: creating Makefile\n",
            "[make-mecab-ipadic-NEologd] : Encode the character encoding of system dictionary resources from EUC_JP to UTF-8\n",
            "./../../libexec/iconv_euc_to_utf8.sh ./Auxil.csv \n",
            "./../../libexec/iconv_euc_to_utf8.sh ./Others.csv \n",
            "./../../libexec/iconv_euc_to_utf8.sh ./Adverb.csv \n",
            "./../../libexec/iconv_euc_to_utf8.sh ./Suffix.csv \n",
            "./../../libexec/iconv_euc_to_utf8.sh ./Prefix.csv \n",
            "./../../libexec/iconv_euc_to_utf8.sh ./Adnominal.csv \n",
            "./../../libexec/iconv_euc_to_utf8.sh ./Noun.demonst.csv \n",
            "./../../libexec/iconv_euc_to_utf8.sh ./Noun.place.csv \n",
            "./../../libexec/iconv_euc_to_utf8.sh ./Noun.number.csv \n",
            "./../../libexec/iconv_euc_to_utf8.sh ./Noun.name.csv \n",
            "./../../libexec/iconv_euc_to_utf8.sh ./Verb.csv \n",
            "./../../libexec/iconv_euc_to_utf8.sh ./Interjection.csv \n",
            "./../../libexec/iconv_euc_to_utf8.sh ./Noun.proper.csv \n",
            "./../../libexec/iconv_euc_to_utf8.sh ./Noun.verbal.csv \n",
            "./../../libexec/iconv_euc_to_utf8.sh ./Noun.csv \n",
            "./../../libexec/iconv_euc_to_utf8.sh ./Postp-col.csv \n",
            "./../../libexec/iconv_euc_to_utf8.sh ./Noun.nai.csv \n",
            "./../../libexec/iconv_euc_to_utf8.sh ./Noun.adverbal.csv \n",
            "./../../libexec/iconv_euc_to_utf8.sh ./Conjunction.csv \n",
            "./../../libexec/iconv_euc_to_utf8.sh ./Adj.csv \n",
            "./../../libexec/iconv_euc_to_utf8.sh ./Noun.adjv.csv \n",
            "./../../libexec/iconv_euc_to_utf8.sh ./Filler.csv \n",
            "./../../libexec/iconv_euc_to_utf8.sh ./Noun.others.csv \n",
            "./../../libexec/iconv_euc_to_utf8.sh ./Symbol.csv \n",
            "./../../libexec/iconv_euc_to_utf8.sh ./Postp.csv \n",
            "./../../libexec/iconv_euc_to_utf8.sh ./Noun.org.csv \n",
            "rm ./Auxil.csv \n",
            "rm ./Others.csv \n",
            "rm ./Adverb.csv \n",
            "rm ./Suffix.csv \n",
            "rm ./Prefix.csv \n",
            "rm ./Adnominal.csv \n",
            "rm ./Noun.demonst.csv \n",
            "rm ./Noun.place.csv \n",
            "rm ./Noun.number.csv \n",
            "rm ./Noun.name.csv \n",
            "rm ./Verb.csv \n",
            "rm ./Interjection.csv \n",
            "rm ./Noun.proper.csv \n",
            "rm ./Noun.verbal.csv \n",
            "rm ./Noun.csv \n",
            "rm ./Postp-col.csv \n",
            "rm ./Noun.nai.csv \n",
            "rm ./Noun.adverbal.csv \n",
            "rm ./Conjunction.csv \n",
            "rm ./Adj.csv \n",
            "rm ./Noun.adjv.csv \n",
            "rm ./Filler.csv \n",
            "rm ./Noun.others.csv \n",
            "rm ./Symbol.csv \n",
            "rm ./Postp.csv \n",
            "rm ./Noun.org.csv \n",
            "./../../libexec/iconv_euc_to_utf8.sh ./rewrite.def \n",
            "./../../libexec/iconv_euc_to_utf8.sh ./left-id.def \n",
            "./../../libexec/iconv_euc_to_utf8.sh ./pos-id.def \n",
            "./../../libexec/iconv_euc_to_utf8.sh ./matrix.def \n",
            "./../../libexec/iconv_euc_to_utf8.sh ./feature.def \n",
            "./../../libexec/iconv_euc_to_utf8.sh ./unk.def \n",
            "./../../libexec/iconv_euc_to_utf8.sh ./char.def \n",
            "./../../libexec/iconv_euc_to_utf8.sh ./right-id.def \n",
            "rm ./rewrite.def \n",
            "rm ./left-id.def \n",
            "rm ./pos-id.def \n",
            "rm ./matrix.def \n",
            "rm ./feature.def \n",
            "rm ./unk.def \n",
            "rm ./char.def \n",
            "rm ./right-id.def \n",
            "mv ./Noun.proper.csv.utf8 ./Noun.proper.csv \n",
            "mv ./matrix.def.utf8 ./matrix.def \n",
            "mv ./Adj.csv.utf8 ./Adj.csv \n",
            "mv ./unk.def.utf8 ./unk.def \n",
            "mv ./Conjunction.csv.utf8 ./Conjunction.csv \n",
            "mv ./Noun.others.csv.utf8 ./Noun.others.csv \n",
            "mv ./Noun.demonst.csv.utf8 ./Noun.demonst.csv \n",
            "mv ./Noun.place.csv.utf8 ./Noun.place.csv \n",
            "mv ./Suffix.csv.utf8 ./Suffix.csv \n",
            "mv ./Noun.number.csv.utf8 ./Noun.number.csv \n",
            "mv ./Others.csv.utf8 ./Others.csv \n",
            "mv ./right-id.def.utf8 ./right-id.def \n",
            "mv ./Symbol.csv.utf8 ./Symbol.csv \n",
            "mv ./feature.def.utf8 ./feature.def \n",
            "mv ./Noun.adjv.csv.utf8 ./Noun.adjv.csv \n",
            "mv ./Noun.name.csv.utf8 ./Noun.name.csv \n",
            "mv ./rewrite.def.utf8 ./rewrite.def \n",
            "mv ./Postp-col.csv.utf8 ./Postp-col.csv \n",
            "mv ./Interjection.csv.utf8 ./Interjection.csv \n",
            "mv ./left-id.def.utf8 ./left-id.def \n",
            "mv ./Adnominal.csv.utf8 ./Adnominal.csv \n",
            "mv ./Filler.csv.utf8 ./Filler.csv \n",
            "mv ./Noun.org.csv.utf8 ./Noun.org.csv \n",
            "mv ./pos-id.def.utf8 ./pos-id.def \n",
            "mv ./Prefix.csv.utf8 ./Prefix.csv \n",
            "mv ./Adverb.csv.utf8 ./Adverb.csv \n",
            "mv ./Verb.csv.utf8 ./Verb.csv \n",
            "mv ./Noun.adverbal.csv.utf8 ./Noun.adverbal.csv \n",
            "mv ./Postp.csv.utf8 ./Postp.csv \n",
            "mv ./Noun.verbal.csv.utf8 ./Noun.verbal.csv \n",
            "mv ./Noun.nai.csv.utf8 ./Noun.nai.csv \n",
            "mv ./char.def.utf8 ./char.def \n",
            "mv ./Auxil.csv.utf8 ./Auxil.csv \n",
            "mv ./Noun.csv.utf8 ./Noun.csv \n",
            "[make-mecab-ipadic-NEologd] : Fix yomigana field of IPA dictionary\n",
            "patching file Noun.csv\n",
            "patching file Noun.place.csv\n",
            "patching file Verb.csv\n",
            "patching file Noun.verbal.csv\n",
            "patching file Noun.name.csv\n",
            "patching file Noun.adverbal.csv\n",
            "patching file Noun.csv\n",
            "patching file Noun.name.csv\n",
            "patching file Noun.org.csv\n",
            "patching file Noun.others.csv\n",
            "patching file Noun.place.csv\n",
            "patching file Noun.proper.csv\n",
            "patching file Noun.verbal.csv\n",
            "patching file Prefix.csv\n",
            "patching file Suffix.csv\n",
            "patching file Noun.proper.csv\n",
            "patching file Noun.csv\n",
            "patching file Noun.name.csv\n",
            "patching file Noun.org.csv\n",
            "patching file Noun.place.csv\n",
            "patching file Noun.proper.csv\n",
            "patching file Noun.verbal.csv\n",
            "patching file Noun.name.csv\n",
            "patching file Noun.org.csv\n",
            "patching file Noun.place.csv\n",
            "patching file Noun.proper.csv\n",
            "patching file Suffix.csv\n",
            "patching file Noun.demonst.csv\n",
            "patching file Noun.csv\n",
            "patching file Noun.name.csv\n",
            "[make-mecab-ipadic-NEologd] : Copy user dictionary resource\n",
            "[make-mecab-ipadic-NEologd] : Install adverb entries using /content/mecab-ipadic-neologd/libexec/../seed/neologd-adverb-dict-seed.20150623.csv.xz\n",
            "[make-mecab-ipadic-NEologd] : Install interjection entries using /content/mecab-ipadic-neologd/libexec/../seed/neologd-interjection-dict-seed.20170216.csv.xz\n",
            "[make-mecab-ipadic-NEologd] : Install noun orthographic variant entries using /content/mecab-ipadic-neologd/libexec/../seed/neologd-common-noun-ortho-variant-dict-seed.20170228.csv.xz\n",
            "[make-mecab-ipadic-NEologd] : Install noun orthographic variant entries using /content/mecab-ipadic-neologd/libexec/../seed/neologd-proper-noun-ortho-variant-dict-seed.20161110.csv.xz\n",
            "[make-mecab-ipadic-NEologd] : Install entries of orthographic variant of a noun used as verb form using /content/mecab-ipadic-neologd/libexec/../seed/neologd-noun-sahen-conn-ortho-variant-dict-seed.20160323.csv.xz\n",
            "[make-mecab-ipadic-NEologd] : Install frequent adjective orthographic variant entries using /content/mecab-ipadic-neologd/libexec/../seed/neologd-adjective-std-dict-seed.20151126.csv.xz\n",
            "[make-mecab-ipadic-NEologd] : Not install /content/mecab-ipadic-neologd/libexec/../seed/neologd-adjective-exp-dict-seed.20151126.csv.xz\n",
            "[make-mecab-ipadic-NEologd] :     When you install neologd-adjective-exp-dict-seed.20151126.csv.xz, please set --install_adjective_exp option\n",
            "\n",
            "[make-mecab-ipadic-NEologd] : Install adjective verb orthographic variant entries using /content/mecab-ipadic-neologd/libexec/../seed/neologd-adjective-verb-dict-seed.20160324.csv.xz\n",
            "[make-mecab-ipadic-NEologd] : Not install /content/mecab-ipadic-neologd/libexec/../seed/neologd-date-time-infreq-dict-seed.20190415.csv.xz\n",
            "[make-mecab-ipadic-NEologd] :     When you install neologd-date-time-infreq-dict-seed.20190415.csv.xz, please set --install_infreq_datetime option\n",
            "\n",
            "[make-mecab-ipadic-NEologd] : Not install /content/mecab-ipadic-neologd/libexec/../seed/neologd-quantity-infreq-dict-seed.20190415.csv.xz\n",
            "[make-mecab-ipadic-NEologd] :     When you install neologd-quantity-infreq-dict-seed.20190415.csv.xz, please set --install_infreq_quantity option\n",
            "\n",
            "[make-mecab-ipadic-NEologd] : Install entries of ill formed words using /content/mecab-ipadic-neologd/libexec/../seed/neologd-ill-formed-words-dict-seed.20170127.csv.xz\n",
            "[make-mecab-ipadic-NEologd] : Re-Index system dictionary\n",
            "reading ./unk.def ... 40\n",
            "emitting double-array: 100% |###########################################| \n",
            "./model.def is not found. skipped.\n",
            "reading ./Auxil.csv ... 199\n",
            "reading ./Others.csv ... 2\n",
            "reading ./Adverb.csv ... 3032\n",
            "reading ./Suffix.csv ... 1448\n",
            "reading ./Prefix.csv ... 224\n",
            "reading ./mecab-user-dict-seed.20200315.csv ... 3187380\n",
            "reading ./neologd-adjective-std-dict-seed.20151126.csv ... 507812\n",
            "reading ./neologd-common-noun-ortho-variant-dict-seed.20170228.csv ... 152869\n",
            "reading ./Adnominal.csv ... 135\n",
            "reading ./Noun.demonst.csv ... 120\n",
            "reading ./Noun.place.csv ... 73194\n",
            "reading ./neologd-adjective-verb-dict-seed.20160324.csv ... 20268\n",
            "reading ./Noun.number.csv ... 42\n",
            "reading ./Noun.name.csv ... 34215\n",
            "reading ./Verb.csv ... 130750\n",
            "reading ./Interjection.csv ... 252\n",
            "reading ./neologd-interjection-dict-seed.20170216.csv ... 4701\n",
            "reading ./Noun.proper.csv ... 27493\n",
            "reading ./Noun.verbal.csv ... 12150\n",
            "reading ./Noun.csv ... 60734\n",
            "reading ./Postp-col.csv ... 91\n",
            "reading ./Noun.nai.csv ... 42\n",
            "reading ./neologd-proper-noun-ortho-variant-dict-seed.20161110.csv ... 138379\n",
            "reading ./Noun.adverbal.csv ... 808\n",
            "reading ./Conjunction.csv ... 171\n",
            "reading ./Adj.csv ... 27210\n",
            "reading ./neologd-noun-sahen-conn-ortho-variant-dict-seed.20160323.csv ... 26058\n",
            "reading ./Noun.adjv.csv ... 3328\n",
            "reading ./Filler.csv ... 19\n",
            "reading ./neologd-adverb-dict-seed.20150623.csv ... 139792\n",
            "reading ./Noun.others.csv ... 153\n",
            "reading ./Symbol.csv ... 208\n",
            "reading ./Postp.csv ... 146\n",
            "reading ./neologd-ill-formed-words-dict-seed.20170127.csv ... 60616\n",
            "reading ./Noun.org.csv ... 17149\n",
            "emitting double-array: 100% |###########################################| \n",
            "reading ./matrix.def ... 1316x1316\n",
            "emitting matrix      : 100% |###########################################| \n",
            "\n",
            "done!\n",
            "[make-mecab-ipadic-NEologd] : Make custom system dictionary on /content/mecab-ipadic-neologd/libexec/../build/mecab-ipadic-2.7.0-20070801-neologd-20200315\n",
            "make: Nothing to be done for 'all'.\n",
            "[make-mecab-ipadic-NEologd] : Finish..\n",
            "[install-mecab-ipadic-NEologd] : Get results of tokenize test\n",
            "[test-mecab-ipadic-NEologd] : Start..\n",
            "[test-mecab-ipadic-NEologd] : Replace timestamp from 'git clone' date to 'git commit' date\n",
            "[test-mecab-ipadic-NEologd] : Get buzz phrases\n",
            "  % Total    % Received % Xferd  Average Speed   Time    Time     Time  Current\n",
            "                                 Dload  Upload   Total   Spent    Left  Speed\n",
            "100  1477  100  1477    0     0   1170      0  0:00:01  0:00:01 --:--:--  1170\n",
            "[test-mecab-ipadic-NEologd] : Get difference between default system dictionary and mecab-ipadic-NEologd\n",
            "[test-mecab-ipadic-NEologd] : Tokenize phrase using default system dictionary\n",
            "[test-mecab-ipadic-NEologd] : Tokenize phrase using mecab-ipadic-NEologd\n",
            "[test-mecab-ipadic-NEologd] : Get result of diff\n",
            "[test-mecab-ipadic-NEologd] : Please check difference between default system dictionary and mecab-ipadic-NEologd\n",
            "\n",
            "default system dictionary\t  |\tmecab-ipadic-NEologd\n",
            "大亀 あすか \t\t\t  |\t大亀あすか \n",
            "裸 の 少年 \t\t\t  |\t裸の少年 \n",
            "さいたま スーパー アリーナ \t  |\tさいたまスーパーアリーナ \n",
            "エコ パ \t\t\t  |\tエコパ \n",
            "山本 瑠香 \t\t\t  |\t山本瑠香 \n",
            "赤字 国債 \t\t\t  |\t赤字国債 \n",
            "名古屋 グランパス \t\t  |\t名古屋グランパス \n",
            "正義 の ミカタ \t\t\t  |\t正義のミカタ \n",
            "ビートシューター \t\t  |\tビート シューター \n",
            "\n",
            "[test-mecab-ipadic-NEologd] : Finish..\n",
            "\n",
            "[install-mecab-ipadic-NEologd] : Please check the list of differences in the upper part.\n",
            "\n",
            "[install-mecab-ipadic-NEologd] : Do you want to install mecab-ipadic-NEologd? Type yes or no.\n",
            "[install-mecab-ipadic-NEologd] : OK. Let's install mecab-ipadic-NEologd.\n",
            "[install-mecab-ipadic-NEologd] : Start..\n",
            "[install-mecab-ipadic-NEologd] : /usr/lib/x86_64-linux-gnu/mecab/dic isn't current user's directory\n",
            "[install-mecab-ipadic-NEologd] : Sudo make install to /usr/lib/x86_64-linux-gnu/mecab/dic/mecab-ipadic-neologd\n",
            "make[1]: Entering directory '/content/mecab-ipadic-neologd/build/mecab-ipadic-2.7.0-20070801-neologd-20200315'\n",
            "make[1]: Nothing to be done for 'install-exec-am'.\n",
            "/bin/bash ./mkinstalldirs /usr/lib/x86_64-linux-gnu/mecab/dic/mecab-ipadic-neologd\n",
            "mkdir /usr/lib/x86_64-linux-gnu/mecab\n",
            "mkdir /usr/lib/x86_64-linux-gnu/mecab/dic\n",
            "mkdir /usr/lib/x86_64-linux-gnu/mecab/dic/mecab-ipadic-neologd\n",
            " /usr/bin/install -c -m 644 ./matrix.bin /usr/lib/x86_64-linux-gnu/mecab/dic/mecab-ipadic-neologd/matrix.bin\n",
            " /usr/bin/install -c -m 644 ./char.bin /usr/lib/x86_64-linux-gnu/mecab/dic/mecab-ipadic-neologd/char.bin\n",
            " /usr/bin/install -c -m 644 ./sys.dic /usr/lib/x86_64-linux-gnu/mecab/dic/mecab-ipadic-neologd/sys.dic\n",
            " /usr/bin/install -c -m 644 ./unk.dic /usr/lib/x86_64-linux-gnu/mecab/dic/mecab-ipadic-neologd/unk.dic\n",
            " /usr/bin/install -c -m 644 ./left-id.def /usr/lib/x86_64-linux-gnu/mecab/dic/mecab-ipadic-neologd/left-id.def\n",
            " /usr/bin/install -c -m 644 ./right-id.def /usr/lib/x86_64-linux-gnu/mecab/dic/mecab-ipadic-neologd/right-id.def\n",
            " /usr/bin/install -c -m 644 ./rewrite.def /usr/lib/x86_64-linux-gnu/mecab/dic/mecab-ipadic-neologd/rewrite.def\n",
            " /usr/bin/install -c -m 644 ./pos-id.def /usr/lib/x86_64-linux-gnu/mecab/dic/mecab-ipadic-neologd/pos-id.def\n",
            " /usr/bin/install -c -m 644 ./dicrc /usr/lib/x86_64-linux-gnu/mecab/dic/mecab-ipadic-neologd/dicrc\n",
            "make[1]: Leaving directory '/content/mecab-ipadic-neologd/build/mecab-ipadic-2.7.0-20070801-neologd-20200315'\n",
            "\n",
            "[install-mecab-ipadic-NEologd] : Install completed.\n",
            "[install-mecab-ipadic-NEologd] : When you use MeCab, you can set '/usr/lib/x86_64-linux-gnu/mecab/dic/mecab-ipadic-neologd' as a value of '-d' option of MeCab.\n",
            "[install-mecab-ipadic-NEologd] : Usage of mecab-ipadic-NEologd is here.\n",
            "Usage:\n",
            "    $ mecab -d /usr/lib/x86_64-linux-gnu/mecab/dic/mecab-ipadic-neologd ...\n",
            "\n",
            "[install-mecab-ipadic-NEologd] : Finish..\n",
            "[install-mecab-ipadic-NEologd] : Finish..\n"
          ],
          "name": "stdout"
        }
      ]
    },
    {
      "cell_type": "code",
      "metadata": {
        "id": "Ip1Nn4_emSqS",
        "colab_type": "code",
        "colab": {
          "base_uri": "https://localhost:8080/",
          "height": 289
        },
        "outputId": "8e1572a3-55db-4b06-d422-11680521b03f"
      },
      "source": [
        "!cat /etc/mecabrc"
      ],
      "execution_count": 6,
      "outputs": [
        {
          "output_type": "stream",
          "text": [
            ";\n",
            "; Configuration file of MeCab\n",
            ";\n",
            "; $Id: mecabrc.in,v 1.3 2006/05/29 15:36:08 taku-ku Exp $;\n",
            ";\n",
            "dicdir = /var/lib/mecab/dic/debian\n",
            "\n",
            "; userdic = /home/foo/bar/user.dic\n",
            "\n",
            "; output-format-type = wakati\n",
            "; input-buffer-size = 8192\n",
            "\n",
            "; node-format = %m\\n\n",
            "; bos-format = %S\\n\n",
            "; eos-format = EOS\\n\n",
            "\n"
          ],
          "name": "stdout"
        }
      ]
    },
    {
      "cell_type": "code",
      "metadata": {
        "id": "stypKZK-mSxm",
        "colab_type": "code",
        "colab": {}
      },
      "source": [
        "!sed -e \"s!/var/lib/mecab/dic/debian!/usr/lib/x86_64-linux-gnu/mecab/dic/mecab-ipadic-neologd!g\" /etc/mecabrc > /etc/mecabrc.new"
      ],
      "execution_count": 0,
      "outputs": []
    },
    {
      "cell_type": "code",
      "metadata": {
        "id": "Fcr24GlOmZdE",
        "colab_type": "code",
        "colab": {
          "base_uri": "https://localhost:8080/",
          "height": 289
        },
        "outputId": "9af1407a-d392-415a-c6dd-a7e555233d47"
      },
      "source": [
        "!cat /etc/mecabrc.new"
      ],
      "execution_count": 8,
      "outputs": [
        {
          "output_type": "stream",
          "text": [
            ";\n",
            "; Configuration file of MeCab\n",
            ";\n",
            "; $Id: mecabrc.in,v 1.3 2006/05/29 15:36:08 taku-ku Exp $;\n",
            ";\n",
            "dicdir = /usr/lib/x86_64-linux-gnu/mecab/dic/mecab-ipadic-neologd\n",
            "\n",
            "; userdic = /home/foo/bar/user.dic\n",
            "\n",
            "; output-format-type = wakati\n",
            "; input-buffer-size = 8192\n",
            "\n",
            "; node-format = %m\\n\n",
            "; bos-format = %S\\n\n",
            "; eos-format = EOS\\n\n",
            "\n"
          ],
          "name": "stdout"
        }
      ]
    },
    {
      "cell_type": "code",
      "metadata": {
        "id": "3YCN5yX2mc-n",
        "colab_type": "code",
        "colab": {}
      },
      "source": [
        "!cp /etc/mecabrc /etc/mecabrc.org"
      ],
      "execution_count": 0,
      "outputs": []
    },
    {
      "cell_type": "code",
      "metadata": {
        "id": "ic_PQJ8BmdDJ",
        "colab_type": "code",
        "colab": {}
      },
      "source": [
        "!cp /etc/mecabrc.new /etc/mecabrc"
      ],
      "execution_count": 0,
      "outputs": []
    },
    {
      "cell_type": "code",
      "metadata": {
        "id": "PDKl4KiXmdLC",
        "colab_type": "code",
        "colab": {
          "base_uri": "https://localhost:8080/",
          "height": 289
        },
        "outputId": "9a524aae-fecc-490c-cb63-609679a53b59"
      },
      "source": [
        "!cat /etc/mecabrc"
      ],
      "execution_count": 11,
      "outputs": [
        {
          "output_type": "stream",
          "text": [
            ";\n",
            "; Configuration file of MeCab\n",
            ";\n",
            "; $Id: mecabrc.in,v 1.3 2006/05/29 15:36:08 taku-ku Exp $;\n",
            ";\n",
            "dicdir = /usr/lib/x86_64-linux-gnu/mecab/dic/mecab-ipadic-neologd\n",
            "\n",
            "; userdic = /home/foo/bar/user.dic\n",
            "\n",
            "; output-format-type = wakati\n",
            "; input-buffer-size = 8192\n",
            "\n",
            "; node-format = %m\\n\n",
            "; bos-format = %S\\n\n",
            "; eos-format = EOS\\n\n",
            "\n"
          ],
          "name": "stdout"
        }
      ]
    },
    {
      "cell_type": "code",
      "metadata": {
        "id": "Rutgx7QjmdO9",
        "colab_type": "code",
        "colab": {
          "base_uri": "https://localhost:8080/",
          "height": 442
        },
        "outputId": "be06709d-34d9-46c8-a163-37cb072f7eb4"
      },
      "source": [
        "!apt-get -q -y install swig"
      ],
      "execution_count": 12,
      "outputs": [
        {
          "output_type": "stream",
          "text": [
            "Reading package lists...\n",
            "Building dependency tree...\n",
            "Reading state information...\n",
            "The following additional packages will be installed:\n",
            "  swig3.0\n",
            "Suggested packages:\n",
            "  swig-doc swig-examples swig3.0-examples swig3.0-doc\n",
            "The following NEW packages will be installed:\n",
            "  swig swig3.0\n",
            "0 upgraded, 2 newly installed, 0 to remove and 25 not upgraded.\n",
            "Need to get 1,100 kB of archives.\n",
            "After this operation, 5,822 kB of additional disk space will be used.\n",
            "Get:1 http://archive.ubuntu.com/ubuntu bionic/universe amd64 swig3.0 amd64 3.0.12-1 [1,094 kB]\n",
            "Get:2 http://archive.ubuntu.com/ubuntu bionic/universe amd64 swig amd64 3.0.12-1 [6,460 B]\n",
            "Fetched 1,100 kB in 0s (8,323 kB/s)\n",
            "Selecting previously unselected package swig3.0.\n",
            "(Reading database ... 144760 files and directories currently installed.)\n",
            "Preparing to unpack .../swig3.0_3.0.12-1_amd64.deb ...\n",
            "Unpacking swig3.0 (3.0.12-1) ...\n",
            "Selecting previously unselected package swig.\n",
            "Preparing to unpack .../swig_3.0.12-1_amd64.deb ...\n",
            "Unpacking swig (3.0.12-1) ...\n",
            "Setting up swig3.0 (3.0.12-1) ...\n",
            "Setting up swig (3.0.12-1) ...\n",
            "Processing triggers for man-db (2.8.3-2ubuntu0.1) ...\n"
          ],
          "name": "stdout"
        }
      ]
    },
    {
      "cell_type": "code",
      "metadata": {
        "id": "sQk8kGtvmdIZ",
        "colab_type": "code",
        "colab": {
          "base_uri": "https://localhost:8080/",
          "height": 122
        },
        "outputId": "73e3a9dc-6e84-4723-d47a-83069de4e6f1"
      },
      "source": [
        "!pip install mecab-python3"
      ],
      "execution_count": 13,
      "outputs": [
        {
          "output_type": "stream",
          "text": [
            "Collecting mecab-python3\n",
            "\u001b[?25l  Downloading https://files.pythonhosted.org/packages/18/49/b55a839a77189042960bf96490640c44816073f917d489acbc5d79fa5cc3/mecab_python3-0.996.5-cp36-cp36m-manylinux2010_x86_64.whl (17.1MB)\n",
            "\u001b[K     |████████████████████████████████| 17.1MB 204kB/s \n",
            "\u001b[?25hInstalling collected packages: mecab-python3\n",
            "Successfully installed mecab-python3-0.996.5\n"
          ],
          "name": "stdout"
        }
      ]
    },
    {
      "cell_type": "code",
      "metadata": {
        "id": "MfLXDByDmtkz",
        "colab_type": "code",
        "colab": {}
      },
      "source": [
        "def nouns_extract(line):\n",
        "    import re\n",
        "    import MeCab\n",
        "    keyword=[]\n",
        "    m = MeCab.Tagger(' -d  /usr/lib/x86_64-linux-gnu/mecab/dic/mecab-ipadic-neologd ')\n",
        "\n",
        "    for l in m.parse(line).splitlines():\n",
        "        if l != 'EOS' and l.split('\\t')[1].split(',')[0] == '名詞':\n",
        "            if l != 'EOS' and re.search('^一般$|^形容動詞語幹$|^サ変接続$|^副詞可能$|^固有名詞$' , l.split('\\t')[1].split(',')[1]):\n",
        "                keyword.append(l.split('\\t')[0])\n",
        "                \n",
        "    return keyword"
      ],
      "execution_count": 0,
      "outputs": []
    },
    {
      "cell_type": "code",
      "metadata": {
        "id": "Tmo8OgbLmtsI",
        "colab_type": "code",
        "colab": {}
      },
      "source": [
        ""
      ],
      "execution_count": 0,
      "outputs": []
    },
    {
      "cell_type": "code",
      "metadata": {
        "id": "wGuvnZJnpd6R",
        "colab_type": "code",
        "colab": {}
      },
      "source": [
        "train_x, test_x, train_y, test_y = train_test_split(raw_data[\"text\"], raw_data[\"designer_flag\"], test_size=0.3, random_state=123)"
      ],
      "execution_count": 0,
      "outputs": []
    },
    {
      "cell_type": "code",
      "metadata": {
        "id": "OdyhgT89tWNY",
        "colab_type": "code",
        "colab": {
          "base_uri": "https://localhost:8080/",
          "height": 221
        },
        "outputId": "233e1e5b-a834-4151-82ad-4e4048c431c1"
      },
      "source": [
        "train_x"
      ],
      "execution_count": 22,
      "outputs": [
        {
          "output_type": "execute_result",
          "data": {
            "text/plain": [
              "246     バストイレ別 バルコニー エアコン クロゼット フローリング 浴室乾燥機 オートロック シス...\n",
              "1402    バストイレ別 バルコニー エアコン ガスコンロ対応 クロゼット フローリング TVインターホ...\n",
              "1586    バストイレ別 バルコニー エアコン ガスコンロ対応 クロゼット フローリング TVインターホ...\n",
              "375     バストイレ別 バルコニー エアコン クロゼット フローリング 浴室乾燥機 オートロック 室内...\n",
              "1272    エアコン フローリング 室内洗濯置 シューズボックス 角住戸 光ファイバー 2面採光 最上階...\n",
              "                              ...                        \n",
              "1122    バストイレ別 バルコニー エアコン ガスコンロ対応 クロゼット フローリング TVインターホ...\n",
              "1346    バストイレ別 バルコニー エアコン ガスコンロ対応 クロゼット フローリング オートロック ...\n",
              "1406    バストイレ別 バルコニー エアコン ガスコンロ対応 フローリング シャワー付洗面台 オートロ...\n",
              "1389    バストイレ別 エアコン クロゼット フローリング シューズボックス 押入 光ファイバー 即入...\n",
              "1534    バルコニー エアコン クロゼット TVインターホン オートロック 陽当り良好 シューズボック...\n",
              "Name: text, Length: 1304, dtype: object"
            ]
          },
          "metadata": {
            "tags": []
          },
          "execution_count": 22
        }
      ]
    },
    {
      "cell_type": "code",
      "metadata": {
        "id": "pzpQ3y08tYEx",
        "colab_type": "code",
        "colab": {
          "base_uri": "https://localhost:8080/",
          "height": 221
        },
        "outputId": "7103203f-87c3-4880-95de-5fed00357cc0"
      },
      "source": [
        "train_y"
      ],
      "execution_count": 23,
      "outputs": [
        {
          "output_type": "execute_result",
          "data": {
            "text/plain": [
              "246     1\n",
              "1402    0\n",
              "1586    0\n",
              "375     1\n",
              "1272    0\n",
              "       ..\n",
              "1122    0\n",
              "1346    0\n",
              "1406    0\n",
              "1389    0\n",
              "1534    0\n",
              "Name: designer_flag, Length: 1304, dtype: int64"
            ]
          },
          "metadata": {
            "tags": []
          },
          "execution_count": 23
        }
      ]
    },
    {
      "cell_type": "code",
      "metadata": {
        "id": "WYbaaFa9i--J",
        "colab_type": "code",
        "colab": {}
      },
      "source": [
        "# 語彙に関するデータを作成するための処理\n",
        "\n",
        "maxlen = 0\n",
        "word_freqs = collections.Counter()\n",
        "num_recs = 0\n",
        "\n",
        "for sentence in list(train_x):\n",
        "  words = nouns_extract(sentence)\n",
        "  maxlen = max(maxlen, len(words)) # リストの最大値を取得\n",
        "  # 単語の出現頻度を集計\n",
        "  for word in words:\n",
        "    word_freqs[word] += 1\n",
        "  num_recs += 1"
      ],
      "execution_count": 0,
      "outputs": []
    },
    {
      "cell_type": "code",
      "metadata": {
        "id": "JSSUVM5AkFhR",
        "colab_type": "code",
        "outputId": "000da241-80f4-4bd8-c955-0d30341d0bd7",
        "colab": {
          "base_uri": "https://localhost:8080/",
          "height": 34
        }
      },
      "source": [
        "print(maxlen)"
      ],
      "execution_count": 25,
      "outputs": [
        {
          "output_type": "stream",
          "text": [
            "108\n"
          ],
          "name": "stdout"
        }
      ]
    },
    {
      "cell_type": "code",
      "metadata": {
        "id": "NxUaLYkdlbBN",
        "colab_type": "code",
        "outputId": "efdcdb9a-f11c-435d-dcf0-b5096cff0b82",
        "colab": {
          "base_uri": "https://localhost:8080/",
          "height": 34
        }
      },
      "source": [
        "print(len(word_freqs))"
      ],
      "execution_count": 26,
      "outputs": [
        {
          "output_type": "stream",
          "text": [
            "360\n"
          ],
          "name": "stdout"
        }
      ]
    },
    {
      "cell_type": "code",
      "metadata": {
        "id": "ZOYJiBp2TjLO",
        "colab_type": "code",
        "outputId": "4b37767b-3018-438c-c456-94e258c18d94",
        "colab": {
          "base_uri": "https://localhost:8080/",
          "height": 34
        }
      },
      "source": [
        "num_recs"
      ],
      "execution_count": 27,
      "outputs": [
        {
          "output_type": "execute_result",
          "data": {
            "text/plain": [
              "1304"
            ]
          },
          "metadata": {
            "tags": []
          },
          "execution_count": 27
        }
      ]
    },
    {
      "cell_type": "code",
      "metadata": {
        "id": "_CCRq4JkleVz",
        "colab_type": "code",
        "colab": {}
      },
      "source": [
        "# 語彙のなかから2000語を選ぶ\n",
        "MAX_FEATURES = 2000\n",
        "\n",
        "# 文の長さの最大値\n",
        "MAX_SENTENCE_LENGTH = 40\n",
        "\n",
        "# 語彙数\n",
        "vocab_size = min(MAX_FEATURES, len(word_freqs)) + 2"
      ],
      "execution_count": 0,
      "outputs": []
    },
    {
      "cell_type": "code",
      "metadata": {
        "id": "238iSxIam7Qr",
        "colab_type": "code",
        "outputId": "b3d504ee-9c50-49cc-e56a-37dfc8ef9c66",
        "colab": {
          "base_uri": "https://localhost:8080/",
          "height": 34
        }
      },
      "source": [
        "vocab_size"
      ],
      "execution_count": 18,
      "outputs": [
        {
          "output_type": "execute_result",
          "data": {
            "text/plain": [
              "363"
            ]
          },
          "metadata": {
            "tags": []
          },
          "execution_count": 18
        }
      ]
    },
    {
      "cell_type": "code",
      "metadata": {
        "id": "4FiB1yM5mSLC",
        "colab_type": "code",
        "colab": {}
      },
      "source": [
        "# 単語とそのインデックスからなるdict形式のデータ\n",
        "word2index = {x[0]: i+2 for i, x in enumerate(word_freqs.most_common(MAX_FEATURES))}\n",
        "\n",
        "# 0番目と1番目にパディング用(PAD)と擬似単語(UNK)を指定する\n",
        "# パディングとは系列の長さを揃えること。\n",
        "word2index['PAD'] = 0\n",
        "word2index['UNK'] = 1\n",
        "\n",
        "# インデックスとその単語からなるdict形式のデータ\n",
        "index2word = {v:k for k, v in word2index.items()}"
      ],
      "execution_count": 0,
      "outputs": []
    },
    {
      "cell_type": "code",
      "metadata": {
        "id": "eHSkWKeqTn4r",
        "colab_type": "code",
        "outputId": "41efd9c5-8799-4451-f0e7-b90b13ea15f8",
        "colab": {
          "base_uri": "https://localhost:8080/",
          "height": 34
        }
      },
      "source": [
        "np.empty((num_recs, ), dtype=list).shape"
      ],
      "execution_count": 20,
      "outputs": [
        {
          "output_type": "execute_result",
          "data": {
            "text/plain": [
              "(1304,)"
            ]
          },
          "metadata": {
            "tags": []
          },
          "execution_count": 20
        }
      ]
    },
    {
      "cell_type": "code",
      "metadata": {
        "id": "hbVEC7Xyq7nV",
        "colab_type": "code",
        "colab": {}
      },
      "source": [
        "# 空の変数を作成\n",
        "X = np.empty((num_recs, ), dtype=list)\n",
        "y = np.zeros((num_recs, ))\n",
        "i = 0\n",
        "\n",
        "train_x_list = list(train_x)\n",
        "train_y_list = list(train_y)\n",
        "\n",
        "for i in range(len(train_x_list)):\n",
        "  label = train_y_list[i]\n",
        "  words = nouns_extract(train_x_list[i])\n",
        "  # 特徴量用の空の変数\n",
        "  seqs = []\n",
        "  for word in words:\n",
        "    # 単語を照合してインデックスを取得\n",
        "    if word in word2index:\n",
        "      seqs.append(word2index[word])\n",
        "    else:\n",
        "      # 語彙に存在しない単語の場合はUNKのインデックスを付与する\n",
        "      seqs.append(word2index[\"UNK\"])\n",
        "  \n",
        "  X[i] = seqs\n",
        "  y[i] = int(label)\n",
        "  i += 1\n",
        "\n",
        "# パディングして、同じ長さに揃えてくれる関数\n",
        "X = sequence.pad_sequences(X, maxlen=MAX_SENTENCE_LENGTH)"
      ],
      "execution_count": 0,
      "outputs": []
    },
    {
      "cell_type": "code",
      "metadata": {
        "id": "VDF6WtQHtCB7",
        "colab_type": "code",
        "colab": {
          "base_uri": "https://localhost:8080/",
          "height": 136
        },
        "outputId": "0284eb5d-14f8-4ea6-9c75-ac55c2551292"
      },
      "source": [
        "X"
      ],
      "execution_count": 35,
      "outputs": [
        {
          "output_type": "execute_result",
          "data": {
            "text/plain": [
              "array([[  0,   0,   0, ...,  39,  20,  48],\n",
              "       [119,   3,  32, ...,  65,  66,  67],\n",
              "       [ 50,  70,  70, ...,  65,  66,  67],\n",
              "       ...,\n",
              "       [  0,   0,   0, ...,  23,   9,  28],\n",
              "       [  0,   0,   0, ...,  65,  66,  67],\n",
              "       [ 68,  29,  22, ...,  65,  66,  67]], dtype=int32)"
            ]
          },
          "metadata": {
            "tags": []
          },
          "execution_count": 35
        }
      ]
    },
    {
      "cell_type": "code",
      "metadata": {
        "id": "dnQMBjQ-sqRf",
        "colab_type": "code",
        "outputId": "8fc29193-df4b-41cc-94d3-b4908579f671",
        "colab": {
          "base_uri": "https://localhost:8080/",
          "height": 34
        }
      },
      "source": [
        "vocab_size"
      ],
      "execution_count": 36,
      "outputs": [
        {
          "output_type": "execute_result",
          "data": {
            "text/plain": [
              "362"
            ]
          },
          "metadata": {
            "tags": []
          },
          "execution_count": 36
        }
      ]
    },
    {
      "cell_type": "code",
      "metadata": {
        "id": "vbmAdKGvKD-J",
        "colab_type": "code",
        "colab": {}
      },
      "source": [
        "Xtrain, Xtest, ytrain, ytest = train_test_split(X, y, test_size=0.2, random_state=42)"
      ],
      "execution_count": 0,
      "outputs": []
    },
    {
      "cell_type": "code",
      "metadata": {
        "id": "dnyvoNA6xH8e",
        "colab_type": "code",
        "colab": {}
      },
      "source": [
        "import tensorflow as tf\n",
        "from sklearn.metrics import roc_auc_score\n",
        "from keras.callbacks import Callback, EarlyStopping\n",
        "\n",
        "\n",
        "# define roc_callback, inspired by https://github.com/keras-team/keras/issues/6050#issuecomment-329996505\n",
        "def auc_roc(y_true, y_pred):\n",
        "    # any tensorflow metric\n",
        "    value, update_op = tf.contrib.metrics.streaming_auc(y_pred, y_true)\n",
        "\n",
        "    # find all variables created for this metric\n",
        "    metric_vars = [i for i in tf.local_variables() if 'auc_roc' in i.name.split('/')[1]]\n",
        "\n",
        "    # Add metric variables to GLOBAL_VARIABLES collection.\n",
        "    # They will be initialized for new session.\n",
        "    for v in metric_vars:\n",
        "        tf.add_to_collection(tf.GraphKeys.GLOBAL_VARIABLES, v)\n",
        "\n",
        "    # force to update metric values\n",
        "    with tf.control_dependencies([update_op]):\n",
        "        value = tf.identity(value)\n",
        "        return value"
      ],
      "execution_count": 0,
      "outputs": []
    },
    {
      "cell_type": "code",
      "metadata": {
        "id": "I8-QTUl9KQFK",
        "colab_type": "code",
        "colab": {}
      },
      "source": [
        "# 分散表現層の次元\n",
        "EMBEDDING_SIZE = 128\n",
        "# 隠れ層の数\n",
        "HIDDEN_LAYER_SIZE = 64\n",
        "# バッチサイズ\n",
        "BATCH_SIZE = 32\n",
        "# エポックの数\n",
        "NUM_EPOCHS = 10\n",
        "\n",
        "model = Sequential()\n",
        "# 分散表現の層\n",
        "model.add(Embedding(vocab_size, EMBEDDING_SIZE, input_length=MAX_SENTENCE_LENGTH))\n",
        "# Bidirectional LSTMの層\n",
        "model.add(Bidirectional(LSTM(HIDDEN_LAYER_SIZE )))\n",
        "# ドロップアウト層\n",
        "model.add(Dropout(0.5))\n",
        "# 活性化層\n",
        "model.add(Dense(1, activation='sigmoid'))\n",
        "# モデルのコンパイル\n",
        "model.compile(loss=\"binary_crossentropy\", optimizer=\"adam\", metrics=[\"accuracy\", auc_roc])"
      ],
      "execution_count": 0,
      "outputs": []
    },
    {
      "cell_type": "code",
      "metadata": {
        "id": "hgbGgzWML9zp",
        "colab_type": "code",
        "outputId": "116f7d14-1cf8-4c94-b4b1-0570674c9895",
        "colab": {
          "base_uri": "https://localhost:8080/",
          "height": 394
        }
      },
      "source": [
        "my_callbacks = [EarlyStopping(monitor='auc_roc', patience=300, verbose=1, mode='max')]\n",
        "\n",
        "# ネットワークの学習\n",
        "history = model.fit(Xtrain, ytrain, batch_size=BATCH_SIZE,\n",
        "                    epochs=NUM_EPOCHS,\n",
        "                    callbacks=my_callbacks,\n",
        "                    validation_data=(Xtest, ytest))"
      ],
      "execution_count": 40,
      "outputs": [
        {
          "output_type": "stream",
          "text": [
            "Train on 1043 samples, validate on 261 samples\n",
            "Epoch 1/10\n",
            "1043/1043 [==============================] - 8s 7ms/step - loss: 0.5156 - acc: 0.8140 - auc_roc: 0.5284 - val_loss: 0.4298 - val_acc: 0.8391 - val_auc_roc: 0.5793\n",
            "Epoch 2/10\n",
            "1043/1043 [==============================] - 5s 5ms/step - loss: 0.3924 - acc: 0.8293 - auc_roc: 0.6271 - val_loss: 0.4221 - val_acc: 0.8506 - val_auc_roc: 0.6631\n",
            "Epoch 3/10\n",
            "1043/1043 [==============================] - 5s 5ms/step - loss: 0.3646 - acc: 0.8514 - auc_roc: 0.6898 - val_loss: 0.4020 - val_acc: 0.8467 - val_auc_roc: 0.7089\n",
            "Epoch 4/10\n",
            "1043/1043 [==============================] - 6s 6ms/step - loss: 0.3275 - acc: 0.8696 - auc_roc: 0.7296 - val_loss: 0.4086 - val_acc: 0.8314 - val_auc_roc: 0.7453\n",
            "Epoch 5/10\n",
            "1043/1043 [==============================] - 6s 5ms/step - loss: 0.2959 - acc: 0.8878 - auc_roc: 0.7614 - val_loss: 0.3821 - val_acc: 0.8582 - val_auc_roc: 0.7736\n",
            "Epoch 6/10\n",
            "1043/1043 [==============================] - 6s 5ms/step - loss: 0.2779 - acc: 0.8936 - auc_roc: 0.7825 - val_loss: 0.3967 - val_acc: 0.8161 - val_auc_roc: 0.7936\n",
            "Epoch 7/10\n",
            "1043/1043 [==============================] - 6s 6ms/step - loss: 0.2455 - acc: 0.9022 - auc_roc: 0.8035 - val_loss: 0.4491 - val_acc: 0.8544 - val_auc_roc: 0.8107\n",
            "Epoch 8/10\n",
            "1043/1043 [==============================] - 6s 5ms/step - loss: 0.2552 - acc: 0.9022 - auc_roc: 0.8169 - val_loss: 0.3849 - val_acc: 0.8352 - val_auc_roc: 0.8225\n",
            "Epoch 9/10\n",
            "1043/1043 [==============================] - 6s 5ms/step - loss: 0.2179 - acc: 0.9156 - auc_roc: 0.8279 - val_loss: 0.4774 - val_acc: 0.8123 - val_auc_roc: 0.8352\n",
            "Epoch 10/10\n",
            "1043/1043 [==============================] - 6s 6ms/step - loss: 0.2071 - acc: 0.9166 - auc_roc: 0.8402 - val_loss: 0.4442 - val_acc: 0.8238 - val_auc_roc: 0.8454\n"
          ],
          "name": "stdout"
        }
      ]
    },
    {
      "cell_type": "code",
      "metadata": {
        "id": "bxdty5e5Mq3W",
        "colab_type": "code",
        "colab": {}
      },
      "source": [
        "# %load_ext tensorboard"
      ],
      "execution_count": 0,
      "outputs": []
    },
    {
      "cell_type": "code",
      "metadata": {
        "id": "Hj9zEJsiNXgY",
        "colab_type": "code",
        "colab": {}
      },
      "source": [
        "# %tensorboard --logdir='drive/Colab Notebooks/NLP/logs'"
      ],
      "execution_count": 0,
      "outputs": []
    },
    {
      "cell_type": "code",
      "metadata": {
        "id": "pUwZnT-vNoYY",
        "colab_type": "code",
        "outputId": "207ebc9e-69fa-4be5-ba25-b272955f83ce",
        "colab": {
          "base_uri": "https://localhost:8080/",
          "height": 411
        }
      },
      "source": [
        "# testデータでの予測\n",
        "score, acc, auc = model.evaluate(Xtest, ytest, batch_size=BATCH_SIZE)\n",
        "print(\"Test score: {:.3f}, accuracy: {:.3f}, auc: {:.3f}\".format(score, acc, auc))\n",
        "\n",
        "for i in range(20):\n",
        "  idx = np.random.randint(len(Xtest))\n",
        "  xtest = Xtest[idx].reshape(1, 40)\n",
        "  ylabel = ytest[idx]\n",
        "  ypred = model.predict(xtest)[0][0]\n",
        "  sent = \" \".join([index2word[x] for x in xtest[0].tolist() if x != 0 ])\n",
        "  print(\"{:.0f}\\t{:.0f}\\t{}\".format(ypred, ylabel, sent))"
      ],
      "execution_count": 41,
      "outputs": [
        {
          "output_type": "stream",
          "text": [
            "261/261 [==============================] - 0s 2ms/step\n",
            "Test score: 0.444, accuracy: 0.824, auc: 0.844\n",
            "0\t0\tバルコニー エアコン クロゼット フローリング 室内 洗濯 置 シューズボックス システムキッチン 住戸 外壁 タイル 入居 ガスレンジ 都市ガス\n",
            "0\t0\tウォークインクロゼット 保証 不要 敷金 バイク 置場 ネット 専用 回線 トランクルーム 事務所 相談 楽器 相談 トイレ ルームシェア 相談 利用 沿線 利用 徒歩 10分 専有 面積 平面 駐車場 LDK 居室 都市ガス 高速 ネット 対応 礼金 保証 会社 利用 初期 費用 カード 決済\n",
            "0\t0\tバス トイレ エアコン ガスコンロ 対応 クロゼット フローリング 室内 洗濯 置 シューズボックス システムキッチン 脱衣所 入居 礼金 不要 最上階 敷金 ガスレンジ ダブル ロック キー 上 都市ガス\n",
            "0\t0\t室内 洗濯 置 焚 機能 浴室 住戸 脱衣所 洗面所 独立 駐輪場 光ファイバー 入居 ペット 相談 敷金 居室 フローリング 採光 収納 内装 リフォーム 済 事務所 相談 ルームシェア 相談 利用 沿線 利用 徒歩 5分 東南 都市ガス 玄関 収納 礼金 保証 会社 利用\n",
            "0\t0\t居室 フローリング 採光 沿線 利用 内装 リフォーム 済 眺望 良好 事務所 相談 24時間 換気 システム 南面 リビング 外装 リフォーム 済 利用 利用 沿線 利用 徒歩 10分 敷地内 ごみ 置き場 都市ガス BS 保証 会社 利用 初期 費用 カード 決済 通風 良好\n",
            "0\t0\tTV インターホン 浴室 乾燥機 オートロック 室内 洗濯 置 システムキッチン 住戸 エレベーター 洗面所 独立 コンロ 宅配ボックス 光ファイバー 外壁 タイル BS CS 防犯カメラ 保証 不要 敷金 保証金 不要 プール 利用 沿線 利用 徒歩 10分 24時間 ゴミ 敷地内 ごみ 置き場 5年 都市ガス 礼金\n",
            "0\t0\tバルコニー エアコン クロゼット フローリング 室内 洗濯 置 シューズボックス システムキッチン 住戸 外壁 タイル 入居 ガスレンジ 都市ガス\n",
            "0\t1\tバス トイレ バルコニー エアコン クロゼット フローリング TV インターホン 浴室 乾燥機 オートロック 室内 洗濯 置 シューズボックス システムキッチン 温水洗浄便座 エレベーター 洗面所 独立 コンロ 駐輪場 礼金 不要 バイク 置場 ガスレンジ ネット 専用 回線 利用 沿線 利用 徒歩 10分 都市ガス BS\n",
            "1\t1\tシステム 居室 フローリング ディンプルキー ダブル ロック キー 24時間 換気 システム フロント サービス 耐火構造 耐震 構造 利用 沿線 利用 徒歩 5分 24時間 ゴミ 敷地内 ごみ 置き場 セキュリティ 会社 加入 済 間接照明 LAN 保証 会社 利用 初期 費用 カード 決済 通風 良好\n",
            "0\t0\tバス トイレ バルコニー フローリング TV インターホン 浴室 乾燥機 オートロック 室内 洗濯 置 システムキッチン 住戸 エレベーター 洗面所 独立 CATV 入居 防犯カメラ グリル 居室 洋室 仲 エアコン 納戸 徒歩 10分 専有 面積 南西\n",
            "0\t0\tエアコン ガスコンロ 対応 クロゼット フローリング シャワー 洗面 TV インターホン 浴室 乾燥機 室内 洗濯 置 シューズボックス 温水洗浄便座 脱衣所 洗面所 独立 駐輪場 CATV 保証 不要 CATV インターネット 平坦 保証 不要 始発駅 利用 沿線 利用 徒歩 10分 バス停 徒歩 3分 南西 都市ガス BS\n",
            "0\t1\t住戸 浴室 窓 24時間 換気 システム クロゼット ルームシェア 相談 南面 リビング 学生 相談 一部 フローリング 利用 沿線 利用 徒歩 5分 駅 徒歩 10分 24時間 ゴミ 敷地内 ごみ 置き場 都市ガス 洗面所 ドア 南面 バルコニー BS 初期 費用 カード 決済 通風 良好\n",
            "0\t0\t対面 キッチン IH クッキング ヒーター グリル ウォークインクロゼット 保証 不要 敷金 二人 入居 相談 ネット 使用 不要 テラス 保証 不要 3年 南面 リビング 浴室 利用 沿線 利用 バス停 徒歩 3分 敷地内 ごみ 置き場 LDK 都市ガス 南面 バルコニー 天井 シューズ クロゼット 礼金\n",
            "0\t0\tバス トイレ バルコニー エアコン フローリング 室内 洗濯 置 シューズボックス 焚 機能 浴室 駐輪場 宅配ボックス 入居 礼金 不要 敷金 不要 IH クッキング ヒーター エレベーター 2基 利用 沿線 利用 徒歩 5分 都市ガス\n",
            "1\t1\tコンロ 宅配ボックス 光ファイバー 外壁 タイル BS CS 防犯カメラ 照明 保証人 不要 敷金 沿線 利用 ディンプルキー 洗濯機 耐火構造 始発駅 沿線 利用 徒歩 10分 24時間 ゴミ 敷地内 ごみ 置き場 居室 都市ガス 高速 ネット 対応 礼金 保証 会社 利用 初期 費用 カード 決済\n",
            "0\t0\tバルコニー エアコン クロゼット フローリング シューズボックス 住戸 エレベーター 入居 防犯カメラ 分譲 賃貸 仲 眺望 良好 保証 不要 利用 沿線 利用 徒歩 5分 敷地内 ごみ 置き場 日勤 管理 敷金 礼金 不要 通風 良好\n",
            "1\t1\t24時間 換気 システム 南面 リビング 一部 フローリング ISDN 対応 耐火構造 耐震 構造 利用 徒歩 5分 バス停 徒歩 3分 制震 構造 高層 24時間 ゴミ 敷地内 ごみ 置き場 都市ガス 南面 バルコニー 玄関 収納 BS 高速 ネット 対応 LAN 初期 費用 カード 決済\n",
            "0\t0\tバイク 置場 南西 住戸 ガスレンジ ディンプルキー 内装 リフォーム 済 眺望 良好 照明 センサー 利用 沿線 利用 徒歩 10分 24時間 ゴミ 敷地内 ごみ 置き場 南西 当社 管理 物件 都市ガス 洗面所 ドア 南面 バルコニー 室内 物干 礼金 保証 会社 利用 通風 良好\n",
            "0\t0\t駅 平坦 ネット 使用 不要 ダブル ロック キー 保証 不要 2年 24時間 換気 システム 複層ガラス 照明 センサー 利用 徒歩 10分 外壁 サイディング 24時間 ゴミ 敷地内 ごみ 置き場 南西 都市ガス 玄関 収納 年内 入居 年度内 入居 礼金 初期 費用 カード 決済\n",
            "0\t1\tフローリング TV インターホン 浴室 乾燥機 オートロック 室内 洗濯 置 陽 良好 シューズボックス システムキッチン 焚 機能 浴室 住戸 エレベーター 洗面化粧台 コンロ 駐輪場 宅配ボックス CATV 光ファイバー BS CS 対面 キッチン 沿線 利用 楽器 相談 ウッドデッキ 利用 徒歩 10分 東南 LDK 居室 都市ガス\n"
          ],
          "name": "stdout"
        }
      ]
    },
    {
      "cell_type": "markdown",
      "metadata": {
        "id": "c2V65jXpOVCN",
        "colab_type": "text"
      },
      "source": [
        "## LSTMバージョン"
      ]
    },
    {
      "cell_type": "code",
      "metadata": {
        "id": "Wl0G0MVkuU24",
        "colab_type": "code",
        "colab": {
          "base_uri": "https://localhost:8080/",
          "height": 394
        },
        "outputId": "84db86af-20f3-4c7f-e821-82ae2ee17ca0"
      },
      "source": [
        "# 分散表現層の次元\n",
        "EMBEDDING_SIZE = 128\n",
        "# 隠れ層の数\n",
        "HIDDEN_LAYER_SIZE = 64\n",
        "# バッチサイズ\n",
        "BATCH_SIZE = 32\n",
        "# エポックの数\n",
        "NUM_EPOCHS = 10\n",
        "\n",
        "model = Sequential()\n",
        "# 分散表現の層\n",
        "model.add(Embedding(vocab_size, EMBEDDING_SIZE, input_length=MAX_SENTENCE_LENGTH))\n",
        "# LSTMの層\n",
        "model.add(LSTM(HIDDEN_LAYER_SIZE ))\n",
        "# ドロップアウト層\n",
        "model.add(Dropout(0.5))\n",
        "# 活性化層\n",
        "model.add(Dense(1, activation='sigmoid'))\n",
        "# モデルのコンパイル\n",
        "model.compile(loss=\"binary_crossentropy\", optimizer=\"adam\", metrics=[\"accuracy\", auc_roc])\n",
        "\n",
        "my_callbacks = [EarlyStopping(monitor='auc_roc', patience=300, verbose=1, mode='max')]\n",
        "\n",
        "# ネットワークの学習\n",
        "history = model.fit(Xtrain, ytrain, batch_size=BATCH_SIZE,\n",
        "                    epochs=NUM_EPOCHS,\n",
        "                    callbacks=my_callbacks,\n",
        "                    validation_data=(Xtest, ytest))"
      ],
      "execution_count": 42,
      "outputs": [
        {
          "output_type": "stream",
          "text": [
            "Train on 1043 samples, validate on 261 samples\n",
            "Epoch 1/10\n",
            "1043/1043 [==============================] - 4s 4ms/step - loss: 0.5176 - acc: 0.8054 - auc_roc: 0.5189 - val_loss: 0.4234 - val_acc: 0.8391 - val_auc_roc: 0.5769\n",
            "Epoch 2/10\n",
            "1043/1043 [==============================] - 3s 3ms/step - loss: 0.4104 - acc: 0.8274 - auc_roc: 0.6131 - val_loss: 0.4003 - val_acc: 0.8391 - val_auc_roc: 0.6456\n",
            "Epoch 3/10\n",
            "1043/1043 [==============================] - 2s 2ms/step - loss: 0.3661 - acc: 0.8476 - auc_roc: 0.6813 - val_loss: 0.3930 - val_acc: 0.8314 - val_auc_roc: 0.7060\n",
            "Epoch 4/10\n",
            "1043/1043 [==============================] - 3s 3ms/step - loss: 0.3255 - acc: 0.8600 - auc_roc: 0.7264 - val_loss: 0.3928 - val_acc: 0.8467 - val_auc_roc: 0.7457\n",
            "Epoch 5/10\n",
            "1043/1043 [==============================] - 2s 2ms/step - loss: 0.2985 - acc: 0.8830 - auc_roc: 0.7620 - val_loss: 0.3971 - val_acc: 0.8352 - val_auc_roc: 0.7745\n",
            "Epoch 6/10\n",
            "1043/1043 [==============================] - 3s 3ms/step - loss: 0.2780 - acc: 0.8897 - auc_roc: 0.7860 - val_loss: 0.4118 - val_acc: 0.8238 - val_auc_roc: 0.7956\n",
            "Epoch 7/10\n",
            "1043/1043 [==============================] - 2s 2ms/step - loss: 0.2613 - acc: 0.8849 - auc_roc: 0.8045 - val_loss: 0.4266 - val_acc: 0.8161 - val_auc_roc: 0.8119\n",
            "Epoch 8/10\n",
            "1043/1043 [==============================] - 2s 2ms/step - loss: 0.2513 - acc: 0.8936 - auc_roc: 0.8189 - val_loss: 0.4263 - val_acc: 0.8314 - val_auc_roc: 0.8244\n",
            "Epoch 9/10\n",
            "1043/1043 [==============================] - 3s 3ms/step - loss: 0.2368 - acc: 0.9070 - auc_roc: 0.8302 - val_loss: 0.4161 - val_acc: 0.8391 - val_auc_roc: 0.8354\n",
            "Epoch 10/10\n",
            "1043/1043 [==============================] - 2s 2ms/step - loss: 0.2450 - acc: 0.8984 - auc_roc: 0.8388 - val_loss: 0.4447 - val_acc: 0.8391 - val_auc_roc: 0.8428\n"
          ],
          "name": "stdout"
        }
      ]
    },
    {
      "cell_type": "code",
      "metadata": {
        "id": "N0K5PXZOJJkk",
        "colab_type": "code",
        "colab": {
          "base_uri": "https://localhost:8080/",
          "height": 411
        },
        "outputId": "50121519-4c8d-48d4-8822-907a9cd25f98"
      },
      "source": [
        "# testデータでの予測\n",
        "score, acc, auc = model.evaluate(Xtest, ytest, batch_size=BATCH_SIZE)\n",
        "print(\"Test score: {:.3f}, accuracy: {:.3f}, auc: {:.3f}\".format(score, acc, auc))\n",
        "\n",
        "for i in range(20):\n",
        "  idx = np.random.randint(len(Xtest))\n",
        "  xtest = Xtest[idx].reshape(1, 40)\n",
        "  ylabel = ytest[idx]\n",
        "  ypred = model.predict(xtest)[0][0]\n",
        "  sent = \" \".join([index2word[x] for x in xtest[0].tolist() if x != 0 ])\n",
        "  print(\"{:.0f}\\t{:.0f}\\t{}\".format(ypred, ylabel, sent))"
      ],
      "execution_count": 43,
      "outputs": [
        {
          "output_type": "stream",
          "text": [
            "261/261 [==============================] - 0s 1ms/step\n",
            "Test score: 0.445, accuracy: 0.839, auc: 0.841\n",
            "0\t1\t洗濯機 エアコン 室 24時間 換気 システム 電子レンジ 学生 相談 ベッド 家電 家具付 耐火構造 耐震 構造 カーテン 利用 沿線 利用 徒歩 10分 高層 24時間 ゴミ 敷地内 ごみ 置き場 都市ガス 洗面所 ドア 玄関 収納 高速 ネット 対応 礼金 テレビ ダイニング テーブル デスク\n",
            "0\t0\tシャワー 洗面 TV インターホン 浴室 乾燥機 室内 洗濯 置 シューズボックス システムキッチン 住戸 脱衣所 洗面所 独立 採光 IH クッキング ヒーター 照明 保証人 不要 敷金 沿線 利用 住戸 利用 利用 沿線 利用 徒歩 5分 駅 徒歩 10分 東南 都市ガス 洗面所 ドア 礼金\n",
            "1\t0\t防犯カメラ ペット 相談 IH クッキング ヒーター 仲介手数料 不要 敷金 二人 入居 相談 居室 フローリング CS 保証 不要 浴室 窓 事務所 相談 照明 センサー 利用 沿線 利用 徒歩 5分 駅 徒歩 10分 24時間 ゴミ 敷地内 ごみ 置き場 BS 保証 会社 利用\n",
            "0\t0\tタイル 入居 敷金 不要 防犯カメラ 分譲 賃貸 沿線 利用 ネット 専用 回線 平坦 保証 不要 利用 徒歩 5分 駅 徒歩 10分 タワー マンション 24時間 ゴミ 敷地内 ごみ 置き場 都市ガス BS 高速 ネット 対応 年内 入居 礼金 初期 費用 カード 決済\n",
            "0\t0\tオートロック 室内 洗濯 置 シューズボックス システムキッチン 南 駐輪場 CATV 光ファイバー 閑静 住宅地 敷金 24時間 緊急通報 システム 沿線 利用 クッション フロア 平坦 床下 収納 保証 不要 利用 徒歩 10分 敷地内 ごみ 置き場 当社 管理 物件 都市ガス 年度内 入居 礼金 全 照明\n",
            "0\t0\t換気 システム 高温 湯 楽器 相談 LDK エアコン トイレ クロゼット 南面 リビング バルコニー 両面 バルコニー 玄関 ポーチ エアコン 利用 利用 沿線 利用 徒歩 10分 平面 駐車場 2階 LDK 居室 都市ガス 南面 バルコニー 礼金 保証 会社 利用 初期 費用 カード 決済\n",
            "0\t0\tエアコン クロゼット フローリング TV インターホン 室内 洗濯 置 シューズボックス システムキッチン 焚 機能 浴室 住戸 温水洗浄便座 エレベーター 洗面所 独立 コンロ 駐輪場 宅配ボックス CATV 光ファイバー 防犯カメラ 独立 キッチン 利用 徒歩 10分 敷地内 ごみ 置き場 平面 駐車場 都市ガス BS リノベーション 保証 会社 利用\n",
            "0\t0\tシステムキッチン 焚 機能 浴室 温水洗浄便座 脱衣所 エレベーター 洗面所 独立 コンロ 駐輪場 宅配ボックス 押入 CATV 光ファイバー 入居 BS CS 防犯カメラ グリル 仲介手数料 不要 敷金 ガスレンジ 玄関 ホール 眺望 良好 保証 不要 楽器 相談 徒歩 10分 敷地内 ごみ 置き場 LDK 都市ガス 礼金\n",
            "1\t1\tリビング ISDN 対応 有線放送 利用 沿線 利用 徒歩 5分 24時間 ゴミ 敷地内 ごみ 置き場 5年 セキュリティ 会社 加入 済 居室 都市ガス 南面 バルコニー BS 高速 ネット 対応 LAN 礼金 保証 会社 利用 初期 費用 カード 決済 室 照明 通風 良好\n",
            "0\t0\t南 エレベーター CATV 外壁 タイル BS CS 防犯カメラ IH クッキング ヒーター 分譲 賃貸 保証 不要 居室 フローリング CS 内装 リフォーム 済 耐震 構造 利用 沿線 利用 徒歩 10分 バス停 徒歩 3分 24時間 ゴミ 敷地内 ごみ 置き場 日勤 管理 都市ガス BS\n",
            "0\t0\tネット 使用 不要 内装 リフォーム 済 緑 豊か 住宅地 床下 収納 ダブル ロック キー 平坦 電子 ロック 利用 バス停 徒歩 3分 外壁 サイディング 敷地内 ごみ 置き場 都市ガス 南面 バルコニー 室内 物干 高速 ネット 対応 礼金 保証 会社 利用 通風 良好\n",
            "0\t0\t乾燥機 楽器 相談 フロント サービス 納戸 南面 リビング エレベーター 2基 耐火構造 耐震 構造 始発駅 沿線 利用 徒歩 10分 24時間 ゴミ 敷地内 ごみ 置き場 専有 面積 地下 車庫 平面 駐車場 駐車場 日勤 管理 LDK 居室 都市ガス BS リノベーション 保証 会社 利用\n",
            "0\t0\t不要 眺望 良好 エアコン 室 保証 不要 24時間 換気 システム 利用 利用 沿線 利用 徒歩 10分 高層 風除室 敷地内 ごみ 置き場 南西 都市ガス 南面 バルコニー 玄関 収納 BS 年内 入居 礼金 保証 会社 利用 初期 費用 カード 決済 通風 良好\n",
            "0\t0\t不要 24時間 換気 システム 階段 外壁 コンクリート 平坦 防犯 ガラス 利用 沿線 利用 防犯 強化 地域 徒歩 10分 高層 24時間 ゴミ 敷地内 ごみ 置き場 都市ガス 玄関 収納 高速 ネット 対応 礼金 保証 会社 利用 初期 費用 カード 決済 通風 良好\n",
            "0\t0\tバルコニー クロゼット フローリング シューズボックス システムキッチン 南 温水洗浄便座 礼金 不要 沿線 利用 ネット 専用 回線 事務所 相談 利用 徒歩 10分 都市ガス\n",
            "0\t0\tエアコン ガスコンロ 対応 クロゼット フローリング オートロック 室内 洗濯 置 シューズボックス システムキッチン エレベーター 洗面所 独立 コンロ 宅配ボックス 外壁 タイル 分譲 賃貸 保証 不要 敷金 沿線 利用 ネット 専用 回線 利用 徒歩 10分 都市ガス 高速 ネット 対応 礼金 初期 費用 カード 決済\n",
            "0\t0\tバルコニー エアコン フローリング エレベーター 駐輪場 CATV 光ファイバー 外壁 タイル 分譲 賃貸 保証 不要 24時間 緊急通報 システム 事務所 相談 敷地内 ごみ 置き場 都市ガス BS 高速 ネット 対応\n",
            "0\t0\tバス トイレ バルコニー フローリング TV インターホン 浴室 乾燥機 オートロック 室内 洗濯 置 システムキッチン 住戸 エレベーター 洗面所 独立 CATV 入居 防犯カメラ グリル 居室 洋室 仲 エアコン 納戸 徒歩 10分 専有 面積 南西\n",
            "0\t0\tクッキング ヒーター 居室 収納 24時間 有人 管理 グリル 仲介手数料 不要 敷金 オール電化 居室 フローリング 物置 眺望 良好 エアコン 室 クロゼット 利用 沿線 利用 徒歩 5分 24時間 ゴミ 敷地内 ごみ 置き場 都市ガス 洗面所 ドア BS 高速 ネット 対応 保証 会社 利用\n",
            "0\t0\tバルコニー エアコン クロゼット オートロック 室内 洗濯 置 システムキッチン 南 脱衣所 CATV 外壁 タイル コンロ ペット 相談 保証 不要 敷金 ネット 専用 回線 利用 沿線 利用 徒歩 10分 都市ガス BS 高速 ネット 対応 礼金 保証 会社 利用 初期 費用 カード 決済\n"
          ],
          "name": "stdout"
        }
      ]
    },
    {
      "cell_type": "code",
      "metadata": {
        "id": "HEjyxplRJTXL",
        "colab_type": "code",
        "colab": {}
      },
      "source": [
        ""
      ],
      "execution_count": 0,
      "outputs": []
    }
  ]
}